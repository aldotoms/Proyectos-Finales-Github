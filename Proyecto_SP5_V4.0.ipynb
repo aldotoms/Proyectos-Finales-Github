{
 "cells": [
  {
   "cell_type": "markdown",
   "metadata": {},
   "source": [
    "¡Hola, Tom!\n",
    "\n",
    "Mi nombre es Tonatiuh Cruz. Me complace revisar tu proyecto hoy.\n",
    "\n",
    "Al identificar cualquier error inicialmente, simplemente los destacaré. Te animo a localizar y abordar los problemas de forma independiente como parte de tu preparación para un rol como data-scientist. En un entorno profesional, tu líder de equipo seguiría un enfoque similar. Si encuentras la tarea desafiante, proporcionaré una pista más específica en la próxima iteración.\n",
    "\n",
    "Encontrarás mis comentarios a continuación - **por favor no los muevas, modifiques o elimines**.\n",
    "\n",
    "Puedes encontrar mis comentarios en cajas verdes, amarillas o rojas como esta:\n",
    "\n",
    "<div class=\"alert alert-block alert-success\">\n",
    "<b>Comentario del revisor</b> <a class=\"tocSkip\"></a>\n",
    "\n",
    "Éxito. Todo está hecho correctamente.\n",
    "</div>\n",
    "\n",
    "<div class=\"alert alert-block alert-warning\">\n",
    "<b>Comentario del revisor</b> <a class=\"tocSkip\"></a>\n",
    "\n",
    "Observaciones. Algunas recomendaciones.\n",
    "</div>\n",
    "\n",
    "<div class=\"alert alert-block alert-danger\">\n",
    "<b>Comentario del revisor</b> <a class=\"tocSkip\"></a>\n",
    "\n",
    "Necesita corrección. El bloque requiere algunas correcciones. El trabajo no puede ser aceptado con comentarios en rojo.\n",
    "</div>\n",
    "\n",
    "Puedes responderme utilizando esto:\n",
    "\n",
    "<div class=\"alert alert-block alert-info\">\n",
    "<b>Respuesta del estudiante</b> <a class=“tocSkip”></a>\n",
    "</div>"
   ]
  },
  {
   "cell_type": "markdown",
   "metadata": {},
   "source": [
    "<div class=\"alert alert-block alert-success\">\n",
    "<b>Resumen de la revisión 1</b> <a class=\"tocSkip\"></a>\n",
    "\n",
    "Hola Tom! Has hecho un excelente trabajo con el proyecto, cada vez más cercas de convertirte en un cientifica de datos. Realizaste la carga de bases, su análisis inicial, sus ajustes, un análisis de algunos variables conmplementado con gráficas y el desarrollo de las pruebas d ehipótesis. Solamente te dejo algunos comentarios para complementar el análisis. \n",
    "\n",
    "Sigue con el excelente trabajo!\n",
    "</div>"
   ]
  },
  {
   "cell_type": "markdown",
   "metadata": {},
   "source": [
    "<div class=\"alert alert-block alert-info\">\n",
    "<b>Respuesta del estudiante, Iteración 1</b> <a class=“tocSkip”></a>\n",
    "\n",
    "Hola Tionatiuh, muchas gracias por todos los comentarios, ya los he revisado y he seguido tus consejos al pié de la letra, me han ayudado a mejorar significativamente este proyecto del Sprint 5.\n",
    "</div>"
   ]
  },
  {
   "cell_type": "markdown",
   "metadata": {
    "id": "3rYiDeEH0q0f"
   },
   "source": [
    "# 1 ¿Cuál es la mejor tarifa?\n",
    "\n",
    "Trabajas como analista para el operador de telecomunicaciones Megaline. La empresa ofrece a sus clientes dos tarifas de prepago, Surf y Ultimate. El departamento comercial quiere saber cuál de las tarifas genera más ingresos para poder ajustar el presupuesto de publicidad.\n",
    "\n",
    "Vas a realizar un análisis preliminar de las tarifas basado en una selección de clientes relativamente pequeña. Tendrás los datos de 500 clientes de Megaline: quiénes son los clientes, de dónde son, qué tarifa usan, así como la cantidad de llamadas que hicieron y los mensajes de texto que enviaron en 2018. Tu trabajo es analizar el comportamiento de los clientes y determinar qué tarifa de prepago genera más ingresos."
   ]
  },
  {
   "cell_type": "markdown",
   "metadata": {},
   "source": [
    "# Contenido <a id='back'></a>\n",
    "\n",
    "* [Introducción](#intro)\n",
    "    * [Descripción de los datos](#data_review)\n",
    "    * [Diccionario de datos](#dictionary)\n",
    "    * [Plan de solucion](#plan)\n",
    "* [1  ¿Cuál es la mejor tarifa?](#plan)\n",
    "    * [1.1  Inicialización](#kickoff)\n",
    "    * [1.2  Cargar datos](#dataload)\n",
    "    * [1.3  Preparar los datos](#data_preprocessing)\n",
    "    * [1.4  Tarifas](#fees)\n",
    "    * [1.5  Corregir datos](#fess_wrangling)\n",
    "    * [1.6  Enriquecer los datos](#fees_processing)\n",
    "    * [1.7  Usuarios/as](#users)\n",
    "        * [1.7.1  Corregir los datos](#users_wrangling)\n",
    "        * [1.7.2  Enriquecer los datos](#users_processing)\n",
    "    * [1.8  Llamadas](#calls)\n",
    "        * [1.8.1  Corregir los datos](#calls_wrangling)\n",
    "        * [1.8.2  Enriquecer los datos](calls_processing)\n",
    "    * [1.9  Mensajes](#sms)\n",
    "        * [1.9.1  Corregir los datos](#sms__wrangling)\n",
    "        * [1.9.2  Enriquecer los datos](#calls_processing)\n",
    "    * [1.10  Internet](#data)\n",
    "        * [1.10.1  Corregir los datos](#data_wrnagling)\n",
    "        * [1.10.2  Enriquecer los datos](#data_processing)\n",
    "    * [1.11  Estudiar las condiciones de las tarifas](#fees_analisys)\n",
    "    * [1.12  Agregar datos por usuario](#data_adding)\n",
    "    * [1.13  Estudia el comportamiento de usuario](#user_consumption)\n",
    "        * [1.13.1  Llamadas](#calls_consumption)\n",
    "        * [1.13.2  Mensajes](#sms_consumption)\n",
    "        * [1.13.3  Internet](#data_consumption)\n",
    "    * [1.14  Ingreso](#incomes)\n",
    "    * [1.15  Prueba las hipótesis estadísticas](#hypothesis)\n",
    "* [1.16  Conclusión general](#end)"
   ]
  },
  {
   "cell_type": "markdown",
   "metadata": {},
   "source": [
    "# Introducción  <a id='intro'></a>\n",
    "\n",
    "La empresa operadora de Telecomunicaciones MEGALINE ofrece a sus clientes dos tarifas de prepago, Surf y Ultimate. Necesitamos saber cuál de los dos planes genera más ingresos para ajustar el presupuesto de publicidad, de acuerdo a los requerimientos del departamento comercial de la compañía.\n",
    "\n",
    "Vamos a realizar un análisis preliminar de las tarifas basado en una selección de clientes relativamente pequeña. Tendrás los datos de 500 clientes de Megaline: quiénes son los clientes, de dónde son, qué tarifa usan, así como la cantidad de llamadas que hicieron y los mensajes de texto que enviaron en 2018. Tu trabajo es analizar el comportamiento de los clientes y determinar qué tarifa de prepago genera más ingresos. Más adelante, encontrarás en las instrucciones del proyecto cuáles son exactamente los aspectos del comportamiento de los clientes que debes analizar. Determinar qué plan, en promedio, aporta más ingresos es una cuestión que se abordará mediante pruebas estadísticas. Más adelante encontrarás más información al respecto en la sección de instrucciones del proyecto.\n",
    "\n",
    "Descripción de las tarifas:\n",
    "\n",
    "Nota: Megaline redondea los segundos a minutos y los megabytes a gigabytes. Para las llamadas, cada llamada individual se redondea: incluso si la llamada duró solo un segundo, se contará como un minuto. Para el tráfico web, las sesiones web individuales no se redondean. En vez de esto, el total del mes se redondea hacia arriba. Si alguien usa 1025 megabytes este mes, se le cobrarán 2 gigabytes.\n",
    "\n",
    "A continuación, puedes ver una descripción de las tarifas:\n",
    "\n",
    "Surf\n",
    "\n",
    "1.\tPago mensual: $20 usd.\n",
    "2.\t500 minutos al mes, 50 SMS y 15 GB de datos.\n",
    "3.\tSi se exceden los límites del paquete:\n",
    "\n",
    "    o\t1 minuto: 3 centavos.\n",
    "\n",
    "    o\t1 SMS: 3 centavos.\n",
    "\n",
    "    o\t1 GB de datos: $10 usd.\n",
    "\n",
    "Ultimate\n",
    "\n",
    "1.\tPago mensual: $70 usd.\n",
    "2.\t3000 minutos al mes, 1000 SMS y 30 GB de datos.\n",
    "3.\tSi se exceden los límites del paquete:\n",
    "\n",
    "    o\t1 minuto: 1 centavo.\n",
    "\n",
    "    o\t1 SMS: 1 centavo.\n",
    "    \n",
    "    o\t1 GB de datos: $7 usd."
   ]
  },
  {
   "cell_type": "markdown",
   "metadata": {},
   "source": [
    "[Volver a Contenido](#back)"
   ]
  },
  {
   "cell_type": "markdown",
   "metadata": {
    "id": "VNddPNRQ0q0w"
   },
   "source": [
    "[Te proporcionamos algunos comentarios para orientarte mientras completas este proyecto. Pero debes asegurarte de eliminar todos los comentarios entre corchetes antes de entregar tu proyecto.]\n",
    "\n",
    "[Antes de sumergirte en el análisis de datos, explica por tu propia cuenta el propósito del proyecto y las acciones que planeas realizar.]\n",
    "\n",
    "[Ten en cuenta que estudiar, modificar y analizar datos es un proceso iterativo. Es normal volver a los pasos anteriores y corregirlos/ampliarlos para permitir nuevos pasos.]"
   ]
  },
  {
   "cell_type": "markdown",
   "metadata": {},
   "source": [
    "# Descripción de los datos <a id='data_review'></a>\n",
    "\n",
    "Para este trabajo se tienen los siguientes 5 archivos de datos (`/datasets/megaline_users.csv `, `/datasets/megaline_plans.csv `, `/datasets/megaline_calls.csv `, `/datasets/megaline_internet.csv ` y `/datasets/megaline_messages.csv `) los cuales se leeran con la librería Pandas de Python, utilizando el método de lectura de archivos separados por comas `pd.read_csv()` usando el parámetro sep=';' para leer los datos correctamente. \n",
    "De primer instancia, se verificará la información para cada uno de los DataFrames."
   ]
  },
  {
   "cell_type": "markdown",
   "metadata": {},
   "source": [
    "## Diccionario de datos <a id='dictionary'></a>\n",
    "\n",
    "Contamos con cinco Datasets en el conjunto de datos, usaremos todas para hacer el preprocesamiento de los datos y el análisis exploratorio de los datos.\n",
    "A continuación se muestra el diccionario de datos que enumeroa las columnas de cada uno de los Datasets y se describen los datos que contienen.\n",
    "\n",
    "- `megaline_users.csv`: cada fila corresponde a un usuario en la Compañia Megaline (datos sobre los usuarios).\n",
    "    - `'user_id'`: identificador único del usuario.\n",
    "    - `'first_name'`: nombre del usuario.\n",
    "    - `'last_name'`: apellido del usuario.\n",
    "    - `'age'`: edad del usuario (en años).\n",
    "    - `'reg_date'`: fecha de suscripción (dd, mm, aa).\n",
    "    - `'churn_date'`: la fecha en la que el usuario dejó de usar el servicio (si el valor es ausente, la tarifa se estaba usando cuando fue extraída esta base de datos).\n",
    "    - `'city'`: ciudad de residencia del usuario.\n",
    "    - `'plan'`: nombre de la tarifa ('surf' o 'ultimate')\n",
    "\n",
    "- `megaline_plans.csv `: cada fila corresponde a... (datos sobre las tarifas).\n",
    "    - `'plan_name'`: nombre de la tarifa.\n",
    "    - `'usd_monthly_fee'`: pago mensual en dólares estadounidenses.\n",
    "    - `'minutes_included'`: minutos incluidos al mes.\n",
    "    - `'messages_included'`: SMS incluidos al mes.\n",
    "    - `'mb_per_month_included'`: datos incluidos al mes (en megabytes).\n",
    "    - `'usd_per_minute'`: precio por minuto tras exceder los límites del paquete (por ejemplo, si el paquete incluye 100 minutos, el operador cobrará el minuto 101).\n",
    "    - `'usd_per_message'`: precio por SMS tras exceder los límites del paquete.\n",
    "    - `'usd_per_gb'`: precio por gigabyte de los datos extra tras exceder los límites del paquete (1 GB = 1024 megabytes).\n",
    "\n",
    "- `megaline_calls.csv`: cada fila corresponde a una llamada única que realizaron los clientes (datos sobre las llamadas).\n",
    "    - `'id'`: identificador único de la llamada.\n",
    "    - `'call_date'`: fecha de la llamada.\n",
    "    - `'duration'`: duración de la llamada (en minutos).\n",
    "    - `'user_id'`: el identificador del usuario que realiza la llamada.\n",
    "\n",
    "- `megaline_internet.csv`: cada fila corresponde a una consulta en internet que realizaron los clientes (datos sobre las sesiones web).\n",
    "    - `'id'`: identificador único de la sesión.\n",
    "    - `'mb_used'`: el volumen de datos gastados durante la sesión (en megabytes).\n",
    "    - `'session_date'`: fecha de la sesión web.\n",
    "    - `'user_id'`: identificador del usuario.\n",
    "\n",
    "- `megaline_messages.csv`: cada fila corresponde a un mensaje tipo sms que realizaron los clientes (datos sobre los SMS).\n",
    "    - `'id'`: identificador único del SMS.\n",
    "    - `'message_date'`: fecha del SMS.\n",
    "    - `'user_id'`: el identificador del usuario que manda el SMS."
   ]
  },
  {
   "cell_type": "markdown",
   "metadata": {},
   "source": [
    "[Volver a Contenido](#back)"
   ]
  },
  {
   "cell_type": "markdown",
   "metadata": {},
   "source": [
    "## Plan de solución <a id='plan1'></a>\n",
    "\n",
    "Descripción de los datos.\n",
    "\n",
    "Para iniciar con la revisión de todos los Datasets, vamos a importa las librerias de Pandas, Numpy y Stats de Scipy que nos serviran para crear un Dataframe por cada uno de los archivos csv.\n",
    "\n",
    "De esta manera será posible revisar la información contenida en cada archivo, realizando el Preprocesamiento de los datos; como corrección de los nombres de las columnas para cumplir con el formato SnakeCase; rellenar valores ausentes, y eliminar datos duplicados de ser necesario.\n",
    "\n",
    "Finalmente, realizaremos el Análisis de los datos, creando Hipótesis que nos ayuden a tomar buenas desiciones con la información qye tenemos."
   ]
  },
  {
   "cell_type": "markdown",
   "metadata": {
    "id": "MQi4IPy70q0y"
   },
   "source": [
    "## 1.1 Inicialización <a id='kickoff'></a>"
   ]
  },
  {
   "cell_type": "code",
   "execution_count": 1,
   "metadata": {
    "id": "MtYIuBxu0q0z"
   },
   "outputs": [],
   "source": [
    "# Cargar todas las librerías\n",
    "import pandas as pd\n",
    "import numpy as np\n",
    "from matplotlib import pyplot as plt\n",
    "from scipy import stats as st\n",
    "import seaborn as sns\n",
    "import math"
   ]
  },
  {
   "cell_type": "markdown",
   "metadata": {},
   "source": [
    "<div class=\"alert alert-block alert-warning\">\n",
    "<b>Comentario revisor</b> <a class=\"tocSkip\"></a>\n",
    "\n",
    "\n",
    "Recomiendo cargar la libreria math. De esta manera, puedes realizar redondeos con otros métodos. \n",
    "</div>"
   ]
  },
  {
   "cell_type": "markdown",
   "metadata": {},
   "source": [
    "<div class=\"alert alert-block alert-info\">\n",
    "<b>Respuesta del estudiante, Iteración 1</b> <a class=“tocSkip”></a>\n",
    "\n",
    "Listo Tionatiuh, ya he agregado y cargado la librería de math para el redondeo de las cifras más adelante, gracias.\n",
    "</div>"
   ]
  },
  {
   "cell_type": "markdown",
   "metadata": {},
   "source": [
    "<div class=\"alert alert-block alert-success\">\n",
    "<b>Comentario revisor</b> <a class=\"tocSkip\"></a>\n",
    "\n",
    "\n",
    "Hola, Tom! Gran trabajo cargando la libreria de math para hacer el redondeo de las variables"
   ]
  },
  {
   "cell_type": "markdown",
   "metadata": {
    "id": "4ysWWC5i0q00"
   },
   "source": [
    "## 1.2 Cargar datos     <a id='dataload'></a>"
   ]
  },
  {
   "cell_type": "code",
   "execution_count": 2,
   "metadata": {
    "id": "CCqPW7rS0q01"
   },
   "outputs": [],
   "source": [
    "# Carga los archivos de datos en diferentes DataFrames\n",
    "df_users = pd.read_csv(r'C:\\Users\\aldot\\OneDrive\\TripleTen_DS\\Sprint 5_Análisis estadístico de datos\\Proyecto SP5\\Datasets\\megaline_users.csv', sep=',')\n",
    "df_plans = pd.read_csv(r'C:\\Users\\aldot\\OneDrive\\TripleTen_DS\\Sprint 5_Análisis estadístico de datos\\Proyecto SP5\\Datasets\\megaline_plans.csv', sep=',')\n",
    "df_calls = pd.read_csv(r'C:\\Users\\aldot\\OneDrive\\TripleTen_DS\\Sprint 5_Análisis estadístico de datos\\Proyecto SP5\\Datasets\\megaline_calls.csv', sep=',')\n",
    "df_data = pd.read_csv(r'C:\\Users\\aldot\\OneDrive\\TripleTen_DS\\Sprint 5_Análisis estadístico de datos\\Proyecto SP5\\Datasets\\megaline_internet.csv', sep=',')\n",
    "df_sms = pd.read_csv(r'C:\\Users\\aldot\\OneDrive\\TripleTen_DS\\Sprint 5_Análisis estadístico de datos\\Proyecto SP5\\Datasets\\megaline_messages.csv', sep=',')"
   ]
  },
  {
   "cell_type": "markdown",
   "metadata": {
    "id": "69qqoJ3r0q01"
   },
   "source": [
    "## 1.3 Preparar los datos <a id='data_preprocessing'></a>"
   ]
  },
  {
   "cell_type": "markdown",
   "metadata": {
    "id": "vUuZw80S0q01"
   },
   "source": [
    "[Los datos para este proyecto se dividen en varias tablas. \n",
    "Explora cada una para tener una comprensión inicial de los datos. \n",
    "Si es necesario, haz las correcciones requeridas en cada tabla.]"
   ]
  },
  {
   "cell_type": "markdown",
   "metadata": {
    "id": "ohBhimvH0q01"
   },
   "source": [
    "## 1.4 Tarifas <a id='fees'></a>"
   ]
  },
  {
   "cell_type": "code",
   "execution_count": 3,
   "metadata": {
    "id": "GptqP3Q40q02"
   },
   "outputs": [
    {
     "name": "stdout",
     "output_type": "stream",
     "text": [
      "<class 'pandas.core.frame.DataFrame'>\n",
      "RangeIndex: 2 entries, 0 to 1\n",
      "Data columns (total 8 columns):\n",
      " #   Column                 Non-Null Count  Dtype  \n",
      "---  ------                 --------------  -----  \n",
      " 0   messages_included      2 non-null      int64  \n",
      " 1   mb_per_month_included  2 non-null      int64  \n",
      " 2   minutes_included       2 non-null      int64  \n",
      " 3   usd_monthly_pay        2 non-null      int64  \n",
      " 4   usd_per_gb             2 non-null      int64  \n",
      " 5   usd_per_message        2 non-null      float64\n",
      " 6   usd_per_minute         2 non-null      float64\n",
      " 7   plan_name              2 non-null      object \n",
      "dtypes: float64(2), int64(5), object(1)\n",
      "memory usage: 260.0+ bytes\n",
      "       messages_included  mb_per_month_included  minutes_included  \\\n",
      "count           2.000000               2.000000          2.000000   \n",
      "mean          525.000000           23040.000000       1750.000000   \n",
      "std           671.751442           10861.160159       1767.766953   \n",
      "min            50.000000           15360.000000        500.000000   \n",
      "25%           287.500000           19200.000000       1125.000000   \n",
      "50%           525.000000           23040.000000       1750.000000   \n",
      "75%           762.500000           26880.000000       2375.000000   \n",
      "max          1000.000000           30720.000000       3000.000000   \n",
      "\n",
      "       usd_monthly_pay  usd_per_gb  usd_per_message  usd_per_minute  \n",
      "count         2.000000     2.00000         2.000000        2.000000  \n",
      "mean         45.000000     8.50000         0.020000        0.020000  \n",
      "std          35.355339     2.12132         0.014142        0.014142  \n",
      "min          20.000000     7.00000         0.010000        0.010000  \n",
      "25%          32.500000     7.75000         0.015000        0.015000  \n",
      "50%          45.000000     8.50000         0.020000        0.020000  \n",
      "75%          57.500000     9.25000         0.025000        0.025000  \n",
      "max          70.000000    10.00000         0.030000        0.030000  \n"
     ]
    }
   ],
   "source": [
    "# Imprime la información general/resumida sobre el DataFrame de las tarifas\n",
    "df_plans.info()\n",
    "print(df_plans.describe())"
   ]
  },
  {
   "cell_type": "code",
   "execution_count": 4,
   "metadata": {
    "id": "64xzjwL70q02"
   },
   "outputs": [
    {
     "data": {
      "text/html": [
       "<div>\n",
       "<style scoped>\n",
       "    .dataframe tbody tr th:only-of-type {\n",
       "        vertical-align: middle;\n",
       "    }\n",
       "\n",
       "    .dataframe tbody tr th {\n",
       "        vertical-align: top;\n",
       "    }\n",
       "\n",
       "    .dataframe thead th {\n",
       "        text-align: right;\n",
       "    }\n",
       "</style>\n",
       "<table border=\"1\" class=\"dataframe\">\n",
       "  <thead>\n",
       "    <tr style=\"text-align: right;\">\n",
       "      <th></th>\n",
       "      <th>messages_included</th>\n",
       "      <th>mb_per_month_included</th>\n",
       "      <th>minutes_included</th>\n",
       "      <th>usd_monthly_pay</th>\n",
       "      <th>usd_per_gb</th>\n",
       "      <th>usd_per_message</th>\n",
       "      <th>usd_per_minute</th>\n",
       "      <th>plan_name</th>\n",
       "    </tr>\n",
       "  </thead>\n",
       "  <tbody>\n",
       "    <tr>\n",
       "      <th>0</th>\n",
       "      <td>50</td>\n",
       "      <td>15360</td>\n",
       "      <td>500</td>\n",
       "      <td>20</td>\n",
       "      <td>10</td>\n",
       "      <td>0.03</td>\n",
       "      <td>0.03</td>\n",
       "      <td>surf</td>\n",
       "    </tr>\n",
       "    <tr>\n",
       "      <th>1</th>\n",
       "      <td>1000</td>\n",
       "      <td>30720</td>\n",
       "      <td>3000</td>\n",
       "      <td>70</td>\n",
       "      <td>7</td>\n",
       "      <td>0.01</td>\n",
       "      <td>0.01</td>\n",
       "      <td>ultimate</td>\n",
       "    </tr>\n",
       "  </tbody>\n",
       "</table>\n",
       "</div>"
      ],
      "text/plain": [
       "   messages_included  mb_per_month_included  minutes_included  \\\n",
       "0                 50                  15360               500   \n",
       "1               1000                  30720              3000   \n",
       "\n",
       "   usd_monthly_pay  usd_per_gb  usd_per_message  usd_per_minute plan_name  \n",
       "0               20          10             0.03            0.03      surf  \n",
       "1               70           7             0.01            0.01  ultimate  "
      ]
     },
     "execution_count": 4,
     "metadata": {},
     "output_type": "execute_result"
    }
   ],
   "source": [
    "# Imprime una muestra de los datos para las tarifas\n",
    "df_plans.head()\n"
   ]
  },
  {
   "cell_type": "markdown",
   "metadata": {},
   "source": [
    "[Volver a Contenido](#back)"
   ]
  },
  {
   "cell_type": "markdown",
   "metadata": {
    "id": "mEc_3_hs0q02"
   },
   "source": [
    "## Descripción\n",
    "\n",
    "El dataframe de los planes contiene únicamente 2 filas y 8 columnas, con información sobre las tarifas que se ofrecen.\n",
    "\n",
    "La mayoría de los datos de las columnas son de tipo números enteros o integer (int64), hay dos columnas con información monetaria (usd) que son de tipo números fraccionarios o float (float64), y finalmente una columna con información de tipo cualitativa o descriptiva (object) que son los nombres de los planes.\n",
    "\n",
    "La información se ve bien pero podemos cambiar los tipos de datos en todas las columnas que contengan información monetaria en usd, para homologar todas las columnas con esta información.\n",
    "\n",
    "No se tienen datos eliminados ni ausentes, los nombres de los planes están en minusculas, los nombres de las columnas cumplen el formato snake case, nombres en minúsculas, separación con guiones bajos, sin espacios al principio ni al final.\n",
    "\n",
    "Por lo que no hay mucho que corregir en este primer dataframe revisado."
   ]
  },
  {
   "cell_type": "markdown",
   "metadata": {
    "id": "R3C05i1l0q03"
   },
   "source": [
    "## 1.5 Corregir datos <a id='fees_wrangling'></a>"
   ]
  },
  {
   "cell_type": "markdown",
   "metadata": {
    "id": "bIi8StZI0q03"
   },
   "source": [
    "[Corrige los problemas obvios con los datos basándote en las observaciones iniciales.]"
   ]
  },
  {
   "cell_type": "code",
   "execution_count": 5,
   "metadata": {
    "id": "Y7SVmjGn0q03"
   },
   "outputs": [
    {
     "name": "stdout",
     "output_type": "stream",
     "text": [
      "<class 'pandas.core.frame.DataFrame'>\n",
      "RangeIndex: 2 entries, 0 to 1\n",
      "Data columns (total 8 columns):\n",
      " #   Column                 Non-Null Count  Dtype  \n",
      "---  ------                 --------------  -----  \n",
      " 0   messages_included      2 non-null      int64  \n",
      " 1   mb_per_month_included  2 non-null      int64  \n",
      " 2   minutes_included       2 non-null      int64  \n",
      " 3   usd_monthly_pay        2 non-null      float64\n",
      " 4   usd_per_gb             2 non-null      float64\n",
      " 5   usd_per_message        2 non-null      float64\n",
      " 6   usd_per_minute         2 non-null      float64\n",
      " 7   plan_name              2 non-null      object \n",
      "dtypes: float64(4), int64(3), object(1)\n",
      "memory usage: 260.0+ bytes\n"
     ]
    }
   ],
   "source": [
    "# Vamos a cambiar los Dtypes en todas las columnas con información monetaria (usd) de int64 a float64:\n",
    "df_plans['usd_monthly_pay'] = df_plans['usd_monthly_pay'].astype('float64')\n",
    "df_plans['usd_per_gb'] = df_plans['usd_per_gb'].astype('float64')\n",
    "df_plans.info()"
   ]
  },
  {
   "cell_type": "markdown",
   "metadata": {},
   "source": [
    "[Volver a Contenido](#back)"
   ]
  },
  {
   "cell_type": "markdown",
   "metadata": {
    "id": "LJir7bml0q03"
   },
   "source": [
    "## 1.6 Enriquecer los datos <a id='fees_processing'></a>"
   ]
  },
  {
   "cell_type": "markdown",
   "metadata": {
    "id": "eqADpCfg0q04"
   },
   "source": [
    "[Agrega factores adicionales a los datos si crees que pudieran ser útiles.]"
   ]
  },
  {
   "cell_type": "code",
   "execution_count": 6,
   "metadata": {
    "id": "gfcIEuXV0q04"
   },
   "outputs": [
    {
     "data": {
      "text/html": [
       "<div>\n",
       "<style scoped>\n",
       "    .dataframe tbody tr th:only-of-type {\n",
       "        vertical-align: middle;\n",
       "    }\n",
       "\n",
       "    .dataframe tbody tr th {\n",
       "        vertical-align: top;\n",
       "    }\n",
       "\n",
       "    .dataframe thead th {\n",
       "        text-align: right;\n",
       "    }\n",
       "</style>\n",
       "<table border=\"1\" class=\"dataframe\">\n",
       "  <thead>\n",
       "    <tr style=\"text-align: right;\">\n",
       "      <th></th>\n",
       "      <th>sms_included</th>\n",
       "      <th>mb_per_month_included</th>\n",
       "      <th>gb_included</th>\n",
       "      <th>min_included</th>\n",
       "      <th>usd_monthly_fee</th>\n",
       "      <th>usd_per_gb</th>\n",
       "      <th>usd_per_sms</th>\n",
       "      <th>usd_per_minute</th>\n",
       "      <th>plan</th>\n",
       "    </tr>\n",
       "  </thead>\n",
       "  <tbody>\n",
       "    <tr>\n",
       "      <th>0</th>\n",
       "      <td>50</td>\n",
       "      <td>15360</td>\n",
       "      <td>15</td>\n",
       "      <td>500</td>\n",
       "      <td>20.0</td>\n",
       "      <td>10.0</td>\n",
       "      <td>0.03</td>\n",
       "      <td>0.03</td>\n",
       "      <td>surf</td>\n",
       "    </tr>\n",
       "    <tr>\n",
       "      <th>1</th>\n",
       "      <td>1000</td>\n",
       "      <td>30720</td>\n",
       "      <td>30</td>\n",
       "      <td>3000</td>\n",
       "      <td>70.0</td>\n",
       "      <td>7.0</td>\n",
       "      <td>0.01</td>\n",
       "      <td>0.01</td>\n",
       "      <td>ultimate</td>\n",
       "    </tr>\n",
       "  </tbody>\n",
       "</table>\n",
       "</div>"
      ],
      "text/plain": [
       "   sms_included  mb_per_month_included  gb_included  min_included  \\\n",
       "0            50                  15360           15           500   \n",
       "1          1000                  30720           30          3000   \n",
       "\n",
       "   usd_monthly_fee  usd_per_gb  usd_per_sms  usd_per_minute      plan  \n",
       "0             20.0        10.0         0.03            0.03      surf  \n",
       "1             70.0         7.0         0.01            0.01  ultimate  "
      ]
     },
     "execution_count": 6,
     "metadata": {},
     "output_type": "execute_result"
    }
   ],
   "source": [
    "# Agregamos una columna que contenga el los Mb (Megabytes) incluídos en Gb (Gigabytes)\n",
    "gb_included = (df_plans['mb_per_month_included'] / 1024).astype('int64')\n",
    "df_plans.insert(2, 'gb_included', gb_included)\n",
    "\n",
    "# Renombramos las columnas con nombres más descriptivos\n",
    "df_plans.columns = ['sms_included', 'mb_per_month_included', 'gb_included', 'min_included', 'usd_monthly_fee', 'usd_per_gb', 'usd_per_sms', 'usd_per_minute','plan']\n",
    "df_plans"
   ]
  },
  {
   "cell_type": "markdown",
   "metadata": {},
   "source": [
    "\n",
    "<div class=\"alert alert-block alert-success\">\n",
    "<b>Comentario del revisor</b> <a class=\"tocSkip\"></a>\n",
    "\n",
    "Muy buen trabajo!! Es correcto considerar que 1024 megabytes son 1 gigabytes.\n",
    "    \n",
    "</div>"
   ]
  },
  {
   "cell_type": "markdown",
   "metadata": {},
   "source": [
    "[Volver a Contenido](#back)"
   ]
  },
  {
   "cell_type": "markdown",
   "metadata": {
    "id": "1n2X6WXf0q04"
   },
   "source": [
    "## 1.7 Usuarios/as <a id='users'></a>"
   ]
  },
  {
   "cell_type": "code",
   "execution_count": 7,
   "metadata": {
    "id": "2NgjWFqx0q05"
   },
   "outputs": [
    {
     "name": "stdout",
     "output_type": "stream",
     "text": [
      "<class 'pandas.core.frame.DataFrame'>\n",
      "RangeIndex: 500 entries, 0 to 499\n",
      "Data columns (total 8 columns):\n",
      " #   Column      Non-Null Count  Dtype \n",
      "---  ------      --------------  ----- \n",
      " 0   user_id     500 non-null    int64 \n",
      " 1   first_name  500 non-null    object\n",
      " 2   last_name   500 non-null    object\n",
      " 3   age         500 non-null    int64 \n",
      " 4   city        500 non-null    object\n",
      " 5   reg_date    500 non-null    object\n",
      " 6   plan        500 non-null    object\n",
      " 7   churn_date  34 non-null     object\n",
      "dtypes: int64(2), object(6)\n",
      "memory usage: 31.4+ KB\n",
      "           user_id         age\n",
      "count   500.000000  500.000000\n",
      "mean   1249.500000   45.486000\n",
      "std     144.481833   16.972269\n",
      "min    1000.000000   18.000000\n",
      "25%    1124.750000   30.000000\n",
      "50%    1249.500000   46.000000\n",
      "75%    1374.250000   61.000000\n",
      "max    1499.000000   75.000000\n"
     ]
    }
   ],
   "source": [
    "# Imprime la información general/resumida sobre el DataFrame de usuarios\n",
    "df_users.info()\n",
    "print(df_users.describe())"
   ]
  },
  {
   "cell_type": "code",
   "execution_count": 8,
   "metadata": {
    "id": "1IN1L9uh0q05"
   },
   "outputs": [
    {
     "data": {
      "text/html": [
       "<div>\n",
       "<style scoped>\n",
       "    .dataframe tbody tr th:only-of-type {\n",
       "        vertical-align: middle;\n",
       "    }\n",
       "\n",
       "    .dataframe tbody tr th {\n",
       "        vertical-align: top;\n",
       "    }\n",
       "\n",
       "    .dataframe thead th {\n",
       "        text-align: right;\n",
       "    }\n",
       "</style>\n",
       "<table border=\"1\" class=\"dataframe\">\n",
       "  <thead>\n",
       "    <tr style=\"text-align: right;\">\n",
       "      <th></th>\n",
       "      <th>user_id</th>\n",
       "      <th>first_name</th>\n",
       "      <th>last_name</th>\n",
       "      <th>age</th>\n",
       "      <th>city</th>\n",
       "      <th>reg_date</th>\n",
       "      <th>plan</th>\n",
       "      <th>churn_date</th>\n",
       "    </tr>\n",
       "  </thead>\n",
       "  <tbody>\n",
       "    <tr>\n",
       "      <th>387</th>\n",
       "      <td>1387</td>\n",
       "      <td>Raymonde</td>\n",
       "      <td>Lowe</td>\n",
       "      <td>28</td>\n",
       "      <td>Bridgeport-Stamford-Norwalk, CT MSA</td>\n",
       "      <td>2018-05-25</td>\n",
       "      <td>surf</td>\n",
       "      <td>NaN</td>\n",
       "    </tr>\n",
       "    <tr>\n",
       "      <th>359</th>\n",
       "      <td>1359</td>\n",
       "      <td>Sherley</td>\n",
       "      <td>Norris</td>\n",
       "      <td>33</td>\n",
       "      <td>Colorado Springs, CO MSA</td>\n",
       "      <td>2018-02-08</td>\n",
       "      <td>surf</td>\n",
       "      <td>NaN</td>\n",
       "    </tr>\n",
       "    <tr>\n",
       "      <th>179</th>\n",
       "      <td>1179</td>\n",
       "      <td>Darcey</td>\n",
       "      <td>Baird</td>\n",
       "      <td>22</td>\n",
       "      <td>Dallas-Fort Worth-Arlington, TX MSA</td>\n",
       "      <td>2018-04-27</td>\n",
       "      <td>surf</td>\n",
       "      <td>NaN</td>\n",
       "    </tr>\n",
       "    <tr>\n",
       "      <th>223</th>\n",
       "      <td>1223</td>\n",
       "      <td>Patience</td>\n",
       "      <td>Wilson</td>\n",
       "      <td>37</td>\n",
       "      <td>Phoenix-Mesa-Chandler, AZ MSA</td>\n",
       "      <td>2018-07-05</td>\n",
       "      <td>surf</td>\n",
       "      <td>NaN</td>\n",
       "    </tr>\n",
       "    <tr>\n",
       "      <th>366</th>\n",
       "      <td>1366</td>\n",
       "      <td>Rod</td>\n",
       "      <td>Huff</td>\n",
       "      <td>62</td>\n",
       "      <td>Cincinnati, OH-KY-IN MSA</td>\n",
       "      <td>2018-07-30</td>\n",
       "      <td>surf</td>\n",
       "      <td>NaN</td>\n",
       "    </tr>\n",
       "  </tbody>\n",
       "</table>\n",
       "</div>"
      ],
      "text/plain": [
       "     user_id first_name last_name  age                                 city  \\\n",
       "387     1387   Raymonde      Lowe   28  Bridgeport-Stamford-Norwalk, CT MSA   \n",
       "359     1359    Sherley    Norris   33             Colorado Springs, CO MSA   \n",
       "179     1179     Darcey     Baird   22  Dallas-Fort Worth-Arlington, TX MSA   \n",
       "223     1223   Patience    Wilson   37        Phoenix-Mesa-Chandler, AZ MSA   \n",
       "366     1366        Rod      Huff   62             Cincinnati, OH-KY-IN MSA   \n",
       "\n",
       "       reg_date  plan churn_date  \n",
       "387  2018-05-25  surf        NaN  \n",
       "359  2018-02-08  surf        NaN  \n",
       "179  2018-04-27  surf        NaN  \n",
       "223  2018-07-05  surf        NaN  \n",
       "366  2018-07-30  surf        NaN  "
      ]
     },
     "execution_count": 8,
     "metadata": {},
     "output_type": "execute_result"
    }
   ],
   "source": [
    "# Imprime una muestra de datos para usuarios\n",
    "df_users.sample(5)"
   ]
  },
  {
   "cell_type": "code",
   "execution_count": 9,
   "metadata": {},
   "outputs": [
    {
     "name": "stdout",
     "output_type": "stream",
     "text": [
      "Valores ausentes:  user_id         0\n",
      "first_name      0\n",
      "last_name       0\n",
      "age             0\n",
      "city            0\n",
      "reg_date        0\n",
      "plan            0\n",
      "churn_date    466\n",
      "dtype: int64\n",
      "\n",
      "Valores duplicados:  0\n"
     ]
    }
   ],
   "source": [
    "# Buscamos si hay valores ausentes y/o duplicados\n",
    "print('Valores ausentes: ',df_users.isna().sum())      # Valores ausentes\n",
    "print()\n",
    "print('Valores duplicados: ', df_users.duplicated().sum()) # Verificamos si hay"
   ]
  },
  {
   "cell_type": "markdown",
   "metadata": {
    "id": "dCZoUq4f0q06"
   },
   "source": [
    "En el dataframe de usuarios, podemos ver 8 columnas con diferentes datos, como 'user_id', 'first_name', 'last_name', 'age', 'city', 'reg_date', 'plan', 'churn_date'.\n",
    "\n",
    "Al revisar los Dtypes podemos ver eu la columna con fecha de registro 'reg_date' y la columna 'churn_date', son de tipo object; lo cual no es lo más correcto y debe ser corregido a tipo de fecha y con formato de fecha.\n",
    "\n",
    "También en la última columna llamada 'churn_date' solo tenemos 34 registros y los demás son 466 valores ausentes, lo cual debe corregirse para evitar problemas en el análisis posterios, estos podrían sustituirse con un valor cero o desconocido (unknown); no hay valores duplicados.\n",
    "\n",
    "La muestra a analizar es de 500 usuarios."
   ]
  },
  {
   "cell_type": "markdown",
   "metadata": {
    "id": "BX5FQh_I0q06"
   },
   "source": [
    "### 1.7.1 Corregir los datos <a id='users_wrangling'></a>"
   ]
  },
  {
   "cell_type": "markdown",
   "metadata": {
    "id": "8OdKMwJv0q06"
   },
   "source": [
    "Es necesario cambiar el formato de las columnas con fechas, para esto utilizaremos un método de Pandas llamado to_datetime.\n",
    "\n",
    "Tanto la columna llamada 'reg_date' como la columna 'churn_date' se modificará su formato.\n",
    "\n",
    "Rellenar los valores ausentes en la columna 'churn_date' con el nombre 'unknown'.\n",
    "\n",
    "Renombraremos las columnas con nombres más descriptivos."
   ]
  },
  {
   "cell_type": "code",
   "execution_count": 10,
   "metadata": {
    "id": "yUqX-K0C0q07"
   },
   "outputs": [
    {
     "name": "stdout",
     "output_type": "stream",
     "text": [
      "<class 'pandas.core.frame.DataFrame'>\n",
      "RangeIndex: 500 entries, 0 to 499\n",
      "Data columns (total 8 columns):\n",
      " #   Column      Non-Null Count  Dtype         \n",
      "---  ------      --------------  -----         \n",
      " 0   user_id     500 non-null    int64         \n",
      " 1   first_name  500 non-null    object        \n",
      " 2   last_name   500 non-null    object        \n",
      " 3   user_age    500 non-null    int64         \n",
      " 4   user_city   500 non-null    object        \n",
      " 5   reg_date    500 non-null    datetime64[ns]\n",
      " 6   plan        500 non-null    object        \n",
      " 7   churn_date  500 non-null    object        \n",
      "dtypes: datetime64[ns](1), int64(2), object(5)\n",
      "memory usage: 31.4+ KB\n"
     ]
    },
    {
     "name": "stderr",
     "output_type": "stream",
     "text": [
      "C:\\Users\\aldot\\AppData\\Local\\Temp\\ipykernel_27280\\3118405040.py:2: UserWarning: The argument 'infer_datetime_format' is deprecated and will be removed in a future version. A strict version of it is now the default, see https://pandas.pydata.org/pdeps/0004-consistent-to-datetime-parsing.html. You can safely remove this argument.\n",
      "  df_users['reg_date'] = pd.to_datetime(df_users['reg_date'], infer_datetime_format=True)\n",
      "C:\\Users\\aldot\\AppData\\Local\\Temp\\ipykernel_27280\\3118405040.py:3: UserWarning: The argument 'infer_datetime_format' is deprecated and will be removed in a future version. A strict version of it is now the default, see https://pandas.pydata.org/pdeps/0004-consistent-to-datetime-parsing.html. You can safely remove this argument.\n",
      "  df_users['churn_date'] = pd.to_datetime(df_users['churn_date'], infer_datetime_format=True)\n"
     ]
    },
    {
     "data": {
      "text/html": [
       "<div>\n",
       "<style scoped>\n",
       "    .dataframe tbody tr th:only-of-type {\n",
       "        vertical-align: middle;\n",
       "    }\n",
       "\n",
       "    .dataframe tbody tr th {\n",
       "        vertical-align: top;\n",
       "    }\n",
       "\n",
       "    .dataframe thead th {\n",
       "        text-align: right;\n",
       "    }\n",
       "</style>\n",
       "<table border=\"1\" class=\"dataframe\">\n",
       "  <thead>\n",
       "    <tr style=\"text-align: right;\">\n",
       "      <th></th>\n",
       "      <th>user_id</th>\n",
       "      <th>first_name</th>\n",
       "      <th>last_name</th>\n",
       "      <th>user_age</th>\n",
       "      <th>user_city</th>\n",
       "      <th>reg_date</th>\n",
       "      <th>plan</th>\n",
       "      <th>churn_date</th>\n",
       "    </tr>\n",
       "  </thead>\n",
       "  <tbody>\n",
       "    <tr>\n",
       "      <th>0</th>\n",
       "      <td>1000</td>\n",
       "      <td>Anamaria</td>\n",
       "      <td>Bauer</td>\n",
       "      <td>45</td>\n",
       "      <td>Atlanta-Sandy Springs-Roswell, GA MSA</td>\n",
       "      <td>2018-12-24</td>\n",
       "      <td>ultimate</td>\n",
       "      <td>Unknown</td>\n",
       "    </tr>\n",
       "    <tr>\n",
       "      <th>1</th>\n",
       "      <td>1001</td>\n",
       "      <td>Mickey</td>\n",
       "      <td>Wilkerson</td>\n",
       "      <td>28</td>\n",
       "      <td>Seattle-Tacoma-Bellevue, WA MSA</td>\n",
       "      <td>2018-08-13</td>\n",
       "      <td>surf</td>\n",
       "      <td>Unknown</td>\n",
       "    </tr>\n",
       "    <tr>\n",
       "      <th>2</th>\n",
       "      <td>1002</td>\n",
       "      <td>Carlee</td>\n",
       "      <td>Hoffman</td>\n",
       "      <td>36</td>\n",
       "      <td>Las Vegas-Henderson-Paradise, NV MSA</td>\n",
       "      <td>2018-10-21</td>\n",
       "      <td>surf</td>\n",
       "      <td>Unknown</td>\n",
       "    </tr>\n",
       "    <tr>\n",
       "      <th>3</th>\n",
       "      <td>1003</td>\n",
       "      <td>Reynaldo</td>\n",
       "      <td>Jenkins</td>\n",
       "      <td>52</td>\n",
       "      <td>Tulsa, OK MSA</td>\n",
       "      <td>2018-01-28</td>\n",
       "      <td>surf</td>\n",
       "      <td>Unknown</td>\n",
       "    </tr>\n",
       "    <tr>\n",
       "      <th>4</th>\n",
       "      <td>1004</td>\n",
       "      <td>Leonila</td>\n",
       "      <td>Thompson</td>\n",
       "      <td>40</td>\n",
       "      <td>Seattle-Tacoma-Bellevue, WA MSA</td>\n",
       "      <td>2018-05-23</td>\n",
       "      <td>surf</td>\n",
       "      <td>Unknown</td>\n",
       "    </tr>\n",
       "    <tr>\n",
       "      <th>...</th>\n",
       "      <td>...</td>\n",
       "      <td>...</td>\n",
       "      <td>...</td>\n",
       "      <td>...</td>\n",
       "      <td>...</td>\n",
       "      <td>...</td>\n",
       "      <td>...</td>\n",
       "      <td>...</td>\n",
       "    </tr>\n",
       "    <tr>\n",
       "      <th>495</th>\n",
       "      <td>1495</td>\n",
       "      <td>Fidel</td>\n",
       "      <td>Sharpe</td>\n",
       "      <td>67</td>\n",
       "      <td>New York-Newark-Jersey City, NY-NJ-PA MSA</td>\n",
       "      <td>2018-09-04</td>\n",
       "      <td>surf</td>\n",
       "      <td>Unknown</td>\n",
       "    </tr>\n",
       "    <tr>\n",
       "      <th>496</th>\n",
       "      <td>1496</td>\n",
       "      <td>Ariel</td>\n",
       "      <td>Shepherd</td>\n",
       "      <td>49</td>\n",
       "      <td>New Orleans-Metairie, LA MSA</td>\n",
       "      <td>2018-02-20</td>\n",
       "      <td>surf</td>\n",
       "      <td>Unknown</td>\n",
       "    </tr>\n",
       "    <tr>\n",
       "      <th>497</th>\n",
       "      <td>1497</td>\n",
       "      <td>Donte</td>\n",
       "      <td>Barrera</td>\n",
       "      <td>49</td>\n",
       "      <td>Los Angeles-Long Beach-Anaheim, CA MSA</td>\n",
       "      <td>2018-12-10</td>\n",
       "      <td>ultimate</td>\n",
       "      <td>Unknown</td>\n",
       "    </tr>\n",
       "    <tr>\n",
       "      <th>498</th>\n",
       "      <td>1498</td>\n",
       "      <td>Scot</td>\n",
       "      <td>Williamson</td>\n",
       "      <td>51</td>\n",
       "      <td>New York-Newark-Jersey City, NY-NJ-PA MSA</td>\n",
       "      <td>2018-02-04</td>\n",
       "      <td>surf</td>\n",
       "      <td>Unknown</td>\n",
       "    </tr>\n",
       "    <tr>\n",
       "      <th>499</th>\n",
       "      <td>1499</td>\n",
       "      <td>Shena</td>\n",
       "      <td>Dickson</td>\n",
       "      <td>37</td>\n",
       "      <td>Orlando-Kissimmee-Sanford, FL MSA</td>\n",
       "      <td>2018-05-06</td>\n",
       "      <td>surf</td>\n",
       "      <td>Unknown</td>\n",
       "    </tr>\n",
       "  </tbody>\n",
       "</table>\n",
       "<p>500 rows × 8 columns</p>\n",
       "</div>"
      ],
      "text/plain": [
       "     user_id first_name   last_name  user_age  \\\n",
       "0       1000   Anamaria       Bauer        45   \n",
       "1       1001     Mickey   Wilkerson        28   \n",
       "2       1002     Carlee     Hoffman        36   \n",
       "3       1003   Reynaldo     Jenkins        52   \n",
       "4       1004    Leonila    Thompson        40   \n",
       "..       ...        ...         ...       ...   \n",
       "495     1495      Fidel      Sharpe        67   \n",
       "496     1496      Ariel    Shepherd        49   \n",
       "497     1497      Donte     Barrera        49   \n",
       "498     1498       Scot  Williamson        51   \n",
       "499     1499      Shena     Dickson        37   \n",
       "\n",
       "                                     user_city   reg_date      plan churn_date  \n",
       "0        Atlanta-Sandy Springs-Roswell, GA MSA 2018-12-24  ultimate    Unknown  \n",
       "1              Seattle-Tacoma-Bellevue, WA MSA 2018-08-13      surf    Unknown  \n",
       "2         Las Vegas-Henderson-Paradise, NV MSA 2018-10-21      surf    Unknown  \n",
       "3                                Tulsa, OK MSA 2018-01-28      surf    Unknown  \n",
       "4              Seattle-Tacoma-Bellevue, WA MSA 2018-05-23      surf    Unknown  \n",
       "..                                         ...        ...       ...        ...  \n",
       "495  New York-Newark-Jersey City, NY-NJ-PA MSA 2018-09-04      surf    Unknown  \n",
       "496               New Orleans-Metairie, LA MSA 2018-02-20      surf    Unknown  \n",
       "497     Los Angeles-Long Beach-Anaheim, CA MSA 2018-12-10  ultimate    Unknown  \n",
       "498  New York-Newark-Jersey City, NY-NJ-PA MSA 2018-02-04      surf    Unknown  \n",
       "499          Orlando-Kissimmee-Sanford, FL MSA 2018-05-06      surf    Unknown  \n",
       "\n",
       "[500 rows x 8 columns]"
      ]
     },
     "execution_count": 10,
     "metadata": {},
     "output_type": "execute_result"
    }
   ],
   "source": [
    "# cambiamos el formato a fecha en las columnas 'reg_date' y 'churn_date'\n",
    "df_users['reg_date'] = pd.to_datetime(df_users['reg_date'], infer_datetime_format=True)\n",
    "df_users['churn_date'] = pd.to_datetime(df_users['churn_date'], infer_datetime_format=True)\n",
    "\n",
    "df_users['churn_date'] = df_users['churn_date'].fillna('Unknown')   # Rellenamos los valores ausentes\n",
    "df_users.columns = ['user_id', 'first_name', 'last_name', 'user_age', 'user_city', 'reg_date', 'plan', 'churn_date']   # renombramos las columnas más descriptivas\n",
    "\n",
    "df_users.info()     # verificamos la información general y los Dtypes de las columnas\n",
    "df_users"
   ]
  },
  {
   "cell_type": "markdown",
   "metadata": {
    "id": "ycwuARJp0q07"
   },
   "source": [
    "### 1.7.2 Enriquecer los datos <a id='users_processing'></a>"
   ]
  },
  {
   "cell_type": "markdown",
   "metadata": {
    "id": "96NIh4CJ0q08"
   },
   "source": [
    "Al tener una columna con la Fecha de Registro, podemos dividirla para extraer el mes y el año y agregarlos en nuevas columnas cada valor.\n",
    "Esta información separada, nos podría ser útil para algun análisis más adelante."
   ]
  },
  {
   "cell_type": "code",
   "execution_count": 11,
   "metadata": {
    "id": "iq0AaBS90q08"
   },
   "outputs": [
    {
     "data": {
      "text/html": [
       "<div>\n",
       "<style scoped>\n",
       "    .dataframe tbody tr th:only-of-type {\n",
       "        vertical-align: middle;\n",
       "    }\n",
       "\n",
       "    .dataframe tbody tr th {\n",
       "        vertical-align: top;\n",
       "    }\n",
       "\n",
       "    .dataframe thead th {\n",
       "        text-align: right;\n",
       "    }\n",
       "</style>\n",
       "<table border=\"1\" class=\"dataframe\">\n",
       "  <thead>\n",
       "    <tr style=\"text-align: right;\">\n",
       "      <th></th>\n",
       "      <th>user_id</th>\n",
       "      <th>first_name</th>\n",
       "      <th>last_name</th>\n",
       "      <th>user_age</th>\n",
       "      <th>user_city</th>\n",
       "      <th>reg_date</th>\n",
       "      <th>reg_month</th>\n",
       "      <th>plan</th>\n",
       "      <th>churn_date</th>\n",
       "    </tr>\n",
       "  </thead>\n",
       "  <tbody>\n",
       "    <tr>\n",
       "      <th>0</th>\n",
       "      <td>1000</td>\n",
       "      <td>Anamaria</td>\n",
       "      <td>Bauer</td>\n",
       "      <td>45</td>\n",
       "      <td>Atlanta-Sandy Springs-Roswell, GA MSA</td>\n",
       "      <td>2018-12-24</td>\n",
       "      <td>12</td>\n",
       "      <td>ultimate</td>\n",
       "      <td>Unknown</td>\n",
       "    </tr>\n",
       "    <tr>\n",
       "      <th>1</th>\n",
       "      <td>1001</td>\n",
       "      <td>Mickey</td>\n",
       "      <td>Wilkerson</td>\n",
       "      <td>28</td>\n",
       "      <td>Seattle-Tacoma-Bellevue, WA MSA</td>\n",
       "      <td>2018-08-13</td>\n",
       "      <td>8</td>\n",
       "      <td>surf</td>\n",
       "      <td>Unknown</td>\n",
       "    </tr>\n",
       "    <tr>\n",
       "      <th>2</th>\n",
       "      <td>1002</td>\n",
       "      <td>Carlee</td>\n",
       "      <td>Hoffman</td>\n",
       "      <td>36</td>\n",
       "      <td>Las Vegas-Henderson-Paradise, NV MSA</td>\n",
       "      <td>2018-10-21</td>\n",
       "      <td>10</td>\n",
       "      <td>surf</td>\n",
       "      <td>Unknown</td>\n",
       "    </tr>\n",
       "    <tr>\n",
       "      <th>3</th>\n",
       "      <td>1003</td>\n",
       "      <td>Reynaldo</td>\n",
       "      <td>Jenkins</td>\n",
       "      <td>52</td>\n",
       "      <td>Tulsa, OK MSA</td>\n",
       "      <td>2018-01-28</td>\n",
       "      <td>1</td>\n",
       "      <td>surf</td>\n",
       "      <td>Unknown</td>\n",
       "    </tr>\n",
       "    <tr>\n",
       "      <th>4</th>\n",
       "      <td>1004</td>\n",
       "      <td>Leonila</td>\n",
       "      <td>Thompson</td>\n",
       "      <td>40</td>\n",
       "      <td>Seattle-Tacoma-Bellevue, WA MSA</td>\n",
       "      <td>2018-05-23</td>\n",
       "      <td>5</td>\n",
       "      <td>surf</td>\n",
       "      <td>Unknown</td>\n",
       "    </tr>\n",
       "    <tr>\n",
       "      <th>...</th>\n",
       "      <td>...</td>\n",
       "      <td>...</td>\n",
       "      <td>...</td>\n",
       "      <td>...</td>\n",
       "      <td>...</td>\n",
       "      <td>...</td>\n",
       "      <td>...</td>\n",
       "      <td>...</td>\n",
       "      <td>...</td>\n",
       "    </tr>\n",
       "    <tr>\n",
       "      <th>495</th>\n",
       "      <td>1495</td>\n",
       "      <td>Fidel</td>\n",
       "      <td>Sharpe</td>\n",
       "      <td>67</td>\n",
       "      <td>New York-Newark-Jersey City, NY-NJ-PA MSA</td>\n",
       "      <td>2018-09-04</td>\n",
       "      <td>9</td>\n",
       "      <td>surf</td>\n",
       "      <td>Unknown</td>\n",
       "    </tr>\n",
       "    <tr>\n",
       "      <th>496</th>\n",
       "      <td>1496</td>\n",
       "      <td>Ariel</td>\n",
       "      <td>Shepherd</td>\n",
       "      <td>49</td>\n",
       "      <td>New Orleans-Metairie, LA MSA</td>\n",
       "      <td>2018-02-20</td>\n",
       "      <td>2</td>\n",
       "      <td>surf</td>\n",
       "      <td>Unknown</td>\n",
       "    </tr>\n",
       "    <tr>\n",
       "      <th>497</th>\n",
       "      <td>1497</td>\n",
       "      <td>Donte</td>\n",
       "      <td>Barrera</td>\n",
       "      <td>49</td>\n",
       "      <td>Los Angeles-Long Beach-Anaheim, CA MSA</td>\n",
       "      <td>2018-12-10</td>\n",
       "      <td>12</td>\n",
       "      <td>ultimate</td>\n",
       "      <td>Unknown</td>\n",
       "    </tr>\n",
       "    <tr>\n",
       "      <th>498</th>\n",
       "      <td>1498</td>\n",
       "      <td>Scot</td>\n",
       "      <td>Williamson</td>\n",
       "      <td>51</td>\n",
       "      <td>New York-Newark-Jersey City, NY-NJ-PA MSA</td>\n",
       "      <td>2018-02-04</td>\n",
       "      <td>2</td>\n",
       "      <td>surf</td>\n",
       "      <td>Unknown</td>\n",
       "    </tr>\n",
       "    <tr>\n",
       "      <th>499</th>\n",
       "      <td>1499</td>\n",
       "      <td>Shena</td>\n",
       "      <td>Dickson</td>\n",
       "      <td>37</td>\n",
       "      <td>Orlando-Kissimmee-Sanford, FL MSA</td>\n",
       "      <td>2018-05-06</td>\n",
       "      <td>5</td>\n",
       "      <td>surf</td>\n",
       "      <td>Unknown</td>\n",
       "    </tr>\n",
       "  </tbody>\n",
       "</table>\n",
       "<p>500 rows × 9 columns</p>\n",
       "</div>"
      ],
      "text/plain": [
       "     user_id first_name   last_name  user_age  \\\n",
       "0       1000   Anamaria       Bauer        45   \n",
       "1       1001     Mickey   Wilkerson        28   \n",
       "2       1002     Carlee     Hoffman        36   \n",
       "3       1003   Reynaldo     Jenkins        52   \n",
       "4       1004    Leonila    Thompson        40   \n",
       "..       ...        ...         ...       ...   \n",
       "495     1495      Fidel      Sharpe        67   \n",
       "496     1496      Ariel    Shepherd        49   \n",
       "497     1497      Donte     Barrera        49   \n",
       "498     1498       Scot  Williamson        51   \n",
       "499     1499      Shena     Dickson        37   \n",
       "\n",
       "                                     user_city   reg_date  reg_month  \\\n",
       "0        Atlanta-Sandy Springs-Roswell, GA MSA 2018-12-24         12   \n",
       "1              Seattle-Tacoma-Bellevue, WA MSA 2018-08-13          8   \n",
       "2         Las Vegas-Henderson-Paradise, NV MSA 2018-10-21         10   \n",
       "3                                Tulsa, OK MSA 2018-01-28          1   \n",
       "4              Seattle-Tacoma-Bellevue, WA MSA 2018-05-23          5   \n",
       "..                                         ...        ...        ...   \n",
       "495  New York-Newark-Jersey City, NY-NJ-PA MSA 2018-09-04          9   \n",
       "496               New Orleans-Metairie, LA MSA 2018-02-20          2   \n",
       "497     Los Angeles-Long Beach-Anaheim, CA MSA 2018-12-10         12   \n",
       "498  New York-Newark-Jersey City, NY-NJ-PA MSA 2018-02-04          2   \n",
       "499          Orlando-Kissimmee-Sanford, FL MSA 2018-05-06          5   \n",
       "\n",
       "         plan churn_date  \n",
       "0    ultimate    Unknown  \n",
       "1        surf    Unknown  \n",
       "2        surf    Unknown  \n",
       "3        surf    Unknown  \n",
       "4        surf    Unknown  \n",
       "..        ...        ...  \n",
       "495      surf    Unknown  \n",
       "496      surf    Unknown  \n",
       "497  ultimate    Unknown  \n",
       "498      surf    Unknown  \n",
       "499      surf    Unknown  \n",
       "\n",
       "[500 rows x 9 columns]"
      ]
     },
     "execution_count": 11,
     "metadata": {},
     "output_type": "execute_result"
    }
   ],
   "source": [
    "# Separaremos los meses de la fecha de registro\n",
    "reg_month = df_users['reg_date'].dt.month\n",
    "df_users.insert(6, 'reg_month', reg_month)   # agregamos una columna con el mes de registro\n",
    "\n",
    "df_users    # imrpimimos el nuevo datafram"
   ]
  },
  {
   "cell_type": "markdown",
   "metadata": {},
   "source": [
    "Ahora el Dataframe de los usuarios se han corregido los dtypes, rellenado los valores ausentes, cambiado los nombres de las columnas y enriquecido agregando una columna con el mes. "
   ]
  },
  {
   "cell_type": "markdown",
   "metadata": {},
   "source": [
    "[Volver a Contenido](#back)"
   ]
  },
  {
   "cell_type": "markdown",
   "metadata": {
    "id": "o7MeKCid0q08"
   },
   "source": [
    "## 1.8 Llamadas <a id='calls'></a>"
   ]
  },
  {
   "cell_type": "code",
   "execution_count": 12,
   "metadata": {
    "id": "6dDlnoDm0q08"
   },
   "outputs": [
    {
     "name": "stdout",
     "output_type": "stream",
     "text": [
      "<class 'pandas.core.frame.DataFrame'>\n",
      "RangeIndex: 137735 entries, 0 to 137734\n",
      "Data columns (total 4 columns):\n",
      " #   Column     Non-Null Count   Dtype  \n",
      "---  ------     --------------   -----  \n",
      " 0   id         137735 non-null  object \n",
      " 1   user_id    137735 non-null  int64  \n",
      " 2   call_date  137735 non-null  object \n",
      " 3   duration   137735 non-null  float64\n",
      "dtypes: float64(1), int64(1), object(2)\n",
      "memory usage: 4.2+ MB\n",
      "             user_id       duration\n",
      "count  137735.000000  137735.000000\n",
      "mean     1247.658046       6.745927\n",
      "std       139.416268       5.839241\n",
      "min      1000.000000       0.000000\n",
      "25%      1128.000000       1.290000\n",
      "50%      1247.000000       5.980000\n",
      "75%      1365.000000      10.690000\n",
      "max      1499.000000      37.600000\n"
     ]
    }
   ],
   "source": [
    "# Imprime la información general/resumida sobre el DataFrame de las llamadas\n",
    "df_calls.info()\n",
    "print(df_calls.describe())"
   ]
  },
  {
   "cell_type": "code",
   "execution_count": 13,
   "metadata": {
    "id": "kuh1vlNB0q09"
   },
   "outputs": [
    {
     "data": {
      "text/html": [
       "<div>\n",
       "<style scoped>\n",
       "    .dataframe tbody tr th:only-of-type {\n",
       "        vertical-align: middle;\n",
       "    }\n",
       "\n",
       "    .dataframe tbody tr th {\n",
       "        vertical-align: top;\n",
       "    }\n",
       "\n",
       "    .dataframe thead th {\n",
       "        text-align: right;\n",
       "    }\n",
       "</style>\n",
       "<table border=\"1\" class=\"dataframe\">\n",
       "  <thead>\n",
       "    <tr style=\"text-align: right;\">\n",
       "      <th></th>\n",
       "      <th>id</th>\n",
       "      <th>user_id</th>\n",
       "      <th>call_date</th>\n",
       "      <th>duration</th>\n",
       "    </tr>\n",
       "  </thead>\n",
       "  <tbody>\n",
       "    <tr>\n",
       "      <th>46587</th>\n",
       "      <td>1169_645</td>\n",
       "      <td>1169</td>\n",
       "      <td>2018-12-08</td>\n",
       "      <td>0.00</td>\n",
       "    </tr>\n",
       "    <tr>\n",
       "      <th>127686</th>\n",
       "      <td>1456_722</td>\n",
       "      <td>1456</td>\n",
       "      <td>2018-07-12</td>\n",
       "      <td>8.03</td>\n",
       "    </tr>\n",
       "    <tr>\n",
       "      <th>55309</th>\n",
       "      <td>1198_53</td>\n",
       "      <td>1198</td>\n",
       "      <td>2018-12-11</td>\n",
       "      <td>14.20</td>\n",
       "    </tr>\n",
       "    <tr>\n",
       "      <th>74901</th>\n",
       "      <td>1264_192</td>\n",
       "      <td>1264</td>\n",
       "      <td>2018-12-05</td>\n",
       "      <td>4.64</td>\n",
       "    </tr>\n",
       "    <tr>\n",
       "      <th>123104</th>\n",
       "      <td>1434_437</td>\n",
       "      <td>1434</td>\n",
       "      <td>2018-10-25</td>\n",
       "      <td>2.93</td>\n",
       "    </tr>\n",
       "    <tr>\n",
       "      <th>130127</th>\n",
       "      <td>1467_363</td>\n",
       "      <td>1467</td>\n",
       "      <td>2018-06-13</td>\n",
       "      <td>12.15</td>\n",
       "    </tr>\n",
       "    <tr>\n",
       "      <th>13756</th>\n",
       "      <td>1058_356</td>\n",
       "      <td>1058</td>\n",
       "      <td>2018-12-23</td>\n",
       "      <td>4.85</td>\n",
       "    </tr>\n",
       "    <tr>\n",
       "      <th>119238</th>\n",
       "      <td>1415_286</td>\n",
       "      <td>1415</td>\n",
       "      <td>2018-11-14</td>\n",
       "      <td>8.49</td>\n",
       "    </tr>\n",
       "    <tr>\n",
       "      <th>42584</th>\n",
       "      <td>1156_189</td>\n",
       "      <td>1156</td>\n",
       "      <td>2018-10-24</td>\n",
       "      <td>12.57</td>\n",
       "    </tr>\n",
       "    <tr>\n",
       "      <th>36290</th>\n",
       "      <td>1138_244</td>\n",
       "      <td>1138</td>\n",
       "      <td>2018-03-15</td>\n",
       "      <td>2.58</td>\n",
       "    </tr>\n",
       "  </tbody>\n",
       "</table>\n",
       "</div>"
      ],
      "text/plain": [
       "              id  user_id   call_date  duration\n",
       "46587   1169_645     1169  2018-12-08      0.00\n",
       "127686  1456_722     1456  2018-07-12      8.03\n",
       "55309    1198_53     1198  2018-12-11     14.20\n",
       "74901   1264_192     1264  2018-12-05      4.64\n",
       "123104  1434_437     1434  2018-10-25      2.93\n",
       "130127  1467_363     1467  2018-06-13     12.15\n",
       "13756   1058_356     1058  2018-12-23      4.85\n",
       "119238  1415_286     1415  2018-11-14      8.49\n",
       "42584   1156_189     1156  2018-10-24     12.57\n",
       "36290   1138_244     1138  2018-03-15      2.58"
      ]
     },
     "execution_count": 13,
     "metadata": {},
     "output_type": "execute_result"
    }
   ],
   "source": [
    "# Imprime una muestra de datos para las llamadas\n",
    "df_calls.sample(10)"
   ]
  },
  {
   "cell_type": "code",
   "execution_count": 14,
   "metadata": {},
   "outputs": [
    {
     "name": "stdout",
     "output_type": "stream",
     "text": [
      "Valores ausentes:  id           0\n",
      "user_id      0\n",
      "call_date    0\n",
      "duration     0\n",
      "dtype: int64\n",
      "Valores duplicados:  0\n"
     ]
    }
   ],
   "source": [
    "# Buscamos si hay valores ausentes y/o duplicados\n",
    "print('Valores ausentes: ',df_calls.isna().sum())      # Valores ausentes\n",
    "print('Valores duplicados: ', df_calls.duplicated().sum()) # Verificamos si hay"
   ]
  },
  {
   "cell_type": "markdown",
   "metadata": {
    "id": "DOAxYJSx0q09"
   },
   "source": [
    "En el dataframe de llamadas, tenemos únicamente 4 columnas: 'id', 'user_id', 'call_date' y 'duration'.\n",
    "\n",
    "Revisando los Dtypes podemos notar que la información de la columna 'call_date' está como un 'object' lo cual no es correcto, tendremos que corregir este formato. al igual que la duración de las llamadas está en minutos.\n",
    "\n",
    "Se tiene un registro de 137,735 llamadas, sin datos ausentes o nulos, ni cuplicados tampoco."
   ]
  },
  {
   "cell_type": "markdown",
   "metadata": {
    "id": "S7hzxmbX0q0-"
   },
   "source": [
    "### 1.8.1 Corregir los datos <a id='calls_wrangling'></a>"
   ]
  },
  {
   "cell_type": "markdown",
   "metadata": {
    "id": "YxWyAjD20q0-"
   },
   "source": [
    "Vamos a cambiar el Dtype de la columna 'call_date' para convertirlo en formato de fecha.\n",
    "\n",
    "Redondearemos la duración de las llamadas para efectos prácticos.\n",
    "\n",
    "También actualizaremos el nombre de las columnas."
   ]
  },
  {
   "cell_type": "code",
   "execution_count": 15,
   "metadata": {
    "id": "S2r8xA4f0q0-"
   },
   "outputs": [
    {
     "name": "stdout",
     "output_type": "stream",
     "text": [
      "<class 'pandas.core.frame.DataFrame'>\n",
      "RangeIndex: 137735 entries, 0 to 137734\n",
      "Data columns (total 4 columns):\n",
      " #   Column     Non-Null Count   Dtype         \n",
      "---  ------     --------------   -----         \n",
      " 0   id         137735 non-null  object        \n",
      " 1   user_id    137735 non-null  int64         \n",
      " 2   call_date  137735 non-null  datetime64[ns]\n",
      " 3   duration   137735 non-null  float64       \n",
      "dtypes: datetime64[ns](1), float64(1), int64(1), object(1)\n",
      "memory usage: 4.2+ MB\n"
     ]
    },
    {
     "name": "stderr",
     "output_type": "stream",
     "text": [
      "C:\\Users\\aldot\\AppData\\Local\\Temp\\ipykernel_27280\\1124596286.py:1: UserWarning: The argument 'infer_datetime_format' is deprecated and will be removed in a future version. A strict version of it is now the default, see https://pandas.pydata.org/pdeps/0004-consistent-to-datetime-parsing.html. You can safely remove this argument.\n",
      "  df_calls['call_date'] = pd.to_datetime(df_calls['call_date'], infer_datetime_format=True)       # cambiamos el formato a fecha en la columna de 'call_date'\n"
     ]
    }
   ],
   "source": [
    "df_calls['call_date'] = pd.to_datetime(df_calls['call_date'], infer_datetime_format=True)       # cambiamos el formato a fecha en la columna de 'call_date'\n",
    "df_calls.info()    # revisamos la información general nuevamente"
   ]
  },
  {
   "cell_type": "code",
   "execution_count": 16,
   "metadata": {},
   "outputs": [
    {
     "data": {
      "text/html": [
       "<div>\n",
       "<style scoped>\n",
       "    .dataframe tbody tr th:only-of-type {\n",
       "        vertical-align: middle;\n",
       "    }\n",
       "\n",
       "    .dataframe tbody tr th {\n",
       "        vertical-align: top;\n",
       "    }\n",
       "\n",
       "    .dataframe thead th {\n",
       "        text-align: right;\n",
       "    }\n",
       "</style>\n",
       "<table border=\"1\" class=\"dataframe\">\n",
       "  <thead>\n",
       "    <tr style=\"text-align: right;\">\n",
       "      <th></th>\n",
       "      <th>call_id</th>\n",
       "      <th>user_id</th>\n",
       "      <th>call_date</th>\n",
       "      <th>duration_min</th>\n",
       "    </tr>\n",
       "  </thead>\n",
       "  <tbody>\n",
       "    <tr>\n",
       "      <th>0</th>\n",
       "      <td>1000_93</td>\n",
       "      <td>1000</td>\n",
       "      <td>2018-12-27</td>\n",
       "      <td>9.0</td>\n",
       "    </tr>\n",
       "    <tr>\n",
       "      <th>1</th>\n",
       "      <td>1000_145</td>\n",
       "      <td>1000</td>\n",
       "      <td>2018-12-27</td>\n",
       "      <td>14.0</td>\n",
       "    </tr>\n",
       "    <tr>\n",
       "      <th>2</th>\n",
       "      <td>1000_247</td>\n",
       "      <td>1000</td>\n",
       "      <td>2018-12-27</td>\n",
       "      <td>15.0</td>\n",
       "    </tr>\n",
       "    <tr>\n",
       "      <th>3</th>\n",
       "      <td>1000_309</td>\n",
       "      <td>1000</td>\n",
       "      <td>2018-12-28</td>\n",
       "      <td>6.0</td>\n",
       "    </tr>\n",
       "    <tr>\n",
       "      <th>4</th>\n",
       "      <td>1000_380</td>\n",
       "      <td>1000</td>\n",
       "      <td>2018-12-30</td>\n",
       "      <td>5.0</td>\n",
       "    </tr>\n",
       "    <tr>\n",
       "      <th>...</th>\n",
       "      <td>...</td>\n",
       "      <td>...</td>\n",
       "      <td>...</td>\n",
       "      <td>...</td>\n",
       "    </tr>\n",
       "    <tr>\n",
       "      <th>137730</th>\n",
       "      <td>1499_199</td>\n",
       "      <td>1499</td>\n",
       "      <td>2018-11-21</td>\n",
       "      <td>9.0</td>\n",
       "    </tr>\n",
       "    <tr>\n",
       "      <th>137731</th>\n",
       "      <td>1499_200</td>\n",
       "      <td>1499</td>\n",
       "      <td>2018-10-20</td>\n",
       "      <td>11.0</td>\n",
       "    </tr>\n",
       "    <tr>\n",
       "      <th>137732</th>\n",
       "      <td>1499_201</td>\n",
       "      <td>1499</td>\n",
       "      <td>2018-09-21</td>\n",
       "      <td>9.0</td>\n",
       "    </tr>\n",
       "    <tr>\n",
       "      <th>137733</th>\n",
       "      <td>1499_202</td>\n",
       "      <td>1499</td>\n",
       "      <td>2018-10-10</td>\n",
       "      <td>1.0</td>\n",
       "    </tr>\n",
       "    <tr>\n",
       "      <th>137734</th>\n",
       "      <td>1499_203</td>\n",
       "      <td>1499</td>\n",
       "      <td>2018-12-29</td>\n",
       "      <td>14.0</td>\n",
       "    </tr>\n",
       "  </tbody>\n",
       "</table>\n",
       "<p>137735 rows × 4 columns</p>\n",
       "</div>"
      ],
      "text/plain": [
       "         call_id  user_id  call_date  duration_min\n",
       "0        1000_93     1000 2018-12-27           9.0\n",
       "1       1000_145     1000 2018-12-27          14.0\n",
       "2       1000_247     1000 2018-12-27          15.0\n",
       "3       1000_309     1000 2018-12-28           6.0\n",
       "4       1000_380     1000 2018-12-30           5.0\n",
       "...          ...      ...        ...           ...\n",
       "137730  1499_199     1499 2018-11-21           9.0\n",
       "137731  1499_200     1499 2018-10-20          11.0\n",
       "137732  1499_201     1499 2018-09-21           9.0\n",
       "137733  1499_202     1499 2018-10-10           1.0\n",
       "137734  1499_203     1499 2018-12-29          14.0\n",
       "\n",
       "[137735 rows x 4 columns]"
      ]
     },
     "execution_count": 16,
     "metadata": {},
     "output_type": "execute_result"
    }
   ],
   "source": [
    "# Redondeamos hacia arriba la duración de las llamadas\n",
    "df_calls['duration'] = np.array(df_calls['duration'])\n",
    "df_calls['duration'] = np.ceil(df_calls['duration'])\n",
    "\n",
    "# Renombramos las columnas para mejor entendimiento\n",
    "df_calls.columns = ['call_id', 'user_id', 'call_date', 'duration_min']\n",
    "df_calls"
   ]
  },
  {
   "cell_type": "markdown",
   "metadata": {
    "id": "KrMgTrlG0q0_"
   },
   "source": [
    "### 1.8.2 Enriquecer los datos <a id='calls_processing'></a>"
   ]
  },
  {
   "cell_type": "markdown",
   "metadata": {
    "id": "a9MbmEvE0q0_"
   },
   "source": [
    "En este dataframe de llamadas podemos hacer varias cosas para enriquecer la información.\n",
    "\n",
    "Primeramente vamos a separar el mes de la fecha de cada llamada.\n",
    "\n",
    "Seguido de separar la duración en minutos y segundos."
   ]
  },
  {
   "cell_type": "code",
   "execution_count": 17,
   "metadata": {
    "id": "iZ1avpA_0q0_"
   },
   "outputs": [
    {
     "data": {
      "text/html": [
       "<div>\n",
       "<style scoped>\n",
       "    .dataframe tbody tr th:only-of-type {\n",
       "        vertical-align: middle;\n",
       "    }\n",
       "\n",
       "    .dataframe tbody tr th {\n",
       "        vertical-align: top;\n",
       "    }\n",
       "\n",
       "    .dataframe thead th {\n",
       "        text-align: right;\n",
       "    }\n",
       "</style>\n",
       "<table border=\"1\" class=\"dataframe\">\n",
       "  <thead>\n",
       "    <tr style=\"text-align: right;\">\n",
       "      <th></th>\n",
       "      <th>call_id</th>\n",
       "      <th>user_id</th>\n",
       "      <th>call_date</th>\n",
       "      <th>month</th>\n",
       "      <th>duration_min</th>\n",
       "    </tr>\n",
       "  </thead>\n",
       "  <tbody>\n",
       "    <tr>\n",
       "      <th>0</th>\n",
       "      <td>1000_93</td>\n",
       "      <td>1000</td>\n",
       "      <td>2018-12-27</td>\n",
       "      <td>12</td>\n",
       "      <td>9.0</td>\n",
       "    </tr>\n",
       "    <tr>\n",
       "      <th>1</th>\n",
       "      <td>1000_145</td>\n",
       "      <td>1000</td>\n",
       "      <td>2018-12-27</td>\n",
       "      <td>12</td>\n",
       "      <td>14.0</td>\n",
       "    </tr>\n",
       "    <tr>\n",
       "      <th>2</th>\n",
       "      <td>1000_247</td>\n",
       "      <td>1000</td>\n",
       "      <td>2018-12-27</td>\n",
       "      <td>12</td>\n",
       "      <td>15.0</td>\n",
       "    </tr>\n",
       "    <tr>\n",
       "      <th>3</th>\n",
       "      <td>1000_309</td>\n",
       "      <td>1000</td>\n",
       "      <td>2018-12-28</td>\n",
       "      <td>12</td>\n",
       "      <td>6.0</td>\n",
       "    </tr>\n",
       "    <tr>\n",
       "      <th>4</th>\n",
       "      <td>1000_380</td>\n",
       "      <td>1000</td>\n",
       "      <td>2018-12-30</td>\n",
       "      <td>12</td>\n",
       "      <td>5.0</td>\n",
       "    </tr>\n",
       "    <tr>\n",
       "      <th>...</th>\n",
       "      <td>...</td>\n",
       "      <td>...</td>\n",
       "      <td>...</td>\n",
       "      <td>...</td>\n",
       "      <td>...</td>\n",
       "    </tr>\n",
       "    <tr>\n",
       "      <th>137730</th>\n",
       "      <td>1499_199</td>\n",
       "      <td>1499</td>\n",
       "      <td>2018-11-21</td>\n",
       "      <td>11</td>\n",
       "      <td>9.0</td>\n",
       "    </tr>\n",
       "    <tr>\n",
       "      <th>137731</th>\n",
       "      <td>1499_200</td>\n",
       "      <td>1499</td>\n",
       "      <td>2018-10-20</td>\n",
       "      <td>10</td>\n",
       "      <td>11.0</td>\n",
       "    </tr>\n",
       "    <tr>\n",
       "      <th>137732</th>\n",
       "      <td>1499_201</td>\n",
       "      <td>1499</td>\n",
       "      <td>2018-09-21</td>\n",
       "      <td>9</td>\n",
       "      <td>9.0</td>\n",
       "    </tr>\n",
       "    <tr>\n",
       "      <th>137733</th>\n",
       "      <td>1499_202</td>\n",
       "      <td>1499</td>\n",
       "      <td>2018-10-10</td>\n",
       "      <td>10</td>\n",
       "      <td>1.0</td>\n",
       "    </tr>\n",
       "    <tr>\n",
       "      <th>137734</th>\n",
       "      <td>1499_203</td>\n",
       "      <td>1499</td>\n",
       "      <td>2018-12-29</td>\n",
       "      <td>12</td>\n",
       "      <td>14.0</td>\n",
       "    </tr>\n",
       "  </tbody>\n",
       "</table>\n",
       "<p>137735 rows × 5 columns</p>\n",
       "</div>"
      ],
      "text/plain": [
       "         call_id  user_id  call_date  month  duration_min\n",
       "0        1000_93     1000 2018-12-27     12           9.0\n",
       "1       1000_145     1000 2018-12-27     12          14.0\n",
       "2       1000_247     1000 2018-12-27     12          15.0\n",
       "3       1000_309     1000 2018-12-28     12           6.0\n",
       "4       1000_380     1000 2018-12-30     12           5.0\n",
       "...          ...      ...        ...    ...           ...\n",
       "137730  1499_199     1499 2018-11-21     11           9.0\n",
       "137731  1499_200     1499 2018-10-20     10          11.0\n",
       "137732  1499_201     1499 2018-09-21      9           9.0\n",
       "137733  1499_202     1499 2018-10-10     10           1.0\n",
       "137734  1499_203     1499 2018-12-29     12          14.0\n",
       "\n",
       "[137735 rows x 5 columns]"
      ]
     },
     "execution_count": 17,
     "metadata": {},
     "output_type": "execute_result"
    }
   ],
   "source": [
    "# Separaremos los meses de la fecha de la llamada\n",
    "call_month = df_calls['call_date'].dt.month\n",
    "df_calls.insert(3, 'month', call_month)   # agregamos una columna con el mes de registro\n",
    "df_calls    # imrpimimos el nuevo datafram\n",
    "\n",
    "# Vamos a convertir los minutos en segundos\n",
    "# df_calls['duration_sec'] = df_calls['duration'] * 60\n",
    "# df_calls.columns = ['call_id', 'user_id', 'call_date', 'call_month', 'duration_min', 'duration_sec']"
   ]
  },
  {
   "cell_type": "code",
   "execution_count": 18,
   "metadata": {},
   "outputs": [
    {
     "data": {
      "text/html": [
       "<div>\n",
       "<style scoped>\n",
       "    .dataframe tbody tr th:only-of-type {\n",
       "        vertical-align: middle;\n",
       "    }\n",
       "\n",
       "    .dataframe tbody tr th {\n",
       "        vertical-align: top;\n",
       "    }\n",
       "\n",
       "    .dataframe thead th {\n",
       "        text-align: right;\n",
       "    }\n",
       "</style>\n",
       "<table border=\"1\" class=\"dataframe\">\n",
       "  <thead>\n",
       "    <tr style=\"text-align: right;\">\n",
       "      <th></th>\n",
       "      <th>call_id</th>\n",
       "      <th>user_id</th>\n",
       "      <th>call_date</th>\n",
       "      <th>month</th>\n",
       "      <th>duration_min</th>\n",
       "    </tr>\n",
       "  </thead>\n",
       "  <tbody>\n",
       "    <tr>\n",
       "      <th>19</th>\n",
       "      <td>1001_4</td>\n",
       "      <td>1001</td>\n",
       "      <td>2018-12-05</td>\n",
       "      <td>12</td>\n",
       "      <td>0.0</td>\n",
       "    </tr>\n",
       "    <tr>\n",
       "      <th>25</th>\n",
       "      <td>1001_13</td>\n",
       "      <td>1001</td>\n",
       "      <td>2018-12-24</td>\n",
       "      <td>12</td>\n",
       "      <td>0.0</td>\n",
       "    </tr>\n",
       "    <tr>\n",
       "      <th>31</th>\n",
       "      <td>1001_30</td>\n",
       "      <td>1001</td>\n",
       "      <td>2018-10-17</td>\n",
       "      <td>10</td>\n",
       "      <td>0.0</td>\n",
       "    </tr>\n",
       "    <tr>\n",
       "      <th>32</th>\n",
       "      <td>1001_31</td>\n",
       "      <td>1001</td>\n",
       "      <td>2018-11-03</td>\n",
       "      <td>11</td>\n",
       "      <td>0.0</td>\n",
       "    </tr>\n",
       "    <tr>\n",
       "      <th>34</th>\n",
       "      <td>1001_35</td>\n",
       "      <td>1001</td>\n",
       "      <td>2018-12-21</td>\n",
       "      <td>12</td>\n",
       "      <td>0.0</td>\n",
       "    </tr>\n",
       "    <tr>\n",
       "      <th>...</th>\n",
       "      <td>...</td>\n",
       "      <td>...</td>\n",
       "      <td>...</td>\n",
       "      <td>...</td>\n",
       "      <td>...</td>\n",
       "    </tr>\n",
       "    <tr>\n",
       "      <th>137714</th>\n",
       "      <td>1499_183</td>\n",
       "      <td>1499</td>\n",
       "      <td>2018-11-10</td>\n",
       "      <td>11</td>\n",
       "      <td>0.0</td>\n",
       "    </tr>\n",
       "    <tr>\n",
       "      <th>137715</th>\n",
       "      <td>1499_184</td>\n",
       "      <td>1499</td>\n",
       "      <td>2018-09-15</td>\n",
       "      <td>9</td>\n",
       "      <td>0.0</td>\n",
       "    </tr>\n",
       "    <tr>\n",
       "      <th>137720</th>\n",
       "      <td>1499_189</td>\n",
       "      <td>1499</td>\n",
       "      <td>2018-12-27</td>\n",
       "      <td>12</td>\n",
       "      <td>0.0</td>\n",
       "    </tr>\n",
       "    <tr>\n",
       "      <th>137722</th>\n",
       "      <td>1499_191</td>\n",
       "      <td>1499</td>\n",
       "      <td>2018-12-24</td>\n",
       "      <td>12</td>\n",
       "      <td>0.0</td>\n",
       "    </tr>\n",
       "    <tr>\n",
       "      <th>137725</th>\n",
       "      <td>1499_194</td>\n",
       "      <td>1499</td>\n",
       "      <td>2018-10-31</td>\n",
       "      <td>10</td>\n",
       "      <td>0.0</td>\n",
       "    </tr>\n",
       "  </tbody>\n",
       "</table>\n",
       "<p>26834 rows × 5 columns</p>\n",
       "</div>"
      ],
      "text/plain": [
       "         call_id  user_id  call_date  month  duration_min\n",
       "19        1001_4     1001 2018-12-05     12           0.0\n",
       "25       1001_13     1001 2018-12-24     12           0.0\n",
       "31       1001_30     1001 2018-10-17     10           0.0\n",
       "32       1001_31     1001 2018-11-03     11           0.0\n",
       "34       1001_35     1001 2018-12-21     12           0.0\n",
       "...          ...      ...        ...    ...           ...\n",
       "137714  1499_183     1499 2018-11-10     11           0.0\n",
       "137715  1499_184     1499 2018-09-15      9           0.0\n",
       "137720  1499_189     1499 2018-12-27     12           0.0\n",
       "137722  1499_191     1499 2018-12-24     12           0.0\n",
       "137725  1499_194     1499 2018-10-31     10           0.0\n",
       "\n",
       "[26834 rows x 5 columns]"
      ]
     },
     "execution_count": 18,
     "metadata": {},
     "output_type": "execute_result"
    }
   ],
   "source": [
    "# Buscamos llamadas que tengan de cero (0) minutos de duración\n",
    "df_calls[df_calls['duration_min'] == 0]"
   ]
  },
  {
   "cell_type": "code",
   "execution_count": 19,
   "metadata": {},
   "outputs": [
    {
     "name": "stdout",
     "output_type": "stream",
     "text": [
      "<class 'pandas.core.frame.DataFrame'>\n",
      "Index: 110901 entries, 0 to 137734\n",
      "Data columns (total 5 columns):\n",
      " #   Column        Non-Null Count   Dtype         \n",
      "---  ------        --------------   -----         \n",
      " 0   call_id       110901 non-null  object        \n",
      " 1   user_id       110901 non-null  int64         \n",
      " 2   call_date     110901 non-null  datetime64[ns]\n",
      " 3   month         110901 non-null  int32         \n",
      " 4   duration_min  110901 non-null  float64       \n",
      "dtypes: datetime64[ns](1), float64(1), int32(1), int64(1), object(1)\n",
      "memory usage: 4.7+ MB\n"
     ]
    },
    {
     "data": {
      "text/html": [
       "<div>\n",
       "<style scoped>\n",
       "    .dataframe tbody tr th:only-of-type {\n",
       "        vertical-align: middle;\n",
       "    }\n",
       "\n",
       "    .dataframe tbody tr th {\n",
       "        vertical-align: top;\n",
       "    }\n",
       "\n",
       "    .dataframe thead th {\n",
       "        text-align: right;\n",
       "    }\n",
       "</style>\n",
       "<table border=\"1\" class=\"dataframe\">\n",
       "  <thead>\n",
       "    <tr style=\"text-align: right;\">\n",
       "      <th></th>\n",
       "      <th>call_id</th>\n",
       "      <th>user_id</th>\n",
       "      <th>call_date</th>\n",
       "      <th>month</th>\n",
       "      <th>duration_min</th>\n",
       "    </tr>\n",
       "  </thead>\n",
       "  <tbody>\n",
       "    <tr>\n",
       "      <th>0</th>\n",
       "      <td>1000_93</td>\n",
       "      <td>1000</td>\n",
       "      <td>2018-12-27</td>\n",
       "      <td>12</td>\n",
       "      <td>9.0</td>\n",
       "    </tr>\n",
       "    <tr>\n",
       "      <th>1</th>\n",
       "      <td>1000_145</td>\n",
       "      <td>1000</td>\n",
       "      <td>2018-12-27</td>\n",
       "      <td>12</td>\n",
       "      <td>14.0</td>\n",
       "    </tr>\n",
       "    <tr>\n",
       "      <th>2</th>\n",
       "      <td>1000_247</td>\n",
       "      <td>1000</td>\n",
       "      <td>2018-12-27</td>\n",
       "      <td>12</td>\n",
       "      <td>15.0</td>\n",
       "    </tr>\n",
       "    <tr>\n",
       "      <th>3</th>\n",
       "      <td>1000_309</td>\n",
       "      <td>1000</td>\n",
       "      <td>2018-12-28</td>\n",
       "      <td>12</td>\n",
       "      <td>6.0</td>\n",
       "    </tr>\n",
       "    <tr>\n",
       "      <th>4</th>\n",
       "      <td>1000_380</td>\n",
       "      <td>1000</td>\n",
       "      <td>2018-12-30</td>\n",
       "      <td>12</td>\n",
       "      <td>5.0</td>\n",
       "    </tr>\n",
       "    <tr>\n",
       "      <th>...</th>\n",
       "      <td>...</td>\n",
       "      <td>...</td>\n",
       "      <td>...</td>\n",
       "      <td>...</td>\n",
       "      <td>...</td>\n",
       "    </tr>\n",
       "    <tr>\n",
       "      <th>137730</th>\n",
       "      <td>1499_199</td>\n",
       "      <td>1499</td>\n",
       "      <td>2018-11-21</td>\n",
       "      <td>11</td>\n",
       "      <td>9.0</td>\n",
       "    </tr>\n",
       "    <tr>\n",
       "      <th>137731</th>\n",
       "      <td>1499_200</td>\n",
       "      <td>1499</td>\n",
       "      <td>2018-10-20</td>\n",
       "      <td>10</td>\n",
       "      <td>11.0</td>\n",
       "    </tr>\n",
       "    <tr>\n",
       "      <th>137732</th>\n",
       "      <td>1499_201</td>\n",
       "      <td>1499</td>\n",
       "      <td>2018-09-21</td>\n",
       "      <td>9</td>\n",
       "      <td>9.0</td>\n",
       "    </tr>\n",
       "    <tr>\n",
       "      <th>137733</th>\n",
       "      <td>1499_202</td>\n",
       "      <td>1499</td>\n",
       "      <td>2018-10-10</td>\n",
       "      <td>10</td>\n",
       "      <td>1.0</td>\n",
       "    </tr>\n",
       "    <tr>\n",
       "      <th>137734</th>\n",
       "      <td>1499_203</td>\n",
       "      <td>1499</td>\n",
       "      <td>2018-12-29</td>\n",
       "      <td>12</td>\n",
       "      <td>14.0</td>\n",
       "    </tr>\n",
       "  </tbody>\n",
       "</table>\n",
       "<p>110901 rows × 5 columns</p>\n",
       "</div>"
      ],
      "text/plain": [
       "         call_id  user_id  call_date  month  duration_min\n",
       "0        1000_93     1000 2018-12-27     12           9.0\n",
       "1       1000_145     1000 2018-12-27     12          14.0\n",
       "2       1000_247     1000 2018-12-27     12          15.0\n",
       "3       1000_309     1000 2018-12-28     12           6.0\n",
       "4       1000_380     1000 2018-12-30     12           5.0\n",
       "...          ...      ...        ...    ...           ...\n",
       "137730  1499_199     1499 2018-11-21     11           9.0\n",
       "137731  1499_200     1499 2018-10-20     10          11.0\n",
       "137732  1499_201     1499 2018-09-21      9           9.0\n",
       "137733  1499_202     1499 2018-10-10     10           1.0\n",
       "137734  1499_203     1499 2018-12-29     12          14.0\n",
       "\n",
       "[110901 rows x 5 columns]"
      ]
     },
     "execution_count": 19,
     "metadata": {},
     "output_type": "execute_result"
    }
   ],
   "source": [
    "# Filtramos un nuevo Dataframe que contenga llamadas con duración mayor a cero (0)\n",
    "df_calls = df_calls[df_calls['duration_min'] > 0]\n",
    "df_calls.info()\n",
    "df_calls"
   ]
  },
  {
   "cell_type": "markdown",
   "metadata": {},
   "source": [
    "En el Dataframe de llamadas se realizaron los siguientes cambios: dtypes para las fechas, se agrgpó una columna con el mes, redondeo de los minutos en la duración de las llamadas, se renombraron las columnas y se filtraron las llamadas con duración cero (0) eliminandolas."
   ]
  },
  {
   "cell_type": "markdown",
   "metadata": {},
   "source": [
    "<div class=\"alert alert-block alert-warning\">\n",
    "<b>Comentario Revisor</b> <a class=\"tocSkip\"></a>\n",
    "\n",
    "Qué podríamos decir hasta el momento de las llamadas que tienen una duración de 0?\n",
    "</div>"
   ]
  },
  {
   "cell_type": "markdown",
   "metadata": {},
   "source": [
    "<div class=\"alert alert-block alert-info\">\n",
    "<b>Respuesta del , Iteración 1</b> <a class=“tocSkip”></a>\n",
    "\n",
    "Tionatiuh, he redondeado hacia arriba la duración de las llamadas con el método ceil de math, para no tener decimales.\n",
    "\n",
    "No creo que fuese necesaria agregar una columna con la duración de las llamadas en segundos, por lo que la comente con #.\n",
    "\n",
    "Finalmente, he filtrado el dataframe de llamadas dejando sólamente registros con duración mayores que cero.\n",
    "</div>"
   ]
  },
  {
   "cell_type": "markdown",
   "metadata": {},
   "source": [
    "<div class=\"alert alert-block alert-success\">\n",
    "<b>Comentario revisor</b> <a class=\"tocSkip\"></a>\n",
    "\n",
    "Excelente trabajo con el redondeo de las duración de las llamadas"
   ]
  },
  {
   "cell_type": "markdown",
   "metadata": {},
   "source": [
    "[Volver a Contenido](#back)"
   ]
  },
  {
   "cell_type": "markdown",
   "metadata": {
    "id": "mOUZSi180q0_"
   },
   "source": [
    "## 1.9 Mensajes <a id='sms'></a>"
   ]
  },
  {
   "cell_type": "code",
   "execution_count": 20,
   "metadata": {
    "id": "R-bYJpdV0q1A"
   },
   "outputs": [
    {
     "name": "stdout",
     "output_type": "stream",
     "text": [
      "<class 'pandas.core.frame.DataFrame'>\n",
      "RangeIndex: 76051 entries, 0 to 76050\n",
      "Data columns (total 3 columns):\n",
      " #   Column        Non-Null Count  Dtype \n",
      "---  ------        --------------  ----- \n",
      " 0   id            76051 non-null  object\n",
      " 1   user_id       76051 non-null  int64 \n",
      " 2   message_date  76051 non-null  object\n",
      "dtypes: int64(1), object(2)\n",
      "memory usage: 1.7+ MB\n",
      "            user_id\n",
      "count  76051.000000\n",
      "mean    1245.972768\n",
      "std      139.843635\n",
      "min     1000.000000\n",
      "25%     1123.000000\n",
      "50%     1251.000000\n",
      "75%     1362.000000\n",
      "max     1497.000000\n"
     ]
    }
   ],
   "source": [
    "# Imprime la información general/resumida sobre el DataFrame de los mensajes\n",
    "df_sms.info()\n",
    "print(df_sms.describe())"
   ]
  },
  {
   "cell_type": "code",
   "execution_count": 21,
   "metadata": {
    "id": "mCEl2iGE0q1A"
   },
   "outputs": [
    {
     "data": {
      "text/html": [
       "<div>\n",
       "<style scoped>\n",
       "    .dataframe tbody tr th:only-of-type {\n",
       "        vertical-align: middle;\n",
       "    }\n",
       "\n",
       "    .dataframe tbody tr th {\n",
       "        vertical-align: top;\n",
       "    }\n",
       "\n",
       "    .dataframe thead th {\n",
       "        text-align: right;\n",
       "    }\n",
       "</style>\n",
       "<table border=\"1\" class=\"dataframe\">\n",
       "  <thead>\n",
       "    <tr style=\"text-align: right;\">\n",
       "      <th></th>\n",
       "      <th>id</th>\n",
       "      <th>user_id</th>\n",
       "      <th>message_date</th>\n",
       "    </tr>\n",
       "  </thead>\n",
       "  <tbody>\n",
       "    <tr>\n",
       "      <th>56360</th>\n",
       "      <td>1356_31</td>\n",
       "      <td>1356</td>\n",
       "      <td>2018-10-25</td>\n",
       "    </tr>\n",
       "    <tr>\n",
       "      <th>33388</th>\n",
       "      <td>1211_64</td>\n",
       "      <td>1211</td>\n",
       "      <td>2018-09-18</td>\n",
       "    </tr>\n",
       "    <tr>\n",
       "      <th>6441</th>\n",
       "      <td>1055_559</td>\n",
       "      <td>1055</td>\n",
       "      <td>2018-12-17</td>\n",
       "    </tr>\n",
       "    <tr>\n",
       "      <th>56367</th>\n",
       "      <td>1356_38</td>\n",
       "      <td>1356</td>\n",
       "      <td>2018-10-29</td>\n",
       "    </tr>\n",
       "    <tr>\n",
       "      <th>45352</th>\n",
       "      <td>1304_546</td>\n",
       "      <td>1304</td>\n",
       "      <td>2018-11-27</td>\n",
       "    </tr>\n",
       "    <tr>\n",
       "      <th>28940</th>\n",
       "      <td>1176_81</td>\n",
       "      <td>1176</td>\n",
       "      <td>2018-12-05</td>\n",
       "    </tr>\n",
       "    <tr>\n",
       "      <th>30692</th>\n",
       "      <td>1193_384</td>\n",
       "      <td>1193</td>\n",
       "      <td>2018-11-24</td>\n",
       "    </tr>\n",
       "    <tr>\n",
       "      <th>17338</th>\n",
       "      <td>1114_187</td>\n",
       "      <td>1114</td>\n",
       "      <td>2018-08-20</td>\n",
       "    </tr>\n",
       "    <tr>\n",
       "      <th>68363</th>\n",
       "      <td>1440_229</td>\n",
       "      <td>1440</td>\n",
       "      <td>2018-11-14</td>\n",
       "    </tr>\n",
       "    <tr>\n",
       "      <th>63796</th>\n",
       "      <td>1405_627</td>\n",
       "      <td>1405</td>\n",
       "      <td>2018-10-03</td>\n",
       "    </tr>\n",
       "  </tbody>\n",
       "</table>\n",
       "</div>"
      ],
      "text/plain": [
       "             id  user_id message_date\n",
       "56360   1356_31     1356   2018-10-25\n",
       "33388   1211_64     1211   2018-09-18\n",
       "6441   1055_559     1055   2018-12-17\n",
       "56367   1356_38     1356   2018-10-29\n",
       "45352  1304_546     1304   2018-11-27\n",
       "28940   1176_81     1176   2018-12-05\n",
       "30692  1193_384     1193   2018-11-24\n",
       "17338  1114_187     1114   2018-08-20\n",
       "68363  1440_229     1440   2018-11-14\n",
       "63796  1405_627     1405   2018-10-03"
      ]
     },
     "execution_count": 21,
     "metadata": {},
     "output_type": "execute_result"
    }
   ],
   "source": [
    "# Imprime una muestra de datos para los mensajes\n",
    "df_sms.sample(10)"
   ]
  },
  {
   "cell_type": "code",
   "execution_count": 22,
   "metadata": {},
   "outputs": [
    {
     "name": "stdout",
     "output_type": "stream",
     "text": [
      "Valores ausentes:  id              0\n",
      "user_id         0\n",
      "message_date    0\n",
      "dtype: int64\n",
      "Valores duplicados:  0\n"
     ]
    }
   ],
   "source": [
    "# Buscamos si hay valores ausentes y/o duplicados\n",
    "print('Valores ausentes: ',df_sms.isna().sum())      # Valores ausentes\n",
    "print('Valores duplicados: ', df_sms.duplicated().sum()) # Verificamos si hay"
   ]
  },
  {
   "cell_type": "markdown",
   "metadata": {
    "id": "04xDj7KH0q1A"
   },
   "source": [
    "En el dataframde de mensajes tipo \"sms\" tenemos 3 columnas que se llaman 'id', 'user_id' y 'message_date'.\n",
    "\n",
    "Las columnas tienen Dtype object, int64 y objet, lo cual no es lo correcto al tener un dato de fecha como objeto, este debe ser corregido.\n",
    "\n",
    "Se tiene un total de 76, 051 mensajes registrados, sin valores ausentes o nulos, ni duplicados tampoco."
   ]
  },
  {
   "cell_type": "markdown",
   "metadata": {
    "id": "Sprfak900q1B"
   },
   "source": [
    "### 1.9.1 Corregir los datos <a id='sms_wrangling'></a>"
   ]
  },
  {
   "cell_type": "markdown",
   "metadata": {
    "id": "eGw7d9j10q1B"
   },
   "source": [
    "Vamos a cambiar el Dtype de la columna 'message_date' para convertirlo en formato de fecha.\n",
    "\n",
    "Actualisaremos el nombre de las columnas para mejor identificación del id."
   ]
  },
  {
   "cell_type": "code",
   "execution_count": 23,
   "metadata": {
    "id": "vsllvkoa0q1B"
   },
   "outputs": [
    {
     "name": "stdout",
     "output_type": "stream",
     "text": [
      "<class 'pandas.core.frame.DataFrame'>\n",
      "RangeIndex: 76051 entries, 0 to 76050\n",
      "Data columns (total 3 columns):\n",
      " #   Column        Non-Null Count  Dtype         \n",
      "---  ------        --------------  -----         \n",
      " 0   sms_id        76051 non-null  object        \n",
      " 1   user_id       76051 non-null  int64         \n",
      " 2   message_date  76051 non-null  datetime64[ns]\n",
      "dtypes: datetime64[ns](1), int64(1), object(1)\n",
      "memory usage: 1.7+ MB\n"
     ]
    },
    {
     "name": "stderr",
     "output_type": "stream",
     "text": [
      "C:\\Users\\aldot\\AppData\\Local\\Temp\\ipykernel_27280\\402032001.py:1: UserWarning: The argument 'infer_datetime_format' is deprecated and will be removed in a future version. A strict version of it is now the default, see https://pandas.pydata.org/pdeps/0004-consistent-to-datetime-parsing.html. You can safely remove this argument.\n",
      "  df_sms['message_date'] = pd.to_datetime(df_sms['message_date'], infer_datetime_format=True)       # cambiamos el formato a fecha en la columna de 'message_date'\n"
     ]
    }
   ],
   "source": [
    "df_sms['message_date'] = pd.to_datetime(df_sms['message_date'], infer_datetime_format=True)       # cambiamos el formato a fecha en la columna de 'message_date'\n",
    "df_sms.columns = ['sms_id', 'user_id', 'message_date']\n",
    "df_sms. info()    # revisamos la información general nuevamente"
   ]
  },
  {
   "cell_type": "markdown",
   "metadata": {
    "id": "HvLid7iD0q1B"
   },
   "source": [
    "### 1.9.2 Enriquecer los datos <a id='sms_processing'></a>"
   ]
  },
  {
   "cell_type": "markdown",
   "metadata": {
    "id": "8nhPFKIe0q1C"
   },
   "source": [
    "En este dataframe de mensajes podemos separar el mes de la fecha de cada mensaje."
   ]
  },
  {
   "cell_type": "code",
   "execution_count": 24,
   "metadata": {
    "id": "zYEXZac10q1C"
   },
   "outputs": [
    {
     "data": {
      "text/html": [
       "<div>\n",
       "<style scoped>\n",
       "    .dataframe tbody tr th:only-of-type {\n",
       "        vertical-align: middle;\n",
       "    }\n",
       "\n",
       "    .dataframe tbody tr th {\n",
       "        vertical-align: top;\n",
       "    }\n",
       "\n",
       "    .dataframe thead th {\n",
       "        text-align: right;\n",
       "    }\n",
       "</style>\n",
       "<table border=\"1\" class=\"dataframe\">\n",
       "  <thead>\n",
       "    <tr style=\"text-align: right;\">\n",
       "      <th></th>\n",
       "      <th>sms_id</th>\n",
       "      <th>user_id</th>\n",
       "      <th>message_date</th>\n",
       "      <th>month</th>\n",
       "    </tr>\n",
       "  </thead>\n",
       "  <tbody>\n",
       "    <tr>\n",
       "      <th>0</th>\n",
       "      <td>1000_125</td>\n",
       "      <td>1000</td>\n",
       "      <td>2018-12-27</td>\n",
       "      <td>12</td>\n",
       "    </tr>\n",
       "    <tr>\n",
       "      <th>1</th>\n",
       "      <td>1000_160</td>\n",
       "      <td>1000</td>\n",
       "      <td>2018-12-31</td>\n",
       "      <td>12</td>\n",
       "    </tr>\n",
       "    <tr>\n",
       "      <th>2</th>\n",
       "      <td>1000_223</td>\n",
       "      <td>1000</td>\n",
       "      <td>2018-12-31</td>\n",
       "      <td>12</td>\n",
       "    </tr>\n",
       "    <tr>\n",
       "      <th>3</th>\n",
       "      <td>1000_251</td>\n",
       "      <td>1000</td>\n",
       "      <td>2018-12-27</td>\n",
       "      <td>12</td>\n",
       "    </tr>\n",
       "    <tr>\n",
       "      <th>4</th>\n",
       "      <td>1000_255</td>\n",
       "      <td>1000</td>\n",
       "      <td>2018-12-26</td>\n",
       "      <td>12</td>\n",
       "    </tr>\n",
       "    <tr>\n",
       "      <th>...</th>\n",
       "      <td>...</td>\n",
       "      <td>...</td>\n",
       "      <td>...</td>\n",
       "      <td>...</td>\n",
       "    </tr>\n",
       "    <tr>\n",
       "      <th>76046</th>\n",
       "      <td>1497_526</td>\n",
       "      <td>1497</td>\n",
       "      <td>2018-12-24</td>\n",
       "      <td>12</td>\n",
       "    </tr>\n",
       "    <tr>\n",
       "      <th>76047</th>\n",
       "      <td>1497_536</td>\n",
       "      <td>1497</td>\n",
       "      <td>2018-12-24</td>\n",
       "      <td>12</td>\n",
       "    </tr>\n",
       "    <tr>\n",
       "      <th>76048</th>\n",
       "      <td>1497_547</td>\n",
       "      <td>1497</td>\n",
       "      <td>2018-12-31</td>\n",
       "      <td>12</td>\n",
       "    </tr>\n",
       "    <tr>\n",
       "      <th>76049</th>\n",
       "      <td>1497_558</td>\n",
       "      <td>1497</td>\n",
       "      <td>2018-12-24</td>\n",
       "      <td>12</td>\n",
       "    </tr>\n",
       "    <tr>\n",
       "      <th>76050</th>\n",
       "      <td>1497_613</td>\n",
       "      <td>1497</td>\n",
       "      <td>2018-12-23</td>\n",
       "      <td>12</td>\n",
       "    </tr>\n",
       "  </tbody>\n",
       "</table>\n",
       "<p>76051 rows × 4 columns</p>\n",
       "</div>"
      ],
      "text/plain": [
       "         sms_id  user_id message_date  month\n",
       "0      1000_125     1000   2018-12-27     12\n",
       "1      1000_160     1000   2018-12-31     12\n",
       "2      1000_223     1000   2018-12-31     12\n",
       "3      1000_251     1000   2018-12-27     12\n",
       "4      1000_255     1000   2018-12-26     12\n",
       "...         ...      ...          ...    ...\n",
       "76046  1497_526     1497   2018-12-24     12\n",
       "76047  1497_536     1497   2018-12-24     12\n",
       "76048  1497_547     1497   2018-12-31     12\n",
       "76049  1497_558     1497   2018-12-24     12\n",
       "76050  1497_613     1497   2018-12-23     12\n",
       "\n",
       "[76051 rows x 4 columns]"
      ]
     },
     "execution_count": 24,
     "metadata": {},
     "output_type": "execute_result"
    }
   ],
   "source": [
    "df_sms['month'] = df_sms['message_date'].dt.month   # agregamos una columna con el mes de registro\n",
    "df_sms  # revisamos el nuevo dataframe"
   ]
  },
  {
   "cell_type": "markdown",
   "metadata": {},
   "source": [
    "En este Dataframe de mensajes (sms) sólo se tuvo que corregir de dtype en la columna con valores de fechas, se cambiaron los nombres de las columnas por unos más descriptivos y finalmente se agregó una columna con el valor de mes para futuros análisis."
   ]
  },
  {
   "cell_type": "markdown",
   "metadata": {},
   "source": [
    "[Volver a Contenido](#back)"
   ]
  },
  {
   "cell_type": "markdown",
   "metadata": {
    "id": "bStkaxn40q1C"
   },
   "source": [
    "## 1.10 Internet <a id='data'></a>"
   ]
  },
  {
   "cell_type": "code",
   "execution_count": 25,
   "metadata": {
    "id": "e-Uz5qyn0q1C"
   },
   "outputs": [
    {
     "name": "stdout",
     "output_type": "stream",
     "text": [
      "<class 'pandas.core.frame.DataFrame'>\n",
      "RangeIndex: 104825 entries, 0 to 104824\n",
      "Data columns (total 4 columns):\n",
      " #   Column        Non-Null Count   Dtype  \n",
      "---  ------        --------------   -----  \n",
      " 0   id            104825 non-null  object \n",
      " 1   user_id       104825 non-null  int64  \n",
      " 2   session_date  104825 non-null  object \n",
      " 3   mb_used       104825 non-null  float64\n",
      "dtypes: float64(1), int64(1), object(2)\n",
      "memory usage: 3.2+ MB\n",
      "             user_id        mb_used\n",
      "count  104825.000000  104825.000000\n",
      "mean     1242.496361     366.713701\n",
      "std       142.053913     277.170542\n",
      "min      1000.000000       0.000000\n",
      "25%      1122.000000     136.080000\n",
      "50%      1236.000000     343.980000\n",
      "75%      1367.000000     554.610000\n",
      "max      1499.000000    1693.470000\n"
     ]
    }
   ],
   "source": [
    "# Imprime la información general/resumida sobre el DataFrame de internet\n",
    "df_data.info()\n",
    "print(df_data.describe())"
   ]
  },
  {
   "cell_type": "code",
   "execution_count": 26,
   "metadata": {
    "id": "9r3x_XLw0q1C"
   },
   "outputs": [
    {
     "data": {
      "text/html": [
       "<div>\n",
       "<style scoped>\n",
       "    .dataframe tbody tr th:only-of-type {\n",
       "        vertical-align: middle;\n",
       "    }\n",
       "\n",
       "    .dataframe tbody tr th {\n",
       "        vertical-align: top;\n",
       "    }\n",
       "\n",
       "    .dataframe thead th {\n",
       "        text-align: right;\n",
       "    }\n",
       "</style>\n",
       "<table border=\"1\" class=\"dataframe\">\n",
       "  <thead>\n",
       "    <tr style=\"text-align: right;\">\n",
       "      <th></th>\n",
       "      <th>id</th>\n",
       "      <th>user_id</th>\n",
       "      <th>session_date</th>\n",
       "      <th>mb_used</th>\n",
       "    </tr>\n",
       "  </thead>\n",
       "  <tbody>\n",
       "    <tr>\n",
       "      <th>99839</th>\n",
       "      <td>1472_282</td>\n",
       "      <td>1472</td>\n",
       "      <td>2018-05-13</td>\n",
       "      <td>286.66</td>\n",
       "    </tr>\n",
       "    <tr>\n",
       "      <th>31505</th>\n",
       "      <td>1144_229</td>\n",
       "      <td>1144</td>\n",
       "      <td>2018-06-21</td>\n",
       "      <td>339.43</td>\n",
       "    </tr>\n",
       "    <tr>\n",
       "      <th>44448</th>\n",
       "      <td>1196_460</td>\n",
       "      <td>1196</td>\n",
       "      <td>2018-04-05</td>\n",
       "      <td>740.49</td>\n",
       "    </tr>\n",
       "    <tr>\n",
       "      <th>44192</th>\n",
       "      <td>1196_195</td>\n",
       "      <td>1196</td>\n",
       "      <td>2018-05-01</td>\n",
       "      <td>529.56</td>\n",
       "    </tr>\n",
       "    <tr>\n",
       "      <th>56527</th>\n",
       "      <td>1255_307</td>\n",
       "      <td>1255</td>\n",
       "      <td>2018-08-23</td>\n",
       "      <td>831.36</td>\n",
       "    </tr>\n",
       "    <tr>\n",
       "      <th>65555</th>\n",
       "      <td>1302_101</td>\n",
       "      <td>1302</td>\n",
       "      <td>2018-11-10</td>\n",
       "      <td>0.00</td>\n",
       "    </tr>\n",
       "    <tr>\n",
       "      <th>91177</th>\n",
       "      <td>1420_70</td>\n",
       "      <td>1420</td>\n",
       "      <td>2018-09-10</td>\n",
       "      <td>134.71</td>\n",
       "    </tr>\n",
       "    <tr>\n",
       "      <th>52517</th>\n",
       "      <td>1236_384</td>\n",
       "      <td>1236</td>\n",
       "      <td>2018-04-28</td>\n",
       "      <td>0.00</td>\n",
       "    </tr>\n",
       "    <tr>\n",
       "      <th>65110</th>\n",
       "      <td>1299_398</td>\n",
       "      <td>1299</td>\n",
       "      <td>2018-06-12</td>\n",
       "      <td>0.00</td>\n",
       "    </tr>\n",
       "    <tr>\n",
       "      <th>13729</th>\n",
       "      <td>1064_177</td>\n",
       "      <td>1064</td>\n",
       "      <td>2018-08-01</td>\n",
       "      <td>377.51</td>\n",
       "    </tr>\n",
       "  </tbody>\n",
       "</table>\n",
       "</div>"
      ],
      "text/plain": [
       "             id  user_id session_date  mb_used\n",
       "99839  1472_282     1472   2018-05-13   286.66\n",
       "31505  1144_229     1144   2018-06-21   339.43\n",
       "44448  1196_460     1196   2018-04-05   740.49\n",
       "44192  1196_195     1196   2018-05-01   529.56\n",
       "56527  1255_307     1255   2018-08-23   831.36\n",
       "65555  1302_101     1302   2018-11-10     0.00\n",
       "91177   1420_70     1420   2018-09-10   134.71\n",
       "52517  1236_384     1236   2018-04-28     0.00\n",
       "65110  1299_398     1299   2018-06-12     0.00\n",
       "13729  1064_177     1064   2018-08-01   377.51"
      ]
     },
     "execution_count": 26,
     "metadata": {},
     "output_type": "execute_result"
    }
   ],
   "source": [
    "# Imprime una muestra de datos para el tráfico de internet\n",
    "df_data.sample(10)"
   ]
  },
  {
   "cell_type": "code",
   "execution_count": 27,
   "metadata": {},
   "outputs": [
    {
     "name": "stdout",
     "output_type": "stream",
     "text": [
      "Valores ausentes:  id              0\n",
      "user_id         0\n",
      "session_date    0\n",
      "mb_used         0\n",
      "dtype: int64\n",
      "Valores duplicados:  0\n"
     ]
    }
   ],
   "source": [
    "# Buscamos si hay valores ausentes y/o duplicados\n",
    "print('Valores ausentes: ',df_data.isna().sum())      # Valores ausentes\n",
    "print('Valores duplicados: ', df_data.duplicated().sum()) # Verificamos si hay"
   ]
  },
  {
   "cell_type": "markdown",
   "metadata": {
    "id": "EzOG5ik30q1D"
   },
   "source": [
    "El dataframe de data sobre internet, se pueden notar 4 columnas principales llamadas 'id', 'user_id', 'session_date' y 'mb_user'.\n",
    "\n",
    "Las columnas tienen un Dtype de 'object', 'int64', 'object' y 'float64' respectivamente para cada una, al igual que en los otros dataframes, es conveniente corregir el Dtype para la informacion que contenga fechas.\n",
    "\n",
    "El total de registros de consultas en internet, es de 104,825 líneas de las cuales no hay valores ausentes o nulos, ni tampoco duplicados."
   ]
  },
  {
   "cell_type": "markdown",
   "metadata": {
    "id": "yA0tkPFg0q1D"
   },
   "source": [
    "### 1.10.1 Corregir los datos <a id='data_wrangling'></a>"
   ]
  },
  {
   "cell_type": "markdown",
   "metadata": {
    "id": "zlZMuIEK0q1D"
   },
   "source": [
    "Vamos a cambiar el Dtype de la columna 'session_date' para convertirlo en formato de fecha.\n",
    "\n",
    "Actualisaremos el nombre de las columnas para mejor identificación del id."
   ]
  },
  {
   "cell_type": "code",
   "execution_count": 28,
   "metadata": {
    "id": "zVeanzdd0q1E"
   },
   "outputs": [
    {
     "name": "stdout",
     "output_type": "stream",
     "text": [
      "<class 'pandas.core.frame.DataFrame'>\n",
      "RangeIndex: 104825 entries, 0 to 104824\n",
      "Data columns (total 4 columns):\n",
      " #   Column        Non-Null Count   Dtype         \n",
      "---  ------        --------------   -----         \n",
      " 0   data_id       104825 non-null  object        \n",
      " 1   user_id       104825 non-null  int64         \n",
      " 2   session_date  104825 non-null  datetime64[ns]\n",
      " 3   mb_used       104825 non-null  float64       \n",
      "dtypes: datetime64[ns](1), float64(1), int64(1), object(1)\n",
      "memory usage: 3.2+ MB\n"
     ]
    },
    {
     "name": "stderr",
     "output_type": "stream",
     "text": [
      "C:\\Users\\aldot\\AppData\\Local\\Temp\\ipykernel_27280\\3165751075.py:1: UserWarning: The argument 'infer_datetime_format' is deprecated and will be removed in a future version. A strict version of it is now the default, see https://pandas.pydata.org/pdeps/0004-consistent-to-datetime-parsing.html. You can safely remove this argument.\n",
      "  df_data['session_date'] = pd.to_datetime(df_data['session_date'], infer_datetime_format=True)       # cambiamos el formato a fecha en la columna de 'message_date'\n"
     ]
    }
   ],
   "source": [
    "df_data['session_date'] = pd.to_datetime(df_data['session_date'], infer_datetime_format=True)       # cambiamos el formato a fecha en la columna de 'message_date'\n",
    "df_data.columns = ['data_id', 'user_id', 'session_date', 'mb_used']     # Renombramos las columnas\n",
    "df_data.info()    # revisamos la información general nuevamente"
   ]
  },
  {
   "cell_type": "markdown",
   "metadata": {},
   "source": [
    "<div class=\"alert alert-block alert-warning\">\n",
    "<b>Comentario revisor</b> <a class=\"tocSkip\"></a>\n",
    "\n",
    "\n",
    "Te recomiendo solamente comentar que cuando agrupemos los datos vamos a tener que redondear hacia arriba lo valores de la transformación de mbegabyter a gigabyte, para este ejercicio debemos hacer el redondeo superior dado que se cobra el costo extra en cuanto se pasa de los límites.Por lo que es necesario hacer la transformación de mb a gb y después hacer el redondeo.  \n",
    "</div>"
   ]
  },
  {
   "cell_type": "markdown",
   "metadata": {},
   "source": [
    "<div class=\"alert alert-block alert-info\">\n",
    "<b>Respuesta del , Iteración 1</b> <a class=“tocSkip”></a>\n",
    "\n",
    "Tionatiuh, he agregado una columna donde se converten los megabytes a gigabytes; así como también, he redondeado hacia arriba ambos valores.\n",
    "</div>"
   ]
  },
  {
   "cell_type": "markdown",
   "metadata": {},
   "source": [
    "<div class=\"alert alert-block alert-success\">\n",
    "<b>Comentario revisor</b> <a class=\"tocSkip\"></a>\n",
    "\n",
    "Muy buen trabajo con el ajuste!"
   ]
  },
  {
   "cell_type": "markdown",
   "metadata": {
    "id": "e8_mLF4a0q1E"
   },
   "source": [
    "### 1.10.2 Enriquecer los datos <a id='data_processing'></a>"
   ]
  },
  {
   "cell_type": "markdown",
   "metadata": {
    "id": "xhNdn2tE0q1E"
   },
   "source": [
    "1.- Vamos a separar el mes y el año de la fecha de cada consulta en internet.\n",
    "\n",
    "2.- Redondearemos hacia arriba los megabytes usados.\n",
    "\n",
    "3.- Convertiremos los megabytes a gigabytes."
   ]
  },
  {
   "cell_type": "code",
   "execution_count": 29,
   "metadata": {
    "id": "ESiYPIEK0q1E"
   },
   "outputs": [
    {
     "data": {
      "text/html": [
       "<div>\n",
       "<style scoped>\n",
       "    .dataframe tbody tr th:only-of-type {\n",
       "        vertical-align: middle;\n",
       "    }\n",
       "\n",
       "    .dataframe tbody tr th {\n",
       "        vertical-align: top;\n",
       "    }\n",
       "\n",
       "    .dataframe thead th {\n",
       "        text-align: right;\n",
       "    }\n",
       "</style>\n",
       "<table border=\"1\" class=\"dataframe\">\n",
       "  <thead>\n",
       "    <tr style=\"text-align: right;\">\n",
       "      <th></th>\n",
       "      <th>data_id</th>\n",
       "      <th>user_id</th>\n",
       "      <th>session_date</th>\n",
       "      <th>month</th>\n",
       "      <th>mb_used</th>\n",
       "      <th>gb_used</th>\n",
       "    </tr>\n",
       "  </thead>\n",
       "  <tbody>\n",
       "    <tr>\n",
       "      <th>83801</th>\n",
       "      <td>1390_356</td>\n",
       "      <td>1390</td>\n",
       "      <td>2018-05-20</td>\n",
       "      <td>5</td>\n",
       "      <td>264.21</td>\n",
       "      <td>0.258018</td>\n",
       "    </tr>\n",
       "    <tr>\n",
       "      <th>20662</th>\n",
       "      <td>1095_354</td>\n",
       "      <td>1095</td>\n",
       "      <td>2018-06-02</td>\n",
       "      <td>6</td>\n",
       "      <td>403.14</td>\n",
       "      <td>0.393691</td>\n",
       "    </tr>\n",
       "    <tr>\n",
       "      <th>46876</th>\n",
       "      <td>1209_96</td>\n",
       "      <td>1209</td>\n",
       "      <td>2018-12-27</td>\n",
       "      <td>12</td>\n",
       "      <td>509.65</td>\n",
       "      <td>0.497705</td>\n",
       "    </tr>\n",
       "    <tr>\n",
       "      <th>6546</th>\n",
       "      <td>1038_34</td>\n",
       "      <td>1038</td>\n",
       "      <td>2018-11-26</td>\n",
       "      <td>11</td>\n",
       "      <td>237.16</td>\n",
       "      <td>0.231602</td>\n",
       "    </tr>\n",
       "    <tr>\n",
       "      <th>46729</th>\n",
       "      <td>1206_752</td>\n",
       "      <td>1206</td>\n",
       "      <td>2018-12-13</td>\n",
       "      <td>12</td>\n",
       "      <td>152.82</td>\n",
       "      <td>0.149238</td>\n",
       "    </tr>\n",
       "  </tbody>\n",
       "</table>\n",
       "</div>"
      ],
      "text/plain": [
       "        data_id  user_id session_date  month  mb_used   gb_used\n",
       "83801  1390_356     1390   2018-05-20      5   264.21  0.258018\n",
       "20662  1095_354     1095   2018-06-02      6   403.14  0.393691\n",
       "46876   1209_96     1209   2018-12-27     12   509.65  0.497705\n",
       "6546    1038_34     1038   2018-11-26     11   237.16  0.231602\n",
       "46729  1206_752     1206   2018-12-13     12   152.82  0.149238"
      ]
     },
     "execution_count": 29,
     "metadata": {},
     "output_type": "execute_result"
    }
   ],
   "source": [
    "# Separaremos los meses y los años de la fecha de la llamada\n",
    "data_month = df_data['session_date'].dt.month\n",
    "df_data.insert(3, 'month', data_month)   # agregamos una columna con el mes de la consulta\n",
    "\n",
    "# Convertimos los megabytes a gigabytes y los agregamos en otra columna\n",
    "data_gigas = df_data['mb_used'] / 1024\n",
    "df_data.insert(5, 'gb_used', data_gigas)\n",
    "\n",
    "df_data.sample(5)      # imprimimos 5 líneas aleatorias del dataframe para ver cómo quedó"
   ]
  },
  {
   "cell_type": "code",
   "execution_count": 30,
   "metadata": {},
   "outputs": [
    {
     "data": {
      "text/html": [
       "<div>\n",
       "<style scoped>\n",
       "    .dataframe tbody tr th:only-of-type {\n",
       "        vertical-align: middle;\n",
       "    }\n",
       "\n",
       "    .dataframe tbody tr th {\n",
       "        vertical-align: top;\n",
       "    }\n",
       "\n",
       "    .dataframe thead th {\n",
       "        text-align: right;\n",
       "    }\n",
       "</style>\n",
       "<table border=\"1\" class=\"dataframe\">\n",
       "  <thead>\n",
       "    <tr style=\"text-align: right;\">\n",
       "      <th></th>\n",
       "      <th>data_id</th>\n",
       "      <th>user_id</th>\n",
       "      <th>session_date</th>\n",
       "      <th>month</th>\n",
       "      <th>mb_used</th>\n",
       "      <th>gb_used</th>\n",
       "    </tr>\n",
       "  </thead>\n",
       "  <tbody>\n",
       "    <tr>\n",
       "      <th>0</th>\n",
       "      <td>1000_13</td>\n",
       "      <td>1000</td>\n",
       "      <td>2018-12-29</td>\n",
       "      <td>12</td>\n",
       "      <td>90.0</td>\n",
       "      <td>1.0</td>\n",
       "    </tr>\n",
       "    <tr>\n",
       "      <th>1</th>\n",
       "      <td>1000_204</td>\n",
       "      <td>1000</td>\n",
       "      <td>2018-12-31</td>\n",
       "      <td>12</td>\n",
       "      <td>0.0</td>\n",
       "      <td>0.0</td>\n",
       "    </tr>\n",
       "    <tr>\n",
       "      <th>2</th>\n",
       "      <td>1000_379</td>\n",
       "      <td>1000</td>\n",
       "      <td>2018-12-28</td>\n",
       "      <td>12</td>\n",
       "      <td>661.0</td>\n",
       "      <td>1.0</td>\n",
       "    </tr>\n",
       "    <tr>\n",
       "      <th>3</th>\n",
       "      <td>1000_413</td>\n",
       "      <td>1000</td>\n",
       "      <td>2018-12-26</td>\n",
       "      <td>12</td>\n",
       "      <td>271.0</td>\n",
       "      <td>1.0</td>\n",
       "    </tr>\n",
       "    <tr>\n",
       "      <th>4</th>\n",
       "      <td>1000_442</td>\n",
       "      <td>1000</td>\n",
       "      <td>2018-12-27</td>\n",
       "      <td>12</td>\n",
       "      <td>881.0</td>\n",
       "      <td>1.0</td>\n",
       "    </tr>\n",
       "    <tr>\n",
       "      <th>...</th>\n",
       "      <td>...</td>\n",
       "      <td>...</td>\n",
       "      <td>...</td>\n",
       "      <td>...</td>\n",
       "      <td>...</td>\n",
       "      <td>...</td>\n",
       "    </tr>\n",
       "    <tr>\n",
       "      <th>104820</th>\n",
       "      <td>1499_215</td>\n",
       "      <td>1499</td>\n",
       "      <td>2018-10-20</td>\n",
       "      <td>10</td>\n",
       "      <td>219.0</td>\n",
       "      <td>1.0</td>\n",
       "    </tr>\n",
       "    <tr>\n",
       "      <th>104821</th>\n",
       "      <td>1499_216</td>\n",
       "      <td>1499</td>\n",
       "      <td>2018-12-30</td>\n",
       "      <td>12</td>\n",
       "      <td>305.0</td>\n",
       "      <td>1.0</td>\n",
       "    </tr>\n",
       "    <tr>\n",
       "      <th>104822</th>\n",
       "      <td>1499_217</td>\n",
       "      <td>1499</td>\n",
       "      <td>2018-09-22</td>\n",
       "      <td>9</td>\n",
       "      <td>293.0</td>\n",
       "      <td>1.0</td>\n",
       "    </tr>\n",
       "    <tr>\n",
       "      <th>104823</th>\n",
       "      <td>1499_218</td>\n",
       "      <td>1499</td>\n",
       "      <td>2018-12-07</td>\n",
       "      <td>12</td>\n",
       "      <td>0.0</td>\n",
       "      <td>0.0</td>\n",
       "    </tr>\n",
       "    <tr>\n",
       "      <th>104824</th>\n",
       "      <td>1499_219</td>\n",
       "      <td>1499</td>\n",
       "      <td>2018-12-24</td>\n",
       "      <td>12</td>\n",
       "      <td>759.0</td>\n",
       "      <td>1.0</td>\n",
       "    </tr>\n",
       "  </tbody>\n",
       "</table>\n",
       "<p>104825 rows × 6 columns</p>\n",
       "</div>"
      ],
      "text/plain": [
       "         data_id  user_id session_date  month  mb_used  gb_used\n",
       "0        1000_13     1000   2018-12-29     12     90.0      1.0\n",
       "1       1000_204     1000   2018-12-31     12      0.0      0.0\n",
       "2       1000_379     1000   2018-12-28     12    661.0      1.0\n",
       "3       1000_413     1000   2018-12-26     12    271.0      1.0\n",
       "4       1000_442     1000   2018-12-27     12    881.0      1.0\n",
       "...          ...      ...          ...    ...      ...      ...\n",
       "104820  1499_215     1499   2018-10-20     10    219.0      1.0\n",
       "104821  1499_216     1499   2018-12-30     12    305.0      1.0\n",
       "104822  1499_217     1499   2018-09-22      9    293.0      1.0\n",
       "104823  1499_218     1499   2018-12-07     12      0.0      0.0\n",
       "104824  1499_219     1499   2018-12-24     12    759.0      1.0\n",
       "\n",
       "[104825 rows x 6 columns]"
      ]
     },
     "execution_count": 30,
     "metadata": {},
     "output_type": "execute_result"
    }
   ],
   "source": [
    "# Redondeamos hacia arriba los megabytes usados\n",
    "df_data['mb_used'] = np.array(df_data['mb_used'])\n",
    "df_data['mb_used'] = np.ceil(df_data['mb_used'])\n",
    "\n",
    "# Redondeamos hacia arriba los gigabytes usados\n",
    "df_data['gb_used'] = np.array(df_data['gb_used'])\n",
    "df_data['gb_used'] = np.ceil(df_data['gb_used'])\n",
    "\n",
    "df_data"
   ]
  },
  {
   "cell_type": "markdown",
   "metadata": {},
   "source": [
    "En el Dataframe de data o megabytes, se cambio el dtype de la columna con valores de fechas, se actualizaron los nombres a más descriptivos, se agregó una columna con el mes, se agregó otra columna con los megas convertidos en gigabytes y se redondearon hacia arriba para facilitar el análisis futuro."
   ]
  },
  {
   "cell_type": "markdown",
   "metadata": {},
   "source": [
    "[Volver a Contenido](#back)"
   ]
  },
  {
   "cell_type": "markdown",
   "metadata": {
    "id": "3UA2cqIW0q1E"
   },
   "source": [
    "## 1.11 Estudiar las condiciones de las tarifas <a id='fees_analisys'></a>"
   ]
  },
  {
   "cell_type": "markdown",
   "metadata": {
    "id": "T86Sqltq0q1F"
   },
   "source": [
    "[Es sumamente importante entender cómo funcionan las tarifas, cómo se les cobra a los usuarios en función de su plan de suscripción. Así que te sugerimos imprimir la información de la tarifa para ver una vez más sus condiciones.]"
   ]
  },
  {
   "cell_type": "code",
   "execution_count": 31,
   "metadata": {},
   "outputs": [
    {
     "data": {
      "text/html": [
       "<div>\n",
       "<style scoped>\n",
       "    .dataframe tbody tr th:only-of-type {\n",
       "        vertical-align: middle;\n",
       "    }\n",
       "\n",
       "    .dataframe tbody tr th {\n",
       "        vertical-align: top;\n",
       "    }\n",
       "\n",
       "    .dataframe thead th {\n",
       "        text-align: right;\n",
       "    }\n",
       "</style>\n",
       "<table border=\"1\" class=\"dataframe\">\n",
       "  <thead>\n",
       "    <tr style=\"text-align: right;\">\n",
       "      <th></th>\n",
       "      <th>sms_included</th>\n",
       "      <th>mb_per_month_included</th>\n",
       "      <th>gb_included</th>\n",
       "      <th>min_included</th>\n",
       "      <th>usd_monthly_fee</th>\n",
       "      <th>usd_per_gb</th>\n",
       "      <th>usd_per_sms</th>\n",
       "      <th>usd_per_minute</th>\n",
       "      <th>plan</th>\n",
       "    </tr>\n",
       "  </thead>\n",
       "  <tbody>\n",
       "    <tr>\n",
       "      <th>0</th>\n",
       "      <td>50</td>\n",
       "      <td>15360</td>\n",
       "      <td>15</td>\n",
       "      <td>500</td>\n",
       "      <td>20.0</td>\n",
       "      <td>10.0</td>\n",
       "      <td>0.03</td>\n",
       "      <td>0.03</td>\n",
       "      <td>surf</td>\n",
       "    </tr>\n",
       "    <tr>\n",
       "      <th>1</th>\n",
       "      <td>1000</td>\n",
       "      <td>30720</td>\n",
       "      <td>30</td>\n",
       "      <td>3000</td>\n",
       "      <td>70.0</td>\n",
       "      <td>7.0</td>\n",
       "      <td>0.01</td>\n",
       "      <td>0.01</td>\n",
       "      <td>ultimate</td>\n",
       "    </tr>\n",
       "  </tbody>\n",
       "</table>\n",
       "</div>"
      ],
      "text/plain": [
       "   sms_included  mb_per_month_included  gb_included  min_included  \\\n",
       "0            50                  15360           15           500   \n",
       "1          1000                  30720           30          3000   \n",
       "\n",
       "   usd_monthly_fee  usd_per_gb  usd_per_sms  usd_per_minute      plan  \n",
       "0             20.0        10.0         0.03            0.03      surf  \n",
       "1             70.0         7.0         0.01            0.01  ultimate  "
      ]
     },
     "execution_count": 31,
     "metadata": {},
     "output_type": "execute_result"
    }
   ],
   "source": [
    "df_plans"
   ]
  },
  {
   "cell_type": "markdown",
   "metadata": {
    "id": "i409op8p0q1F"
   },
   "source": [
    "### Imprime las condiciones de la tarifa y asegúrate de que te quedan claras\n",
    "Descripción de las tarifas:\n",
    "\n",
    "Nota: Megaline redondea los segundos a minutos y los megabytes a gigabytes. Para las llamadas, cada llamada individual se redondea: incluso si la llamada duró solo un segundo, se contará como un minuto. Para el tráfico web, las sesiones web individuales no se redondean. En vez de esto, el total del mes se redondea hacia arriba. Si alguien usa 1025 megabytes este mes, se le cobrarán 2 gigabytes.\n",
    "\n",
    "A continuación, puedes ver una descripción de las tarifas:\n",
    "\n",
    "Surf\n",
    "\n",
    "1.\tPago mensual: $20 usd.\n",
    "2.\t500 minutos al mes, 50 SMS y 15 GB de datos.\n",
    "3.\tSi se exceden los límites del paquete:\n",
    "\n",
    "    o\t1 minuto: 3 centavos.\n",
    "\n",
    "    o\t1 SMS: 3 centavos.\n",
    "\n",
    "    o\t1 GB de datos: $10 usd.\n",
    "\n",
    "Ultimate\n",
    "\n",
    "1.\tPago mensual: $70 usd.\n",
    "2.\t3000 minutos al mes, 1000 SMS y 30 GB de datos.\n",
    "3.\tSi se exceden los límites del paquete:\n",
    "\n",
    "    o\t1 minuto: 1 centavo.\n",
    "\n",
    "    o\t1 SMS: 1 centavo.\n",
    "    \n",
    "    o\t1 GB de datos: $7 usd."
   ]
  },
  {
   "cell_type": "markdown",
   "metadata": {},
   "source": [
    "[Volver a Contenido](#back)"
   ]
  },
  {
   "cell_type": "markdown",
   "metadata": {
    "id": "hMR1tP5d0q1F"
   },
   "source": [
    "## 1.12 Agregar datos por usuario <a id='data_adding'></a>\n",
    "\n",
    "[Ahora que los datos están limpios, agrega los datos por usuario y por periodo para que solo haya un registro por usuario y por periodo. Esto facilitará mucho el análisis posterior.]"
   ]
  },
  {
   "cell_type": "markdown",
   "metadata": {},
   "source": [
    "\n",
    "<div class=\"alert alert-block alert-warning\">\n",
    "\n",
    "<b>Comentario revisor</b> <a class=\"tocSkip\"></a>\n",
    "\n",
    "Si bien es correcta la forma de agrupar para sacar la duración de las llamadas por cada ususario, para proximas ocasiones puedes hacer uso de la siguiente forma:\n",
    "    \n",
    "    pivot_calls = calls.pivot_table(index=['user_id', 'month'],\n",
    "                                values=['duration'],\n",
    "                                aggfunc=['sum','count']).reset_index()\n",
    "\n",
    "</div>"
   ]
  },
  {
   "cell_type": "markdown",
   "metadata": {},
   "source": [
    "<div class=\"alert alert-block alert-info\">\n",
    "<b>Respuesta del , Iteración 1</b> <a class=“tocSkip”></a>\n",
    "\n",
    "Tionatiuh, me parece mucho mejor y más estructurado el Dataframe con la función de pivot_table, aparte de que con la serie que estaba realizando, el número de llamadas son cantidades diferentes y no estaba considerando la duración de las llamadas. Muchas gracias!\n",
    "</div>"
   ]
  },
  {
   "cell_type": "markdown",
   "metadata": {},
   "source": [
    "<div class=\"alert alert-block alert-success\">\n",
    "<b>Comentario revisor</b> <a class=\"tocSkip\"></a>\n",
    "\n",
    "Excelente Tom, en futuros proyectos puedes seguir explorando esta herramienta"
   ]
  },
  {
   "cell_type": "code",
   "execution_count": 32,
   "metadata": {},
   "outputs": [
    {
     "name": "stdout",
     "output_type": "stream",
     "text": [
      "<class 'pandas.core.frame.DataFrame'>\n",
      "RangeIndex: 2256 entries, 0 to 2255\n",
      "Data columns (total 4 columns):\n",
      " #   Column        Non-Null Count  Dtype  \n",
      "---  ------        --------------  -----  \n",
      " 0   user_id       2256 non-null   int64  \n",
      " 1   month         2256 non-null   int32  \n",
      " 2   num_calls     2256 non-null   int64  \n",
      " 3   duration_min  2256 non-null   float64\n",
      "dtypes: float64(1), int32(1), int64(2)\n",
      "memory usage: 61.8 KB\n"
     ]
    },
    {
     "data": {
      "text/html": [
       "<div>\n",
       "<style scoped>\n",
       "    .dataframe tbody tr th:only-of-type {\n",
       "        vertical-align: middle;\n",
       "    }\n",
       "\n",
       "    .dataframe tbody tr th {\n",
       "        vertical-align: top;\n",
       "    }\n",
       "\n",
       "    .dataframe thead th {\n",
       "        text-align: right;\n",
       "    }\n",
       "</style>\n",
       "<table border=\"1\" class=\"dataframe\">\n",
       "  <thead>\n",
       "    <tr style=\"text-align: right;\">\n",
       "      <th></th>\n",
       "      <th>user_id</th>\n",
       "      <th>month</th>\n",
       "      <th>num_calls</th>\n",
       "      <th>duration_min</th>\n",
       "    </tr>\n",
       "  </thead>\n",
       "  <tbody>\n",
       "    <tr>\n",
       "      <th>0</th>\n",
       "      <td>1000</td>\n",
       "      <td>12</td>\n",
       "      <td>16</td>\n",
       "      <td>124.0</td>\n",
       "    </tr>\n",
       "    <tr>\n",
       "      <th>1</th>\n",
       "      <td>1001</td>\n",
       "      <td>8</td>\n",
       "      <td>22</td>\n",
       "      <td>182.0</td>\n",
       "    </tr>\n",
       "    <tr>\n",
       "      <th>2</th>\n",
       "      <td>1001</td>\n",
       "      <td>9</td>\n",
       "      <td>38</td>\n",
       "      <td>315.0</td>\n",
       "    </tr>\n",
       "    <tr>\n",
       "      <th>3</th>\n",
       "      <td>1001</td>\n",
       "      <td>10</td>\n",
       "      <td>47</td>\n",
       "      <td>393.0</td>\n",
       "    </tr>\n",
       "    <tr>\n",
       "      <th>4</th>\n",
       "      <td>1001</td>\n",
       "      <td>11</td>\n",
       "      <td>49</td>\n",
       "      <td>426.0</td>\n",
       "    </tr>\n",
       "    <tr>\n",
       "      <th>...</th>\n",
       "      <td>...</td>\n",
       "      <td>...</td>\n",
       "      <td>...</td>\n",
       "      <td>...</td>\n",
       "    </tr>\n",
       "    <tr>\n",
       "      <th>2251</th>\n",
       "      <td>1498</td>\n",
       "      <td>12</td>\n",
       "      <td>32</td>\n",
       "      <td>339.0</td>\n",
       "    </tr>\n",
       "    <tr>\n",
       "      <th>2252</th>\n",
       "      <td>1499</td>\n",
       "      <td>9</td>\n",
       "      <td>35</td>\n",
       "      <td>346.0</td>\n",
       "    </tr>\n",
       "    <tr>\n",
       "      <th>2253</th>\n",
       "      <td>1499</td>\n",
       "      <td>10</td>\n",
       "      <td>41</td>\n",
       "      <td>385.0</td>\n",
       "    </tr>\n",
       "    <tr>\n",
       "      <th>2254</th>\n",
       "      <td>1499</td>\n",
       "      <td>11</td>\n",
       "      <td>39</td>\n",
       "      <td>308.0</td>\n",
       "    </tr>\n",
       "    <tr>\n",
       "      <th>2255</th>\n",
       "      <td>1499</td>\n",
       "      <td>12</td>\n",
       "      <td>56</td>\n",
       "      <td>496.0</td>\n",
       "    </tr>\n",
       "  </tbody>\n",
       "</table>\n",
       "<p>2256 rows × 4 columns</p>\n",
       "</div>"
      ],
      "text/plain": [
       "      user_id  month  num_calls  duration_min\n",
       "0        1000     12         16         124.0\n",
       "1        1001      8         22         182.0\n",
       "2        1001      9         38         315.0\n",
       "3        1001     10         47         393.0\n",
       "4        1001     11         49         426.0\n",
       "...       ...    ...        ...           ...\n",
       "2251     1498     12         32         339.0\n",
       "2252     1499      9         35         346.0\n",
       "2253     1499     10         41         385.0\n",
       "2254     1499     11         39         308.0\n",
       "2255     1499     12         56         496.0\n",
       "\n",
       "[2256 rows x 4 columns]"
      ]
     },
     "execution_count": 32,
     "metadata": {},
     "output_type": "execute_result"
    }
   ],
   "source": [
    "# Calcula el número de llamadas hechas por cada usuario al mes. Guarda el resultado.\n",
    "# Calcula la cantidad de minutos usados por cada usuario al mes. Guarda el resultado.\n",
    "pivot_calls = df_calls.pivot_table(index=['user_id', 'month'], values=['duration_min'], aggfunc=['count', 'sum']).reset_index()\n",
    "pivot_calls.columns = ['user_id', 'month', 'num_calls', 'duration_min']     # Renombramos las columnas\n",
    "pivot_calls.info()\n",
    "pivot_calls"
   ]
  },
  {
   "cell_type": "code",
   "execution_count": 33,
   "metadata": {},
   "outputs": [
    {
     "name": "stdout",
     "output_type": "stream",
     "text": [
      "<class 'pandas.core.frame.DataFrame'>\n",
      "RangeIndex: 1806 entries, 0 to 1805\n",
      "Data columns (total 3 columns):\n",
      " #   Column   Non-Null Count  Dtype\n",
      "---  ------   --------------  -----\n",
      " 0   user_id  1806 non-null   int64\n",
      " 1   month    1806 non-null   int32\n",
      " 2   num_sms  1806 non-null   int64\n",
      "dtypes: int32(1), int64(2)\n",
      "memory usage: 35.4 KB\n"
     ]
    },
    {
     "data": {
      "text/html": [
       "<div>\n",
       "<style scoped>\n",
       "    .dataframe tbody tr th:only-of-type {\n",
       "        vertical-align: middle;\n",
       "    }\n",
       "\n",
       "    .dataframe tbody tr th {\n",
       "        vertical-align: top;\n",
       "    }\n",
       "\n",
       "    .dataframe thead th {\n",
       "        text-align: right;\n",
       "    }\n",
       "</style>\n",
       "<table border=\"1\" class=\"dataframe\">\n",
       "  <thead>\n",
       "    <tr style=\"text-align: right;\">\n",
       "      <th></th>\n",
       "      <th>user_id</th>\n",
       "      <th>month</th>\n",
       "      <th>num_sms</th>\n",
       "    </tr>\n",
       "  </thead>\n",
       "  <tbody>\n",
       "    <tr>\n",
       "      <th>0</th>\n",
       "      <td>1000</td>\n",
       "      <td>12</td>\n",
       "      <td>11</td>\n",
       "    </tr>\n",
       "    <tr>\n",
       "      <th>1</th>\n",
       "      <td>1001</td>\n",
       "      <td>8</td>\n",
       "      <td>30</td>\n",
       "    </tr>\n",
       "    <tr>\n",
       "      <th>2</th>\n",
       "      <td>1001</td>\n",
       "      <td>9</td>\n",
       "      <td>44</td>\n",
       "    </tr>\n",
       "    <tr>\n",
       "      <th>3</th>\n",
       "      <td>1001</td>\n",
       "      <td>10</td>\n",
       "      <td>53</td>\n",
       "    </tr>\n",
       "    <tr>\n",
       "      <th>4</th>\n",
       "      <td>1001</td>\n",
       "      <td>11</td>\n",
       "      <td>36</td>\n",
       "    </tr>\n",
       "    <tr>\n",
       "      <th>...</th>\n",
       "      <td>...</td>\n",
       "      <td>...</td>\n",
       "      <td>...</td>\n",
       "    </tr>\n",
       "    <tr>\n",
       "      <th>1801</th>\n",
       "      <td>1496</td>\n",
       "      <td>9</td>\n",
       "      <td>21</td>\n",
       "    </tr>\n",
       "    <tr>\n",
       "      <th>1802</th>\n",
       "      <td>1496</td>\n",
       "      <td>10</td>\n",
       "      <td>18</td>\n",
       "    </tr>\n",
       "    <tr>\n",
       "      <th>1803</th>\n",
       "      <td>1496</td>\n",
       "      <td>11</td>\n",
       "      <td>13</td>\n",
       "    </tr>\n",
       "    <tr>\n",
       "      <th>1804</th>\n",
       "      <td>1496</td>\n",
       "      <td>12</td>\n",
       "      <td>11</td>\n",
       "    </tr>\n",
       "    <tr>\n",
       "      <th>1805</th>\n",
       "      <td>1497</td>\n",
       "      <td>12</td>\n",
       "      <td>50</td>\n",
       "    </tr>\n",
       "  </tbody>\n",
       "</table>\n",
       "<p>1806 rows × 3 columns</p>\n",
       "</div>"
      ],
      "text/plain": [
       "      user_id  month  num_sms\n",
       "0        1000     12       11\n",
       "1        1001      8       30\n",
       "2        1001      9       44\n",
       "3        1001     10       53\n",
       "4        1001     11       36\n",
       "...       ...    ...      ...\n",
       "1801     1496      9       21\n",
       "1802     1496     10       18\n",
       "1803     1496     11       13\n",
       "1804     1496     12       11\n",
       "1805     1497     12       50\n",
       "\n",
       "[1806 rows x 3 columns]"
      ]
     },
     "execution_count": 33,
     "metadata": {},
     "output_type": "execute_result"
    }
   ],
   "source": [
    "# Calcula el número de mensajes enviados por cada usuario al mes. Guarda el resultado.\n",
    "pivot_sms = df_sms.pivot_table(index=['user_id', 'month'], values=['sms_id'], aggfunc=['count']).reset_index()\n",
    "pivot_sms.columns = ['user_id', 'month', 'num_sms']\n",
    "pivot_sms.info()\n",
    "pivot_sms"
   ]
  },
  {
   "cell_type": "code",
   "execution_count": 34,
   "metadata": {},
   "outputs": [
    {
     "name": "stdout",
     "output_type": "stream",
     "text": [
      "<class 'pandas.core.frame.DataFrame'>\n",
      "RangeIndex: 2277 entries, 0 to 2276\n",
      "Data columns (total 3 columns):\n",
      " #   Column   Non-Null Count  Dtype  \n",
      "---  ------   --------------  -----  \n",
      " 0   user_id  2277 non-null   int64  \n",
      " 1   month    2277 non-null   int32  \n",
      " 2   sum_gb   2277 non-null   float64\n",
      "dtypes: float64(1), int32(1), int64(1)\n",
      "memory usage: 44.6 KB\n"
     ]
    },
    {
     "data": {
      "text/html": [
       "<div>\n",
       "<style scoped>\n",
       "    .dataframe tbody tr th:only-of-type {\n",
       "        vertical-align: middle;\n",
       "    }\n",
       "\n",
       "    .dataframe tbody tr th {\n",
       "        vertical-align: top;\n",
       "    }\n",
       "\n",
       "    .dataframe thead th {\n",
       "        text-align: right;\n",
       "    }\n",
       "</style>\n",
       "<table border=\"1\" class=\"dataframe\">\n",
       "  <thead>\n",
       "    <tr style=\"text-align: right;\">\n",
       "      <th></th>\n",
       "      <th>user_id</th>\n",
       "      <th>month</th>\n",
       "      <th>sum_gb</th>\n",
       "    </tr>\n",
       "  </thead>\n",
       "  <tbody>\n",
       "    <tr>\n",
       "      <th>0</th>\n",
       "      <td>1000</td>\n",
       "      <td>12</td>\n",
       "      <td>4.0</td>\n",
       "    </tr>\n",
       "    <tr>\n",
       "      <th>1</th>\n",
       "      <td>1001</td>\n",
       "      <td>8</td>\n",
       "      <td>21.0</td>\n",
       "    </tr>\n",
       "    <tr>\n",
       "      <th>2</th>\n",
       "      <td>1001</td>\n",
       "      <td>9</td>\n",
       "      <td>41.0</td>\n",
       "    </tr>\n",
       "    <tr>\n",
       "      <th>3</th>\n",
       "      <td>1001</td>\n",
       "      <td>10</td>\n",
       "      <td>50.0</td>\n",
       "    </tr>\n",
       "    <tr>\n",
       "      <th>4</th>\n",
       "      <td>1001</td>\n",
       "      <td>11</td>\n",
       "      <td>49.0</td>\n",
       "    </tr>\n",
       "    <tr>\n",
       "      <th>...</th>\n",
       "      <td>...</td>\n",
       "      <td>...</td>\n",
       "      <td>...</td>\n",
       "    </tr>\n",
       "    <tr>\n",
       "      <th>2272</th>\n",
       "      <td>1498</td>\n",
       "      <td>12</td>\n",
       "      <td>56.0</td>\n",
       "    </tr>\n",
       "    <tr>\n",
       "      <th>2273</th>\n",
       "      <td>1499</td>\n",
       "      <td>9</td>\n",
       "      <td>37.0</td>\n",
       "    </tr>\n",
       "    <tr>\n",
       "      <th>2274</th>\n",
       "      <td>1499</td>\n",
       "      <td>10</td>\n",
       "      <td>52.0</td>\n",
       "    </tr>\n",
       "    <tr>\n",
       "      <th>2275</th>\n",
       "      <td>1499</td>\n",
       "      <td>11</td>\n",
       "      <td>43.0</td>\n",
       "    </tr>\n",
       "    <tr>\n",
       "      <th>2276</th>\n",
       "      <td>1499</td>\n",
       "      <td>12</td>\n",
       "      <td>58.0</td>\n",
       "    </tr>\n",
       "  </tbody>\n",
       "</table>\n",
       "<p>2277 rows × 3 columns</p>\n",
       "</div>"
      ],
      "text/plain": [
       "      user_id  month  sum_gb\n",
       "0        1000     12     4.0\n",
       "1        1001      8    21.0\n",
       "2        1001      9    41.0\n",
       "3        1001     10    50.0\n",
       "4        1001     11    49.0\n",
       "...       ...    ...     ...\n",
       "2272     1498     12    56.0\n",
       "2273     1499      9    37.0\n",
       "2274     1499     10    52.0\n",
       "2275     1499     11    43.0\n",
       "2276     1499     12    58.0\n",
       "\n",
       "[2277 rows x 3 columns]"
      ]
     },
     "execution_count": 34,
     "metadata": {},
     "output_type": "execute_result"
    }
   ],
   "source": [
    "# Calcula el volumen del tráfico de Internet usado por cada usuario al mes. Guarda el resultado.\n",
    "pivot_data = df_data.pivot_table(index=['user_id', 'month'], values=['gb_used'], aggfunc=['sum']).reset_index()\n",
    "pivot_data.columns = ['user_id', 'month', 'sum_gb']             # Renombramos las columnas\n",
    "pivot_data.info()\n",
    "pivot_data"
   ]
  },
  {
   "cell_type": "markdown",
   "metadata": {
    "id": "VDfYXnj80q1H"
   },
   "source": [
    "[Junta los datos agregados en un DataFrame para que haya un registro que represente lo que consumió un usuario único en un mes determinado.]"
   ]
  },
  {
   "cell_type": "code",
   "execution_count": 35,
   "metadata": {
    "id": "FW99ykyf0q1H"
   },
   "outputs": [
    {
     "name": "stdout",
     "output_type": "stream",
     "text": [
      "<class 'pandas.core.frame.DataFrame'>\n",
      "RangeIndex: 2293 entries, 0 to 2292\n",
      "Data columns (total 6 columns):\n",
      " #   Column   Non-Null Count  Dtype  \n",
      "---  ------   --------------  -----  \n",
      " 0   user_id  2293 non-null   int64  \n",
      " 1   month    2293 non-null   object \n",
      " 2   calls    2293 non-null   float64\n",
      " 3   mins     2293 non-null   float64\n",
      " 4   sms      2293 non-null   float64\n",
      " 5   gb       2293 non-null   float64\n",
      "dtypes: float64(4), int64(1), object(1)\n",
      "memory usage: 107.6+ KB\n"
     ]
    },
    {
     "name": "stderr",
     "output_type": "stream",
     "text": [
      "C:\\Users\\aldot\\AppData\\Local\\Temp\\ipykernel_27280\\2210934997.py:14: FutureWarning: Downcasting object dtype arrays on .fillna, .ffill, .bfill is deprecated and will change in a future version. Call result.infer_objects(copy=False) instead. To opt-in to the future behavior, set `pd.set_option('future.no_silent_downcasting', True)`\n",
      "  tripleplay = tripleplay.fillna(0)\n"
     ]
    },
    {
     "data": {
      "text/html": [
       "<div>\n",
       "<style scoped>\n",
       "    .dataframe tbody tr th:only-of-type {\n",
       "        vertical-align: middle;\n",
       "    }\n",
       "\n",
       "    .dataframe tbody tr th {\n",
       "        vertical-align: top;\n",
       "    }\n",
       "\n",
       "    .dataframe thead th {\n",
       "        text-align: right;\n",
       "    }\n",
       "</style>\n",
       "<table border=\"1\" class=\"dataframe\">\n",
       "  <thead>\n",
       "    <tr style=\"text-align: right;\">\n",
       "      <th></th>\n",
       "      <th>user_id</th>\n",
       "      <th>month</th>\n",
       "      <th>calls</th>\n",
       "      <th>mins</th>\n",
       "      <th>sms</th>\n",
       "      <th>gb</th>\n",
       "    </tr>\n",
       "  </thead>\n",
       "  <tbody>\n",
       "    <tr>\n",
       "      <th>0</th>\n",
       "      <td>1000</td>\n",
       "      <td>dec</td>\n",
       "      <td>16.0</td>\n",
       "      <td>124.0</td>\n",
       "      <td>11.0</td>\n",
       "      <td>4.0</td>\n",
       "    </tr>\n",
       "    <tr>\n",
       "      <th>1</th>\n",
       "      <td>1001</td>\n",
       "      <td>aug</td>\n",
       "      <td>22.0</td>\n",
       "      <td>182.0</td>\n",
       "      <td>30.0</td>\n",
       "      <td>21.0</td>\n",
       "    </tr>\n",
       "    <tr>\n",
       "      <th>2</th>\n",
       "      <td>1001</td>\n",
       "      <td>sep</td>\n",
       "      <td>38.0</td>\n",
       "      <td>315.0</td>\n",
       "      <td>44.0</td>\n",
       "      <td>41.0</td>\n",
       "    </tr>\n",
       "    <tr>\n",
       "      <th>3</th>\n",
       "      <td>1001</td>\n",
       "      <td>oct</td>\n",
       "      <td>47.0</td>\n",
       "      <td>393.0</td>\n",
       "      <td>53.0</td>\n",
       "      <td>50.0</td>\n",
       "    </tr>\n",
       "    <tr>\n",
       "      <th>4</th>\n",
       "      <td>1001</td>\n",
       "      <td>nov</td>\n",
       "      <td>49.0</td>\n",
       "      <td>426.0</td>\n",
       "      <td>36.0</td>\n",
       "      <td>49.0</td>\n",
       "    </tr>\n",
       "    <tr>\n",
       "      <th>...</th>\n",
       "      <td>...</td>\n",
       "      <td>...</td>\n",
       "      <td>...</td>\n",
       "      <td>...</td>\n",
       "      <td>...</td>\n",
       "      <td>...</td>\n",
       "    </tr>\n",
       "    <tr>\n",
       "      <th>2288</th>\n",
       "      <td>1498</td>\n",
       "      <td>dec</td>\n",
       "      <td>32.0</td>\n",
       "      <td>339.0</td>\n",
       "      <td>0.0</td>\n",
       "      <td>56.0</td>\n",
       "    </tr>\n",
       "    <tr>\n",
       "      <th>2289</th>\n",
       "      <td>1499</td>\n",
       "      <td>sep</td>\n",
       "      <td>35.0</td>\n",
       "      <td>346.0</td>\n",
       "      <td>0.0</td>\n",
       "      <td>37.0</td>\n",
       "    </tr>\n",
       "    <tr>\n",
       "      <th>2290</th>\n",
       "      <td>1499</td>\n",
       "      <td>oct</td>\n",
       "      <td>41.0</td>\n",
       "      <td>385.0</td>\n",
       "      <td>0.0</td>\n",
       "      <td>52.0</td>\n",
       "    </tr>\n",
       "    <tr>\n",
       "      <th>2291</th>\n",
       "      <td>1499</td>\n",
       "      <td>nov</td>\n",
       "      <td>39.0</td>\n",
       "      <td>308.0</td>\n",
       "      <td>0.0</td>\n",
       "      <td>43.0</td>\n",
       "    </tr>\n",
       "    <tr>\n",
       "      <th>2292</th>\n",
       "      <td>1499</td>\n",
       "      <td>dec</td>\n",
       "      <td>56.0</td>\n",
       "      <td>496.0</td>\n",
       "      <td>0.0</td>\n",
       "      <td>58.0</td>\n",
       "    </tr>\n",
       "  </tbody>\n",
       "</table>\n",
       "<p>2293 rows × 6 columns</p>\n",
       "</div>"
      ],
      "text/plain": [
       "      user_id month  calls   mins   sms    gb\n",
       "0        1000   dec   16.0  124.0  11.0   4.0\n",
       "1        1001   aug   22.0  182.0  30.0  21.0\n",
       "2        1001   sep   38.0  315.0  44.0  41.0\n",
       "3        1001   oct   47.0  393.0  53.0  50.0\n",
       "4        1001   nov   49.0  426.0  36.0  49.0\n",
       "...       ...   ...    ...    ...   ...   ...\n",
       "2288     1498   dec   32.0  339.0   0.0  56.0\n",
       "2289     1499   sep   35.0  346.0   0.0  37.0\n",
       "2290     1499   oct   41.0  385.0   0.0  52.0\n",
       "2291     1499   nov   39.0  308.0   0.0  43.0\n",
       "2292     1499   dec   56.0  496.0   0.0  58.0\n",
       "\n",
       "[2293 rows x 6 columns]"
      ]
     },
     "execution_count": 35,
     "metadata": {},
     "output_type": "execute_result"
    }
   ],
   "source": [
    "# Fusiona los datos de llamadas, minutos, mensajes e Internet con base en user_id y month\n",
    "tripleplay = pd.merge(pivot_calls, pivot_sms, on=['user_id', 'month'], how=\"outer\")\n",
    "tripleplay = pd.merge(tripleplay, pivot_data, on=['user_id', 'month'], how=\"outer\")\n",
    "tripleplay.columns = ['user_id', 'month', 'calls', 'mins', 'sms', 'gb']    # Actualizamos los nombres de las columnas para mejor entendimiento\n",
    "\n",
    "# Reemplazamos los números por los nombres de los meses\n",
    "months = {1:'jan', 2:'feb', 3:'mar', 4:'apr', 5:'may', 6:'jun', 7:'jul', 8:'aug', 9:'sep', 10:'oct', 11:'nov', 12:'dec'}\n",
    "tripleplay['month'] = tripleplay['month'].replace(months)\n",
    "\n",
    "# Modificamos los Dtypes para corregirlos\n",
    "tripleplay['user_id'] = tripleplay['user_id'].astype('object')\n",
    "\n",
    "# Rellenamos valores ausentes con cero (0)\n",
    "tripleplay = tripleplay.fillna(0)\n",
    "\n",
    "tripleplay.info()   # Imprimimos información general y el nuevo dataframe\n",
    "tripleplay"
   ]
  },
  {
   "cell_type": "code",
   "execution_count": 36,
   "metadata": {
    "id": "0dNOXHag0q1H"
   },
   "outputs": [
    {
     "data": {
      "text/html": [
       "<div>\n",
       "<style scoped>\n",
       "    .dataframe tbody tr th:only-of-type {\n",
       "        vertical-align: middle;\n",
       "    }\n",
       "\n",
       "    .dataframe tbody tr th {\n",
       "        vertical-align: top;\n",
       "    }\n",
       "\n",
       "    .dataframe thead th {\n",
       "        text-align: right;\n",
       "    }\n",
       "</style>\n",
       "<table border=\"1\" class=\"dataframe\">\n",
       "  <thead>\n",
       "    <tr style=\"text-align: right;\">\n",
       "      <th></th>\n",
       "      <th>user_id</th>\n",
       "      <th>month</th>\n",
       "      <th>calls</th>\n",
       "      <th>mins</th>\n",
       "      <th>sms</th>\n",
       "      <th>gb</th>\n",
       "      <th>first_name</th>\n",
       "      <th>last_name</th>\n",
       "      <th>user_age</th>\n",
       "      <th>user_city</th>\n",
       "      <th>reg_date</th>\n",
       "      <th>reg_month</th>\n",
       "      <th>plan</th>\n",
       "      <th>churn_date</th>\n",
       "    </tr>\n",
       "  </thead>\n",
       "  <tbody>\n",
       "    <tr>\n",
       "      <th>0</th>\n",
       "      <td>1000</td>\n",
       "      <td>dec</td>\n",
       "      <td>16.0</td>\n",
       "      <td>124.0</td>\n",
       "      <td>11.0</td>\n",
       "      <td>4.0</td>\n",
       "      <td>Anamaria</td>\n",
       "      <td>Bauer</td>\n",
       "      <td>45</td>\n",
       "      <td>Atlanta-Sandy Springs-Roswell, GA MSA</td>\n",
       "      <td>2018-12-24</td>\n",
       "      <td>12</td>\n",
       "      <td>ultimate</td>\n",
       "      <td>Unknown</td>\n",
       "    </tr>\n",
       "    <tr>\n",
       "      <th>1</th>\n",
       "      <td>1001</td>\n",
       "      <td>aug</td>\n",
       "      <td>22.0</td>\n",
       "      <td>182.0</td>\n",
       "      <td>30.0</td>\n",
       "      <td>21.0</td>\n",
       "      <td>Mickey</td>\n",
       "      <td>Wilkerson</td>\n",
       "      <td>28</td>\n",
       "      <td>Seattle-Tacoma-Bellevue, WA MSA</td>\n",
       "      <td>2018-08-13</td>\n",
       "      <td>8</td>\n",
       "      <td>surf</td>\n",
       "      <td>Unknown</td>\n",
       "    </tr>\n",
       "    <tr>\n",
       "      <th>2</th>\n",
       "      <td>1001</td>\n",
       "      <td>sep</td>\n",
       "      <td>38.0</td>\n",
       "      <td>315.0</td>\n",
       "      <td>44.0</td>\n",
       "      <td>41.0</td>\n",
       "      <td>Mickey</td>\n",
       "      <td>Wilkerson</td>\n",
       "      <td>28</td>\n",
       "      <td>Seattle-Tacoma-Bellevue, WA MSA</td>\n",
       "      <td>2018-08-13</td>\n",
       "      <td>8</td>\n",
       "      <td>surf</td>\n",
       "      <td>Unknown</td>\n",
       "    </tr>\n",
       "    <tr>\n",
       "      <th>3</th>\n",
       "      <td>1001</td>\n",
       "      <td>oct</td>\n",
       "      <td>47.0</td>\n",
       "      <td>393.0</td>\n",
       "      <td>53.0</td>\n",
       "      <td>50.0</td>\n",
       "      <td>Mickey</td>\n",
       "      <td>Wilkerson</td>\n",
       "      <td>28</td>\n",
       "      <td>Seattle-Tacoma-Bellevue, WA MSA</td>\n",
       "      <td>2018-08-13</td>\n",
       "      <td>8</td>\n",
       "      <td>surf</td>\n",
       "      <td>Unknown</td>\n",
       "    </tr>\n",
       "    <tr>\n",
       "      <th>4</th>\n",
       "      <td>1001</td>\n",
       "      <td>nov</td>\n",
       "      <td>49.0</td>\n",
       "      <td>426.0</td>\n",
       "      <td>36.0</td>\n",
       "      <td>49.0</td>\n",
       "      <td>Mickey</td>\n",
       "      <td>Wilkerson</td>\n",
       "      <td>28</td>\n",
       "      <td>Seattle-Tacoma-Bellevue, WA MSA</td>\n",
       "      <td>2018-08-13</td>\n",
       "      <td>8</td>\n",
       "      <td>surf</td>\n",
       "      <td>Unknown</td>\n",
       "    </tr>\n",
       "    <tr>\n",
       "      <th>...</th>\n",
       "      <td>...</td>\n",
       "      <td>...</td>\n",
       "      <td>...</td>\n",
       "      <td>...</td>\n",
       "      <td>...</td>\n",
       "      <td>...</td>\n",
       "      <td>...</td>\n",
       "      <td>...</td>\n",
       "      <td>...</td>\n",
       "      <td>...</td>\n",
       "      <td>...</td>\n",
       "      <td>...</td>\n",
       "      <td>...</td>\n",
       "      <td>...</td>\n",
       "    </tr>\n",
       "    <tr>\n",
       "      <th>2288</th>\n",
       "      <td>1498</td>\n",
       "      <td>dec</td>\n",
       "      <td>32.0</td>\n",
       "      <td>339.0</td>\n",
       "      <td>0.0</td>\n",
       "      <td>56.0</td>\n",
       "      <td>Scot</td>\n",
       "      <td>Williamson</td>\n",
       "      <td>51</td>\n",
       "      <td>New York-Newark-Jersey City, NY-NJ-PA MSA</td>\n",
       "      <td>2018-02-04</td>\n",
       "      <td>2</td>\n",
       "      <td>surf</td>\n",
       "      <td>Unknown</td>\n",
       "    </tr>\n",
       "    <tr>\n",
       "      <th>2289</th>\n",
       "      <td>1499</td>\n",
       "      <td>sep</td>\n",
       "      <td>35.0</td>\n",
       "      <td>346.0</td>\n",
       "      <td>0.0</td>\n",
       "      <td>37.0</td>\n",
       "      <td>Shena</td>\n",
       "      <td>Dickson</td>\n",
       "      <td>37</td>\n",
       "      <td>Orlando-Kissimmee-Sanford, FL MSA</td>\n",
       "      <td>2018-05-06</td>\n",
       "      <td>5</td>\n",
       "      <td>surf</td>\n",
       "      <td>Unknown</td>\n",
       "    </tr>\n",
       "    <tr>\n",
       "      <th>2290</th>\n",
       "      <td>1499</td>\n",
       "      <td>oct</td>\n",
       "      <td>41.0</td>\n",
       "      <td>385.0</td>\n",
       "      <td>0.0</td>\n",
       "      <td>52.0</td>\n",
       "      <td>Shena</td>\n",
       "      <td>Dickson</td>\n",
       "      <td>37</td>\n",
       "      <td>Orlando-Kissimmee-Sanford, FL MSA</td>\n",
       "      <td>2018-05-06</td>\n",
       "      <td>5</td>\n",
       "      <td>surf</td>\n",
       "      <td>Unknown</td>\n",
       "    </tr>\n",
       "    <tr>\n",
       "      <th>2291</th>\n",
       "      <td>1499</td>\n",
       "      <td>nov</td>\n",
       "      <td>39.0</td>\n",
       "      <td>308.0</td>\n",
       "      <td>0.0</td>\n",
       "      <td>43.0</td>\n",
       "      <td>Shena</td>\n",
       "      <td>Dickson</td>\n",
       "      <td>37</td>\n",
       "      <td>Orlando-Kissimmee-Sanford, FL MSA</td>\n",
       "      <td>2018-05-06</td>\n",
       "      <td>5</td>\n",
       "      <td>surf</td>\n",
       "      <td>Unknown</td>\n",
       "    </tr>\n",
       "    <tr>\n",
       "      <th>2292</th>\n",
       "      <td>1499</td>\n",
       "      <td>dec</td>\n",
       "      <td>56.0</td>\n",
       "      <td>496.0</td>\n",
       "      <td>0.0</td>\n",
       "      <td>58.0</td>\n",
       "      <td>Shena</td>\n",
       "      <td>Dickson</td>\n",
       "      <td>37</td>\n",
       "      <td>Orlando-Kissimmee-Sanford, FL MSA</td>\n",
       "      <td>2018-05-06</td>\n",
       "      <td>5</td>\n",
       "      <td>surf</td>\n",
       "      <td>Unknown</td>\n",
       "    </tr>\n",
       "  </tbody>\n",
       "</table>\n",
       "<p>2293 rows × 14 columns</p>\n",
       "</div>"
      ],
      "text/plain": [
       "      user_id month  calls   mins   sms    gb first_name   last_name  \\\n",
       "0        1000   dec   16.0  124.0  11.0   4.0   Anamaria       Bauer   \n",
       "1        1001   aug   22.0  182.0  30.0  21.0     Mickey   Wilkerson   \n",
       "2        1001   sep   38.0  315.0  44.0  41.0     Mickey   Wilkerson   \n",
       "3        1001   oct   47.0  393.0  53.0  50.0     Mickey   Wilkerson   \n",
       "4        1001   nov   49.0  426.0  36.0  49.0     Mickey   Wilkerson   \n",
       "...       ...   ...    ...    ...   ...   ...        ...         ...   \n",
       "2288     1498   dec   32.0  339.0   0.0  56.0       Scot  Williamson   \n",
       "2289     1499   sep   35.0  346.0   0.0  37.0      Shena     Dickson   \n",
       "2290     1499   oct   41.0  385.0   0.0  52.0      Shena     Dickson   \n",
       "2291     1499   nov   39.0  308.0   0.0  43.0      Shena     Dickson   \n",
       "2292     1499   dec   56.0  496.0   0.0  58.0      Shena     Dickson   \n",
       "\n",
       "      user_age                                  user_city   reg_date  \\\n",
       "0           45      Atlanta-Sandy Springs-Roswell, GA MSA 2018-12-24   \n",
       "1           28            Seattle-Tacoma-Bellevue, WA MSA 2018-08-13   \n",
       "2           28            Seattle-Tacoma-Bellevue, WA MSA 2018-08-13   \n",
       "3           28            Seattle-Tacoma-Bellevue, WA MSA 2018-08-13   \n",
       "4           28            Seattle-Tacoma-Bellevue, WA MSA 2018-08-13   \n",
       "...        ...                                        ...        ...   \n",
       "2288        51  New York-Newark-Jersey City, NY-NJ-PA MSA 2018-02-04   \n",
       "2289        37          Orlando-Kissimmee-Sanford, FL MSA 2018-05-06   \n",
       "2290        37          Orlando-Kissimmee-Sanford, FL MSA 2018-05-06   \n",
       "2291        37          Orlando-Kissimmee-Sanford, FL MSA 2018-05-06   \n",
       "2292        37          Orlando-Kissimmee-Sanford, FL MSA 2018-05-06   \n",
       "\n",
       "      reg_month      plan churn_date  \n",
       "0            12  ultimate    Unknown  \n",
       "1             8      surf    Unknown  \n",
       "2             8      surf    Unknown  \n",
       "3             8      surf    Unknown  \n",
       "4             8      surf    Unknown  \n",
       "...         ...       ...        ...  \n",
       "2288          2      surf    Unknown  \n",
       "2289          5      surf    Unknown  \n",
       "2290          5      surf    Unknown  \n",
       "2291          5      surf    Unknown  \n",
       "2292          5      surf    Unknown  \n",
       "\n",
       "[2293 rows x 14 columns]"
      ]
     },
     "execution_count": 36,
     "metadata": {},
     "output_type": "execute_result"
    }
   ],
   "source": [
    "# Añade el nombre del plan para cada usuario\n",
    "tripleplay_users = tripleplay.merge(df_users, on='user_id')    # combinamos los dataframes de 'all_services' con 'df_users' por el número de id\n",
    "tripleplay_users"
   ]
  },
  {
   "cell_type": "code",
   "execution_count": 37,
   "metadata": {},
   "outputs": [
    {
     "data": {
      "text/html": [
       "<div>\n",
       "<style scoped>\n",
       "    .dataframe tbody tr th:only-of-type {\n",
       "        vertical-align: middle;\n",
       "    }\n",
       "\n",
       "    .dataframe tbody tr th {\n",
       "        vertical-align: top;\n",
       "    }\n",
       "\n",
       "    .dataframe thead th {\n",
       "        text-align: right;\n",
       "    }\n",
       "</style>\n",
       "<table border=\"1\" class=\"dataframe\">\n",
       "  <thead>\n",
       "    <tr style=\"text-align: right;\">\n",
       "      <th></th>\n",
       "      <th>user_id</th>\n",
       "      <th>month</th>\n",
       "      <th>calls</th>\n",
       "      <th>mins</th>\n",
       "      <th>sms</th>\n",
       "      <th>gb</th>\n",
       "      <th>user_city</th>\n",
       "      <th>plan</th>\n",
       "    </tr>\n",
       "  </thead>\n",
       "  <tbody>\n",
       "    <tr>\n",
       "      <th>0</th>\n",
       "      <td>1000</td>\n",
       "      <td>dec</td>\n",
       "      <td>16.0</td>\n",
       "      <td>124.0</td>\n",
       "      <td>11.0</td>\n",
       "      <td>4.0</td>\n",
       "      <td>Atlanta-Sandy Springs-Roswell, GA MSA</td>\n",
       "      <td>ultimate</td>\n",
       "    </tr>\n",
       "    <tr>\n",
       "      <th>1</th>\n",
       "      <td>1001</td>\n",
       "      <td>aug</td>\n",
       "      <td>22.0</td>\n",
       "      <td>182.0</td>\n",
       "      <td>30.0</td>\n",
       "      <td>21.0</td>\n",
       "      <td>Seattle-Tacoma-Bellevue, WA MSA</td>\n",
       "      <td>surf</td>\n",
       "    </tr>\n",
       "    <tr>\n",
       "      <th>2</th>\n",
       "      <td>1001</td>\n",
       "      <td>sep</td>\n",
       "      <td>38.0</td>\n",
       "      <td>315.0</td>\n",
       "      <td>44.0</td>\n",
       "      <td>41.0</td>\n",
       "      <td>Seattle-Tacoma-Bellevue, WA MSA</td>\n",
       "      <td>surf</td>\n",
       "    </tr>\n",
       "    <tr>\n",
       "      <th>3</th>\n",
       "      <td>1001</td>\n",
       "      <td>oct</td>\n",
       "      <td>47.0</td>\n",
       "      <td>393.0</td>\n",
       "      <td>53.0</td>\n",
       "      <td>50.0</td>\n",
       "      <td>Seattle-Tacoma-Bellevue, WA MSA</td>\n",
       "      <td>surf</td>\n",
       "    </tr>\n",
       "    <tr>\n",
       "      <th>4</th>\n",
       "      <td>1001</td>\n",
       "      <td>nov</td>\n",
       "      <td>49.0</td>\n",
       "      <td>426.0</td>\n",
       "      <td>36.0</td>\n",
       "      <td>49.0</td>\n",
       "      <td>Seattle-Tacoma-Bellevue, WA MSA</td>\n",
       "      <td>surf</td>\n",
       "    </tr>\n",
       "    <tr>\n",
       "      <th>...</th>\n",
       "      <td>...</td>\n",
       "      <td>...</td>\n",
       "      <td>...</td>\n",
       "      <td>...</td>\n",
       "      <td>...</td>\n",
       "      <td>...</td>\n",
       "      <td>...</td>\n",
       "      <td>...</td>\n",
       "    </tr>\n",
       "    <tr>\n",
       "      <th>2288</th>\n",
       "      <td>1498</td>\n",
       "      <td>dec</td>\n",
       "      <td>32.0</td>\n",
       "      <td>339.0</td>\n",
       "      <td>0.0</td>\n",
       "      <td>56.0</td>\n",
       "      <td>New York-Newark-Jersey City, NY-NJ-PA MSA</td>\n",
       "      <td>surf</td>\n",
       "    </tr>\n",
       "    <tr>\n",
       "      <th>2289</th>\n",
       "      <td>1499</td>\n",
       "      <td>sep</td>\n",
       "      <td>35.0</td>\n",
       "      <td>346.0</td>\n",
       "      <td>0.0</td>\n",
       "      <td>37.0</td>\n",
       "      <td>Orlando-Kissimmee-Sanford, FL MSA</td>\n",
       "      <td>surf</td>\n",
       "    </tr>\n",
       "    <tr>\n",
       "      <th>2290</th>\n",
       "      <td>1499</td>\n",
       "      <td>oct</td>\n",
       "      <td>41.0</td>\n",
       "      <td>385.0</td>\n",
       "      <td>0.0</td>\n",
       "      <td>52.0</td>\n",
       "      <td>Orlando-Kissimmee-Sanford, FL MSA</td>\n",
       "      <td>surf</td>\n",
       "    </tr>\n",
       "    <tr>\n",
       "      <th>2291</th>\n",
       "      <td>1499</td>\n",
       "      <td>nov</td>\n",
       "      <td>39.0</td>\n",
       "      <td>308.0</td>\n",
       "      <td>0.0</td>\n",
       "      <td>43.0</td>\n",
       "      <td>Orlando-Kissimmee-Sanford, FL MSA</td>\n",
       "      <td>surf</td>\n",
       "    </tr>\n",
       "    <tr>\n",
       "      <th>2292</th>\n",
       "      <td>1499</td>\n",
       "      <td>dec</td>\n",
       "      <td>56.0</td>\n",
       "      <td>496.0</td>\n",
       "      <td>0.0</td>\n",
       "      <td>58.0</td>\n",
       "      <td>Orlando-Kissimmee-Sanford, FL MSA</td>\n",
       "      <td>surf</td>\n",
       "    </tr>\n",
       "  </tbody>\n",
       "</table>\n",
       "<p>2293 rows × 8 columns</p>\n",
       "</div>"
      ],
      "text/plain": [
       "      user_id month  calls   mins   sms    gb  \\\n",
       "0        1000   dec   16.0  124.0  11.0   4.0   \n",
       "1        1001   aug   22.0  182.0  30.0  21.0   \n",
       "2        1001   sep   38.0  315.0  44.0  41.0   \n",
       "3        1001   oct   47.0  393.0  53.0  50.0   \n",
       "4        1001   nov   49.0  426.0  36.0  49.0   \n",
       "...       ...   ...    ...    ...   ...   ...   \n",
       "2288     1498   dec   32.0  339.0   0.0  56.0   \n",
       "2289     1499   sep   35.0  346.0   0.0  37.0   \n",
       "2290     1499   oct   41.0  385.0   0.0  52.0   \n",
       "2291     1499   nov   39.0  308.0   0.0  43.0   \n",
       "2292     1499   dec   56.0  496.0   0.0  58.0   \n",
       "\n",
       "                                      user_city      plan  \n",
       "0         Atlanta-Sandy Springs-Roswell, GA MSA  ultimate  \n",
       "1               Seattle-Tacoma-Bellevue, WA MSA      surf  \n",
       "2               Seattle-Tacoma-Bellevue, WA MSA      surf  \n",
       "3               Seattle-Tacoma-Bellevue, WA MSA      surf  \n",
       "4               Seattle-Tacoma-Bellevue, WA MSA      surf  \n",
       "...                                         ...       ...  \n",
       "2288  New York-Newark-Jersey City, NY-NJ-PA MSA      surf  \n",
       "2289          Orlando-Kissimmee-Sanford, FL MSA      surf  \n",
       "2290          Orlando-Kissimmee-Sanford, FL MSA      surf  \n",
       "2291          Orlando-Kissimmee-Sanford, FL MSA      surf  \n",
       "2292          Orlando-Kissimmee-Sanford, FL MSA      surf  \n",
       "\n",
       "[2293 rows x 8 columns]"
      ]
     },
     "execution_count": 37,
     "metadata": {},
     "output_type": "execute_result"
    }
   ],
   "source": [
    "# Eliminamos las columnas inecesarias y lo renombramos\n",
    "tripleplay_plan = tripleplay_users.drop(['first_name', 'last_name', 'user_age', 'reg_date', 'reg_month', 'churn_date'], axis='columns')\n",
    "tripleplay_plan"
   ]
  },
  {
   "cell_type": "code",
   "execution_count": 38,
   "metadata": {},
   "outputs": [
    {
     "data": {
      "text/html": [
       "<div>\n",
       "<style scoped>\n",
       "    .dataframe tbody tr th:only-of-type {\n",
       "        vertical-align: middle;\n",
       "    }\n",
       "\n",
       "    .dataframe tbody tr th {\n",
       "        vertical-align: top;\n",
       "    }\n",
       "\n",
       "    .dataframe thead th {\n",
       "        text-align: right;\n",
       "    }\n",
       "</style>\n",
       "<table border=\"1\" class=\"dataframe\">\n",
       "  <thead>\n",
       "    <tr style=\"text-align: right;\">\n",
       "      <th></th>\n",
       "      <th>user_id</th>\n",
       "      <th>month</th>\n",
       "      <th>calls</th>\n",
       "      <th>mins</th>\n",
       "      <th>sms</th>\n",
       "      <th>gb</th>\n",
       "      <th>user_city</th>\n",
       "      <th>plan</th>\n",
       "      <th>sms_included</th>\n",
       "      <th>mb_per_month_included</th>\n",
       "      <th>gb_included</th>\n",
       "      <th>min_included</th>\n",
       "      <th>usd_monthly_fee</th>\n",
       "      <th>usd_per_gb</th>\n",
       "      <th>usd_per_sms</th>\n",
       "      <th>usd_per_minute</th>\n",
       "    </tr>\n",
       "  </thead>\n",
       "  <tbody>\n",
       "    <tr>\n",
       "      <th>0</th>\n",
       "      <td>1000</td>\n",
       "      <td>dec</td>\n",
       "      <td>16.0</td>\n",
       "      <td>124.0</td>\n",
       "      <td>11.0</td>\n",
       "      <td>4.0</td>\n",
       "      <td>Atlanta-Sandy Springs-Roswell, GA MSA</td>\n",
       "      <td>ultimate</td>\n",
       "      <td>1000</td>\n",
       "      <td>30720</td>\n",
       "      <td>30</td>\n",
       "      <td>3000</td>\n",
       "      <td>70.0</td>\n",
       "      <td>7.0</td>\n",
       "      <td>0.01</td>\n",
       "      <td>0.01</td>\n",
       "    </tr>\n",
       "    <tr>\n",
       "      <th>1</th>\n",
       "      <td>1001</td>\n",
       "      <td>aug</td>\n",
       "      <td>22.0</td>\n",
       "      <td>182.0</td>\n",
       "      <td>30.0</td>\n",
       "      <td>21.0</td>\n",
       "      <td>Seattle-Tacoma-Bellevue, WA MSA</td>\n",
       "      <td>surf</td>\n",
       "      <td>50</td>\n",
       "      <td>15360</td>\n",
       "      <td>15</td>\n",
       "      <td>500</td>\n",
       "      <td>20.0</td>\n",
       "      <td>10.0</td>\n",
       "      <td>0.03</td>\n",
       "      <td>0.03</td>\n",
       "    </tr>\n",
       "    <tr>\n",
       "      <th>2</th>\n",
       "      <td>1001</td>\n",
       "      <td>sep</td>\n",
       "      <td>38.0</td>\n",
       "      <td>315.0</td>\n",
       "      <td>44.0</td>\n",
       "      <td>41.0</td>\n",
       "      <td>Seattle-Tacoma-Bellevue, WA MSA</td>\n",
       "      <td>surf</td>\n",
       "      <td>50</td>\n",
       "      <td>15360</td>\n",
       "      <td>15</td>\n",
       "      <td>500</td>\n",
       "      <td>20.0</td>\n",
       "      <td>10.0</td>\n",
       "      <td>0.03</td>\n",
       "      <td>0.03</td>\n",
       "    </tr>\n",
       "    <tr>\n",
       "      <th>3</th>\n",
       "      <td>1001</td>\n",
       "      <td>oct</td>\n",
       "      <td>47.0</td>\n",
       "      <td>393.0</td>\n",
       "      <td>53.0</td>\n",
       "      <td>50.0</td>\n",
       "      <td>Seattle-Tacoma-Bellevue, WA MSA</td>\n",
       "      <td>surf</td>\n",
       "      <td>50</td>\n",
       "      <td>15360</td>\n",
       "      <td>15</td>\n",
       "      <td>500</td>\n",
       "      <td>20.0</td>\n",
       "      <td>10.0</td>\n",
       "      <td>0.03</td>\n",
       "      <td>0.03</td>\n",
       "    </tr>\n",
       "    <tr>\n",
       "      <th>4</th>\n",
       "      <td>1001</td>\n",
       "      <td>nov</td>\n",
       "      <td>49.0</td>\n",
       "      <td>426.0</td>\n",
       "      <td>36.0</td>\n",
       "      <td>49.0</td>\n",
       "      <td>Seattle-Tacoma-Bellevue, WA MSA</td>\n",
       "      <td>surf</td>\n",
       "      <td>50</td>\n",
       "      <td>15360</td>\n",
       "      <td>15</td>\n",
       "      <td>500</td>\n",
       "      <td>20.0</td>\n",
       "      <td>10.0</td>\n",
       "      <td>0.03</td>\n",
       "      <td>0.03</td>\n",
       "    </tr>\n",
       "    <tr>\n",
       "      <th>...</th>\n",
       "      <td>...</td>\n",
       "      <td>...</td>\n",
       "      <td>...</td>\n",
       "      <td>...</td>\n",
       "      <td>...</td>\n",
       "      <td>...</td>\n",
       "      <td>...</td>\n",
       "      <td>...</td>\n",
       "      <td>...</td>\n",
       "      <td>...</td>\n",
       "      <td>...</td>\n",
       "      <td>...</td>\n",
       "      <td>...</td>\n",
       "      <td>...</td>\n",
       "      <td>...</td>\n",
       "      <td>...</td>\n",
       "    </tr>\n",
       "    <tr>\n",
       "      <th>2288</th>\n",
       "      <td>1498</td>\n",
       "      <td>dec</td>\n",
       "      <td>32.0</td>\n",
       "      <td>339.0</td>\n",
       "      <td>0.0</td>\n",
       "      <td>56.0</td>\n",
       "      <td>New York-Newark-Jersey City, NY-NJ-PA MSA</td>\n",
       "      <td>surf</td>\n",
       "      <td>50</td>\n",
       "      <td>15360</td>\n",
       "      <td>15</td>\n",
       "      <td>500</td>\n",
       "      <td>20.0</td>\n",
       "      <td>10.0</td>\n",
       "      <td>0.03</td>\n",
       "      <td>0.03</td>\n",
       "    </tr>\n",
       "    <tr>\n",
       "      <th>2289</th>\n",
       "      <td>1499</td>\n",
       "      <td>sep</td>\n",
       "      <td>35.0</td>\n",
       "      <td>346.0</td>\n",
       "      <td>0.0</td>\n",
       "      <td>37.0</td>\n",
       "      <td>Orlando-Kissimmee-Sanford, FL MSA</td>\n",
       "      <td>surf</td>\n",
       "      <td>50</td>\n",
       "      <td>15360</td>\n",
       "      <td>15</td>\n",
       "      <td>500</td>\n",
       "      <td>20.0</td>\n",
       "      <td>10.0</td>\n",
       "      <td>0.03</td>\n",
       "      <td>0.03</td>\n",
       "    </tr>\n",
       "    <tr>\n",
       "      <th>2290</th>\n",
       "      <td>1499</td>\n",
       "      <td>oct</td>\n",
       "      <td>41.0</td>\n",
       "      <td>385.0</td>\n",
       "      <td>0.0</td>\n",
       "      <td>52.0</td>\n",
       "      <td>Orlando-Kissimmee-Sanford, FL MSA</td>\n",
       "      <td>surf</td>\n",
       "      <td>50</td>\n",
       "      <td>15360</td>\n",
       "      <td>15</td>\n",
       "      <td>500</td>\n",
       "      <td>20.0</td>\n",
       "      <td>10.0</td>\n",
       "      <td>0.03</td>\n",
       "      <td>0.03</td>\n",
       "    </tr>\n",
       "    <tr>\n",
       "      <th>2291</th>\n",
       "      <td>1499</td>\n",
       "      <td>nov</td>\n",
       "      <td>39.0</td>\n",
       "      <td>308.0</td>\n",
       "      <td>0.0</td>\n",
       "      <td>43.0</td>\n",
       "      <td>Orlando-Kissimmee-Sanford, FL MSA</td>\n",
       "      <td>surf</td>\n",
       "      <td>50</td>\n",
       "      <td>15360</td>\n",
       "      <td>15</td>\n",
       "      <td>500</td>\n",
       "      <td>20.0</td>\n",
       "      <td>10.0</td>\n",
       "      <td>0.03</td>\n",
       "      <td>0.03</td>\n",
       "    </tr>\n",
       "    <tr>\n",
       "      <th>2292</th>\n",
       "      <td>1499</td>\n",
       "      <td>dec</td>\n",
       "      <td>56.0</td>\n",
       "      <td>496.0</td>\n",
       "      <td>0.0</td>\n",
       "      <td>58.0</td>\n",
       "      <td>Orlando-Kissimmee-Sanford, FL MSA</td>\n",
       "      <td>surf</td>\n",
       "      <td>50</td>\n",
       "      <td>15360</td>\n",
       "      <td>15</td>\n",
       "      <td>500</td>\n",
       "      <td>20.0</td>\n",
       "      <td>10.0</td>\n",
       "      <td>0.03</td>\n",
       "      <td>0.03</td>\n",
       "    </tr>\n",
       "  </tbody>\n",
       "</table>\n",
       "<p>2293 rows × 16 columns</p>\n",
       "</div>"
      ],
      "text/plain": [
       "      user_id month  calls   mins   sms    gb  \\\n",
       "0        1000   dec   16.0  124.0  11.0   4.0   \n",
       "1        1001   aug   22.0  182.0  30.0  21.0   \n",
       "2        1001   sep   38.0  315.0  44.0  41.0   \n",
       "3        1001   oct   47.0  393.0  53.0  50.0   \n",
       "4        1001   nov   49.0  426.0  36.0  49.0   \n",
       "...       ...   ...    ...    ...   ...   ...   \n",
       "2288     1498   dec   32.0  339.0   0.0  56.0   \n",
       "2289     1499   sep   35.0  346.0   0.0  37.0   \n",
       "2290     1499   oct   41.0  385.0   0.0  52.0   \n",
       "2291     1499   nov   39.0  308.0   0.0  43.0   \n",
       "2292     1499   dec   56.0  496.0   0.0  58.0   \n",
       "\n",
       "                                      user_city      plan  sms_included  \\\n",
       "0         Atlanta-Sandy Springs-Roswell, GA MSA  ultimate          1000   \n",
       "1               Seattle-Tacoma-Bellevue, WA MSA      surf            50   \n",
       "2               Seattle-Tacoma-Bellevue, WA MSA      surf            50   \n",
       "3               Seattle-Tacoma-Bellevue, WA MSA      surf            50   \n",
       "4               Seattle-Tacoma-Bellevue, WA MSA      surf            50   \n",
       "...                                         ...       ...           ...   \n",
       "2288  New York-Newark-Jersey City, NY-NJ-PA MSA      surf            50   \n",
       "2289          Orlando-Kissimmee-Sanford, FL MSA      surf            50   \n",
       "2290          Orlando-Kissimmee-Sanford, FL MSA      surf            50   \n",
       "2291          Orlando-Kissimmee-Sanford, FL MSA      surf            50   \n",
       "2292          Orlando-Kissimmee-Sanford, FL MSA      surf            50   \n",
       "\n",
       "      mb_per_month_included  gb_included  min_included  usd_monthly_fee  \\\n",
       "0                     30720           30          3000             70.0   \n",
       "1                     15360           15           500             20.0   \n",
       "2                     15360           15           500             20.0   \n",
       "3                     15360           15           500             20.0   \n",
       "4                     15360           15           500             20.0   \n",
       "...                     ...          ...           ...              ...   \n",
       "2288                  15360           15           500             20.0   \n",
       "2289                  15360           15           500             20.0   \n",
       "2290                  15360           15           500             20.0   \n",
       "2291                  15360           15           500             20.0   \n",
       "2292                  15360           15           500             20.0   \n",
       "\n",
       "      usd_per_gb  usd_per_sms  usd_per_minute  \n",
       "0            7.0         0.01            0.01  \n",
       "1           10.0         0.03            0.03  \n",
       "2           10.0         0.03            0.03  \n",
       "3           10.0         0.03            0.03  \n",
       "4           10.0         0.03            0.03  \n",
       "...          ...          ...             ...  \n",
       "2288        10.0         0.03            0.03  \n",
       "2289        10.0         0.03            0.03  \n",
       "2290        10.0         0.03            0.03  \n",
       "2291        10.0         0.03            0.03  \n",
       "2292        10.0         0.03            0.03  \n",
       "\n",
       "[2293 rows x 16 columns]"
      ]
     },
     "execution_count": 38,
     "metadata": {},
     "output_type": "execute_result"
    }
   ],
   "source": [
    "# Añade la información de la tarifa\n",
    "tripleplay_fee = tripleplay_plan.merge(df_plans, on='plan')    # combinamos el nuevo dataframe con 'df_plans' para agregar la información de las tarifas\n",
    "tripleplay_fee"
   ]
  },
  {
   "cell_type": "markdown",
   "metadata": {},
   "source": [
    "<div class=\"alert alert-block alert-success\">\n",
    "<b>Comentario del revisor</b> <a class=\"tocSkip\"></a>\n",
    "\n",
    "Muy buen trabajo!! el merge es correcto para unir todas las bases trabajadas.\n",
    "    \n",
    "</div>"
   ]
  },
  {
   "cell_type": "markdown",
   "metadata": {
    "id": "1IwGo4wg0q1I"
   },
   "source": [
    "[Calcula los ingresos mensuales por usuario (resta el límite del paquete gratuito del número total de llamadas, mensajes de texto y datos; multiplica el resultado por el valor del plan de llamadas; añade la tarifa mensual en función del plan de llamadas). Nota: Dadas las condiciones del plan, ¡esto podría no ser tan trivial como un par de líneas! Así que no pasa nada si dedicas algo de tiempo a ello.]"
   ]
  },
  {
   "cell_type": "markdown",
   "metadata": {},
   "source": [
    "<div class=\"alert alert-block alert-info\">\n",
    "<b>Respuesta del , Iteración 1</b> <a class=“tocSkip”></a>\n",
    "\n",
    "Tionatiuh, para el ejercicio de calcular los ingresos mensuales por usuario, he creado algunas funciones con ayuda en el co-learning.\n",
    "Estoy seguro que la información ahora es correcta, aparte de que se han redondeado las cifras como me lo habías solicitado.\n",
    "Favor de revisar y hacerme saber cualquier detalle.\n",
    "Gracias!\n",
    "</div>"
   ]
  },
  {
   "cell_type": "markdown",
   "metadata": {},
   "source": [
    "<div class=\"alert alert-block alert-success\">\n",
    "<b>Comentario revisor</b> <a class=\"tocSkip\"></a>\n",
    "\n",
    "Tom, el uso de funciones es muy útil cuando hacemos procesos iterativos sobre diferentes elementos como en este caso. Respecto a las funciones que creaste son correctas para hacer el calculo, excelente trabajo!"
   ]
  },
  {
   "cell_type": "code",
   "execution_count": 39,
   "metadata": {},
   "outputs": [
    {
     "data": {
      "text/html": [
       "<div>\n",
       "<style scoped>\n",
       "    .dataframe tbody tr th:only-of-type {\n",
       "        vertical-align: middle;\n",
       "    }\n",
       "\n",
       "    .dataframe tbody tr th {\n",
       "        vertical-align: top;\n",
       "    }\n",
       "\n",
       "    .dataframe thead th {\n",
       "        text-align: right;\n",
       "    }\n",
       "</style>\n",
       "<table border=\"1\" class=\"dataframe\">\n",
       "  <thead>\n",
       "    <tr style=\"text-align: right;\">\n",
       "      <th></th>\n",
       "      <th>sms_included</th>\n",
       "      <th>mb_per_month_included</th>\n",
       "      <th>gb_included</th>\n",
       "      <th>min_included</th>\n",
       "      <th>usd_monthly_fee</th>\n",
       "      <th>usd_per_gb</th>\n",
       "      <th>usd_per_sms</th>\n",
       "      <th>usd_per_minute</th>\n",
       "      <th>plan</th>\n",
       "    </tr>\n",
       "  </thead>\n",
       "  <tbody>\n",
       "    <tr>\n",
       "      <th>0</th>\n",
       "      <td>50</td>\n",
       "      <td>15360</td>\n",
       "      <td>15</td>\n",
       "      <td>500</td>\n",
       "      <td>20.0</td>\n",
       "      <td>10.0</td>\n",
       "      <td>0.03</td>\n",
       "      <td>0.03</td>\n",
       "      <td>surf</td>\n",
       "    </tr>\n",
       "    <tr>\n",
       "      <th>1</th>\n",
       "      <td>1000</td>\n",
       "      <td>30720</td>\n",
       "      <td>30</td>\n",
       "      <td>3000</td>\n",
       "      <td>70.0</td>\n",
       "      <td>7.0</td>\n",
       "      <td>0.01</td>\n",
       "      <td>0.01</td>\n",
       "      <td>ultimate</td>\n",
       "    </tr>\n",
       "  </tbody>\n",
       "</table>\n",
       "</div>"
      ],
      "text/plain": [
       "   sms_included  mb_per_month_included  gb_included  min_included  \\\n",
       "0            50                  15360           15           500   \n",
       "1          1000                  30720           30          3000   \n",
       "\n",
       "   usd_monthly_fee  usd_per_gb  usd_per_sms  usd_per_minute      plan  \n",
       "0             20.0        10.0         0.03            0.03      surf  \n",
       "1             70.0         7.0         0.01            0.01  ultimate  "
      ]
     },
     "execution_count": 39,
     "metadata": {},
     "output_type": "execute_result"
    }
   ],
   "source": [
    "# Echamos de nuevo un vistazo al Dataframe de tarifas por plan\n",
    "df_plans"
   ]
  },
  {
   "cell_type": "code",
   "execution_count": 40,
   "metadata": {},
   "outputs": [],
   "source": [
    "# Definimos todos los datos de ambos planes 'surf' y 'ultimate' en variables\n",
    "\n",
    "surf_charge = 20\n",
    "min_surf = 500\n",
    "sms_surf = 50\n",
    "gb_surf = 15\n",
    "cost_call_surf = 0.03\n",
    "cost_sms_surf = 0.03\n",
    "cost_gb_surf = 10\n",
    "\n",
    "ultimate_charge = 70\n",
    "min_ultimate = 3000\n",
    "sms_ultimate = 1000\n",
    "gb_ultimate = 30\n",
    "cost_call_ultimate = 0.01\n",
    "cost_sms_ultimate = 0.01\n",
    "cost_gb_ultimate = 7"
   ]
  },
  {
   "cell_type": "code",
   "execution_count": 41,
   "metadata": {},
   "outputs": [],
   "source": [
    "# Función para calcular los minutos extra en las llamadas por usuario\n",
    "\n",
    "def extra_calls (row):\n",
    "    plan = row['plan']\n",
    "    min_used = row['mins']\n",
    "    \n",
    "    if plan == 'surf':\n",
    "        if min_used > min_surf:\n",
    "            extra_mins = min_used - min_surf\n",
    "        else:\n",
    "            extra_mins = 0\n",
    "    \n",
    "    if plan == 'ultimate':\n",
    "        if min_used > min_ultimate:\n",
    "            extra_mins = min_used - min_ultimate\n",
    "        else:\n",
    "            extra_mins = 0\n",
    "            \n",
    "    return extra_mins"
   ]
  },
  {
   "cell_type": "code",
   "execution_count": 42,
   "metadata": {},
   "outputs": [
    {
     "data": {
      "text/plain": [
       "0       0.0\n",
       "1       0.0\n",
       "2       0.0\n",
       "3       0.0\n",
       "4       0.0\n",
       "       ... \n",
       "2288    0.0\n",
       "2289    0.0\n",
       "2290    0.0\n",
       "2291    0.0\n",
       "2292    0.0\n",
       "Length: 2293, dtype: float64"
      ]
     },
     "execution_count": 42,
     "metadata": {},
     "output_type": "execute_result"
    }
   ],
   "source": [
    "tripleplay_fee.apply(extra_calls, axis=1)   # Probamos la función para calcular los minutos extra, llamada 'extra_calls'"
   ]
  },
  {
   "cell_type": "code",
   "execution_count": 43,
   "metadata": {},
   "outputs": [],
   "source": [
    "# Función para calcular los mensajes extra enviados por usuario\n",
    "\n",
    "def extra_messages (row):\n",
    "    plan = row['plan']\n",
    "    sms_sent = row['sms']\n",
    "    \n",
    "    if plan == 'surf':\n",
    "        if sms_sent > sms_surf:\n",
    "            extra_sms = sms_sent - sms_surf\n",
    "        else:\n",
    "            extra_sms = 0\n",
    "    \n",
    "    if plan == 'ultimate':\n",
    "        if sms_sent > sms_ultimate:\n",
    "            extra_sms = sms_sent - sms_ultimate\n",
    "        else:\n",
    "            extra_sms = 0\n",
    "    \n",
    "    return extra_sms"
   ]
  },
  {
   "cell_type": "code",
   "execution_count": 44,
   "metadata": {},
   "outputs": [
    {
     "data": {
      "text/plain": [
       "0       0.0\n",
       "1       0.0\n",
       "2       0.0\n",
       "3       3.0\n",
       "4       0.0\n",
       "       ... \n",
       "2288    0.0\n",
       "2289    0.0\n",
       "2290    0.0\n",
       "2291    0.0\n",
       "2292    0.0\n",
       "Length: 2293, dtype: float64"
      ]
     },
     "execution_count": 44,
     "metadata": {},
     "output_type": "execute_result"
    }
   ],
   "source": [
    "tripleplay_fee.apply(extra_messages, axis=1)   # Probamos la función para calcular los mensajes extra enviados, llamada 'extra_sms'"
   ]
  },
  {
   "cell_type": "code",
   "execution_count": 45,
   "metadata": {},
   "outputs": [],
   "source": [
    "# Función para calcular los gigabytes extra consumidos por usuario\n",
    "\n",
    "def extra_data (row):\n",
    "    plan = row['plan']\n",
    "    data_used = row['gb']\n",
    "    \n",
    "    if plan == 'surf':\n",
    "        if data_used > gb_surf:\n",
    "            extra_gb = data_used - gb_surf\n",
    "        else:\n",
    "            extra_gb =0\n",
    "            \n",
    "    if plan == 'ultimate':\n",
    "        if data_used > gb_ultimate:\n",
    "            extra_gb = data_used - gb_ultimate\n",
    "        else:\n",
    "            extra_gb = 0\n",
    "    \n",
    "    return extra_gb"
   ]
  },
  {
   "cell_type": "code",
   "execution_count": 46,
   "metadata": {},
   "outputs": [
    {
     "data": {
      "text/plain": [
       "0        0.0\n",
       "1        6.0\n",
       "2       26.0\n",
       "3       35.0\n",
       "4       34.0\n",
       "        ... \n",
       "2288    41.0\n",
       "2289    22.0\n",
       "2290    37.0\n",
       "2291    28.0\n",
       "2292    43.0\n",
       "Length: 2293, dtype: float64"
      ]
     },
     "execution_count": 46,
     "metadata": {},
     "output_type": "execute_result"
    }
   ],
   "source": [
    "tripleplay_fee.apply(extra_data, axis=1)   # Probamos la función para calcular los gigabytes extra consumidos, llamada 'extra_gb'"
   ]
  },
  {
   "cell_type": "markdown",
   "metadata": {},
   "source": [
    "Ahora que tenemos las funciones para calcular los servicios extra de acuerdo a las tarifas de los dos planes, vamos a crean un nuevo dataframe con 3 columnas extras para cada excedente de minutos (mins), mensajes (sms) y gigabytes (gb)."
   ]
  },
  {
   "cell_type": "code",
   "execution_count": 47,
   "metadata": {},
   "outputs": [
    {
     "name": "stdout",
     "output_type": "stream",
     "text": [
      "<class 'pandas.core.frame.DataFrame'>\n",
      "RangeIndex: 2293 entries, 0 to 2292\n",
      "Data columns (total 11 columns):\n",
      " #   Column     Non-Null Count  Dtype  \n",
      "---  ------     --------------  -----  \n",
      " 0   user_id    2293 non-null   int64  \n",
      " 1   month      2293 non-null   object \n",
      " 2   calls      2293 non-null   float64\n",
      " 3   mins       2293 non-null   float64\n",
      " 4   sms        2293 non-null   float64\n",
      " 5   gb         2293 non-null   float64\n",
      " 6   user_city  2293 non-null   object \n",
      " 7   plan       2293 non-null   object \n",
      " 8   extra_min  2293 non-null   float64\n",
      " 9   extra_sms  2293 non-null   float64\n",
      " 10  extra_gb   2293 non-null   float64\n",
      "dtypes: float64(7), int64(1), object(3)\n",
      "memory usage: 197.2+ KB\n"
     ]
    },
    {
     "data": {
      "text/html": [
       "<div>\n",
       "<style scoped>\n",
       "    .dataframe tbody tr th:only-of-type {\n",
       "        vertical-align: middle;\n",
       "    }\n",
       "\n",
       "    .dataframe tbody tr th {\n",
       "        vertical-align: top;\n",
       "    }\n",
       "\n",
       "    .dataframe thead th {\n",
       "        text-align: right;\n",
       "    }\n",
       "</style>\n",
       "<table border=\"1\" class=\"dataframe\">\n",
       "  <thead>\n",
       "    <tr style=\"text-align: right;\">\n",
       "      <th></th>\n",
       "      <th>user_id</th>\n",
       "      <th>month</th>\n",
       "      <th>calls</th>\n",
       "      <th>mins</th>\n",
       "      <th>sms</th>\n",
       "      <th>gb</th>\n",
       "      <th>user_city</th>\n",
       "      <th>plan</th>\n",
       "      <th>extra_min</th>\n",
       "      <th>extra_sms</th>\n",
       "      <th>extra_gb</th>\n",
       "    </tr>\n",
       "  </thead>\n",
       "  <tbody>\n",
       "    <tr>\n",
       "      <th>1727</th>\n",
       "      <td>1370</td>\n",
       "      <td>nov</td>\n",
       "      <td>76.0</td>\n",
       "      <td>575.0</td>\n",
       "      <td>20.0</td>\n",
       "      <td>36.0</td>\n",
       "      <td>San Diego-Chula Vista-Carlsbad, CA MSA</td>\n",
       "      <td>ultimate</td>\n",
       "      <td>0.0</td>\n",
       "      <td>0.0</td>\n",
       "      <td>6.0</td>\n",
       "    </tr>\n",
       "    <tr>\n",
       "      <th>1130</th>\n",
       "      <td>1240</td>\n",
       "      <td>oct</td>\n",
       "      <td>125.0</td>\n",
       "      <td>1194.0</td>\n",
       "      <td>9.0</td>\n",
       "      <td>86.0</td>\n",
       "      <td>Baton Rouge, LA MSA</td>\n",
       "      <td>surf</td>\n",
       "      <td>694.0</td>\n",
       "      <td>0.0</td>\n",
       "      <td>71.0</td>\n",
       "    </tr>\n",
       "    <tr>\n",
       "      <th>1110</th>\n",
       "      <td>1236</td>\n",
       "      <td>jun</td>\n",
       "      <td>56.0</td>\n",
       "      <td>434.0</td>\n",
       "      <td>32.0</td>\n",
       "      <td>48.0</td>\n",
       "      <td>Minneapolis-St. Paul-Bloomington, MN-WI MSA</td>\n",
       "      <td>ultimate</td>\n",
       "      <td>0.0</td>\n",
       "      <td>0.0</td>\n",
       "      <td>18.0</td>\n",
       "    </tr>\n",
       "    <tr>\n",
       "      <th>17</th>\n",
       "      <td>1004</td>\n",
       "      <td>dec</td>\n",
       "      <td>43.0</td>\n",
       "      <td>427.0</td>\n",
       "      <td>31.0</td>\n",
       "      <td>50.0</td>\n",
       "      <td>Seattle-Tacoma-Bellevue, WA MSA</td>\n",
       "      <td>surf</td>\n",
       "      <td>0.0</td>\n",
       "      <td>0.0</td>\n",
       "      <td>35.0</td>\n",
       "    </tr>\n",
       "    <tr>\n",
       "      <th>1981</th>\n",
       "      <td>1424</td>\n",
       "      <td>nov</td>\n",
       "      <td>5.0</td>\n",
       "      <td>23.0</td>\n",
       "      <td>16.0</td>\n",
       "      <td>10.0</td>\n",
       "      <td>Virginia Beach-Norfolk-Newport News, VA-NC MSA</td>\n",
       "      <td>ultimate</td>\n",
       "      <td>0.0</td>\n",
       "      <td>0.0</td>\n",
       "      <td>0.0</td>\n",
       "    </tr>\n",
       "    <tr>\n",
       "      <th>1487</th>\n",
       "      <td>1324</td>\n",
       "      <td>sep</td>\n",
       "      <td>114.0</td>\n",
       "      <td>996.0</td>\n",
       "      <td>143.0</td>\n",
       "      <td>45.0</td>\n",
       "      <td>Minneapolis-St. Paul-Bloomington, MN-WI MSA</td>\n",
       "      <td>surf</td>\n",
       "      <td>496.0</td>\n",
       "      <td>93.0</td>\n",
       "      <td>30.0</td>\n",
       "    </tr>\n",
       "    <tr>\n",
       "      <th>1444</th>\n",
       "      <td>1315</td>\n",
       "      <td>nov</td>\n",
       "      <td>27.0</td>\n",
       "      <td>282.0</td>\n",
       "      <td>21.0</td>\n",
       "      <td>18.0</td>\n",
       "      <td>Raleigh-Cary, NC MSA</td>\n",
       "      <td>surf</td>\n",
       "      <td>0.0</td>\n",
       "      <td>0.0</td>\n",
       "      <td>3.0</td>\n",
       "    </tr>\n",
       "    <tr>\n",
       "      <th>27</th>\n",
       "      <td>1008</td>\n",
       "      <td>nov</td>\n",
       "      <td>50.0</td>\n",
       "      <td>446.0</td>\n",
       "      <td>37.0</td>\n",
       "      <td>56.0</td>\n",
       "      <td>Orlando-Kissimmee-Sanford, FL MSA</td>\n",
       "      <td>ultimate</td>\n",
       "      <td>0.0</td>\n",
       "      <td>0.0</td>\n",
       "      <td>26.0</td>\n",
       "    </tr>\n",
       "    <tr>\n",
       "      <th>268</th>\n",
       "      <td>1061</td>\n",
       "      <td>may</td>\n",
       "      <td>83.0</td>\n",
       "      <td>728.0</td>\n",
       "      <td>61.0</td>\n",
       "      <td>59.0</td>\n",
       "      <td>Columbia, SC MSA</td>\n",
       "      <td>ultimate</td>\n",
       "      <td>0.0</td>\n",
       "      <td>0.0</td>\n",
       "      <td>29.0</td>\n",
       "    </tr>\n",
       "    <tr>\n",
       "      <th>598</th>\n",
       "      <td>1127</td>\n",
       "      <td>jul</td>\n",
       "      <td>26.0</td>\n",
       "      <td>241.0</td>\n",
       "      <td>10.0</td>\n",
       "      <td>55.0</td>\n",
       "      <td>New York-Newark-Jersey City, NY-NJ-PA MSA</td>\n",
       "      <td>surf</td>\n",
       "      <td>0.0</td>\n",
       "      <td>0.0</td>\n",
       "      <td>40.0</td>\n",
       "    </tr>\n",
       "  </tbody>\n",
       "</table>\n",
       "</div>"
      ],
      "text/plain": [
       "      user_id month  calls    mins    sms    gb  \\\n",
       "1727     1370   nov   76.0   575.0   20.0  36.0   \n",
       "1130     1240   oct  125.0  1194.0    9.0  86.0   \n",
       "1110     1236   jun   56.0   434.0   32.0  48.0   \n",
       "17       1004   dec   43.0   427.0   31.0  50.0   \n",
       "1981     1424   nov    5.0    23.0   16.0  10.0   \n",
       "1487     1324   sep  114.0   996.0  143.0  45.0   \n",
       "1444     1315   nov   27.0   282.0   21.0  18.0   \n",
       "27       1008   nov   50.0   446.0   37.0  56.0   \n",
       "268      1061   may   83.0   728.0   61.0  59.0   \n",
       "598      1127   jul   26.0   241.0   10.0  55.0   \n",
       "\n",
       "                                           user_city      plan  extra_min  \\\n",
       "1727          San Diego-Chula Vista-Carlsbad, CA MSA  ultimate        0.0   \n",
       "1130                             Baton Rouge, LA MSA      surf      694.0   \n",
       "1110     Minneapolis-St. Paul-Bloomington, MN-WI MSA  ultimate        0.0   \n",
       "17                   Seattle-Tacoma-Bellevue, WA MSA      surf        0.0   \n",
       "1981  Virginia Beach-Norfolk-Newport News, VA-NC MSA  ultimate        0.0   \n",
       "1487     Minneapolis-St. Paul-Bloomington, MN-WI MSA      surf      496.0   \n",
       "1444                            Raleigh-Cary, NC MSA      surf        0.0   \n",
       "27                 Orlando-Kissimmee-Sanford, FL MSA  ultimate        0.0   \n",
       "268                                 Columbia, SC MSA  ultimate        0.0   \n",
       "598        New York-Newark-Jersey City, NY-NJ-PA MSA      surf        0.0   \n",
       "\n",
       "      extra_sms  extra_gb  \n",
       "1727        0.0       6.0  \n",
       "1130        0.0      71.0  \n",
       "1110        0.0      18.0  \n",
       "17          0.0      35.0  \n",
       "1981        0.0       0.0  \n",
       "1487       93.0      30.0  \n",
       "1444        0.0       3.0  \n",
       "27          0.0      26.0  \n",
       "268         0.0      29.0  \n",
       "598         0.0      40.0  "
      ]
     },
     "execution_count": 47,
     "metadata": {},
     "output_type": "execute_result"
    }
   ],
   "source": [
    "tripleplay_plan['extra_min'] = tripleplay_plan.apply(extra_calls, axis=1)         # Creamos una columna con los minutos extra\n",
    "tripleplay_plan['extra_sms'] = tripleplay_plan.apply(extra_messages, axis=1)      # Creamos una columna con los mensajes extra\n",
    "tripleplay_plan['extra_gb'] = tripleplay_plan.apply(extra_data, axis=1)           # Creamos una columna con los gigas extra\n",
    "\n",
    "tripleplay_extra = tripleplay_plan       # Renombramos el Dataframe y revisamos su nueva información\n",
    "tripleplay_extra.info()\n",
    "tripleplay_extra.sample(10)"
   ]
  },
  {
   "cell_type": "markdown",
   "metadata": {},
   "source": [
    "Ahora calcularemos la ganancia sumando el costo del plan más el costo de los servicios extra que se cobran aparte de de la tarifa de los planes."
   ]
  },
  {
   "cell_type": "code",
   "execution_count": 48,
   "metadata": {},
   "outputs": [],
   "source": [
    "# Esta función calcula el monto del cargo extra y suma los costos para obtener la ganancia total.\n",
    "\n",
    "def month_charge (row):\n",
    "    plan = row['plan']\n",
    "    extra_min = row['extra_min']\n",
    "    extra_sms = row['extra_sms']\n",
    "    extra_gb = row['extra_gb']\n",
    "    \n",
    "    if plan == 'surf':\n",
    "        revenue = surf_charge + ((extra_min * cost_call_surf) + (extra_sms * cost_sms_surf) + (extra_gb * cost_gb_surf))\n",
    "    else:\n",
    "        revenue = ultimate_charge + ((extra_min * cost_call_ultimate) + (extra_sms * cost_sms_ultimate) + (extra_gb * cost_gb_ultimate))\n",
    "        \n",
    "    return revenue"
   ]
  },
  {
   "cell_type": "code",
   "execution_count": 49,
   "metadata": {},
   "outputs": [
    {
     "name": "stdout",
     "output_type": "stream",
     "text": [
      "<class 'pandas.core.frame.DataFrame'>\n",
      "RangeIndex: 2293 entries, 0 to 2292\n",
      "Data columns (total 12 columns):\n",
      " #   Column         Non-Null Count  Dtype  \n",
      "---  ------         --------------  -----  \n",
      " 0   user_id        2293 non-null   int64  \n",
      " 1   month          2293 non-null   object \n",
      " 2   calls          2293 non-null   float64\n",
      " 3   mins           2293 non-null   float64\n",
      " 4   sms            2293 non-null   float64\n",
      " 5   gb             2293 non-null   float64\n",
      " 6   user_city      2293 non-null   object \n",
      " 7   plan           2293 non-null   object \n",
      " 8   extra_min      2293 non-null   float64\n",
      " 9   extra_sms      2293 non-null   float64\n",
      " 10  extra_gb       2293 non-null   float64\n",
      " 11  month_revenue  2293 non-null   float64\n",
      "dtypes: float64(8), int64(1), object(3)\n",
      "memory usage: 215.1+ KB\n"
     ]
    },
    {
     "data": {
      "text/html": [
       "<div>\n",
       "<style scoped>\n",
       "    .dataframe tbody tr th:only-of-type {\n",
       "        vertical-align: middle;\n",
       "    }\n",
       "\n",
       "    .dataframe tbody tr th {\n",
       "        vertical-align: top;\n",
       "    }\n",
       "\n",
       "    .dataframe thead th {\n",
       "        text-align: right;\n",
       "    }\n",
       "</style>\n",
       "<table border=\"1\" class=\"dataframe\">\n",
       "  <thead>\n",
       "    <tr style=\"text-align: right;\">\n",
       "      <th></th>\n",
       "      <th>user_id</th>\n",
       "      <th>month</th>\n",
       "      <th>calls</th>\n",
       "      <th>mins</th>\n",
       "      <th>sms</th>\n",
       "      <th>gb</th>\n",
       "      <th>user_city</th>\n",
       "      <th>plan</th>\n",
       "      <th>extra_min</th>\n",
       "      <th>extra_sms</th>\n",
       "      <th>extra_gb</th>\n",
       "      <th>month_revenue</th>\n",
       "    </tr>\n",
       "  </thead>\n",
       "  <tbody>\n",
       "    <tr>\n",
       "      <th>0</th>\n",
       "      <td>1000</td>\n",
       "      <td>dec</td>\n",
       "      <td>16.0</td>\n",
       "      <td>124.0</td>\n",
       "      <td>11.0</td>\n",
       "      <td>4.0</td>\n",
       "      <td>Atlanta-Sandy Springs-Roswell, GA MSA</td>\n",
       "      <td>ultimate</td>\n",
       "      <td>0.0</td>\n",
       "      <td>0.0</td>\n",
       "      <td>0.0</td>\n",
       "      <td>70.00</td>\n",
       "    </tr>\n",
       "    <tr>\n",
       "      <th>1</th>\n",
       "      <td>1001</td>\n",
       "      <td>aug</td>\n",
       "      <td>22.0</td>\n",
       "      <td>182.0</td>\n",
       "      <td>30.0</td>\n",
       "      <td>21.0</td>\n",
       "      <td>Seattle-Tacoma-Bellevue, WA MSA</td>\n",
       "      <td>surf</td>\n",
       "      <td>0.0</td>\n",
       "      <td>0.0</td>\n",
       "      <td>6.0</td>\n",
       "      <td>80.00</td>\n",
       "    </tr>\n",
       "    <tr>\n",
       "      <th>2</th>\n",
       "      <td>1001</td>\n",
       "      <td>sep</td>\n",
       "      <td>38.0</td>\n",
       "      <td>315.0</td>\n",
       "      <td>44.0</td>\n",
       "      <td>41.0</td>\n",
       "      <td>Seattle-Tacoma-Bellevue, WA MSA</td>\n",
       "      <td>surf</td>\n",
       "      <td>0.0</td>\n",
       "      <td>0.0</td>\n",
       "      <td>26.0</td>\n",
       "      <td>280.00</td>\n",
       "    </tr>\n",
       "    <tr>\n",
       "      <th>3</th>\n",
       "      <td>1001</td>\n",
       "      <td>oct</td>\n",
       "      <td>47.0</td>\n",
       "      <td>393.0</td>\n",
       "      <td>53.0</td>\n",
       "      <td>50.0</td>\n",
       "      <td>Seattle-Tacoma-Bellevue, WA MSA</td>\n",
       "      <td>surf</td>\n",
       "      <td>0.0</td>\n",
       "      <td>3.0</td>\n",
       "      <td>35.0</td>\n",
       "      <td>370.09</td>\n",
       "    </tr>\n",
       "    <tr>\n",
       "      <th>4</th>\n",
       "      <td>1001</td>\n",
       "      <td>nov</td>\n",
       "      <td>49.0</td>\n",
       "      <td>426.0</td>\n",
       "      <td>36.0</td>\n",
       "      <td>49.0</td>\n",
       "      <td>Seattle-Tacoma-Bellevue, WA MSA</td>\n",
       "      <td>surf</td>\n",
       "      <td>0.0</td>\n",
       "      <td>0.0</td>\n",
       "      <td>34.0</td>\n",
       "      <td>360.00</td>\n",
       "    </tr>\n",
       "    <tr>\n",
       "      <th>...</th>\n",
       "      <td>...</td>\n",
       "      <td>...</td>\n",
       "      <td>...</td>\n",
       "      <td>...</td>\n",
       "      <td>...</td>\n",
       "      <td>...</td>\n",
       "      <td>...</td>\n",
       "      <td>...</td>\n",
       "      <td>...</td>\n",
       "      <td>...</td>\n",
       "      <td>...</td>\n",
       "      <td>...</td>\n",
       "    </tr>\n",
       "    <tr>\n",
       "      <th>2288</th>\n",
       "      <td>1498</td>\n",
       "      <td>dec</td>\n",
       "      <td>32.0</td>\n",
       "      <td>339.0</td>\n",
       "      <td>0.0</td>\n",
       "      <td>56.0</td>\n",
       "      <td>New York-Newark-Jersey City, NY-NJ-PA MSA</td>\n",
       "      <td>surf</td>\n",
       "      <td>0.0</td>\n",
       "      <td>0.0</td>\n",
       "      <td>41.0</td>\n",
       "      <td>430.00</td>\n",
       "    </tr>\n",
       "    <tr>\n",
       "      <th>2289</th>\n",
       "      <td>1499</td>\n",
       "      <td>sep</td>\n",
       "      <td>35.0</td>\n",
       "      <td>346.0</td>\n",
       "      <td>0.0</td>\n",
       "      <td>37.0</td>\n",
       "      <td>Orlando-Kissimmee-Sanford, FL MSA</td>\n",
       "      <td>surf</td>\n",
       "      <td>0.0</td>\n",
       "      <td>0.0</td>\n",
       "      <td>22.0</td>\n",
       "      <td>240.00</td>\n",
       "    </tr>\n",
       "    <tr>\n",
       "      <th>2290</th>\n",
       "      <td>1499</td>\n",
       "      <td>oct</td>\n",
       "      <td>41.0</td>\n",
       "      <td>385.0</td>\n",
       "      <td>0.0</td>\n",
       "      <td>52.0</td>\n",
       "      <td>Orlando-Kissimmee-Sanford, FL MSA</td>\n",
       "      <td>surf</td>\n",
       "      <td>0.0</td>\n",
       "      <td>0.0</td>\n",
       "      <td>37.0</td>\n",
       "      <td>390.00</td>\n",
       "    </tr>\n",
       "    <tr>\n",
       "      <th>2291</th>\n",
       "      <td>1499</td>\n",
       "      <td>nov</td>\n",
       "      <td>39.0</td>\n",
       "      <td>308.0</td>\n",
       "      <td>0.0</td>\n",
       "      <td>43.0</td>\n",
       "      <td>Orlando-Kissimmee-Sanford, FL MSA</td>\n",
       "      <td>surf</td>\n",
       "      <td>0.0</td>\n",
       "      <td>0.0</td>\n",
       "      <td>28.0</td>\n",
       "      <td>300.00</td>\n",
       "    </tr>\n",
       "    <tr>\n",
       "      <th>2292</th>\n",
       "      <td>1499</td>\n",
       "      <td>dec</td>\n",
       "      <td>56.0</td>\n",
       "      <td>496.0</td>\n",
       "      <td>0.0</td>\n",
       "      <td>58.0</td>\n",
       "      <td>Orlando-Kissimmee-Sanford, FL MSA</td>\n",
       "      <td>surf</td>\n",
       "      <td>0.0</td>\n",
       "      <td>0.0</td>\n",
       "      <td>43.0</td>\n",
       "      <td>450.00</td>\n",
       "    </tr>\n",
       "  </tbody>\n",
       "</table>\n",
       "<p>2293 rows × 12 columns</p>\n",
       "</div>"
      ],
      "text/plain": [
       "      user_id month  calls   mins   sms    gb  \\\n",
       "0        1000   dec   16.0  124.0  11.0   4.0   \n",
       "1        1001   aug   22.0  182.0  30.0  21.0   \n",
       "2        1001   sep   38.0  315.0  44.0  41.0   \n",
       "3        1001   oct   47.0  393.0  53.0  50.0   \n",
       "4        1001   nov   49.0  426.0  36.0  49.0   \n",
       "...       ...   ...    ...    ...   ...   ...   \n",
       "2288     1498   dec   32.0  339.0   0.0  56.0   \n",
       "2289     1499   sep   35.0  346.0   0.0  37.0   \n",
       "2290     1499   oct   41.0  385.0   0.0  52.0   \n",
       "2291     1499   nov   39.0  308.0   0.0  43.0   \n",
       "2292     1499   dec   56.0  496.0   0.0  58.0   \n",
       "\n",
       "                                      user_city      plan  extra_min  \\\n",
       "0         Atlanta-Sandy Springs-Roswell, GA MSA  ultimate        0.0   \n",
       "1               Seattle-Tacoma-Bellevue, WA MSA      surf        0.0   \n",
       "2               Seattle-Tacoma-Bellevue, WA MSA      surf        0.0   \n",
       "3               Seattle-Tacoma-Bellevue, WA MSA      surf        0.0   \n",
       "4               Seattle-Tacoma-Bellevue, WA MSA      surf        0.0   \n",
       "...                                         ...       ...        ...   \n",
       "2288  New York-Newark-Jersey City, NY-NJ-PA MSA      surf        0.0   \n",
       "2289          Orlando-Kissimmee-Sanford, FL MSA      surf        0.0   \n",
       "2290          Orlando-Kissimmee-Sanford, FL MSA      surf        0.0   \n",
       "2291          Orlando-Kissimmee-Sanford, FL MSA      surf        0.0   \n",
       "2292          Orlando-Kissimmee-Sanford, FL MSA      surf        0.0   \n",
       "\n",
       "      extra_sms  extra_gb  month_revenue  \n",
       "0           0.0       0.0          70.00  \n",
       "1           0.0       6.0          80.00  \n",
       "2           0.0      26.0         280.00  \n",
       "3           3.0      35.0         370.09  \n",
       "4           0.0      34.0         360.00  \n",
       "...         ...       ...            ...  \n",
       "2288        0.0      41.0         430.00  \n",
       "2289        0.0      22.0         240.00  \n",
       "2290        0.0      37.0         390.00  \n",
       "2291        0.0      28.0         300.00  \n",
       "2292        0.0      43.0         450.00  \n",
       "\n",
       "[2293 rows x 12 columns]"
      ]
     },
     "execution_count": 49,
     "metadata": {},
     "output_type": "execute_result"
    }
   ],
   "source": [
    "# Creamos una nueva columna que contenga la ganancia total y aplicamos la función de 'month_charge'\n",
    "\n",
    "tripleplay_extra['month_revenue'] = tripleplay_extra.apply(month_charge, axis=1)\n",
    "tripleplay_extra.info()\n",
    "tripleplay_extra"
   ]
  },
  {
   "cell_type": "markdown",
   "metadata": {},
   "source": [
    "Para poder lograr el Dataframe llamado tripleplay_extra, fu[e necesario agrupar los dataframes originales utilizando tablas pivote por user_id y por month, hacer operaciones aritméticas como sum() y count().\n",
    "\n",
    "Después de agruparlos, se aplicó el método de merge() segmentando la siguiente información por usuario y mes, número de llamadas realizadas, duración de las llamadas, mensajes y gigabytes ocupados.\n",
    "\n",
    "Despues se agregó la información de las tarifas, para calcular el excedente de minutos, mensajes y gigas; aplicando una función que discriminara por tipo de plan 'Surf' o 'Ultimate'.\n",
    "\n",
    "Finalmente, se creó una segunda función que calculara el ingreso mensual por usuario, de acuerdo a su consumo para cada uno de los tres servicios."
   ]
  },
  {
   "cell_type": "markdown",
   "metadata": {},
   "source": [
    "[Volver a Contenido](#back)"
   ]
  },
  {
   "cell_type": "markdown",
   "metadata": {},
   "source": [
    "<div class=\"alert alert-block alert-danger\">\n",
    "<b>Comentario revisor</b> <a class=\"tocSkip\"></a>\n",
    "\n",
    "\n",
    "Recuerda que para este punto, es necesario que ya tengamos los valores redondeados de la duración de las llamadas y redondear la transformación de megabytes a gigabytes. Esto cobra importancia dado que estamos calculando por cuanto se paso cada usuario, entonces el no redondear puede alterar este valor.\n",
    "</div>"
   ]
  },
  {
   "cell_type": "markdown",
   "metadata": {},
   "source": [
    "<div class=\"alert alert-block alert-info\">\n",
    "<b>Respuesta del , Iteración 1</b> <a class=“tocSkip”></a>\n",
    "\n",
    "Tionatiuh, anteriormente ya he redondeado hacia arriba todos las cifras, por lo que no debería alterar los resultados; favor de revisar.\n",
    "Gracias.\n",
    "</div>"
   ]
  },
  {
   "cell_type": "markdown",
   "metadata": {},
   "source": [
    "<div class=\"alert alert-block alert-success\">\n",
    "<b>Comentario revisor</b> <a class=\"tocSkip\"></a>\n",
    "\n",
    "Excelente trabajo!"
   ]
  },
  {
   "cell_type": "markdown",
   "metadata": {
    "id": "-jtyHzJb0q1I"
   },
   "source": [
    "## 1.13 Estudia el comportamiento de usuario <a id='user_consumption'></a>"
   ]
  },
  {
   "cell_type": "markdown",
   "metadata": {
    "id": "AxU3Y0N70q1J"
   },
   "source": [
    "[Calcula algunas estadísticas descriptivas para los datos agregados y fusionados que nos sean útiles y que muestren un panorama general captado por los datos. Dibuja gráficos útiles para facilitar la comprensión. Dado que la tarea principal es comparar las tarifas y decidir cuál es más rentable, las estadísticas y gráficas deben calcularse por tarifa.]\n",
    "\n",
    "[En los comentarios hallarás pistas relevantes para las llamadas, pero no las hay para los mensajes e Internet. Sin embargo, el principio del estudio estadístico que se aplica para ellos es el mismo que para las llamadas.]"
   ]
  },
  {
   "cell_type": "markdown",
   "metadata": {
    "id": "vtW4CJEe0q1J"
   },
   "source": [
    "### 1.13.1 Llamadas <a id='calls_consumption'></a>"
   ]
  },
  {
   "cell_type": "code",
   "execution_count": 50,
   "metadata": {
    "id": "Jf5v5--k0q1J"
   },
   "outputs": [
    {
     "data": {
      "text/html": [
       "<div>\n",
       "<style scoped>\n",
       "    .dataframe tbody tr th:only-of-type {\n",
       "        vertical-align: middle;\n",
       "    }\n",
       "\n",
       "    .dataframe tbody tr th {\n",
       "        vertical-align: top;\n",
       "    }\n",
       "\n",
       "    .dataframe thead th {\n",
       "        text-align: right;\n",
       "    }\n",
       "</style>\n",
       "<table border=\"1\" class=\"dataframe\">\n",
       "  <thead>\n",
       "    <tr style=\"text-align: right;\">\n",
       "      <th>plan</th>\n",
       "      <th>month</th>\n",
       "      <th>surf</th>\n",
       "      <th>ultimate</th>\n",
       "    </tr>\n",
       "  </thead>\n",
       "  <tbody>\n",
       "    <tr>\n",
       "      <th>0</th>\n",
       "      <td>apr</td>\n",
       "      <td>39.70</td>\n",
       "      <td>39.05</td>\n",
       "    </tr>\n",
       "    <tr>\n",
       "      <th>1</th>\n",
       "      <td>aug</td>\n",
       "      <td>46.17</td>\n",
       "      <td>48.00</td>\n",
       "    </tr>\n",
       "    <tr>\n",
       "      <th>2</th>\n",
       "      <td>dec</td>\n",
       "      <td>52.81</td>\n",
       "      <td>52.14</td>\n",
       "    </tr>\n",
       "    <tr>\n",
       "      <th>3</th>\n",
       "      <td>feb</td>\n",
       "      <td>33.11</td>\n",
       "      <td>47.29</td>\n",
       "    </tr>\n",
       "    <tr>\n",
       "      <th>4</th>\n",
       "      <td>jan</td>\n",
       "      <td>24.00</td>\n",
       "      <td>21.25</td>\n",
       "    </tr>\n",
       "    <tr>\n",
       "      <th>5</th>\n",
       "      <td>jul</td>\n",
       "      <td>51.03</td>\n",
       "      <td>47.36</td>\n",
       "    </tr>\n",
       "    <tr>\n",
       "      <th>6</th>\n",
       "      <td>jun</td>\n",
       "      <td>48.20</td>\n",
       "      <td>42.15</td>\n",
       "    </tr>\n",
       "    <tr>\n",
       "      <th>7</th>\n",
       "      <td>mar</td>\n",
       "      <td>37.87</td>\n",
       "      <td>36.58</td>\n",
       "    </tr>\n",
       "    <tr>\n",
       "      <th>8</th>\n",
       "      <td>may</td>\n",
       "      <td>44.73</td>\n",
       "      <td>45.97</td>\n",
       "    </tr>\n",
       "    <tr>\n",
       "      <th>9</th>\n",
       "      <td>nov</td>\n",
       "      <td>47.79</td>\n",
       "      <td>49.95</td>\n",
       "    </tr>\n",
       "    <tr>\n",
       "      <th>10</th>\n",
       "      <td>oct</td>\n",
       "      <td>48.58</td>\n",
       "      <td>51.02</td>\n",
       "    </tr>\n",
       "    <tr>\n",
       "      <th>11</th>\n",
       "      <td>sep</td>\n",
       "      <td>46.75</td>\n",
       "      <td>48.93</td>\n",
       "    </tr>\n",
       "  </tbody>\n",
       "</table>\n",
       "</div>"
      ],
      "text/plain": [
       "plan month   surf  ultimate\n",
       "0      apr  39.70     39.05\n",
       "1      aug  46.17     48.00\n",
       "2      dec  52.81     52.14\n",
       "3      feb  33.11     47.29\n",
       "4      jan  24.00     21.25\n",
       "5      jul  51.03     47.36\n",
       "6      jun  48.20     42.15\n",
       "7      mar  37.87     36.58\n",
       "8      may  44.73     45.97\n",
       "9      nov  47.79     49.95\n",
       "10     oct  48.58     51.02\n",
       "11     sep  46.75     48.93"
      ]
     },
     "execution_count": 50,
     "metadata": {},
     "output_type": "execute_result"
    }
   ],
   "source": [
    "# Compara la duración promedio de llamadas por cada plan y por cada mes. \n",
    "calls_mean = tripleplay_plan.groupby(['month', 'plan'])['calls'].mean().round(2).unstack().reset_index()\n",
    "calls_mean.sort_values(by='month')"
   ]
  },
  {
   "cell_type": "code",
   "execution_count": 51,
   "metadata": {},
   "outputs": [
    {
     "data": {
      "text/plain": [
       "<Axes: title={'center': 'Llamadas Surf vs Ultimate'}, xlabel='Mes', ylabel='Llamadas Promedio'>"
      ]
     },
     "execution_count": 51,
     "metadata": {},
     "output_type": "execute_result"
    },
    {
     "data": {
      "image/png": "[encoded data removed]",
      "text/plain": [
       "<Figure size 640x480 with 1 Axes>"
      ]
     },
     "metadata": {},
     "output_type": "display_data"
    }
   ],
   "source": [
    "# Traza un gráfico de barras para visualizarla.\n",
    "calls_mean.plot(kind='bar', x='month', xlabel='Mes', ylabel='Llamadas Promedio', title='Llamadas Surf vs Ultimate')"
   ]
  },
  {
   "cell_type": "code",
   "execution_count": 52,
   "metadata": {
    "id": "QoLqW1S_0q1J"
   },
   "outputs": [
    {
     "data": {
      "image/png": "[encoded data removed]",
      "text/plain": [
       "<Figure size 640x480 with 1 Axes>"
      ]
     },
     "metadata": {},
     "output_type": "display_data"
    }
   ],
   "source": [
    "# Compara el número de minutos mensuales que necesitan los usuarios de cada plan. Traza un histograma.\n",
    "minutes_plan = tripleplay_plan.groupby('plan')['mins'].plot(kind='hist', bins=20, alpha=0.7, title='Cantidad de Minutos', legend=True)"
   ]
  },
  {
   "cell_type": "markdown",
   "metadata": {
    "id": "bLS9T8OH0q1K"
   },
   "source": [
    "[Calcula la media y la variable de la duración de las llamadas para averiguar si los usuarios de los distintos planes se comportan de forma diferente al realizar sus llamadas.]"
   ]
  },
  {
   "cell_type": "code",
   "execution_count": 53,
   "metadata": {
    "id": "oSndbAnt0q1K"
   },
   "outputs": [
    {
     "name": "stdout",
     "output_type": "stream",
     "text": [
      "   month       mean\n",
      "0    apr  39.507042\n",
      "1    aug  46.729614\n",
      "2    dec  52.592751\n",
      "3    feb  39.312500\n",
      "4    jan  22.166667\n",
      "5    jul  49.827778\n",
      "6    jun  46.222222\n",
      "7    mar  37.428571\n",
      "8    may  45.066038\n",
      "9    nov  48.460976\n",
      "10   oct  49.332362\n",
      "11   sep  47.421429\n",
      "\n",
      "   month    variance\n",
      "0    apr  570.482093\n",
      "1    aug  664.637783\n",
      "2    dec  760.391486\n",
      "3    feb  783.829167\n",
      "4    jan  168.966667\n",
      "5    jul  791.115425\n",
      "6    jun  546.901321\n",
      "7    mar  645.193277\n",
      "8    may  693.071788\n",
      "9    nov  663.212410\n",
      "10   oct  664.023716\n",
      "11   sep  613.714235\n"
     ]
    }
   ],
   "source": [
    "# Calcula la media y la varianza de la duración mensual de llamadas.\n",
    "median_calls = tripleplay_plan.groupby(['month'])['calls'].mean().reset_index()\n",
    "variace_calls = tripleplay_plan.groupby(['month'])['calls'].var().reset_index()\n",
    "\n",
    "# Renombramos las columnas\n",
    "median_calls.columns = ['month', 'mean']\n",
    "variace_calls.columns = ['month', 'variance']\n",
    "\n",
    "# Imprimimos la media y la varianza\n",
    "print(median_calls)\n",
    "print()\n",
    "print(variace_calls)"
   ]
  },
  {
   "cell_type": "code",
   "execution_count": 54,
   "metadata": {
    "id": "nZzoRUKc0q1K"
   },
   "outputs": [
    {
     "data": {
      "text/plain": [
       "<Axes: xlabel='plan'>"
      ]
     },
     "execution_count": 54,
     "metadata": {},
     "output_type": "execute_result"
    },
    {
     "data": {
      "image/png": "[encoded data removed]",
      "text/plain": [
       "<Figure size 640x480 with 1 Axes>"
      ]
     },
     "metadata": {},
     "output_type": "display_data"
    }
   ],
   "source": [
    "# Traza un diagrama de caja para visualizar la distribución de la duración mensual de llamadas\n",
    "sns.boxplot(calls_mean)\n"
   ]
  },
  {
   "cell_type": "markdown",
   "metadata": {
    "id": "r627zBO50q1K"
   },
   "source": [
    "[Elabora las conclusiones sobre el comportamiento de los usuarios con respecto a las llamadas. ¿Su comportamiento varía en función del plan?]"
   ]
  },
  {
   "cell_type": "markdown",
   "metadata": {},
   "source": [
    "[Volver a Contenido](#back)"
   ]
  },
  {
   "cell_type": "markdown",
   "metadata": {
    "id": "8idKy8Wh0q1L"
   },
   "source": [
    "### 1.13.2 Mensajes <a id='sms_consumption'></a>"
   ]
  },
  {
   "cell_type": "code",
   "execution_count": 55,
   "metadata": {
    "id": "NXLxiTit0q1L"
   },
   "outputs": [
    {
     "data": {
      "text/html": [
       "<div>\n",
       "<style scoped>\n",
       "    .dataframe tbody tr th:only-of-type {\n",
       "        vertical-align: middle;\n",
       "    }\n",
       "\n",
       "    .dataframe tbody tr th {\n",
       "        vertical-align: top;\n",
       "    }\n",
       "\n",
       "    .dataframe thead th {\n",
       "        text-align: right;\n",
       "    }\n",
       "</style>\n",
       "<table border=\"1\" class=\"dataframe\">\n",
       "  <thead>\n",
       "    <tr style=\"text-align: right;\">\n",
       "      <th>plan</th>\n",
       "      <th>month</th>\n",
       "      <th>surf</th>\n",
       "      <th>ultimate</th>\n",
       "    </tr>\n",
       "  </thead>\n",
       "  <tbody>\n",
       "    <tr>\n",
       "      <th>0</th>\n",
       "      <td>apr</td>\n",
       "      <td>50</td>\n",
       "      <td>21</td>\n",
       "    </tr>\n",
       "    <tr>\n",
       "      <th>1</th>\n",
       "      <td>aug</td>\n",
       "      <td>162</td>\n",
       "      <td>71</td>\n",
       "    </tr>\n",
       "    <tr>\n",
       "      <th>2</th>\n",
       "      <td>dec</td>\n",
       "      <td>318</td>\n",
       "      <td>151</td>\n",
       "    </tr>\n",
       "    <tr>\n",
       "      <th>3</th>\n",
       "      <td>feb</td>\n",
       "      <td>9</td>\n",
       "      <td>7</td>\n",
       "    </tr>\n",
       "    <tr>\n",
       "      <th>4</th>\n",
       "      <td>jan</td>\n",
       "      <td>2</td>\n",
       "      <td>4</td>\n",
       "    </tr>\n",
       "    <tr>\n",
       "      <th>5</th>\n",
       "      <td>jul</td>\n",
       "      <td>121</td>\n",
       "      <td>59</td>\n",
       "    </tr>\n",
       "    <tr>\n",
       "      <th>6</th>\n",
       "      <td>jun</td>\n",
       "      <td>97</td>\n",
       "      <td>47</td>\n",
       "    </tr>\n",
       "    <tr>\n",
       "      <th>7</th>\n",
       "      <td>mar</td>\n",
       "      <td>23</td>\n",
       "      <td>12</td>\n",
       "    </tr>\n",
       "    <tr>\n",
       "      <th>8</th>\n",
       "      <td>may</td>\n",
       "      <td>77</td>\n",
       "      <td>29</td>\n",
       "    </tr>\n",
       "    <tr>\n",
       "      <th>9</th>\n",
       "      <td>nov</td>\n",
       "      <td>283</td>\n",
       "      <td>127</td>\n",
       "    </tr>\n",
       "    <tr>\n",
       "      <th>10</th>\n",
       "      <td>oct</td>\n",
       "      <td>237</td>\n",
       "      <td>106</td>\n",
       "    </tr>\n",
       "    <tr>\n",
       "      <th>11</th>\n",
       "      <td>sep</td>\n",
       "      <td>194</td>\n",
       "      <td>86</td>\n",
       "    </tr>\n",
       "  </tbody>\n",
       "</table>\n",
       "</div>"
      ],
      "text/plain": [
       "plan month  surf  ultimate\n",
       "0      apr    50        21\n",
       "1      aug   162        71\n",
       "2      dec   318       151\n",
       "3      feb     9         7\n",
       "4      jan     2         4\n",
       "5      jul   121        59\n",
       "6      jun    97        47\n",
       "7      mar    23        12\n",
       "8      may    77        29\n",
       "9      nov   283       127\n",
       "10     oct   237       106\n",
       "11     sep   194        86"
      ]
     },
     "execution_count": 55,
     "metadata": {},
     "output_type": "execute_result"
    }
   ],
   "source": [
    "# Comprara el número de mensajes que tienden a enviar cada mes los usuarios de cada plan\n",
    "sms_messages = tripleplay_plan.groupby(['month', 'plan'])['sms'].count().unstack().reset_index()\n",
    "sms_messages\n"
   ]
  },
  {
   "cell_type": "code",
   "execution_count": 56,
   "metadata": {},
   "outputs": [
    {
     "data": {
      "text/plain": [
       "<Axes: title={'center': 'Mensajes Surf vs Ultimate'}, xlabel='Mes', ylabel='Mensajes Promedio'>"
      ]
     },
     "execution_count": 56,
     "metadata": {},
     "output_type": "execute_result"
    },
    {
     "data": {
      "image/png": "[encoded data removed]",
      "text/plain": [
       "<Figure size 640x480 with 1 Axes>"
      ]
     },
     "metadata": {},
     "output_type": "display_data"
    }
   ],
   "source": [
    "# Traza un gráfico de barras para visualizarlo.\n",
    "sms_messages.plot(kind='bar', x='month', xlabel='Mes', ylabel='Mensajes Promedio', title='Mensajes Surf vs Ultimate')"
   ]
  },
  {
   "cell_type": "code",
   "execution_count": 57,
   "metadata": {
    "id": "GRI_R7xF0q1L"
   },
   "outputs": [
    {
     "data": {
      "image/png": "[encoded data removed]",
      "text/plain": [
       "<Figure size 640x480 with 1 Axes>"
      ]
     },
     "metadata": {},
     "output_type": "display_data"
    }
   ],
   "source": [
    "# Compara el número de mensajes mensuales que necesitan los usuarios de cada plan. Traza un histograma.\n",
    "sms_messages = tripleplay_plan.groupby('plan')['sms'].plot(kind='hist', bins=20, alpha=0.7, title='Cantidad de Mensajes', legend=True)"
   ]
  },
  {
   "cell_type": "code",
   "execution_count": 58,
   "metadata": {},
   "outputs": [
    {
     "name": "stdout",
     "output_type": "stream",
     "text": [
      "   month       mean\n",
      "0    apr  18.774648\n",
      "1    aug  31.733906\n",
      "2    dec  40.663113\n",
      "3    feb  16.187500\n",
      "4    jan  13.833333\n",
      "5    jul  28.933333\n",
      "6    jun  26.618056\n",
      "7    mar  16.971429\n",
      "8    may  26.226415\n",
      "9    nov  34.312195\n",
      "10   oct  35.571429\n",
      "11   sep  32.953571\n",
      "\n",
      "   month     variance\n",
      "0    apr   511.148491\n",
      "1    aug  1095.446130\n",
      "2    dec  1493.270880\n",
      "3    feb   421.229167\n",
      "4    jan   238.966667\n",
      "5    jul   938.051397\n",
      "6    jun   893.706245\n",
      "7    mar   441.734454\n",
      "8    may   972.291105\n",
      "9    nov  1122.582003\n",
      "10   oct  1261.771930\n",
      "11   sep  1025.442281\n"
     ]
    }
   ],
   "source": [
    "# Calcula la media y la varianza de la duración mensual de llamadas.\n",
    "median_sms = tripleplay_plan.groupby(['month'])['sms'].mean().reset_index()\n",
    "variace_sms = tripleplay_plan.groupby(['month'])['sms'].var().reset_index()\n",
    "\n",
    "# Renombramos las columnas\n",
    "median_sms.columns = ['month', 'mean']\n",
    "variace_sms.columns = ['month', 'variance']\n",
    "\n",
    "# Imprimimos la media y la varianza\n",
    "print(median_sms)\n",
    "print()\n",
    "print(variace_sms)"
   ]
  },
  {
   "cell_type": "markdown",
   "metadata": {
    "id": "390SSL480q1M"
   },
   "source": [
    "[Elabora las conclusiones sobre el comportamiento de los usuarios con respecto a los mensajes. ¿Su comportamiento varía en función del plan?]"
   ]
  },
  {
   "cell_type": "markdown",
   "metadata": {},
   "source": [
    "[Volver a Contenido](#back)"
   ]
  },
  {
   "cell_type": "markdown",
   "metadata": {
    "id": "42YSypXz0q1M"
   },
   "source": [
    "### 1.13.3 Internet <a id='data_consumption'></a>"
   ]
  },
  {
   "cell_type": "code",
   "execution_count": 59,
   "metadata": {
    "id": "lSuKPtjh0q1M"
   },
   "outputs": [
    {
     "data": {
      "text/html": [
       "<div>\n",
       "<style scoped>\n",
       "    .dataframe tbody tr th:only-of-type {\n",
       "        vertical-align: middle;\n",
       "    }\n",
       "\n",
       "    .dataframe tbody tr th {\n",
       "        vertical-align: top;\n",
       "    }\n",
       "\n",
       "    .dataframe thead th {\n",
       "        text-align: right;\n",
       "    }\n",
       "</style>\n",
       "<table border=\"1\" class=\"dataframe\">\n",
       "  <thead>\n",
       "    <tr style=\"text-align: right;\">\n",
       "      <th>plan</th>\n",
       "      <th>month</th>\n",
       "      <th>surf</th>\n",
       "      <th>ultimate</th>\n",
       "    </tr>\n",
       "  </thead>\n",
       "  <tbody>\n",
       "    <tr>\n",
       "      <th>0</th>\n",
       "      <td>apr</td>\n",
       "      <td>50</td>\n",
       "      <td>21</td>\n",
       "    </tr>\n",
       "    <tr>\n",
       "      <th>1</th>\n",
       "      <td>aug</td>\n",
       "      <td>162</td>\n",
       "      <td>71</td>\n",
       "    </tr>\n",
       "    <tr>\n",
       "      <th>2</th>\n",
       "      <td>dec</td>\n",
       "      <td>318</td>\n",
       "      <td>151</td>\n",
       "    </tr>\n",
       "    <tr>\n",
       "      <th>3</th>\n",
       "      <td>feb</td>\n",
       "      <td>9</td>\n",
       "      <td>7</td>\n",
       "    </tr>\n",
       "    <tr>\n",
       "      <th>4</th>\n",
       "      <td>jan</td>\n",
       "      <td>2</td>\n",
       "      <td>4</td>\n",
       "    </tr>\n",
       "    <tr>\n",
       "      <th>5</th>\n",
       "      <td>jul</td>\n",
       "      <td>121</td>\n",
       "      <td>59</td>\n",
       "    </tr>\n",
       "    <tr>\n",
       "      <th>6</th>\n",
       "      <td>jun</td>\n",
       "      <td>97</td>\n",
       "      <td>47</td>\n",
       "    </tr>\n",
       "    <tr>\n",
       "      <th>7</th>\n",
       "      <td>mar</td>\n",
       "      <td>23</td>\n",
       "      <td>12</td>\n",
       "    </tr>\n",
       "    <tr>\n",
       "      <th>8</th>\n",
       "      <td>may</td>\n",
       "      <td>77</td>\n",
       "      <td>29</td>\n",
       "    </tr>\n",
       "    <tr>\n",
       "      <th>9</th>\n",
       "      <td>nov</td>\n",
       "      <td>283</td>\n",
       "      <td>127</td>\n",
       "    </tr>\n",
       "    <tr>\n",
       "      <th>10</th>\n",
       "      <td>oct</td>\n",
       "      <td>237</td>\n",
       "      <td>106</td>\n",
       "    </tr>\n",
       "    <tr>\n",
       "      <th>11</th>\n",
       "      <td>sep</td>\n",
       "      <td>194</td>\n",
       "      <td>86</td>\n",
       "    </tr>\n",
       "  </tbody>\n",
       "</table>\n",
       "</div>"
      ],
      "text/plain": [
       "plan month  surf  ultimate\n",
       "0      apr    50        21\n",
       "1      aug   162        71\n",
       "2      dec   318       151\n",
       "3      feb     9         7\n",
       "4      jan     2         4\n",
       "5      jul   121        59\n",
       "6      jun    97        47\n",
       "7      mar    23        12\n",
       "8      may    77        29\n",
       "9      nov   283       127\n",
       "10     oct   237       106\n",
       "11     sep   194        86"
      ]
     },
     "execution_count": 59,
     "metadata": {},
     "output_type": "execute_result"
    }
   ],
   "source": [
    "# Compara la cantidad de tráfico de Internet consumido por usuarios por plan\n",
    "internet_traffic = tripleplay_plan.groupby(['month', 'plan'])['gb'].count().unstack().reset_index()\n",
    "internet_traffic"
   ]
  },
  {
   "cell_type": "code",
   "execution_count": 60,
   "metadata": {
    "id": "wnh8jYXi0q1N"
   },
   "outputs": [
    {
     "data": {
      "text/plain": [
       "<Axes: title={'center': 'Gigabytes Surf vs Ultimate'}, xlabel='Mes', ylabel='Gigabytes'>"
      ]
     },
     "execution_count": 60,
     "metadata": {},
     "output_type": "execute_result"
    },
    {
     "data": {
      "image/png": "[encoded data removed]",
      "text/plain": [
       "<Figure size 640x480 with 1 Axes>"
      ]
     },
     "metadata": {},
     "output_type": "display_data"
    }
   ],
   "source": [
    "# Traza un gráfico de barras para visualizarlo.\n",
    "internet_traffic.plot(kind='bar', x='month', xlabel='Mes', ylabel='Gigabytes', title='Gigabytes Surf vs Ultimate')"
   ]
  },
  {
   "cell_type": "code",
   "execution_count": 61,
   "metadata": {
    "id": "5VlyJ9ry0q1N"
   },
   "outputs": [
    {
     "data": {
      "image/png": "[encoded data removed]",
      "text/plain": [
       "<Figure size 640x480 with 1 Axes>"
      ]
     },
     "metadata": {},
     "output_type": "display_data"
    }
   ],
   "source": [
    "# Compara el número de megabytes mensuales que necesitan los usuarios de cada plan. Traza un histograma.\n",
    "internet_traffic = tripleplay_extra.groupby('plan')['gb'].plot(kind='hist', bins=20, alpha=0.7, title='Cantidad de Gigabytes', legend=True)"
   ]
  },
  {
   "cell_type": "code",
   "execution_count": 62,
   "metadata": {},
   "outputs": [
    {
     "name": "stdout",
     "output_type": "stream",
     "text": [
      "   month       mean\n",
      "0    apr  31.704225\n",
      "1    aug  40.991416\n",
      "2    dec  44.087420\n",
      "3    feb  34.250000\n",
      "4    jan  14.833333\n",
      "5    jul  40.061111\n",
      "6    jun  36.972222\n",
      "7    mar  34.342857\n",
      "8    may  35.339623\n",
      "9    nov  40.197561\n",
      "10   oct  41.854227\n",
      "11   sep  40.296429\n",
      "\n",
      "   month    variance\n",
      "0    apr  363.439839\n",
      "1    aug  333.413719\n",
      "2    dec  320.695333\n",
      "3    feb  297.000000\n",
      "4    jan   61.366667\n",
      "5    jul  310.940379\n",
      "6    jun  264.628594\n",
      "7    mar  456.467227\n",
      "8    may  300.912129\n",
      "9    nov  277.596571\n",
      "10   oct  279.440677\n",
      "11   sep  240.553392\n"
     ]
    }
   ],
   "source": [
    "# Calcula la media y la varianza de la duración mensual de llamadas.\n",
    "median_mb = tripleplay_extra.groupby(['month'])['gb'].mean().reset_index()\n",
    "variace_mb = tripleplay_extra.groupby(['month'])['gb'].var().reset_index()\n",
    "\n",
    "# Renombramos las columnas\n",
    "median_mb.columns = ['month', 'mean']\n",
    "variace_mb.columns = ['month', 'variance']\n",
    "\n",
    "# Imprimimos la media y la varianza\n",
    "print(median_mb)\n",
    "print()\n",
    "print(variace_mb)"
   ]
  },
  {
   "cell_type": "markdown",
   "metadata": {
    "id": "UN9zwuMP0q1N"
   },
   "source": [
    "[Elabora las conclusiones sobre cómo los usuarios tienden a consumir el tráfico de Internet. ¿Su comportamiento varía en función del plan?]"
   ]
  },
  {
   "cell_type": "markdown",
   "metadata": {},
   "source": [
    "<div class=\"alert alert-block alert-success\">\n",
    "<b>Comentario revisor</b> <a class=\"tocSkip\"></a>\n",
    "\n",
    " Muy buena prática la de usar distintos tipos de gráficas identificar algunos hallazgos y llegar a conclusiones. En este caso las gráficas de box-plots nos ayudan a identificar outiers que pueden sesgar nuestros resultados, especificamente las pruebas de hipótesis. Es por ello que con estás gráficas puedes complementar el análisis eliminando los valores atipicos. \n",
    "</div>"
   ]
  },
  {
   "cell_type": "markdown",
   "metadata": {},
   "source": [
    "[Volver a Contenido](#back)"
   ]
  },
  {
   "cell_type": "markdown",
   "metadata": {
    "id": "tCijq3260q1N"
   },
   "source": [
    "## 1.14 Ingreso <a id='incomes'></a>"
   ]
  },
  {
   "cell_type": "markdown",
   "metadata": {
    "id": "9nq5IAcy0q1O"
   },
   "source": [
    "[Del mismo modo que has estudiado el comportamiento de los usuarios, describe estadísticamente los ingresos de los planes.]"
   ]
  },
  {
   "cell_type": "markdown",
   "metadata": {
    "id": "tz-dq_V00q1O"
   },
   "source": [
    "<div class=\"alert alert-block alert-danger\">\n",
    "<b>Comentario revisor</b> <a class=\"tocSkip\"></a>\n",
    "\n",
    "Hola, Tom! Has realizado une excelente trabajo con el proyecto. Ya solamente es necesario dearrollar el análisis de la variable ingreso y las pruebas de hipótesis. Recuerda que cualquier pregunta me la puedes dejar para respodnerla"
   ]
  },
  {
   "cell_type": "markdown",
   "metadata": {},
   "source": [
    "<div class=\"alert alert-block alert-info\">\n",
    "<b>Respuesta del , Iteración 1</b> <a class=“tocSkip”></a>\n",
    "\n",
    "Tionatiuh, de qué manera puedo hacer que mis gráficos se puedan acomodar los meses en orden, jan-feb-march, ect.\n",
    "Gracias & Saludos\n",
    "</div>"
   ]
  },
  {
   "cell_type": "markdown",
   "metadata": {},
   "source": [
    "<div class=\"alert alert-block alert-info\">\n",
    "<b>Comentario revisor</b> <a class=\"tocSkip\"></a>\n",
    "\n",
    "Hola, Tom! Para ordenar los meses te puedes guiar del siguiente ejemplo, donde agregamos los meses en órden y despues lo ajustamos dentro de nuestra variable de mes:\n",
    "    \n",
    "    meses_ordenados = ['Enero', 'Febrero', 'Marzo', 'Abril', 'Mayo', 'Junio', \n",
    "                   'Julio', 'Agosto', 'Septiembre', 'Octubre', 'Noviembre', 'Diciembre']\n",
    "\n",
    "    line_surf['month'] = pd.Categorical(line_surf['month'], categories=meses_ordenados, ordered=True)\n",
    "\n",
    "    line_surf = line_surf.sort_values('month')"
   ]
  },
  {
   "cell_type": "markdown",
   "metadata": {},
   "source": [
    "<div class=\"alert alert-block alert-info\">\n",
    "<b>Respuesta del , Iteración 1</b> <a class=“tocSkip”></a>\n",
    "\n",
    "Hola Tionatiuh, una disculpa por la tardanza, me puse a estudiar la teoría del Sprint 6 para no retrasarme.\n",
    "Ya he podido ordenar los meses con el código que me proporcionaste! Me había estado rompiendo la cabeza tratando de ordenarlo, ahora ya sé como ordenar los meses para otra ocasión.\n",
    "\n",
    "Favor de revisar mis nuevas gráficas de líneas.\n",
    "\n",
    "¡Muchas gracias!\n",
    "Slds\n",
    "</div>"
   ]
  },
  {
   "cell_type": "markdown",
   "metadata": {},
   "source": []
  },
  {
   "cell_type": "markdown",
   "metadata": {},
   "source": [
    "\n"
   ]
  },
  {
   "cell_type": "code",
   "execution_count": 63,
   "metadata": {
    "id": "0Y1v8ZUz0q1P"
   },
   "outputs": [],
   "source": [
    "# Comparar el ingreso mensual promedio de los planes\n",
    "\n",
    "# Filtro para el plan Surf\n",
    "revenue_surf = tripleplay_extra[tripleplay_extra['plan'] == 'surf']\n",
    "\n",
    "# Agrupamos los minutos usados, los mensajes enviados y el trafico de internet del plan surf por los ingresos que obtuvieron para observarlos a traves del tiempo\n",
    "dict_surf = {'mins' : 'sum', 'sms' : 'size', 'gb' : 'sum', 'month_revenue' : 'sum'}\n",
    "line_surf = revenue_surf.groupby('month')\n",
    "line_surf = line_surf.agg(dict_surf).reset_index().round(2)\n",
    "\n",
    "# Ordeneamos el Dataframe por los meses sorteados\n",
    "sorted_months = ['jan', 'feb', 'mar', 'apr', 'may', 'jun', 'jul', 'aug', 'sep', 'oct', 'nov', 'dec']\n",
    "line_surf['month'] = pd.Categorical(line_surf['month'], categories=sorted_months, ordered=True)\n",
    "line_surf = line_surf.sort_values('month')"
   ]
  },
  {
   "cell_type": "code",
   "execution_count": null,
   "metadata": {},
   "outputs": [
    {
     "data": {
      "image/png": "[encoded data removed]",
      "text/plain": [
       "<Figure size 1000x600 with 1 Axes>"
      ]
     },
     "metadata": {},
     "output_type": "display_data"
    }
   ],
   "source": [
    "# Crear grafico de lineas\n",
    "ax = line_surf.plot(x='month',\n",
    "                    y=['mins', 'sms', 'gb', 'month_revenue'],\n",
    "                    kind='line',\n",
    "                    marker='o', title='Evolución de los ingresos y uso por plan Surf', \n",
    "                    xlabel='Meses', \n",
    "                    ylabel='Valores', \n",
    "                    figsize=[10,6])\n",
    "\n",
    "plt.legend(['Minutos usados', 'Mensajes enviados', 'GB usados', 'Ingresos'])\n",
    "plt.show()"
   ]
  },
  {
   "cell_type": "code",
   "execution_count": 65,
   "metadata": {
    "id": "bYmwxyVh0q1P"
   },
   "outputs": [],
   "source": [
    "# Comparar el ingreso mensual promedio de los planes\n",
    "# Filtro para el plan Surf\n",
    "revenue_surf = tripleplay_extra[tripleplay_extra['plan'] == 'ultimate']\n",
    "\n",
    "# Agrupamos los minutos usados, los mensajes enviados y el trafico de internet del plan surf por los ingresos que obtuvieron para observarlos a traves del tiempo\n",
    "dict_surf = {'mins' : 'sum', 'sms' : 'size', 'gb' : 'sum', 'month_revenue' : 'sum'}\n",
    "line_surf = revenue_surf.groupby('month')\n",
    "line_surf = line_surf.agg(dict_surf).reset_index().round(2)\n",
    "\n",
    "# Ordeneamos el Dataframe por los meses sorteados\n",
    "sorted_months = ['jan', 'feb', 'mar', 'apr', 'may', 'jun', 'jul', 'aug', 'sep', 'oct', 'nov', 'dec']\n",
    "line_surf['month'] = pd.Categorical(line_surf['month'], categories=sorted_months, ordered=True)\n",
    "line_surf = line_surf.sort_values('month')"
   ]
  },
  {
   "cell_type": "code",
   "execution_count": null,
   "metadata": {},
   "outputs": [
    {
     "data": {
      "image/png": "[encoded data removed]",
      "text/plain": [
       "<Figure size 1000x600 with 1 Axes>"
      ]
     },
     "metadata": {},
     "output_type": "display_data"
    }
   ],
   "source": [
    "# Crear grafico de lineas\n",
    "ax = line_surf.plot(x='month',\n",
    "                    y=['mins', 'sms', 'gb', 'month_revenue'],\n",
    "                    kind='line',\n",
    "                    marker='o', title='Evolución de los ingresos y uso por plan Surf', \n",
    "                    xlabel='Meses', \n",
    "                    ylabel='Valores', \n",
    "                    figsize=[10,6])\n",
    "\n",
    "plt.legend(['Minutos usados', 'Mensajes enviados', 'GB usados', 'Ingresos'])\n",
    "plt.show()"
   ]
  },
  {
   "cell_type": "markdown",
   "metadata": {
    "id": "KAFidcXZ0q1P"
   },
   "source": [
    "En cuanto a la gráfica de barras se puede observar que el promedio de ingresos es superior en el plan \"Ultimate\", pero al analizar el histograma se aprecia que la frecuencia de la distribucion es mayor en el plan 'Surf' esto se podria explicar con base en el análisis de sus medidas de dispersión, en cuanto a su desviación estandar se observa que es mucho mayor en el plan surf, continuando con el analisis de sus medidas de distribucion en el caso de plan surf la mediana se aleja bastante respecto a su media, caso contrario en el plan ultimate donde su mediana es muy cercana a su media. En ambos casos se observa una moda que difiere en el caso de surf es de 20 y en ultimate es de 70, asimismo analizando el diagrama de caja y bigote se observan muchos valores atipicos en surf, los cuales hacen que su distribucion sea mayor que el plan ultimate. En cuanto al grafico de lineas en ambos planes se observa que el numero de minutos usados crecen exponencialmente mes con mes, los mensajes y el uso de internet su comportamiento se mantiene estable al pasar de los meses. Finalmente el ingreso en ambos planes en ambos casos aumenta al pasar los meses."
   ]
  },
  {
   "cell_type": "markdown",
   "metadata": {},
   "source": [
    "[Volver a Contenido](#back)"
   ]
  },
  {
   "cell_type": "markdown",
   "metadata": {
    "id": "ajJ7VKeI0q1Q"
   },
   "source": [
    "## 1.15 Prueba las hipótesis estadísticas <a id='hypotesis'></a>"
   ]
  },
  {
   "cell_type": "markdown",
   "metadata": {
    "id": "AdXAZ-yL0q1Q"
   },
   "source": [
    "[Prueba la hipótesis de que son diferentes los ingresos promedio procedentes de los usuarios de los planes de llamada Ultimate y Surf.]"
   ]
  },
  {
   "cell_type": "markdown",
   "metadata": {
    "id": "IQwa_hsh0q1Q"
   },
   "source": [
    "Hipotesis nula - NO existen diferencias significativas en las medias de los ingresos promedios de cada uno de los planes\n",
    "\n",
    "Hipotesis alternativa - Existen diferencias significativas en las medias de los ingresos promedios de cada uno de los planes"
   ]
  },
  {
   "cell_type": "code",
   "execution_count": 67,
   "metadata": {},
   "outputs": [
    {
     "data": {
      "text/html": [
       "<div>\n",
       "<style scoped>\n",
       "    .dataframe tbody tr th:only-of-type {\n",
       "        vertical-align: middle;\n",
       "    }\n",
       "\n",
       "    .dataframe tbody tr th {\n",
       "        vertical-align: top;\n",
       "    }\n",
       "\n",
       "    .dataframe thead th {\n",
       "        text-align: right;\n",
       "    }\n",
       "</style>\n",
       "<table border=\"1\" class=\"dataframe\">\n",
       "  <thead>\n",
       "    <tr style=\"text-align: right;\">\n",
       "      <th></th>\n",
       "      <th>user_id</th>\n",
       "      <th>month</th>\n",
       "      <th>calls</th>\n",
       "      <th>mins</th>\n",
       "      <th>sms</th>\n",
       "      <th>gb</th>\n",
       "      <th>user_city</th>\n",
       "      <th>plan</th>\n",
       "      <th>extra_min</th>\n",
       "      <th>extra_sms</th>\n",
       "      <th>extra_gb</th>\n",
       "      <th>month_revenue</th>\n",
       "    </tr>\n",
       "  </thead>\n",
       "  <tbody>\n",
       "    <tr>\n",
       "      <th>0</th>\n",
       "      <td>1000</td>\n",
       "      <td>dec</td>\n",
       "      <td>16.0</td>\n",
       "      <td>124.0</td>\n",
       "      <td>11.0</td>\n",
       "      <td>4.0</td>\n",
       "      <td>Atlanta-Sandy Springs-Roswell, GA MSA</td>\n",
       "      <td>ultimate</td>\n",
       "      <td>0.0</td>\n",
       "      <td>0.0</td>\n",
       "      <td>0.0</td>\n",
       "      <td>70.00</td>\n",
       "    </tr>\n",
       "    <tr>\n",
       "      <th>1</th>\n",
       "      <td>1001</td>\n",
       "      <td>aug</td>\n",
       "      <td>22.0</td>\n",
       "      <td>182.0</td>\n",
       "      <td>30.0</td>\n",
       "      <td>21.0</td>\n",
       "      <td>Seattle-Tacoma-Bellevue, WA MSA</td>\n",
       "      <td>surf</td>\n",
       "      <td>0.0</td>\n",
       "      <td>0.0</td>\n",
       "      <td>6.0</td>\n",
       "      <td>80.00</td>\n",
       "    </tr>\n",
       "    <tr>\n",
       "      <th>2</th>\n",
       "      <td>1001</td>\n",
       "      <td>sep</td>\n",
       "      <td>38.0</td>\n",
       "      <td>315.0</td>\n",
       "      <td>44.0</td>\n",
       "      <td>41.0</td>\n",
       "      <td>Seattle-Tacoma-Bellevue, WA MSA</td>\n",
       "      <td>surf</td>\n",
       "      <td>0.0</td>\n",
       "      <td>0.0</td>\n",
       "      <td>26.0</td>\n",
       "      <td>280.00</td>\n",
       "    </tr>\n",
       "    <tr>\n",
       "      <th>3</th>\n",
       "      <td>1001</td>\n",
       "      <td>oct</td>\n",
       "      <td>47.0</td>\n",
       "      <td>393.0</td>\n",
       "      <td>53.0</td>\n",
       "      <td>50.0</td>\n",
       "      <td>Seattle-Tacoma-Bellevue, WA MSA</td>\n",
       "      <td>surf</td>\n",
       "      <td>0.0</td>\n",
       "      <td>3.0</td>\n",
       "      <td>35.0</td>\n",
       "      <td>370.09</td>\n",
       "    </tr>\n",
       "    <tr>\n",
       "      <th>4</th>\n",
       "      <td>1001</td>\n",
       "      <td>nov</td>\n",
       "      <td>49.0</td>\n",
       "      <td>426.0</td>\n",
       "      <td>36.0</td>\n",
       "      <td>49.0</td>\n",
       "      <td>Seattle-Tacoma-Bellevue, WA MSA</td>\n",
       "      <td>surf</td>\n",
       "      <td>0.0</td>\n",
       "      <td>0.0</td>\n",
       "      <td>34.0</td>\n",
       "      <td>360.00</td>\n",
       "    </tr>\n",
       "    <tr>\n",
       "      <th>...</th>\n",
       "      <td>...</td>\n",
       "      <td>...</td>\n",
       "      <td>...</td>\n",
       "      <td>...</td>\n",
       "      <td>...</td>\n",
       "      <td>...</td>\n",
       "      <td>...</td>\n",
       "      <td>...</td>\n",
       "      <td>...</td>\n",
       "      <td>...</td>\n",
       "      <td>...</td>\n",
       "      <td>...</td>\n",
       "    </tr>\n",
       "    <tr>\n",
       "      <th>2288</th>\n",
       "      <td>1498</td>\n",
       "      <td>dec</td>\n",
       "      <td>32.0</td>\n",
       "      <td>339.0</td>\n",
       "      <td>0.0</td>\n",
       "      <td>56.0</td>\n",
       "      <td>New York-Newark-Jersey City, NY-NJ-PA MSA</td>\n",
       "      <td>surf</td>\n",
       "      <td>0.0</td>\n",
       "      <td>0.0</td>\n",
       "      <td>41.0</td>\n",
       "      <td>430.00</td>\n",
       "    </tr>\n",
       "    <tr>\n",
       "      <th>2289</th>\n",
       "      <td>1499</td>\n",
       "      <td>sep</td>\n",
       "      <td>35.0</td>\n",
       "      <td>346.0</td>\n",
       "      <td>0.0</td>\n",
       "      <td>37.0</td>\n",
       "      <td>Orlando-Kissimmee-Sanford, FL MSA</td>\n",
       "      <td>surf</td>\n",
       "      <td>0.0</td>\n",
       "      <td>0.0</td>\n",
       "      <td>22.0</td>\n",
       "      <td>240.00</td>\n",
       "    </tr>\n",
       "    <tr>\n",
       "      <th>2290</th>\n",
       "      <td>1499</td>\n",
       "      <td>oct</td>\n",
       "      <td>41.0</td>\n",
       "      <td>385.0</td>\n",
       "      <td>0.0</td>\n",
       "      <td>52.0</td>\n",
       "      <td>Orlando-Kissimmee-Sanford, FL MSA</td>\n",
       "      <td>surf</td>\n",
       "      <td>0.0</td>\n",
       "      <td>0.0</td>\n",
       "      <td>37.0</td>\n",
       "      <td>390.00</td>\n",
       "    </tr>\n",
       "    <tr>\n",
       "      <th>2291</th>\n",
       "      <td>1499</td>\n",
       "      <td>nov</td>\n",
       "      <td>39.0</td>\n",
       "      <td>308.0</td>\n",
       "      <td>0.0</td>\n",
       "      <td>43.0</td>\n",
       "      <td>Orlando-Kissimmee-Sanford, FL MSA</td>\n",
       "      <td>surf</td>\n",
       "      <td>0.0</td>\n",
       "      <td>0.0</td>\n",
       "      <td>28.0</td>\n",
       "      <td>300.00</td>\n",
       "    </tr>\n",
       "    <tr>\n",
       "      <th>2292</th>\n",
       "      <td>1499</td>\n",
       "      <td>dec</td>\n",
       "      <td>56.0</td>\n",
       "      <td>496.0</td>\n",
       "      <td>0.0</td>\n",
       "      <td>58.0</td>\n",
       "      <td>Orlando-Kissimmee-Sanford, FL MSA</td>\n",
       "      <td>surf</td>\n",
       "      <td>0.0</td>\n",
       "      <td>0.0</td>\n",
       "      <td>43.0</td>\n",
       "      <td>450.00</td>\n",
       "    </tr>\n",
       "  </tbody>\n",
       "</table>\n",
       "<p>2293 rows × 12 columns</p>\n",
       "</div>"
      ],
      "text/plain": [
       "      user_id month  calls   mins   sms    gb  \\\n",
       "0        1000   dec   16.0  124.0  11.0   4.0   \n",
       "1        1001   aug   22.0  182.0  30.0  21.0   \n",
       "2        1001   sep   38.0  315.0  44.0  41.0   \n",
       "3        1001   oct   47.0  393.0  53.0  50.0   \n",
       "4        1001   nov   49.0  426.0  36.0  49.0   \n",
       "...       ...   ...    ...    ...   ...   ...   \n",
       "2288     1498   dec   32.0  339.0   0.0  56.0   \n",
       "2289     1499   sep   35.0  346.0   0.0  37.0   \n",
       "2290     1499   oct   41.0  385.0   0.0  52.0   \n",
       "2291     1499   nov   39.0  308.0   0.0  43.0   \n",
       "2292     1499   dec   56.0  496.0   0.0  58.0   \n",
       "\n",
       "                                      user_city      plan  extra_min  \\\n",
       "0         Atlanta-Sandy Springs-Roswell, GA MSA  ultimate        0.0   \n",
       "1               Seattle-Tacoma-Bellevue, WA MSA      surf        0.0   \n",
       "2               Seattle-Tacoma-Bellevue, WA MSA      surf        0.0   \n",
       "3               Seattle-Tacoma-Bellevue, WA MSA      surf        0.0   \n",
       "4               Seattle-Tacoma-Bellevue, WA MSA      surf        0.0   \n",
       "...                                         ...       ...        ...   \n",
       "2288  New York-Newark-Jersey City, NY-NJ-PA MSA      surf        0.0   \n",
       "2289          Orlando-Kissimmee-Sanford, FL MSA      surf        0.0   \n",
       "2290          Orlando-Kissimmee-Sanford, FL MSA      surf        0.0   \n",
       "2291          Orlando-Kissimmee-Sanford, FL MSA      surf        0.0   \n",
       "2292          Orlando-Kissimmee-Sanford, FL MSA      surf        0.0   \n",
       "\n",
       "      extra_sms  extra_gb  month_revenue  \n",
       "0           0.0       0.0          70.00  \n",
       "1           0.0       6.0          80.00  \n",
       "2           0.0      26.0         280.00  \n",
       "3           3.0      35.0         370.09  \n",
       "4           0.0      34.0         360.00  \n",
       "...         ...       ...            ...  \n",
       "2288        0.0      41.0         430.00  \n",
       "2289        0.0      22.0         240.00  \n",
       "2290        0.0      37.0         390.00  \n",
       "2291        0.0      28.0         300.00  \n",
       "2292        0.0      43.0         450.00  \n",
       "\n",
       "[2293 rows x 12 columns]"
      ]
     },
     "execution_count": 67,
     "metadata": {},
     "output_type": "execute_result"
    }
   ],
   "source": [
    "tripleplay_extra"
   ]
  },
  {
   "cell_type": "code",
   "execution_count": 68,
   "metadata": {
    "id": "nFoPNlPq0q1R"
   },
   "outputs": [
    {
     "name": "stdout",
     "output_type": "stream",
     "text": [
      "El valor p es: 7.954135633537011e-67\n",
      "Rechazar la hipotesis nula\n"
     ]
    }
   ],
   "source": [
    "# Prueba las hipótesis\n",
    "\n",
    "# Filtro para el plan surf y por el ingreso total por cliente \n",
    "hip_surf = tripleplay_extra[tripleplay_extra['plan'] == 'surf']['month_revenue']\n",
    "\n",
    "# Filtro para el plan ultimate y por el ingreso total por cliente \n",
    "hip_ultimate = tripleplay_extra[tripleplay_extra['plan']== 'ultimate']['month_revenue']\n",
    "\n",
    "# Establecer el nivel de significancia\n",
    "alpha = 0.05\n",
    "\n",
    "# Realizamos la pruba ttest\n",
    "mean_difference = st.ttest_ind(hip_surf, hip_ultimate)\n",
    "\n",
    "# Extraemos el valor p\n",
    "print('El valor p es:', mean_difference.pvalue)\n",
    "\n",
    "# Comparamos el valor p con el nivel de significancia\n",
    "if mean_difference.pvalue < alpha:\n",
    "    print(\"Rechazar la hipotesis nula\")\n",
    "else:\n",
    "    print(\"No podemos rechazar la hipotesis nula\")"
   ]
  },
  {
   "cell_type": "markdown",
   "metadata": {},
   "source": [
    "<div class=\"alert alert-block alert-success\">\n",
    "<b>Comentario revisor</b> <a class=\"tocSkip\"></a>\n",
    "\n",
    "Gran trabajo desarrollando las pruebas de hipótesis. Solamente te recomendaría que para robustecer el análisis desarrolles una prueba de levene que te ayude a probar el supuesto de las varianzas iguales.\n",
    "    \n",
    "Tu proyecto se encuentra listo para aprobarse pero voy a esperarme para ver si quedo clara la sugerencia para ordenar los meses de una de las gráficas.     "
   ]
  },
  {
   "cell_type": "markdown",
   "metadata": {},
   "source": [
    "CONCLUSIÓN:\n",
    "\n",
    "Para comprobar las hipotesis nula y alternativa fue necesario hacer un filtro de cada uno de los planes Surf y Ultimate por la columna de ingreso_total_por_cliente.\n",
    "Despues se establecio el nivel de significancia(alpha) en 0.05, se escogió la prueba ttest de students para muestras independientes. \n",
    "De esta manera obtuvimos el valor p el cual fue mayor al nivel de significancia, por lo cual la hipotesis nula debe ser rechazada; es decir, que existen cambios significativos en las medias de los ingresos de cada uno de los planes."
   ]
  },
  {
   "cell_type": "markdown",
   "metadata": {
    "id": "tCcAruM60q1R"
   },
   "source": [
    "[Prueba la hipótesis de que el ingreso promedio de los usuarios del área NY-NJ es diferente al de los usuarios de otras regiones.]"
   ]
  },
  {
   "cell_type": "markdown",
   "metadata": {
    "id": "LsBgitqj0q1R"
   },
   "source": [
    "Hipotesis nula - NO existen diferencias significativas en los ingresos promedios de los usuarios del area de NY-NJ en comparacion a los demás.\n",
    "\n",
    "Hipotesis alternativa - Existen diferencias significativas en los ingresos promedios de los usuarios del area de NY-NJ en comparacion a los demás."
   ]
  },
  {
   "cell_type": "code",
   "execution_count": 69,
   "metadata": {},
   "outputs": [
    {
     "data": {
      "text/plain": [
       "0           Atlanta-Sandy Springs-Roswell, GA MSA\n",
       "1                 Seattle-Tacoma-Bellevue, WA MSA\n",
       "2                 Seattle-Tacoma-Bellevue, WA MSA\n",
       "3                 Seattle-Tacoma-Bellevue, WA MSA\n",
       "4                 Seattle-Tacoma-Bellevue, WA MSA\n",
       "                          ...                    \n",
       "2288    New York-Newark-Jersey City, NY-NJ-PA MSA\n",
       "2289            Orlando-Kissimmee-Sanford, FL MSA\n",
       "2290            Orlando-Kissimmee-Sanford, FL MSA\n",
       "2291            Orlando-Kissimmee-Sanford, FL MSA\n",
       "2292            Orlando-Kissimmee-Sanford, FL MSA\n",
       "Name: user_city, Length: 2293, dtype: object"
      ]
     },
     "execution_count": 69,
     "metadata": {},
     "output_type": "execute_result"
    }
   ],
   "source": [
    "# Filtramos el Dataframe de tripleplay con información de los usuarios, por las siudades\n",
    "tripleplay_users['user_city']"
   ]
  },
  {
   "cell_type": "code",
   "execution_count": 70,
   "metadata": {},
   "outputs": [
    {
     "data": {
      "text/plain": [
       "Series([], Name: user_city, dtype: object)"
      ]
     },
     "execution_count": 70,
     "metadata": {},
     "output_type": "execute_result"
    }
   ],
   "source": [
    "cities = tripleplay_users['user_city'] == 'NY-NJ'   # Creamos un listado para New York & New Jersey\n",
    "cities_if = tripleplay_users[cities]['user_city']   # Creamos un listado para New York & New Jersey\n",
    "cities_if"
   ]
  },
  {
   "cell_type": "code",
   "execution_count": 71,
   "metadata": {},
   "outputs": [
    {
     "name": "stdout",
     "output_type": "stream",
     "text": [
      "Series([], Name: user_city, dtype: object)\n"
     ]
    }
   ],
   "source": [
    "cities = ['NY-NJ']  # crear matriz externa \n",
    "cities_if = tripleplay_users[tripleplay_users['user_city'].isin(cities)]['user_city']   # zonas que SI son NY-NJ\n",
    "\n",
    "print(cities_if)"
   ]
  },
  {
   "cell_type": "code",
   "execution_count": 72,
   "metadata": {},
   "outputs": [
    {
     "name": "stdout",
     "output_type": "stream",
     "text": [
      "56      New York-Newark-Jersey City, NY-NJ-PA MSA\n",
      "57      New York-Newark-Jersey City, NY-NJ-PA MSA\n",
      "75      New York-Newark-Jersey City, NY-NJ-PA MSA\n",
      "76      New York-Newark-Jersey City, NY-NJ-PA MSA\n",
      "77      New York-Newark-Jersey City, NY-NJ-PA MSA\n",
      "                          ...                    \n",
      "2284    New York-Newark-Jersey City, NY-NJ-PA MSA\n",
      "2285    New York-Newark-Jersey City, NY-NJ-PA MSA\n",
      "2286    New York-Newark-Jersey City, NY-NJ-PA MSA\n",
      "2287    New York-Newark-Jersey City, NY-NJ-PA MSA\n",
      "2288    New York-Newark-Jersey City, NY-NJ-PA MSA\n",
      "Name: user_city, Length: 488, dtype: object\n"
     ]
    }
   ],
   "source": [
    "# Filtro para extraer solo los usuarios de NY-NJ\n",
    "ny_city_filter = tripleplay_users[tripleplay_users['user_city'].str.contains('NY|NJ', regex=True)]\n",
    "\n",
    "# Filtro para usuarios de otras zonas \n",
    "other_city_filter = tripleplay_users[~tripleplay_users['user_city'].str.contains('NY|NJ', regex=True)]\n",
    "\n",
    "print(ny_city_filter['user_city'])"
   ]
  },
  {
   "cell_type": "code",
   "execution_count": 73,
   "metadata": {},
   "outputs": [
    {
     "data": {
      "text/html": [
       "<div>\n",
       "<style scoped>\n",
       "    .dataframe tbody tr th:only-of-type {\n",
       "        vertical-align: middle;\n",
       "    }\n",
       "\n",
       "    .dataframe tbody tr th {\n",
       "        vertical-align: top;\n",
       "    }\n",
       "\n",
       "    .dataframe thead th {\n",
       "        text-align: right;\n",
       "    }\n",
       "</style>\n",
       "<table border=\"1\" class=\"dataframe\">\n",
       "  <thead>\n",
       "    <tr style=\"text-align: right;\">\n",
       "      <th></th>\n",
       "      <th>user_id</th>\n",
       "      <th>month</th>\n",
       "      <th>calls</th>\n",
       "      <th>mins</th>\n",
       "      <th>sms</th>\n",
       "      <th>gb</th>\n",
       "      <th>user_city</th>\n",
       "      <th>plan</th>\n",
       "      <th>extra_min</th>\n",
       "      <th>extra_sms</th>\n",
       "      <th>extra_gb</th>\n",
       "      <th>month_revenue</th>\n",
       "    </tr>\n",
       "  </thead>\n",
       "  <tbody>\n",
       "    <tr>\n",
       "      <th>0</th>\n",
       "      <td>1000</td>\n",
       "      <td>dec</td>\n",
       "      <td>16.0</td>\n",
       "      <td>124.0</td>\n",
       "      <td>11.0</td>\n",
       "      <td>4.0</td>\n",
       "      <td>Atlanta-Sandy Springs-Roswell, GA MSA</td>\n",
       "      <td>ultimate</td>\n",
       "      <td>0.0</td>\n",
       "      <td>0.0</td>\n",
       "      <td>0.0</td>\n",
       "      <td>70.00</td>\n",
       "    </tr>\n",
       "    <tr>\n",
       "      <th>1</th>\n",
       "      <td>1001</td>\n",
       "      <td>aug</td>\n",
       "      <td>22.0</td>\n",
       "      <td>182.0</td>\n",
       "      <td>30.0</td>\n",
       "      <td>21.0</td>\n",
       "      <td>Seattle-Tacoma-Bellevue, WA MSA</td>\n",
       "      <td>surf</td>\n",
       "      <td>0.0</td>\n",
       "      <td>0.0</td>\n",
       "      <td>6.0</td>\n",
       "      <td>80.00</td>\n",
       "    </tr>\n",
       "    <tr>\n",
       "      <th>2</th>\n",
       "      <td>1001</td>\n",
       "      <td>sep</td>\n",
       "      <td>38.0</td>\n",
       "      <td>315.0</td>\n",
       "      <td>44.0</td>\n",
       "      <td>41.0</td>\n",
       "      <td>Seattle-Tacoma-Bellevue, WA MSA</td>\n",
       "      <td>surf</td>\n",
       "      <td>0.0</td>\n",
       "      <td>0.0</td>\n",
       "      <td>26.0</td>\n",
       "      <td>280.00</td>\n",
       "    </tr>\n",
       "    <tr>\n",
       "      <th>3</th>\n",
       "      <td>1001</td>\n",
       "      <td>oct</td>\n",
       "      <td>47.0</td>\n",
       "      <td>393.0</td>\n",
       "      <td>53.0</td>\n",
       "      <td>50.0</td>\n",
       "      <td>Seattle-Tacoma-Bellevue, WA MSA</td>\n",
       "      <td>surf</td>\n",
       "      <td>0.0</td>\n",
       "      <td>3.0</td>\n",
       "      <td>35.0</td>\n",
       "      <td>370.09</td>\n",
       "    </tr>\n",
       "    <tr>\n",
       "      <th>4</th>\n",
       "      <td>1001</td>\n",
       "      <td>nov</td>\n",
       "      <td>49.0</td>\n",
       "      <td>426.0</td>\n",
       "      <td>36.0</td>\n",
       "      <td>49.0</td>\n",
       "      <td>Seattle-Tacoma-Bellevue, WA MSA</td>\n",
       "      <td>surf</td>\n",
       "      <td>0.0</td>\n",
       "      <td>0.0</td>\n",
       "      <td>34.0</td>\n",
       "      <td>360.00</td>\n",
       "    </tr>\n",
       "    <tr>\n",
       "      <th>...</th>\n",
       "      <td>...</td>\n",
       "      <td>...</td>\n",
       "      <td>...</td>\n",
       "      <td>...</td>\n",
       "      <td>...</td>\n",
       "      <td>...</td>\n",
       "      <td>...</td>\n",
       "      <td>...</td>\n",
       "      <td>...</td>\n",
       "      <td>...</td>\n",
       "      <td>...</td>\n",
       "      <td>...</td>\n",
       "    </tr>\n",
       "    <tr>\n",
       "      <th>2288</th>\n",
       "      <td>1498</td>\n",
       "      <td>dec</td>\n",
       "      <td>32.0</td>\n",
       "      <td>339.0</td>\n",
       "      <td>0.0</td>\n",
       "      <td>56.0</td>\n",
       "      <td>New York-Newark-Jersey City, NY-NJ-PA MSA</td>\n",
       "      <td>surf</td>\n",
       "      <td>0.0</td>\n",
       "      <td>0.0</td>\n",
       "      <td>41.0</td>\n",
       "      <td>430.00</td>\n",
       "    </tr>\n",
       "    <tr>\n",
       "      <th>2289</th>\n",
       "      <td>1499</td>\n",
       "      <td>sep</td>\n",
       "      <td>35.0</td>\n",
       "      <td>346.0</td>\n",
       "      <td>0.0</td>\n",
       "      <td>37.0</td>\n",
       "      <td>Orlando-Kissimmee-Sanford, FL MSA</td>\n",
       "      <td>surf</td>\n",
       "      <td>0.0</td>\n",
       "      <td>0.0</td>\n",
       "      <td>22.0</td>\n",
       "      <td>240.00</td>\n",
       "    </tr>\n",
       "    <tr>\n",
       "      <th>2290</th>\n",
       "      <td>1499</td>\n",
       "      <td>oct</td>\n",
       "      <td>41.0</td>\n",
       "      <td>385.0</td>\n",
       "      <td>0.0</td>\n",
       "      <td>52.0</td>\n",
       "      <td>Orlando-Kissimmee-Sanford, FL MSA</td>\n",
       "      <td>surf</td>\n",
       "      <td>0.0</td>\n",
       "      <td>0.0</td>\n",
       "      <td>37.0</td>\n",
       "      <td>390.00</td>\n",
       "    </tr>\n",
       "    <tr>\n",
       "      <th>2291</th>\n",
       "      <td>1499</td>\n",
       "      <td>nov</td>\n",
       "      <td>39.0</td>\n",
       "      <td>308.0</td>\n",
       "      <td>0.0</td>\n",
       "      <td>43.0</td>\n",
       "      <td>Orlando-Kissimmee-Sanford, FL MSA</td>\n",
       "      <td>surf</td>\n",
       "      <td>0.0</td>\n",
       "      <td>0.0</td>\n",
       "      <td>28.0</td>\n",
       "      <td>300.00</td>\n",
       "    </tr>\n",
       "    <tr>\n",
       "      <th>2292</th>\n",
       "      <td>1499</td>\n",
       "      <td>dec</td>\n",
       "      <td>56.0</td>\n",
       "      <td>496.0</td>\n",
       "      <td>0.0</td>\n",
       "      <td>58.0</td>\n",
       "      <td>Orlando-Kissimmee-Sanford, FL MSA</td>\n",
       "      <td>surf</td>\n",
       "      <td>0.0</td>\n",
       "      <td>0.0</td>\n",
       "      <td>43.0</td>\n",
       "      <td>450.00</td>\n",
       "    </tr>\n",
       "  </tbody>\n",
       "</table>\n",
       "<p>2293 rows × 12 columns</p>\n",
       "</div>"
      ],
      "text/plain": [
       "      user_id month  calls   mins   sms    gb  \\\n",
       "0        1000   dec   16.0  124.0  11.0   4.0   \n",
       "1        1001   aug   22.0  182.0  30.0  21.0   \n",
       "2        1001   sep   38.0  315.0  44.0  41.0   \n",
       "3        1001   oct   47.0  393.0  53.0  50.0   \n",
       "4        1001   nov   49.0  426.0  36.0  49.0   \n",
       "...       ...   ...    ...    ...   ...   ...   \n",
       "2288     1498   dec   32.0  339.0   0.0  56.0   \n",
       "2289     1499   sep   35.0  346.0   0.0  37.0   \n",
       "2290     1499   oct   41.0  385.0   0.0  52.0   \n",
       "2291     1499   nov   39.0  308.0   0.0  43.0   \n",
       "2292     1499   dec   56.0  496.0   0.0  58.0   \n",
       "\n",
       "                                      user_city      plan  extra_min  \\\n",
       "0         Atlanta-Sandy Springs-Roswell, GA MSA  ultimate        0.0   \n",
       "1               Seattle-Tacoma-Bellevue, WA MSA      surf        0.0   \n",
       "2               Seattle-Tacoma-Bellevue, WA MSA      surf        0.0   \n",
       "3               Seattle-Tacoma-Bellevue, WA MSA      surf        0.0   \n",
       "4               Seattle-Tacoma-Bellevue, WA MSA      surf        0.0   \n",
       "...                                         ...       ...        ...   \n",
       "2288  New York-Newark-Jersey City, NY-NJ-PA MSA      surf        0.0   \n",
       "2289          Orlando-Kissimmee-Sanford, FL MSA      surf        0.0   \n",
       "2290          Orlando-Kissimmee-Sanford, FL MSA      surf        0.0   \n",
       "2291          Orlando-Kissimmee-Sanford, FL MSA      surf        0.0   \n",
       "2292          Orlando-Kissimmee-Sanford, FL MSA      surf        0.0   \n",
       "\n",
       "      extra_sms  extra_gb  month_revenue  \n",
       "0           0.0       0.0          70.00  \n",
       "1           0.0       6.0          80.00  \n",
       "2           0.0      26.0         280.00  \n",
       "3           3.0      35.0         370.09  \n",
       "4           0.0      34.0         360.00  \n",
       "...         ...       ...            ...  \n",
       "2288        0.0      41.0         430.00  \n",
       "2289        0.0      22.0         240.00  \n",
       "2290        0.0      37.0         390.00  \n",
       "2291        0.0      28.0         300.00  \n",
       "2292        0.0      43.0         450.00  \n",
       "\n",
       "[2293 rows x 12 columns]"
      ]
     },
     "execution_count": 73,
     "metadata": {},
     "output_type": "execute_result"
    }
   ],
   "source": [
    "tripleplay_extra"
   ]
  },
  {
   "cell_type": "code",
   "execution_count": 74,
   "metadata": {
    "id": "Cqcj7wrZ0q1S"
   },
   "outputs": [
    {
     "name": "stdout",
     "output_type": "stream",
     "text": [
      "El valor de p es:  0.07876497289874748\n",
      "No podemos rechazar la hipótesis nula\n"
     ]
    }
   ],
   "source": [
    "# Prueba las hipótesis\n",
    "\n",
    "ny_city_filter = tripleplay_extra[tripleplay_extra['user_city'].str.contains('NY|NJ', regex=True)]      # Filtro para extraer solo los usuarios de NY-NJ\n",
    "other_city_filter = tripleplay_extra[~tripleplay_extra['user_city'].str.contains('NY|NJ', regex=True)]  # Filtro para usuarios de otras zonas \n",
    "\n",
    "ny_nj_revenue = ny_city_filter['month_revenue']             # Filtro ingreso total por cliente para cada zona \n",
    "other_city_revenue = other_city_filter['month_revenue']     # Filtro ingreso para otras ciudades \n",
    "\n",
    "#establecer nivel de significancia\n",
    "alfa = 0.05\n",
    "\n",
    "# prueba ttest\n",
    "result = st.ttest_ind(ny_nj_revenue, other_city_revenue)\n",
    "\n",
    "# extraer pvalue\n",
    "print('El valor de p es: ', result.pvalue)\n",
    "\n",
    "# comparar el valor p con el nivel de significancia\n",
    "if result.pvalue < alfa:\n",
    "    print('Rechazar la hipótesis nula')\n",
    "else:\n",
    "    print('No podemos rechazar la hipótesis nula')"
   ]
  },
  {
   "cell_type": "markdown",
   "metadata": {},
   "source": [
    "[Volver a Contenido](#back)"
   ]
  },
  {
   "cell_type": "markdown",
   "metadata": {
    "id": "bbTR8UQO0q1T"
   },
   "source": [
    "## Conclusión general <a id='end'></a>\n",
    "\n",
    "Comportamiento del usuario por llamadas de acuerdo al plan - En cuanto al comportamiento que se pudo observar en las gráficas es que el promedio de llamadas realizadas por el usuario eran mayores para el plan 'ultimate' asi mismo en el histograma de distribución se observa el mismo comportamiento, aunque en el diagrama de caja y bigote es muy notorio los valores atípicos dentro del plan 'surf'.\n",
    "\n",
    "Comportamiento del usuario por mensajes de acuerdo al plan contratado: En cuanto al promedio de mensajes enviados por los usuarios del plan 'ultimate' se observa una mayor cantidad de estos, en cuanto a sus medidas de distribucion son muy similares, realmente no se alcanza a percibir una gran diferencia, pero nuevamente en el diagrama de caja y bigote se observa una gran cantidad de valores atípicos en el plan 'surf'\n",
    "\n",
    "Comportamiento en el trafico de internet por plan: En cuanto al tráfico de internet hay muchos meses que los usuarios tienden a usar casi el mismo promedio de Gb, solo en 3 meses (de febrero a abril) es donde el plan 'ultimate' tiene un mayor numero de trafico promedio. Aunque al observar el histograma de distribución se observa que realmente quien tiene un mayor numero de trafico es el plan 'surf', aunque al observar sus medidas de distribución como lo es la media, varianza y desviación no se alcanza a ver una gran diferencia entre un plan y el otro. Por ultimo en el diagrama de caja y bigote nuevamente se ven muchos valores atípicos en el plan surf.\n",
    "\n",
    "Ingresos mensuales por plan: finalmente en los ingresos percibidos por plan nuevamente 'ultimate' es quien se observa en el gráfico de barras que posee un mayor número de ingresos promedio, pero al contrastarlo con un histograma se observa que quen deja un mayor ingreso es el plan 'surf', pero esto se puede deber a la enorme cantidad de valores atípicos dentro de esta muestra.\n",
    "\n",
    "Por ultimo al comprobar las hipótesis se llega a la conclusión que realmente existen diferencias significativas en el ingreso percibido por plan, por lo cual se rechaza la hipótesis nula y se acepta la alterna afirmando lo anterior.\n",
    "\n",
    "Por otra parte al comparar las medias de clientes ubicados en las zonas de NY - NJ, al comprobar la hipótesis de que si hay diferencias en el ingreso promedio de los usuarios del área NY-NJ al de los usuarios de otras regiones, aplicando una prueba ttest de muestras independientes, se obtuvo un valor p menor al alfa por lo cual no se puede rechazar la hipótesis nula, lo que indica que no existen diferencias significativas entre las zonas de NY - NJ y las demás."
   ]
  }
 ],
 "metadata": {
  "ExecuteTimeLog": [
   {
    "duration": 828,
    "start_time": "2021-11-16T09:21:11.304Z"
   },
   {
    "duration": 893,
    "start_time": "2021-11-16T09:21:17.728Z"
   },
   {
    "duration": 1150,
    "start_time": "2021-11-16T09:21:29.568Z"
   },
   {
    "duration": 3,
    "start_time": "2021-11-16T09:24:14.495Z"
   },
   {
    "duration": 120,
    "start_time": "2021-11-16T09:24:46.630Z"
   },
   {
    "duration": 3,
    "start_time": "2021-11-16T09:28:27.882Z"
   },
   {
    "duration": 4,
    "start_time": "2021-11-16T09:29:54.281Z"
   },
   {
    "duration": 3,
    "start_time": "2021-11-16T09:30:45.936Z"
   },
   {
    "duration": 4,
    "start_time": "2021-11-16T09:31:06.300Z"
   },
   {
    "duration": 113,
    "start_time": "2021-11-16T09:31:37.208Z"
   },
   {
    "duration": 143,
    "start_time": "2021-11-16T09:31:48.656Z"
   },
   {
    "duration": 98,
    "start_time": "2021-11-16T09:31:55.678Z"
   },
   {
    "duration": 3,
    "start_time": "2021-11-16T09:32:08.535Z"
   },
   {
    "duration": 111,
    "start_time": "2021-11-16T09:32:10.120Z"
   },
   {
    "duration": 3,
    "start_time": "2021-11-16T09:32:15.732Z"
   },
   {
    "duration": 4,
    "start_time": "2021-11-16T09:32:29.423Z"
   },
   {
    "duration": 3,
    "start_time": "2021-11-16T10:03:03.074Z"
   },
   {
    "duration": 3,
    "start_time": "2021-11-16T10:10:01.288Z"
   },
   {
    "duration": 3,
    "start_time": "2021-11-16T10:10:46.923Z"
   },
   {
    "duration": 121,
    "start_time": "2021-11-16T10:37:46.494Z"
   },
   {
    "duration": 125,
    "start_time": "2021-11-16T10:38:20.632Z"
   },
   {
    "duration": 112,
    "start_time": "2021-11-16T10:46:53.001Z"
   },
   {
    "duration": 110,
    "start_time": "2021-11-16T10:48:25.775Z"
   },
   {
    "duration": 3,
    "start_time": "2021-11-16T10:50:18.720Z"
   },
   {
    "duration": 4,
    "start_time": "2021-11-16T10:50:37.649Z"
   },
   {
    "duration": 2,
    "start_time": "2021-11-16T10:50:51.884Z"
   },
   {
    "duration": 3,
    "start_time": "2021-11-16T10:51:56.237Z"
   },
   {
    "duration": 101,
    "start_time": "2021-11-16T10:53:13.791Z"
   },
   {
    "duration": 3,
    "start_time": "2021-11-16T10:55:59.186Z"
   },
   {
    "duration": 3,
    "start_time": "2021-11-16T10:56:10.751Z"
   },
   {
    "duration": 3,
    "start_time": "2021-11-16T10:56:49.038Z"
   },
   {
    "duration": 3,
    "start_time": "2021-11-16T10:56:49.174Z"
   },
   {
    "duration": 4,
    "start_time": "2021-11-16T10:56:49.414Z"
   },
   {
    "duration": 3,
    "start_time": "2021-11-16T10:56:49.680Z"
   },
   {
    "duration": 3,
    "start_time": "2021-11-16T10:56:50.370Z"
   },
   {
    "duration": 114,
    "start_time": "2021-11-16T10:59:34.518Z"
   },
   {
    "duration": 3,
    "start_time": "2021-11-16T11:01:41.201Z"
   },
   {
    "duration": 116,
    "start_time": "2021-11-16T11:01:48.754Z"
   },
   {
    "duration": 3,
    "start_time": "2021-11-16T11:02:16.685Z"
   },
   {
    "duration": 3,
    "start_time": "2021-11-16T11:02:19.479Z"
   },
   {
    "duration": 3,
    "start_time": "2021-11-16T11:02:47.067Z"
   },
   {
    "duration": 3,
    "start_time": "2021-11-16T11:02:49.353Z"
   },
   {
    "duration": 3,
    "start_time": "2021-11-16T11:03:07.835Z"
   },
   {
    "duration": 3,
    "start_time": "2021-11-16T11:03:07.953Z"
   },
   {
    "duration": 112,
    "start_time": "2021-11-16T11:07:52.072Z"
   },
   {
    "duration": 187,
    "start_time": "2021-11-16T11:09:23.468Z"
   },
   {
    "duration": 4,
    "start_time": "2021-11-16T11:10:01.455Z"
   },
   {
    "duration": 3,
    "start_time": "2021-11-16T11:10:05.069Z"
   },
   {
    "duration": 4,
    "start_time": "2021-11-16T11:10:13.376Z"
   },
   {
    "duration": 3,
    "start_time": "2021-11-16T11:10:14.434Z"
   },
   {
    "duration": 3,
    "start_time": "2021-11-16T11:10:22.853Z"
   },
   {
    "duration": 4,
    "start_time": "2021-11-16T11:27:29.279Z"
   },
   {
    "duration": 4,
    "start_time": "2021-11-16T11:29:08.919Z"
   },
   {
    "duration": 118,
    "start_time": "2021-11-16T11:29:46.703Z"
   },
   {
    "duration": 437,
    "start_time": "2021-11-16T11:36:02.181Z"
   },
   {
    "duration": 157,
    "start_time": "2021-11-16T11:36:14.388Z"
   },
   {
    "duration": 207,
    "start_time": "2021-11-16T11:47:15.898Z"
   },
   {
    "duration": 3,
    "start_time": "2021-11-16T11:53:52.092Z"
   },
   {
    "duration": 3,
    "start_time": "2021-11-16T11:53:52.236Z"
   },
   {
    "duration": 3,
    "start_time": "2021-11-16T11:59:12.005Z"
   },
   {
    "duration": 112,
    "start_time": "2021-11-16T12:00:33.446Z"
   },
   {
    "duration": 3,
    "start_time": "2021-11-16T12:02:14.453Z"
   },
   {
    "duration": 3,
    "start_time": "2021-11-16T12:02:39.512Z"
   },
   {
    "duration": 106,
    "start_time": "2021-11-16T12:03:03.460Z"
   },
   {
    "duration": 3,
    "start_time": "2021-11-17T20:37:21.139Z"
   },
   {
    "duration": 3,
    "start_time": "2021-11-17T20:37:22.229Z"
   },
   {
    "duration": 3,
    "start_time": "2021-11-17T20:38:38.806Z"
   },
   {
    "duration": 3,
    "start_time": "2021-11-17T20:38:41.958Z"
   },
   {
    "duration": 3,
    "start_time": "2021-11-17T20:43:46.551Z"
   },
   {
    "duration": 4,
    "start_time": "2021-11-17T20:58:21.835Z"
   },
   {
    "duration": 3,
    "start_time": "2021-11-17T20:59:21.872Z"
   },
   {
    "duration": 4,
    "start_time": "2021-11-17T20:59:45.352Z"
   },
   {
    "duration": 4,
    "start_time": "2021-11-17T20:59:49.646Z"
   },
   {
    "duration": 159,
    "start_time": "2021-11-17T21:02:26.949Z"
   },
   {
    "duration": 3,
    "start_time": "2021-11-17T21:03:53.461Z"
   },
   {
    "duration": 3,
    "start_time": "2021-11-17T21:03:53.694Z"
   },
   {
    "duration": 3,
    "start_time": "2021-11-17T21:05:28.145Z"
   },
   {
    "duration": 116,
    "start_time": "2021-11-17T21:05:57.787Z"
   },
   {
    "duration": 3,
    "start_time": "2021-11-17T21:06:37.993Z"
   },
   {
    "duration": 3,
    "start_time": "2021-11-17T21:06:38.261Z"
   },
   {
    "duration": 3,
    "start_time": "2021-11-17T21:11:54.358Z"
   },
   {
    "duration": 3,
    "start_time": "2021-11-17T21:12:43.846Z"
   },
   {
    "duration": 4,
    "start_time": "2021-11-17T21:13:08.773Z"
   },
   {
    "duration": 3,
    "start_time": "2021-11-17T21:14:44.441Z"
   },
   {
    "duration": 3,
    "start_time": "2021-11-17T21:15:42.059Z"
   },
   {
    "duration": 4,
    "start_time": "2021-11-17T21:15:51.995Z"
   },
   {
    "duration": 3,
    "start_time": "2021-11-17T21:15:53.923Z"
   },
   {
    "duration": 3,
    "start_time": "2021-11-17T21:15:55.282Z"
   },
   {
    "duration": 3,
    "start_time": "2021-11-17T21:16:28.492Z"
   },
   {
    "duration": 3,
    "start_time": "2021-11-17T21:16:32.603Z"
   },
   {
    "duration": 3,
    "start_time": "2021-11-17T21:17:06.941Z"
   },
   {
    "duration": 98,
    "start_time": "2021-11-17T21:18:05.733Z"
   },
   {
    "duration": 4,
    "start_time": "2021-11-17T21:21:35.255Z"
   },
   {
    "duration": 3,
    "start_time": "2021-11-17T21:21:37.804Z"
   },
   {
    "duration": 4,
    "start_time": "2021-11-17T21:23:06.071Z"
   },
   {
    "duration": 3,
    "start_time": "2021-11-17T21:23:24.799Z"
   },
   {
    "duration": 3,
    "start_time": "2021-11-17T21:23:32.591Z"
   },
   {
    "duration": 98,
    "start_time": "2021-11-17T21:28:31.559Z"
   },
   {
    "duration": 3,
    "start_time": "2021-11-17T21:28:45.448Z"
   },
   {
    "duration": 3,
    "start_time": "2021-11-17T21:29:17.303Z"
   },
   {
    "duration": 3,
    "start_time": "2021-11-17T21:29:29.617Z"
   },
   {
    "duration": 3,
    "start_time": "2021-11-17T21:29:32.681Z"
   },
   {
    "duration": 3,
    "start_time": "2021-11-17T21:36:11.474Z"
   },
   {
    "duration": 3,
    "start_time": "2021-11-17T21:36:14.791Z"
   },
   {
    "duration": 3,
    "start_time": "2021-11-17T21:36:53.943Z"
   },
   {
    "duration": 3,
    "start_time": "2021-11-17T21:36:56.165Z"
   },
   {
    "duration": 4,
    "start_time": "2021-11-17T21:37:16.590Z"
   },
   {
    "duration": 3,
    "start_time": "2021-11-17T21:37:22.702Z"
   },
   {
    "duration": 4,
    "start_time": "2021-11-17T21:38:03.479Z"
   },
   {
    "duration": 3,
    "start_time": "2021-11-17T21:38:08.601Z"
   },
   {
    "duration": 3,
    "start_time": "2021-11-17T21:38:12.928Z"
   },
   {
    "duration": 3,
    "start_time": "2021-11-17T21:38:48.896Z"
   },
   {
    "duration": 2,
    "start_time": "2021-11-17T21:38:49.171Z"
   },
   {
    "duration": 4,
    "start_time": "2021-11-17T21:39:57.889Z"
   },
   {
    "duration": 3,
    "start_time": "2021-11-17T21:39:58.057Z"
   },
   {
    "duration": 3,
    "start_time": "2021-11-17T21:41:20.108Z"
   },
   {
    "duration": 3,
    "start_time": "2021-11-17T21:41:20.629Z"
   },
   {
    "duration": 3,
    "start_time": "2021-11-17T21:42:49.136Z"
   },
   {
    "duration": 3,
    "start_time": "2021-11-17T21:43:15.137Z"
   },
   {
    "duration": 4,
    "start_time": "2021-11-17T21:43:16.766Z"
   },
   {
    "duration": 4,
    "start_time": "2021-11-17T21:43:31.711Z"
   },
   {
    "duration": 3,
    "start_time": "2021-11-17T21:43:36.312Z"
   },
   {
    "duration": 4,
    "start_time": "2021-11-17T21:45:08.825Z"
   },
   {
    "duration": 4,
    "start_time": "2021-11-17T21:45:10.119Z"
   },
   {
    "duration": 4,
    "start_time": "2021-11-17T21:45:13.748Z"
   },
   {
    "duration": 3,
    "start_time": "2021-11-17T21:45:22.219Z"
   },
   {
    "duration": 3,
    "start_time": "2021-11-17T21:45:33.412Z"
   },
   {
    "duration": 2,
    "start_time": "2021-11-17T21:46:01.885Z"
   },
   {
    "duration": 3,
    "start_time": "2021-11-17T21:46:03.628Z"
   },
   {
    "duration": 107,
    "start_time": "2021-11-17T21:47:32.512Z"
   },
   {
    "duration": 103,
    "start_time": "2021-11-17T21:50:36.243Z"
   },
   {
    "duration": 3,
    "start_time": "2021-11-18T06:28:31.440Z"
   },
   {
    "duration": 3,
    "start_time": "2021-11-18T06:29:00.168Z"
   },
   {
    "duration": 3,
    "start_time": "2021-11-18T06:31:27.008Z"
   },
   {
    "duration": 2,
    "start_time": "2021-11-18T06:35:34.288Z"
   },
   {
    "duration": 2,
    "start_time": "2021-11-18T06:38:04.527Z"
   },
   {
    "duration": 160,
    "start_time": "2024-11-29T15:13:45.159Z"
   }
  ],
  "colab": {
   "provenance": []
  },
  "kernelspec": {
   "display_name": "Python 3",
   "language": "python",
   "name": "python3"
  },
  "language_info": {
   "codemirror_mode": {
    "name": "ipython",
    "version": 3
   },
   "file_extension": ".py",
   "mimetype": "text/x-python",
   "name": "python",
   "nbconvert_exporter": "python",
   "pygments_lexer": "ipython3",
   "version": "3.12.2"
  },
  "toc": {
   "base_numbering": 1,
   "nav_menu": {},
   "number_sections": true,
   "sideBar": true,
   "skip_h1_title": false,
   "title_cell": "Table of Contents",
   "title_sidebar": "Contents",
   "toc_cell": false,
   "toc_position": {},
   "toc_section_display": true,
   "toc_window_display": true
  }
 },
 "nbformat": 4,
 "nbformat_minor": 1
}
