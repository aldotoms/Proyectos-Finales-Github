{
 "cells": [
  {
   "cell_type": "markdown",
   "id": "a111dcd7",
   "metadata": {},
   "source": [
    "# ¡Hola Tom! 😊\n",
    "\n",
    "Mi nombre es **Alejandro Castellanos** y hoy tengo el placer de ser el revisor de tu proyecto.\n",
    "\n",
    "Voy a revisar todo tu código con detalle, buscando tanto los puntos fuertes como aquellos en los que podrías mejorar. Te dejaré comentarios a lo largo del notebook, destacando lo que has hecho bien y sugiriendo ajustes donde sea necesario. Si encuentro algún error, no te preocupes, te lo haré saber de forma clara y te daré información útil para que puedas corregirlo en la próxima. Si en algún punto tienes comentarios, siéntete libre de dejarlos también.\n",
    "\n",
    "\n",
    "Encontrarás mis comentarios específicos dentro de cajas verdes, amarillas o rojas, es muy importante que no muevas, modifiques o borres mis comentarios, con el fin de tener un seguimiento adecuado de tu proceso.:\n",
    "\n",
    "\n",
    "<div class=\"alert alert-block alert-success\">\n",
    "<b>Comentario del revisor</b> <a class=“tocSkip”></a>\n",
    "Si todo está perfecto.\n",
    "</div>\n",
    "\n",
    "<div class=\"alert alert-block alert-warning\">\n",
    "<b>Comentario del revisor</b> <a class=“tocSkip”></a>\n",
    "Si tu código está bien pero se puede mejorar o hay algún detalle que le hace falta.\n",
    "</div>\n",
    "\n",
    "<div class=\"alert alert-block alert-danger\">\n",
    "<b>Comentario del revisor</b> <a class=“tocSkip”></a>\n",
    "Si de pronto hace falta algo o existe algún problema con tu código o conclusiones.\n",
    "</div>\n",
    "\n",
    "Puedes responderme de esta forma:\n",
    "<div class=\"alert alert-block alert-info\">\n",
    "<b>Respuesta del estudiante</b> <a class=“tocSkip”></a>\n",
    "</div>\n",
    "\n",
    "A continuación te dejaré un comentario general con mi valoración del proyecto. **¡Mi objetivo es que sigas aprendiendo y mejorando con cada paso!**"
   ]
  },
  {
   "cell_type": "markdown",
   "id": "7f812cfc",
   "metadata": {},
   "source": [
    "-----"
   ]
  },
  {
   "cell_type": "markdown",
   "id": "4d5e31f0",
   "metadata": {},
   "source": [
    "<div class=\"alert alert-block alert-danger\">\n",
    "<b>Comentario General del revisor (1ra Iteración)</b> <a class=“tocSkip”></a>\n",
    "\n",
    "Tom has tenido un excelente inicio, especialmente en el análisis exploratorio de datos (EDA), donde lograste manejar de manera efectiva los datos duplicados y faltantes. También evidenciaste una buena comprensión del contexto del proyecto al responder correctamente algunas de las preguntas planteadas. Aunque aún hay algunas preguntas por resolver, tu trabajo hasta ahora sugiere que tienes las habilidades necesarias para completar el proyecto de manera satisfactoria. Un aspecto clave para potenciar tu trabajo es incorporar análisis en cada sección, lo que le dará más profundidad y valor a la información obtenida y evitará que el proyecto se quede solo en código. Quedo atento a tu próxima iteración 👀\n",
    "\n",
    "</div>"
   ]
  },
  {
   "cell_type": "markdown",
   "id": "2007685e",
   "metadata": {},
   "source": [
    "<div class=\"alert alert-block alert-warning\">\n",
    "<b>Comentario General del revisor (2da Iteración)</b> <a class=“tocSkip”></a>\n",
    "\n",
    "Tom has tenido un avance signigficativo respecto a la primera iteración, has ajustado correctamente gran parte del notebook y has dado respuesta a la mayoría de preguntas. He dejao comentarios específicos en las preguntas en las que veo que requieres ayuda, confío que con esto podrás completar este proyecto de manera satisfactoria. 💯\n",
    "\n",
    "</div>"
   ]
  },
  {
   "cell_type": "markdown",
   "id": "e82ff6a4",
   "metadata": {},
   "source": [
    "<div class=\"alert alert-block alert-warning\">\n",
    "<b>Comentario General del revisor (3ra Iteración)</b> <a class=“tocSkip”></a>\n",
    "\n",
    "Tom has hecho los ajustes necesarios en la mayoría del notebook. Solo te resta ajustar una de las preguntas de las sección final, es normal que inicialmente no haya sido claro lo que tenias que hacer, pero te he dejado una explicación (puedes encontrarla fácilmente con el 3️⃣) que te ayudará a terminar el proyecto completamente.\n",
    "\n",
    "\n",
    "</div>"
   ]
  },
  {
   "cell_type": "markdown",
   "id": "144dafff",
   "metadata": {},
   "source": [
    "<div class=\"alert alert-block alert-success\">\n",
    "<b>Comentario General del revisor (4ta Iteración)</b> <a class=“tocSkip”></a>\n",
    "\n",
    "¡Tom excelente trabajo con los ajustes! Tu proyecto ahora cumple con todos los objetivos propuestos. Estoy seguro de que lo que aprendiste aquí te será muy útil en futuros proyectos. ¡Éxito en tu próximo sprint! 🚀\n",
    "\n",
    "</div>"
   ]
  },
  {
   "cell_type": "markdown",
   "id": "e61f26d8",
   "metadata": {},
   "source": [
    "----"
   ]
  },
  {
   "cell_type": "markdown",
   "id": "3Xg_RQfnafXz",
   "metadata": {
    "id": "3Xg_RQfnafXz"
   },
   "source": [
    "# ¡Llena ese carrito!"
   ]
  },
  {
   "cell_type": "markdown",
   "id": "4f4a355e",
   "metadata": {},
   "source": [
    "Puedes responderme de esta forma:\n",
    "<div class=\"alert alert-block alert-info\">\n",
    "<b>Respuesta del estudiante 3ra Iteración</b> <a class=“tocSkip”></a>\n",
    "Ya quedó actualizado el contenido.\n",
    "</div>\n"
   ]
  },
  {
   "cell_type": "markdown",
   "id": "767d6fe3",
   "metadata": {},
   "source": [
    "# Contenido <a id='back'></a>\n",
    "\n",
    "* [Introducción](#intro)\n",
    "* [Paso 1. Descripción de los datos](#data_review)\n",
    "    * [1 Diccionario de datos](#dictionary)\n",
    "    * [2 Plan de solucion](#plan1)\n",
    "    * [3 Conclusiones](#data_review_conclusions)\n",
    "* [Paso 2. Preprocesamiento de datos](#data_preprocessing)\n",
    "    * [4 Plan de solucion](#plan2)\n",
    "    * [5 Valores duplicados](#duplicates)\n",
    "    * [6 Valores ausentes](#missing)\n",
    "    * [7 Conclusiones](#data_preprocessing_conclusions)\n",
    "* [Paso 3. Análisis de los datos](#analisys)\n",
    "    * [A. Fácil](#easy)\n",
    "    * [B. Intermedio](#inter)\n",
    "    * [C. Difícil](#hard)\n",
    "* [Conclusiones](#end)"
   ]
  },
  {
   "cell_type": "markdown",
   "id": "03a7b802",
   "metadata": {},
   "source": [
    "<div class=\"alert alert-block alert-success\">\n",
    "<b>Comentario del revisor (1ra Iteración)</b> <a class=“tocSkip”></a>\n",
    "\n",
    "¡Gran Idea! El uso de una tabla de contenido es una excelente estrategia para mejorar la estructura del notebook y facilitar su revisión. \n",
    "\n",
    "</div>"
   ]
  },
  {
   "cell_type": "markdown",
   "id": "mhIvmmkW414q",
   "metadata": {
    "id": "mhIvmmkW414q"
   },
   "source": [
    "# Introducción <a id='intro'></a>\n",
    "\n",
    "Instacart es una plataforma de entregas de comestibles donde la clientela puede registrar un pedido y hacer que se lo entreguen, similar a Uber Eats y Door Dash.\n",
    "El conjunto de datos que te hemos proporcionado tiene modificaciones del original. Redujimos el tamaño del conjunto para que tus cálculos se hicieran más rápido e introdujimos valores ausentes y duplicados. Tuvimos cuidado de conservar las distribuciones de los datos originales cuando hicimos los cambios.\n",
    "\n",
    "Debes completar tres pasos. Para cada uno de ellos, escribe una breve introducción que refleje con claridad cómo pretendes resolver cada paso, y escribe párrafos explicatorios que justifiquen tus decisiones al tiempo que avanzas en tu solución.  También escribe una conclusión que resuma tus hallazgos y elecciones.\n"
   ]
  },
  {
   "cell_type": "markdown",
   "id": "6c40c0f6",
   "metadata": {},
   "source": [
    "[Volver a Contenidos](#back)"
   ]
  },
  {
   "cell_type": "markdown",
   "id": "n3Ha_cNSZ8lK",
   "metadata": {
    "id": "n3Ha_cNSZ8lK"
   },
   "source": [
    "# Paso 1. Descripción de los datos <a id='data_review'></a>\n",
    "\n",
    "Para este trabajo se tienen los siguientes 5 archivos de datos (`/datasets/instacart_orders.csv`, `/datasets/products.csv`, `/datasets/aisles.csv`, `/datasets/departments.csv` y `/datasets/order_products.csv`) los cuales se leeran con la librería Pandas de Python, utilizando el método de lectura de archivos separados por comas `pd.read_csv()` usando el parámetro sep=';' para leer los datos correctamente. \n",
    "De primer instancia, se verificará la información para cada uno de los DataFrames.\n"
   ]
  },
  {
   "cell_type": "markdown",
   "id": "3MbyzpOQZ5Or",
   "metadata": {
    "id": "3MbyzpOQZ5Or"
   },
   "source": [
    "## Diccionario de datos <a id='dictionary'></a>\n",
    "\n",
    "Hay cinco tablas en el conjunto de datos, y tendrás que usarlas todas para hacer el preprocesamiento de datos y el análisis exploratorio de datos. A continuación se muestra un diccionario de datos que enumera las columnas de cada tabla y describe los datos que contienen.\n",
    "\n",
    "- `instacart_orders.csv`: cada fila corresponde a un pedido en la aplicación Instacart.\n",
    "    - `'order_id'`: número de ID que identifica de manera única cada pedido.\n",
    "    - `'user_id'`: número de ID que identifica de manera única la cuenta de cada cliente.\n",
    "    - `'order_number'`: el número de veces que este cliente ha hecho un pedido.\n",
    "    - `'order_dow'`: día de la semana en que se hizo el pedido (0 si es domingo).\n",
    "    - `'order_hour_of_day'`: hora del día en que se hizo el pedido.\n",
    "    - `'days_since_prior_order'`: número de días transcurridos desde que este cliente hizo su pedido anterior.\n",
    "- `products.csv`: cada fila corresponde a un producto único que pueden comprar los clientes.\n",
    "    - `'product_id'`: número ID que identifica de manera única cada producto.\n",
    "    - `'product_name'`: nombre del producto.\n",
    "    - `'aisle_id'`: número ID que identifica de manera única cada categoría de pasillo de víveres.\n",
    "    - `'department_id'`: número ID que identifica de manera única cada departamento de víveres.\n",
    "- `order_products.csv`: cada fila corresponde a un artículo pedido en un pedido.\n",
    "    - `'order_id'`: número de ID que identifica de manera única cada pedido.\n",
    "    - `'product_id'`: número ID que identifica de manera única cada producto.\n",
    "    - `'add_to_cart_order'`: el orden secuencial en el que se añadió cada artículo en el carrito.\n",
    "    - `'reordered'`: 0 si el cliente nunca ha pedido este producto antes, 1 si lo ha pedido.\n",
    "- `aisles.csv`\n",
    "    - `'aisle_id'`: número ID que identifica de manera única cada categoría de pasillo de víveres.\n",
    "    - `'aisle'`: nombre del pasillo.\n",
    "- `departments.csv`\n",
    "    - `'department_id'`: número ID que identifica de manera única cada departamento de víveres.\n",
    "    - `'department'`: nombre del departamento."
   ]
  },
  {
   "cell_type": "markdown",
   "id": "44966123",
   "metadata": {},
   "source": [
    "[Volver a Contenidos](#back)"
   ]
  },
  {
   "cell_type": "markdown",
   "id": "OmlQPLlyaAfR",
   "metadata": {
    "id": "OmlQPLlyaAfR"
   },
   "source": [
    "## Plan de solución <a id='plan1'></a>\n",
    "\n",
    "Escribe aquí tu plan de solución para el Paso 1. Descripción de los datos.\n",
    "\n",
    "Para iniciar con la revisión de todos los datos, vamos a importa las librerias de Pandas y matplotlib que nos serviran para crear un Data Frame por cada uno de los archivos.\n",
    "\n",
    "De esta manera será posible revisar la información contenida en cada archivo, realizando el preprocesamiento de los datos, que incluye corregir los nombres de las columnas, rellenar valores ausentes y eliminar datos duplicados principalmente.\n",
    "\n",
    "Finalmente, realizar el análisis de los datos, creando gráficos que nos ayuden a comprender de mejor forma la información."
   ]
  },
  {
   "cell_type": "code",
   "execution_count": 1,
   "id": "fbf1adab",
   "metadata": {
    "id": "fbf1adab"
   },
   "outputs": [],
   "source": [
    "# importar librerías\n",
    "import pandas as pd   # importamos pandas\n",
    "from matplotlib import pyplot as plt   # importamos pyplot desde matplotlib"
   ]
  },
  {
   "cell_type": "code",
   "execution_count": 2,
   "id": "ad36396d",
   "metadata": {
    "id": "ad36396d"
   },
   "outputs": [],
   "source": [
    "# leer conjuntos de datos en los DataFrames\n",
    "df_instacart_orders = pd.read_csv('/datasets/instacart_orders.csv', sep=';')\n",
    "df_products = pd.read_csv('/datasets/products.csv', sep=';')\n",
    "df_order_products = pd.read_csv('/datasets/order_products.csv', sep=';')\n",
    "df_aisles = pd.read_csv('/datasets/aisles.csv', sep=';')\n",
    "df_departments = pd.read_csv('/datasets/departments.csv', sep=';')"
   ]
  },
  {
   "cell_type": "code",
   "execution_count": 3,
   "id": "ad6a1efa",
   "metadata": {
    "id": "ad6a1efa"
   },
   "outputs": [
    {
     "name": "stdout",
     "output_type": "stream",
     "text": [
      "<class 'pandas.core.frame.DataFrame'>\n",
      "RangeIndex: 478967 entries, 0 to 478966\n",
      "Data columns (total 6 columns):\n",
      " #   Column                  Non-Null Count   Dtype  \n",
      "---  ------                  --------------   -----  \n",
      " 0   order_id                478967 non-null  int64  \n",
      " 1   user_id                 478967 non-null  int64  \n",
      " 2   order_number            478967 non-null  int64  \n",
      " 3   order_dow               478967 non-null  int64  \n",
      " 4   order_hour_of_day       478967 non-null  int64  \n",
      " 5   days_since_prior_order  450148 non-null  float64\n",
      "dtypes: float64(1), int64(5)\n",
      "memory usage: 21.9 MB\n"
     ]
    },
    {
     "data": {
      "text/html": [
       "<div>\n",
       "<style scoped>\n",
       "    .dataframe tbody tr th:only-of-type {\n",
       "        vertical-align: middle;\n",
       "    }\n",
       "\n",
       "    .dataframe tbody tr th {\n",
       "        vertical-align: top;\n",
       "    }\n",
       "\n",
       "    .dataframe thead th {\n",
       "        text-align: right;\n",
       "    }\n",
       "</style>\n",
       "<table border=\"1\" class=\"dataframe\">\n",
       "  <thead>\n",
       "    <tr style=\"text-align: right;\">\n",
       "      <th></th>\n",
       "      <th>order_id</th>\n",
       "      <th>user_id</th>\n",
       "      <th>order_number</th>\n",
       "      <th>order_dow</th>\n",
       "      <th>order_hour_of_day</th>\n",
       "      <th>days_since_prior_order</th>\n",
       "    </tr>\n",
       "  </thead>\n",
       "  <tbody>\n",
       "    <tr>\n",
       "      <th>0</th>\n",
       "      <td>1515936</td>\n",
       "      <td>183418</td>\n",
       "      <td>11</td>\n",
       "      <td>6</td>\n",
       "      <td>13</td>\n",
       "      <td>30.0</td>\n",
       "    </tr>\n",
       "    <tr>\n",
       "      <th>1</th>\n",
       "      <td>1690866</td>\n",
       "      <td>163593</td>\n",
       "      <td>5</td>\n",
       "      <td>5</td>\n",
       "      <td>12</td>\n",
       "      <td>9.0</td>\n",
       "    </tr>\n",
       "    <tr>\n",
       "      <th>2</th>\n",
       "      <td>1454967</td>\n",
       "      <td>39980</td>\n",
       "      <td>4</td>\n",
       "      <td>5</td>\n",
       "      <td>19</td>\n",
       "      <td>2.0</td>\n",
       "    </tr>\n",
       "    <tr>\n",
       "      <th>3</th>\n",
       "      <td>1768857</td>\n",
       "      <td>82516</td>\n",
       "      <td>56</td>\n",
       "      <td>0</td>\n",
       "      <td>20</td>\n",
       "      <td>10.0</td>\n",
       "    </tr>\n",
       "    <tr>\n",
       "      <th>4</th>\n",
       "      <td>3007858</td>\n",
       "      <td>196724</td>\n",
       "      <td>2</td>\n",
       "      <td>4</td>\n",
       "      <td>12</td>\n",
       "      <td>17.0</td>\n",
       "    </tr>\n",
       "  </tbody>\n",
       "</table>\n",
       "</div>"
      ],
      "text/plain": [
       "   order_id  user_id  order_number  order_dow  order_hour_of_day  \\\n",
       "0   1515936   183418            11          6                 13   \n",
       "1   1690866   163593             5          5                 12   \n",
       "2   1454967    39980             4          5                 19   \n",
       "3   1768857    82516            56          0                 20   \n",
       "4   3007858   196724             2          4                 12   \n",
       "\n",
       "   days_since_prior_order  \n",
       "0                    30.0  \n",
       "1                     9.0  \n",
       "2                     2.0  \n",
       "3                    10.0  \n",
       "4                    17.0  "
      ]
     },
     "execution_count": 3,
     "metadata": {},
     "output_type": "execute_result"
    }
   ],
   "source": [
    "# mostrar información del DataFrame instacart_orders:\n",
    "df_instacart_orders.info()\n",
    "df_instacart_orders.head()"
   ]
  },
  {
   "cell_type": "code",
   "execution_count": 4,
   "id": "5130e05e",
   "metadata": {
    "id": "5130e05e"
   },
   "outputs": [
    {
     "name": "stdout",
     "output_type": "stream",
     "text": [
      "<class 'pandas.core.frame.DataFrame'>\n",
      "RangeIndex: 49694 entries, 0 to 49693\n",
      "Data columns (total 4 columns):\n",
      " #   Column         Non-Null Count  Dtype \n",
      "---  ------         --------------  ----- \n",
      " 0   product_id     49694 non-null  int64 \n",
      " 1   product_name   48436 non-null  object\n",
      " 2   aisle_id       49694 non-null  int64 \n",
      " 3   department_id  49694 non-null  int64 \n",
      "dtypes: int64(3), object(1)\n",
      "memory usage: 1.5+ MB\n"
     ]
    },
    {
     "data": {
      "text/html": [
       "<div>\n",
       "<style scoped>\n",
       "    .dataframe tbody tr th:only-of-type {\n",
       "        vertical-align: middle;\n",
       "    }\n",
       "\n",
       "    .dataframe tbody tr th {\n",
       "        vertical-align: top;\n",
       "    }\n",
       "\n",
       "    .dataframe thead th {\n",
       "        text-align: right;\n",
       "    }\n",
       "</style>\n",
       "<table border=\"1\" class=\"dataframe\">\n",
       "  <thead>\n",
       "    <tr style=\"text-align: right;\">\n",
       "      <th></th>\n",
       "      <th>product_id</th>\n",
       "      <th>product_name</th>\n",
       "      <th>aisle_id</th>\n",
       "      <th>department_id</th>\n",
       "    </tr>\n",
       "  </thead>\n",
       "  <tbody>\n",
       "    <tr>\n",
       "      <th>0</th>\n",
       "      <td>1</td>\n",
       "      <td>Chocolate Sandwich Cookies</td>\n",
       "      <td>61</td>\n",
       "      <td>19</td>\n",
       "    </tr>\n",
       "    <tr>\n",
       "      <th>1</th>\n",
       "      <td>2</td>\n",
       "      <td>All-Seasons Salt</td>\n",
       "      <td>104</td>\n",
       "      <td>13</td>\n",
       "    </tr>\n",
       "    <tr>\n",
       "      <th>2</th>\n",
       "      <td>3</td>\n",
       "      <td>Robust Golden Unsweetened Oolong Tea</td>\n",
       "      <td>94</td>\n",
       "      <td>7</td>\n",
       "    </tr>\n",
       "    <tr>\n",
       "      <th>3</th>\n",
       "      <td>4</td>\n",
       "      <td>Smart Ones Classic Favorites Mini Rigatoni Wit...</td>\n",
       "      <td>38</td>\n",
       "      <td>1</td>\n",
       "    </tr>\n",
       "    <tr>\n",
       "      <th>4</th>\n",
       "      <td>5</td>\n",
       "      <td>Green Chile Anytime Sauce</td>\n",
       "      <td>5</td>\n",
       "      <td>13</td>\n",
       "    </tr>\n",
       "  </tbody>\n",
       "</table>\n",
       "</div>"
      ],
      "text/plain": [
       "   product_id                                       product_name  aisle_id  \\\n",
       "0           1                         Chocolate Sandwich Cookies        61   \n",
       "1           2                                   All-Seasons Salt       104   \n",
       "2           3               Robust Golden Unsweetened Oolong Tea        94   \n",
       "3           4  Smart Ones Classic Favorites Mini Rigatoni Wit...        38   \n",
       "4           5                          Green Chile Anytime Sauce         5   \n",
       "\n",
       "   department_id  \n",
       "0             19  \n",
       "1             13  \n",
       "2              7  \n",
       "3              1  \n",
       "4             13  "
      ]
     },
     "execution_count": 4,
     "metadata": {},
     "output_type": "execute_result"
    }
   ],
   "source": [
    "# mostrar información del DataFrame products:\n",
    "df_products.info()\n",
    "df_products.head()"
   ]
  },
  {
   "cell_type": "code",
   "execution_count": 5,
   "id": "d8370c05",
   "metadata": {
    "id": "d8370c05"
   },
   "outputs": [
    {
     "name": "stdout",
     "output_type": "stream",
     "text": [
      "<class 'pandas.core.frame.DataFrame'>\n",
      "RangeIndex: 134 entries, 0 to 133\n",
      "Data columns (total 2 columns):\n",
      " #   Column    Non-Null Count  Dtype \n",
      "---  ------    --------------  ----- \n",
      " 0   aisle_id  134 non-null    int64 \n",
      " 1   aisle     134 non-null    object\n",
      "dtypes: int64(1), object(1)\n",
      "memory usage: 2.2+ KB\n"
     ]
    },
    {
     "data": {
      "text/html": [
       "<div>\n",
       "<style scoped>\n",
       "    .dataframe tbody tr th:only-of-type {\n",
       "        vertical-align: middle;\n",
       "    }\n",
       "\n",
       "    .dataframe tbody tr th {\n",
       "        vertical-align: top;\n",
       "    }\n",
       "\n",
       "    .dataframe thead th {\n",
       "        text-align: right;\n",
       "    }\n",
       "</style>\n",
       "<table border=\"1\" class=\"dataframe\">\n",
       "  <thead>\n",
       "    <tr style=\"text-align: right;\">\n",
       "      <th></th>\n",
       "      <th>aisle_id</th>\n",
       "      <th>aisle</th>\n",
       "    </tr>\n",
       "  </thead>\n",
       "  <tbody>\n",
       "    <tr>\n",
       "      <th>0</th>\n",
       "      <td>1</td>\n",
       "      <td>prepared soups salads</td>\n",
       "    </tr>\n",
       "    <tr>\n",
       "      <th>1</th>\n",
       "      <td>2</td>\n",
       "      <td>specialty cheeses</td>\n",
       "    </tr>\n",
       "    <tr>\n",
       "      <th>2</th>\n",
       "      <td>3</td>\n",
       "      <td>energy granola bars</td>\n",
       "    </tr>\n",
       "    <tr>\n",
       "      <th>3</th>\n",
       "      <td>4</td>\n",
       "      <td>instant foods</td>\n",
       "    </tr>\n",
       "    <tr>\n",
       "      <th>4</th>\n",
       "      <td>5</td>\n",
       "      <td>marinades meat preparation</td>\n",
       "    </tr>\n",
       "  </tbody>\n",
       "</table>\n",
       "</div>"
      ],
      "text/plain": [
       "   aisle_id                       aisle\n",
       "0         1       prepared soups salads\n",
       "1         2           specialty cheeses\n",
       "2         3         energy granola bars\n",
       "3         4               instant foods\n",
       "4         5  marinades meat preparation"
      ]
     },
     "execution_count": 5,
     "metadata": {},
     "output_type": "execute_result"
    }
   ],
   "source": [
    "# mostrar información del DataFrame aisles:\n",
    "df_aisles.info()\n",
    "df_aisles.head()"
   ]
  },
  {
   "cell_type": "code",
   "execution_count": 6,
   "id": "59e2090f",
   "metadata": {
    "id": "59e2090f"
   },
   "outputs": [
    {
     "name": "stdout",
     "output_type": "stream",
     "text": [
      "<class 'pandas.core.frame.DataFrame'>\n",
      "RangeIndex: 21 entries, 0 to 20\n",
      "Data columns (total 2 columns):\n",
      " #   Column         Non-Null Count  Dtype \n",
      "---  ------         --------------  ----- \n",
      " 0   department_id  21 non-null     int64 \n",
      " 1   department     21 non-null     object\n",
      "dtypes: int64(1), object(1)\n",
      "memory usage: 464.0+ bytes\n"
     ]
    },
    {
     "data": {
      "text/html": [
       "<div>\n",
       "<style scoped>\n",
       "    .dataframe tbody tr th:only-of-type {\n",
       "        vertical-align: middle;\n",
       "    }\n",
       "\n",
       "    .dataframe tbody tr th {\n",
       "        vertical-align: top;\n",
       "    }\n",
       "\n",
       "    .dataframe thead th {\n",
       "        text-align: right;\n",
       "    }\n",
       "</style>\n",
       "<table border=\"1\" class=\"dataframe\">\n",
       "  <thead>\n",
       "    <tr style=\"text-align: right;\">\n",
       "      <th></th>\n",
       "      <th>department_id</th>\n",
       "      <th>department</th>\n",
       "    </tr>\n",
       "  </thead>\n",
       "  <tbody>\n",
       "    <tr>\n",
       "      <th>0</th>\n",
       "      <td>1</td>\n",
       "      <td>frozen</td>\n",
       "    </tr>\n",
       "    <tr>\n",
       "      <th>1</th>\n",
       "      <td>2</td>\n",
       "      <td>other</td>\n",
       "    </tr>\n",
       "    <tr>\n",
       "      <th>2</th>\n",
       "      <td>3</td>\n",
       "      <td>bakery</td>\n",
       "    </tr>\n",
       "    <tr>\n",
       "      <th>3</th>\n",
       "      <td>4</td>\n",
       "      <td>produce</td>\n",
       "    </tr>\n",
       "    <tr>\n",
       "      <th>4</th>\n",
       "      <td>5</td>\n",
       "      <td>alcohol</td>\n",
       "    </tr>\n",
       "  </tbody>\n",
       "</table>\n",
       "</div>"
      ],
      "text/plain": [
       "   department_id department\n",
       "0              1     frozen\n",
       "1              2      other\n",
       "2              3     bakery\n",
       "3              4    produce\n",
       "4              5    alcohol"
      ]
     },
     "execution_count": 6,
     "metadata": {},
     "output_type": "execute_result"
    }
   ],
   "source": [
    "# mostrar información del DataFrame departments:\n",
    "df_departments.info()\n",
    "df_departments.head()"
   ]
  },
  {
   "cell_type": "markdown",
   "id": "5559e1df",
   "metadata": {},
   "source": [
    "<div class=\"alert alert-block alert-info\">\n",
    "<b>Hola Alejandro, muchas gracias por tus comentarios.</b> <a class=“tocSkip”></a>\n",
    "Voy a empezar a afinar algunos detalles que no me había percatado, el primero es que agregue un parámetro: df_order_products.info(show_counts=True) para poder visualizar los valores nulos, ya que al ser muy extenso ese DataFrame, no se visualizaban por defecto.\n",
    "</div>"
   ]
  },
  {
   "cell_type": "code",
   "execution_count": 7,
   "id": "6fc81694",
   "metadata": {
    "id": "6fc81694"
   },
   "outputs": [
    {
     "name": "stdout",
     "output_type": "stream",
     "text": [
      "<class 'pandas.core.frame.DataFrame'>\n",
      "RangeIndex: 4545007 entries, 0 to 4545006\n",
      "Data columns (total 4 columns):\n",
      " #   Column             Non-Null Count    Dtype  \n",
      "---  ------             --------------    -----  \n",
      " 0   order_id           4545007 non-null  int64  \n",
      " 1   product_id         4545007 non-null  int64  \n",
      " 2   add_to_cart_order  4544171 non-null  float64\n",
      " 3   reordered          4545007 non-null  int64  \n",
      "dtypes: float64(1), int64(3)\n",
      "memory usage: 138.7 MB\n"
     ]
    },
    {
     "data": {
      "text/html": [
       "<div>\n",
       "<style scoped>\n",
       "    .dataframe tbody tr th:only-of-type {\n",
       "        vertical-align: middle;\n",
       "    }\n",
       "\n",
       "    .dataframe tbody tr th {\n",
       "        vertical-align: top;\n",
       "    }\n",
       "\n",
       "    .dataframe thead th {\n",
       "        text-align: right;\n",
       "    }\n",
       "</style>\n",
       "<table border=\"1\" class=\"dataframe\">\n",
       "  <thead>\n",
       "    <tr style=\"text-align: right;\">\n",
       "      <th></th>\n",
       "      <th>order_id</th>\n",
       "      <th>product_id</th>\n",
       "      <th>add_to_cart_order</th>\n",
       "      <th>reordered</th>\n",
       "    </tr>\n",
       "  </thead>\n",
       "  <tbody>\n",
       "    <tr>\n",
       "      <th>0</th>\n",
       "      <td>2141543</td>\n",
       "      <td>11440</td>\n",
       "      <td>17.0</td>\n",
       "      <td>0</td>\n",
       "    </tr>\n",
       "    <tr>\n",
       "      <th>1</th>\n",
       "      <td>567889</td>\n",
       "      <td>1560</td>\n",
       "      <td>1.0</td>\n",
       "      <td>1</td>\n",
       "    </tr>\n",
       "    <tr>\n",
       "      <th>2</th>\n",
       "      <td>2261212</td>\n",
       "      <td>26683</td>\n",
       "      <td>1.0</td>\n",
       "      <td>1</td>\n",
       "    </tr>\n",
       "    <tr>\n",
       "      <th>3</th>\n",
       "      <td>491251</td>\n",
       "      <td>8670</td>\n",
       "      <td>35.0</td>\n",
       "      <td>1</td>\n",
       "    </tr>\n",
       "    <tr>\n",
       "      <th>4</th>\n",
       "      <td>2571142</td>\n",
       "      <td>1940</td>\n",
       "      <td>5.0</td>\n",
       "      <td>1</td>\n",
       "    </tr>\n",
       "  </tbody>\n",
       "</table>\n",
       "</div>"
      ],
      "text/plain": [
       "   order_id  product_id  add_to_cart_order  reordered\n",
       "0   2141543       11440               17.0          0\n",
       "1    567889        1560                1.0          1\n",
       "2   2261212       26683                1.0          1\n",
       "3    491251        8670               35.0          1\n",
       "4   2571142        1940                5.0          1"
      ]
     },
     "execution_count": 7,
     "metadata": {},
     "output_type": "execute_result"
    }
   ],
   "source": [
    "# mostrar información del DataFrame products:\n",
    "df_order_products.info(show_counts=True)   # agregamos el parámetro show_counts para visualizar los datos nulos.\n",
    "df_order_products.head()"
   ]
  },
  {
   "cell_type": "markdown",
   "id": "1413cdd8",
   "metadata": {},
   "source": [
    "[Volver a Contenidos](#back)"
   ]
  },
  {
   "cell_type": "markdown",
   "id": "t75BD19oaR5f",
   "metadata": {
    "id": "t75BD19oaR5f"
   },
   "source": [
    "## Conclusiones <a id='data_review_conclusions'></a>\n",
    "\n",
    "Descripción de los datos.\n",
    "Estas son las observaciones rápidas sobre cada uno de los DataFrames. \n",
    "\n",
    "df_instacart_orders\n",
    "\n",
    "    - `Contiene información general sobre los pedidos: número de cliente 'user_id', número de pedido 'order_id', número de orden 'order_number', día del pedido 'order_dow', hora del pedido 'order_hour_of_day', y días desde el primer pedido 'days_since_prior_order'.\n",
    "    - `Contiene 6 columnas en total. Almacena 2 tipos de datos: int64(5) y float64(1).\n",
    "    - `Tiene un total de 478,967 líneas. La 5ta columna llamada 'days_since_prior_order' tiene datos faltantes, un total de 450,148 líneas.\n",
    "\n",
    "df_products\n",
    "\n",
    "    - `Contiene información sobre los productos: número de producto 'product_id', nombre del producto 'product_name', número del pasillo 'aisle_id', y número del departamento 'department_id'.\n",
    "    - `Contiene 4 columnas en total. Almacena 2 tipos de datos: int64(3) y object(1)\n",
    "    - `Tiene un total de 49,694 líneas. La 2da columna llamada 'product_name' tiene datos faltantes, un total de 48,436 líneas.\n",
    "\n",
    "df_order_products\n",
    "\n",
    "    - `Contiene información sobre las órdenes de los productos: número de orden 'order_id', código del producto 'product_id', número de orden para agregar al carrito 'add_to_cart_order', reordenamiento 'reordered'.\n",
    "    - `Contiene 4 columnas en total. Almacena 2 tipos de datos: int64(3) y float64(1).\n",
    "    - `Tiene un total de 4,545,007 líneas. \n",
    "\n",
    "df_aisles\n",
    "\n",
    "    - `Contiene información sobre los pasillos: número del pasillo 'asile_id', nombre del pasillo 'asile'.\n",
    "    - `Contiene 2 columnas en total. Almacena 2 tipos de datos: int64(1) y object(1).\n",
    "    - `Tiene un total de 134 líneas. Ninguna de las 2 columnas tiene datos faltantes.\n",
    "\n",
    "df_departments\n",
    "\n",
    "    - `Contiene información sobre los departamentos: número del departamento 'department_id' y nombre del departamento 'department'.\n",
    "    - `Contiene 2 columnas en total. Almacena 2 tipos de datos: int64(1) y object(1).\n",
    "    - `Tiene un total de 21 líneas. Nínguna de las 2 columnas tiene datos faltantes."
   ]
  },
  {
   "cell_type": "markdown",
   "id": "79cbde26",
   "metadata": {},
   "source": [
    "[Volver a Contenidos](#back)"
   ]
  },
  {
   "cell_type": "markdown",
   "id": "8RJHqxVmaVsF",
   "metadata": {
    "id": "8RJHqxVmaVsF"
   },
   "source": [
    "# Paso 2. Preprocesamiento de los datos <a id='data_preprocessing'></a>\n",
    "\n",
    "Preprocesa los datos de la siguiente manera:\n",
    "\n",
    "- Verifica y corrige los tipos de datos (por ejemplo, asegúrate de que las columnas de ID sean números enteros).\n",
    "- Identifica y completa los valores ausentes.\n",
    "- Identifica y elimina los valores duplicados.\n",
    "\n",
    "Asegúrate de explicar qué tipos de valores ausentes y duplicados encontraste, cómo los completaste o eliminaste y por qué usaste esos métodos. ¿Por qué crees que estos valores ausentes y duplicados pueden haber estado presentes en el conjunto de datos?"
   ]
  },
  {
   "cell_type": "markdown",
   "id": "c197010d",
   "metadata": {},
   "source": [
    "[Volver a Contenidos](#back)"
   ]
  },
  {
   "cell_type": "markdown",
   "id": "p6poABZQaZYb",
   "metadata": {
    "id": "p6poABZQaZYb"
   },
   "source": [
    "## Plan de solución <a id='plan2'></a>\n",
    "\n",
    "2. Preprocesamiento de los datos.\n",
    "\n",
    "Antes de realizar un analisis de los datos, vamos a preprocesar cada uno de los cinco archivos para homologar la información y corregir cualquier inconsistencia que pueda existir; por ejemplo, la información correspondiente a los ID debe de ser de tipo int64 (números enteros), la descripción de los productos deberá ser de tipo objetc (string) ya que es de tipo cualitativo.\n",
    "\n",
    "Por otra parte, también vamos a buscar por valores ausentes y/o duplicados, a los cuales vamos a revisarlos para ver si los rellenamos de alguna manera que no afecten al análisis, y en el caso de los valores duplicados, revisar si es posible eliminarlos para evitar incongruencias."
   ]
  },
  {
   "cell_type": "markdown",
   "id": "8f3df461",
   "metadata": {},
   "source": [
    "[Volver a Contenidos](#back)"
   ]
  },
  {
   "cell_type": "markdown",
   "id": "1f47e362",
   "metadata": {},
   "source": [
    "<div class=\"alert alert-block alert-success\">\n",
    "<b>Comentario del revisor (1ra Iteración)</b> <a class=“tocSkip”></a>\n",
    "\n",
    "Tom realizaste un excelente análisis exploratorio de datos. Esto te permitió establecer una hoja de ruta clara para el manejo del dataset con el fin de preparar los datos para los análisis posteriores.\n",
    "\n",
    "</div>"
   ]
  },
  {
   "cell_type": "markdown",
   "id": "07357848-dc64-4156-9cc3-01ff4365226d",
   "metadata": {
    "id": "07357848-dc64-4156-9cc3-01ff4365226d"
   },
   "source": [
    "## Encuentra y elimina los valores duplicados (y describe cómo tomaste tus decisiones). <a id='duplicates'></a>"
   ]
  },
  {
   "cell_type": "markdown",
   "id": "f179f0a9",
   "metadata": {
    "id": "f179f0a9"
   },
   "source": [
    "### `instacart_orders` data frame"
   ]
  },
  {
   "cell_type": "code",
   "execution_count": 8,
   "id": "b99297a5-405a-463d-8535-9adc3da4ad74",
   "metadata": {
    "id": "b99297a5-405a-463d-8535-9adc3da4ad74"
   },
   "outputs": [
    {
     "name": "stdout",
     "output_type": "stream",
     "text": [
      "Las líneas duplicadas en el Data Frame instacart_orders son 15 de un total de 478967 líneas.\n"
     ]
    }
   ],
   "source": [
    "# Revisa si hay pedidos duplicados\n",
    "print(f\"Las líneas duplicadas en el Data Frame instacart_orders son\", df_instacart_orders.duplicated().sum(), \"de un total de\", len(df_instacart_orders), \"líneas.\")"
   ]
  },
  {
   "cell_type": "markdown",
   "id": "PEkwUX_gvt5A",
   "metadata": {
    "id": "PEkwUX_gvt5A"
   },
   "source": [
    "¿Tienes líneas duplicadas? Si sí, ¿qué tienen en común?\n",
    "Encontramos que hay 15 líneas duplicadas, vamos a ver cuáles son esas 15 líneas imprimiendolas."
   ]
  },
  {
   "cell_type": "code",
   "execution_count": 9,
   "id": "0d44de5d",
   "metadata": {
    "id": "0d44de5d"
   },
   "outputs": [
    {
     "data": {
      "text/html": [
       "<div>\n",
       "<style scoped>\n",
       "    .dataframe tbody tr th:only-of-type {\n",
       "        vertical-align: middle;\n",
       "    }\n",
       "\n",
       "    .dataframe tbody tr th {\n",
       "        vertical-align: top;\n",
       "    }\n",
       "\n",
       "    .dataframe thead th {\n",
       "        text-align: right;\n",
       "    }\n",
       "</style>\n",
       "<table border=\"1\" class=\"dataframe\">\n",
       "  <thead>\n",
       "    <tr style=\"text-align: right;\">\n",
       "      <th></th>\n",
       "      <th>order_id</th>\n",
       "      <th>user_id</th>\n",
       "      <th>order_number</th>\n",
       "      <th>order_dow</th>\n",
       "      <th>order_hour_of_day</th>\n",
       "      <th>days_since_prior_order</th>\n",
       "    </tr>\n",
       "  </thead>\n",
       "  <tbody>\n",
       "    <tr>\n",
       "      <th>145574</th>\n",
       "      <td>794638</td>\n",
       "      <td>50898</td>\n",
       "      <td>24</td>\n",
       "      <td>3</td>\n",
       "      <td>2</td>\n",
       "      <td>2.0</td>\n",
       "    </tr>\n",
       "    <tr>\n",
       "      <th>223105</th>\n",
       "      <td>2160484</td>\n",
       "      <td>107525</td>\n",
       "      <td>16</td>\n",
       "      <td>3</td>\n",
       "      <td>2</td>\n",
       "      <td>30.0</td>\n",
       "    </tr>\n",
       "    <tr>\n",
       "      <th>230807</th>\n",
       "      <td>1918001</td>\n",
       "      <td>188546</td>\n",
       "      <td>14</td>\n",
       "      <td>3</td>\n",
       "      <td>2</td>\n",
       "      <td>16.0</td>\n",
       "    </tr>\n",
       "    <tr>\n",
       "      <th>266232</th>\n",
       "      <td>1782114</td>\n",
       "      <td>106752</td>\n",
       "      <td>1</td>\n",
       "      <td>3</td>\n",
       "      <td>2</td>\n",
       "      <td>NaN</td>\n",
       "    </tr>\n",
       "    <tr>\n",
       "      <th>273805</th>\n",
       "      <td>1112182</td>\n",
       "      <td>202304</td>\n",
       "      <td>84</td>\n",
       "      <td>3</td>\n",
       "      <td>2</td>\n",
       "      <td>6.0</td>\n",
       "    </tr>\n",
       "    <tr>\n",
       "      <th>284038</th>\n",
       "      <td>2845099</td>\n",
       "      <td>31189</td>\n",
       "      <td>11</td>\n",
       "      <td>3</td>\n",
       "      <td>2</td>\n",
       "      <td>7.0</td>\n",
       "    </tr>\n",
       "    <tr>\n",
       "      <th>311713</th>\n",
       "      <td>1021560</td>\n",
       "      <td>53767</td>\n",
       "      <td>3</td>\n",
       "      <td>3</td>\n",
       "      <td>2</td>\n",
       "      <td>9.0</td>\n",
       "    </tr>\n",
       "    <tr>\n",
       "      <th>321100</th>\n",
       "      <td>408114</td>\n",
       "      <td>68324</td>\n",
       "      <td>4</td>\n",
       "      <td>3</td>\n",
       "      <td>2</td>\n",
       "      <td>18.0</td>\n",
       "    </tr>\n",
       "    <tr>\n",
       "      <th>323900</th>\n",
       "      <td>1919531</td>\n",
       "      <td>191501</td>\n",
       "      <td>32</td>\n",
       "      <td>3</td>\n",
       "      <td>2</td>\n",
       "      <td>7.0</td>\n",
       "    </tr>\n",
       "    <tr>\n",
       "      <th>345917</th>\n",
       "      <td>2232988</td>\n",
       "      <td>82565</td>\n",
       "      <td>1</td>\n",
       "      <td>3</td>\n",
       "      <td>2</td>\n",
       "      <td>NaN</td>\n",
       "    </tr>\n",
       "    <tr>\n",
       "      <th>371905</th>\n",
       "      <td>391768</td>\n",
       "      <td>57671</td>\n",
       "      <td>19</td>\n",
       "      <td>3</td>\n",
       "      <td>2</td>\n",
       "      <td>10.0</td>\n",
       "    </tr>\n",
       "    <tr>\n",
       "      <th>394347</th>\n",
       "      <td>467134</td>\n",
       "      <td>63189</td>\n",
       "      <td>21</td>\n",
       "      <td>3</td>\n",
       "      <td>2</td>\n",
       "      <td>2.0</td>\n",
       "    </tr>\n",
       "    <tr>\n",
       "      <th>411408</th>\n",
       "      <td>1286742</td>\n",
       "      <td>183220</td>\n",
       "      <td>48</td>\n",
       "      <td>3</td>\n",
       "      <td>2</td>\n",
       "      <td>4.0</td>\n",
       "    </tr>\n",
       "    <tr>\n",
       "      <th>415163</th>\n",
       "      <td>2282673</td>\n",
       "      <td>86751</td>\n",
       "      <td>49</td>\n",
       "      <td>3</td>\n",
       "      <td>2</td>\n",
       "      <td>2.0</td>\n",
       "    </tr>\n",
       "    <tr>\n",
       "      <th>441599</th>\n",
       "      <td>2125197</td>\n",
       "      <td>14050</td>\n",
       "      <td>48</td>\n",
       "      <td>3</td>\n",
       "      <td>2</td>\n",
       "      <td>3.0</td>\n",
       "    </tr>\n",
       "  </tbody>\n",
       "</table>\n",
       "</div>"
      ],
      "text/plain": [
       "        order_id  user_id  order_number  order_dow  order_hour_of_day  \\\n",
       "145574    794638    50898            24          3                  2   \n",
       "223105   2160484   107525            16          3                  2   \n",
       "230807   1918001   188546            14          3                  2   \n",
       "266232   1782114   106752             1          3                  2   \n",
       "273805   1112182   202304            84          3                  2   \n",
       "284038   2845099    31189            11          3                  2   \n",
       "311713   1021560    53767             3          3                  2   \n",
       "321100    408114    68324             4          3                  2   \n",
       "323900   1919531   191501            32          3                  2   \n",
       "345917   2232988    82565             1          3                  2   \n",
       "371905    391768    57671            19          3                  2   \n",
       "394347    467134    63189            21          3                  2   \n",
       "411408   1286742   183220            48          3                  2   \n",
       "415163   2282673    86751            49          3                  2   \n",
       "441599   2125197    14050            48          3                  2   \n",
       "\n",
       "        days_since_prior_order  \n",
       "145574                     2.0  \n",
       "223105                    30.0  \n",
       "230807                    16.0  \n",
       "266232                     NaN  \n",
       "273805                     6.0  \n",
       "284038                     7.0  \n",
       "311713                     9.0  \n",
       "321100                    18.0  \n",
       "323900                     7.0  \n",
       "345917                     NaN  \n",
       "371905                    10.0  \n",
       "394347                     2.0  \n",
       "411408                     4.0  \n",
       "415163                     2.0  \n",
       "441599                     3.0  "
      ]
     },
     "execution_count": 9,
     "metadata": {},
     "output_type": "execute_result"
    }
   ],
   "source": [
    "# Basándote en tus hallazgos,\n",
    "# Verifica todos los pedidos que se hicieron el miércoles a las 2:00 a.m.\n",
    "df_instacart_orders[df_instacart_orders.duplicated()]   # imprimimos las 15 lineas duplicadas"
   ]
  },
  {
   "cell_type": "markdown",
   "id": "vu2OWyoqwOx5",
   "metadata": {
    "id": "vu2OWyoqwOx5"
   },
   "source": [
    "¿Qué sugiere este resultado?\n",
    "\n",
    "A pesar de que las líneas duplicadas que detecta el método duplicated() tienen el mismo día miércoles (día 3) y la misma hora 02:00 am (2 hra), la información de las columnas 'order_id' y 'user_id' es diferente, lo que nos da a entender que los pedidos fueron realizados por usuarios diferentes y números de orden diferentes."
   ]
  },
  {
   "cell_type": "code",
   "execution_count": 10,
   "id": "480563c7",
   "metadata": {
    "id": "480563c7"
   },
   "outputs": [
    {
     "data": {
      "text/plain": [
       "order_id  user_id  order_number  order_dow  order_hour_of_day  days_since_prior_order\n",
       "391768    57671    19            3          2                  10.0                      1\n",
       "408114    68324    4             3          2                  18.0                      1\n",
       "467134    63189    21            3          2                  2.0                       1\n",
       "794638    50898    24            3          2                  2.0                       1\n",
       "1021560   53767    3             3          2                  9.0                       1\n",
       "1112182   202304   84            3          2                  6.0                       1\n",
       "1286742   183220   48            3          2                  4.0                       1\n",
       "1918001   188546   14            3          2                  16.0                      1\n",
       "1919531   191501   32            3          2                  7.0                       1\n",
       "2125197   14050    48            3          2                  3.0                       1\n",
       "2160484   107525   16            3          2                  30.0                      1\n",
       "2282673   86751    49            3          2                  2.0                       1\n",
       "2845099   31189    11            3          2                  7.0                       1\n",
       "dtype: int64"
      ]
     },
     "execution_count": 10,
     "metadata": {},
     "output_type": "execute_result"
    }
   ],
   "source": [
    "# De las 15 líneas duplicadas, revisamos si existen duplicados en la columna 'order_ir'\n",
    "df_instacart_orders[df_instacart_orders.duplicated(subset='order_id')].value_counts()"
   ]
  },
  {
   "cell_type": "code",
   "execution_count": 11,
   "id": "0b2396a2",
   "metadata": {
    "id": "0b2396a2"
   },
   "outputs": [
    {
     "data": {
      "text/plain": [
       "order_id  user_id  order_number  order_dow  order_hour_of_day  days_since_prior_order\n",
       "2125197   14050    48            3          2                  3.0                       2\n",
       "391768    57671    19            3          2                  10.0                      2\n",
       "1919531   191501   32            3          2                  7.0                       2\n",
       "2160484   107525   16            3          2                  30.0                      2\n",
       "2282673   86751    49            3          2                  2.0                       2\n",
       "                                                                                        ..\n",
       "1140117   181690   41            5          10                 1.0                       1\n",
       "1140116   21632    37            1          10                 7.0                       1\n",
       "1140115   32450    6             3          14                 1.0                       1\n",
       "1140086   161954   23            3          13                 1.0                       1\n",
       "3421058   136952   20            3          18                 15.0                      1\n",
       "Length: 307512, dtype: int64"
      ]
     },
     "execution_count": 11,
     "metadata": {},
     "output_type": "execute_result"
    }
   ],
   "source": [
    "# De las 15 líneas duplicadas, revisamos si exiten valores duplicados en la columna 'user_id'\n",
    "df_instacart_orders[df_instacart_orders.duplicated(subset='user_id')].value_counts()"
   ]
  },
  {
   "cell_type": "code",
   "execution_count": 12,
   "id": "f6113ef1",
   "metadata": {
    "id": "f6113ef1"
   },
   "outputs": [
    {
     "data": {
      "text/plain": [
       "order_id                  15\n",
       "user_id                   15\n",
       "order_number              15\n",
       "order_dow                 15\n",
       "order_hour_of_day         15\n",
       "days_since_prior_order    13\n",
       "dtype: int64"
      ]
     },
     "execution_count": 12,
     "metadata": {},
     "output_type": "execute_result"
    }
   ],
   "source": [
    "# Vuelve a verificar si hay IDs duplicados de pedidos\n",
    "df_instacart_orders_duplicates = df_instacart_orders[df_instacart_orders.duplicated()]   # creamos un nuevo DataDrame con l\n",
    "df_instacart_orders_duplicates.count()   # realizamos un conteo de las líneas duplicadas."
   ]
  },
  {
   "cell_type": "markdown",
   "id": "02ad94e5",
   "metadata": {},
   "source": [
    "<div class=\"alert alert-block alert-info\">\n",
    "<b>Respuesta del estudiante</b> <a class=“tocSkip”></a>\n",
    "Alejandro, en esta sección de búsqueda de duplicados, he mejorado el análisis, ya que no estaba completamente convencido de dejar las 15 líneas duplicadas, ahora he analizado esas 15 líneas en todas las demás columnas y he llegado a la misma conclusión de dejarlas pero con mayor determinación.\n",
    "</div>"
   ]
  },
  {
   "cell_type": "markdown",
   "id": "5e8905ae",
   "metadata": {
    "id": "5e8905ae"
   },
   "source": [
    "Describe brevemente tus hallazgos y lo que hiciste con ellos\n",
    "\n",
    "En conclusión se encontraron 15 lineas que comparten la misma información en las colunmas 'order_dow' y 'order_hour_of_day', se trata de los días miércoles (3) y el horario de las 02:00am (2).\n",
    "\n",
    "Pero revisando esas 15 líneas en específico para las demás columnas 'order_id', 'user_id' y 'days_since_prior_order', los valores son diferentes.\n",
    "En la columnas 'order_id' no hay duplicados, en la columna 'user_id' si hay 5 usuarios repetidos, pero existen valores diferentes para las columnas 'order_number' y 'days_since_prior_order', lo que nos indica que no son verdaderos duplicados.\n",
    "En la columna 'days_since_prior_order' se tienen dos valores ausentes.\n",
    "\n",
    "Por las razones anteriores, las 15 líneas encontradas como \"duplicadas\", no deben considerarse como duplicadas verdaderas, finalmente se decide NO eliminarlas del Data Frame df_instacart_orders."
   ]
  },
  {
   "cell_type": "markdown",
   "id": "abfc98e9",
   "metadata": {},
   "source": [
    "[Volver a Contenidos](#back)"
   ]
  },
  {
   "cell_type": "markdown",
   "id": "45e6bc46",
   "metadata": {
    "id": "45e6bc46"
   },
   "source": [
    "### `products` data frame"
   ]
  },
  {
   "cell_type": "code",
   "execution_count": 13,
   "id": "5f526b5b-8175-46fa-a0fd-441767d50e64",
   "metadata": {
    "id": "5f526b5b-8175-46fa-a0fd-441767d50e64"
   },
   "outputs": [
    {
     "name": "stdout",
     "output_type": "stream",
     "text": [
      "Las líneas duplicadas en el Data Frame products son 0 de un total de 49694 líneas.\n"
     ]
    }
   ],
   "source": [
    "# Verifica si hay filas totalmente duplicadas\n",
    "print(f\"Las líneas duplicadas en el Data Frame products son\", df_products.duplicated().sum(), \"de un total de\", len(df_products), \"líneas.\")"
   ]
  },
  {
   "cell_type": "code",
   "execution_count": 14,
   "id": "88daa4f4",
   "metadata": {
    "id": "88daa4f4"
   },
   "outputs": [
    {
     "name": "stdout",
     "output_type": "stream",
     "text": [
      "Empty DataFrame\n",
      "Columns: [product_id, product_name, aisle_id, department_id]\n",
      "Index: []\n"
     ]
    }
   ],
   "source": [
    "# Verifica si hay IDs duplicadas de productos\n",
    "print(df_products[df_products.duplicated(subset='product_id')])   # filtramos el DataFrame por duplicados en números de producto"
   ]
  },
  {
   "cell_type": "code",
   "execution_count": 15,
   "id": "c773f0bf",
   "metadata": {
    "id": "c773f0bf"
   },
   "outputs": [
    {
     "data": {
      "text/html": [
       "<div>\n",
       "<style scoped>\n",
       "    .dataframe tbody tr th:only-of-type {\n",
       "        vertical-align: middle;\n",
       "    }\n",
       "\n",
       "    .dataframe tbody tr th {\n",
       "        vertical-align: top;\n",
       "    }\n",
       "\n",
       "    .dataframe thead th {\n",
       "        text-align: right;\n",
       "    }\n",
       "</style>\n",
       "<table border=\"1\" class=\"dataframe\">\n",
       "  <thead>\n",
       "    <tr style=\"text-align: right;\">\n",
       "      <th></th>\n",
       "      <th>product_id</th>\n",
       "      <th>product_name</th>\n",
       "      <th>aisle_id</th>\n",
       "      <th>department_id</th>\n",
       "    </tr>\n",
       "  </thead>\n",
       "  <tbody>\n",
       "    <tr>\n",
       "      <th>71</th>\n",
       "      <td>72</td>\n",
       "      <td>NaN</td>\n",
       "      <td>100</td>\n",
       "      <td>21</td>\n",
       "    </tr>\n",
       "    <tr>\n",
       "      <th>109</th>\n",
       "      <td>110</td>\n",
       "      <td>NaN</td>\n",
       "      <td>100</td>\n",
       "      <td>21</td>\n",
       "    </tr>\n",
       "    <tr>\n",
       "      <th>296</th>\n",
       "      <td>297</td>\n",
       "      <td>NaN</td>\n",
       "      <td>100</td>\n",
       "      <td>21</td>\n",
       "    </tr>\n",
       "    <tr>\n",
       "      <th>416</th>\n",
       "      <td>417</td>\n",
       "      <td>NaN</td>\n",
       "      <td>100</td>\n",
       "      <td>21</td>\n",
       "    </tr>\n",
       "    <tr>\n",
       "      <th>436</th>\n",
       "      <td>437</td>\n",
       "      <td>NaN</td>\n",
       "      <td>100</td>\n",
       "      <td>21</td>\n",
       "    </tr>\n",
       "    <tr>\n",
       "      <th>...</th>\n",
       "      <td>...</td>\n",
       "      <td>...</td>\n",
       "      <td>...</td>\n",
       "      <td>...</td>\n",
       "    </tr>\n",
       "    <tr>\n",
       "      <th>49689</th>\n",
       "      <td>49690</td>\n",
       "      <td>HIGH PERFORMANCE ENERGY DRINK</td>\n",
       "      <td>64</td>\n",
       "      <td>7</td>\n",
       "    </tr>\n",
       "    <tr>\n",
       "      <th>49690</th>\n",
       "      <td>49691</td>\n",
       "      <td>ORIGINAL PANCAKE &amp; WAFFLE MIX</td>\n",
       "      <td>130</td>\n",
       "      <td>14</td>\n",
       "    </tr>\n",
       "    <tr>\n",
       "      <th>49691</th>\n",
       "      <td>49692</td>\n",
       "      <td>ORGANIC INSTANT OATMEAL LIGHT MAPLE BROWN SUGAR</td>\n",
       "      <td>130</td>\n",
       "      <td>14</td>\n",
       "    </tr>\n",
       "    <tr>\n",
       "      <th>49692</th>\n",
       "      <td>49693</td>\n",
       "      <td>SPRING WATER BODY WASH</td>\n",
       "      <td>127</td>\n",
       "      <td>11</td>\n",
       "    </tr>\n",
       "    <tr>\n",
       "      <th>49693</th>\n",
       "      <td>49694</td>\n",
       "      <td>BURRITO- STEAK &amp; CHEESE</td>\n",
       "      <td>38</td>\n",
       "      <td>1</td>\n",
       "    </tr>\n",
       "  </tbody>\n",
       "</table>\n",
       "<p>1361 rows × 4 columns</p>\n",
       "</div>"
      ],
      "text/plain": [
       "       product_id                                     product_name  aisle_id  \\\n",
       "71             72                                              NaN       100   \n",
       "109           110                                              NaN       100   \n",
       "296           297                                              NaN       100   \n",
       "416           417                                              NaN       100   \n",
       "436           437                                              NaN       100   \n",
       "...           ...                                              ...       ...   \n",
       "49689       49690                    HIGH PERFORMANCE ENERGY DRINK        64   \n",
       "49690       49691                    ORIGINAL PANCAKE & WAFFLE MIX       130   \n",
       "49691       49692  ORGANIC INSTANT OATMEAL LIGHT MAPLE BROWN SUGAR       130   \n",
       "49692       49693                           SPRING WATER BODY WASH       127   \n",
       "49693       49694                          BURRITO- STEAK & CHEESE        38   \n",
       "\n",
       "       department_id  \n",
       "71                21  \n",
       "109               21  \n",
       "296               21  \n",
       "416               21  \n",
       "436               21  \n",
       "...              ...  \n",
       "49689              7  \n",
       "49690             14  \n",
       "49691             14  \n",
       "49692             11  \n",
       "49693              1  \n",
       "\n",
       "[1361 rows x 4 columns]"
      ]
     },
     "execution_count": 15,
     "metadata": {},
     "output_type": "execute_result"
    }
   ],
   "source": [
    "# Revisa si hay nombres duplicados de productos (convierte los nombres a letras mayúsculas para compararlos mejor)\n",
    "df_products['product_name'] = df_products['product_name'].str.upper()   # convertimos a mayúsculas los nombres de los productos\n",
    "df_products[df_products.duplicated(subset='product_name')]   # filtramos el DataFrame por duplicados el nombre del producto"
   ]
  },
  {
   "cell_type": "code",
   "execution_count": 16,
   "id": "01efd02e",
   "metadata": {
    "id": "01efd02e"
   },
   "outputs": [
    {
     "data": {
      "text/plain": [
       "product_id  product_name                              aisle_id  department_id\n",
       "2059        BIOTIN 1000 MCG                           47        11               1\n",
       "5456        GREEN TEA WITH GINSENG AND HONEY          96        20               1\n",
       "44088       IBUPROFEN TABLETS 200 MG                  133       11               1\n",
       "44079       BLANC DE NOIRS                            134       5                1\n",
       "43872       ORIGINAL BBQ SAUCE                        5         13               1\n",
       "                                                                                ..\n",
       "29731       POTATOES O'BRIEN WITH ONIONS AND PEPPERS  129       1                1\n",
       "29518       BEEF CHILI WITH BEANS                     59        15               1\n",
       "26990       CANDY BAR                                 45        19               1\n",
       "26727       NUTRITION PROTEIN MIX BLUEBERRY NUT       125       19               1\n",
       "49694       BURRITO- STEAK & CHEESE                   38        1                1\n",
       "Length: 104, dtype: int64"
      ]
     },
     "execution_count": 16,
     "metadata": {},
     "output_type": "execute_result"
    }
   ],
   "source": [
    "# Revisa si hay nombres duplicados de productos no faltantes\n",
    "df_products[df_products.duplicated(subset='product_name')].value_counts()   # realizamos el conteo de los nombres de productos"
   ]
  },
  {
   "cell_type": "markdown",
   "id": "9da8d293",
   "metadata": {
    "id": "9da8d293"
   },
   "source": [
    "Describe brevemente tus hallazgos y lo que hiciste con ellos.\n",
    "\n",
    "products data frame está definico como 'df_products'\n",
    "\n",
    "Primeramente analizamos si habían líneas duplicadas en el Data Frame de los productos, son 0 duplicados de un total de 49694 líneas.\n",
    "\n",
    "Segundo verificamos si hay id de productos duplicados, encontrando un Empty DataFrame lo que significa que no hay.\n",
    "\n",
    "Tercero pasamos todos los nombres de los productos a mayúsculas, para revisar si existian duplicados pero no los hay; lo que se alcanza a notar es que hay varias líneas con valores ausentes en esta columna de los nombres de los productos.\n",
    "\n",
    "Finalmente revisamos si había nombres duplicados de productos con nombres faltantes, pero no encontramos duplicados para estos."
   ]
  },
  {
   "cell_type": "markdown",
   "id": "59572e31",
   "metadata": {},
   "source": [
    "[Volver a Contenidos](#back)"
   ]
  },
  {
   "cell_type": "markdown",
   "id": "60f30db1",
   "metadata": {
    "id": "60f30db1"
   },
   "source": [
    "### `departments` data frame"
   ]
  },
  {
   "cell_type": "code",
   "execution_count": 17,
   "id": "fb410ad4-0fbf-4b80-bb09-23fdea79afe3",
   "metadata": {
    "id": "fb410ad4-0fbf-4b80-bb09-23fdea79afe3"
   },
   "outputs": [
    {
     "name": "stdout",
     "output_type": "stream",
     "text": [
      "Las líneas duplicadas en el Data Frame departments son 0 de un total de 21 líneas.\n"
     ]
    }
   ],
   "source": [
    "# Revisa si hay filas totalmente duplicadas\n",
    "print(f\"Las líneas duplicadas en el Data Frame departments son\", df_departments.duplicated().sum(), \"de un total de\", len(df_departments), \"líneas.\")"
   ]
  },
  {
   "cell_type": "code",
   "execution_count": 18,
   "id": "332b12bb",
   "metadata": {
    "id": "332b12bb"
   },
   "outputs": [
    {
     "data": {
      "text/plain": [
       "department_id    0.0\n",
       "department       0.0\n",
       "dtype: float64"
      ]
     },
     "execution_count": 18,
     "metadata": {},
     "output_type": "execute_result"
    }
   ],
   "source": [
    "# Revisa si hay IDs duplicadas de productos\n",
    "df_departments[df_departments.duplicated()].sum()"
   ]
  },
  {
   "cell_type": "markdown",
   "id": "bd30d78e",
   "metadata": {
    "id": "bd30d78e"
   },
   "source": [
    "Describe brevemente tus hallazgos y lo que hiciste con ellos.\n",
    "\n",
    "En el Data Frame correspondiente a los departamentos, no se encontraron ningún valor duplicado, por lo que no se realizaron acciones."
   ]
  },
  {
   "cell_type": "markdown",
   "id": "8ce9017a",
   "metadata": {},
   "source": [
    "[Volver a Contenidos](#back)"
   ]
  },
  {
   "cell_type": "markdown",
   "id": "889349c1",
   "metadata": {
    "id": "889349c1"
   },
   "source": [
    "### `aisles` data frame"
   ]
  },
  {
   "cell_type": "code",
   "execution_count": 19,
   "id": "9da89fb9-4679-40f5-ad0d-c34df753a3f8",
   "metadata": {
    "id": "9da89fb9-4679-40f5-ad0d-c34df753a3f8"
   },
   "outputs": [
    {
     "name": "stdout",
     "output_type": "stream",
     "text": [
      "Las líneas duplicadas en el Data Frame departments son 0 de un total de 134 líneas.\n"
     ]
    }
   ],
   "source": [
    "# Revisa si hay filas totalmente duplicadas\n",
    "print(f\"Las líneas duplicadas en el Data Frame departments son\", df_aisles.duplicated().sum(), \"de un total de\", len(df_aisles), \"líneas.\")"
   ]
  },
  {
   "cell_type": "code",
   "execution_count": 20,
   "id": "da7c2822",
   "metadata": {
    "id": "da7c2822"
   },
   "outputs": [
    {
     "data": {
      "text/plain": [
       "aisle_id    0.0\n",
       "aisle       0.0\n",
       "dtype: float64"
      ]
     },
     "execution_count": 20,
     "metadata": {},
     "output_type": "execute_result"
    }
   ],
   "source": [
    "# Revisa si hay IDs duplicadas de productos\n",
    "df_aisles[df_aisles.duplicated()].sum()"
   ]
  },
  {
   "cell_type": "markdown",
   "id": "ac63826f",
   "metadata": {
    "id": "ac63826f"
   },
   "source": [
    "Describe brevemente tus hallazgos y lo que hiciste con ellos.\n",
    "\n",
    "En el Data Frame correspondiente a los pasillos (aisles), no se encontraron ningún valor duplicado, por lo que no se realizaron acciones."
   ]
  },
  {
   "cell_type": "markdown",
   "id": "795c129a",
   "metadata": {},
   "source": [
    "[Volver a Contenidos](#back)"
   ]
  },
  {
   "cell_type": "markdown",
   "id": "274cd06a",
   "metadata": {
    "id": "274cd06a"
   },
   "source": [
    "### `order_products` data frame"
   ]
  },
  {
   "cell_type": "code",
   "execution_count": 21,
   "id": "52326689-84a8-4b8f-a881-7c68780f62c9",
   "metadata": {
    "id": "52326689-84a8-4b8f-a881-7c68780f62c9"
   },
   "outputs": [
    {
     "name": "stdout",
     "output_type": "stream",
     "text": [
      "Las líneas duplicadas en el Data Frame departments son 0 de un total de 4545007 líneas.\n"
     ]
    }
   ],
   "source": [
    "# Revisa si hay filas totalmente duplicadas\n",
    "print(f\"Las líneas duplicadas en el Data Frame departments son\", df_order_products.duplicated().sum(), \"de un total de\", len(df_order_products), \"líneas.\")"
   ]
  },
  {
   "cell_type": "code",
   "execution_count": 22,
   "id": "7b861391",
   "metadata": {
    "id": "7b861391"
   },
   "outputs": [
    {
     "data": {
      "text/plain": [
       "order_id             0.0\n",
       "product_id           0.0\n",
       "add_to_cart_order    0.0\n",
       "reordered            0.0\n",
       "dtype: float64"
      ]
     },
     "execution_count": 22,
     "metadata": {},
     "output_type": "execute_result"
    }
   ],
   "source": [
    "# Vuelve a verificar si hay cualquier otro duplicado engañoso\n",
    "df_order_products[df_order_products.duplicated()].sum()"
   ]
  },
  {
   "cell_type": "markdown",
   "id": "0b890492",
   "metadata": {
    "id": "0b890492"
   },
   "source": [
    "Describe brevemente tus hallazgos y lo que hiciste con ellos.\n",
    "\n",
    "En el último Data Frame de las órdenes de los productos, no se encontraron ningún valor duplicado, por lo que no se realizaron acciones algunas."
   ]
  },
  {
   "cell_type": "markdown",
   "id": "cdad2a10",
   "metadata": {},
   "source": [
    "[Volver a Contenidos](#back)"
   ]
  },
  {
   "cell_type": "markdown",
   "id": "b07eadf5",
   "metadata": {},
   "source": [
    "<div class=\"alert alert-block alert-success\">\n",
    "<b>Comentario del revisor (1ra Iteración)</b> <a class=“tocSkip”></a>\n",
    "\n",
    "Muy buen trabajos con los datos duplicados. Hacer una revisión de este tipo de valores es fundamental para evitar afectaciones en el comportamiento del conjunto de los datos que nos lleven a conclusiones erroneas.\n",
    "\n",
    "</div>"
   ]
  },
  {
   "cell_type": "markdown",
   "id": "1e46de76",
   "metadata": {
    "id": "1e46de76"
   },
   "source": [
    "## Encuentra y elimina los valores ausentes <a id='missing'></a>\n",
    "\n",
    "Al trabajar con valores duplicados, pudimos observar que también nos falta investigar valores ausentes:\n",
    "\n",
    "* La columna `'product_name'` de la tabla products.\n",
    "* La columna `'days_since_prior_order'` de la tabla orders.\n",
    "* La columna `'add_to_cart_order'` de la tabla order_productos."
   ]
  },
  {
   "cell_type": "markdown",
   "id": "c0aebd78",
   "metadata": {
    "id": "c0aebd78"
   },
   "source": [
    "### `products` data frame"
   ]
  },
  {
   "cell_type": "code",
   "execution_count": 23,
   "id": "fe4a8b0f",
   "metadata": {
    "id": "fe4a8b0f"
   },
   "outputs": [
    {
     "name": "stdout",
     "output_type": "stream",
     "text": [
      "product_id          0\n",
      "product_name     1258\n",
      "aisle_id            0\n",
      "department_id       0\n",
      "dtype: int64\n"
     ]
    },
    {
     "data": {
      "text/plain": [
       "NaN                                             1258\n",
       "GREEN TEA WITH GINSENG AND HONEY                   3\n",
       "PINEAPPLE SLICES IN 100% PINEAPPLE JUICE           2\n",
       "SOLID WHITE ALBACORE TUNA IN SPRING WATER          2\n",
       "MATZO BALL MIX                                     2\n",
       "                                                ... \n",
       "100% ORGANIC COCONUT WATER                         1\n",
       "ARTISAN BAGUETTE                                   1\n",
       "WHOLE JERSEY MILK LOW PASTEURIZED                  1\n",
       "YOKIDS BLUEBERRY & STRAWBERRY/VANILLA YOGURT       1\n",
       "ALL NATURAL HICKORY LIQUID SMOKE                   1\n",
       "Name: product_name, Length: 48333, dtype: int64"
      ]
     },
     "execution_count": 23,
     "metadata": {},
     "output_type": "execute_result"
    }
   ],
   "source": [
    "# Encuentra los valores ausentes en la columna 'product_name'\n",
    "print(df_products.isna().sum())   # realizamos el conteo de los valores ausentes en cada columna\n",
    "df_products['product_name'].value_counts(dropna=False)   # filtramos los valores ausentes en la columna de los nombres de productos y los contamos"
   ]
  },
  {
   "cell_type": "markdown",
   "id": "-A6x1AbJhjkp",
   "metadata": {
    "id": "-A6x1AbJhjkp"
   },
   "source": [
    "Describe brevemente cuáles son tus hallazgos.\n",
    "\n",
    "En el Data Frame de los productos se encuentra un total de 1,258 valores ausentes en la columna llamada 'product_name', estos se representan con las siglas NaN que significa Not a Number."
   ]
  },
  {
   "cell_type": "code",
   "execution_count": 24,
   "id": "e96167bc",
   "metadata": {
    "id": "e96167bc"
   },
   "outputs": [
    {
     "data": {
      "text/html": [
       "<div>\n",
       "<style scoped>\n",
       "    .dataframe tbody tr th:only-of-type {\n",
       "        vertical-align: middle;\n",
       "    }\n",
       "\n",
       "    .dataframe tbody tr th {\n",
       "        vertical-align: top;\n",
       "    }\n",
       "\n",
       "    .dataframe thead th {\n",
       "        text-align: right;\n",
       "    }\n",
       "</style>\n",
       "<table border=\"1\" class=\"dataframe\">\n",
       "  <thead>\n",
       "    <tr style=\"text-align: right;\">\n",
       "      <th></th>\n",
       "      <th>product_id</th>\n",
       "      <th>product_name</th>\n",
       "      <th>aisle_id</th>\n",
       "      <th>department_id</th>\n",
       "    </tr>\n",
       "  </thead>\n",
       "  <tbody>\n",
       "    <tr>\n",
       "      <th>37</th>\n",
       "      <td>38</td>\n",
       "      <td>NaN</td>\n",
       "      <td>100</td>\n",
       "      <td>21</td>\n",
       "    </tr>\n",
       "    <tr>\n",
       "      <th>71</th>\n",
       "      <td>72</td>\n",
       "      <td>NaN</td>\n",
       "      <td>100</td>\n",
       "      <td>21</td>\n",
       "    </tr>\n",
       "    <tr>\n",
       "      <th>109</th>\n",
       "      <td>110</td>\n",
       "      <td>NaN</td>\n",
       "      <td>100</td>\n",
       "      <td>21</td>\n",
       "    </tr>\n",
       "    <tr>\n",
       "      <th>296</th>\n",
       "      <td>297</td>\n",
       "      <td>NaN</td>\n",
       "      <td>100</td>\n",
       "      <td>21</td>\n",
       "    </tr>\n",
       "    <tr>\n",
       "      <th>416</th>\n",
       "      <td>417</td>\n",
       "      <td>NaN</td>\n",
       "      <td>100</td>\n",
       "      <td>21</td>\n",
       "    </tr>\n",
       "    <tr>\n",
       "      <th>436</th>\n",
       "      <td>437</td>\n",
       "      <td>NaN</td>\n",
       "      <td>100</td>\n",
       "      <td>21</td>\n",
       "    </tr>\n",
       "    <tr>\n",
       "      <th>439</th>\n",
       "      <td>440</td>\n",
       "      <td>NaN</td>\n",
       "      <td>100</td>\n",
       "      <td>21</td>\n",
       "    </tr>\n",
       "    <tr>\n",
       "      <th>471</th>\n",
       "      <td>472</td>\n",
       "      <td>NaN</td>\n",
       "      <td>100</td>\n",
       "      <td>21</td>\n",
       "    </tr>\n",
       "    <tr>\n",
       "      <th>490</th>\n",
       "      <td>491</td>\n",
       "      <td>NaN</td>\n",
       "      <td>100</td>\n",
       "      <td>21</td>\n",
       "    </tr>\n",
       "    <tr>\n",
       "      <th>555</th>\n",
       "      <td>556</td>\n",
       "      <td>NaN</td>\n",
       "      <td>100</td>\n",
       "      <td>21</td>\n",
       "    </tr>\n",
       "  </tbody>\n",
       "</table>\n",
       "</div>"
      ],
      "text/plain": [
       "     product_id product_name  aisle_id  department_id\n",
       "37           38          NaN       100             21\n",
       "71           72          NaN       100             21\n",
       "109         110          NaN       100             21\n",
       "296         297          NaN       100             21\n",
       "416         417          NaN       100             21\n",
       "436         437          NaN       100             21\n",
       "439         440          NaN       100             21\n",
       "471         472          NaN       100             21\n",
       "490         491          NaN       100             21\n",
       "555         556          NaN       100             21"
      ]
     },
     "execution_count": 24,
     "metadata": {},
     "output_type": "execute_result"
    }
   ],
   "source": [
    "#  ¿Todos los nombres de productos ausentes están relacionados con el pasillo con ID 100?\n",
    "df_products_missing = df_products[df_products['product_name'].isna()]   # creamos un DataFrame con los valores ausentes\n",
    "df_products_missing.head(10)   # imprimimos el DataFrame filtrado con valores ausentes para revisarlo"
   ]
  },
  {
   "cell_type": "markdown",
   "id": "WRpIfXRphpSL",
   "metadata": {
    "id": "WRpIfXRphpSL"
   },
   "source": [
    "Describe brevemente cuáles son tus hallazgos.\n",
    "\n",
    "En el Data Frame de productos tenemos valores ausentes en la coliumna 'product_name', revisando las primeras 10 líneas que tienen valores ausentes, notamos que todas están relacionadas con el ID del pasillo número 100."
   ]
  },
  {
   "cell_type": "code",
   "execution_count": 25,
   "id": "8fd0a541",
   "metadata": {
    "id": "8fd0a541"
   },
   "outputs": [
    {
     "data": {
      "text/html": [
       "<div>\n",
       "<style scoped>\n",
       "    .dataframe tbody tr th:only-of-type {\n",
       "        vertical-align: middle;\n",
       "    }\n",
       "\n",
       "    .dataframe tbody tr th {\n",
       "        vertical-align: top;\n",
       "    }\n",
       "\n",
       "    .dataframe thead th {\n",
       "        text-align: right;\n",
       "    }\n",
       "</style>\n",
       "<table border=\"1\" class=\"dataframe\">\n",
       "  <thead>\n",
       "    <tr style=\"text-align: right;\">\n",
       "      <th></th>\n",
       "      <th>product_id</th>\n",
       "      <th>product_name</th>\n",
       "      <th>aisle_id</th>\n",
       "      <th>department_id</th>\n",
       "    </tr>\n",
       "  </thead>\n",
       "  <tbody>\n",
       "    <tr>\n",
       "      <th>40381</th>\n",
       "      <td>40382</td>\n",
       "      <td>NaN</td>\n",
       "      <td>100</td>\n",
       "      <td>21</td>\n",
       "    </tr>\n",
       "    <tr>\n",
       "      <th>5173</th>\n",
       "      <td>5174</td>\n",
       "      <td>NaN</td>\n",
       "      <td>100</td>\n",
       "      <td>21</td>\n",
       "    </tr>\n",
       "    <tr>\n",
       "      <th>25974</th>\n",
       "      <td>25975</td>\n",
       "      <td>NaN</td>\n",
       "      <td>100</td>\n",
       "      <td>21</td>\n",
       "    </tr>\n",
       "    <tr>\n",
       "      <th>43558</th>\n",
       "      <td>43559</td>\n",
       "      <td>NaN</td>\n",
       "      <td>100</td>\n",
       "      <td>21</td>\n",
       "    </tr>\n",
       "    <tr>\n",
       "      <th>38208</th>\n",
       "      <td>38209</td>\n",
       "      <td>NaN</td>\n",
       "      <td>100</td>\n",
       "      <td>21</td>\n",
       "    </tr>\n",
       "    <tr>\n",
       "      <th>8151</th>\n",
       "      <td>8152</td>\n",
       "      <td>NaN</td>\n",
       "      <td>100</td>\n",
       "      <td>21</td>\n",
       "    </tr>\n",
       "    <tr>\n",
       "      <th>27766</th>\n",
       "      <td>27767</td>\n",
       "      <td>NaN</td>\n",
       "      <td>100</td>\n",
       "      <td>21</td>\n",
       "    </tr>\n",
       "    <tr>\n",
       "      <th>37087</th>\n",
       "      <td>37088</td>\n",
       "      <td>NaN</td>\n",
       "      <td>100</td>\n",
       "      <td>21</td>\n",
       "    </tr>\n",
       "    <tr>\n",
       "      <th>39046</th>\n",
       "      <td>39047</td>\n",
       "      <td>NaN</td>\n",
       "      <td>100</td>\n",
       "      <td>21</td>\n",
       "    </tr>\n",
       "    <tr>\n",
       "      <th>16808</th>\n",
       "      <td>16809</td>\n",
       "      <td>NaN</td>\n",
       "      <td>100</td>\n",
       "      <td>21</td>\n",
       "    </tr>\n",
       "  </tbody>\n",
       "</table>\n",
       "</div>"
      ],
      "text/plain": [
       "       product_id product_name  aisle_id  department_id\n",
       "40381       40382          NaN       100             21\n",
       "5173         5174          NaN       100             21\n",
       "25974       25975          NaN       100             21\n",
       "43558       43559          NaN       100             21\n",
       "38208       38209          NaN       100             21\n",
       "8151         8152          NaN       100             21\n",
       "27766       27767          NaN       100             21\n",
       "37087       37088          NaN       100             21\n",
       "39046       39047          NaN       100             21\n",
       "16808       16809          NaN       100             21"
      ]
     },
     "execution_count": 25,
     "metadata": {},
     "output_type": "execute_result"
    }
   ],
   "source": [
    "# ¿Todos los nombres de productos ausentes están relacionados con el departamento con ID 21?\n",
    "df_products_missing = df_products[df_products['product_name'].isna()]   # creamos un DataFrame con los valores ausentes\n",
    "df_products_missing.sample(10)   # imprimimos una muestra aleatoria con valores ausentes para revisarlas"
   ]
  },
  {
   "cell_type": "markdown",
   "id": "qDpdYn1Fht_I",
   "metadata": {
    "id": "qDpdYn1Fht_I"
   },
   "source": [
    "Describe brevemente cuáles son tus hallazgos.\n",
    "\n",
    "Con el nuevo Data Frame filtrado por los productos faltantes, hemos notado que el número de pasillo 100 se relaciona con el ID del departamento 21, inclusive mirando una muestra aleatoria de 10 líneas del data frame."
   ]
  },
  {
   "cell_type": "code",
   "execution_count": 26,
   "id": "325c3464",
   "metadata": {
    "id": "325c3464"
   },
   "outputs": [
    {
     "data": {
      "text/html": [
       "<div>\n",
       "<style scoped>\n",
       "    .dataframe tbody tr th:only-of-type {\n",
       "        vertical-align: middle;\n",
       "    }\n",
       "\n",
       "    .dataframe tbody tr th {\n",
       "        vertical-align: top;\n",
       "    }\n",
       "\n",
       "    .dataframe thead th {\n",
       "        text-align: right;\n",
       "    }\n",
       "</style>\n",
       "<table border=\"1\" class=\"dataframe\">\n",
       "  <thead>\n",
       "    <tr style=\"text-align: right;\">\n",
       "      <th></th>\n",
       "      <th>product_id</th>\n",
       "      <th>product_name</th>\n",
       "      <th>aisle_id</th>\n",
       "      <th>department_id</th>\n",
       "    </tr>\n",
       "  </thead>\n",
       "  <tbody>\n",
       "    <tr>\n",
       "      <th>7278</th>\n",
       "      <td>7279</td>\n",
       "      <td>NaN</td>\n",
       "      <td>100</td>\n",
       "      <td>21</td>\n",
       "    </tr>\n",
       "    <tr>\n",
       "      <th>15001</th>\n",
       "      <td>15002</td>\n",
       "      <td>NaN</td>\n",
       "      <td>100</td>\n",
       "      <td>21</td>\n",
       "    </tr>\n",
       "    <tr>\n",
       "      <th>4508</th>\n",
       "      <td>4509</td>\n",
       "      <td>NaN</td>\n",
       "      <td>100</td>\n",
       "      <td>21</td>\n",
       "    </tr>\n",
       "    <tr>\n",
       "      <th>28029</th>\n",
       "      <td>28030</td>\n",
       "      <td>NaN</td>\n",
       "      <td>100</td>\n",
       "      <td>21</td>\n",
       "    </tr>\n",
       "    <tr>\n",
       "      <th>8275</th>\n",
       "      <td>8276</td>\n",
       "      <td>NaN</td>\n",
       "      <td>100</td>\n",
       "      <td>21</td>\n",
       "    </tr>\n",
       "    <tr>\n",
       "      <th>18423</th>\n",
       "      <td>18424</td>\n",
       "      <td>NaN</td>\n",
       "      <td>100</td>\n",
       "      <td>21</td>\n",
       "    </tr>\n",
       "    <tr>\n",
       "      <th>32927</th>\n",
       "      <td>32928</td>\n",
       "      <td>NaN</td>\n",
       "      <td>100</td>\n",
       "      <td>21</td>\n",
       "    </tr>\n",
       "    <tr>\n",
       "      <th>4072</th>\n",
       "      <td>4073</td>\n",
       "      <td>NaN</td>\n",
       "      <td>100</td>\n",
       "      <td>21</td>\n",
       "    </tr>\n",
       "    <tr>\n",
       "      <th>9374</th>\n",
       "      <td>9375</td>\n",
       "      <td>NaN</td>\n",
       "      <td>100</td>\n",
       "      <td>21</td>\n",
       "    </tr>\n",
       "    <tr>\n",
       "      <th>7034</th>\n",
       "      <td>7035</td>\n",
       "      <td>NaN</td>\n",
       "      <td>100</td>\n",
       "      <td>21</td>\n",
       "    </tr>\n",
       "    <tr>\n",
       "      <th>10511</th>\n",
       "      <td>10512</td>\n",
       "      <td>NaN</td>\n",
       "      <td>100</td>\n",
       "      <td>21</td>\n",
       "    </tr>\n",
       "    <tr>\n",
       "      <th>33050</th>\n",
       "      <td>33051</td>\n",
       "      <td>NaN</td>\n",
       "      <td>100</td>\n",
       "      <td>21</td>\n",
       "    </tr>\n",
       "    <tr>\n",
       "      <th>10138</th>\n",
       "      <td>10139</td>\n",
       "      <td>NaN</td>\n",
       "      <td>100</td>\n",
       "      <td>21</td>\n",
       "    </tr>\n",
       "    <tr>\n",
       "      <th>14898</th>\n",
       "      <td>14899</td>\n",
       "      <td>NaN</td>\n",
       "      <td>100</td>\n",
       "      <td>21</td>\n",
       "    </tr>\n",
       "    <tr>\n",
       "      <th>36429</th>\n",
       "      <td>36430</td>\n",
       "      <td>NaN</td>\n",
       "      <td>100</td>\n",
       "      <td>21</td>\n",
       "    </tr>\n",
       "    <tr>\n",
       "      <th>9099</th>\n",
       "      <td>9100</td>\n",
       "      <td>NaN</td>\n",
       "      <td>100</td>\n",
       "      <td>21</td>\n",
       "    </tr>\n",
       "    <tr>\n",
       "      <th>12690</th>\n",
       "      <td>12691</td>\n",
       "      <td>NaN</td>\n",
       "      <td>100</td>\n",
       "      <td>21</td>\n",
       "    </tr>\n",
       "    <tr>\n",
       "      <th>18250</th>\n",
       "      <td>18251</td>\n",
       "      <td>NaN</td>\n",
       "      <td>100</td>\n",
       "      <td>21</td>\n",
       "    </tr>\n",
       "    <tr>\n",
       "      <th>2686</th>\n",
       "      <td>2687</td>\n",
       "      <td>NaN</td>\n",
       "      <td>100</td>\n",
       "      <td>21</td>\n",
       "    </tr>\n",
       "    <tr>\n",
       "      <th>18471</th>\n",
       "      <td>18472</td>\n",
       "      <td>NaN</td>\n",
       "      <td>100</td>\n",
       "      <td>21</td>\n",
       "    </tr>\n",
       "  </tbody>\n",
       "</table>\n",
       "</div>"
      ],
      "text/plain": [
       "       product_id product_name  aisle_id  department_id\n",
       "7278         7279          NaN       100             21\n",
       "15001       15002          NaN       100             21\n",
       "4508         4509          NaN       100             21\n",
       "28029       28030          NaN       100             21\n",
       "8275         8276          NaN       100             21\n",
       "18423       18424          NaN       100             21\n",
       "32927       32928          NaN       100             21\n",
       "4072         4073          NaN       100             21\n",
       "9374         9375          NaN       100             21\n",
       "7034         7035          NaN       100             21\n",
       "10511       10512          NaN       100             21\n",
       "33050       33051          NaN       100             21\n",
       "10138       10139          NaN       100             21\n",
       "14898       14899          NaN       100             21\n",
       "36429       36430          NaN       100             21\n",
       "9099         9100          NaN       100             21\n",
       "12690       12691          NaN       100             21\n",
       "18250       18251          NaN       100             21\n",
       "2686         2687          NaN       100             21\n",
       "18471       18472          NaN       100             21"
      ]
     },
     "execution_count": 26,
     "metadata": {},
     "output_type": "execute_result"
    }
   ],
   "source": [
    "# Usa las tablas department y aisle para revisar los datos del pasillo con ID 100 y el departamento con ID 21.\n",
    "df_products_missing.sample(20)    # imprimimos una muestra aleatoria de 20 líneas para revisal los pasillos y departametos"
   ]
  },
  {
   "cell_type": "markdown",
   "id": "nqhSTUPhhvEJ",
   "metadata": {
    "id": "nqhSTUPhhvEJ"
   },
   "source": [
    "Describe brevemente cuáles son tus hallazgos.\n",
    "\n",
    "Ya tenemos agrupado un nuevo Data Frame con valores ausentes en la columna 'product_name', la columna 'aisle_id' es igual a 100 y la columna 'department_id' es igual a 21.\n",
    "\n",
    "Podemos notar que tanto los 'product_id' como los 'product_name' son completamente diferentes."
   ]
  },
  {
   "cell_type": "code",
   "execution_count": 27,
   "id": "6b295120",
   "metadata": {
    "id": "6b295120"
   },
   "outputs": [
    {
     "data": {
      "text/plain": [
       "product_id       0\n",
       "product_name     0\n",
       "aisle_id         0\n",
       "department_id    0\n",
       "dtype: int64"
      ]
     },
     "execution_count": 27,
     "metadata": {},
     "output_type": "execute_result"
    }
   ],
   "source": [
    "# Completa los nombres de productos ausentes con 'Unknown'\n",
    "df_products['product_name'] = df_products['product_name'].fillna('Unknown')   # rellenamos los valores ausentes con la palabra 'unknown' o desconocido en español.\n",
    "df_products.isna().sum()   # realizamos la suma de los valores ausentes"
   ]
  },
  {
   "cell_type": "code",
   "execution_count": 28,
   "id": "c18a5af8",
   "metadata": {},
   "outputs": [
    {
     "data": {
      "text/plain": [
       "Unknown                              1258\n",
       "GREEN TEA WITH GINSENG AND HONEY        3\n",
       "EDAMAME SOYBEANS IN PODS                2\n",
       "GLUTEN FREE SPAGHETTI                   2\n",
       "CHIPOTLE PEPPERS IN ADOBO SAUCE         2\n",
       "                                     ... \n",
       "NATURAL SHARP CHEDDAR CHEESE            1\n",
       "DISHMATE LAVENDER DISH LIQUID           1\n",
       "SLIM CUT MOZZARELLA CHEESE SLICES       1\n",
       "LIMITED EDITION WHITE PIZZA             1\n",
       "ALL NATURAL HICKORY LIQUID SMOKE        1\n",
       "Name: product_name, Length: 48333, dtype: int64"
      ]
     },
     "execution_count": 28,
     "metadata": {},
     "output_type": "execute_result"
    }
   ],
   "source": [
    "# Verificamos los valores marcados como 'unknown' (desconocidos)\n",
    "df_products['product_name'].value_counts(dropna=False)   # Realizamos un conteo de los nombres de los productos."
   ]
  },
  {
   "cell_type": "markdown",
   "id": "fc70e5ad",
   "metadata": {
    "id": "fc70e5ad"
   },
   "source": [
    "Describe brevemente tus hallazgos y lo que hiciste con ellos.\n",
    "\n",
    "Una vez que los valores ausentes en la columna 'product_name' ya han sido sustituidos por la palabra 'Unknown' o desconocido en español.\n",
    "Volvemos a comprobar con el conteo de los valores ausentes obteniendo 0 y finalmente contando el número de veces que se repite cada nombre, obteniendo que Unknow se repite 1,258 veces, muchas más que los demás nombres con 3, 2 y 1 vez repetido cada nombre de los productos."
   ]
  },
  {
   "cell_type": "markdown",
   "id": "ec259333",
   "metadata": {},
   "source": [
    "[Volver a Contenidos](#back)"
   ]
  },
  {
   "cell_type": "markdown",
   "id": "b2e4da2d",
   "metadata": {},
   "source": [
    "<div class=\"alert alert-block alert-info\">\n",
    "<b>Respuesta del estudiante</b> <a class=“tocSkip”></a>\n",
    "Alejandro, en esta sección de búsqueda y eliminación de duplicados, regresé ya que no estaba completada del todo.\n",
    "En el Data Frame de instacart_orders se tienen valores ausentes, los cuales se analizaron, se sustituyeron y cambiaron de tipo de la siguiente manera:\n",
    "</div>"
   ]
  },
  {
   "cell_type": "markdown",
   "id": "7eb45c86",
   "metadata": {
    "id": "7eb45c86"
   },
   "source": [
    "### `instacart_orders` data frame"
   ]
  },
  {
   "cell_type": "code",
   "execution_count": 29,
   "id": "93e41d96",
   "metadata": {
    "id": "93e41d96"
   },
   "outputs": [
    {
     "name": "stdout",
     "output_type": "stream",
     "text": [
      "order_id                      0\n",
      "user_id                       0\n",
      "order_number                  0\n",
      "order_dow                     0\n",
      "order_hour_of_day             0\n",
      "days_since_prior_order    28819\n",
      "dtype: int64\n"
     ]
    },
    {
     "data": {
      "text/html": [
       "<div>\n",
       "<style scoped>\n",
       "    .dataframe tbody tr th:only-of-type {\n",
       "        vertical-align: middle;\n",
       "    }\n",
       "\n",
       "    .dataframe tbody tr th {\n",
       "        vertical-align: top;\n",
       "    }\n",
       "\n",
       "    .dataframe thead th {\n",
       "        text-align: right;\n",
       "    }\n",
       "</style>\n",
       "<table border=\"1\" class=\"dataframe\">\n",
       "  <thead>\n",
       "    <tr style=\"text-align: right;\">\n",
       "      <th></th>\n",
       "      <th>order_id</th>\n",
       "      <th>user_id</th>\n",
       "      <th>order_number</th>\n",
       "      <th>order_dow</th>\n",
       "      <th>order_hour_of_day</th>\n",
       "      <th>days_since_prior_order</th>\n",
       "    </tr>\n",
       "  </thead>\n",
       "  <tbody>\n",
       "    <tr>\n",
       "      <th>0</th>\n",
       "      <td>NaN</td>\n",
       "      <td>NaN</td>\n",
       "      <td>NaN</td>\n",
       "      <td>NaN</td>\n",
       "      <td>NaN</td>\n",
       "      <td>NaN</td>\n",
       "    </tr>\n",
       "    <tr>\n",
       "      <th>1</th>\n",
       "      <td>NaN</td>\n",
       "      <td>NaN</td>\n",
       "      <td>NaN</td>\n",
       "      <td>NaN</td>\n",
       "      <td>NaN</td>\n",
       "      <td>NaN</td>\n",
       "    </tr>\n",
       "    <tr>\n",
       "      <th>2</th>\n",
       "      <td>NaN</td>\n",
       "      <td>NaN</td>\n",
       "      <td>NaN</td>\n",
       "      <td>NaN</td>\n",
       "      <td>NaN</td>\n",
       "      <td>NaN</td>\n",
       "    </tr>\n",
       "    <tr>\n",
       "      <th>3</th>\n",
       "      <td>NaN</td>\n",
       "      <td>NaN</td>\n",
       "      <td>NaN</td>\n",
       "      <td>NaN</td>\n",
       "      <td>NaN</td>\n",
       "      <td>NaN</td>\n",
       "    </tr>\n",
       "    <tr>\n",
       "      <th>4</th>\n",
       "      <td>NaN</td>\n",
       "      <td>NaN</td>\n",
       "      <td>NaN</td>\n",
       "      <td>NaN</td>\n",
       "      <td>NaN</td>\n",
       "      <td>NaN</td>\n",
       "    </tr>\n",
       "    <tr>\n",
       "      <th>...</th>\n",
       "      <td>...</td>\n",
       "      <td>...</td>\n",
       "      <td>...</td>\n",
       "      <td>...</td>\n",
       "      <td>...</td>\n",
       "      <td>...</td>\n",
       "    </tr>\n",
       "    <tr>\n",
       "      <th>478962</th>\n",
       "      <td>NaN</td>\n",
       "      <td>NaN</td>\n",
       "      <td>NaN</td>\n",
       "      <td>NaN</td>\n",
       "      <td>NaN</td>\n",
       "      <td>NaN</td>\n",
       "    </tr>\n",
       "    <tr>\n",
       "      <th>478963</th>\n",
       "      <td>NaN</td>\n",
       "      <td>NaN</td>\n",
       "      <td>NaN</td>\n",
       "      <td>NaN</td>\n",
       "      <td>NaN</td>\n",
       "      <td>NaN</td>\n",
       "    </tr>\n",
       "    <tr>\n",
       "      <th>478964</th>\n",
       "      <td>NaN</td>\n",
       "      <td>NaN</td>\n",
       "      <td>NaN</td>\n",
       "      <td>NaN</td>\n",
       "      <td>NaN</td>\n",
       "      <td>NaN</td>\n",
       "    </tr>\n",
       "    <tr>\n",
       "      <th>478965</th>\n",
       "      <td>NaN</td>\n",
       "      <td>NaN</td>\n",
       "      <td>NaN</td>\n",
       "      <td>NaN</td>\n",
       "      <td>NaN</td>\n",
       "      <td>NaN</td>\n",
       "    </tr>\n",
       "    <tr>\n",
       "      <th>478966</th>\n",
       "      <td>NaN</td>\n",
       "      <td>NaN</td>\n",
       "      <td>NaN</td>\n",
       "      <td>NaN</td>\n",
       "      <td>NaN</td>\n",
       "      <td>NaN</td>\n",
       "    </tr>\n",
       "  </tbody>\n",
       "</table>\n",
       "<p>478967 rows × 6 columns</p>\n",
       "</div>"
      ],
      "text/plain": [
       "        order_id  user_id  order_number  order_dow  order_hour_of_day  \\\n",
       "0            NaN      NaN           NaN        NaN                NaN   \n",
       "1            NaN      NaN           NaN        NaN                NaN   \n",
       "2            NaN      NaN           NaN        NaN                NaN   \n",
       "3            NaN      NaN           NaN        NaN                NaN   \n",
       "4            NaN      NaN           NaN        NaN                NaN   \n",
       "...          ...      ...           ...        ...                ...   \n",
       "478962       NaN      NaN           NaN        NaN                NaN   \n",
       "478963       NaN      NaN           NaN        NaN                NaN   \n",
       "478964       NaN      NaN           NaN        NaN                NaN   \n",
       "478965       NaN      NaN           NaN        NaN                NaN   \n",
       "478966       NaN      NaN           NaN        NaN                NaN   \n",
       "\n",
       "        days_since_prior_order  \n",
       "0                          NaN  \n",
       "1                          NaN  \n",
       "2                          NaN  \n",
       "3                          NaN  \n",
       "4                          NaN  \n",
       "...                        ...  \n",
       "478962                     NaN  \n",
       "478963                     NaN  \n",
       "478964                     NaN  \n",
       "478965                     NaN  \n",
       "478966                     NaN  \n",
       "\n",
       "[478967 rows x 6 columns]"
      ]
     },
     "execution_count": 29,
     "metadata": {},
     "output_type": "execute_result"
    }
   ],
   "source": [
    "# Encuentra los valores ausentes\n",
    "print(df_instacart_orders.isna().sum())   # imprimimos la suma de los valores ausentes por columna\n",
    "df_instacart_orders[df_instacart_orders.isna()]   # filtramos los valores ausentes para revisarlos"
   ]
  },
  {
   "cell_type": "code",
   "execution_count": 30,
   "id": "166e5a86",
   "metadata": {
    "id": "166e5a86"
   },
   "outputs": [
    {
     "data": {
      "text/plain": [
       "NaN    478967\n",
       "Name: days_since_prior_order, dtype: int64"
      ]
     },
     "execution_count": 30,
     "metadata": {},
     "output_type": "execute_result"
    }
   ],
   "source": [
    "# ¿Hay algún valor ausente que no sea el primer pedido del cliente?\n",
    "df_instacart_orders_missing = df_instacart_orders[df_instacart_orders.isna()]   # creamos un DataFrame con los valores ausentes\n",
    "df_instacart_orders_missing['days_since_prior_order'].value_counts(dropna=False)   # contamos los valores en la columna 'days_since_prior_order'"
   ]
  },
  {
   "cell_type": "code",
   "execution_count": 31,
   "id": "ba30bb67",
   "metadata": {},
   "outputs": [
    {
     "name": "stdout",
     "output_type": "stream",
     "text": [
      "order_id                  0\n",
      "user_id                   0\n",
      "order_number              0\n",
      "order_dow                 0\n",
      "order_hour_of_day         0\n",
      "days_since_prior_order    0\n",
      "dtype: int64\n"
     ]
    }
   ],
   "source": [
    "# Rellenamos los valores ausentes en el DataFrame de ordenes de Instacart\n",
    "df_instacart_orders['days_since_prior_order'] = df_instacart_orders['days_since_prior_order'].fillna(0)\n",
    "print(df_instacart_orders.isna().sum())   # imprimimos la suma de los valores ausentes por columna"
   ]
  },
  {
   "cell_type": "code",
   "execution_count": 32,
   "id": "29fba5e3",
   "metadata": {},
   "outputs": [
    {
     "name": "stdout",
     "output_type": "stream",
     "text": [
      "<class 'pandas.core.frame.DataFrame'>\n",
      "RangeIndex: 478967 entries, 0 to 478966\n",
      "Data columns (total 6 columns):\n",
      " #   Column                  Non-Null Count   Dtype\n",
      "---  ------                  --------------   -----\n",
      " 0   order_id                478967 non-null  int64\n",
      " 1   user_id                 478967 non-null  int64\n",
      " 2   order_number            478967 non-null  int64\n",
      " 3   order_dow               478967 non-null  int64\n",
      " 4   order_hour_of_day       478967 non-null  int64\n",
      " 5   days_since_prior_order  478967 non-null  int64\n",
      "dtypes: int64(6)\n",
      "memory usage: 21.9 MB\n"
     ]
    }
   ],
   "source": [
    "# Se convierten los valores de la columna 'days_since_prior_order' de tipo 'float64' a tipo 'int64'\n",
    "df_instacart_orders['days_since_prior_order'] = df_instacart_orders['days_since_prior_order'].astype('int64')\n",
    "df_instacart_orders.info()   # imprimimos la información general para verificar el tipo de datos"
   ]
  },
  {
   "cell_type": "markdown",
   "id": "4e23d089",
   "metadata": {
    "id": "4e23d089"
   },
   "source": [
    "Describe brevemente tus hallazgos y lo que hiciste con ellos.\n",
    "\n",
    "Al buscar valores ausentes en el DataFrame instacart_orders se encontraron 28,819 en 'days_since_prior_order'.\n",
    "\n",
    "Se resguardaron todas las líneas con valores ausentes en un nuevo DataFrame llamado 'df_instacart_orders_missing'.\n",
    "\n",
    "Finalmente se decidió reemplazar todos los valores ausentes con \"0\" (cero), y también se covirtieron los datos del tipo float a int64, para homologar la información de los días transcurridos desde el primer pedido."
   ]
  },
  {
   "cell_type": "markdown",
   "id": "5044a68e",
   "metadata": {},
   "source": [
    "[Volver a Contenidos](#back)"
   ]
  },
  {
   "cell_type": "markdown",
   "id": "65bea91e",
   "metadata": {},
   "source": [
    "<div class=\"alert alert-block alert-info\">\n",
    "<b>Respuesta del estudiante</b> <a class=“tocSkip”></a>\n",
    "Alejandro, en esta sección de búsqueda y eliminación de duplicados, regresé ya que no estaba completada del todo.\n",
    "En el Data Frame de order_product se tienen valores ausentes, los cuales se analizaron, se sustituyeron y cambiaron de tipo de la siguiente manera:\n",
    "</div>"
   ]
  },
  {
   "cell_type": "markdown",
   "id": "69dc9ca4",
   "metadata": {
    "id": "69dc9ca4"
   },
   "source": [
    "### `order_products` data frame"
   ]
  },
  {
   "cell_type": "code",
   "execution_count": 33,
   "id": "b8240253",
   "metadata": {
    "id": "b8240253"
   },
   "outputs": [
    {
     "name": "stdout",
     "output_type": "stream",
     "text": [
      "order_id               0\n",
      "product_id             0\n",
      "add_to_cart_order    836\n",
      "reordered              0\n",
      "dtype: int64\n"
     ]
    },
    {
     "data": {
      "text/plain": [
       "1.0     450046\n",
       "2.0     428199\n",
       "3.0     401907\n",
       "4.0     372861\n",
       "5.0     341807\n",
       "         ...  \n",
       "60.0       127\n",
       "61.0       114\n",
       "62.0        98\n",
       "63.0        87\n",
       "64.0        75\n",
       "Name: add_to_cart_order, Length: 65, dtype: int64"
      ]
     },
     "execution_count": 33,
     "metadata": {},
     "output_type": "execute_result"
    }
   ],
   "source": [
    "print(df_order_products.isna().sum())   # realizamos el conteo de los valores ausentes en cada columna\n",
    "df_order_products['add_to_cart_order'].value_counts(dropna=False)   # filtramos los valores ausentes en la columna 'add_to_cart_order' y los contamos"
   ]
  },
  {
   "cell_type": "code",
   "execution_count": 34,
   "id": "9a78e5ee",
   "metadata": {
    "id": "9a78e5ee"
   },
   "outputs": [
    {
     "name": "stdout",
     "output_type": "stream",
     "text": [
      "1.0\n",
      "64.0\n"
     ]
    }
   ],
   "source": [
    "# ¿Cuáles son los valores mínimos y máximos en esta columna?\n",
    "print(df_order_products['add_to_cart_order'].min())   # valor mínimo\n",
    "print(df_order_products['add_to_cart_order'].max())   # valor máximo"
   ]
  },
  {
   "cell_type": "markdown",
   "id": "-Z2Ja215jW78",
   "metadata": {
    "id": "-Z2Ja215jW78"
   },
   "source": [
    "Describe brevemente cuáles son tus hallazgos.\n",
    "\n",
    "Se buscan los valores ausentes en el Data Frame de 'order_products' entonctrando 836 en la tercer columna llamada 'add_to_cart_order'.\n",
    "\n",
    "Se revisan el mínimo (1.0) y el máximo (64.00) en la columna 'add_to_cart_order'."
   ]
  },
  {
   "cell_type": "code",
   "execution_count": 35,
   "id": "ab9d0c2b",
   "metadata": {
    "id": "ab9d0c2b",
    "scrolled": true
   },
   "outputs": [
    {
     "data": {
      "text/html": [
       "<div>\n",
       "<style scoped>\n",
       "    .dataframe tbody tr th:only-of-type {\n",
       "        vertical-align: middle;\n",
       "    }\n",
       "\n",
       "    .dataframe tbody tr th {\n",
       "        vertical-align: top;\n",
       "    }\n",
       "\n",
       "    .dataframe thead th {\n",
       "        text-align: right;\n",
       "    }\n",
       "</style>\n",
       "<table border=\"1\" class=\"dataframe\">\n",
       "  <thead>\n",
       "    <tr style=\"text-align: right;\">\n",
       "      <th></th>\n",
       "      <th>order_id</th>\n",
       "      <th>product_id</th>\n",
       "      <th>add_to_cart_order</th>\n",
       "      <th>reordered</th>\n",
       "    </tr>\n",
       "  </thead>\n",
       "  <tbody>\n",
       "    <tr>\n",
       "      <th>737</th>\n",
       "      <td>2449164</td>\n",
       "      <td>5068</td>\n",
       "      <td>NaN</td>\n",
       "      <td>0</td>\n",
       "    </tr>\n",
       "    <tr>\n",
       "      <th>9926</th>\n",
       "      <td>1968313</td>\n",
       "      <td>43867</td>\n",
       "      <td>NaN</td>\n",
       "      <td>0</td>\n",
       "    </tr>\n",
       "    <tr>\n",
       "      <th>14394</th>\n",
       "      <td>2926893</td>\n",
       "      <td>11688</td>\n",
       "      <td>NaN</td>\n",
       "      <td>0</td>\n",
       "    </tr>\n",
       "    <tr>\n",
       "      <th>16418</th>\n",
       "      <td>1717990</td>\n",
       "      <td>4142</td>\n",
       "      <td>NaN</td>\n",
       "      <td>0</td>\n",
       "    </tr>\n",
       "    <tr>\n",
       "      <th>30114</th>\n",
       "      <td>1959075</td>\n",
       "      <td>42828</td>\n",
       "      <td>NaN</td>\n",
       "      <td>1</td>\n",
       "    </tr>\n",
       "    <tr>\n",
       "      <th>...</th>\n",
       "      <td>...</td>\n",
       "      <td>...</td>\n",
       "      <td>...</td>\n",
       "      <td>...</td>\n",
       "    </tr>\n",
       "    <tr>\n",
       "      <th>4505662</th>\n",
       "      <td>1800005</td>\n",
       "      <td>7411</td>\n",
       "      <td>NaN</td>\n",
       "      <td>0</td>\n",
       "    </tr>\n",
       "    <tr>\n",
       "      <th>4511400</th>\n",
       "      <td>1633337</td>\n",
       "      <td>260</td>\n",
       "      <td>NaN</td>\n",
       "      <td>0</td>\n",
       "    </tr>\n",
       "    <tr>\n",
       "      <th>4517562</th>\n",
       "      <td>404157</td>\n",
       "      <td>9517</td>\n",
       "      <td>NaN</td>\n",
       "      <td>0</td>\n",
       "    </tr>\n",
       "    <tr>\n",
       "      <th>4534112</th>\n",
       "      <td>1673227</td>\n",
       "      <td>17835</td>\n",
       "      <td>NaN</td>\n",
       "      <td>0</td>\n",
       "    </tr>\n",
       "    <tr>\n",
       "      <th>4535739</th>\n",
       "      <td>1832957</td>\n",
       "      <td>17949</td>\n",
       "      <td>NaN</td>\n",
       "      <td>1</td>\n",
       "    </tr>\n",
       "  </tbody>\n",
       "</table>\n",
       "<p>836 rows × 4 columns</p>\n",
       "</div>"
      ],
      "text/plain": [
       "         order_id  product_id  add_to_cart_order  reordered\n",
       "737       2449164        5068                NaN          0\n",
       "9926      1968313       43867                NaN          0\n",
       "14394     2926893       11688                NaN          0\n",
       "16418     1717990        4142                NaN          0\n",
       "30114     1959075       42828                NaN          1\n",
       "...           ...         ...                ...        ...\n",
       "4505662   1800005        7411                NaN          0\n",
       "4511400   1633337         260                NaN          0\n",
       "4517562    404157        9517                NaN          0\n",
       "4534112   1673227       17835                NaN          0\n",
       "4535739   1832957       17949                NaN          1\n",
       "\n",
       "[836 rows x 4 columns]"
      ]
     },
     "execution_count": 35,
     "metadata": {},
     "output_type": "execute_result"
    }
   ],
   "source": [
    "df_orders_products_missing = df_order_products[df_order_products['add_to_cart_order'].isna()] # Guarda todas las IDs de pedidos que tengan un valor ausente en 'add_to_cart_order'\n",
    "df_orders_products_missing   # imprimimos el data frame filtrado por valores ausentes"
   ]
  },
  {
   "cell_type": "code",
   "execution_count": 36,
   "id": "42886506",
   "metadata": {},
   "outputs": [
    {
     "data": {
      "text/plain": [
       "737        2449164\n",
       "9926       1968313\n",
       "14394      2926893\n",
       "16418      1717990\n",
       "30114      1959075\n",
       "            ...   \n",
       "4505662    1800005\n",
       "4511400    1633337\n",
       "4517562     404157\n",
       "4534112    1673227\n",
       "4535739    1832957\n",
       "Name: order_id, Length: 836, dtype: int64"
      ]
     },
     "execution_count": 36,
     "metadata": {},
     "output_type": "execute_result"
    }
   ],
   "source": [
    "order_id_missing = df_orders_products_missing['order_id'] # En tu nueva tabla filtrada extrae una lista con los ID de las órdenes donde hay valores ausentes.\n",
    "order_id_missing   # imprimimos la lista para revisarla"
   ]
  },
  {
   "cell_type": "code",
   "execution_count": 37,
   "id": "7410605a",
   "metadata": {},
   "outputs": [
    {
     "data": {
      "text/html": [
       "<div>\n",
       "<style scoped>\n",
       "    .dataframe tbody tr th:only-of-type {\n",
       "        vertical-align: middle;\n",
       "    }\n",
       "\n",
       "    .dataframe tbody tr th {\n",
       "        vertical-align: top;\n",
       "    }\n",
       "\n",
       "    .dataframe thead th {\n",
       "        text-align: right;\n",
       "    }\n",
       "</style>\n",
       "<table border=\"1\" class=\"dataframe\">\n",
       "  <thead>\n",
       "    <tr style=\"text-align: right;\">\n",
       "      <th></th>\n",
       "      <th>order_id</th>\n",
       "      <th>product_id</th>\n",
       "      <th>add_to_cart_order</th>\n",
       "      <th>reordered</th>\n",
       "    </tr>\n",
       "  </thead>\n",
       "  <tbody>\n",
       "    <tr>\n",
       "      <th>267</th>\n",
       "      <td>2094761</td>\n",
       "      <td>31469</td>\n",
       "      <td>57.0</td>\n",
       "      <td>1</td>\n",
       "    </tr>\n",
       "    <tr>\n",
       "      <th>737</th>\n",
       "      <td>2449164</td>\n",
       "      <td>5068</td>\n",
       "      <td>NaN</td>\n",
       "      <td>0</td>\n",
       "    </tr>\n",
       "    <tr>\n",
       "      <th>1742</th>\n",
       "      <td>2997021</td>\n",
       "      <td>4920</td>\n",
       "      <td>37.0</td>\n",
       "      <td>0</td>\n",
       "    </tr>\n",
       "    <tr>\n",
       "      <th>3463</th>\n",
       "      <td>871281</td>\n",
       "      <td>40063</td>\n",
       "      <td>61.0</td>\n",
       "      <td>1</td>\n",
       "    </tr>\n",
       "    <tr>\n",
       "      <th>3535</th>\n",
       "      <td>171934</td>\n",
       "      <td>36397</td>\n",
       "      <td>7.0</td>\n",
       "      <td>0</td>\n",
       "    </tr>\n",
       "    <tr>\n",
       "      <th>...</th>\n",
       "      <td>...</td>\n",
       "      <td>...</td>\n",
       "      <td>...</td>\n",
       "      <td>...</td>\n",
       "    </tr>\n",
       "    <tr>\n",
       "      <th>4543519</th>\n",
       "      <td>2621907</td>\n",
       "      <td>32018</td>\n",
       "      <td>28.0</td>\n",
       "      <td>1</td>\n",
       "    </tr>\n",
       "    <tr>\n",
       "      <th>4544672</th>\n",
       "      <td>102236</td>\n",
       "      <td>34688</td>\n",
       "      <td>49.0</td>\n",
       "      <td>0</td>\n",
       "    </tr>\n",
       "    <tr>\n",
       "      <th>4544708</th>\n",
       "      <td>2256933</td>\n",
       "      <td>41544</td>\n",
       "      <td>21.0</td>\n",
       "      <td>0</td>\n",
       "    </tr>\n",
       "    <tr>\n",
       "      <th>4544771</th>\n",
       "      <td>180546</td>\n",
       "      <td>12741</td>\n",
       "      <td>46.0</td>\n",
       "      <td>1</td>\n",
       "    </tr>\n",
       "    <tr>\n",
       "      <th>4544810</th>\n",
       "      <td>2136777</td>\n",
       "      <td>20072</td>\n",
       "      <td>10.0</td>\n",
       "      <td>0</td>\n",
       "    </tr>\n",
       "  </tbody>\n",
       "</table>\n",
       "<p>5316 rows × 4 columns</p>\n",
       "</div>"
      ],
      "text/plain": [
       "         order_id  product_id  add_to_cart_order  reordered\n",
       "267       2094761       31469               57.0          1\n",
       "737       2449164        5068                NaN          0\n",
       "1742      2997021        4920               37.0          0\n",
       "3463       871281       40063               61.0          1\n",
       "3535       171934       36397                7.0          0\n",
       "...           ...         ...                ...        ...\n",
       "4543519   2621907       32018               28.0          1\n",
       "4544672    102236       34688               49.0          0\n",
       "4544708   2256933       41544               21.0          0\n",
       "4544771    180546       12741               46.0          1\n",
       "4544810   2136777       20072               10.0          0\n",
       "\n",
       "[5316 rows x 4 columns]"
      ]
     },
     "execution_count": 37,
     "metadata": {},
     "output_type": "execute_result"
    }
   ],
   "source": [
    "df_orders_missing = df_order_products[df_order_products['order_id'].isin(order_id_missing)] # Finalmente, debes comprobar si los valores de esta lista que creaste, están presentes en el resto de ID de órdenes por medio de un filtro que te devuelva una nueva tabla que puedes agrupar y contabilizar.\n",
    "df_orders_missing   # imprimimos el nuevo Data Frame para revisarlo"
   ]
  },
  {
   "cell_type": "code",
   "execution_count": 38,
   "id": "b2a45cce",
   "metadata": {},
   "outputs": [
    {
     "data": {
      "text/plain": [
       "65"
      ]
     },
     "execution_count": 38,
     "metadata": {},
     "output_type": "execute_result"
    }
   ],
   "source": [
    "# Agrupa todos los pedidos con datos ausentes por su ID de pedido. \n",
    "df_orders_missing.groupby(by='order_id')['product_id'].count().min() # Cuenta el número de 'product_id' en cada pedido y revisa el valor mínimo del conteo."
   ]
  },
  {
   "cell_type": "markdown",
   "id": "p9V6pddtjglj",
   "metadata": {
    "id": "p9V6pddtjglj"
   },
   "source": [
    "Describe brevemente cuáles son tus hallazgos.\n",
    "\n",
    "En general se tienen 4,544,171 de líneas en el df_product_orders con 836 valores non-null  de tipo float64.\n",
    "Se extrajo la lista de los 'order_id' para los 836 valores y se comparó contra el resto de las líneas.\n",
    "Se agruparon todos los pedidos con datos ausentes por su ID de pedido (70 líneas).\n",
    "Finalmente, se contó el número de 'product_id' en cada pedido y se revisó el valor mínimo del conteo (65)\n",
    "\n",
    "¿Todos los pedidos con valores ausentes tienen más de 64 productos?\n",
    "Sí, todos los pedidos tienen más de 64 productos."
   ]
  },
  {
   "cell_type": "code",
   "execution_count": 39,
   "id": "7a987d08",
   "metadata": {
    "id": "7a987d08"
   },
   "outputs": [
    {
     "name": "stdout",
     "output_type": "stream",
     "text": [
      "<class 'pandas.core.frame.DataFrame'>\n",
      "RangeIndex: 4545007 entries, 0 to 4545006\n",
      "Data columns (total 4 columns):\n",
      " #   Column             Non-Null Count    Dtype  \n",
      "---  ------             --------------    -----  \n",
      " 0   order_id           4545007 non-null  int64  \n",
      " 1   product_id         4545007 non-null  int64  \n",
      " 2   add_to_cart_order  4544171 non-null  float64\n",
      " 3   reordered          4545007 non-null  int64  \n",
      "dtypes: float64(1), int64(3)\n",
      "memory usage: 138.7 MB\n",
      "\n",
      "order_id               0\n",
      "product_id             0\n",
      "add_to_cart_order    836\n",
      "reordered              0\n",
      "dtype: int64\n",
      "         order_id  product_id  add_to_cart_order  reordered\n",
      "0         2141543       11440                 17          0\n",
      "1          567889        1560                  1          1\n",
      "2         2261212       26683                  1          1\n",
      "3          491251        8670                 35          1\n",
      "4         2571142        1940                  5          1\n",
      "...           ...         ...                ...        ...\n",
      "4545002    577211       15290                 12          1\n",
      "4545003   1219554       21914                  9          0\n",
      "4545004    692640       47766                  4          1\n",
      "4545005    319435         691                  8          1\n",
      "4545006   1398151       28733                  9          0\n",
      "\n",
      "[4545007 rows x 4 columns]\n",
      "\n",
      "<class 'pandas.core.frame.DataFrame'>\n",
      "RangeIndex: 4545007 entries, 0 to 4545006\n",
      "Data columns (total 4 columns):\n",
      " #   Column             Non-Null Count    Dtype\n",
      "---  ------             --------------    -----\n",
      " 0   order_id           4545007 non-null  int64\n",
      " 1   product_id         4545007 non-null  int64\n",
      " 2   add_to_cart_order  4545007 non-null  int64\n",
      " 3   reordered          4545007 non-null  int64\n",
      "dtypes: int64(4)\n",
      "memory usage: 138.7 MB\n"
     ]
    }
   ],
   "source": [
    "# Remplaza los valores ausentes en la columna 'add_to_cart? con 999 y convierte la columna al tipo entero.\n",
    "df_order_products.info(show_counts=True)   # revisamos la información del Data Frame original\n",
    "print()\n",
    "print(df_order_products.isna().sum())   # realizamos el conteo de los valores ausentes en cada columna\n",
    "df_order_products['add_to_cart_order'] = df_order_products['add_to_cart_order'].fillna(999).astype('int64')   # reemplazamos los valores asuentes y convertimos todos en números enteros\n",
    "print(df_order_products)   # imprimimos el DataFrame como quedó\n",
    "print()\n",
    "df_order_products.info(show_counts=True)   # revisamos la información del nuevo Data Frame"
   ]
  },
  {
   "cell_type": "markdown",
   "id": "5d19988f",
   "metadata": {},
   "source": [
    "<div class=\"alert alert-block alert-info\">\n",
    "<b>Respuesta del estudiante</b> <a class=“tocSkip”></a>\n",
    "Alejandro, ya he concluído el análisis de los valores ausentes en cada uno de los 5 Data Frames, mejorando mis resultados y abarcando cada una de las preguntas o ejercicios a realizar.\n",
    "Favor de revisarlos para ver si están bien, gracias!\n",
    "</div>"
   ]
  },
  {
   "cell_type": "markdown",
   "id": "5d5d5bc3",
   "metadata": {},
   "source": [
    "[Volver a Contenidos](#back)"
   ]
  },
  {
   "cell_type": "markdown",
   "id": "RnplPFY1gSrb",
   "metadata": {
    "id": "RnplPFY1gSrb"
   },
   "source": [
    "## Conclusiones <a id='data_preprocessing_conclusions'></a>\n",
    "\n",
    "Escribe aquí tus conclusiones intermedias sobre el Paso 2. Preprocesamiento de los datos\n",
    "\n",
    "En el Data Frame llamado 'df_order_products' se contaba con 836 valores ausentes específicamente en la columna 'add_to_cart_order'.\n",
    "\n",
    "Después de examinarla a detalle, juntándola con otro Data Frame llamado 'df_orders_products y el Data Frame 'df_products', obtenemos el nombre de los productos, al contarlos obtenemos un total de 285 nombres de productos, los cuales se han solicitado en al menos 1 vez cada uno de ellos.\n",
    "\n",
    "Finalmente, después del análisis de los valores ausentes, se decide reemplazarlos por el número '999' y se convierte a tipo entero ('int64') para fines de análisis.\n"
   ]
  },
  {
   "cell_type": "markdown",
   "id": "ea60e342",
   "metadata": {},
   "source": [
    "<div class=\"alert alert-block alert-success\">\n",
    "<b>Comentario del revisor (1ra Iteración)</b> <a class=“tocSkip”></a>\n",
    "\n",
    "Excelente trabajo con los datos faltantes, es importante saber interpretar su naturaleza y lo que singinifican en el contexto del proyecto. Más adelante aprenderás técnicas avanzadas de manejo de este tipo de datos.\n",
    "\n",
    "</div>"
   ]
  },
  {
   "cell_type": "markdown",
   "id": "a46a6040",
   "metadata": {},
   "source": [
    "[Volver a Contenidos](#back)"
   ]
  },
  {
   "cell_type": "markdown",
   "id": "UjrOIwTcz3ri",
   "metadata": {
    "id": "UjrOIwTcz3ri"
   },
   "source": [
    "# Paso 3. Análisis de los datos <a id='analisys'></a>\n",
    "\n",
    "Una vez los datos estén procesados y listos, haz el siguiente análisis:"
   ]
  },
  {
   "cell_type": "markdown",
   "id": "turkish-kidney",
   "metadata": {
    "id": "turkish-kidney"
   },
   "source": [
    "# [A] Fácil (deben completarse todos para aprobar) <a id='easy'></a>\n",
    "\n",
    "1. Verifica que los valores en las columnas `'order_hour_of_day'` y `'order_dow'` en la tabla orders sean razonables (es decir, `'order_hour_of_day'` oscile entre 0 y 23 y `'order_dow'` oscile entre 0 y 6).\n",
    "2. Crea un gráfico que muestre el número de personas que hacen pedidos dependiendo de la hora del día.\n",
    "3. Crea un gráfico que muestre qué día de la semana la gente hace sus compras.\n",
    "4. Crea un gráfico que muestre el tiempo que la gente espera hasta hacer su siguiente pedido, y comenta sobre los valores mínimos y máximos."
   ]
  },
  {
   "cell_type": "markdown",
   "id": "short-capability",
   "metadata": {
    "id": "short-capability"
   },
   "source": [
    "### [A1] Verifica que los valores sean sensibles"
   ]
  },
  {
   "cell_type": "code",
   "execution_count": 40,
   "id": "growing-fruit",
   "metadata": {
    "id": "growing-fruit",
    "scrolled": true
   },
   "outputs": [
    {
     "name": "stdout",
     "output_type": "stream",
     "text": [
      "Días de la semana (Dom-Lun-Mar-Mie-Jue-Vie-Sab)\n",
      "[0 1 2 3 4 5 6]\n",
      "\n",
      "Horario de los pedidos (0-23 horas)\n",
      "[ 0  1  2  3  4  5  6  7  8  9 10 11 12 13 14 15 16 17 18 19 20 21 22 23]\n"
     ]
    },
    {
     "data": {
      "text/html": [
       "<div>\n",
       "<style scoped>\n",
       "    .dataframe tbody tr th:only-of-type {\n",
       "        vertical-align: middle;\n",
       "    }\n",
       "\n",
       "    .dataframe tbody tr th {\n",
       "        vertical-align: top;\n",
       "    }\n",
       "\n",
       "    .dataframe thead th {\n",
       "        text-align: right;\n",
       "    }\n",
       "</style>\n",
       "<table border=\"1\" class=\"dataframe\">\n",
       "  <thead>\n",
       "    <tr style=\"text-align: right;\">\n",
       "      <th></th>\n",
       "      <th>order_id</th>\n",
       "      <th>user_id</th>\n",
       "      <th>order_number</th>\n",
       "      <th>order_dow</th>\n",
       "      <th>order_hour_of_day</th>\n",
       "      <th>days_since_prior_order</th>\n",
       "    </tr>\n",
       "  </thead>\n",
       "  <tbody>\n",
       "    <tr>\n",
       "      <th>0</th>\n",
       "      <td>1515936</td>\n",
       "      <td>183418</td>\n",
       "      <td>11</td>\n",
       "      <td>6</td>\n",
       "      <td>13</td>\n",
       "      <td>30</td>\n",
       "    </tr>\n",
       "    <tr>\n",
       "      <th>1</th>\n",
       "      <td>1690866</td>\n",
       "      <td>163593</td>\n",
       "      <td>5</td>\n",
       "      <td>5</td>\n",
       "      <td>12</td>\n",
       "      <td>9</td>\n",
       "    </tr>\n",
       "    <tr>\n",
       "      <th>2</th>\n",
       "      <td>1454967</td>\n",
       "      <td>39980</td>\n",
       "      <td>4</td>\n",
       "      <td>5</td>\n",
       "      <td>19</td>\n",
       "      <td>2</td>\n",
       "    </tr>\n",
       "    <tr>\n",
       "      <th>3</th>\n",
       "      <td>1768857</td>\n",
       "      <td>82516</td>\n",
       "      <td>56</td>\n",
       "      <td>0</td>\n",
       "      <td>20</td>\n",
       "      <td>10</td>\n",
       "    </tr>\n",
       "    <tr>\n",
       "      <th>4</th>\n",
       "      <td>3007858</td>\n",
       "      <td>196724</td>\n",
       "      <td>2</td>\n",
       "      <td>4</td>\n",
       "      <td>12</td>\n",
       "      <td>17</td>\n",
       "    </tr>\n",
       "    <tr>\n",
       "      <th>...</th>\n",
       "      <td>...</td>\n",
       "      <td>...</td>\n",
       "      <td>...</td>\n",
       "      <td>...</td>\n",
       "      <td>...</td>\n",
       "      <td>...</td>\n",
       "    </tr>\n",
       "    <tr>\n",
       "      <th>478962</th>\n",
       "      <td>3210681</td>\n",
       "      <td>5617</td>\n",
       "      <td>5</td>\n",
       "      <td>1</td>\n",
       "      <td>14</td>\n",
       "      <td>7</td>\n",
       "    </tr>\n",
       "    <tr>\n",
       "      <th>478963</th>\n",
       "      <td>3270802</td>\n",
       "      <td>112087</td>\n",
       "      <td>2</td>\n",
       "      <td>3</td>\n",
       "      <td>13</td>\n",
       "      <td>6</td>\n",
       "    </tr>\n",
       "    <tr>\n",
       "      <th>478964</th>\n",
       "      <td>885349</td>\n",
       "      <td>82944</td>\n",
       "      <td>16</td>\n",
       "      <td>2</td>\n",
       "      <td>11</td>\n",
       "      <td>6</td>\n",
       "    </tr>\n",
       "    <tr>\n",
       "      <th>478965</th>\n",
       "      <td>216274</td>\n",
       "      <td>4391</td>\n",
       "      <td>3</td>\n",
       "      <td>3</td>\n",
       "      <td>8</td>\n",
       "      <td>8</td>\n",
       "    </tr>\n",
       "    <tr>\n",
       "      <th>478966</th>\n",
       "      <td>2071924</td>\n",
       "      <td>1730</td>\n",
       "      <td>18</td>\n",
       "      <td>1</td>\n",
       "      <td>14</td>\n",
       "      <td>15</td>\n",
       "    </tr>\n",
       "  </tbody>\n",
       "</table>\n",
       "<p>478967 rows × 6 columns</p>\n",
       "</div>"
      ],
      "text/plain": [
       "        order_id  user_id  order_number  order_dow  order_hour_of_day  \\\n",
       "0        1515936   183418            11          6                 13   \n",
       "1        1690866   163593             5          5                 12   \n",
       "2        1454967    39980             4          5                 19   \n",
       "3        1768857    82516            56          0                 20   \n",
       "4        3007858   196724             2          4                 12   \n",
       "...          ...      ...           ...        ...                ...   \n",
       "478962   3210681     5617             5          1                 14   \n",
       "478963   3270802   112087             2          3                 13   \n",
       "478964    885349    82944            16          2                 11   \n",
       "478965    216274     4391             3          3                  8   \n",
       "478966   2071924     1730            18          1                 14   \n",
       "\n",
       "        days_since_prior_order  \n",
       "0                           30  \n",
       "1                            9  \n",
       "2                            2  \n",
       "3                           10  \n",
       "4                           17  \n",
       "...                        ...  \n",
       "478962                       7  \n",
       "478963                       6  \n",
       "478964                       6  \n",
       "478965                       8  \n",
       "478966                      15  \n",
       "\n",
       "[478967 rows x 6 columns]"
      ]
     },
     "execution_count": 40,
     "metadata": {},
     "output_type": "execute_result"
    }
   ],
   "source": [
    "reasonable_orders = df_instacart_orders[df_instacart_orders['order_hour_of_day'] <= 23]   # filtramos por horario de 0 a 23 horas en la columna 'order_hour_of_day'\n",
    "reasonable_orders = reasonable_orders[reasonable_orders['order_dow'] <= 6]   # filtramos por días del domingo (0) al viernes (6) en la columna 'order_dow'\n",
    "print('Días de la semana (Dom-Lun-Mar-Mie-Jue-Vie-Sab)')\n",
    "print(reasonable_orders['order_dow'].sort_values().unique())   # revisamos los días de la semana\n",
    "print()\n",
    "print('Horario de los pedidos (0-23 horas)')\n",
    "print(reasonable_orders['order_hour_of_day'].sort_values().unique())   # revisamos los horarios de los pedidos\n",
    "reasonable_orders"
   ]
  },
  {
   "cell_type": "markdown",
   "id": "0f5db7bd",
   "metadata": {},
   "source": [
    "<div class=\"alert alert-block alert-danger\">\n",
    "<b>Comentario del revisor (1ra Iteración)</b> <a class=“tocSkip”></a>\n",
    "\n",
    "Acá no estás comprobando que *order_hour_of_day* y *order_dow* estén en un rango razonable. Podías usar la función `unique` \n",
    "\n",
    "</div>"
   ]
  },
  {
   "cell_type": "markdown",
   "id": "743c85af",
   "metadata": {},
   "source": [
    "<div class=\"alert alert-block alert-info\">\n",
    "<b>Respuesta del estudiante</b> <a class=“tocSkip”></a>\n",
    "Alejandro, de acuerdo a tu recomendación utilizando el método unique ya he podido verificar el horario y días razonables en el nuevo Data Frame creado, gracias!\n",
    "</div>"
   ]
  },
  {
   "cell_type": "markdown",
   "id": "hmR2GNQ6lCsX",
   "metadata": {
    "id": "hmR2GNQ6lCsX"
   },
   "source": [
    "Escribe aquí tus conclusiones\n",
    "\n",
    "Se ha creado un nuevo DataFrame para instacart orders que contiene dos límites importantes para ser razonable.\n",
    "El primero es que contenga los días de la semana, comenzando por el 0-Dom, 1-Lun, 2-Mar, 3-Mie, 4-Jue, 5-Vie y 6-Sab.\n",
    "El segundo es el horario que va de las 00 horas a las 23 horas del día."
   ]
  },
  {
   "cell_type": "markdown",
   "id": "a8631c26",
   "metadata": {},
   "source": [
    "<div class=\"alert alert-block alert-success\">\n",
    "<b>Comentario del revisor (2da Iteración)</b> <a class=“tocSkip”></a>\n",
    "\n",
    "Ahora si has comprobado que los datos estén un rango correcto.\n",
    "\n",
    "</div>"
   ]
  },
  {
   "cell_type": "markdown",
   "id": "8828d7b2",
   "metadata": {},
   "source": [
    "[Volver a Contenidos](#back)"
   ]
  },
  {
   "cell_type": "markdown",
   "id": "aa945bf6",
   "metadata": {},
   "source": [
    "<div class=\"alert alert-block alert-danger\">\n",
    "<b>Comentario del revisor (1ra Iteración)</b> <a class=“tocSkip”></a>\n",
    "\n",
    "Tom debes responder todas las preguntas del proyecto, para que éste sea aprobado.\n",
    "\n",
    "</div>"
   ]
  },
  {
   "cell_type": "markdown",
   "id": "a6743a70",
   "metadata": {
    "id": "a6743a70"
   },
   "source": [
    "### [A2] Para cada hora del día, ¿cuántas personas hacen órdenes?"
   ]
  },
  {
   "cell_type": "code",
   "execution_count": 41,
   "id": "a36cca27",
   "metadata": {
    "id": "a36cca27"
   },
   "outputs": [
    {
     "data": {
      "image/png": "[encoded data removed]",
      "text/plain": [
       "<Figure size 640x480 with 1 Axes>"
      ]
     },
     "metadata": {},
     "output_type": "display_data"
    }
   ],
   "source": [
    "# 2. Crea un gráfico que muestre el número de personas que hacen pedidos dependiendo de la hora del día.\n",
    "hour_orders = reasonable_orders.groupby(by='order_hour_of_day')['user_id'].count()\n",
    "hour_orders.plot(kind='bar',\n",
    "                 title='Pedidos por Hora',\n",
    "                 xlabel='Hora del día',\n",
    "                 ylabel='Usuarios'\n",
    "                )\n",
    "plt.show()"
   ]
  },
  {
   "cell_type": "markdown",
   "id": "11270eed",
   "metadata": {
    "id": "11270eed"
   },
   "source": [
    "Escribe aquí tus conclusiones\n",
    "\n",
    "De acuerdo a la grráfica anterior, podemos deducir que el mayor número de pedidos se encuentra entre las 09:00 hrs y las 16:00 hrs del día.\n",
    "\n",
    "En el resto de las horas del día, si se reciben pedidos pero con mucho menos frecuencia, en la madrugada es cuando hay menos actividad por parte de los clientes."
   ]
  },
  {
   "cell_type": "markdown",
   "id": "ec412209",
   "metadata": {},
   "source": [
    "<div class=\"alert alert-block alert-success\">\n",
    "<b>Comentario del revisor (2da Iteración)</b> <a class=“tocSkip”></a>\n",
    "\n",
    "Tom has encontrado la distribución correcta de compras por hora.\n",
    "\n",
    "</div>"
   ]
  },
  {
   "cell_type": "markdown",
   "id": "64201b90",
   "metadata": {},
   "source": [
    "[Volver a Contenidos](#back)"
   ]
  },
  {
   "cell_type": "markdown",
   "id": "documented-command",
   "metadata": {
    "id": "documented-command"
   },
   "source": [
    "### [A3] ¿Qué día de la semana compran víveres las personas?"
   ]
  },
  {
   "cell_type": "code",
   "execution_count": 42,
   "id": "chief-digit",
   "metadata": {
    "id": "chief-digit"
   },
   "outputs": [
    {
     "data": {
      "image/png": "[encoded data removed]",
      "text/plain": [
       "<Figure size 640x480 with 1 Axes>"
      ]
     },
     "metadata": {},
     "output_type": "display_data"
    }
   ],
   "source": [
    "# 3. Crea un gráfico que muestre qué día de la semana la gente hace sus compras\n",
    "days_orders = reasonable_orders.groupby(by='order_dow')['order_number'].sum()   # agrupamos por día y sumamos los pedidos\n",
    "days_orders.plot(kind='bar',\n",
    "                 title='Pedidos por día', \n",
    "                 xlabel='Día de la semana', \n",
    "                 ylabel='No. de Pedidos'\n",
    "                )\n",
    "plt.show()"
   ]
  },
  {
   "cell_type": "markdown",
   "id": "dominant-lightning",
   "metadata": {
    "id": "dominant-lightning"
   },
   "source": [
    "Escribe aquí tus conclusiones\n",
    "\n",
    "Al agrupar la información por día de la semana y sumar el número de ordenes, podemos notar que los días \"Domingos\" (0) y \"Lunes\" (1) es cuando se realiza el mayor número de pedidos."
   ]
  },
  {
   "cell_type": "markdown",
   "id": "deab2791",
   "metadata": {},
   "source": [
    "<div class=\"alert alert-block alert-success\">\n",
    "<b>Comentario del revisor (2da Iteración)</b> <a class=“tocSkip”></a>\n",
    "\n",
    "Perfecto, la mayoría de compras se hacen entre domingo y lunes.\n",
    "\n",
    "</div>"
   ]
  },
  {
   "cell_type": "markdown",
   "id": "a12184ee",
   "metadata": {},
   "source": [
    "[Volver a Contenidos](#back)"
   ]
  },
  {
   "cell_type": "markdown",
   "id": "cutting-concert",
   "metadata": {
    "id": "cutting-concert"
   },
   "source": [
    "### [A4] ¿Cuánto tiempo esperan las personas hasta hacer otro pedido? Comenta sobre los valores mínimos y máximos."
   ]
  },
  {
   "cell_type": "code",
   "execution_count": 43,
   "id": "c231f523",
   "metadata": {
    "id": "c231f523",
    "scrolled": true
   },
   "outputs": [
    {
     "data": {
      "image/png": "[encoded data removed]",
      "text/plain": [
       "<Figure size 640x480 with 1 Axes>"
      ]
     },
     "metadata": {},
     "output_type": "display_data"
    },
    {
     "data": {
      "text/plain": [
       "30"
      ]
     },
     "execution_count": 43,
     "metadata": {},
     "output_type": "execute_result"
    }
   ],
   "source": [
    "# 4. Crea un gráfico que muestre el tiempo que la gente espera hasta hacer su siguiente pedido, \n",
    "# y comenta sobre los valores mínimos y máximos.\n",
    "days_since_prior_order = reasonable_orders['days_since_prior_order']\n",
    "days_since_prior_order.plot(kind='hist',\n",
    "                            title='Días entre Pedidos',\n",
    "                            bins=50,\n",
    "                            xlabel='Días'\n",
    "                           )\n",
    "plt.show()   # imprimimos la gráfica\n",
    "\n",
    "days_since_prior_order.min()   # valor mínimo de días\n",
    "days_since_prior_order.max()   # valor máximo de días"
   ]
  },
  {
   "cell_type": "markdown",
   "id": "discrete-vertex",
   "metadata": {
    "id": "discrete-vertex"
   },
   "source": [
    "Escribe aquí tus conclusiones\n",
    "\n",
    "La gráfica de distribución nos muestra que en los primeros 10 días, los clientes vuelven a realizar un pedido.\n",
    "\n",
    "Si no lo realizan en este periodo de tiempo, se van a los 30 días para volver a pedir un nuevo producto."
   ]
  },
  {
   "cell_type": "markdown",
   "id": "5eeab880",
   "metadata": {},
   "source": [
    "<div class=\"alert alert-block alert-danger\">\n",
    "<b>Comentario del revisor (2da Iteración)</b> <a class=“tocSkip”></a>\n",
    "\n",
    "Aunque estás trabajando con los datos requeridos, te estás complicando un poco. Realmente solo necesitamos ver la distribución que presentan los datos de *days_since_prior_order*, para esto no es necesario contarlos, solo debes usar una gráfica para mostrar la distrbución podrias usar un histograma, aunque dado que la información de esta columna son días (que se pueden estudiar como categorías) también puedes usar un diagrama de barras.\n",
    "\n",
    "</div>"
   ]
  },
  {
   "cell_type": "markdown",
   "id": "326df286",
   "metadata": {},
   "source": [
    "<div class=\"alert alert-block alert-info\">\n",
    "<b>Respuesta del estudiante</b> <a class=“tocSkip”></a>\n",
    "Alejandro, tenías razón me estaba complicando la vida yo mismo; ahora he graficado la distribución con un histograma y es más sencillo de lo que creía. ¡Gracias!\n",
    "</div>"
   ]
  },
  {
   "cell_type": "markdown",
   "id": "0cc0fb74",
   "metadata": {},
   "source": [
    "<div class=\"alert alert-block alert-success\">\n",
    "<b>Comentario del revisor (3ra Iteración)</b> <a class=“tocSkip”></a>\n",
    "\n",
    "Buen trabajo Tom, ahora la información es más clara y nos permite realizar un mejor análisis\n",
    "    \n",
    "\n",
    "</div>"
   ]
  },
  {
   "cell_type": "markdown",
   "id": "9cc55a12",
   "metadata": {},
   "source": [
    "[Volver a Contenidos](#back)"
   ]
  },
  {
   "cell_type": "markdown",
   "id": "tight-staff",
   "metadata": {
    "id": "tight-staff"
   },
   "source": [
    "# [B] Intermedio (deben completarse todos para aprobar) <a id='inter'></a>\n",
    "\n",
    "1. ¿Existe alguna diferencia entre las distribuciones `'order_hour_of_day'` de los miércoles y los sábados? Traza gráficos de barra de `'order_hour_of_day'` para ambos días en la misma figura y describe las diferencias que observes.\n",
    "2. Grafica la distribución para el número de órdenes que hacen los clientes (es decir, cuántos clientes hicieron solo 1 pedido, cuántos hicieron 2, cuántos 3, y así sucesivamente...).\n",
    "3. ¿Cuáles son los 20 principales productos que se piden con más frecuencia (muestra su identificación y nombre)?"
   ]
  },
  {
   "cell_type": "markdown",
   "id": "packed-classic",
   "metadata": {
    "id": "packed-classic"
   },
   "source": [
    "### [B1] Diferencia entre miércoles y sábados para  `'order_hour_of_day'`. Traza gráficos de barra para los dos días y describe las diferencias que veas."
   ]
  },
  {
   "cell_type": "code",
   "execution_count": 44,
   "id": "d89b8403",
   "metadata": {
    "id": "d89b8403"
   },
   "outputs": [],
   "source": [
    "wednesday = df_instacart_orders[df_instacart_orders['order_dow'] == 3]   # filtramos por miércoles\n",
    "saturday = df_instacart_orders[df_instacart_orders['order_dow'] == 6]   # filtramos por sábado"
   ]
  },
  {
   "cell_type": "code",
   "execution_count": 45,
   "id": "94e54e8a",
   "metadata": {
    "id": "94e54e8a"
   },
   "outputs": [
    {
     "data": {
      "text/html": [
       "<div>\n",
       "<style scoped>\n",
       "    .dataframe tbody tr th:only-of-type {\n",
       "        vertical-align: middle;\n",
       "    }\n",
       "\n",
       "    .dataframe tbody tr th {\n",
       "        vertical-align: top;\n",
       "    }\n",
       "\n",
       "    .dataframe thead th {\n",
       "        text-align: right;\n",
       "    }\n",
       "</style>\n",
       "<table border=\"1\" class=\"dataframe\">\n",
       "  <thead>\n",
       "    <tr style=\"text-align: right;\">\n",
       "      <th></th>\n",
       "      <th>order_id</th>\n",
       "      <th>user_id</th>\n",
       "      <th>order_number</th>\n",
       "      <th>order_dow</th>\n",
       "      <th>order_hour_of_day</th>\n",
       "      <th>days_since_prior_order</th>\n",
       "    </tr>\n",
       "  </thead>\n",
       "  <tbody>\n",
       "    <tr>\n",
       "      <th>6</th>\n",
       "      <td>2511640</td>\n",
       "      <td>148233</td>\n",
       "      <td>40</td>\n",
       "      <td>3</td>\n",
       "      <td>8</td>\n",
       "      <td>2</td>\n",
       "    </tr>\n",
       "    <tr>\n",
       "      <th>16</th>\n",
       "      <td>3109465</td>\n",
       "      <td>55090</td>\n",
       "      <td>19</td>\n",
       "      <td>3</td>\n",
       "      <td>15</td>\n",
       "      <td>9</td>\n",
       "    </tr>\n",
       "    <tr>\n",
       "      <th>28</th>\n",
       "      <td>133707</td>\n",
       "      <td>182261</td>\n",
       "      <td>1</td>\n",
       "      <td>3</td>\n",
       "      <td>10</td>\n",
       "      <td>0</td>\n",
       "    </tr>\n",
       "    <tr>\n",
       "      <th>30</th>\n",
       "      <td>1890318</td>\n",
       "      <td>193501</td>\n",
       "      <td>3</td>\n",
       "      <td>3</td>\n",
       "      <td>15</td>\n",
       "      <td>30</td>\n",
       "    </tr>\n",
       "    <tr>\n",
       "      <th>35</th>\n",
       "      <td>125325</td>\n",
       "      <td>106853</td>\n",
       "      <td>6</td>\n",
       "      <td>3</td>\n",
       "      <td>19</td>\n",
       "      <td>30</td>\n",
       "    </tr>\n",
       "    <tr>\n",
       "      <th>...</th>\n",
       "      <td>...</td>\n",
       "      <td>...</td>\n",
       "      <td>...</td>\n",
       "      <td>...</td>\n",
       "      <td>...</td>\n",
       "      <td>...</td>\n",
       "    </tr>\n",
       "    <tr>\n",
       "      <th>478924</th>\n",
       "      <td>3274344</td>\n",
       "      <td>145367</td>\n",
       "      <td>13</td>\n",
       "      <td>6</td>\n",
       "      <td>10</td>\n",
       "      <td>13</td>\n",
       "    </tr>\n",
       "    <tr>\n",
       "      <th>478930</th>\n",
       "      <td>489820</td>\n",
       "      <td>7287</td>\n",
       "      <td>14</td>\n",
       "      <td>6</td>\n",
       "      <td>19</td>\n",
       "      <td>2</td>\n",
       "    </tr>\n",
       "    <tr>\n",
       "      <th>478943</th>\n",
       "      <td>548902</td>\n",
       "      <td>6829</td>\n",
       "      <td>3</td>\n",
       "      <td>6</td>\n",
       "      <td>10</td>\n",
       "      <td>30</td>\n",
       "    </tr>\n",
       "    <tr>\n",
       "      <th>478954</th>\n",
       "      <td>984024</td>\n",
       "      <td>47076</td>\n",
       "      <td>2</td>\n",
       "      <td>6</td>\n",
       "      <td>21</td>\n",
       "      <td>6</td>\n",
       "    </tr>\n",
       "    <tr>\n",
       "      <th>478961</th>\n",
       "      <td>3006133</td>\n",
       "      <td>34561</td>\n",
       "      <td>7</td>\n",
       "      <td>6</td>\n",
       "      <td>10</td>\n",
       "      <td>30</td>\n",
       "    </tr>\n",
       "  </tbody>\n",
       "</table>\n",
       "<p>123561 rows × 6 columns</p>\n",
       "</div>"
      ],
      "text/plain": [
       "        order_id  user_id  order_number  order_dow  order_hour_of_day  \\\n",
       "6        2511640   148233            40          3                  8   \n",
       "16       3109465    55090            19          3                 15   \n",
       "28        133707   182261             1          3                 10   \n",
       "30       1890318   193501             3          3                 15   \n",
       "35        125325   106853             6          3                 19   \n",
       "...          ...      ...           ...        ...                ...   \n",
       "478924   3274344   145367            13          6                 10   \n",
       "478930    489820     7287            14          6                 19   \n",
       "478943    548902     6829             3          6                 10   \n",
       "478954    984024    47076             2          6                 21   \n",
       "478961   3006133    34561             7          6                 10   \n",
       "\n",
       "        days_since_prior_order  \n",
       "6                            2  \n",
       "16                           9  \n",
       "28                           0  \n",
       "30                          30  \n",
       "35                          30  \n",
       "...                        ...  \n",
       "478924                      13  \n",
       "478930                       2  \n",
       "478943                      30  \n",
       "478954                       6  \n",
       "478961                      30  \n",
       "\n",
       "[123561 rows x 6 columns]"
      ]
     },
     "execution_count": 45,
     "metadata": {},
     "output_type": "execute_result"
    }
   ],
   "source": [
    "wed_sat = pd.concat([wednesday, saturday])   # concatenamos los DF's de miércoles y sábado\n",
    "wed_sat"
   ]
  },
  {
   "cell_type": "code",
   "execution_count": 46,
   "id": "797c90a8",
   "metadata": {
    "id": "797c90a8",
    "scrolled": true
   },
   "outputs": [
    {
     "data": {
      "image/png": "[encoded data removed]",
      "text/plain": [
       "<Figure size 640x480 with 1 Axes>"
      ]
     },
     "metadata": {},
     "output_type": "display_data"
    }
   ],
   "source": [
    "wed_sat_mean = wed_sat.groupby(by='order_dow')['order_hour_of_day'].plot(kind='hist', bins=40, alpha=0.7, xlabel='Hora', title='Miércoles vs Sábado')\n",
    "plt.legend(['Miércoles', 'Sábado'])   # leyenda\n",
    "plt.xlabel('Pedidos')  # nombre en eje x\n",
    "plt.show()"
   ]
  },
  {
   "cell_type": "markdown",
   "id": "charitable-congo",
   "metadata": {
    "id": "charitable-congo"
   },
   "source": [
    "Escribe aquí tus conclusiones\n",
    "\n",
    "Primeramente se separaron los dataframes, filtrando por día uno para miércoles y otro para sábado.\n",
    "\n",
    "Seguido se concatenaron por filas para dejarlos en un mismo data frame.\n",
    "\n",
    "Se grafica con un histograma para comparar la frecuencia de pedidos conforme al horario de cada uno de los días,\n",
    "viendo que son muy similares ya que a partir de las 6:00 am hasta las 23:00 hrs, el número de frecuencia es muy similar.\n"
   ]
  },
  {
   "cell_type": "markdown",
   "id": "91c4eeb6",
   "metadata": {},
   "source": [
    "<div class=\"alert alert-block alert-success\">\n",
    "<b>Comentario del revisor (2da Iteración)</b> <a class=“tocSkip”></a>\n",
    "\n",
    "Muy buen trabajo comparando los datos de los días miércoles y sábado. Al parecer hay un descenso de uso en horas de medio día para el miércoles, posiblemente porque sea el momento de almorzar.\n",
    "\n",
    "</div>"
   ]
  },
  {
   "cell_type": "markdown",
   "id": "e724d552",
   "metadata": {},
   "source": [
    "[Volver a Contenidos](#back)"
   ]
  },
  {
   "cell_type": "markdown",
   "id": "e3891143",
   "metadata": {
    "id": "e3891143"
   },
   "source": [
    "### [B2] ¿Cuál es la distribución para el número de pedidos por cliente?"
   ]
  },
  {
   "cell_type": "code",
   "execution_count": 47,
   "id": "d8c26c23",
   "metadata": {
    "id": "d8c26c23"
   },
   "outputs": [
    {
     "data": {
      "image/png": "[encoded data removed]",
      "text/plain": [
       "<Figure size 640x480 with 1 Axes>"
      ]
     },
     "metadata": {},
     "output_type": "display_data"
    }
   ],
   "source": [
    "df = df_instacart_orders.groupby('user_id')['order_id'].count() # agrupamos el DataFrame de órdenes por id de usuario y contamos el número de pedidos\n",
    "df.plot(kind='hist', title='Pedidos por cliente', legend=True, bins=60)\n",
    "plt.xlabel('Cantidad')\n",
    "plt.show()   # imprimimos el histograma\n"
   ]
  },
  {
   "cell_type": "markdown",
   "id": "da1ad60a",
   "metadata": {
    "id": "00e69a66"
   },
   "source": [
    "<div class=\"alert alert-block alert-danger\">\n",
    "<b>Comentario del revisor (2da Iteración)</b> <a class=“tocSkip”></a>\n",
    "\n",
    "Para dar respuesta a esta pregunta, puedes agrupar la información de **df_instacart_orders** por *user_id* y luego contar las ordenes (*order_id*). Con esta información tienes los datos para mostrarlos como una distribución. Recuerda que siempre que te hablen o pidan una distribución es necesario usar gráficas acorde a esto, puede ser un histograma.\n",
    "\n",
    "\n",
    "</div>"
   ]
  },
  {
   "cell_type": "markdown",
   "id": "b356b4b7",
   "metadata": {},
   "source": [
    "<div class=\"alert alert-block alert-info\">\n",
    "<b>Respuesta del estudiante</b> <a class=“tocSkip”></a>\n",
    "Alejandro, te agradezco la explicación de las distribuciones, en realidad no me habían quedado totalmente claras del todo. ¡Gracias!\n",
    "</div>"
   ]
  },
  {
   "cell_type": "markdown",
   "id": "aa8bb553",
   "metadata": {},
   "source": [
    "<div class=\"alert alert-block alert-success\">\n",
    "<b>Comentario del revisor (3ra Iteración)</b> <a class=“tocSkip”></a>\n",
    "\n",
    "Me alegra que te haya quedado claro el tema de las distribuciones. Ahora podemos ver la distribución de los datos. Aunque no olvides incluir los nombres en los ejes para que se totalmente claro. \n",
    "\n",
    "</div>"
   ]
  },
  {
   "cell_type": "markdown",
   "id": "9e424392",
   "metadata": {},
   "source": [
    "<div class=\"alert alert-block alert-info\">\n",
    "<b>Respuesta del estudiante (3ra Iteración)</b> <a class=“tocSkip”></a>\n",
    "Alejandro, ya he agregado el nombre en el eje x.\n",
    "</div>"
   ]
  },
  {
   "cell_type": "markdown",
   "id": "d2eff7d5",
   "metadata": {
    "id": "d2eff7d5"
   },
   "source": [
    "Escribe aquí tus conclusiones\n",
    "\n",
    "Para realizar este ejercicio agrupamos el DataFrame 'df_instacart_orders' por id de usuario 'user_id' y contamos el número de pedidos 'order_id', lo que nos da una distribución que relaciona el número de pedidos por cliente.\n",
    "\n",
    "Lo que nos da a entender es que baja la frecuencia de los pedidos con relación a la mayor cantidad de clientes."
   ]
  },
  {
   "cell_type": "markdown",
   "id": "c1ef938b",
   "metadata": {},
   "source": [
    "[Volver a Contenidos](#back)"
   ]
  },
  {
   "cell_type": "markdown",
   "id": "54a0319c",
   "metadata": {
    "id": "54a0319c"
   },
   "source": [
    "### [B3] ¿Cuáles son los 20 productos más populares (muestra su ID y nombre)?"
   ]
  },
  {
   "cell_type": "code",
   "execution_count": 48,
   "id": "exterior-arizona",
   "metadata": {
    "id": "exterior-arizona",
    "scrolled": true
   },
   "outputs": [
    {
     "data": {
      "text/html": [
       "<div>\n",
       "<style scoped>\n",
       "    .dataframe tbody tr th:only-of-type {\n",
       "        vertical-align: middle;\n",
       "    }\n",
       "\n",
       "    .dataframe tbody tr th {\n",
       "        vertical-align: top;\n",
       "    }\n",
       "\n",
       "    .dataframe thead th {\n",
       "        text-align: right;\n",
       "    }\n",
       "</style>\n",
       "<table border=\"1\" class=\"dataframe\">\n",
       "  <thead>\n",
       "    <tr style=\"text-align: right;\">\n",
       "      <th></th>\n",
       "      <th>order_id</th>\n",
       "      <th>product_id</th>\n",
       "      <th>add_to_cart_order</th>\n",
       "      <th>reordered</th>\n",
       "      <th>product_name</th>\n",
       "      <th>aisle_id</th>\n",
       "      <th>department_id</th>\n",
       "    </tr>\n",
       "  </thead>\n",
       "  <tbody>\n",
       "    <tr>\n",
       "      <th>0</th>\n",
       "      <td>2141543</td>\n",
       "      <td>11440</td>\n",
       "      <td>17</td>\n",
       "      <td>0</td>\n",
       "      <td>CHICKEN BREAST TENDERS BREADED</td>\n",
       "      <td>129</td>\n",
       "      <td>1</td>\n",
       "    </tr>\n",
       "    <tr>\n",
       "      <th>1</th>\n",
       "      <td>147172</td>\n",
       "      <td>11440</td>\n",
       "      <td>7</td>\n",
       "      <td>1</td>\n",
       "      <td>CHICKEN BREAST TENDERS BREADED</td>\n",
       "      <td>129</td>\n",
       "      <td>1</td>\n",
       "    </tr>\n",
       "    <tr>\n",
       "      <th>2</th>\n",
       "      <td>3341719</td>\n",
       "      <td>11440</td>\n",
       "      <td>4</td>\n",
       "      <td>1</td>\n",
       "      <td>CHICKEN BREAST TENDERS BREADED</td>\n",
       "      <td>129</td>\n",
       "      <td>1</td>\n",
       "    </tr>\n",
       "    <tr>\n",
       "      <th>3</th>\n",
       "      <td>1938779</td>\n",
       "      <td>11440</td>\n",
       "      <td>8</td>\n",
       "      <td>1</td>\n",
       "      <td>CHICKEN BREAST TENDERS BREADED</td>\n",
       "      <td>129</td>\n",
       "      <td>1</td>\n",
       "    </tr>\n",
       "    <tr>\n",
       "      <th>4</th>\n",
       "      <td>1728338</td>\n",
       "      <td>11440</td>\n",
       "      <td>23</td>\n",
       "      <td>0</td>\n",
       "      <td>CHICKEN BREAST TENDERS BREADED</td>\n",
       "      <td>129</td>\n",
       "      <td>1</td>\n",
       "    </tr>\n",
       "    <tr>\n",
       "      <th>...</th>\n",
       "      <td>...</td>\n",
       "      <td>...</td>\n",
       "      <td>...</td>\n",
       "      <td>...</td>\n",
       "      <td>...</td>\n",
       "      <td>...</td>\n",
       "      <td>...</td>\n",
       "    </tr>\n",
       "    <tr>\n",
       "      <th>4545002</th>\n",
       "      <td>267402</td>\n",
       "      <td>45226</td>\n",
       "      <td>14</td>\n",
       "      <td>0</td>\n",
       "      <td>SWEET TERIYAKI CHICKEN OVEN SAUCE</td>\n",
       "      <td>5</td>\n",
       "      <td>13</td>\n",
       "    </tr>\n",
       "    <tr>\n",
       "      <th>4545003</th>\n",
       "      <td>2621676</td>\n",
       "      <td>25201</td>\n",
       "      <td>10</td>\n",
       "      <td>0</td>\n",
       "      <td>CRISP WATERS CANDLE SCENTS</td>\n",
       "      <td>101</td>\n",
       "      <td>17</td>\n",
       "    </tr>\n",
       "    <tr>\n",
       "      <th>4545004</th>\n",
       "      <td>937623</td>\n",
       "      <td>49153</td>\n",
       "      <td>2</td>\n",
       "      <td>0</td>\n",
       "      <td>SHINE COLLECTION BRILLANCE SHAMPOO</td>\n",
       "      <td>22</td>\n",
       "      <td>11</td>\n",
       "    </tr>\n",
       "    <tr>\n",
       "      <th>4545005</th>\n",
       "      <td>532895</td>\n",
       "      <td>8182</td>\n",
       "      <td>1</td>\n",
       "      <td>0</td>\n",
       "      <td>TOTAL MINT STRIPE GEL TOOTHPASTE</td>\n",
       "      <td>20</td>\n",
       "      <td>11</td>\n",
       "    </tr>\n",
       "    <tr>\n",
       "      <th>4545006</th>\n",
       "      <td>3132243</td>\n",
       "      <td>40024</td>\n",
       "      <td>1</td>\n",
       "      <td>0</td>\n",
       "      <td>EGG REPLACER POWDER</td>\n",
       "      <td>17</td>\n",
       "      <td>13</td>\n",
       "    </tr>\n",
       "  </tbody>\n",
       "</table>\n",
       "<p>4545007 rows × 7 columns</p>\n",
       "</div>"
      ],
      "text/plain": [
       "         order_id  product_id  add_to_cart_order  reordered  \\\n",
       "0         2141543       11440                 17          0   \n",
       "1          147172       11440                  7          1   \n",
       "2         3341719       11440                  4          1   \n",
       "3         1938779       11440                  8          1   \n",
       "4         1728338       11440                 23          0   \n",
       "...           ...         ...                ...        ...   \n",
       "4545002    267402       45226                 14          0   \n",
       "4545003   2621676       25201                 10          0   \n",
       "4545004    937623       49153                  2          0   \n",
       "4545005    532895        8182                  1          0   \n",
       "4545006   3132243       40024                  1          0   \n",
       "\n",
       "                               product_name  aisle_id  department_id  \n",
       "0            CHICKEN BREAST TENDERS BREADED       129              1  \n",
       "1            CHICKEN BREAST TENDERS BREADED       129              1  \n",
       "2            CHICKEN BREAST TENDERS BREADED       129              1  \n",
       "3            CHICKEN BREAST TENDERS BREADED       129              1  \n",
       "4            CHICKEN BREAST TENDERS BREADED       129              1  \n",
       "...                                     ...       ...            ...  \n",
       "4545002   SWEET TERIYAKI CHICKEN OVEN SAUCE         5             13  \n",
       "4545003          CRISP WATERS CANDLE SCENTS       101             17  \n",
       "4545004  SHINE COLLECTION BRILLANCE SHAMPOO        22             11  \n",
       "4545005    TOTAL MINT STRIPE GEL TOOTHPASTE        20             11  \n",
       "4545006                 EGG REPLACER POWDER        17             13  \n",
       "\n",
       "[4545007 rows x 7 columns]"
      ]
     },
     "execution_count": 48,
     "metadata": {},
     "output_type": "execute_result"
    }
   ],
   "source": [
    "df_merged = df_order_products.merge(df_products, on='product_id')   # juntamos los Data Frames de 'ordenes' con el de 'productos'\n",
    "df_merged   # visualizamos el nuevo Data Frame"
   ]
  },
  {
   "cell_type": "code",
   "execution_count": 49,
   "id": "universal-facial",
   "metadata": {
    "id": "universal-facial"
   },
   "outputs": [
    {
     "data": {
      "text/html": [
       "<div>\n",
       "<style scoped>\n",
       "    .dataframe tbody tr th:only-of-type {\n",
       "        vertical-align: middle;\n",
       "    }\n",
       "\n",
       "    .dataframe tbody tr th {\n",
       "        vertical-align: top;\n",
       "    }\n",
       "\n",
       "    .dataframe thead th {\n",
       "        text-align: right;\n",
       "    }\n",
       "</style>\n",
       "<table border=\"1\" class=\"dataframe\">\n",
       "  <thead>\n",
       "    <tr style=\"text-align: right;\">\n",
       "      <th></th>\n",
       "      <th>product_name</th>\n",
       "      <th>frequency</th>\n",
       "    </tr>\n",
       "  </thead>\n",
       "  <tbody>\n",
       "    <tr>\n",
       "      <th>0</th>\n",
       "      <td>BANANA</td>\n",
       "      <td>66050</td>\n",
       "    </tr>\n",
       "    <tr>\n",
       "      <th>1</th>\n",
       "      <td>BAG OF ORGANIC BANANAS</td>\n",
       "      <td>53297</td>\n",
       "    </tr>\n",
       "    <tr>\n",
       "      <th>2</th>\n",
       "      <td>ORGANIC STRAWBERRIES</td>\n",
       "      <td>37039</td>\n",
       "    </tr>\n",
       "    <tr>\n",
       "      <th>3</th>\n",
       "      <td>ORGANIC BABY SPINACH</td>\n",
       "      <td>33971</td>\n",
       "    </tr>\n",
       "    <tr>\n",
       "      <th>4</th>\n",
       "      <td>ORGANIC HASS AVOCADO</td>\n",
       "      <td>29773</td>\n",
       "    </tr>\n",
       "    <tr>\n",
       "      <th>5</th>\n",
       "      <td>ORGANIC AVOCADO</td>\n",
       "      <td>24689</td>\n",
       "    </tr>\n",
       "    <tr>\n",
       "      <th>6</th>\n",
       "      <td>LARGE LEMON</td>\n",
       "      <td>21495</td>\n",
       "    </tr>\n",
       "    <tr>\n",
       "      <th>7</th>\n",
       "      <td>STRAWBERRIES</td>\n",
       "      <td>20018</td>\n",
       "    </tr>\n",
       "    <tr>\n",
       "      <th>8</th>\n",
       "      <td>LIMES</td>\n",
       "      <td>19690</td>\n",
       "    </tr>\n",
       "    <tr>\n",
       "      <th>9</th>\n",
       "      <td>ORGANIC WHOLE MILK</td>\n",
       "      <td>19600</td>\n",
       "    </tr>\n",
       "    <tr>\n",
       "      <th>10</th>\n",
       "      <td>ORGANIC RASPBERRIES</td>\n",
       "      <td>19197</td>\n",
       "    </tr>\n",
       "    <tr>\n",
       "      <th>11</th>\n",
       "      <td>ORGANIC YELLOW ONION</td>\n",
       "      <td>15898</td>\n",
       "    </tr>\n",
       "    <tr>\n",
       "      <th>12</th>\n",
       "      <td>ORGANIC GARLIC</td>\n",
       "      <td>15292</td>\n",
       "    </tr>\n",
       "    <tr>\n",
       "      <th>13</th>\n",
       "      <td>ORGANIC ZUCCHINI</td>\n",
       "      <td>14584</td>\n",
       "    </tr>\n",
       "    <tr>\n",
       "      <th>14</th>\n",
       "      <td>ORGANIC BLUEBERRIES</td>\n",
       "      <td>13879</td>\n",
       "    </tr>\n",
       "    <tr>\n",
       "      <th>15</th>\n",
       "      <td>CUCUMBER KIRBY</td>\n",
       "      <td>13675</td>\n",
       "    </tr>\n",
       "    <tr>\n",
       "      <th>16</th>\n",
       "      <td>ORGANIC FUJI APPLE</td>\n",
       "      <td>12544</td>\n",
       "    </tr>\n",
       "    <tr>\n",
       "      <th>17</th>\n",
       "      <td>ORGANIC LEMON</td>\n",
       "      <td>12232</td>\n",
       "    </tr>\n",
       "    <tr>\n",
       "      <th>18</th>\n",
       "      <td>APPLE HONEYCRISP ORGANIC</td>\n",
       "      <td>11993</td>\n",
       "    </tr>\n",
       "    <tr>\n",
       "      <th>19</th>\n",
       "      <td>ORGANIC GRAPE TOMATOES</td>\n",
       "      <td>11781</td>\n",
       "    </tr>\n",
       "  </tbody>\n",
       "</table>\n",
       "</div>"
      ],
      "text/plain": [
       "                product_name  frequency\n",
       "0                     BANANA      66050\n",
       "1     BAG OF ORGANIC BANANAS      53297\n",
       "2       ORGANIC STRAWBERRIES      37039\n",
       "3       ORGANIC BABY SPINACH      33971\n",
       "4       ORGANIC HASS AVOCADO      29773\n",
       "5            ORGANIC AVOCADO      24689\n",
       "6                LARGE LEMON      21495\n",
       "7               STRAWBERRIES      20018\n",
       "8                      LIMES      19690\n",
       "9         ORGANIC WHOLE MILK      19600\n",
       "10       ORGANIC RASPBERRIES      19197\n",
       "11      ORGANIC YELLOW ONION      15898\n",
       "12            ORGANIC GARLIC      15292\n",
       "13          ORGANIC ZUCCHINI      14584\n",
       "14       ORGANIC BLUEBERRIES      13879\n",
       "15            CUCUMBER KIRBY      13675\n",
       "16        ORGANIC FUJI APPLE      12544\n",
       "17             ORGANIC LEMON      12232\n",
       "18  APPLE HONEYCRISP ORGANIC      11993\n",
       "19    ORGANIC GRAPE TOMATOES      11781"
      ]
     },
     "execution_count": 49,
     "metadata": {},
     "output_type": "execute_result"
    }
   ],
   "source": [
    "count_products = df_merged['product_name'].value_counts().sort_values(ascending=False)   # realizamos el conteo de los nombres de los productos y ordenamos de manera descendiente\n",
    "top_20 = count_products.head(20)  # filtramos los primeros 20 productos\n",
    "top_20 = top_20.reset_index()   # reseteamos los índices\n",
    "top_20.columns = ['product_name', 'frequency']   # renombramos las columnas\n",
    "top_20   # visualizamos la lista"
   ]
  },
  {
   "cell_type": "code",
   "execution_count": 50,
   "id": "a4430117",
   "metadata": {},
   "outputs": [
    {
     "data": {
      "image/png": "[encoded data removed]",
      "text/plain": [
       "<Figure size 640x480 with 1 Axes>"
      ]
     },
     "metadata": {},
     "output_type": "display_data"
    }
   ],
   "source": [
    "top_20.plot(kind='bar', x='product_name', y='frequency', title='Top 20', xlabel='Productos', ylabel='Frecuencia')   # seteamos los valores para la gráfica\n",
    "plt.show()   # imprimimos la gráfica"
   ]
  },
  {
   "cell_type": "markdown",
   "id": "7df00f47",
   "metadata": {
    "id": "7df00f47"
   },
   "source": [
    "Escribe aquí tus conclusiones\n",
    "\n",
    "Primeramente se realizó un merge con los Data Frames de 'order_products' y el 'df_products'.\n",
    "\n"
   ]
  },
  {
   "cell_type": "markdown",
   "id": "b15d434a",
   "metadata": {},
   "source": [
    "<div class=\"alert alert-block alert-success\">\n",
    "<b>Comentario del revisor (2da Iteración)</b> <a class=“tocSkip”></a>\n",
    "\n",
    "Genial, has encontrado el top 20 de productos más populares.\n",
    "\n",
    "</div>"
   ]
  },
  {
   "cell_type": "markdown",
   "id": "87c23edb",
   "metadata": {},
   "source": [
    "[Volver a Contenidos](#back)"
   ]
  },
  {
   "cell_type": "markdown",
   "id": "gross-theme",
   "metadata": {
    "id": "gross-theme"
   },
   "source": [
    "# [C] Difícil (deben completarse todos para aprobar) <a id='hard'></a>\n",
    "\n",
    "1. ¿Cuántos artículos suelen comprar las personas en un pedido? ¿Cómo es la distribución?\n",
    "2. ¿Cuáles son los 20 principales artículos que vuelven a pedirse con mayor frecuencia (muestra sus nombres e IDs de los productos)?\n",
    "3. Para cada producto, ¿cuál es la tasa de repetición del pedido (número de repeticiones de pedido/total de pedidos?\n",
    "4. Para cada cliente, ¿qué proporción de los productos que pidió ya los había pedido? Calcula la tasa de repetición de pedido para cada usuario en lugar de para cada producto.\n",
    "5. ¿Cuáles son los 20 principales artículos que la gente pone primero en sus carritos (muestra las IDs de los productos, sus nombres, y el número de veces en que fueron el primer artículo en añadirse al carrito)?"
   ]
  },
  {
   "cell_type": "markdown",
   "id": "romantic-deposit",
   "metadata": {
    "id": "romantic-deposit"
   },
   "source": [
    "### [C1] ¿Cuántos artículos compran normalmente las personas en un pedido? ¿Cómo es la distribución?"
   ]
  },
  {
   "cell_type": "code",
   "execution_count": 51,
   "id": "virtual-punch",
   "metadata": {
    "id": "virtual-punch"
   },
   "outputs": [
    {
     "data": {
      "text/plain": [
       "order_id\n",
       "4          13\n",
       "9          15\n",
       "11          5\n",
       "19          3\n",
       "20          8\n",
       "           ..\n",
       "3421034    17\n",
       "3421053     9\n",
       "3421071     5\n",
       "3421077     4\n",
       "3421079     1\n",
       "Name: product_id, Length: 450046, dtype: int64"
      ]
     },
     "execution_count": 51,
     "metadata": {},
     "output_type": "execute_result"
    }
   ],
   "source": [
    "data_order = df_order_products.groupby('order_id')['product_id'].count() # En el DataFrame agrupamos por 'order_id' y contamos el número de productos\n",
    "data_order # imprimimos la lista creada para revisarla"
   ]
  },
  {
   "cell_type": "code",
   "execution_count": 52,
   "id": "sensitive-breathing",
   "metadata": {
    "id": "sensitive-breathing"
   },
   "outputs": [],
   "source": [
    "data_ordered_products = data_order.value_counts().sort_index()\n",
    "data_ordered_products\n",
    "data_ordered_products.columns = ['product_order', 'frecuency']"
   ]
  },
  {
   "cell_type": "code",
   "execution_count": 53,
   "id": "completed-frank",
   "metadata": {
    "id": "completed-frank",
    "scrolled": true
   },
   "outputs": [
    {
     "data": {
      "image/png": "[encoded data removed]",
      "text/plain": [
       "<Figure size 640x480 with 1 Axes>"
      ]
     },
     "metadata": {},
     "output_type": "display_data"
    }
   ],
   "source": [
    "data_ordered_products.plot(x='product_order',\n",
    "                           y='frecuency',\n",
    "                           title='Productos Solicitados', \n",
    "                           kind='bar'\n",
    "                          )\n",
    "plt.show()"
   ]
  },
  {
   "cell_type": "markdown",
   "id": "designed-mortality",
   "metadata": {
    "id": "designed-mortality"
   },
   "source": [
    "Escribe aquí tus conclusiones"
   ]
  },
  {
   "cell_type": "markdown",
   "id": "d409e930",
   "metadata": {},
   "source": [
    "<div class=\"alert alert-block alert-warning\">\n",
    "<b>Comentario del revisor (2da Iteración)</b> <a class=“tocSkip”></a>\n",
    "\n",
    "Aunque la información es correcta, el histograma no nos da mucha información, podrías optar por definir `kind = 'bar'`, para tener una mejor visualización de los datos.\n",
    "\n",
    "\n",
    "</div>"
   ]
  },
  {
   "cell_type": "markdown",
   "id": "6577409a",
   "metadata": {},
   "source": [
    "<div class=\"alert alert-block alert-info\">\n",
    "<b>Respuesta del estudiante</b> <a class=“tocSkip”></a>\n",
    "Alejandro, aun no me queda claro del todo cómo debe verse la gráfica de barras para esta distribución.\n",
    "</div>"
   ]
  },
  {
   "cell_type": "markdown",
   "id": "612ea7fe",
   "metadata": {},
   "source": [
    "<div class=\"alert alert-block alert-warning\">\n",
    "<b>Comentario del revisor (3ra Iteración)</b> <a class=“tocSkip”></a>\n",
    "\n",
    "Para este tipo de datos donde hay tanto valores en el eje x puedes optar por hacer un zoom, y solo representar los datos más significativos. Para ver eso puedes quitar el parámetro `log=False` para cambiar la escala de los datos de frcuencia. Con eso podrás ver que alrededor de 40 ya los valores son muy pequeños, entonces puedes recortar el eje X y solo mostrar los datos de 1 a 40 y con eso podrás tener una mejor visualización de los datos.\n",
    "\n",
    "</div>"
   ]
  },
  {
   "cell_type": "markdown",
   "id": "6af52772",
   "metadata": {},
   "source": [
    "[Volver a Contenidos](#back)"
   ]
  },
  {
   "cell_type": "markdown",
   "id": "5e6b5537",
   "metadata": {
    "id": "5e6b5537"
   },
   "source": [
    "### [C2] ¿Cuáles son los 20 principales artículos que vuelven a pedirse con mayor frecuencia (muestra sus nombres e IDs de los productos)?"
   ]
  },
  {
   "cell_type": "code",
   "execution_count": 54,
   "id": "9374e55a",
   "metadata": {
    "id": "9374e55a"
   },
   "outputs": [
    {
     "data": {
      "text/html": [
       "<div>\n",
       "<style scoped>\n",
       "    .dataframe tbody tr th:only-of-type {\n",
       "        vertical-align: middle;\n",
       "    }\n",
       "\n",
       "    .dataframe tbody tr th {\n",
       "        vertical-align: top;\n",
       "    }\n",
       "\n",
       "    .dataframe thead th {\n",
       "        text-align: right;\n",
       "    }\n",
       "</style>\n",
       "<table border=\"1\" class=\"dataframe\">\n",
       "  <thead>\n",
       "    <tr style=\"text-align: right;\">\n",
       "      <th></th>\n",
       "      <th>order_id</th>\n",
       "      <th>product_id</th>\n",
       "      <th>add_to_cart_order</th>\n",
       "      <th>reordered</th>\n",
       "    </tr>\n",
       "  </thead>\n",
       "  <tbody>\n",
       "    <tr>\n",
       "      <th>1</th>\n",
       "      <td>567889</td>\n",
       "      <td>1560</td>\n",
       "      <td>1</td>\n",
       "      <td>1</td>\n",
       "    </tr>\n",
       "    <tr>\n",
       "      <th>2</th>\n",
       "      <td>2261212</td>\n",
       "      <td>26683</td>\n",
       "      <td>1</td>\n",
       "      <td>1</td>\n",
       "    </tr>\n",
       "    <tr>\n",
       "      <th>3</th>\n",
       "      <td>491251</td>\n",
       "      <td>8670</td>\n",
       "      <td>35</td>\n",
       "      <td>1</td>\n",
       "    </tr>\n",
       "    <tr>\n",
       "      <th>4</th>\n",
       "      <td>2571142</td>\n",
       "      <td>1940</td>\n",
       "      <td>5</td>\n",
       "      <td>1</td>\n",
       "    </tr>\n",
       "    <tr>\n",
       "      <th>5</th>\n",
       "      <td>2456893</td>\n",
       "      <td>21616</td>\n",
       "      <td>4</td>\n",
       "      <td>1</td>\n",
       "    </tr>\n",
       "    <tr>\n",
       "      <th>...</th>\n",
       "      <td>...</td>\n",
       "      <td>...</td>\n",
       "      <td>...</td>\n",
       "      <td>...</td>\n",
       "    </tr>\n",
       "    <tr>\n",
       "      <th>4544999</th>\n",
       "      <td>1622300</td>\n",
       "      <td>24852</td>\n",
       "      <td>1</td>\n",
       "      <td>1</td>\n",
       "    </tr>\n",
       "    <tr>\n",
       "      <th>4545000</th>\n",
       "      <td>1125324</td>\n",
       "      <td>40600</td>\n",
       "      <td>6</td>\n",
       "      <td>1</td>\n",
       "    </tr>\n",
       "    <tr>\n",
       "      <th>4545002</th>\n",
       "      <td>577211</td>\n",
       "      <td>15290</td>\n",
       "      <td>12</td>\n",
       "      <td>1</td>\n",
       "    </tr>\n",
       "    <tr>\n",
       "      <th>4545004</th>\n",
       "      <td>692640</td>\n",
       "      <td>47766</td>\n",
       "      <td>4</td>\n",
       "      <td>1</td>\n",
       "    </tr>\n",
       "    <tr>\n",
       "      <th>4545005</th>\n",
       "      <td>319435</td>\n",
       "      <td>691</td>\n",
       "      <td>8</td>\n",
       "      <td>1</td>\n",
       "    </tr>\n",
       "  </tbody>\n",
       "</table>\n",
       "<p>2683838 rows × 4 columns</p>\n",
       "</div>"
      ],
      "text/plain": [
       "         order_id  product_id  add_to_cart_order  reordered\n",
       "1          567889        1560                  1          1\n",
       "2         2261212       26683                  1          1\n",
       "3          491251        8670                 35          1\n",
       "4         2571142        1940                  5          1\n",
       "5         2456893       21616                  4          1\n",
       "...           ...         ...                ...        ...\n",
       "4544999   1622300       24852                  1          1\n",
       "4545000   1125324       40600                  6          1\n",
       "4545002    577211       15290                 12          1\n",
       "4545004    692640       47766                  4          1\n",
       "4545005    319435         691                  8          1\n",
       "\n",
       "[2683838 rows x 4 columns]"
      ]
     },
     "execution_count": 54,
     "metadata": {},
     "output_type": "execute_result"
    }
   ],
   "source": [
    "products_reordered = df_order_products[df_order_products['reordered'] == 1] \n",
    "products_reordered"
   ]
  },
  {
   "cell_type": "code",
   "execution_count": 55,
   "id": "possible-change",
   "metadata": {
    "id": "possible-change",
    "scrolled": true
   },
   "outputs": [
    {
     "data": {
      "text/html": [
       "<div>\n",
       "<style scoped>\n",
       "    .dataframe tbody tr th:only-of-type {\n",
       "        vertical-align: middle;\n",
       "    }\n",
       "\n",
       "    .dataframe tbody tr th {\n",
       "        vertical-align: top;\n",
       "    }\n",
       "\n",
       "    .dataframe thead th {\n",
       "        text-align: right;\n",
       "    }\n",
       "</style>\n",
       "<table border=\"1\" class=\"dataframe\">\n",
       "  <thead>\n",
       "    <tr style=\"text-align: right;\">\n",
       "      <th></th>\n",
       "      <th>product_id</th>\n",
       "      <th>frequency</th>\n",
       "    </tr>\n",
       "  </thead>\n",
       "  <tbody>\n",
       "    <tr>\n",
       "      <th>0</th>\n",
       "      <td>24852</td>\n",
       "      <td>55763</td>\n",
       "    </tr>\n",
       "    <tr>\n",
       "      <th>1</th>\n",
       "      <td>13176</td>\n",
       "      <td>44450</td>\n",
       "    </tr>\n",
       "    <tr>\n",
       "      <th>2</th>\n",
       "      <td>21137</td>\n",
       "      <td>28639</td>\n",
       "    </tr>\n",
       "    <tr>\n",
       "      <th>3</th>\n",
       "      <td>21903</td>\n",
       "      <td>26233</td>\n",
       "    </tr>\n",
       "    <tr>\n",
       "      <th>4</th>\n",
       "      <td>47209</td>\n",
       "      <td>23629</td>\n",
       "    </tr>\n",
       "    <tr>\n",
       "      <th>5</th>\n",
       "      <td>47766</td>\n",
       "      <td>18743</td>\n",
       "    </tr>\n",
       "    <tr>\n",
       "      <th>6</th>\n",
       "      <td>27845</td>\n",
       "      <td>16251</td>\n",
       "    </tr>\n",
       "    <tr>\n",
       "      <th>7</th>\n",
       "      <td>47626</td>\n",
       "      <td>15044</td>\n",
       "    </tr>\n",
       "    <tr>\n",
       "      <th>8</th>\n",
       "      <td>27966</td>\n",
       "      <td>14748</td>\n",
       "    </tr>\n",
       "    <tr>\n",
       "      <th>9</th>\n",
       "      <td>16797</td>\n",
       "      <td>13945</td>\n",
       "    </tr>\n",
       "    <tr>\n",
       "      <th>10</th>\n",
       "      <td>26209</td>\n",
       "      <td>13327</td>\n",
       "    </tr>\n",
       "    <tr>\n",
       "      <th>11</th>\n",
       "      <td>22935</td>\n",
       "      <td>11145</td>\n",
       "    </tr>\n",
       "    <tr>\n",
       "      <th>12</th>\n",
       "      <td>24964</td>\n",
       "      <td>10411</td>\n",
       "    </tr>\n",
       "    <tr>\n",
       "      <th>13</th>\n",
       "      <td>45007</td>\n",
       "      <td>10076</td>\n",
       "    </tr>\n",
       "    <tr>\n",
       "      <th>14</th>\n",
       "      <td>49683</td>\n",
       "      <td>9538</td>\n",
       "    </tr>\n",
       "    <tr>\n",
       "      <th>15</th>\n",
       "      <td>28204</td>\n",
       "      <td>8989</td>\n",
       "    </tr>\n",
       "    <tr>\n",
       "      <th>16</th>\n",
       "      <td>8277</td>\n",
       "      <td>8836</td>\n",
       "    </tr>\n",
       "    <tr>\n",
       "      <th>17</th>\n",
       "      <td>39275</td>\n",
       "      <td>8799</td>\n",
       "    </tr>\n",
       "    <tr>\n",
       "      <th>18</th>\n",
       "      <td>5876</td>\n",
       "      <td>8412</td>\n",
       "    </tr>\n",
       "    <tr>\n",
       "      <th>19</th>\n",
       "      <td>49235</td>\n",
       "      <td>8389</td>\n",
       "    </tr>\n",
       "  </tbody>\n",
       "</table>\n",
       "</div>"
      ],
      "text/plain": [
       "    product_id  frequency\n",
       "0        24852      55763\n",
       "1        13176      44450\n",
       "2        21137      28639\n",
       "3        21903      26233\n",
       "4        47209      23629\n",
       "5        47766      18743\n",
       "6        27845      16251\n",
       "7        47626      15044\n",
       "8        27966      14748\n",
       "9        16797      13945\n",
       "10       26209      13327\n",
       "11       22935      11145\n",
       "12       24964      10411\n",
       "13       45007      10076\n",
       "14       49683       9538\n",
       "15       28204       8989\n",
       "16        8277       8836\n",
       "17       39275       8799\n",
       "18        5876       8412\n",
       "19       49235       8389"
      ]
     },
     "execution_count": 55,
     "metadata": {},
     "output_type": "execute_result"
    }
   ],
   "source": [
    "popular_products = products_reordered['product_id'].value_counts().sort_values(ascending=False)\n",
    "top_20 = popular_products.head(20)\n",
    "top_20 = top_20.reset_index()\n",
    "top_20.columns = ['product_id', 'frequency']\n",
    "top_20"
   ]
  },
  {
   "cell_type": "code",
   "execution_count": 56,
   "id": "professional-surfing",
   "metadata": {
    "id": "professional-surfing",
    "scrolled": true
   },
   "outputs": [
    {
     "data": {
      "text/html": [
       "<div>\n",
       "<style scoped>\n",
       "    .dataframe tbody tr th:only-of-type {\n",
       "        vertical-align: middle;\n",
       "    }\n",
       "\n",
       "    .dataframe tbody tr th {\n",
       "        vertical-align: top;\n",
       "    }\n",
       "\n",
       "    .dataframe thead th {\n",
       "        text-align: right;\n",
       "    }\n",
       "</style>\n",
       "<table border=\"1\" class=\"dataframe\">\n",
       "  <thead>\n",
       "    <tr style=\"text-align: right;\">\n",
       "      <th></th>\n",
       "      <th>product_id</th>\n",
       "      <th>frequency</th>\n",
       "      <th>product_name</th>\n",
       "    </tr>\n",
       "  </thead>\n",
       "  <tbody>\n",
       "    <tr>\n",
       "      <th>0</th>\n",
       "      <td>24852</td>\n",
       "      <td>55763</td>\n",
       "      <td>BANANA</td>\n",
       "    </tr>\n",
       "    <tr>\n",
       "      <th>1</th>\n",
       "      <td>13176</td>\n",
       "      <td>44450</td>\n",
       "      <td>BAG OF ORGANIC BANANAS</td>\n",
       "    </tr>\n",
       "    <tr>\n",
       "      <th>2</th>\n",
       "      <td>21137</td>\n",
       "      <td>28639</td>\n",
       "      <td>ORGANIC STRAWBERRIES</td>\n",
       "    </tr>\n",
       "    <tr>\n",
       "      <th>3</th>\n",
       "      <td>21903</td>\n",
       "      <td>26233</td>\n",
       "      <td>ORGANIC BABY SPINACH</td>\n",
       "    </tr>\n",
       "    <tr>\n",
       "      <th>4</th>\n",
       "      <td>47209</td>\n",
       "      <td>23629</td>\n",
       "      <td>ORGANIC HASS AVOCADO</td>\n",
       "    </tr>\n",
       "    <tr>\n",
       "      <th>5</th>\n",
       "      <td>47766</td>\n",
       "      <td>18743</td>\n",
       "      <td>ORGANIC AVOCADO</td>\n",
       "    </tr>\n",
       "    <tr>\n",
       "      <th>6</th>\n",
       "      <td>27845</td>\n",
       "      <td>16251</td>\n",
       "      <td>ORGANIC WHOLE MILK</td>\n",
       "    </tr>\n",
       "    <tr>\n",
       "      <th>7</th>\n",
       "      <td>47626</td>\n",
       "      <td>15044</td>\n",
       "      <td>LARGE LEMON</td>\n",
       "    </tr>\n",
       "    <tr>\n",
       "      <th>8</th>\n",
       "      <td>27966</td>\n",
       "      <td>14748</td>\n",
       "      <td>ORGANIC RASPBERRIES</td>\n",
       "    </tr>\n",
       "    <tr>\n",
       "      <th>9</th>\n",
       "      <td>16797</td>\n",
       "      <td>13945</td>\n",
       "      <td>STRAWBERRIES</td>\n",
       "    </tr>\n",
       "    <tr>\n",
       "      <th>10</th>\n",
       "      <td>26209</td>\n",
       "      <td>13327</td>\n",
       "      <td>LIMES</td>\n",
       "    </tr>\n",
       "    <tr>\n",
       "      <th>11</th>\n",
       "      <td>22935</td>\n",
       "      <td>11145</td>\n",
       "      <td>ORGANIC YELLOW ONION</td>\n",
       "    </tr>\n",
       "    <tr>\n",
       "      <th>12</th>\n",
       "      <td>24964</td>\n",
       "      <td>10411</td>\n",
       "      <td>ORGANIC GARLIC</td>\n",
       "    </tr>\n",
       "    <tr>\n",
       "      <th>13</th>\n",
       "      <td>45007</td>\n",
       "      <td>10076</td>\n",
       "      <td>ORGANIC ZUCCHINI</td>\n",
       "    </tr>\n",
       "    <tr>\n",
       "      <th>14</th>\n",
       "      <td>49683</td>\n",
       "      <td>9538</td>\n",
       "      <td>CUCUMBER KIRBY</td>\n",
       "    </tr>\n",
       "    <tr>\n",
       "      <th>15</th>\n",
       "      <td>28204</td>\n",
       "      <td>8989</td>\n",
       "      <td>ORGANIC FUJI APPLE</td>\n",
       "    </tr>\n",
       "    <tr>\n",
       "      <th>16</th>\n",
       "      <td>8277</td>\n",
       "      <td>8836</td>\n",
       "      <td>APPLE HONEYCRISP ORGANIC</td>\n",
       "    </tr>\n",
       "    <tr>\n",
       "      <th>17</th>\n",
       "      <td>39275</td>\n",
       "      <td>8799</td>\n",
       "      <td>ORGANIC BLUEBERRIES</td>\n",
       "    </tr>\n",
       "    <tr>\n",
       "      <th>18</th>\n",
       "      <td>5876</td>\n",
       "      <td>8412</td>\n",
       "      <td>ORGANIC LEMON</td>\n",
       "    </tr>\n",
       "    <tr>\n",
       "      <th>19</th>\n",
       "      <td>49235</td>\n",
       "      <td>8389</td>\n",
       "      <td>ORGANIC HALF &amp; HALF</td>\n",
       "    </tr>\n",
       "  </tbody>\n",
       "</table>\n",
       "</div>"
      ],
      "text/plain": [
       "    product_id  frequency              product_name\n",
       "0        24852      55763                    BANANA\n",
       "1        13176      44450    BAG OF ORGANIC BANANAS\n",
       "2        21137      28639      ORGANIC STRAWBERRIES\n",
       "3        21903      26233      ORGANIC BABY SPINACH\n",
       "4        47209      23629      ORGANIC HASS AVOCADO\n",
       "5        47766      18743           ORGANIC AVOCADO\n",
       "6        27845      16251        ORGANIC WHOLE MILK\n",
       "7        47626      15044               LARGE LEMON\n",
       "8        27966      14748       ORGANIC RASPBERRIES\n",
       "9        16797      13945              STRAWBERRIES\n",
       "10       26209      13327                     LIMES\n",
       "11       22935      11145      ORGANIC YELLOW ONION\n",
       "12       24964      10411            ORGANIC GARLIC\n",
       "13       45007      10076          ORGANIC ZUCCHINI\n",
       "14       49683       9538            CUCUMBER KIRBY\n",
       "15       28204       8989        ORGANIC FUJI APPLE\n",
       "16        8277       8836  APPLE HONEYCRISP ORGANIC\n",
       "17       39275       8799       ORGANIC BLUEBERRIES\n",
       "18        5876       8412             ORGANIC LEMON\n",
       "19       49235       8389       ORGANIC HALF & HALF"
      ]
     },
     "execution_count": 56,
     "metadata": {},
     "output_type": "execute_result"
    }
   ],
   "source": [
    "top_20_names = top_20.merge(df_products, on='product_id')\n",
    "top_20_names.drop(['aisle_id', 'department_id'], axis='columns', inplace=True)\n",
    "top_20_names"
   ]
  },
  {
   "cell_type": "code",
   "execution_count": 57,
   "id": "48dd3658",
   "metadata": {
    "id": "48dd3658"
   },
   "outputs": [
    {
     "data": {
      "image/png": "[encoded data removed]",
      "text/plain": [
       "<Figure size 640x480 with 1 Axes>"
      ]
     },
     "metadata": {},
     "output_type": "display_data"
    }
   ],
   "source": [
    "top_20_names.plot(x='product_name',\n",
    "                  y='frequency',\n",
    "                  kind='bar',\n",
    "                  title='Artículos Top 20',\n",
    "                  xlabel='Nombre del Artículo',\n",
    "                  ylabel='Frecuencia de pedido',\n",
    "                  legend=False\n",
    "                  )\n",
    "plt.show()"
   ]
  },
  {
   "cell_type": "markdown",
   "id": "80e70c74",
   "metadata": {
    "id": "80e70c74"
   },
   "source": [
    "Escribe aquí tus conclusiones"
   ]
  },
  {
   "cell_type": "markdown",
   "id": "98b1e952",
   "metadata": {},
   "source": [
    "<div class=\"alert alert-block alert-success\">\n",
    "<b>Comentario del revisor (1ra Iteración)</b> <a class=“tocSkip”></a>\n",
    "\n",
    "Perfecto Tom, has encontrado el top 20 de productos que son más \"re-ordenados\" por los usuarios. \n",
    "\n",
    "</div>"
   ]
  },
  {
   "cell_type": "markdown",
   "id": "c97428d3",
   "metadata": {},
   "source": [
    "[Volver a Contenidos](#back)"
   ]
  },
  {
   "cell_type": "markdown",
   "id": "9d312b14",
   "metadata": {
    "id": "9d312b14"
   },
   "source": [
    "### [C3] Para cada producto, ¿cuál es la proporción de las veces que se pide y que se vuelve a pedir?"
   ]
  },
  {
   "cell_type": "markdown",
   "id": "1442f993",
   "metadata": {
    "id": "8ae9f4b1"
   },
   "source": [
    "<div class=\"alert alert-block alert-danger\">\n",
    "<b>Comentario del revisor (2da Iteración)</b> <a class=“tocSkip”></a>\n",
    "\n",
    "Acá debes usar la información de la columna *reordered* del dataset **df_order_products**. Si combinamos la información de este dataset con el de **df_products** y agrupamamos por *product_id* y *product_name*, podemos determinar la proporción sacando el promedio de *reordered*, teniendo en cuenta que esta columna solo maneja valores de 1 y 0\n",
    "</div>"
   ]
  },
  {
   "cell_type": "code",
   "execution_count": 58,
   "id": "103e7fe1",
   "metadata": {
    "id": "103e7fe1",
    "scrolled": true
   },
   "outputs": [
    {
     "data": {
      "text/html": [
       "<div>\n",
       "<style scoped>\n",
       "    .dataframe tbody tr th:only-of-type {\n",
       "        vertical-align: middle;\n",
       "    }\n",
       "\n",
       "    .dataframe tbody tr th {\n",
       "        vertical-align: top;\n",
       "    }\n",
       "\n",
       "    .dataframe thead th {\n",
       "        text-align: right;\n",
       "    }\n",
       "</style>\n",
       "<table border=\"1\" class=\"dataframe\">\n",
       "  <thead>\n",
       "    <tr style=\"text-align: right;\">\n",
       "      <th></th>\n",
       "      <th>order_id</th>\n",
       "      <th>product_id</th>\n",
       "      <th>add_to_cart_order</th>\n",
       "      <th>reordered</th>\n",
       "      <th>product_name</th>\n",
       "      <th>aisle_id</th>\n",
       "      <th>department_id</th>\n",
       "    </tr>\n",
       "  </thead>\n",
       "  <tbody>\n",
       "    <tr>\n",
       "      <th>0</th>\n",
       "      <td>2141543</td>\n",
       "      <td>11440</td>\n",
       "      <td>17</td>\n",
       "      <td>0</td>\n",
       "      <td>CHICKEN BREAST TENDERS BREADED</td>\n",
       "      <td>129</td>\n",
       "      <td>1</td>\n",
       "    </tr>\n",
       "    <tr>\n",
       "      <th>1</th>\n",
       "      <td>147172</td>\n",
       "      <td>11440</td>\n",
       "      <td>7</td>\n",
       "      <td>1</td>\n",
       "      <td>CHICKEN BREAST TENDERS BREADED</td>\n",
       "      <td>129</td>\n",
       "      <td>1</td>\n",
       "    </tr>\n",
       "    <tr>\n",
       "      <th>2</th>\n",
       "      <td>3341719</td>\n",
       "      <td>11440</td>\n",
       "      <td>4</td>\n",
       "      <td>1</td>\n",
       "      <td>CHICKEN BREAST TENDERS BREADED</td>\n",
       "      <td>129</td>\n",
       "      <td>1</td>\n",
       "    </tr>\n",
       "    <tr>\n",
       "      <th>3</th>\n",
       "      <td>1938779</td>\n",
       "      <td>11440</td>\n",
       "      <td>8</td>\n",
       "      <td>1</td>\n",
       "      <td>CHICKEN BREAST TENDERS BREADED</td>\n",
       "      <td>129</td>\n",
       "      <td>1</td>\n",
       "    </tr>\n",
       "    <tr>\n",
       "      <th>4</th>\n",
       "      <td>1728338</td>\n",
       "      <td>11440</td>\n",
       "      <td>23</td>\n",
       "      <td>0</td>\n",
       "      <td>CHICKEN BREAST TENDERS BREADED</td>\n",
       "      <td>129</td>\n",
       "      <td>1</td>\n",
       "    </tr>\n",
       "    <tr>\n",
       "      <th>...</th>\n",
       "      <td>...</td>\n",
       "      <td>...</td>\n",
       "      <td>...</td>\n",
       "      <td>...</td>\n",
       "      <td>...</td>\n",
       "      <td>...</td>\n",
       "      <td>...</td>\n",
       "    </tr>\n",
       "    <tr>\n",
       "      <th>4545002</th>\n",
       "      <td>267402</td>\n",
       "      <td>45226</td>\n",
       "      <td>14</td>\n",
       "      <td>0</td>\n",
       "      <td>SWEET TERIYAKI CHICKEN OVEN SAUCE</td>\n",
       "      <td>5</td>\n",
       "      <td>13</td>\n",
       "    </tr>\n",
       "    <tr>\n",
       "      <th>4545003</th>\n",
       "      <td>2621676</td>\n",
       "      <td>25201</td>\n",
       "      <td>10</td>\n",
       "      <td>0</td>\n",
       "      <td>CRISP WATERS CANDLE SCENTS</td>\n",
       "      <td>101</td>\n",
       "      <td>17</td>\n",
       "    </tr>\n",
       "    <tr>\n",
       "      <th>4545004</th>\n",
       "      <td>937623</td>\n",
       "      <td>49153</td>\n",
       "      <td>2</td>\n",
       "      <td>0</td>\n",
       "      <td>SHINE COLLECTION BRILLANCE SHAMPOO</td>\n",
       "      <td>22</td>\n",
       "      <td>11</td>\n",
       "    </tr>\n",
       "    <tr>\n",
       "      <th>4545005</th>\n",
       "      <td>532895</td>\n",
       "      <td>8182</td>\n",
       "      <td>1</td>\n",
       "      <td>0</td>\n",
       "      <td>TOTAL MINT STRIPE GEL TOOTHPASTE</td>\n",
       "      <td>20</td>\n",
       "      <td>11</td>\n",
       "    </tr>\n",
       "    <tr>\n",
       "      <th>4545006</th>\n",
       "      <td>3132243</td>\n",
       "      <td>40024</td>\n",
       "      <td>1</td>\n",
       "      <td>0</td>\n",
       "      <td>EGG REPLACER POWDER</td>\n",
       "      <td>17</td>\n",
       "      <td>13</td>\n",
       "    </tr>\n",
       "  </tbody>\n",
       "</table>\n",
       "<p>4545007 rows × 7 columns</p>\n",
       "</div>"
      ],
      "text/plain": [
       "         order_id  product_id  add_to_cart_order  reordered  \\\n",
       "0         2141543       11440                 17          0   \n",
       "1          147172       11440                  7          1   \n",
       "2         3341719       11440                  4          1   \n",
       "3         1938779       11440                  8          1   \n",
       "4         1728338       11440                 23          0   \n",
       "...           ...         ...                ...        ...   \n",
       "4545002    267402       45226                 14          0   \n",
       "4545003   2621676       25201                 10          0   \n",
       "4545004    937623       49153                  2          0   \n",
       "4545005    532895        8182                  1          0   \n",
       "4545006   3132243       40024                  1          0   \n",
       "\n",
       "                               product_name  aisle_id  department_id  \n",
       "0            CHICKEN BREAST TENDERS BREADED       129              1  \n",
       "1            CHICKEN BREAST TENDERS BREADED       129              1  \n",
       "2            CHICKEN BREAST TENDERS BREADED       129              1  \n",
       "3            CHICKEN BREAST TENDERS BREADED       129              1  \n",
       "4            CHICKEN BREAST TENDERS BREADED       129              1  \n",
       "...                                     ...       ...            ...  \n",
       "4545002   SWEET TERIYAKI CHICKEN OVEN SAUCE         5             13  \n",
       "4545003          CRISP WATERS CANDLE SCENTS       101             17  \n",
       "4545004  SHINE COLLECTION BRILLANCE SHAMPOO        22             11  \n",
       "4545005    TOTAL MINT STRIPE GEL TOOTHPASTE        20             11  \n",
       "4545006                 EGG REPLACER POWDER        17             13  \n",
       "\n",
       "[4545007 rows x 7 columns]"
      ]
     },
     "execution_count": 58,
     "metadata": {},
     "output_type": "execute_result"
    }
   ],
   "source": [
    "df_products_merged = df_order_products.merge(df_products, on='product_id') # combinamos los DataFrames por el número de ID de producto\n",
    "df_products_merged   # echamos un vistazo al dataframe"
   ]
  },
  {
   "cell_type": "code",
   "execution_count": 59,
   "id": "social-individual",
   "metadata": {
    "id": "social-individual",
    "scrolled": true
   },
   "outputs": [
    {
     "data": {
      "text/plain": [
       "product_name\n",
       "#2 COFFEE FILTERS                                                                          1.564819e+06\n",
       "#2 CONE WHITE COFFEE FILTERS                                                               9.353560e+05\n",
       "#2 MECHANICAL PENCILS                                                                      1.026556e+06\n",
       "#4 NATURAL BROWN COFFEE FILTERS                                                            1.480902e+06\n",
       "& GO! HAZELNUT SPREAD + PRETZEL STICKS                                                     1.354551e+06\n",
       "                                                                                               ...     \n",
       "\\\"DARN GOOD\\\" CHILI MIX                                                                    1.119131e+06\n",
       "\\\"IM PEI-NUT BUTTER\\\" DOUBLE CHOCOLATE COOKIE & PEANUT BUTTER ICE CREAM                    2.008436e+06\n",
       "\\\"LOUIS BA-KAHN\\\" CHOCOLATE CHIP COOKIE & BROWN BUTTER CANDIED BACON ICE CREAM SANDWICH    1.702612e+06\n",
       "\\\"MIES VANILLA ROHE\\\" ICE CREAM BARS                                                       7.391665e+05\n",
       "\\\"MOKACCINO\\\" MILK + BLUE BOTTLE COFFEE CHOCOLATE                                          1.871632e+06\n",
       "Name: order_id, Length: 42788, dtype: float64"
      ]
     },
     "execution_count": 59,
     "metadata": {},
     "output_type": "execute_result"
    }
   ],
   "source": [
    "# Proporción de las veces que se pide una sola vez cada producto\n",
    "once_ordered = df_products_merged[df_products_merged['reordered'] == 0] # filtramos por productos sin reorden (0)\n",
    "once_ordered.groupby('product_name')['order_id'].mean()   # agrupamos por el nombre y sacamos el promedio de los pedidos"
   ]
  },
  {
   "cell_type": "code",
   "execution_count": 60,
   "id": "ad859237",
   "metadata": {},
   "outputs": [
    {
     "data": {
      "text/plain": [
       "product_name\n",
       "#2 COFFEE FILTERS                                                          2.039464e+06\n",
       "#4 NATURAL BROWN COFFEE FILTERS                                            1.929357e+06\n",
       "& GO! HAZELNUT SPREAD + PRETZEL STICKS                                     1.685662e+06\n",
       "(70% JUICE!) MOUNTAIN RASPBERRY JUICE SQUEEZE                              1.056916e+06\n",
       "+ENERGY BLACK CHERRY VEGETABLE & FRUIT JUICE                               1.823040e+06\n",
       "                                                                               ...     \n",
       "\\\"CONSTANT COMMENT\\\" DECAFFEINATED BLACK TEA BLEND                         1.747918e+06\n",
       "\\\"DARN GOOD\\\" CHILI MIX                                                    3.165248e+06\n",
       "\\\"IM PEI-NUT BUTTER\\\" DOUBLE CHOCOLATE COOKIE & PEANUT BUTTER ICE CREAM    1.623985e+06\n",
       "\\\"MIES VANILLA ROHE\\\" ICE CREAM BARS                                       1.943646e+06\n",
       "\\\"MOKACCINO\\\" MILK + BLUE BOTTLE COFFEE CHOCOLATE                          1.761333e+06\n",
       "Name: order_id, Length: 35651, dtype: float64"
      ]
     },
     "execution_count": 60,
     "metadata": {},
     "output_type": "execute_result"
    }
   ],
   "source": [
    "# Proporción de las veces que se vuelve a pedir un porducto\n",
    "reordered = df_products_merged[df_products_merged['reordered'] == 1] # filtramos por productos con reorden (1)\n",
    "reordered.groupby('product_name')['order_id'].mean()   # agrupamos por el nombre y sacamos el promedio de los pedidos"
   ]
  },
  {
   "cell_type": "markdown",
   "id": "e70f987d",
   "metadata": {},
   "source": [
    "<div class=\"alert alert-block alert-info\">\n",
    "<b>Respuesta del estudiante</b> <a class=“tocSkip”></a>\n",
    "Alejandro, aun no estoy seguro si estas distribuciones son correctas.\n",
    "</div>"
   ]
  },
  {
   "cell_type": "markdown",
   "id": "9542a14c",
   "metadata": {},
   "source": [
    "<div class=\"alert alert-block alert-danger\">\n",
    "<b>Comentario del revisor (3ra Iteración)</b> <a class=“tocSkip”></a>\n",
    "\n",
    "3️⃣ Tom la ide que tuviste está bastante cerca. Ten en cuenta que cuando se habla de proporciones los valores se encuentran entre 0 y 1 (0-100%) por lo que los números que estás obteniendo están alejado de ese rango, y la razon es que estás calculando el promedio de *order_id*. Esta columna tiene un código asigando para cada compra, dicho código es un número muy grande por eso estás obteniendo datos tan altos.\n",
    "    \n",
    "Entonces lo que debes hacer es reordernar un poco todo el código que tienes. En primera instancia no es necesario separar los datos de acuerdo a si fueron reordenados o no, de hecho necesitamos tenerlos juntos para que podamos obtener los valores correctos. Debes tomar tu dataset **df_products_merged**, agruparlos por *product_id* y *product_name*, y calcular el promedio de la columna *reordered*. Algo similar a cómo lo estás haciendo, pero empleando la columna correctamente.\n",
    "    \n",
    "Entonces tratemos de entender esto. *reordered* tiene valores de 0 o 1, si un producto ha sido re-ordenado siempre, todos los valores de esa colummna para ese producto será de 1, por lo tanto el promedio será de 1, lo que quiere decir que el 100% de las veces fue re-ordenado. Ahora, supongamos que un  producto ha sido re-ordenado la mitad de las veces, es decir que la mitada de valore sde la columna *reordered* va tener valor de 1 y la otra mitad 0, por lo tanto, el promedio será 0.5, es decir que en el 50% de las ordenes el producto ha sido reordenado.\n",
    "</div>"
   ]
  },
  {
   "cell_type": "markdown",
   "id": "cead5aa1",
   "metadata": {},
   "source": [
    "<div class=\"alert alert-block alert-info\">\n",
    "<b>Respuesta del estudiante (3ra Iteración)</b> <a class=“tocSkip”></a>\n",
    "Alejandro, qué tal. Me parece que ya he logrado el código que saca la proporción de cada producto; sinceramente no sabía que se podría agrupar por más de una columna, investigando un poco me di cuenta como se hace.\n",
    "Espero que la respuesta y la concluisión sean correctas, entiendo que no es necesario graficar el resultado, es correcto?\n",
    "    Nuevamente gracias y saludos!\n",
    "</div>"
   ]
  },
  {
   "cell_type": "code",
   "execution_count": 61,
   "id": "a14f29c6",
   "metadata": {},
   "outputs": [
    {
     "data": {
      "text/plain": [
       "product_id  product_name                           \n",
       "30603       SPICY KETTLE CORN                          1.000000\n",
       "17711       APRICOT & HIBISCUS PRESERVES               0.000000\n",
       "44743       REAL ZERO COLA                             1.000000\n",
       "41408       GOAT'S MILK CHEESE                         0.680000\n",
       "44394       Unknown                                    0.000000\n",
       "22490       THICK BACON                                0.606061\n",
       "15205       SARDINES WITH LEMON PACKED IN OLIVE OIL    0.571429\n",
       "18653       SUPER SHREDS SUPERFOOD BRUSSELS SPROUTS    0.314815\n",
       "44958       MIRACULOUSLY SMOOTH CONDITIONER            0.000000\n",
       "9364        MILD GREEN CHILE ENCHILADA SAUCE           0.271429\n",
       "46469       CONCENTRATE CHAI TEA                       0.000000\n",
       "48562       ROASTED & PEELED WHOLE CHESTNUTS           0.250000\n",
       "15951       GREEN GOODNESS FRUIT SMOOTHIE + BOOSTS     0.585366\n",
       "48690       ULTRA SOFTLY FACIAL TISSUE 3-PLY           0.444444\n",
       "20549       ORGANIC ORZO                               0.349003\n",
       "Name: reordered, dtype: float64"
      ]
     },
     "execution_count": 61,
     "metadata": {},
     "output_type": "execute_result"
    }
   ],
   "source": [
    "id_product_name_group = df_products_merged.groupby(['product_id', 'product_name'])['reordered'].mean()  # creamos un DataFram agrupando las columnas 'product_id' y 'product_name, despu[es sacamos el promedio de 'reordered']'\n",
    "id_product_name_group.sample(15) # echamos un vistazo al nuevo DataFrame que contiene las proporciones por cada producto"
   ]
  },
  {
   "cell_type": "markdown",
   "id": "c6bd1cc8",
   "metadata": {},
   "source": [
    "<div class=\"alert alert-block alert-success\">\n",
    "<b>Comentario del revisor (4ta Iteración)</b> <a class=“tocSkip”></a>\n",
    "\n",
    "Perfecto Tom, has encontrado la información correcta. Y me alegra que hayas podido aprender algo nuevo.\n",
    "\n",
    "</div>"
   ]
  },
  {
   "cell_type": "markdown",
   "id": "I10dEIAyldcO",
   "metadata": {
    "id": "I10dEIAyldcO"
   },
   "source": [
    "Escribe aquí tus conclusiones\n",
    "\n",
    "En la serie obtenida, podemos ver un que cada uno de los productos contiene una proporción que va desde el cero hasta el uno.\n",
    "Podemos entender, por el DataFrame original que mezclamos, que los productos que han sido reordenados contienen un valor 1, mientras que los productos con valor 0 núnca han sido reordenados.\n",
    "\n",
    "Por lo anterior podemos concluír que los productos que se acercan a la proporción 0.5 han sido reordenados la mitad de las veces que se han solicitado comprar, el resto de los productos se habrán reordenado o vuleto a pedir en procentajes; es decir, si tienen una proporción del 0.3 quiere decir que se han reordenado el 30% de las veces."
   ]
  },
  {
   "cell_type": "markdown",
   "id": "177854e6",
   "metadata": {},
   "source": [
    "[Volver a Contenidos](#back)"
   ]
  },
  {
   "cell_type": "markdown",
   "id": "subject-boxing",
   "metadata": {
    "id": "subject-boxing"
   },
   "source": [
    "### [C4] Para cada cliente, ¿qué proporción de sus productos ya los había pedido?"
   ]
  },
  {
   "cell_type": "code",
   "execution_count": 62,
   "id": "medical-couple",
   "metadata": {
    "id": "medical-couple",
    "scrolled": true
   },
   "outputs": [
    {
     "data": {
      "text/html": [
       "<div>\n",
       "<style scoped>\n",
       "    .dataframe tbody tr th:only-of-type {\n",
       "        vertical-align: middle;\n",
       "    }\n",
       "\n",
       "    .dataframe tbody tr th {\n",
       "        vertical-align: top;\n",
       "    }\n",
       "\n",
       "    .dataframe thead th {\n",
       "        text-align: right;\n",
       "    }\n",
       "</style>\n",
       "<table border=\"1\" class=\"dataframe\">\n",
       "  <thead>\n",
       "    <tr style=\"text-align: right;\">\n",
       "      <th></th>\n",
       "      <th>order_id</th>\n",
       "      <th>product_id</th>\n",
       "      <th>add_to_cart_order</th>\n",
       "      <th>reordered</th>\n",
       "      <th>user_id</th>\n",
       "    </tr>\n",
       "  </thead>\n",
       "  <tbody>\n",
       "    <tr>\n",
       "      <th>0</th>\n",
       "      <td>2141543</td>\n",
       "      <td>11440</td>\n",
       "      <td>17</td>\n",
       "      <td>0</td>\n",
       "      <td>58454</td>\n",
       "    </tr>\n",
       "    <tr>\n",
       "      <th>1</th>\n",
       "      <td>2141543</td>\n",
       "      <td>31869</td>\n",
       "      <td>15</td>\n",
       "      <td>1</td>\n",
       "      <td>58454</td>\n",
       "    </tr>\n",
       "    <tr>\n",
       "      <th>2</th>\n",
       "      <td>2141543</td>\n",
       "      <td>30233</td>\n",
       "      <td>9</td>\n",
       "      <td>1</td>\n",
       "      <td>58454</td>\n",
       "    </tr>\n",
       "    <tr>\n",
       "      <th>3</th>\n",
       "      <td>2141543</td>\n",
       "      <td>27966</td>\n",
       "      <td>20</td>\n",
       "      <td>1</td>\n",
       "      <td>58454</td>\n",
       "    </tr>\n",
       "    <tr>\n",
       "      <th>4</th>\n",
       "      <td>2141543</td>\n",
       "      <td>13176</td>\n",
       "      <td>2</td>\n",
       "      <td>1</td>\n",
       "      <td>58454</td>\n",
       "    </tr>\n",
       "    <tr>\n",
       "      <th>...</th>\n",
       "      <td>...</td>\n",
       "      <td>...</td>\n",
       "      <td>...</td>\n",
       "      <td>...</td>\n",
       "      <td>...</td>\n",
       "    </tr>\n",
       "    <tr>\n",
       "      <th>4545148</th>\n",
       "      <td>1790509</td>\n",
       "      <td>43739</td>\n",
       "      <td>1</td>\n",
       "      <td>1</td>\n",
       "      <td>60894</td>\n",
       "    </tr>\n",
       "    <tr>\n",
       "      <th>4545149</th>\n",
       "      <td>1274005</td>\n",
       "      <td>38275</td>\n",
       "      <td>1</td>\n",
       "      <td>1</td>\n",
       "      <td>32958</td>\n",
       "    </tr>\n",
       "    <tr>\n",
       "      <th>4545150</th>\n",
       "      <td>812418</td>\n",
       "      <td>46149</td>\n",
       "      <td>1</td>\n",
       "      <td>1</td>\n",
       "      <td>130466</td>\n",
       "    </tr>\n",
       "    <tr>\n",
       "      <th>4545151</th>\n",
       "      <td>2666881</td>\n",
       "      <td>196</td>\n",
       "      <td>1</td>\n",
       "      <td>1</td>\n",
       "      <td>33946</td>\n",
       "    </tr>\n",
       "    <tr>\n",
       "      <th>4545152</th>\n",
       "      <td>1461911</td>\n",
       "      <td>33198</td>\n",
       "      <td>1</td>\n",
       "      <td>1</td>\n",
       "      <td>54019</td>\n",
       "    </tr>\n",
       "  </tbody>\n",
       "</table>\n",
       "<p>4545153 rows × 5 columns</p>\n",
       "</div>"
      ],
      "text/plain": [
       "         order_id  product_id  add_to_cart_order  reordered  user_id\n",
       "0         2141543       11440                 17          0    58454\n",
       "1         2141543       31869                 15          1    58454\n",
       "2         2141543       30233                  9          1    58454\n",
       "3         2141543       27966                 20          1    58454\n",
       "4         2141543       13176                  2          1    58454\n",
       "...           ...         ...                ...        ...      ...\n",
       "4545148   1790509       43739                  1          1    60894\n",
       "4545149   1274005       38275                  1          1    32958\n",
       "4545150    812418       46149                  1          1   130466\n",
       "4545151   2666881         196                  1          1    33946\n",
       "4545152   1461911       33198                  1          1    54019\n",
       "\n",
       "[4545153 rows x 5 columns]"
      ]
     },
     "execution_count": 62,
     "metadata": {},
     "output_type": "execute_result"
    }
   ],
   "source": [
    "client_behaviour = df_order_products.merge(df_instacart_orders, on='order_id') # combinamos los DataFrames por el número de ID de pedido\n",
    "client_behaviour.drop(['order_number', 'order_dow', 'order_hour_of_day', 'days_since_prior_order'], axis='columns', inplace=True) # eliminamos las columnas inecesarias\n",
    "client_behaviour # echamos un vistazo"
   ]
  },
  {
   "cell_type": "code",
   "execution_count": 63,
   "id": "8892e4b4",
   "metadata": {
    "id": "8892e4b4"
   },
   "outputs": [],
   "source": [
    "client_order = client_behaviour.groupby('user_id')['reordered'].sum() # agrupamos el DataFrame por Usuario y sumamos si se ha reordenado\n",
    "client_reordered = client_behaviour.groupby('user_id')['product_id'].count() # agrupamos el DataFRame por Usuario y contamos los ID de producto"
   ]
  },
  {
   "cell_type": "code",
   "execution_count": 64,
   "id": "2235d2e4",
   "metadata": {},
   "outputs": [
    {
     "data": {
      "text/plain": [
       "user_id\n",
       "2         0.038462\n",
       "4         0.000000\n",
       "5         0.666667\n",
       "6         0.000000\n",
       "7         0.928571\n",
       "            ...   \n",
       "206203    0.222222\n",
       "206206    0.714286\n",
       "206207    0.891304\n",
       "206208    0.696000\n",
       "206209    0.320000\n",
       "Length: 149626, dtype: float64"
      ]
     },
     "execution_count": 64,
     "metadata": {},
     "output_type": "execute_result"
    }
   ],
   "source": [
    "client_rate = client_order / client_reordered\n",
    "client_rate"
   ]
  },
  {
   "cell_type": "markdown",
   "id": "1c4b8e8c",
   "metadata": {},
   "source": [
    "<div class=\"alert alert-block alert-success\">\n",
    "<b>Comentario del revisor (1ra Iteración)</b> <a class=“tocSkip”></a>\n",
    "\n",
    "La proporción que has encontrado de \"re-ordenenes\" por usuario es correcta. Buen trabajo.\n",
    "\n",
    "</div>"
   ]
  },
  {
   "cell_type": "markdown",
   "id": "BgJSvXDsleXz",
   "metadata": {
    "id": "BgJSvXDsleXz"
   },
   "source": [
    "Escribe aquí tus conclusiones"
   ]
  },
  {
   "cell_type": "markdown",
   "id": "d37d4d0c",
   "metadata": {},
   "source": [
    "[Volver a Contenidos](#back)"
   ]
  },
  {
   "cell_type": "markdown",
   "id": "92d35137",
   "metadata": {
    "id": "92d35137"
   },
   "source": [
    "### [C5] ¿Cuáles son los 20 principales artículos que las personas ponen primero en sus carritos?"
   ]
  },
  {
   "cell_type": "markdown",
   "id": "729af63f",
   "metadata": {
    "id": "0ae57274",
    "scrolled": true
   },
   "source": [
    "<div class=\"alert alert-block alert-danger\">\n",
    "<b>Comentario del revisor (2da Iteración)</b> <a class=“tocSkip”></a>\n",
    "\n",
    "Acá debes hacer un conteo similar al los que has hecho en las preguntas relacionadas con ***top 20***, pero para esta pregunta debes considerar la información de la columna *add_to_cart_order*, ya que aquellos productos que tengan esa columna con valor de 1, quieren decir que son los primeros en se añadidos al carrito de compras. Ya con eso puedes hacer el conteo y luego definir el top 20.\n",
    "\n",
    "</div>"
   ]
  },
  {
   "cell_type": "markdown",
   "id": "6fc4db1e",
   "metadata": {},
   "source": [
    "<div class=\"alert alert-block alert-info\">\n",
    "<b>Respuesta del estudiante</b> <a class=“tocSkip”></a>\n",
    "Alejandro, muchas gracias por los tips, ya me ha quedado bien claro como hacer estos útimos ejercicios. ¡Saludos!\n",
    "</div>"
   ]
  },
  {
   "cell_type": "code",
   "execution_count": 65,
   "id": "forty-netherlands",
   "metadata": {
    "id": "forty-netherlands",
    "scrolled": true
   },
   "outputs": [
    {
     "data": {
      "text/html": [
       "<div>\n",
       "<style scoped>\n",
       "    .dataframe tbody tr th:only-of-type {\n",
       "        vertical-align: middle;\n",
       "    }\n",
       "\n",
       "    .dataframe tbody tr th {\n",
       "        vertical-align: top;\n",
       "    }\n",
       "\n",
       "    .dataframe thead th {\n",
       "        text-align: right;\n",
       "    }\n",
       "</style>\n",
       "<table border=\"1\" class=\"dataframe\">\n",
       "  <thead>\n",
       "    <tr style=\"text-align: right;\">\n",
       "      <th></th>\n",
       "      <th>order_id</th>\n",
       "      <th>product_id</th>\n",
       "      <th>add_to_cart_order</th>\n",
       "      <th>reordered</th>\n",
       "      <th>product_name</th>\n",
       "      <th>aisle_id</th>\n",
       "      <th>department_id</th>\n",
       "    </tr>\n",
       "  </thead>\n",
       "  <tbody>\n",
       "    <tr>\n",
       "      <th>6</th>\n",
       "      <td>1463503</td>\n",
       "      <td>11440</td>\n",
       "      <td>1</td>\n",
       "      <td>0</td>\n",
       "      <td>CHICKEN BREAST TENDERS BREADED</td>\n",
       "      <td>129</td>\n",
       "      <td>1</td>\n",
       "    </tr>\n",
       "    <tr>\n",
       "      <th>17</th>\n",
       "      <td>2201430</td>\n",
       "      <td>11440</td>\n",
       "      <td>1</td>\n",
       "      <td>1</td>\n",
       "      <td>CHICKEN BREAST TENDERS BREADED</td>\n",
       "      <td>129</td>\n",
       "      <td>1</td>\n",
       "    </tr>\n",
       "    <tr>\n",
       "      <th>21</th>\n",
       "      <td>1036054</td>\n",
       "      <td>11440</td>\n",
       "      <td>1</td>\n",
       "      <td>1</td>\n",
       "      <td>CHICKEN BREAST TENDERS BREADED</td>\n",
       "      <td>129</td>\n",
       "      <td>1</td>\n",
       "    </tr>\n",
       "    <tr>\n",
       "      <th>50</th>\n",
       "      <td>3008652</td>\n",
       "      <td>11440</td>\n",
       "      <td>1</td>\n",
       "      <td>1</td>\n",
       "      <td>CHICKEN BREAST TENDERS BREADED</td>\n",
       "      <td>129</td>\n",
       "      <td>1</td>\n",
       "    </tr>\n",
       "    <tr>\n",
       "      <th>62</th>\n",
       "      <td>2946144</td>\n",
       "      <td>11440</td>\n",
       "      <td>1</td>\n",
       "      <td>1</td>\n",
       "      <td>CHICKEN BREAST TENDERS BREADED</td>\n",
       "      <td>129</td>\n",
       "      <td>1</td>\n",
       "    </tr>\n",
       "    <tr>\n",
       "      <th>...</th>\n",
       "      <td>...</td>\n",
       "      <td>...</td>\n",
       "      <td>...</td>\n",
       "      <td>...</td>\n",
       "      <td>...</td>\n",
       "      <td>...</td>\n",
       "      <td>...</td>\n",
       "    </tr>\n",
       "    <tr>\n",
       "      <th>4544972</th>\n",
       "      <td>1518168</td>\n",
       "      <td>16952</td>\n",
       "      <td>1</td>\n",
       "      <td>0</td>\n",
       "      <td>SENSITIVE NIGHT CREAM</td>\n",
       "      <td>73</td>\n",
       "      <td>11</td>\n",
       "    </tr>\n",
       "    <tr>\n",
       "      <th>4544977</th>\n",
       "      <td>1776450</td>\n",
       "      <td>21507</td>\n",
       "      <td>1</td>\n",
       "      <td>0</td>\n",
       "      <td>GLUTEN FREE ALL-PURPOSE RICE FLOUR BLEND</td>\n",
       "      <td>17</td>\n",
       "      <td>13</td>\n",
       "    </tr>\n",
       "    <tr>\n",
       "      <th>4544995</th>\n",
       "      <td>2333206</td>\n",
       "      <td>25467</td>\n",
       "      <td>1</td>\n",
       "      <td>0</td>\n",
       "      <td>MADAGASCAR PURE VANILLA</td>\n",
       "      <td>17</td>\n",
       "      <td>13</td>\n",
       "    </tr>\n",
       "    <tr>\n",
       "      <th>4545005</th>\n",
       "      <td>532895</td>\n",
       "      <td>8182</td>\n",
       "      <td>1</td>\n",
       "      <td>0</td>\n",
       "      <td>TOTAL MINT STRIPE GEL TOOTHPASTE</td>\n",
       "      <td>20</td>\n",
       "      <td>11</td>\n",
       "    </tr>\n",
       "    <tr>\n",
       "      <th>4545006</th>\n",
       "      <td>3132243</td>\n",
       "      <td>40024</td>\n",
       "      <td>1</td>\n",
       "      <td>0</td>\n",
       "      <td>EGG REPLACER POWDER</td>\n",
       "      <td>17</td>\n",
       "      <td>13</td>\n",
       "    </tr>\n",
       "  </tbody>\n",
       "</table>\n",
       "<p>450046 rows × 7 columns</p>\n",
       "</div>"
      ],
      "text/plain": [
       "         order_id  product_id  add_to_cart_order  reordered  \\\n",
       "6         1463503       11440                  1          0   \n",
       "17        2201430       11440                  1          1   \n",
       "21        1036054       11440                  1          1   \n",
       "50        3008652       11440                  1          1   \n",
       "62        2946144       11440                  1          1   \n",
       "...           ...         ...                ...        ...   \n",
       "4544972   1518168       16952                  1          0   \n",
       "4544977   1776450       21507                  1          0   \n",
       "4544995   2333206       25467                  1          0   \n",
       "4545005    532895        8182                  1          0   \n",
       "4545006   3132243       40024                  1          0   \n",
       "\n",
       "                                     product_name  aisle_id  department_id  \n",
       "6                  CHICKEN BREAST TENDERS BREADED       129              1  \n",
       "17                 CHICKEN BREAST TENDERS BREADED       129              1  \n",
       "21                 CHICKEN BREAST TENDERS BREADED       129              1  \n",
       "50                 CHICKEN BREAST TENDERS BREADED       129              1  \n",
       "62                 CHICKEN BREAST TENDERS BREADED       129              1  \n",
       "...                                           ...       ...            ...  \n",
       "4544972                     SENSITIVE NIGHT CREAM        73             11  \n",
       "4544977  GLUTEN FREE ALL-PURPOSE RICE FLOUR BLEND        17             13  \n",
       "4544995                   MADAGASCAR PURE VANILLA        17             13  \n",
       "4545005          TOTAL MINT STRIPE GEL TOOTHPASTE        20             11  \n",
       "4545006                       EGG REPLACER POWDER        17             13  \n",
       "\n",
       "[450046 rows x 7 columns]"
      ]
     },
     "execution_count": 65,
     "metadata": {},
     "output_type": "execute_result"
    }
   ],
   "source": [
    "df_merged = df_order_products.merge(df_products, on='product_id')   # juntamos los Data Frames de 'ordenes' con el de 'productos'\n",
    "top_products = df_merged[df_merged['add_to_cart_order'] == 1] # filtramos los productos que se han agregado primero al carrito\n",
    "top_products # echamos un vistazo al Data Frame"
   ]
  },
  {
   "cell_type": "code",
   "execution_count": 66,
   "id": "08e41ec2",
   "metadata": {
    "id": "08e41ec2"
   },
   "outputs": [
    {
     "data": {
      "text/html": [
       "<div>\n",
       "<style scoped>\n",
       "    .dataframe tbody tr th:only-of-type {\n",
       "        vertical-align: middle;\n",
       "    }\n",
       "\n",
       "    .dataframe tbody tr th {\n",
       "        vertical-align: top;\n",
       "    }\n",
       "\n",
       "    .dataframe thead th {\n",
       "        text-align: right;\n",
       "    }\n",
       "</style>\n",
       "<table border=\"1\" class=\"dataframe\">\n",
       "  <thead>\n",
       "    <tr style=\"text-align: right;\">\n",
       "      <th></th>\n",
       "      <th>product_name</th>\n",
       "      <th>frequency</th>\n",
       "    </tr>\n",
       "  </thead>\n",
       "  <tbody>\n",
       "    <tr>\n",
       "      <th>0</th>\n",
       "      <td>BANANA</td>\n",
       "      <td>15562</td>\n",
       "    </tr>\n",
       "    <tr>\n",
       "      <th>1</th>\n",
       "      <td>BAG OF ORGANIC BANANAS</td>\n",
       "      <td>11026</td>\n",
       "    </tr>\n",
       "    <tr>\n",
       "      <th>2</th>\n",
       "      <td>ORGANIC WHOLE MILK</td>\n",
       "      <td>4363</td>\n",
       "    </tr>\n",
       "    <tr>\n",
       "      <th>3</th>\n",
       "      <td>ORGANIC STRAWBERRIES</td>\n",
       "      <td>3946</td>\n",
       "    </tr>\n",
       "    <tr>\n",
       "      <th>4</th>\n",
       "      <td>ORGANIC HASS AVOCADO</td>\n",
       "      <td>3390</td>\n",
       "    </tr>\n",
       "    <tr>\n",
       "      <th>5</th>\n",
       "      <td>ORGANIC BABY SPINACH</td>\n",
       "      <td>3336</td>\n",
       "    </tr>\n",
       "    <tr>\n",
       "      <th>6</th>\n",
       "      <td>ORGANIC AVOCADO</td>\n",
       "      <td>3044</td>\n",
       "    </tr>\n",
       "    <tr>\n",
       "      <th>7</th>\n",
       "      <td>SPRING WATER</td>\n",
       "      <td>2336</td>\n",
       "    </tr>\n",
       "    <tr>\n",
       "      <th>8</th>\n",
       "      <td>STRAWBERRIES</td>\n",
       "      <td>2308</td>\n",
       "    </tr>\n",
       "    <tr>\n",
       "      <th>9</th>\n",
       "      <td>ORGANIC RASPBERRIES</td>\n",
       "      <td>2024</td>\n",
       "    </tr>\n",
       "    <tr>\n",
       "      <th>10</th>\n",
       "      <td>SPARKLING WATER GRAPEFRUIT</td>\n",
       "      <td>1914</td>\n",
       "    </tr>\n",
       "    <tr>\n",
       "      <th>11</th>\n",
       "      <td>ORGANIC HALF &amp; HALF</td>\n",
       "      <td>1797</td>\n",
       "    </tr>\n",
       "    <tr>\n",
       "      <th>12</th>\n",
       "      <td>LARGE LEMON</td>\n",
       "      <td>1737</td>\n",
       "    </tr>\n",
       "    <tr>\n",
       "      <th>13</th>\n",
       "      <td>SODA</td>\n",
       "      <td>1733</td>\n",
       "    </tr>\n",
       "    <tr>\n",
       "      <th>14</th>\n",
       "      <td>ORGANIC REDUCED FAT MILK</td>\n",
       "      <td>1397</td>\n",
       "    </tr>\n",
       "    <tr>\n",
       "      <th>15</th>\n",
       "      <td>LIMES</td>\n",
       "      <td>1370</td>\n",
       "    </tr>\n",
       "    <tr>\n",
       "      <th>16</th>\n",
       "      <td>HASS AVOCADOS</td>\n",
       "      <td>1340</td>\n",
       "    </tr>\n",
       "    <tr>\n",
       "      <th>17</th>\n",
       "      <td>ORGANIC REDUCED FAT 2% MILK</td>\n",
       "      <td>1310</td>\n",
       "    </tr>\n",
       "    <tr>\n",
       "      <th>18</th>\n",
       "      <td>HALF &amp; HALF</td>\n",
       "      <td>1309</td>\n",
       "    </tr>\n",
       "    <tr>\n",
       "      <th>19</th>\n",
       "      <td>RASPBERRIES</td>\n",
       "      <td>1246</td>\n",
       "    </tr>\n",
       "  </tbody>\n",
       "</table>\n",
       "</div>"
      ],
      "text/plain": [
       "                   product_name  frequency\n",
       "0                        BANANA      15562\n",
       "1        BAG OF ORGANIC BANANAS      11026\n",
       "2            ORGANIC WHOLE MILK       4363\n",
       "3          ORGANIC STRAWBERRIES       3946\n",
       "4          ORGANIC HASS AVOCADO       3390\n",
       "5          ORGANIC BABY SPINACH       3336\n",
       "6               ORGANIC AVOCADO       3044\n",
       "7                  SPRING WATER       2336\n",
       "8                  STRAWBERRIES       2308\n",
       "9           ORGANIC RASPBERRIES       2024\n",
       "10   SPARKLING WATER GRAPEFRUIT       1914\n",
       "11          ORGANIC HALF & HALF       1797\n",
       "12                  LARGE LEMON       1737\n",
       "13                         SODA       1733\n",
       "14     ORGANIC REDUCED FAT MILK       1397\n",
       "15                        LIMES       1370\n",
       "16                HASS AVOCADOS       1340\n",
       "17  ORGANIC REDUCED FAT 2% MILK       1310\n",
       "18                  HALF & HALF       1309\n",
       "19                  RASPBERRIES       1246"
      ]
     },
     "execution_count": 66,
     "metadata": {},
     "output_type": "execute_result"
    }
   ],
   "source": [
    "count_products = top_products['product_name'].value_counts().sort_values(ascending=False)   # realizamos el conteo de los nombres de los productos y ordenamos de manera descendiente\n",
    "top_20_first = count_products.head(20)  # filtramos los primeros 20 productos\n",
    "top_20_first = top_20_first.reset_index()   # reseteamos los índices\n",
    "top_20_first.columns = ['product_name', 'frequency']   # renombramos las columnas\n",
    "top_20_first   # visualizamos la lista"
   ]
  },
  {
   "cell_type": "code",
   "execution_count": 67,
   "id": "72a7fd9c",
   "metadata": {},
   "outputs": [
    {
     "data": {
      "image/png": "[encoded data removed]",
      "text/plain": [
       "<Figure size 640x480 with 1 Axes>"
      ]
     },
     "metadata": {},
     "output_type": "display_data"
    }
   ],
   "source": [
    "top_20_first.plot(x='product_name',\n",
    "                  y='frequency',\n",
    "                  kind='bar',\n",
    "                  title='Artículos Top 20',\n",
    "                  xlabel='Nombre del Artículo',\n",
    "                  ylabel='Frecuencia de pedido',\n",
    "                  legend=False\n",
    "                 )\n",
    "plt.show()"
   ]
  },
  {
   "cell_type": "markdown",
   "id": "28ce9872",
   "metadata": {
    "id": "28ce9872"
   },
   "source": [
    "Escribe aquí tus conclusiones\n",
    "\n",
    "El método para obtener este top_20_first fue:\n",
    "\n",
    "1. Juntamos los Data Frames de 'ordenes' con el de 'productos'\n",
    "2. Filtramos los productos que se han agregado primero al carrito\n",
    "3. Realizamos el conteo de los nombres de los productos y ordenamos de manera descendiente\n",
    "4. Filtramos los primeros 20 productos\n",
    "5. Reseteamos los índices y renombramos las columnas\n",
    "6. Visualizamos la lista y la graficamos\n",
    "\n",
    "En conclusión, este Top 20 de productos que son agregados al carrito al principio, es diferente de los otros 2 Top 20 de artículos, lo que nos puede dar una idea de los artículos más escenciales en la canasta de cada usuario."
   ]
  },
  {
   "cell_type": "markdown",
   "id": "0521d972",
   "metadata": {},
   "source": [
    "<div class=\"alert alert-block alert-success\">\n",
    "<b>Comentario del revisor (3ra Iteración)</b> <a class=“tocSkip”></a>\n",
    "\n",
    "Perfecto Tom has obtenido la información correcta.\n",
    "\n",
    "</div>"
   ]
  },
  {
   "cell_type": "markdown",
   "id": "2426494f",
   "metadata": {},
   "source": [
    "[Volver a Contenidos](#back)"
   ]
  },
  {
   "cell_type": "markdown",
   "id": "uITbFCEoDosC",
   "metadata": {
    "id": "uITbFCEoDosC"
   },
   "source": [
    "### Conclusion general del proyecto: <a id='end'></a>"
   ]
  },
  {
   "cell_type": "markdown",
   "id": "62547847",
   "metadata": {
    "id": "Nk-4GS7mDwqY"
   },
   "source": [
    "Este Proyecto ha sido un proyecto bastante extenso y me ha costado muchas horas de estudio y repaso.\n",
    "En general me ha costado algo la comprensión de los ejercicios; sin embargo, una vez captada la idea, se vuelven fáciles.\n",
    "\n",
    "EL primer Paso de Descripción de los datos, me ha servido bastante el describir lo mejor posible cada uno de los Data Frames, sus columnas, qué tipo de datos contiene y enlistarlos ha sido de gran ayuda para los siguientes 2 pasos. Así como también el imprimirlos, me ha dado una primera visión de cómo lucen y que se debe considerar para revisión, si es necesario corregir, etc.\n",
    "\n",
    "El segundo Paso de Preprocesamiento de los datos, ha sido bastante retador, ya que no sólo hay que corregir los tipos de datos para homologarlos, también ha sido necesario analizar a fondo los datos duplicados para saber si se elimnana o no; sino que también se han tenido que completar los valores ausentes en algunos DataFRames. Todo lo anterior para cada uno de los cinco Data Frames, lo cual ha sido bastante tiempo invertido en sólo limpiar los datos.\n",
    "\n",
    "El tercer y último paso de Análisis de los datos, ha tenido su grado de dificultad pero me agradó mucho ya que una vez coprendido como realizar una distribución, el hacer gráficos de diferentes tipos me ha servido de mucha ayuda para prácticar.\n",
    "Se han encontrado datos muy interesantes en esta última sección, lo cual sin duda será información muy valiosa para nuestros clientes o las personas que lean el reporte.\n",
    "\n",
    "Para terminar, me ha agradado mucho el ver que lo que se ha aprendido hasta el momento en el Bootcamp, es muy util para resolver problemas comunes de una empresa muy común hoy en día.\n"
   ]
  },
  {
   "cell_type": "markdown",
   "id": "870362f5",
   "metadata": {},
   "source": [
    "[Volver a Contenidos](#back)"
   ]
  },
  {
   "cell_type": "markdown",
   "id": "e9e4e9df",
   "metadata": {},
   "source": [
    "<div class=\"alert alert-block alert-danger\">\n",
    "<b>Comentario del revisor (1ra Iteración)</b> <a class=“tocSkip”></a>\n",
    "\n",
    "No olvides incluir tus interpretaciones y conclusiones sobre el caso de estudio.\n",
    "\n",
    "</div>"
   ]
  },
  {
   "cell_type": "markdown",
   "id": "813341f1",
   "metadata": {},
   "source": [
    "<div class=\"alert alert-block alert-success\">\n",
    "<b>Comentario del revisor (3ra Iteración)</b> <a class=“tocSkip”></a>\n",
    "\n",
    "Excelente análisis y conclusiones Tom\n",
    "\n",
    "</div>"
   ]
  }
 ],
 "metadata": {
  "ExecuteTimeLog": [
   {
    "duration": 2112,
    "start_time": "2024-11-05T07:11:00.093Z"
   },
   {
    "duration": 2186,
    "start_time": "2024-11-05T07:11:04.823Z"
   },
   {
    "duration": 13,
    "start_time": "2024-11-05T07:11:08.082Z"
   },
   {
    "duration": 10,
    "start_time": "2024-11-05T07:11:20.562Z"
   },
   {
    "duration": 1970,
    "start_time": "2024-11-05T07:11:43.554Z"
   },
   {
    "duration": 15,
    "start_time": "2024-11-05T07:11:49.123Z"
   },
   {
    "duration": 13,
    "start_time": "2024-11-05T07:13:06.942Z"
   },
   {
    "duration": 13,
    "start_time": "2024-11-05T07:14:19.033Z"
   },
   {
    "duration": 9,
    "start_time": "2024-11-05T07:14:39.693Z"
   },
   {
    "duration": 1959,
    "start_time": "2024-11-05T07:14:57.736Z"
   },
   {
    "duration": 10,
    "start_time": "2024-11-05T07:15:04.028Z"
   },
   {
    "duration": 251,
    "start_time": "2024-11-05T07:15:22.019Z"
   },
   {
    "duration": 9,
    "start_time": "2024-11-05T07:15:42.887Z"
   },
   {
    "duration": 877,
    "start_time": "2024-11-05T07:16:05.405Z"
   },
   {
    "duration": 9,
    "start_time": "2024-11-05T07:16:16.997Z"
   },
   {
    "duration": 9,
    "start_time": "2024-11-05T07:16:44.129Z"
   },
   {
    "duration": 13,
    "start_time": "2024-11-05T08:33:55.526Z"
   },
   {
    "duration": 2189,
    "start_time": "2024-11-06T08:15:37.410Z"
   },
   {
    "duration": 1020,
    "start_time": "2024-11-06T08:15:41.536Z"
   },
   {
    "duration": 15,
    "start_time": "2024-11-06T08:15:46.243Z"
   },
   {
    "duration": 3,
    "start_time": "2024-11-06T09:17:13.142Z"
   },
   {
    "duration": 863,
    "start_time": "2024-11-06T09:17:16.022Z"
   },
   {
    "duration": 12,
    "start_time": "2024-11-06T09:17:21.043Z"
   },
   {
    "duration": 12,
    "start_time": "2024-11-06T09:17:26.147Z"
   },
   {
    "duration": 10,
    "start_time": "2024-11-06T09:17:33.728Z"
   },
   {
    "duration": 10,
    "start_time": "2024-11-06T09:17:39.939Z"
   },
   {
    "duration": 9,
    "start_time": "2024-11-06T09:17:45.343Z"
   },
   {
    "duration": 182,
    "start_time": "2024-11-06T10:02:23.152Z"
   },
   {
    "duration": 13,
    "start_time": "2024-11-06T10:02:27.817Z"
   },
   {
    "duration": 2,
    "start_time": "2024-11-06T10:02:59.052Z"
   },
   {
    "duration": 844,
    "start_time": "2024-11-06T10:03:02.660Z"
   },
   {
    "duration": 13,
    "start_time": "2024-11-06T10:03:19.160Z"
   },
   {
    "duration": 12,
    "start_time": "2024-11-06T10:03:25.172Z"
   },
   {
    "duration": 10,
    "start_time": "2024-11-06T10:03:29.049Z"
   },
   {
    "duration": 9,
    "start_time": "2024-11-06T10:03:31.751Z"
   },
   {
    "duration": 9,
    "start_time": "2024-11-06T10:03:35.180Z"
   },
   {
    "duration": 158,
    "start_time": "2024-11-06T10:03:41.678Z"
   },
   {
    "duration": 18,
    "start_time": "2024-11-06T10:03:57.885Z"
   },
   {
    "duration": 75,
    "start_time": "2024-11-06T10:04:22.646Z"
   },
   {
    "duration": 2140,
    "start_time": "2024-11-07T06:15:02.524Z"
   },
   {
    "duration": 1019,
    "start_time": "2024-11-07T06:15:05.023Z"
   },
   {
    "duration": 228,
    "start_time": "2024-11-07T06:15:09.999Z"
   },
   {
    "duration": 12,
    "start_time": "2024-11-07T06:15:39.256Z"
   },
   {
    "duration": 12,
    "start_time": "2024-11-07T06:15:44.984Z"
   },
   {
    "duration": 10,
    "start_time": "2024-11-07T06:15:49.257Z"
   },
   {
    "duration": 9,
    "start_time": "2024-11-07T06:15:52.424Z"
   },
   {
    "duration": 10,
    "start_time": "2024-11-07T06:15:56.177Z"
   },
   {
    "duration": 95,
    "start_time": "2024-11-07T06:16:03.936Z"
   },
   {
    "duration": 13,
    "start_time": "2024-11-07T06:16:07.440Z"
   },
   {
    "duration": 103,
    "start_time": "2024-11-07T06:17:10.598Z"
   },
   {
    "duration": 54,
    "start_time": "2024-11-07T06:17:48.651Z"
   },
   {
    "duration": 14,
    "start_time": "2024-11-07T06:18:41.190Z"
   },
   {
    "duration": 6,
    "start_time": "2024-11-07T06:18:50.622Z"
   },
   {
    "duration": 25,
    "start_time": "2024-11-07T06:19:06.183Z"
   },
   {
    "duration": 21,
    "start_time": "2024-11-07T06:19:23.597Z"
   },
   {
    "duration": 3,
    "start_time": "2024-11-07T06:20:06.524Z"
   },
   {
    "duration": 7,
    "start_time": "2024-11-07T06:20:21.733Z"
   },
   {
    "duration": 4,
    "start_time": "2024-11-07T06:20:55.452Z"
   },
   {
    "duration": 8,
    "start_time": "2024-11-07T06:21:05.286Z"
   },
   {
    "duration": 777,
    "start_time": "2024-11-07T06:21:32.797Z"
   },
   {
    "duration": 886,
    "start_time": "2024-11-07T06:21:41.826Z"
   },
   {
    "duration": 23,
    "start_time": "2024-11-07T06:22:15.151Z"
   },
   {
    "duration": 10,
    "start_time": "2024-11-07T06:22:26.647Z"
   },
   {
    "duration": 5,
    "start_time": "2024-11-07T06:22:54.828Z"
   },
   {
    "duration": 4,
    "start_time": "2024-11-07T06:23:05.263Z"
   },
   {
    "duration": 2,
    "start_time": "2024-11-07T06:23:16.090Z"
   },
   {
    "duration": 10,
    "start_time": "2024-11-07T06:23:49.482Z"
   },
   {
    "duration": 4,
    "start_time": "2024-11-07T06:24:17.351Z"
   },
   {
    "duration": 30,
    "start_time": "2024-11-07T06:24:54.381Z"
   },
   {
    "duration": 6,
    "start_time": "2024-11-07T06:26:08.946Z"
   },
   {
    "duration": 13,
    "start_time": "2024-11-07T06:26:19.732Z"
   },
   {
    "duration": 59,
    "start_time": "2024-11-07T06:26:46.351Z"
   },
   {
    "duration": 31,
    "start_time": "2024-11-07T06:27:00.571Z"
   },
   {
    "duration": 2181,
    "start_time": "2024-11-08T08:08:03.118Z"
   },
   {
    "duration": 1031,
    "start_time": "2024-11-08T08:08:06.242Z"
   },
   {
    "duration": 18,
    "start_time": "2024-11-08T08:08:11.221Z"
   },
   {
    "duration": 13,
    "start_time": "2024-11-08T08:08:42.090Z"
   },
   {
    "duration": 11,
    "start_time": "2024-11-08T08:09:08.573Z"
   },
   {
    "duration": 11,
    "start_time": "2024-11-08T08:09:26.103Z"
   },
   {
    "duration": 11,
    "start_time": "2024-11-08T08:09:42.523Z"
   },
   {
    "duration": 99,
    "start_time": "2024-11-08T08:10:45.874Z"
   },
   {
    "duration": 104,
    "start_time": "2024-11-08T08:11:07.903Z"
   },
   {
    "duration": 2,
    "start_time": "2024-11-08T08:11:43.989Z"
   },
   {
    "duration": 56,
    "start_time": "2024-11-08T08:12:00.639Z"
   },
   {
    "duration": 12,
    "start_time": "2024-11-08T08:12:43.129Z"
   },
   {
    "duration": 7,
    "start_time": "2024-11-08T08:13:04.235Z"
   },
   {
    "duration": 7,
    "start_time": "2024-11-08T08:13:17.505Z"
   },
   {
    "duration": 29,
    "start_time": "2024-11-08T08:13:39.339Z"
   },
   {
    "duration": 22,
    "start_time": "2024-11-08T08:14:08.243Z"
   },
   {
    "duration": 4,
    "start_time": "2024-11-08T08:14:33.661Z"
   },
   {
    "duration": 7,
    "start_time": "2024-11-08T08:14:42.135Z"
   },
   {
    "duration": 4,
    "start_time": "2024-11-08T08:14:57.648Z"
   },
   {
    "duration": 6,
    "start_time": "2024-11-08T08:15:00.883Z"
   },
   {
    "duration": 789,
    "start_time": "2024-11-08T08:15:14.616Z"
   },
   {
    "duration": 846,
    "start_time": "2024-11-08T08:15:37.331Z"
   },
   {
    "duration": 25,
    "start_time": "2024-11-08T08:16:11.058Z"
   },
   {
    "duration": 25,
    "start_time": "2024-11-08T08:16:26.639Z"
   },
   {
    "duration": 9,
    "start_time": "2024-11-08T08:18:07.246Z"
   },
   {
    "duration": 11,
    "start_time": "2024-11-08T08:18:59.365Z"
   },
   {
    "duration": 8,
    "start_time": "2024-11-08T08:19:25.160Z"
   },
   {
    "duration": 11,
    "start_time": "2024-11-08T08:20:05.564Z"
   },
   {
    "duration": 25,
    "start_time": "2024-11-08T08:22:29.414Z"
   },
   {
    "duration": 10,
    "start_time": "2024-11-08T08:32:08.507Z"
   },
   {
    "duration": 12,
    "start_time": "2024-11-08T08:32:35.729Z"
   },
   {
    "duration": 40,
    "start_time": "2024-11-08T08:33:45.779Z"
   },
   {
    "duration": 1008,
    "start_time": "2024-11-08T08:34:47.269Z"
   },
   {
    "duration": 223,
    "start_time": "2024-11-08T08:36:29.228Z"
   },
   {
    "duration": 6,
    "start_time": "2024-11-08T08:36:43.286Z"
   },
   {
    "duration": 7,
    "start_time": "2024-11-08T08:36:47.806Z"
   },
   {
    "duration": 117,
    "start_time": "2024-11-08T08:37:23.202Z"
   },
   {
    "duration": 68,
    "start_time": "2024-11-08T08:37:51.314Z"
   },
   {
    "duration": 63,
    "start_time": "2024-11-08T08:38:05.006Z"
   },
   {
    "duration": 12,
    "start_time": "2024-11-08T08:38:15.215Z"
   },
   {
    "duration": 182,
    "start_time": "2024-11-08T08:38:31.783Z"
   },
   {
    "duration": 1000,
    "start_time": "2024-11-08T08:40:01.120Z"
   },
   {
    "duration": 226,
    "start_time": "2024-11-08T08:40:08.991Z"
   },
   {
    "duration": 7,
    "start_time": "2024-11-08T08:40:23.362Z"
   },
   {
    "duration": 408,
    "start_time": "2024-11-08T08:58:40.392Z"
   },
   {
    "duration": 458,
    "start_time": "2024-11-08T08:59:18.320Z"
   },
   {
    "duration": 286,
    "start_time": "2024-11-08T09:00:33.382Z"
   },
   {
    "duration": 8,
    "start_time": "2024-11-08T17:31:17.183Z"
   },
   {
    "duration": 2172,
    "start_time": "2024-11-09T21:05:34.037Z"
   },
   {
    "duration": 1051,
    "start_time": "2024-11-09T21:05:36.210Z"
   },
   {
    "duration": 18,
    "start_time": "2024-11-09T21:05:40.821Z"
   },
   {
    "duration": 14,
    "start_time": "2024-11-09T21:05:46.212Z"
   },
   {
    "duration": 11,
    "start_time": "2024-11-09T21:05:51.427Z"
   },
   {
    "duration": 11,
    "start_time": "2024-11-09T21:05:54.592Z"
   },
   {
    "duration": 11,
    "start_time": "2024-11-09T21:05:58.447Z"
   },
   {
    "duration": 28,
    "start_time": "2024-11-09T21:06:08.755Z"
   },
   {
    "duration": 2,
    "start_time": "2024-11-09T21:11:14.138Z"
   },
   {
    "duration": 916,
    "start_time": "2024-11-09T21:11:16.964Z"
   },
   {
    "duration": 14,
    "start_time": "2024-11-09T21:11:20.527Z"
   },
   {
    "duration": 14,
    "start_time": "2024-11-09T21:11:26.714Z"
   },
   {
    "duration": 11,
    "start_time": "2024-11-09T21:11:30.270Z"
   },
   {
    "duration": 12,
    "start_time": "2024-11-09T21:11:33.546Z"
   },
   {
    "duration": 30,
    "start_time": "2024-11-09T21:11:37.988Z"
   },
   {
    "duration": 82,
    "start_time": "2024-11-09T21:14:25.209Z"
   },
   {
    "duration": 90,
    "start_time": "2024-11-09T21:14:29.297Z"
   },
   {
    "duration": 215,
    "start_time": "2024-11-09T21:15:11.889Z"
   },
   {
    "duration": 520,
    "start_time": "2024-11-09T21:15:31.497Z"
   },
   {
    "duration": 12,
    "start_time": "2024-11-09T21:15:36.599Z"
   },
   {
    "duration": 14,
    "start_time": "2024-11-09T21:16:05.566Z"
   },
   {
    "duration": 98,
    "start_time": "2024-11-09T21:16:10.450Z"
   },
   {
    "duration": 81,
    "start_time": "2024-11-09T21:19:39.851Z"
   },
   {
    "duration": 12,
    "start_time": "2024-11-09T21:20:35.972Z"
   },
   {
    "duration": 84,
    "start_time": "2024-11-09T21:41:40.145Z"
   },
   {
    "duration": 85,
    "start_time": "2024-11-09T21:41:46.868Z"
   },
   {
    "duration": 86,
    "start_time": "2024-11-09T21:42:16.410Z"
   },
   {
    "duration": 44,
    "start_time": "2024-11-09T21:44:05.177Z"
   },
   {
    "duration": 193,
    "start_time": "2024-11-09T21:44:58.284Z"
   },
   {
    "duration": 197,
    "start_time": "2024-11-09T21:45:15.105Z"
   },
   {
    "duration": 50,
    "start_time": "2024-11-09T21:45:44.091Z"
   },
   {
    "duration": 94,
    "start_time": "2024-11-09T21:47:09.736Z"
   },
   {
    "duration": 12,
    "start_time": "2024-11-09T22:07:20.578Z"
   },
   {
    "duration": 6,
    "start_time": "2024-11-09T22:07:33.879Z"
   },
   {
    "duration": 6,
    "start_time": "2024-11-09T22:07:39.901Z"
   },
   {
    "duration": 27,
    "start_time": "2024-11-09T22:08:00.766Z"
   },
   {
    "duration": 31,
    "start_time": "2024-11-09T22:09:09.363Z"
   },
   {
    "duration": 27,
    "start_time": "2024-11-09T22:10:07.919Z"
   },
   {
    "duration": 5,
    "start_time": "2024-11-09T22:12:04.510Z"
   },
   {
    "duration": 31,
    "start_time": "2024-11-09T22:13:13.542Z"
   },
   {
    "duration": 28,
    "start_time": "2024-11-09T22:13:23.044Z"
   },
   {
    "duration": 25,
    "start_time": "2024-11-09T22:14:33.151Z"
   },
   {
    "duration": 25,
    "start_time": "2024-11-09T22:14:40.472Z"
   },
   {
    "duration": 13,
    "start_time": "2024-11-09T22:15:01.241Z"
   },
   {
    "duration": 19,
    "start_time": "2024-11-09T22:15:10.566Z"
   },
   {
    "duration": 13,
    "start_time": "2024-11-09T22:16:20.357Z"
   },
   {
    "duration": 5,
    "start_time": "2024-11-09T22:16:33.658Z"
   },
   {
    "duration": 43,
    "start_time": "2024-11-09T22:18:17.735Z"
   },
   {
    "duration": 10,
    "start_time": "2024-11-09T22:20:34.218Z"
   },
   {
    "duration": 449,
    "start_time": "2024-11-09T22:21:17.245Z"
   },
   {
    "duration": 928,
    "start_time": "2024-11-09T22:21:21.277Z"
   },
   {
    "duration": 18,
    "start_time": "2024-11-09T22:21:24.416Z"
   },
   {
    "duration": 15,
    "start_time": "2024-11-09T22:22:02.708Z"
   },
   {
    "duration": 12,
    "start_time": "2024-11-09T22:22:23.322Z"
   },
   {
    "duration": 12,
    "start_time": "2024-11-09T22:22:37.237Z"
   },
   {
    "duration": 27,
    "start_time": "2024-11-09T22:22:52.123Z"
   },
   {
    "duration": 88,
    "start_time": "2024-11-09T22:23:20.682Z"
   },
   {
    "duration": 112,
    "start_time": "2024-11-09T22:23:27.141Z"
   },
   {
    "duration": 48,
    "start_time": "2024-11-09T22:23:53.698Z"
   },
   {
    "duration": 190,
    "start_time": "2024-11-09T22:24:00.074Z"
   },
   {
    "duration": 103,
    "start_time": "2024-11-09T22:24:11.313Z"
   },
   {
    "duration": 83,
    "start_time": "2024-11-09T22:25:16.336Z"
   },
   {
    "duration": 13,
    "start_time": "2024-11-09T22:25:39.167Z"
   },
   {
    "duration": 6,
    "start_time": "2024-11-09T22:26:10.928Z"
   },
   {
    "duration": 29,
    "start_time": "2024-11-09T22:26:35.618Z"
   },
   {
    "duration": 92,
    "start_time": "2024-11-09T22:29:08.306Z"
   },
   {
    "duration": 423,
    "start_time": "2024-11-09T22:30:22.299Z"
   },
   {
    "duration": 11,
    "start_time": "2024-11-09T22:30:35.386Z"
   },
   {
    "duration": 16,
    "start_time": "2024-11-09T22:31:39.291Z"
   },
   {
    "duration": 17,
    "start_time": "2024-11-09T22:31:58.936Z"
   },
   {
    "duration": 17,
    "start_time": "2024-11-09T22:32:14.923Z"
   },
   {
    "duration": 30,
    "start_time": "2024-11-09T22:33:29.797Z"
   },
   {
    "duration": 11,
    "start_time": "2024-11-09T22:34:08.445Z"
   },
   {
    "duration": 6,
    "start_time": "2024-11-09T22:34:12.116Z"
   },
   {
    "duration": 29,
    "start_time": "2024-11-09T22:34:36.441Z"
   },
   {
    "duration": 16,
    "start_time": "2024-11-09T22:34:49.497Z"
   },
   {
    "duration": 90,
    "start_time": "2024-11-09T22:35:54.352Z"
   },
   {
    "duration": 15,
    "start_time": "2024-11-09T22:36:04.418Z"
   },
   {
    "duration": 32,
    "start_time": "2024-11-09T22:36:30.513Z"
   },
   {
    "duration": 16,
    "start_time": "2024-11-09T22:36:55.783Z"
   },
   {
    "duration": 4,
    "start_time": "2024-11-09T22:38:58.527Z"
   },
   {
    "duration": 6,
    "start_time": "2024-11-09T22:39:09.222Z"
   },
   {
    "duration": 4,
    "start_time": "2024-11-09T22:39:29.353Z"
   },
   {
    "duration": 6,
    "start_time": "2024-11-09T22:39:35.055Z"
   },
   {
    "duration": 787,
    "start_time": "2024-11-09T22:39:48.805Z"
   },
   {
    "duration": 797,
    "start_time": "2024-11-09T22:43:34.466Z"
   },
   {
    "duration": 819,
    "start_time": "2024-11-09T22:43:43.770Z"
   },
   {
    "duration": 6,
    "start_time": "2024-11-09T22:45:16.896Z"
   },
   {
    "duration": 18,
    "start_time": "2024-11-09T22:45:42.569Z"
   },
   {
    "duration": 17,
    "start_time": "2024-11-09T22:45:58.734Z"
   },
   {
    "duration": 17,
    "start_time": "2024-11-09T22:46:06.742Z"
   },
   {
    "duration": 23,
    "start_time": "2024-11-09T22:47:38.892Z"
   },
   {
    "duration": 27,
    "start_time": "2024-11-09T22:49:05.717Z"
   },
   {
    "duration": 10,
    "start_time": "2024-11-09T22:49:44.847Z"
   },
   {
    "duration": 10,
    "start_time": "2024-11-09T22:50:37.204Z"
   },
   {
    "duration": 10,
    "start_time": "2024-11-09T22:51:28.977Z"
   },
   {
    "duration": 9,
    "start_time": "2024-11-09T22:51:37.574Z"
   },
   {
    "duration": 10,
    "start_time": "2024-11-09T22:52:14.127Z"
   },
   {
    "duration": 7,
    "start_time": "2024-11-09T22:55:16.016Z"
   },
   {
    "duration": 11,
    "start_time": "2024-11-09T22:56:55.258Z"
   },
   {
    "duration": 10,
    "start_time": "2024-11-09T22:59:41.797Z"
   },
   {
    "duration": 10,
    "start_time": "2024-11-09T23:00:55.008Z"
   },
   {
    "duration": 20,
    "start_time": "2024-11-09T23:01:05.295Z"
   },
   {
    "duration": 19,
    "start_time": "2024-11-09T23:01:22.073Z"
   },
   {
    "duration": 13,
    "start_time": "2024-11-09T23:01:29.721Z"
   },
   {
    "duration": 20,
    "start_time": "2024-11-09T23:01:35.959Z"
   },
   {
    "duration": 28,
    "start_time": "2024-11-09T23:04:03.460Z"
   },
   {
    "duration": 8,
    "start_time": "2024-11-09T23:05:20.854Z"
   },
   {
    "duration": 5,
    "start_time": "2024-11-09T23:05:59.348Z"
   },
   {
    "duration": 13,
    "start_time": "2024-11-09T23:06:02.152Z"
   },
   {
    "duration": 9,
    "start_time": "2024-11-09T23:06:11.477Z"
   },
   {
    "duration": 53,
    "start_time": "2024-11-09T23:07:49.380Z"
   },
   {
    "duration": 40,
    "start_time": "2024-11-09T23:09:15.259Z"
   },
   {
    "duration": 40,
    "start_time": "2024-11-09T23:09:39.405Z"
   },
   {
    "duration": 5,
    "start_time": "2024-11-09T23:10:01.757Z"
   },
   {
    "duration": 36,
    "start_time": "2024-11-09T23:10:08.375Z"
   },
   {
    "duration": 7,
    "start_time": "2024-11-09T23:11:05.151Z"
   },
   {
    "duration": 6,
    "start_time": "2024-11-09T23:11:24.464Z"
   },
   {
    "duration": 35,
    "start_time": "2024-11-09T23:11:33.908Z"
   },
   {
    "duration": 15,
    "start_time": "2024-11-09T23:12:06.747Z"
   },
   {
    "duration": 15,
    "start_time": "2024-11-09T23:12:16.738Z"
   },
   {
    "duration": 42,
    "start_time": "2024-11-09T23:12:42.748Z"
   },
   {
    "duration": 42,
    "start_time": "2024-11-09T23:13:21.557Z"
   },
   {
    "duration": 14,
    "start_time": "2024-11-09T23:13:34.598Z"
   },
   {
    "duration": 14,
    "start_time": "2024-11-09T23:14:17.893Z"
   },
   {
    "duration": 15,
    "start_time": "2024-11-09T23:14:25.354Z"
   },
   {
    "duration": 43,
    "start_time": "2024-11-09T23:14:40.030Z"
   },
   {
    "duration": 41,
    "start_time": "2024-11-09T23:14:58.505Z"
   },
   {
    "duration": 43,
    "start_time": "2024-11-09T23:15:11.937Z"
   },
   {
    "duration": 34,
    "start_time": "2024-11-09T23:15:39.581Z"
   },
   {
    "duration": 33,
    "start_time": "2024-11-09T23:15:53.837Z"
   },
   {
    "duration": 15,
    "start_time": "2024-11-09T23:16:41.814Z"
   },
   {
    "duration": 14,
    "start_time": "2024-11-09T23:16:44.323Z"
   },
   {
    "duration": 14,
    "start_time": "2024-11-09T23:16:54.204Z"
   },
   {
    "duration": 37,
    "start_time": "2024-11-09T23:20:34.894Z"
   },
   {
    "duration": 33,
    "start_time": "2024-11-09T23:20:42.311Z"
   },
   {
    "duration": 31,
    "start_time": "2024-11-09T23:22:05.246Z"
   },
   {
    "duration": 24,
    "start_time": "2024-11-09T23:22:26.192Z"
   },
   {
    "duration": 35,
    "start_time": "2024-11-09T23:22:39.878Z"
   },
   {
    "duration": 45,
    "start_time": "2024-11-09T23:22:54.370Z"
   },
   {
    "duration": 46,
    "start_time": "2024-11-09T23:23:04.848Z"
   },
   {
    "duration": 45,
    "start_time": "2024-11-09T23:23:09.555Z"
   },
   {
    "duration": 25,
    "start_time": "2024-11-09T23:24:43.521Z"
   },
   {
    "duration": 26,
    "start_time": "2024-11-09T23:25:15.561Z"
   },
   {
    "duration": 27,
    "start_time": "2024-11-09T23:25:49.283Z"
   },
   {
    "duration": 29,
    "start_time": "2024-11-09T23:26:07.301Z"
   },
   {
    "duration": 33,
    "start_time": "2024-11-09T23:26:13.251Z"
   },
   {
    "duration": 27,
    "start_time": "2024-11-09T23:26:18.967Z"
   },
   {
    "duration": 27,
    "start_time": "2024-11-09T23:26:29.372Z"
   },
   {
    "duration": 27,
    "start_time": "2024-11-09T23:28:10.427Z"
   },
   {
    "duration": 12,
    "start_time": "2024-11-09T23:31:17.102Z"
   },
   {
    "duration": 3,
    "start_time": "2024-11-09T23:31:25.930Z"
   },
   {
    "duration": 7,
    "start_time": "2024-11-09T23:32:01.448Z"
   },
   {
    "duration": 5,
    "start_time": "2024-11-09T23:32:31.866Z"
   },
   {
    "duration": 7,
    "start_time": "2024-11-09T23:32:42.301Z"
   },
   {
    "duration": 5,
    "start_time": "2024-11-09T23:32:50.015Z"
   },
   {
    "duration": 5,
    "start_time": "2024-11-09T23:33:19.527Z"
   },
   {
    "duration": 152,
    "start_time": "2024-11-09T23:33:32.251Z"
   },
   {
    "duration": 27,
    "start_time": "2024-11-09T23:33:54.853Z"
   },
   {
    "duration": 26,
    "start_time": "2024-11-09T23:34:02.416Z"
   },
   {
    "duration": 26,
    "start_time": "2024-11-09T23:34:25.243Z"
   },
   {
    "duration": 248,
    "start_time": "2024-11-09T23:34:39.947Z"
   },
   {
    "duration": 419,
    "start_time": "2024-11-09T23:35:15.301Z"
   },
   {
    "duration": 950,
    "start_time": "2024-11-09T23:35:17.098Z"
   },
   {
    "duration": 18,
    "start_time": "2024-11-09T23:35:19.069Z"
   },
   {
    "duration": 13,
    "start_time": "2024-11-09T23:35:23.144Z"
   },
   {
    "duration": 12,
    "start_time": "2024-11-09T23:35:25.793Z"
   },
   {
    "duration": 11,
    "start_time": "2024-11-09T23:35:29.124Z"
   },
   {
    "duration": 26,
    "start_time": "2024-11-09T23:35:33.224Z"
   },
   {
    "duration": 88,
    "start_time": "2024-11-09T23:35:41.528Z"
   },
   {
    "duration": 92,
    "start_time": "2024-11-09T23:35:43.954Z"
   },
   {
    "duration": 49,
    "start_time": "2024-11-09T23:35:48.061Z"
   },
   {
    "duration": 189,
    "start_time": "2024-11-09T23:35:51.252Z"
   },
   {
    "duration": 92,
    "start_time": "2024-11-09T23:35:55.376Z"
   },
   {
    "duration": 12,
    "start_time": "2024-11-09T23:36:38.562Z"
   },
   {
    "duration": 5,
    "start_time": "2024-11-09T23:36:40.644Z"
   },
   {
    "duration": 31,
    "start_time": "2024-11-09T23:36:42.605Z"
   },
   {
    "duration": 15,
    "start_time": "2024-11-09T23:36:46.991Z"
   },
   {
    "duration": 4,
    "start_time": "2024-11-09T23:36:50.836Z"
   },
   {
    "duration": 7,
    "start_time": "2024-11-09T23:36:57.271Z"
   },
   {
    "duration": 4,
    "start_time": "2024-11-09T23:37:00.684Z"
   },
   {
    "duration": 6,
    "start_time": "2024-11-09T23:37:02.674Z"
   },
   {
    "duration": 820,
    "start_time": "2024-11-09T23:37:08.590Z"
   },
   {
    "duration": 871,
    "start_time": "2024-11-09T23:37:12.657Z"
   },
   {
    "duration": 23,
    "start_time": "2024-11-09T23:37:23.580Z"
   },
   {
    "duration": 10,
    "start_time": "2024-11-09T23:38:03.488Z"
   },
   {
    "duration": 10,
    "start_time": "2024-11-09T23:38:09.687Z"
   },
   {
    "duration": 7,
    "start_time": "2024-11-09T23:38:15.371Z"
   },
   {
    "duration": 12,
    "start_time": "2024-11-09T23:38:35.994Z"
   },
   {
    "duration": 22,
    "start_time": "2024-11-09T23:38:40.156Z"
   },
   {
    "duration": 51,
    "start_time": "2024-11-09T23:38:50.628Z"
   },
   {
    "duration": 43,
    "start_time": "2024-11-09T23:39:16.327Z"
   },
   {
    "duration": 8,
    "start_time": "2024-11-10T03:09:02.217Z"
   },
   {
    "duration": 15,
    "start_time": "2024-11-10T03:16:08.151Z"
   },
   {
    "duration": 187,
    "start_time": "2024-11-10T03:17:46.562Z"
   },
   {
    "duration": 10,
    "start_time": "2024-11-10T03:17:55.603Z"
   },
   {
    "duration": 11,
    "start_time": "2024-11-10T03:18:40.026Z"
   },
   {
    "duration": 58,
    "start_time": "2024-11-10T03:23:11.995Z"
   },
   {
    "duration": 45,
    "start_time": "2024-11-10T03:27:15.571Z"
   },
   {
    "duration": 59,
    "start_time": "2024-11-10T03:27:22.258Z"
   },
   {
    "duration": 24,
    "start_time": "2024-11-10T03:28:41.542Z"
   },
   {
    "duration": 57,
    "start_time": "2024-11-10T03:28:58.491Z"
   },
   {
    "duration": 58,
    "start_time": "2024-11-10T03:29:06.016Z"
   },
   {
    "duration": 58,
    "start_time": "2024-11-10T03:29:16.467Z"
   },
   {
    "duration": 281,
    "start_time": "2024-11-10T03:39:08.053Z"
   },
   {
    "duration": 4,
    "start_time": "2024-11-10T03:39:49.834Z"
   },
   {
    "duration": 25,
    "start_time": "2024-11-10T03:40:04.349Z"
   },
   {
    "duration": 8,
    "start_time": "2024-11-10T03:40:22.874Z"
   },
   {
    "duration": 13,
    "start_time": "2024-11-10T03:41:38.540Z"
   },
   {
    "duration": 13,
    "start_time": "2024-11-10T03:42:09.449Z"
   },
   {
    "duration": 13,
    "start_time": "2024-11-10T03:42:30.617Z"
   },
   {
    "duration": 6,
    "start_time": "2024-11-10T03:43:07.531Z"
   },
   {
    "duration": 421,
    "start_time": "2024-11-10T03:44:13.341Z"
   },
   {
    "duration": 12,
    "start_time": "2024-11-10T03:46:21.255Z"
   },
   {
    "duration": 13,
    "start_time": "2024-11-10T03:47:36.619Z"
   },
   {
    "duration": 7,
    "start_time": "2024-11-10T03:56:33.978Z"
   },
   {
    "duration": 12,
    "start_time": "2024-11-10T03:56:37.906Z"
   },
   {
    "duration": 58,
    "start_time": "2024-11-10T03:59:04.091Z"
   },
   {
    "duration": 24,
    "start_time": "2024-11-10T03:59:28.074Z"
   },
   {
    "duration": 14,
    "start_time": "2024-11-10T03:59:55.752Z"
   },
   {
    "duration": 7,
    "start_time": "2024-11-10T04:01:41.438Z"
   },
   {
    "duration": 19,
    "start_time": "2024-11-10T04:41:09.692Z"
   },
   {
    "duration": 605,
    "start_time": "2024-11-10T04:42:41.655Z"
   },
   {
    "duration": 664,
    "start_time": "2024-11-10T04:44:55.771Z"
   },
   {
    "duration": 21,
    "start_time": "2024-11-10T04:48:03.981Z"
   },
   {
    "duration": 21,
    "start_time": "2024-11-10T04:52:05.482Z"
   },
   {
    "duration": 6,
    "start_time": "2024-11-10T04:54:25.650Z"
   },
   {
    "duration": 21,
    "start_time": "2024-11-10T04:54:34.242Z"
   },
   {
    "duration": 21,
    "start_time": "2024-11-10T04:55:35.598Z"
   },
   {
    "duration": 51,
    "start_time": "2024-11-10T04:57:53.778Z"
   },
   {
    "duration": 17,
    "start_time": "2024-11-10T04:58:16.461Z"
   },
   {
    "duration": 22,
    "start_time": "2024-11-10T04:58:38.738Z"
   },
   {
    "duration": 18,
    "start_time": "2024-11-10T05:00:05.138Z"
   },
   {
    "duration": 19,
    "start_time": "2024-11-10T05:00:32.594Z"
   },
   {
    "duration": 21,
    "start_time": "2024-11-10T05:00:44.066Z"
   },
   {
    "duration": 20,
    "start_time": "2024-11-10T05:00:52.982Z"
   },
   {
    "duration": 26,
    "start_time": "2024-11-10T05:01:19.805Z"
   },
   {
    "duration": 20,
    "start_time": "2024-11-10T05:01:32.715Z"
   },
   {
    "duration": 18,
    "start_time": "2024-11-10T05:02:38.049Z"
   },
   {
    "duration": 12,
    "start_time": "2024-11-10T05:02:56.703Z"
   },
   {
    "duration": 16,
    "start_time": "2024-11-10T05:04:33.634Z"
   },
   {
    "duration": 18,
    "start_time": "2024-11-10T05:04:53.554Z"
   },
   {
    "duration": 18,
    "start_time": "2024-11-10T05:25:34.077Z"
   },
   {
    "duration": 17,
    "start_time": "2024-11-10T05:36:56.424Z"
   },
   {
    "duration": 17,
    "start_time": "2024-11-10T05:37:09.414Z"
   },
   {
    "duration": 16,
    "start_time": "2024-11-10T05:37:15.731Z"
   },
   {
    "duration": 24,
    "start_time": "2024-11-10T05:37:27.262Z"
   },
   {
    "duration": 5,
    "start_time": "2024-11-10T05:40:03.452Z"
   },
   {
    "duration": 3,
    "start_time": "2024-11-10T05:40:19.925Z"
   },
   {
    "duration": 226,
    "start_time": "2024-11-10T05:40:37.703Z"
   },
   {
    "duration": 4,
    "start_time": "2024-11-10T05:41:39.498Z"
   },
   {
    "duration": 4,
    "start_time": "2024-11-10T05:42:16.615Z"
   },
   {
    "duration": 12,
    "start_time": "2024-11-10T05:42:30.581Z"
   },
   {
    "duration": 4,
    "start_time": "2024-11-10T05:43:51.811Z"
   },
   {
    "duration": 3,
    "start_time": "2024-11-10T05:43:57.669Z"
   },
   {
    "duration": 15,
    "start_time": "2024-11-10T05:44:13.015Z"
   },
   {
    "duration": 13,
    "start_time": "2024-11-10T05:45:10.043Z"
   },
   {
    "duration": 5,
    "start_time": "2024-11-10T05:45:48.762Z"
   },
   {
    "duration": 5,
    "start_time": "2024-11-10T05:46:20.009Z"
   },
   {
    "duration": 5,
    "start_time": "2024-11-10T05:46:32.744Z"
   },
   {
    "duration": 5,
    "start_time": "2024-11-10T05:46:43.058Z"
   },
   {
    "duration": 7,
    "start_time": "2024-11-10T05:46:48.702Z"
   },
   {
    "duration": 6,
    "start_time": "2024-11-10T05:47:08.842Z"
   },
   {
    "duration": 7,
    "start_time": "2024-11-10T05:47:13.995Z"
   },
   {
    "duration": 7,
    "start_time": "2024-11-10T05:47:52.270Z"
   },
   {
    "duration": 12,
    "start_time": "2024-11-10T06:01:43.159Z"
   },
   {
    "duration": 10,
    "start_time": "2024-11-10T06:06:32.032Z"
   },
   {
    "duration": 16,
    "start_time": "2024-11-10T06:07:06.605Z"
   },
   {
    "duration": 3,
    "start_time": "2024-11-10T06:11:18.223Z"
   },
   {
    "duration": 3,
    "start_time": "2024-11-10T06:11:31.704Z"
   },
   {
    "duration": 15,
    "start_time": "2024-11-10T06:12:01.794Z"
   },
   {
    "duration": 16,
    "start_time": "2024-11-10T06:13:20.721Z"
   },
   {
    "duration": 12,
    "start_time": "2024-11-10T06:13:35.265Z"
   },
   {
    "duration": 16,
    "start_time": "2024-11-10T06:13:46.899Z"
   },
   {
    "duration": 15,
    "start_time": "2024-11-10T06:39:58.734Z"
   },
   {
    "duration": 27,
    "start_time": "2024-11-10T06:40:56.193Z"
   },
   {
    "duration": 58,
    "start_time": "2024-11-10T06:42:41.574Z"
   },
   {
    "duration": 38,
    "start_time": "2024-11-10T06:42:58.747Z"
   },
   {
    "duration": 55,
    "start_time": "2024-11-10T06:44:27.471Z"
   },
   {
    "duration": 62,
    "start_time": "2024-11-10T06:46:26.715Z"
   },
   {
    "duration": 61,
    "start_time": "2024-11-10T06:46:43.300Z"
   },
   {
    "duration": 1955,
    "start_time": "2024-11-10T06:46:59.079Z"
   },
   {
    "duration": 56,
    "start_time": "2024-11-10T06:47:17.611Z"
   },
   {
    "duration": 410,
    "start_time": "2024-11-10T06:48:04.769Z"
   },
   {
    "duration": 911,
    "start_time": "2024-11-10T06:48:05.181Z"
   },
   {
    "duration": 21,
    "start_time": "2024-11-10T06:48:06.094Z"
   },
   {
    "duration": 12,
    "start_time": "2024-11-10T06:48:06.118Z"
   },
   {
    "duration": 11,
    "start_time": "2024-11-10T06:48:06.132Z"
   },
   {
    "duration": 11,
    "start_time": "2024-11-10T06:48:06.144Z"
   },
   {
    "duration": 60,
    "start_time": "2024-11-10T06:48:06.158Z"
   },
   {
    "duration": 110,
    "start_time": "2024-11-10T06:48:06.221Z"
   },
   {
    "duration": 94,
    "start_time": "2024-11-10T06:48:06.333Z"
   },
   {
    "duration": 61,
    "start_time": "2024-11-10T06:48:06.431Z"
   },
   {
    "duration": 212,
    "start_time": "2024-11-10T06:48:06.494Z"
   },
   {
    "duration": 92,
    "start_time": "2024-11-10T06:48:06.709Z"
   },
   {
    "duration": 13,
    "start_time": "2024-11-10T06:48:06.810Z"
   },
   {
    "duration": 6,
    "start_time": "2024-11-10T06:48:06.824Z"
   },
   {
    "duration": 27,
    "start_time": "2024-11-10T06:48:06.831Z"
   },
   {
    "duration": 14,
    "start_time": "2024-11-10T06:48:06.860Z"
   },
   {
    "duration": 4,
    "start_time": "2024-11-10T06:48:06.876Z"
   },
   {
    "duration": 6,
    "start_time": "2024-11-10T06:48:06.909Z"
   },
   {
    "duration": 3,
    "start_time": "2024-11-10T06:48:06.917Z"
   },
   {
    "duration": 5,
    "start_time": "2024-11-10T06:48:06.921Z"
   },
   {
    "duration": 881,
    "start_time": "2024-11-10T06:48:06.928Z"
   },
   {
    "duration": 824,
    "start_time": "2024-11-10T06:48:07.811Z"
   },
   {
    "duration": 23,
    "start_time": "2024-11-10T06:48:08.636Z"
   },
   {
    "duration": 9,
    "start_time": "2024-11-10T06:48:08.660Z"
   },
   {
    "duration": 10,
    "start_time": "2024-11-10T06:48:08.671Z"
   },
   {
    "duration": 32,
    "start_time": "2024-11-10T06:48:08.682Z"
   },
   {
    "duration": 9,
    "start_time": "2024-11-10T06:48:08.716Z"
   },
   {
    "duration": 18,
    "start_time": "2024-11-10T06:48:08.729Z"
   },
   {
    "duration": 66,
    "start_time": "2024-11-10T06:48:08.748Z"
   },
   {
    "duration": 39,
    "start_time": "2024-11-10T06:48:08.816Z"
   },
   {
    "duration": 8,
    "start_time": "2024-11-10T06:48:08.857Z"
   },
   {
    "duration": 11,
    "start_time": "2024-11-10T06:48:08.866Z"
   },
   {
    "duration": 84,
    "start_time": "2024-11-10T06:48:08.880Z"
   },
   {
    "duration": 26,
    "start_time": "2024-11-10T06:48:08.966Z"
   },
   {
    "duration": 23,
    "start_time": "2024-11-10T06:48:08.994Z"
   },
   {
    "duration": 18,
    "start_time": "2024-11-10T06:48:09.019Z"
   },
   {
    "duration": 10,
    "start_time": "2024-11-10T06:48:09.039Z"
   },
   {
    "duration": 6,
    "start_time": "2024-11-10T06:48:09.051Z"
   },
   {
    "duration": 89,
    "start_time": "2024-11-10T06:48:09.059Z"
   },
   {
    "duration": 39,
    "start_time": "2024-11-10T06:48:09.150Z"
   },
   {
    "duration": 1010,
    "start_time": "2024-11-10T06:48:09.191Z"
   },
   {
    "duration": 228,
    "start_time": "2024-11-10T06:48:10.203Z"
   },
   {
    "duration": 6,
    "start_time": "2024-11-10T06:48:10.433Z"
   },
   {
    "duration": 127,
    "start_time": "2024-11-10T06:48:10.443Z"
   },
   {
    "duration": 116,
    "start_time": "2024-11-10T06:48:10.571Z"
   },
   {
    "duration": 59,
    "start_time": "2024-11-10T06:48:10.689Z"
   },
   {
    "duration": 14,
    "start_time": "2024-11-10T06:48:10.749Z"
   },
   {
    "duration": 198,
    "start_time": "2024-11-10T06:48:10.765Z"
   },
   {
    "duration": 755,
    "start_time": "2024-11-10T06:48:10.965Z"
   },
   {
    "duration": 201,
    "start_time": "2024-11-10T06:48:11.721Z"
   },
   {
    "duration": 6,
    "start_time": "2024-11-10T06:48:11.924Z"
   },
   {
    "duration": 31,
    "start_time": "2024-11-10T06:54:46.644Z"
   },
   {
    "duration": 28,
    "start_time": "2024-11-10T06:56:47.825Z"
   },
   {
    "duration": 28,
    "start_time": "2024-11-10T06:57:11.607Z"
   },
   {
    "duration": 109,
    "start_time": "2024-11-10T07:05:54.973Z"
   },
   {
    "duration": 28,
    "start_time": "2024-11-10T07:06:37.952Z"
   },
   {
    "duration": 22,
    "start_time": "2024-11-10T07:07:49.954Z"
   },
   {
    "duration": 119,
    "start_time": "2024-11-10T07:08:08.359Z"
   },
   {
    "duration": 45,
    "start_time": "2024-11-10T07:08:41.874Z"
   },
   {
    "duration": 422,
    "start_time": "2024-11-10T07:09:46.276Z"
   },
   {
    "duration": 55,
    "start_time": "2024-11-10T07:09:59.649Z"
   },
   {
    "duration": 56,
    "start_time": "2024-11-10T07:10:22.108Z"
   },
   {
    "duration": 56,
    "start_time": "2024-11-10T07:15:15.463Z"
   },
   {
    "duration": 55,
    "start_time": "2024-11-10T07:15:35.372Z"
   },
   {
    "duration": 57,
    "start_time": "2024-11-10T07:15:46.480Z"
   },
   {
    "duration": 56,
    "start_time": "2024-11-10T07:17:48.694Z"
   },
   {
    "duration": 4,
    "start_time": "2024-11-10T07:19:10.678Z"
   },
   {
    "duration": 3,
    "start_time": "2024-11-10T07:19:30.747Z"
   },
   {
    "duration": 4,
    "start_time": "2024-11-10T07:21:06.579Z"
   },
   {
    "duration": 20,
    "start_time": "2024-11-10T07:21:19.510Z"
   },
   {
    "duration": 19,
    "start_time": "2024-11-10T07:23:54.554Z"
   },
   {
    "duration": 90,
    "start_time": "2024-11-10T07:24:46.357Z"
   },
   {
    "duration": 3420,
    "start_time": "2024-11-10T07:25:14.061Z"
   },
   {
    "duration": 3401,
    "start_time": "2024-11-10T07:27:07.655Z"
   },
   {
    "duration": 4,
    "start_time": "2024-11-10T07:29:23.441Z"
   },
   {
    "duration": 19,
    "start_time": "2024-11-10T07:30:10.115Z"
   },
   {
    "duration": 66,
    "start_time": "2024-11-10T07:31:58.091Z"
   },
   {
    "duration": 3464,
    "start_time": "2024-11-10T07:36:36.791Z"
   },
   {
    "duration": 5,
    "start_time": "2024-11-10T07:37:44.026Z"
   },
   {
    "duration": 3257,
    "start_time": "2024-11-10T07:37:51.498Z"
   },
   {
    "duration": 3482,
    "start_time": "2024-11-10T07:38:40.884Z"
   },
   {
    "duration": 3548,
    "start_time": "2024-11-10T07:39:02.871Z"
   },
   {
    "duration": 227,
    "start_time": "2024-11-10T07:39:34.502Z"
   },
   {
    "duration": 61,
    "start_time": "2024-11-10T07:39:56.674Z"
   },
   {
    "duration": 436,
    "start_time": "2024-11-10T07:40:27.106Z"
   },
   {
    "duration": 925,
    "start_time": "2024-11-10T07:40:27.544Z"
   },
   {
    "duration": 17,
    "start_time": "2024-11-10T07:40:28.471Z"
   },
   {
    "duration": 20,
    "start_time": "2024-11-10T07:40:28.490Z"
   },
   {
    "duration": 11,
    "start_time": "2024-11-10T07:40:28.512Z"
   },
   {
    "duration": 11,
    "start_time": "2024-11-10T07:40:28.526Z"
   },
   {
    "duration": 28,
    "start_time": "2024-11-10T07:40:28.538Z"
   },
   {
    "duration": 119,
    "start_time": "2024-11-10T07:40:28.568Z"
   },
   {
    "duration": 97,
    "start_time": "2024-11-10T07:40:28.689Z"
   },
   {
    "duration": 56,
    "start_time": "2024-11-10T07:40:28.790Z"
   },
   {
    "duration": 189,
    "start_time": "2024-11-10T07:40:28.848Z"
   },
   {
    "duration": 99,
    "start_time": "2024-11-10T07:40:29.039Z"
   },
   {
    "duration": 12,
    "start_time": "2024-11-10T07:40:29.140Z"
   },
   {
    "duration": 5,
    "start_time": "2024-11-10T07:40:29.154Z"
   },
   {
    "duration": 28,
    "start_time": "2024-11-10T07:40:29.160Z"
   },
   {
    "duration": 15,
    "start_time": "2024-11-10T07:40:29.209Z"
   },
   {
    "duration": 4,
    "start_time": "2024-11-10T07:40:29.226Z"
   },
   {
    "duration": 6,
    "start_time": "2024-11-10T07:40:29.231Z"
   },
   {
    "duration": 4,
    "start_time": "2024-11-10T07:40:29.238Z"
   },
   {
    "duration": 5,
    "start_time": "2024-11-10T07:40:29.244Z"
   },
   {
    "duration": 831,
    "start_time": "2024-11-10T07:40:29.251Z"
   },
   {
    "duration": 813,
    "start_time": "2024-11-10T07:40:30.084Z"
   },
   {
    "duration": 26,
    "start_time": "2024-11-10T07:40:30.898Z"
   },
   {
    "duration": 8,
    "start_time": "2024-11-10T07:40:30.926Z"
   },
   {
    "duration": 10,
    "start_time": "2024-11-10T07:40:30.935Z"
   },
   {
    "duration": 7,
    "start_time": "2024-11-10T07:40:30.947Z"
   },
   {
    "duration": 9,
    "start_time": "2024-11-10T07:40:30.955Z"
   },
   {
    "duration": 50,
    "start_time": "2024-11-10T07:40:30.969Z"
   },
   {
    "duration": 45,
    "start_time": "2024-11-10T07:40:31.021Z"
   },
   {
    "duration": 54,
    "start_time": "2024-11-10T07:40:31.068Z"
   },
   {
    "duration": 8,
    "start_time": "2024-11-10T07:40:31.123Z"
   },
   {
    "duration": 10,
    "start_time": "2024-11-10T07:40:31.133Z"
   },
   {
    "duration": 79,
    "start_time": "2024-11-10T07:40:31.145Z"
   },
   {
    "duration": 24,
    "start_time": "2024-11-10T07:40:31.226Z"
   },
   {
    "duration": 13,
    "start_time": "2024-11-10T07:40:31.252Z"
   },
   {
    "duration": 45,
    "start_time": "2024-11-10T07:40:31.268Z"
   },
   {
    "duration": 10,
    "start_time": "2024-11-10T07:40:31.315Z"
   },
   {
    "duration": 6,
    "start_time": "2024-11-10T07:40:31.326Z"
   },
   {
    "duration": 83,
    "start_time": "2024-11-10T07:40:31.334Z"
   },
   {
    "duration": 75,
    "start_time": "2024-11-10T07:40:31.420Z"
   },
   {
    "duration": 969,
    "start_time": "2024-11-10T07:40:31.508Z"
   },
   {
    "duration": 235,
    "start_time": "2024-11-10T07:40:32.479Z"
   },
   {
    "duration": 7,
    "start_time": "2024-11-10T07:40:32.716Z"
   },
   {
    "duration": 128,
    "start_time": "2024-11-10T07:40:32.726Z"
   },
   {
    "duration": 121,
    "start_time": "2024-11-10T07:40:32.857Z"
   },
   {
    "duration": 58,
    "start_time": "2024-11-10T07:40:32.980Z"
   },
   {
    "duration": 15,
    "start_time": "2024-11-10T07:40:33.039Z"
   },
   {
    "duration": 200,
    "start_time": "2024-11-10T07:40:33.055Z"
   },
   {
    "duration": 762,
    "start_time": "2024-11-10T07:40:33.257Z"
   },
   {
    "duration": 185,
    "start_time": "2024-11-10T07:40:34.021Z"
   },
   {
    "duration": 7,
    "start_time": "2024-11-10T07:40:34.208Z"
   },
   {
    "duration": 914,
    "start_time": "2024-11-10T07:42:53.202Z"
   },
   {
    "duration": 64,
    "start_time": "2024-11-10T07:43:31.945Z"
   },
   {
    "duration": 244,
    "start_time": "2024-11-10T07:50:12.933Z"
   },
   {
    "duration": 81,
    "start_time": "2024-11-10T07:50:25.505Z"
   },
   {
    "duration": 920,
    "start_time": "2024-11-10T07:51:23.180Z"
   },
   {
    "duration": 916,
    "start_time": "2024-11-10T07:51:33.350Z"
   },
   {
    "duration": 968,
    "start_time": "2024-11-10T07:51:50.112Z"
   },
   {
    "duration": 925,
    "start_time": "2024-11-10T07:52:37.727Z"
   },
   {
    "duration": 922,
    "start_time": "2024-11-10T07:53:10.861Z"
   },
   {
    "duration": 927,
    "start_time": "2024-11-10T07:53:27.859Z"
   },
   {
    "duration": 929,
    "start_time": "2024-11-10T07:53:42.627Z"
   },
   {
    "duration": 75,
    "start_time": "2024-11-10T07:54:21.209Z"
   },
   {
    "duration": 983,
    "start_time": "2024-11-10T07:56:17.125Z"
   },
   {
    "duration": 931,
    "start_time": "2024-11-10T07:57:02.270Z"
   },
   {
    "duration": 930,
    "start_time": "2024-11-10T08:02:34.713Z"
   },
   {
    "duration": 2,
    "start_time": "2024-11-10T08:10:26.675Z"
   },
   {
    "duration": 3,
    "start_time": "2024-11-10T08:10:29.275Z"
   },
   {
    "duration": 225,
    "start_time": "2024-11-10T08:14:22.563Z"
   },
   {
    "duration": 8,
    "start_time": "2024-11-10T08:14:27.407Z"
   },
   {
    "duration": 6,
    "start_time": "2024-11-10T08:14:34.075Z"
   },
   {
    "duration": 118,
    "start_time": "2024-11-10T08:14:37.951Z"
   },
   {
    "duration": 119,
    "start_time": "2024-11-10T08:15:06.666Z"
   },
   {
    "duration": 129,
    "start_time": "2024-11-10T08:19:01.580Z"
   },
   {
    "duration": 179,
    "start_time": "2024-11-10T08:19:11.356Z"
   },
   {
    "duration": 2156,
    "start_time": "2024-11-10T22:00:06.377Z"
   },
   {
    "duration": 979,
    "start_time": "2024-11-10T22:00:09.723Z"
   },
   {
    "duration": 21,
    "start_time": "2024-11-10T22:00:15.353Z"
   },
   {
    "duration": 15,
    "start_time": "2024-11-10T22:00:28.537Z"
   },
   {
    "duration": 11,
    "start_time": "2024-11-10T22:00:45.951Z"
   },
   {
    "duration": 14,
    "start_time": "2024-11-10T22:00:54.129Z"
   },
   {
    "duration": 26,
    "start_time": "2024-11-10T22:01:28.786Z"
   },
   {
    "duration": 88,
    "start_time": "2024-11-10T22:01:49.506Z"
   },
   {
    "duration": 90,
    "start_time": "2024-11-10T22:02:00.150Z"
   },
   {
    "duration": 186,
    "start_time": "2024-11-10T22:03:10.384Z"
   },
   {
    "duration": 88,
    "start_time": "2024-11-10T22:03:44.350Z"
   },
   {
    "duration": 12,
    "start_time": "2024-11-10T22:04:23.574Z"
   },
   {
    "duration": 6,
    "start_time": "2024-11-10T22:04:26.562Z"
   },
   {
    "duration": 5,
    "start_time": "2024-11-10T22:04:33.453Z"
   },
   {
    "duration": 28,
    "start_time": "2024-11-10T22:04:37.614Z"
   },
   {
    "duration": 15,
    "start_time": "2024-11-10T22:04:46.339Z"
   },
   {
    "duration": 4,
    "start_time": "2024-11-10T22:05:04.700Z"
   },
   {
    "duration": 6,
    "start_time": "2024-11-10T22:05:07.598Z"
   },
   {
    "duration": 5,
    "start_time": "2024-11-10T22:05:13.470Z"
   },
   {
    "duration": 7,
    "start_time": "2024-11-10T22:05:17.706Z"
   },
   {
    "duration": 778,
    "start_time": "2024-11-10T22:05:23.533Z"
   },
   {
    "duration": 901,
    "start_time": "2024-11-10T22:05:27.151Z"
   },
   {
    "duration": 25,
    "start_time": "2024-11-10T22:06:09.929Z"
   },
   {
    "duration": 9,
    "start_time": "2024-11-10T22:06:15.446Z"
   },
   {
    "duration": 11,
    "start_time": "2024-11-10T22:06:22.146Z"
   },
   {
    "duration": 8,
    "start_time": "2024-11-10T22:06:38.704Z"
   },
   {
    "duration": 10,
    "start_time": "2024-11-10T22:06:47.841Z"
   },
   {
    "duration": 20,
    "start_time": "2024-11-10T22:06:53.133Z"
   },
   {
    "duration": 49,
    "start_time": "2024-11-10T22:07:11.683Z"
   },
   {
    "duration": 37,
    "start_time": "2024-11-10T22:07:16.607Z"
   },
   {
    "duration": 8,
    "start_time": "2024-11-10T22:07:25.633Z"
   },
   {
    "duration": 11,
    "start_time": "2024-11-10T22:07:37.116Z"
   },
   {
    "duration": 58,
    "start_time": "2024-11-10T22:07:53.938Z"
   },
   {
    "duration": 23,
    "start_time": "2024-11-10T22:07:59.306Z"
   },
   {
    "duration": 13,
    "start_time": "2024-11-10T22:08:05.254Z"
   },
   {
    "duration": 19,
    "start_time": "2024-11-10T22:08:14.994Z"
   },
   {
    "duration": 12,
    "start_time": "2024-11-10T22:08:42.699Z"
   },
   {
    "duration": 7,
    "start_time": "2024-11-10T22:08:53.805Z"
   },
   {
    "duration": 54,
    "start_time": "2024-11-10T22:08:59.342Z"
   },
   {
    "duration": 56,
    "start_time": "2024-11-10T22:09:07.430Z"
   },
   {
    "duration": 2,
    "start_time": "2024-11-10T22:36:39.213Z"
   },
   {
    "duration": 823,
    "start_time": "2024-11-10T22:36:40.980Z"
   },
   {
    "duration": 15,
    "start_time": "2024-11-10T22:36:42.881Z"
   },
   {
    "duration": 16,
    "start_time": "2024-11-10T22:36:44.601Z"
   },
   {
    "duration": 13,
    "start_time": "2024-11-10T22:36:46.147Z"
   },
   {
    "duration": 11,
    "start_time": "2024-11-10T22:36:47.166Z"
   },
   {
    "duration": 24,
    "start_time": "2024-11-10T22:36:50.158Z"
   },
   {
    "duration": 67,
    "start_time": "2024-11-10T22:37:01.341Z"
   },
   {
    "duration": 74,
    "start_time": "2024-11-10T22:37:03.659Z"
   },
   {
    "duration": 40,
    "start_time": "2024-11-10T22:37:06.561Z"
   },
   {
    "duration": 167,
    "start_time": "2024-11-10T22:37:08.396Z"
   },
   {
    "duration": 68,
    "start_time": "2024-11-10T22:37:10.381Z"
   },
   {
    "duration": 14,
    "start_time": "2024-11-10T22:37:19.963Z"
   },
   {
    "duration": 5,
    "start_time": "2024-11-10T22:37:21.113Z"
   },
   {
    "duration": 30,
    "start_time": "2024-11-10T22:37:22.725Z"
   },
   {
    "duration": 16,
    "start_time": "2024-11-10T22:37:24.032Z"
   },
   {
    "duration": 4,
    "start_time": "2024-11-10T22:37:28.363Z"
   },
   {
    "duration": 8,
    "start_time": "2024-11-10T22:37:29.077Z"
   },
   {
    "duration": 4,
    "start_time": "2024-11-10T22:37:32.725Z"
   },
   {
    "duration": 6,
    "start_time": "2024-11-10T22:37:33.463Z"
   },
   {
    "duration": 721,
    "start_time": "2024-11-10T22:37:37.239Z"
   },
   {
    "duration": 718,
    "start_time": "2024-11-10T22:37:38.067Z"
   },
   {
    "duration": 26,
    "start_time": "2024-11-10T22:37:45.544Z"
   },
   {
    "duration": 10,
    "start_time": "2024-11-10T22:37:49.825Z"
   },
   {
    "duration": 9,
    "start_time": "2024-11-10T22:37:53.074Z"
   },
   {
    "duration": 8,
    "start_time": "2024-11-10T22:37:55.947Z"
   },
   {
    "duration": 10,
    "start_time": "2024-11-10T22:37:58.846Z"
   },
   {
    "duration": 22,
    "start_time": "2024-11-10T22:38:00.530Z"
   },
   {
    "duration": 38,
    "start_time": "2024-11-10T22:38:05.393Z"
   },
   {
    "duration": 31,
    "start_time": "2024-11-10T22:38:10.199Z"
   },
   {
    "duration": 7,
    "start_time": "2024-11-10T22:38:36.076Z"
   },
   {
    "duration": 11,
    "start_time": "2024-11-10T22:38:38.538Z"
   },
   {
    "duration": 57,
    "start_time": "2024-11-10T22:38:55.444Z"
   },
   {
    "duration": 38,
    "start_time": "2024-11-10T22:38:56.851Z"
   },
   {
    "duration": 13,
    "start_time": "2024-11-10T22:39:01.646Z"
   },
   {
    "duration": 18,
    "start_time": "2024-11-10T22:39:03.188Z"
   },
   {
    "duration": 10,
    "start_time": "2024-11-10T22:39:07.591Z"
   },
   {
    "duration": 6,
    "start_time": "2024-11-10T22:39:09.023Z"
   },
   {
    "duration": 67,
    "start_time": "2024-11-10T22:39:15.337Z"
   },
   {
    "duration": 68,
    "start_time": "2024-11-10T22:39:45.671Z"
   },
   {
    "duration": 966,
    "start_time": "2024-11-10T22:44:23.159Z"
   },
   {
    "duration": 8,
    "start_time": "2024-11-10T22:46:19.795Z"
   },
   {
    "duration": 929,
    "start_time": "2024-11-10T22:53:36.542Z"
   },
   {
    "duration": 925,
    "start_time": "2024-11-10T22:53:50.828Z"
   },
   {
    "duration": 411,
    "start_time": "2024-11-10T22:56:42.322Z"
   },
   {
    "duration": 897,
    "start_time": "2024-11-10T22:56:42.735Z"
   },
   {
    "duration": 17,
    "start_time": "2024-11-10T22:56:43.633Z"
   },
   {
    "duration": 12,
    "start_time": "2024-11-10T22:56:43.654Z"
   },
   {
    "duration": 10,
    "start_time": "2024-11-10T22:56:43.668Z"
   },
   {
    "duration": 11,
    "start_time": "2024-11-10T22:56:43.679Z"
   },
   {
    "duration": 55,
    "start_time": "2024-11-10T22:56:43.691Z"
   },
   {
    "duration": 96,
    "start_time": "2024-11-10T22:56:43.750Z"
   },
   {
    "duration": 101,
    "start_time": "2024-11-10T22:56:43.847Z"
   },
   {
    "duration": 46,
    "start_time": "2024-11-10T22:56:43.952Z"
   },
   {
    "duration": 198,
    "start_time": "2024-11-10T22:56:44.000Z"
   },
   {
    "duration": 102,
    "start_time": "2024-11-10T22:56:44.201Z"
   },
   {
    "duration": 20,
    "start_time": "2024-11-10T22:56:44.304Z"
   },
   {
    "duration": 5,
    "start_time": "2024-11-10T22:56:44.326Z"
   },
   {
    "duration": 28,
    "start_time": "2024-11-10T22:56:44.333Z"
   },
   {
    "duration": 13,
    "start_time": "2024-11-10T22:56:44.362Z"
   },
   {
    "duration": 4,
    "start_time": "2024-11-10T22:56:44.377Z"
   },
   {
    "duration": 6,
    "start_time": "2024-11-10T22:56:44.382Z"
   },
   {
    "duration": 36,
    "start_time": "2024-11-10T22:56:44.390Z"
   },
   {
    "duration": 6,
    "start_time": "2024-11-10T22:56:44.428Z"
   },
   {
    "duration": 768,
    "start_time": "2024-11-10T22:56:44.437Z"
   },
   {
    "duration": 805,
    "start_time": "2024-11-10T22:56:45.207Z"
   },
   {
    "duration": 30,
    "start_time": "2024-11-10T22:56:46.014Z"
   },
   {
    "duration": 10,
    "start_time": "2024-11-10T22:56:46.045Z"
   },
   {
    "duration": 9,
    "start_time": "2024-11-10T22:56:46.057Z"
   },
   {
    "duration": 7,
    "start_time": "2024-11-10T22:56:46.068Z"
   },
   {
    "duration": 10,
    "start_time": "2024-11-10T22:56:46.076Z"
   },
   {
    "duration": 46,
    "start_time": "2024-11-10T22:56:46.090Z"
   },
   {
    "duration": 44,
    "start_time": "2024-11-10T22:56:46.137Z"
   },
   {
    "duration": 54,
    "start_time": "2024-11-10T22:56:46.183Z"
   },
   {
    "duration": 8,
    "start_time": "2024-11-10T22:56:46.239Z"
   },
   {
    "duration": 11,
    "start_time": "2024-11-10T22:56:46.249Z"
   },
   {
    "duration": 82,
    "start_time": "2024-11-10T22:56:46.262Z"
   },
   {
    "duration": 22,
    "start_time": "2024-11-10T22:56:46.346Z"
   },
   {
    "duration": 11,
    "start_time": "2024-11-10T22:56:46.370Z"
   },
   {
    "duration": 17,
    "start_time": "2024-11-10T22:56:46.383Z"
   },
   {
    "duration": 10,
    "start_time": "2024-11-10T22:56:46.424Z"
   },
   {
    "duration": 6,
    "start_time": "2024-11-10T22:56:46.436Z"
   },
   {
    "duration": 53,
    "start_time": "2024-11-10T22:56:46.445Z"
   },
   {
    "duration": 67,
    "start_time": "2024-11-10T22:56:46.525Z"
   },
   {
    "duration": 994,
    "start_time": "2024-11-10T22:56:46.594Z"
   },
   {
    "duration": 938,
    "start_time": "2024-11-10T22:56:47.590Z"
   },
   {
    "duration": 2,
    "start_time": "2024-11-10T22:56:48.530Z"
   },
   {
    "duration": 245,
    "start_time": "2024-11-10T22:56:48.534Z"
   },
   {
    "duration": 6,
    "start_time": "2024-11-10T22:56:48.781Z"
   },
   {
    "duration": 130,
    "start_time": "2024-11-10T22:56:48.789Z"
   },
   {
    "duration": 114,
    "start_time": "2024-11-10T22:56:48.920Z"
   },
   {
    "duration": 47,
    "start_time": "2024-11-10T22:56:49.036Z"
   },
   {
    "duration": 13,
    "start_time": "2024-11-10T22:56:49.085Z"
   },
   {
    "duration": 204,
    "start_time": "2024-11-10T22:56:49.100Z"
   },
   {
    "duration": 780,
    "start_time": "2024-11-10T22:56:49.306Z"
   },
   {
    "duration": 201,
    "start_time": "2024-11-10T22:56:50.088Z"
   },
   {
    "duration": 6,
    "start_time": "2024-11-10T22:56:50.290Z"
   },
   {
    "duration": 2122,
    "start_time": "2024-11-11T00:25:07.948Z"
   },
   {
    "duration": 999,
    "start_time": "2024-11-11T00:25:10.073Z"
   },
   {
    "duration": 17,
    "start_time": "2024-11-11T00:25:11.074Z"
   },
   {
    "duration": 13,
    "start_time": "2024-11-11T00:25:11.542Z"
   },
   {
    "duration": 13,
    "start_time": "2024-11-11T00:25:17.211Z"
   },
   {
    "duration": 11,
    "start_time": "2024-11-11T00:25:20.611Z"
   },
   {
    "duration": 26,
    "start_time": "2024-11-11T00:25:25.322Z"
   },
   {
    "duration": 81,
    "start_time": "2024-11-11T00:25:32.945Z"
   },
   {
    "duration": 90,
    "start_time": "2024-11-11T00:25:35.673Z"
   },
   {
    "duration": 46,
    "start_time": "2024-11-11T00:25:39.476Z"
   },
   {
    "duration": 183,
    "start_time": "2024-11-11T00:25:42.878Z"
   },
   {
    "duration": 89,
    "start_time": "2024-11-11T00:25:45.724Z"
   },
   {
    "duration": 14,
    "start_time": "2024-11-11T00:25:49.709Z"
   },
   {
    "duration": 5,
    "start_time": "2024-11-11T00:25:50.410Z"
   },
   {
    "duration": 29,
    "start_time": "2024-11-11T00:25:52.154Z"
   },
   {
    "duration": 16,
    "start_time": "2024-11-11T00:25:56.171Z"
   },
   {
    "duration": 3,
    "start_time": "2024-11-11T00:26:00.657Z"
   },
   {
    "duration": 10,
    "start_time": "2024-11-11T00:26:01.451Z"
   },
   {
    "duration": 4,
    "start_time": "2024-11-11T00:26:05.272Z"
   },
   {
    "duration": 6,
    "start_time": "2024-11-11T00:26:05.991Z"
   },
   {
    "duration": 774,
    "start_time": "2024-11-11T00:26:09.217Z"
   },
   {
    "duration": 773,
    "start_time": "2024-11-11T00:26:10.052Z"
   },
   {
    "duration": 25,
    "start_time": "2024-11-11T00:26:16.348Z"
   },
   {
    "duration": 8,
    "start_time": "2024-11-11T00:26:21.143Z"
   },
   {
    "duration": 9,
    "start_time": "2024-11-11T00:26:25.160Z"
   },
   {
    "duration": 6,
    "start_time": "2024-11-11T00:26:28.412Z"
   },
   {
    "duration": 9,
    "start_time": "2024-11-11T00:26:33.776Z"
   },
   {
    "duration": 18,
    "start_time": "2024-11-11T00:26:37.704Z"
   },
   {
    "duration": 49,
    "start_time": "2024-11-11T00:26:42.123Z"
   },
   {
    "duration": 44,
    "start_time": "2024-11-11T00:26:45.914Z"
   },
   {
    "duration": 9,
    "start_time": "2024-11-11T00:26:46.898Z"
   },
   {
    "duration": 11,
    "start_time": "2024-11-11T00:26:50.941Z"
   },
   {
    "duration": 57,
    "start_time": "2024-11-11T00:26:55.484Z"
   },
   {
    "duration": 25,
    "start_time": "2024-11-11T00:26:59.862Z"
   },
   {
    "duration": 12,
    "start_time": "2024-11-11T00:27:04.935Z"
   },
   {
    "duration": 6,
    "start_time": "2024-11-11T00:40:20.625Z"
   },
   {
    "duration": 3,
    "start_time": "2024-11-11T00:40:40.393Z"
   },
   {
    "duration": 6,
    "start_time": "2024-11-11T00:41:44.028Z"
   },
   {
    "duration": 463,
    "start_time": "2024-11-11T00:41:58.126Z"
   },
   {
    "duration": 31,
    "start_time": "2024-11-11T00:42:20.760Z"
   },
   {
    "duration": 29,
    "start_time": "2024-11-11T00:43:14.940Z"
   },
   {
    "duration": 30,
    "start_time": "2024-11-11T00:44:08.905Z"
   },
   {
    "duration": 6,
    "start_time": "2024-11-11T00:44:21.212Z"
   },
   {
    "duration": 4,
    "start_time": "2024-11-11T00:44:35.723Z"
   },
   {
    "duration": 3,
    "start_time": "2024-11-11T00:49:29.997Z"
   },
   {
    "duration": 327,
    "start_time": "2024-11-11T00:49:45.719Z"
   },
   {
    "duration": 38,
    "start_time": "2024-11-11T00:50:49.807Z"
   },
   {
    "duration": 40,
    "start_time": "2024-11-11T00:51:15.254Z"
   },
   {
    "duration": 48,
    "start_time": "2024-11-11T00:52:00.754Z"
   },
   {
    "duration": 748,
    "start_time": "2024-11-11T00:53:27.794Z"
   },
   {
    "duration": 748,
    "start_time": "2024-11-11T00:53:41.234Z"
   },
   {
    "duration": 441,
    "start_time": "2024-11-11T00:53:53.955Z"
   },
   {
    "duration": 924,
    "start_time": "2024-11-11T00:53:54.399Z"
   },
   {
    "duration": 17,
    "start_time": "2024-11-11T00:53:55.325Z"
   },
   {
    "duration": 13,
    "start_time": "2024-11-11T00:53:55.344Z"
   },
   {
    "duration": 11,
    "start_time": "2024-11-11T00:53:55.358Z"
   },
   {
    "duration": 10,
    "start_time": "2024-11-11T00:53:55.370Z"
   },
   {
    "duration": 51,
    "start_time": "2024-11-11T00:53:55.383Z"
   },
   {
    "duration": 95,
    "start_time": "2024-11-11T00:53:55.436Z"
   },
   {
    "duration": 96,
    "start_time": "2024-11-11T00:53:55.533Z"
   },
   {
    "duration": 46,
    "start_time": "2024-11-11T00:53:55.632Z"
   },
   {
    "duration": 193,
    "start_time": "2024-11-11T00:53:55.680Z"
   },
   {
    "duration": 97,
    "start_time": "2024-11-11T00:53:55.875Z"
   },
   {
    "duration": 12,
    "start_time": "2024-11-11T00:53:55.974Z"
   },
   {
    "duration": 5,
    "start_time": "2024-11-11T00:53:55.987Z"
   },
   {
    "duration": 40,
    "start_time": "2024-11-11T00:53:55.993Z"
   },
   {
    "duration": 13,
    "start_time": "2024-11-11T00:53:56.035Z"
   },
   {
    "duration": 3,
    "start_time": "2024-11-11T00:53:56.050Z"
   },
   {
    "duration": 6,
    "start_time": "2024-11-11T00:53:56.055Z"
   },
   {
    "duration": 3,
    "start_time": "2024-11-11T00:53:56.062Z"
   },
   {
    "duration": 5,
    "start_time": "2024-11-11T00:53:56.067Z"
   },
   {
    "duration": 807,
    "start_time": "2024-11-11T00:53:56.074Z"
   },
   {
    "duration": 803,
    "start_time": "2024-11-11T00:53:56.882Z"
   },
   {
    "duration": 28,
    "start_time": "2024-11-11T00:53:57.687Z"
   },
   {
    "duration": 8,
    "start_time": "2024-11-11T00:53:57.716Z"
   },
   {
    "duration": 8,
    "start_time": "2024-11-11T00:53:57.726Z"
   },
   {
    "duration": 7,
    "start_time": "2024-11-11T00:53:57.736Z"
   },
   {
    "duration": 9,
    "start_time": "2024-11-11T00:53:57.744Z"
   },
   {
    "duration": 16,
    "start_time": "2024-11-11T00:53:57.757Z"
   },
   {
    "duration": 84,
    "start_time": "2024-11-11T00:53:57.774Z"
   },
   {
    "duration": 39,
    "start_time": "2024-11-11T00:53:57.859Z"
   },
   {
    "duration": 17,
    "start_time": "2024-11-11T00:53:57.900Z"
   },
   {
    "duration": 10,
    "start_time": "2024-11-11T00:53:57.919Z"
   },
   {
    "duration": 57,
    "start_time": "2024-11-11T00:53:57.931Z"
   },
   {
    "duration": 49,
    "start_time": "2024-11-11T00:53:57.990Z"
   },
   {
    "duration": 11,
    "start_time": "2024-11-11T00:53:58.041Z"
   },
   {
    "duration": 1041,
    "start_time": "2024-11-11T00:53:58.054Z"
   },
   {
    "duration": 0,
    "start_time": "2024-11-11T00:53:59.096Z"
   },
   {
    "duration": 0,
    "start_time": "2024-11-11T00:53:59.097Z"
   },
   {
    "duration": 0,
    "start_time": "2024-11-11T00:53:59.098Z"
   },
   {
    "duration": 0,
    "start_time": "2024-11-11T00:53:59.100Z"
   },
   {
    "duration": 0,
    "start_time": "2024-11-11T00:53:59.112Z"
   },
   {
    "duration": 0,
    "start_time": "2024-11-11T00:53:59.113Z"
   },
   {
    "duration": 0,
    "start_time": "2024-11-11T00:53:59.114Z"
   },
   {
    "duration": 0,
    "start_time": "2024-11-11T00:53:59.115Z"
   },
   {
    "duration": 0,
    "start_time": "2024-11-11T00:53:59.116Z"
   },
   {
    "duration": 0,
    "start_time": "2024-11-11T00:53:59.117Z"
   },
   {
    "duration": 0,
    "start_time": "2024-11-11T00:53:59.118Z"
   },
   {
    "duration": 0,
    "start_time": "2024-11-11T00:53:59.119Z"
   },
   {
    "duration": 0,
    "start_time": "2024-11-11T00:53:59.120Z"
   },
   {
    "duration": 0,
    "start_time": "2024-11-11T00:53:59.121Z"
   },
   {
    "duration": 0,
    "start_time": "2024-11-11T00:53:59.122Z"
   },
   {
    "duration": 0,
    "start_time": "2024-11-11T00:53:59.124Z"
   },
   {
    "duration": 0,
    "start_time": "2024-11-11T00:53:59.125Z"
   },
   {
    "duration": 0,
    "start_time": "2024-11-11T00:53:59.126Z"
   },
   {
    "duration": 3,
    "start_time": "2024-11-11T00:54:38.447Z"
   },
   {
    "duration": 7,
    "start_time": "2024-11-11T00:54:45.635Z"
   },
   {
    "duration": 5,
    "start_time": "2024-11-11T00:55:21.024Z"
   },
   {
    "duration": 200,
    "start_time": "2024-11-11T00:55:33.967Z"
   },
   {
    "duration": 38,
    "start_time": "2024-11-11T00:56:39.494Z"
   },
   {
    "duration": 41,
    "start_time": "2024-11-11T00:56:51.418Z"
   },
   {
    "duration": 41,
    "start_time": "2024-11-11T00:57:05.210Z"
   },
   {
    "duration": 37,
    "start_time": "2024-11-11T00:57:20.516Z"
   },
   {
    "duration": 12,
    "start_time": "2024-11-11T00:57:34.285Z"
   },
   {
    "duration": 4,
    "start_time": "2024-11-11T00:57:35.304Z"
   },
   {
    "duration": 30,
    "start_time": "2024-11-11T01:08:30.442Z"
   },
   {
    "duration": 12,
    "start_time": "2024-11-11T01:08:50.294Z"
   },
   {
    "duration": 31,
    "start_time": "2024-11-11T01:08:59.105Z"
   },
   {
    "duration": 18,
    "start_time": "2024-11-11T01:09:00.520Z"
   },
   {
    "duration": 30,
    "start_time": "2024-11-11T01:09:18.270Z"
   },
   {
    "duration": 12,
    "start_time": "2024-11-11T01:09:58.663Z"
   },
   {
    "duration": 31,
    "start_time": "2024-11-11T01:10:04.209Z"
   },
   {
    "duration": 31,
    "start_time": "2024-11-11T01:10:32.093Z"
   },
   {
    "duration": 33,
    "start_time": "2024-11-11T01:10:41.079Z"
   },
   {
    "duration": 74,
    "start_time": "2024-11-11T01:11:07.217Z"
   },
   {
    "duration": 23,
    "start_time": "2024-11-11T01:11:44.340Z"
   },
   {
    "duration": 12,
    "start_time": "2024-11-11T01:12:29.175Z"
   },
   {
    "duration": 9,
    "start_time": "2024-11-11T01:13:50.401Z"
   },
   {
    "duration": 7,
    "start_time": "2024-11-11T01:14:03.739Z"
   },
   {
    "duration": 11,
    "start_time": "2024-11-11T01:14:30.154Z"
   },
   {
    "duration": 11,
    "start_time": "2024-11-11T01:17:30.407Z"
   },
   {
    "duration": 13,
    "start_time": "2024-11-11T01:17:38.622Z"
   },
   {
    "duration": 5,
    "start_time": "2024-11-11T01:18:09.991Z"
   },
   {
    "duration": 68,
    "start_time": "2024-11-11T01:23:30.493Z"
   },
   {
    "duration": 54,
    "start_time": "2024-11-11T01:27:29.329Z"
   },
   {
    "duration": 31,
    "start_time": "2024-11-11T01:28:22.213Z"
   },
   {
    "duration": 32,
    "start_time": "2024-11-11T01:28:46.402Z"
   },
   {
    "duration": 12,
    "start_time": "2024-11-11T01:29:05.774Z"
   },
   {
    "duration": 29,
    "start_time": "2024-11-11T01:29:15.892Z"
   },
   {
    "duration": 2,
    "start_time": "2024-11-11T01:29:47.639Z"
   },
   {
    "duration": 6,
    "start_time": "2024-11-11T01:30:01.202Z"
   },
   {
    "duration": 15,
    "start_time": "2024-11-11T01:30:17.673Z"
   },
   {
    "duration": 2,
    "start_time": "2024-11-11T01:30:41.683Z"
   },
   {
    "duration": 13,
    "start_time": "2024-11-11T01:30:58.223Z"
   },
   {
    "duration": 2,
    "start_time": "2024-11-11T01:31:19.181Z"
   },
   {
    "duration": 5,
    "start_time": "2024-11-11T01:31:33.167Z"
   },
   {
    "duration": 4,
    "start_time": "2024-11-11T01:31:43.277Z"
   },
   {
    "duration": 2,
    "start_time": "2024-11-11T01:34:29.324Z"
   },
   {
    "duration": 6,
    "start_time": "2024-11-11T01:34:39.949Z"
   },
   {
    "duration": 4,
    "start_time": "2024-11-11T01:34:51.103Z"
   },
   {
    "duration": 11,
    "start_time": "2024-11-11T01:35:07.369Z"
   },
   {
    "duration": 11,
    "start_time": "2024-11-11T01:36:17.939Z"
   },
   {
    "duration": 12,
    "start_time": "2024-11-11T01:36:26.265Z"
   },
   {
    "duration": 63,
    "start_time": "2024-11-11T01:36:50.516Z"
   },
   {
    "duration": 2,
    "start_time": "2024-11-11T01:38:45.907Z"
   },
   {
    "duration": 4,
    "start_time": "2024-11-11T01:39:39.930Z"
   },
   {
    "duration": 5,
    "start_time": "2024-11-11T01:39:50.190Z"
   },
   {
    "duration": 5,
    "start_time": "2024-11-11T01:41:57.357Z"
   },
   {
    "duration": 20,
    "start_time": "2024-11-11T01:56:43.347Z"
   },
   {
    "duration": 12,
    "start_time": "2024-11-11T01:58:14.223Z"
   },
   {
    "duration": 14,
    "start_time": "2024-11-11T01:58:33.035Z"
   },
   {
    "duration": 5,
    "start_time": "2024-11-11T01:58:52.773Z"
   },
   {
    "duration": 21,
    "start_time": "2024-11-11T01:59:00.915Z"
   },
   {
    "duration": 5,
    "start_time": "2024-11-11T01:59:12.379Z"
   },
   {
    "duration": 16,
    "start_time": "2024-11-11T01:59:33.128Z"
   },
   {
    "duration": 41,
    "start_time": "2024-11-11T02:22:02.858Z"
   },
   {
    "duration": 38,
    "start_time": "2024-11-11T02:22:46.592Z"
   },
   {
    "duration": 42,
    "start_time": "2024-11-11T02:23:00.705Z"
   },
   {
    "duration": 51,
    "start_time": "2024-11-11T02:24:22.778Z"
   },
   {
    "duration": 47,
    "start_time": "2024-11-11T02:25:00.567Z"
   },
   {
    "duration": 47,
    "start_time": "2024-11-11T02:25:14.405Z"
   },
   {
    "duration": 19,
    "start_time": "2024-11-11T02:25:15.783Z"
   },
   {
    "duration": 188,
    "start_time": "2024-11-11T02:25:35.009Z"
   },
   {
    "duration": 38,
    "start_time": "2024-11-11T02:26:21.874Z"
   },
   {
    "duration": 38,
    "start_time": "2024-11-11T02:26:39.286Z"
   },
   {
    "duration": 39,
    "start_time": "2024-11-11T02:27:37.586Z"
   },
   {
    "duration": 37,
    "start_time": "2024-11-11T02:27:51.998Z"
   },
   {
    "duration": 51,
    "start_time": "2024-11-11T02:29:33.188Z"
   },
   {
    "duration": 49,
    "start_time": "2024-11-11T02:30:03.543Z"
   },
   {
    "duration": 49,
    "start_time": "2024-11-11T02:30:19.399Z"
   },
   {
    "duration": 49,
    "start_time": "2024-11-11T02:30:25.938Z"
   },
   {
    "duration": 49,
    "start_time": "2024-11-11T02:30:33.877Z"
   },
   {
    "duration": 38,
    "start_time": "2024-11-11T02:31:54.494Z"
   },
   {
    "duration": 40,
    "start_time": "2024-11-11T02:32:06.556Z"
   },
   {
    "duration": 55,
    "start_time": "2024-11-11T02:32:26.567Z"
   },
   {
    "duration": 43,
    "start_time": "2024-11-11T02:32:39.272Z"
   },
   {
    "duration": 57,
    "start_time": "2024-11-11T02:32:53.693Z"
   },
   {
    "duration": 57,
    "start_time": "2024-11-11T02:33:01.740Z"
   },
   {
    "duration": 51,
    "start_time": "2024-11-11T02:33:12.072Z"
   },
   {
    "duration": 58,
    "start_time": "2024-11-11T02:33:57.854Z"
   },
   {
    "duration": 30,
    "start_time": "2024-11-11T02:34:04.615Z"
   },
   {
    "duration": 12,
    "start_time": "2024-11-11T02:34:34.640Z"
   },
   {
    "duration": 5,
    "start_time": "2024-11-11T02:35:12.119Z"
   },
   {
    "duration": 10,
    "start_time": "2024-11-11T02:36:20.143Z"
   },
   {
    "duration": 17,
    "start_time": "2024-11-11T02:36:28.492Z"
   },
   {
    "duration": 16,
    "start_time": "2024-11-11T02:37:46.178Z"
   },
   {
    "duration": 23,
    "start_time": "2024-11-11T02:37:56.534Z"
   },
   {
    "duration": 17,
    "start_time": "2024-11-11T02:38:12.768Z"
   },
   {
    "duration": 3,
    "start_time": "2024-11-11T02:39:12.401Z"
   },
   {
    "duration": 4,
    "start_time": "2024-11-11T02:39:24.831Z"
   },
   {
    "duration": 13,
    "start_time": "2024-11-11T02:39:31.183Z"
   },
   {
    "duration": 7,
    "start_time": "2024-11-11T02:39:39.760Z"
   },
   {
    "duration": 108,
    "start_time": "2024-11-11T02:40:20.524Z"
   },
   {
    "duration": 14,
    "start_time": "2024-11-11T02:40:38.843Z"
   },
   {
    "duration": 8,
    "start_time": "2024-11-11T02:43:36.217Z"
   },
   {
    "duration": 7,
    "start_time": "2024-11-11T02:43:53.933Z"
   },
   {
    "duration": 11,
    "start_time": "2024-11-11T02:44:01.012Z"
   },
   {
    "duration": 16,
    "start_time": "2024-11-11T02:45:17.212Z"
   },
   {
    "duration": 10,
    "start_time": "2024-11-11T02:45:35.812Z"
   },
   {
    "duration": 10,
    "start_time": "2024-11-11T02:45:44.052Z"
   },
   {
    "duration": 8,
    "start_time": "2024-11-11T02:45:59.448Z"
   },
   {
    "duration": 32,
    "start_time": "2024-11-11T02:47:53.395Z"
   },
   {
    "duration": 7,
    "start_time": "2024-11-11T02:48:11.809Z"
   },
   {
    "duration": 11,
    "start_time": "2024-11-11T02:48:27.169Z"
   },
   {
    "duration": 18,
    "start_time": "2024-11-11T02:50:19.813Z"
   },
   {
    "duration": 4,
    "start_time": "2024-11-11T02:50:31.205Z"
   },
   {
    "duration": 10,
    "start_time": "2024-11-11T02:51:08.761Z"
   },
   {
    "duration": 33,
    "start_time": "2024-11-11T02:54:00.384Z"
   },
   {
    "duration": 34,
    "start_time": "2024-11-11T02:55:15.138Z"
   },
   {
    "duration": 11,
    "start_time": "2024-11-11T02:56:01.444Z"
   },
   {
    "duration": 11,
    "start_time": "2024-11-11T02:56:45.496Z"
   },
   {
    "duration": 14,
    "start_time": "2024-11-11T02:56:56.180Z"
   },
   {
    "duration": 12,
    "start_time": "2024-11-11T02:57:02.521Z"
   },
   {
    "duration": 10,
    "start_time": "2024-11-11T03:01:54.248Z"
   },
   {
    "duration": 11,
    "start_time": "2024-11-11T03:05:02.488Z"
   },
   {
    "duration": 286,
    "start_time": "2024-11-11T03:05:09.856Z"
   },
   {
    "duration": 22,
    "start_time": "2024-11-11T03:05:19.973Z"
   },
   {
    "duration": 10,
    "start_time": "2024-11-11T03:05:41.916Z"
   },
   {
    "duration": 11,
    "start_time": "2024-11-11T03:05:51.399Z"
   },
   {
    "duration": 9,
    "start_time": "2024-11-11T03:06:04.791Z"
   },
   {
    "duration": 8,
    "start_time": "2024-11-11T03:08:56.458Z"
   },
   {
    "duration": 9,
    "start_time": "2024-11-11T03:09:12.891Z"
   },
   {
    "duration": 11,
    "start_time": "2024-11-11T03:09:33.708Z"
   },
   {
    "duration": 21,
    "start_time": "2024-11-11T03:10:08.318Z"
   },
   {
    "duration": 36,
    "start_time": "2024-11-11T03:10:16.439Z"
   },
   {
    "duration": 11,
    "start_time": "2024-11-11T03:11:00.885Z"
   },
   {
    "duration": 11,
    "start_time": "2024-11-11T03:11:16.505Z"
   },
   {
    "duration": 8,
    "start_time": "2024-11-11T03:12:16.485Z"
   },
   {
    "duration": 7,
    "start_time": "2024-11-11T03:12:34.236Z"
   },
   {
    "duration": 8,
    "start_time": "2024-11-11T03:12:47.031Z"
   },
   {
    "duration": 8,
    "start_time": "2024-11-11T03:12:56.510Z"
   },
   {
    "duration": 8,
    "start_time": "2024-11-11T03:13:26.754Z"
   },
   {
    "duration": 9,
    "start_time": "2024-11-11T03:14:00.569Z"
   },
   {
    "duration": 8,
    "start_time": "2024-11-11T03:14:30.493Z"
   },
   {
    "duration": 14,
    "start_time": "2024-11-11T03:15:09.946Z"
   },
   {
    "duration": 8,
    "start_time": "2024-11-11T03:15:23.874Z"
   },
   {
    "duration": 9,
    "start_time": "2024-11-11T03:15:38.466Z"
   },
   {
    "duration": 8,
    "start_time": "2024-11-11T03:15:51.024Z"
   },
   {
    "duration": 116,
    "start_time": "2024-11-11T03:16:15.094Z"
   },
   {
    "duration": 7,
    "start_time": "2024-11-11T03:16:26.209Z"
   },
   {
    "duration": 7,
    "start_time": "2024-11-11T03:16:35.520Z"
   },
   {
    "duration": 7,
    "start_time": "2024-11-11T03:16:48.789Z"
   },
   {
    "duration": 10,
    "start_time": "2024-11-11T03:17:18.991Z"
   },
   {
    "duration": 6,
    "start_time": "2024-11-11T03:23:24.168Z"
   },
   {
    "duration": 10,
    "start_time": "2024-11-11T03:23:37.183Z"
   },
   {
    "duration": 22,
    "start_time": "2024-11-11T03:25:47.212Z"
   },
   {
    "duration": 10,
    "start_time": "2024-11-11T03:26:16.086Z"
   },
   {
    "duration": 7,
    "start_time": "2024-11-11T03:26:24.533Z"
   },
   {
    "duration": 57,
    "start_time": "2024-11-11T03:26:45.275Z"
   },
   {
    "duration": 3,
    "start_time": "2024-11-11T03:27:29.247Z"
   },
   {
    "duration": 2,
    "start_time": "2024-11-11T03:27:41.972Z"
   },
   {
    "duration": 2,
    "start_time": "2024-11-11T03:27:51.173Z"
   },
   {
    "duration": 11,
    "start_time": "2024-11-11T03:28:47.128Z"
   },
   {
    "duration": 12,
    "start_time": "2024-11-11T03:29:02.506Z"
   },
   {
    "duration": 6,
    "start_time": "2024-11-11T03:29:16.823Z"
   },
   {
    "duration": 10,
    "start_time": "2024-11-11T03:30:56.977Z"
   },
   {
    "duration": 3,
    "start_time": "2024-11-11T03:31:15.880Z"
   },
   {
    "duration": 4,
    "start_time": "2024-11-11T03:31:31.014Z"
   },
   {
    "duration": 375,
    "start_time": "2024-11-11T03:31:39.047Z"
   },
   {
    "duration": 21,
    "start_time": "2024-11-11T03:31:45.483Z"
   },
   {
    "duration": 9,
    "start_time": "2024-11-11T03:32:10.211Z"
   },
   {
    "duration": 9,
    "start_time": "2024-11-11T03:32:19.052Z"
   },
   {
    "duration": 59,
    "start_time": "2024-11-11T03:41:52.388Z"
   },
   {
    "duration": 967,
    "start_time": "2024-11-11T03:42:02.629Z"
   },
   {
    "duration": 928,
    "start_time": "2024-11-11T03:43:42.200Z"
   },
   {
    "duration": 9,
    "start_time": "2024-11-11T03:47:55.642Z"
   },
   {
    "duration": 132,
    "start_time": "2024-11-11T03:49:54.297Z"
   },
   {
    "duration": 36,
    "start_time": "2024-11-11T03:50:35.713Z"
   },
   {
    "duration": 35,
    "start_time": "2024-11-11T03:50:57.502Z"
   },
   {
    "duration": 472,
    "start_time": "2024-11-11T03:52:41.724Z"
   },
   {
    "duration": 328,
    "start_time": "2024-11-11T03:55:06.295Z"
   },
   {
    "duration": 538,
    "start_time": "2024-11-11T03:56:15.731Z"
   },
   {
    "duration": 1087,
    "start_time": "2024-11-11T03:56:16.272Z"
   },
   {
    "duration": 16,
    "start_time": "2024-11-11T03:56:17.361Z"
   },
   {
    "duration": 16,
    "start_time": "2024-11-11T03:56:17.379Z"
   },
   {
    "duration": 26,
    "start_time": "2024-11-11T03:56:17.397Z"
   },
   {
    "duration": 13,
    "start_time": "2024-11-11T03:56:17.425Z"
   },
   {
    "duration": 40,
    "start_time": "2024-11-11T03:56:17.441Z"
   },
   {
    "duration": 105,
    "start_time": "2024-11-11T03:56:17.483Z"
   },
   {
    "duration": 91,
    "start_time": "2024-11-11T03:56:17.590Z"
   },
   {
    "duration": 51,
    "start_time": "2024-11-11T03:56:17.685Z"
   },
   {
    "duration": 189,
    "start_time": "2024-11-11T03:56:17.738Z"
   },
   {
    "duration": 94,
    "start_time": "2024-11-11T03:56:17.928Z"
   },
   {
    "duration": 14,
    "start_time": "2024-11-11T03:56:18.023Z"
   },
   {
    "duration": 6,
    "start_time": "2024-11-11T03:56:18.039Z"
   },
   {
    "duration": 37,
    "start_time": "2024-11-11T03:56:18.047Z"
   },
   {
    "duration": 40,
    "start_time": "2024-11-11T03:56:18.088Z"
   },
   {
    "duration": 4,
    "start_time": "2024-11-11T03:56:18.129Z"
   },
   {
    "duration": 7,
    "start_time": "2024-11-11T03:56:18.135Z"
   },
   {
    "duration": 4,
    "start_time": "2024-11-11T03:56:18.144Z"
   },
   {
    "duration": 6,
    "start_time": "2024-11-11T03:56:18.150Z"
   },
   {
    "duration": 817,
    "start_time": "2024-11-11T03:56:18.158Z"
   },
   {
    "duration": 813,
    "start_time": "2024-11-11T03:56:18.977Z"
   },
   {
    "duration": 41,
    "start_time": "2024-11-11T03:56:19.792Z"
   },
   {
    "duration": 10,
    "start_time": "2024-11-11T03:56:19.834Z"
   },
   {
    "duration": 10,
    "start_time": "2024-11-11T03:56:19.846Z"
   },
   {
    "duration": 9,
    "start_time": "2024-11-11T03:56:19.858Z"
   },
   {
    "duration": 9,
    "start_time": "2024-11-11T03:56:19.869Z"
   },
   {
    "duration": 46,
    "start_time": "2024-11-11T03:56:19.884Z"
   },
   {
    "duration": 66,
    "start_time": "2024-11-11T03:56:19.931Z"
   },
   {
    "duration": 55,
    "start_time": "2024-11-11T03:56:20.012Z"
   },
   {
    "duration": 8,
    "start_time": "2024-11-11T03:56:20.069Z"
   },
   {
    "duration": 34,
    "start_time": "2024-11-11T03:56:20.079Z"
   },
   {
    "duration": 58,
    "start_time": "2024-11-11T03:56:20.115Z"
   },
   {
    "duration": 55,
    "start_time": "2024-11-11T03:56:20.175Z"
   },
   {
    "duration": 12,
    "start_time": "2024-11-11T03:56:20.232Z"
   },
   {
    "duration": 6,
    "start_time": "2024-11-11T03:56:20.246Z"
   },
   {
    "duration": 23,
    "start_time": "2024-11-11T03:56:20.254Z"
   },
   {
    "duration": 749,
    "start_time": "2024-11-11T03:56:20.278Z"
   },
   {
    "duration": 519,
    "start_time": "2024-11-11T03:56:21.029Z"
   },
   {
    "duration": 3,
    "start_time": "2024-11-11T03:56:21.549Z"
   },
   {
    "duration": 76,
    "start_time": "2024-11-11T03:56:21.554Z"
   },
   {
    "duration": 62,
    "start_time": "2024-11-11T03:56:21.632Z"
   },
   {
    "duration": 991,
    "start_time": "2024-11-11T03:56:21.698Z"
   },
   {
    "duration": 939,
    "start_time": "2024-11-11T03:56:22.691Z"
   },
   {
    "duration": 5,
    "start_time": "2024-11-11T03:56:23.633Z"
   },
   {
    "duration": 296,
    "start_time": "2024-11-11T03:56:23.641Z"
   },
   {
    "duration": 7,
    "start_time": "2024-11-11T03:56:23.939Z"
   },
   {
    "duration": 138,
    "start_time": "2024-11-11T03:56:23.947Z"
   },
   {
    "duration": 118,
    "start_time": "2024-11-11T03:56:24.087Z"
   },
   {
    "duration": 46,
    "start_time": "2024-11-11T03:56:24.207Z"
   },
   {
    "duration": 14,
    "start_time": "2024-11-11T03:56:24.255Z"
   },
   {
    "duration": 223,
    "start_time": "2024-11-11T03:56:24.270Z"
   },
   {
    "duration": 779,
    "start_time": "2024-11-11T03:56:24.496Z"
   },
   {
    "duration": 187,
    "start_time": "2024-11-11T03:56:25.279Z"
   },
   {
    "duration": 5,
    "start_time": "2024-11-11T03:56:25.468Z"
   },
   {
    "duration": 464,
    "start_time": "2024-11-11T03:58:54.244Z"
   },
   {
    "duration": 1089,
    "start_time": "2024-11-11T03:58:54.710Z"
   },
   {
    "duration": 22,
    "start_time": "2024-11-11T03:58:55.801Z"
   },
   {
    "duration": 12,
    "start_time": "2024-11-11T03:58:55.826Z"
   },
   {
    "duration": 10,
    "start_time": "2024-11-11T03:58:55.840Z"
   },
   {
    "duration": 10,
    "start_time": "2024-11-11T03:58:55.852Z"
   },
   {
    "duration": 56,
    "start_time": "2024-11-11T03:58:55.863Z"
   },
   {
    "duration": 92,
    "start_time": "2024-11-11T03:58:55.921Z"
   },
   {
    "duration": 85,
    "start_time": "2024-11-11T03:58:56.015Z"
   },
   {
    "duration": 46,
    "start_time": "2024-11-11T03:58:56.113Z"
   },
   {
    "duration": 193,
    "start_time": "2024-11-11T03:58:56.161Z"
   },
   {
    "duration": 93,
    "start_time": "2024-11-11T03:58:56.356Z"
   },
   {
    "duration": 12,
    "start_time": "2024-11-11T03:58:56.450Z"
   },
   {
    "duration": 5,
    "start_time": "2024-11-11T03:58:56.465Z"
   },
   {
    "duration": 43,
    "start_time": "2024-11-11T03:58:56.471Z"
   },
   {
    "duration": 13,
    "start_time": "2024-11-11T03:58:56.516Z"
   },
   {
    "duration": 3,
    "start_time": "2024-11-11T03:58:56.530Z"
   },
   {
    "duration": 6,
    "start_time": "2024-11-11T03:58:56.535Z"
   },
   {
    "duration": 5,
    "start_time": "2024-11-11T03:58:56.542Z"
   },
   {
    "duration": 6,
    "start_time": "2024-11-11T03:58:56.548Z"
   },
   {
    "duration": 793,
    "start_time": "2024-11-11T03:58:56.555Z"
   },
   {
    "duration": 774,
    "start_time": "2024-11-11T03:58:57.350Z"
   },
   {
    "duration": 21,
    "start_time": "2024-11-11T03:58:58.126Z"
   },
   {
    "duration": 9,
    "start_time": "2024-11-11T03:58:58.149Z"
   },
   {
    "duration": 9,
    "start_time": "2024-11-11T03:58:58.159Z"
   },
   {
    "duration": 7,
    "start_time": "2024-11-11T03:58:58.169Z"
   },
   {
    "duration": 39,
    "start_time": "2024-11-11T03:58:58.178Z"
   },
   {
    "duration": 17,
    "start_time": "2024-11-11T03:58:58.221Z"
   },
   {
    "duration": 45,
    "start_time": "2024-11-11T03:58:58.240Z"
   },
   {
    "duration": 56,
    "start_time": "2024-11-11T03:58:58.287Z"
   },
   {
    "duration": 7,
    "start_time": "2024-11-11T03:58:58.345Z"
   },
   {
    "duration": 10,
    "start_time": "2024-11-11T03:58:58.354Z"
   },
   {
    "duration": 79,
    "start_time": "2024-11-11T03:58:58.366Z"
   },
   {
    "duration": 23,
    "start_time": "2024-11-11T03:58:58.447Z"
   },
   {
    "duration": 12,
    "start_time": "2024-11-11T03:58:58.472Z"
   },
   {
    "duration": 4,
    "start_time": "2024-11-11T03:58:58.485Z"
   },
   {
    "duration": 14,
    "start_time": "2024-11-11T03:58:58.512Z"
   },
   {
    "duration": 706,
    "start_time": "2024-11-11T03:58:58.528Z"
   },
   {
    "duration": 588,
    "start_time": "2024-11-11T03:58:59.235Z"
   },
   {
    "duration": 3,
    "start_time": "2024-11-11T03:58:59.825Z"
   },
   {
    "duration": 64,
    "start_time": "2024-11-11T03:58:59.829Z"
   },
   {
    "duration": 76,
    "start_time": "2024-11-11T03:58:59.895Z"
   },
   {
    "duration": 979,
    "start_time": "2024-11-11T03:58:59.973Z"
   },
   {
    "duration": 923,
    "start_time": "2024-11-11T03:59:00.954Z"
   },
   {
    "duration": 2,
    "start_time": "2024-11-11T03:59:01.879Z"
   },
   {
    "duration": 236,
    "start_time": "2024-11-11T03:59:01.883Z"
   },
   {
    "duration": 8,
    "start_time": "2024-11-11T03:59:02.121Z"
   },
   {
    "duration": 131,
    "start_time": "2024-11-11T03:59:02.131Z"
   },
   {
    "duration": 118,
    "start_time": "2024-11-11T03:59:02.264Z"
   },
   {
    "duration": 57,
    "start_time": "2024-11-11T03:59:02.383Z"
   },
   {
    "duration": 14,
    "start_time": "2024-11-11T03:59:02.442Z"
   },
   {
    "duration": 192,
    "start_time": "2024-11-11T03:59:02.457Z"
   },
   {
    "duration": 747,
    "start_time": "2024-11-11T03:59:02.651Z"
   },
   {
    "duration": 187,
    "start_time": "2024-11-11T03:59:03.400Z"
   },
   {
    "duration": 5,
    "start_time": "2024-11-11T03:59:03.590Z"
   },
   {
    "duration": 431,
    "start_time": "2024-11-11T03:59:45.394Z"
   },
   {
    "duration": 1005,
    "start_time": "2024-11-11T03:59:45.827Z"
   },
   {
    "duration": 17,
    "start_time": "2024-11-11T03:59:46.834Z"
   },
   {
    "duration": 16,
    "start_time": "2024-11-11T03:59:46.853Z"
   },
   {
    "duration": 10,
    "start_time": "2024-11-11T03:59:46.872Z"
   },
   {
    "duration": 32,
    "start_time": "2024-11-11T03:59:46.883Z"
   },
   {
    "duration": 26,
    "start_time": "2024-11-11T03:59:46.917Z"
   },
   {
    "duration": 98,
    "start_time": "2024-11-11T03:59:46.945Z"
   },
   {
    "duration": 97,
    "start_time": "2024-11-11T03:59:47.045Z"
   },
   {
    "duration": 45,
    "start_time": "2024-11-11T03:59:47.144Z"
   },
   {
    "duration": 217,
    "start_time": "2024-11-11T03:59:47.191Z"
   },
   {
    "duration": 88,
    "start_time": "2024-11-11T03:59:47.412Z"
   },
   {
    "duration": 20,
    "start_time": "2024-11-11T03:59:47.502Z"
   },
   {
    "duration": 5,
    "start_time": "2024-11-11T03:59:47.526Z"
   },
   {
    "duration": 27,
    "start_time": "2024-11-11T03:59:47.533Z"
   },
   {
    "duration": 14,
    "start_time": "2024-11-11T03:59:47.561Z"
   },
   {
    "duration": 3,
    "start_time": "2024-11-11T03:59:47.576Z"
   },
   {
    "duration": 31,
    "start_time": "2024-11-11T03:59:47.581Z"
   },
   {
    "duration": 3,
    "start_time": "2024-11-11T03:59:47.614Z"
   },
   {
    "duration": 6,
    "start_time": "2024-11-11T03:59:47.619Z"
   },
   {
    "duration": 825,
    "start_time": "2024-11-11T03:59:47.627Z"
   },
   {
    "duration": 782,
    "start_time": "2024-11-11T03:59:48.453Z"
   },
   {
    "duration": 22,
    "start_time": "2024-11-11T03:59:49.236Z"
   },
   {
    "duration": 9,
    "start_time": "2024-11-11T03:59:49.260Z"
   },
   {
    "duration": 8,
    "start_time": "2024-11-11T03:59:49.271Z"
   },
   {
    "duration": 35,
    "start_time": "2024-11-11T03:59:49.281Z"
   },
   {
    "duration": 9,
    "start_time": "2024-11-11T03:59:49.318Z"
   },
   {
    "duration": 17,
    "start_time": "2024-11-11T03:59:49.329Z"
   },
   {
    "duration": 66,
    "start_time": "2024-11-11T03:59:49.347Z"
   },
   {
    "duration": 38,
    "start_time": "2024-11-11T03:59:49.415Z"
   },
   {
    "duration": 7,
    "start_time": "2024-11-11T03:59:49.454Z"
   },
   {
    "duration": 10,
    "start_time": "2024-11-11T03:59:49.463Z"
   },
   {
    "duration": 83,
    "start_time": "2024-11-11T03:59:49.475Z"
   },
   {
    "duration": 22,
    "start_time": "2024-11-11T03:59:49.561Z"
   },
   {
    "duration": 28,
    "start_time": "2024-11-11T03:59:49.585Z"
   },
   {
    "duration": 4,
    "start_time": "2024-11-11T03:59:49.615Z"
   },
   {
    "duration": 16,
    "start_time": "2024-11-11T03:59:49.621Z"
   },
   {
    "duration": 289,
    "start_time": "2024-11-11T03:59:49.638Z"
   },
   {
    "duration": 11,
    "start_time": "2024-11-11T03:59:49.929Z"
   },
   {
    "duration": 5,
    "start_time": "2024-11-11T03:59:49.942Z"
   },
   {
    "duration": 76,
    "start_time": "2024-11-11T03:59:49.952Z"
   },
   {
    "duration": 60,
    "start_time": "2024-11-11T03:59:50.030Z"
   },
   {
    "duration": 981,
    "start_time": "2024-11-11T03:59:50.092Z"
   },
   {
    "duration": 920,
    "start_time": "2024-11-11T03:59:51.075Z"
   },
   {
    "duration": 3,
    "start_time": "2024-11-11T03:59:51.996Z"
   },
   {
    "duration": 269,
    "start_time": "2024-11-11T03:59:52.001Z"
   },
   {
    "duration": 6,
    "start_time": "2024-11-11T03:59:52.272Z"
   },
   {
    "duration": 131,
    "start_time": "2024-11-11T03:59:52.279Z"
   },
   {
    "duration": 112,
    "start_time": "2024-11-11T03:59:52.412Z"
   },
   {
    "duration": 46,
    "start_time": "2024-11-11T03:59:52.526Z"
   },
   {
    "duration": 12,
    "start_time": "2024-11-11T03:59:52.574Z"
   },
   {
    "duration": 203,
    "start_time": "2024-11-11T03:59:52.588Z"
   },
   {
    "duration": 799,
    "start_time": "2024-11-11T03:59:52.793Z"
   },
   {
    "duration": 192,
    "start_time": "2024-11-11T03:59:53.594Z"
   },
   {
    "duration": 6,
    "start_time": "2024-11-11T03:59:53.787Z"
   },
   {
    "duration": 1126,
    "start_time": "2024-11-11T04:10:49.891Z"
   },
   {
    "duration": 471,
    "start_time": "2024-11-11T04:15:13.136Z"
   },
   {
    "duration": 1067,
    "start_time": "2024-11-11T04:15:13.611Z"
   },
   {
    "duration": 25,
    "start_time": "2024-11-11T04:15:14.680Z"
   },
   {
    "duration": 18,
    "start_time": "2024-11-11T04:15:14.707Z"
   },
   {
    "duration": 10,
    "start_time": "2024-11-11T04:15:14.728Z"
   },
   {
    "duration": 12,
    "start_time": "2024-11-11T04:15:14.739Z"
   },
   {
    "duration": 27,
    "start_time": "2024-11-11T04:15:14.752Z"
   },
   {
    "duration": 88,
    "start_time": "2024-11-11T04:15:14.812Z"
   },
   {
    "duration": 98,
    "start_time": "2024-11-11T04:15:14.902Z"
   },
   {
    "duration": 57,
    "start_time": "2024-11-11T04:15:15.001Z"
   },
   {
    "duration": 198,
    "start_time": "2024-11-11T04:15:15.060Z"
   },
   {
    "duration": 101,
    "start_time": "2024-11-11T04:15:15.259Z"
   },
   {
    "duration": 12,
    "start_time": "2024-11-11T04:15:15.362Z"
   },
   {
    "duration": 5,
    "start_time": "2024-11-11T04:15:15.378Z"
   },
   {
    "duration": 52,
    "start_time": "2024-11-11T04:15:15.385Z"
   },
   {
    "duration": 14,
    "start_time": "2024-11-11T04:15:15.439Z"
   },
   {
    "duration": 4,
    "start_time": "2024-11-11T04:15:15.454Z"
   },
   {
    "duration": 5,
    "start_time": "2024-11-11T04:15:15.460Z"
   },
   {
    "duration": 4,
    "start_time": "2024-11-11T04:15:15.466Z"
   },
   {
    "duration": 5,
    "start_time": "2024-11-11T04:15:15.472Z"
   },
   {
    "duration": 815,
    "start_time": "2024-11-11T04:15:15.479Z"
   },
   {
    "duration": 790,
    "start_time": "2024-11-11T04:15:16.297Z"
   },
   {
    "duration": 31,
    "start_time": "2024-11-11T04:15:17.089Z"
   },
   {
    "duration": 8,
    "start_time": "2024-11-11T04:15:17.123Z"
   },
   {
    "duration": 8,
    "start_time": "2024-11-11T04:15:17.133Z"
   },
   {
    "duration": 7,
    "start_time": "2024-11-11T04:15:17.143Z"
   },
   {
    "duration": 10,
    "start_time": "2024-11-11T04:15:17.152Z"
   },
   {
    "duration": 19,
    "start_time": "2024-11-11T04:15:17.165Z"
   },
   {
    "duration": 50,
    "start_time": "2024-11-11T04:15:17.213Z"
   },
   {
    "duration": 60,
    "start_time": "2024-11-11T04:15:17.266Z"
   },
   {
    "duration": 10,
    "start_time": "2024-11-11T04:15:17.328Z"
   },
   {
    "duration": 14,
    "start_time": "2024-11-11T04:15:17.340Z"
   },
   {
    "duration": 70,
    "start_time": "2024-11-11T04:15:17.356Z"
   },
   {
    "duration": 25,
    "start_time": "2024-11-11T04:15:17.428Z"
   },
   {
    "duration": 12,
    "start_time": "2024-11-11T04:15:17.455Z"
   },
   {
    "duration": 7,
    "start_time": "2024-11-11T04:15:17.469Z"
   },
   {
    "duration": 47,
    "start_time": "2024-11-11T04:15:17.477Z"
   },
   {
    "duration": 2,
    "start_time": "2024-11-11T04:15:17.527Z"
   },
   {
    "duration": 3,
    "start_time": "2024-11-11T04:15:17.531Z"
   },
   {
    "duration": 4,
    "start_time": "2024-11-11T04:15:17.535Z"
   },
   {
    "duration": 82,
    "start_time": "2024-11-11T04:15:17.543Z"
   },
   {
    "duration": 61,
    "start_time": "2024-11-11T04:15:17.627Z"
   },
   {
    "duration": 983,
    "start_time": "2024-11-11T04:15:17.689Z"
   },
   {
    "duration": 922,
    "start_time": "2024-11-11T04:15:18.674Z"
   },
   {
    "duration": 2,
    "start_time": "2024-11-11T04:15:19.598Z"
   },
   {
    "duration": 222,
    "start_time": "2024-11-11T04:15:19.611Z"
   },
   {
    "duration": 6,
    "start_time": "2024-11-11T04:15:19.835Z"
   },
   {
    "duration": 137,
    "start_time": "2024-11-11T04:15:19.843Z"
   },
   {
    "duration": 118,
    "start_time": "2024-11-11T04:15:19.982Z"
   },
   {
    "duration": 47,
    "start_time": "2024-11-11T04:15:20.102Z"
   },
   {
    "duration": 13,
    "start_time": "2024-11-11T04:15:20.151Z"
   },
   {
    "duration": 204,
    "start_time": "2024-11-11T04:15:20.166Z"
   },
   {
    "duration": 761,
    "start_time": "2024-11-11T04:15:20.372Z"
   },
   {
    "duration": 198,
    "start_time": "2024-11-11T04:15:21.134Z"
   },
   {
    "duration": 7,
    "start_time": "2024-11-11T04:15:21.334Z"
   },
   {
    "duration": 9,
    "start_time": "2024-11-11T04:16:36.709Z"
   },
   {
    "duration": 319,
    "start_time": "2024-11-11T04:17:43.345Z"
   },
   {
    "duration": 367,
    "start_time": "2024-11-11T04:18:24.419Z"
   },
   {
    "duration": 457,
    "start_time": "2024-11-11T04:20:05.804Z"
   },
   {
    "duration": 1069,
    "start_time": "2024-11-11T04:20:06.264Z"
   },
   {
    "duration": 17,
    "start_time": "2024-11-11T04:20:07.335Z"
   },
   {
    "duration": 13,
    "start_time": "2024-11-11T04:20:07.354Z"
   },
   {
    "duration": 10,
    "start_time": "2024-11-11T04:20:07.370Z"
   },
   {
    "duration": 31,
    "start_time": "2024-11-11T04:20:07.382Z"
   },
   {
    "duration": 27,
    "start_time": "2024-11-11T04:20:07.415Z"
   },
   {
    "duration": 107,
    "start_time": "2024-11-11T04:20:07.444Z"
   },
   {
    "duration": 89,
    "start_time": "2024-11-11T04:20:07.553Z"
   },
   {
    "duration": 51,
    "start_time": "2024-11-11T04:20:07.643Z"
   },
   {
    "duration": 210,
    "start_time": "2024-11-11T04:20:07.696Z"
   },
   {
    "duration": 86,
    "start_time": "2024-11-11T04:20:07.908Z"
   },
   {
    "duration": 25,
    "start_time": "2024-11-11T04:20:07.996Z"
   },
   {
    "duration": 11,
    "start_time": "2024-11-11T04:20:08.026Z"
   },
   {
    "duration": 29,
    "start_time": "2024-11-11T04:20:08.039Z"
   },
   {
    "duration": 13,
    "start_time": "2024-11-11T04:20:08.070Z"
   },
   {
    "duration": 3,
    "start_time": "2024-11-11T04:20:08.085Z"
   },
   {
    "duration": 26,
    "start_time": "2024-11-11T04:20:08.090Z"
   },
   {
    "duration": 4,
    "start_time": "2024-11-11T04:20:08.117Z"
   },
   {
    "duration": 5,
    "start_time": "2024-11-11T04:20:08.123Z"
   },
   {
    "duration": 786,
    "start_time": "2024-11-11T04:20:08.130Z"
   },
   {
    "duration": 799,
    "start_time": "2024-11-11T04:20:08.918Z"
   },
   {
    "duration": 24,
    "start_time": "2024-11-11T04:20:09.718Z"
   },
   {
    "duration": 13,
    "start_time": "2024-11-11T04:20:09.745Z"
   },
   {
    "duration": 10,
    "start_time": "2024-11-11T04:20:09.759Z"
   },
   {
    "duration": 8,
    "start_time": "2024-11-11T04:20:09.770Z"
   },
   {
    "duration": 37,
    "start_time": "2024-11-11T04:20:09.780Z"
   },
   {
    "duration": 18,
    "start_time": "2024-11-11T04:20:09.819Z"
   },
   {
    "duration": 46,
    "start_time": "2024-11-11T04:20:09.839Z"
   },
   {
    "duration": 59,
    "start_time": "2024-11-11T04:20:09.887Z"
   },
   {
    "duration": 12,
    "start_time": "2024-11-11T04:20:09.948Z"
   },
   {
    "duration": 13,
    "start_time": "2024-11-11T04:20:09.964Z"
   },
   {
    "duration": 78,
    "start_time": "2024-11-11T04:20:09.978Z"
   },
   {
    "duration": 24,
    "start_time": "2024-11-11T04:20:10.058Z"
   },
   {
    "duration": 31,
    "start_time": "2024-11-11T04:20:10.084Z"
   },
   {
    "duration": 5,
    "start_time": "2024-11-11T04:20:10.116Z"
   },
   {
    "duration": 15,
    "start_time": "2024-11-11T04:20:10.123Z"
   },
   {
    "duration": 2,
    "start_time": "2024-11-11T04:20:10.141Z"
   },
   {
    "duration": 3,
    "start_time": "2024-11-11T04:20:10.144Z"
   },
   {
    "duration": 3,
    "start_time": "2024-11-11T04:20:10.148Z"
   },
   {
    "duration": 90,
    "start_time": "2024-11-11T04:20:10.156Z"
   },
   {
    "duration": 74,
    "start_time": "2024-11-11T04:20:10.247Z"
   },
   {
    "duration": 977,
    "start_time": "2024-11-11T04:20:10.323Z"
   },
   {
    "duration": 925,
    "start_time": "2024-11-11T04:20:11.302Z"
   },
   {
    "duration": 2,
    "start_time": "2024-11-11T04:20:12.229Z"
   },
   {
    "duration": 234,
    "start_time": "2024-11-11T04:20:12.234Z"
   },
   {
    "duration": 5,
    "start_time": "2024-11-11T04:20:12.471Z"
   },
   {
    "duration": 129,
    "start_time": "2024-11-11T04:20:12.478Z"
   },
   {
    "duration": 114,
    "start_time": "2024-11-11T04:20:12.608Z"
   },
   {
    "duration": 47,
    "start_time": "2024-11-11T04:20:12.724Z"
   },
   {
    "duration": 13,
    "start_time": "2024-11-11T04:20:12.773Z"
   },
   {
    "duration": 217,
    "start_time": "2024-11-11T04:20:12.788Z"
   },
   {
    "duration": 733,
    "start_time": "2024-11-11T04:20:13.011Z"
   },
   {
    "duration": 189,
    "start_time": "2024-11-11T04:20:13.746Z"
   },
   {
    "duration": 6,
    "start_time": "2024-11-11T04:20:13.937Z"
   },
   {
    "duration": 297,
    "start_time": "2024-11-11T04:21:14.488Z"
   },
   {
    "duration": 305,
    "start_time": "2024-11-11T04:21:25.194Z"
   },
   {
    "duration": 2,
    "start_time": "2024-11-11T04:24:41.240Z"
   },
   {
    "duration": 3,
    "start_time": "2024-11-11T04:24:46.705Z"
   },
   {
    "duration": 510,
    "start_time": "2024-11-11T04:26:33.282Z"
   },
   {
    "duration": 3,
    "start_time": "2024-11-11T04:27:13.454Z"
   },
   {
    "duration": 23,
    "start_time": "2024-11-11T04:36:15.799Z"
   },
   {
    "duration": 6,
    "start_time": "2024-11-11T04:40:39.621Z"
   },
   {
    "duration": 7,
    "start_time": "2024-11-11T04:40:50.376Z"
   },
   {
    "duration": 407,
    "start_time": "2024-11-11T04:41:01.793Z"
   },
   {
    "duration": 916,
    "start_time": "2024-11-11T04:41:02.203Z"
   },
   {
    "duration": 18,
    "start_time": "2024-11-11T04:41:03.121Z"
   },
   {
    "duration": 14,
    "start_time": "2024-11-11T04:41:03.141Z"
   },
   {
    "duration": 10,
    "start_time": "2024-11-11T04:41:03.158Z"
   },
   {
    "duration": 11,
    "start_time": "2024-11-11T04:41:03.170Z"
   },
   {
    "duration": 54,
    "start_time": "2024-11-11T04:41:03.182Z"
   },
   {
    "duration": 103,
    "start_time": "2024-11-11T04:41:03.237Z"
   },
   {
    "duration": 95,
    "start_time": "2024-11-11T04:41:03.342Z"
   },
   {
    "duration": 46,
    "start_time": "2024-11-11T04:41:03.439Z"
   },
   {
    "duration": 206,
    "start_time": "2024-11-11T04:41:03.487Z"
   },
   {
    "duration": 89,
    "start_time": "2024-11-11T04:41:03.695Z"
   },
   {
    "duration": 12,
    "start_time": "2024-11-11T04:41:03.786Z"
   },
   {
    "duration": 5,
    "start_time": "2024-11-11T04:41:03.811Z"
   },
   {
    "duration": 28,
    "start_time": "2024-11-11T04:41:03.818Z"
   },
   {
    "duration": 14,
    "start_time": "2024-11-11T04:41:03.848Z"
   },
   {
    "duration": 5,
    "start_time": "2024-11-11T04:41:03.863Z"
   },
   {
    "duration": 5,
    "start_time": "2024-11-11T04:41:03.869Z"
   },
   {
    "duration": 37,
    "start_time": "2024-11-11T04:41:03.876Z"
   },
   {
    "duration": 6,
    "start_time": "2024-11-11T04:41:03.914Z"
   },
   {
    "duration": 770,
    "start_time": "2024-11-11T04:41:03.922Z"
   },
   {
    "duration": 798,
    "start_time": "2024-11-11T04:41:04.694Z"
   },
   {
    "duration": 31,
    "start_time": "2024-11-11T04:41:05.494Z"
   },
   {
    "duration": 9,
    "start_time": "2024-11-11T04:41:05.526Z"
   },
   {
    "duration": 8,
    "start_time": "2024-11-11T04:41:05.537Z"
   },
   {
    "duration": 7,
    "start_time": "2024-11-11T04:41:05.546Z"
   },
   {
    "duration": 9,
    "start_time": "2024-11-11T04:41:05.554Z"
   },
   {
    "duration": 49,
    "start_time": "2024-11-11T04:41:05.564Z"
   },
   {
    "duration": 43,
    "start_time": "2024-11-11T04:41:05.615Z"
   },
   {
    "duration": 36,
    "start_time": "2024-11-11T04:41:05.660Z"
   },
   {
    "duration": 8,
    "start_time": "2024-11-11T04:41:05.712Z"
   },
   {
    "duration": 10,
    "start_time": "2024-11-11T04:41:05.722Z"
   },
   {
    "duration": 78,
    "start_time": "2024-11-11T04:41:05.734Z"
   },
   {
    "duration": 25,
    "start_time": "2024-11-11T04:41:05.813Z"
   },
   {
    "duration": 12,
    "start_time": "2024-11-11T04:41:05.840Z"
   },
   {
    "duration": 5,
    "start_time": "2024-11-11T04:41:05.854Z"
   },
   {
    "duration": 52,
    "start_time": "2024-11-11T04:41:05.860Z"
   },
   {
    "duration": 2,
    "start_time": "2024-11-11T04:41:05.914Z"
   },
   {
    "duration": 3,
    "start_time": "2024-11-11T04:41:05.918Z"
   },
   {
    "duration": 3,
    "start_time": "2024-11-11T04:41:05.922Z"
   },
   {
    "duration": 56,
    "start_time": "2024-11-11T04:41:05.930Z"
   },
   {
    "duration": 68,
    "start_time": "2024-11-11T04:41:06.012Z"
   },
   {
    "duration": 982,
    "start_time": "2024-11-11T04:41:06.082Z"
   },
   {
    "duration": 935,
    "start_time": "2024-11-11T04:41:07.066Z"
   },
   {
    "duration": 9,
    "start_time": "2024-11-11T04:41:08.004Z"
   },
   {
    "duration": 241,
    "start_time": "2024-11-11T04:41:08.015Z"
   },
   {
    "duration": 6,
    "start_time": "2024-11-11T04:41:08.258Z"
   },
   {
    "duration": 136,
    "start_time": "2024-11-11T04:41:08.265Z"
   },
   {
    "duration": 114,
    "start_time": "2024-11-11T04:41:08.402Z"
   },
   {
    "duration": 51,
    "start_time": "2024-11-11T04:41:08.517Z"
   },
   {
    "duration": 13,
    "start_time": "2024-11-11T04:41:08.569Z"
   },
   {
    "duration": 212,
    "start_time": "2024-11-11T04:41:08.584Z"
   },
   {
    "duration": 786,
    "start_time": "2024-11-11T04:41:08.797Z"
   },
   {
    "duration": 194,
    "start_time": "2024-11-11T04:41:09.585Z"
   },
   {
    "duration": 6,
    "start_time": "2024-11-11T04:41:09.781Z"
   },
   {
    "duration": 4,
    "start_time": "2024-11-11T04:45:03.318Z"
   },
   {
    "duration": 3,
    "start_time": "2024-11-11T04:45:17.188Z"
   },
   {
    "duration": 247,
    "start_time": "2024-11-11T04:46:05.347Z"
   },
   {
    "duration": 16,
    "start_time": "2024-11-11T04:46:19.140Z"
   },
   {
    "duration": 23,
    "start_time": "2024-11-11T04:46:25.538Z"
   },
   {
    "duration": 4,
    "start_time": "2024-11-11T04:46:50.277Z"
   },
   {
    "duration": 4,
    "start_time": "2024-11-11T04:47:02.915Z"
   },
   {
    "duration": 92,
    "start_time": "2024-11-11T04:47:05.752Z"
   },
   {
    "duration": 18,
    "start_time": "2024-11-11T04:47:11.902Z"
   },
   {
    "duration": 261,
    "start_time": "2024-11-11T04:47:34.136Z"
   },
   {
    "duration": 47,
    "start_time": "2024-11-11T04:48:09.967Z"
   },
   {
    "duration": 38,
    "start_time": "2024-11-11T04:48:18.350Z"
   },
   {
    "duration": 2,
    "start_time": "2024-11-11T04:48:25.915Z"
   },
   {
    "duration": 18,
    "start_time": "2024-11-11T04:48:56.827Z"
   },
   {
    "duration": 17,
    "start_time": "2024-11-11T04:49:09.342Z"
   },
   {
    "duration": 18,
    "start_time": "2024-11-11T04:49:30.297Z"
   },
   {
    "duration": 19,
    "start_time": "2024-11-11T04:49:39.113Z"
   },
   {
    "duration": 75,
    "start_time": "2024-11-11T04:49:55.730Z"
   },
   {
    "duration": 18,
    "start_time": "2024-11-11T04:50:39.573Z"
   },
   {
    "duration": 18,
    "start_time": "2024-11-11T04:50:56.032Z"
   },
   {
    "duration": 4,
    "start_time": "2024-11-11T04:51:00.092Z"
   },
   {
    "duration": 18,
    "start_time": "2024-11-11T04:51:13.389Z"
   },
   {
    "duration": 2,
    "start_time": "2024-11-11T04:51:37.479Z"
   },
   {
    "duration": 19,
    "start_time": "2024-11-11T04:51:45.582Z"
   },
   {
    "duration": 428,
    "start_time": "2024-11-11T04:51:51.070Z"
   },
   {
    "duration": 898,
    "start_time": "2024-11-11T04:51:51.500Z"
   },
   {
    "duration": 20,
    "start_time": "2024-11-11T04:51:52.400Z"
   },
   {
    "duration": 13,
    "start_time": "2024-11-11T04:51:52.423Z"
   },
   {
    "duration": 11,
    "start_time": "2024-11-11T04:51:52.437Z"
   },
   {
    "duration": 10,
    "start_time": "2024-11-11T04:51:52.449Z"
   },
   {
    "duration": 55,
    "start_time": "2024-11-11T04:51:52.461Z"
   },
   {
    "duration": 95,
    "start_time": "2024-11-11T04:51:52.518Z"
   },
   {
    "duration": 86,
    "start_time": "2024-11-11T04:51:52.615Z"
   },
   {
    "duration": 56,
    "start_time": "2024-11-11T04:51:52.713Z"
   },
   {
    "duration": 204,
    "start_time": "2024-11-11T04:51:52.771Z"
   },
   {
    "duration": 93,
    "start_time": "2024-11-11T04:51:52.977Z"
   },
   {
    "duration": 11,
    "start_time": "2024-11-11T04:51:53.072Z"
   },
   {
    "duration": 5,
    "start_time": "2024-11-11T04:51:53.086Z"
   },
   {
    "duration": 44,
    "start_time": "2024-11-11T04:51:53.092Z"
   },
   {
    "duration": 13,
    "start_time": "2024-11-11T04:51:53.138Z"
   },
   {
    "duration": 3,
    "start_time": "2024-11-11T04:51:53.152Z"
   },
   {
    "duration": 6,
    "start_time": "2024-11-11T04:51:53.157Z"
   },
   {
    "duration": 4,
    "start_time": "2024-11-11T04:51:53.164Z"
   },
   {
    "duration": 6,
    "start_time": "2024-11-11T04:51:53.169Z"
   },
   {
    "duration": 833,
    "start_time": "2024-11-11T04:51:53.176Z"
   },
   {
    "duration": 787,
    "start_time": "2024-11-11T04:51:54.012Z"
   },
   {
    "duration": 29,
    "start_time": "2024-11-11T04:51:54.811Z"
   },
   {
    "duration": 8,
    "start_time": "2024-11-11T04:51:54.842Z"
   },
   {
    "duration": 9,
    "start_time": "2024-11-11T04:51:54.851Z"
   },
   {
    "duration": 6,
    "start_time": "2024-11-11T04:51:54.862Z"
   },
   {
    "duration": 9,
    "start_time": "2024-11-11T04:51:54.870Z"
   },
   {
    "duration": 22,
    "start_time": "2024-11-11T04:51:54.913Z"
   },
   {
    "duration": 46,
    "start_time": "2024-11-11T04:51:54.937Z"
   },
   {
    "duration": 55,
    "start_time": "2024-11-11T04:51:54.985Z"
   },
   {
    "duration": 8,
    "start_time": "2024-11-11T04:51:55.041Z"
   },
   {
    "duration": 11,
    "start_time": "2024-11-11T04:51:55.050Z"
   },
   {
    "duration": 84,
    "start_time": "2024-11-11T04:51:55.062Z"
   },
   {
    "duration": 24,
    "start_time": "2024-11-11T04:51:55.148Z"
   },
   {
    "duration": 12,
    "start_time": "2024-11-11T04:51:55.174Z"
   },
   {
    "duration": 24,
    "start_time": "2024-11-11T04:51:55.188Z"
   },
   {
    "duration": 26,
    "start_time": "2024-11-11T04:51:55.215Z"
   },
   {
    "duration": 3,
    "start_time": "2024-11-11T04:51:55.242Z"
   },
   {
    "duration": 5,
    "start_time": "2024-11-11T04:51:55.247Z"
   },
   {
    "duration": 2,
    "start_time": "2024-11-11T04:51:55.254Z"
   },
   {
    "duration": 82,
    "start_time": "2024-11-11T04:51:55.257Z"
   },
   {
    "duration": 75,
    "start_time": "2024-11-11T04:51:55.341Z"
   },
   {
    "duration": 983,
    "start_time": "2024-11-11T04:51:55.418Z"
   },
   {
    "duration": 935,
    "start_time": "2024-11-11T04:51:56.402Z"
   },
   {
    "duration": 3,
    "start_time": "2024-11-11T04:51:57.339Z"
   },
   {
    "duration": 250,
    "start_time": "2024-11-11T04:51:57.343Z"
   },
   {
    "duration": 7,
    "start_time": "2024-11-11T04:51:57.594Z"
   },
   {
    "duration": 132,
    "start_time": "2024-11-11T04:51:57.603Z"
   },
   {
    "duration": 114,
    "start_time": "2024-11-11T04:51:57.736Z"
   },
   {
    "duration": 48,
    "start_time": "2024-11-11T04:51:57.852Z"
   },
   {
    "duration": 13,
    "start_time": "2024-11-11T04:51:57.913Z"
   },
   {
    "duration": 211,
    "start_time": "2024-11-11T04:51:57.928Z"
   },
   {
    "duration": 774,
    "start_time": "2024-11-11T04:51:58.141Z"
   },
   {
    "duration": 203,
    "start_time": "2024-11-11T04:51:58.916Z"
   },
   {
    "duration": 6,
    "start_time": "2024-11-11T04:51:59.120Z"
   },
   {
    "duration": 5,
    "start_time": "2024-11-11T04:55:11.095Z"
   },
   {
    "duration": 5,
    "start_time": "2024-11-11T04:55:47.250Z"
   },
   {
    "duration": 5,
    "start_time": "2024-11-11T04:56:13.716Z"
   },
   {
    "duration": 5,
    "start_time": "2024-11-11T04:56:17.714Z"
   },
   {
    "duration": 959,
    "start_time": "2024-11-11T05:09:35.094Z"
   },
   {
    "duration": 926,
    "start_time": "2024-11-11T05:09:48.548Z"
   },
   {
    "duration": 948,
    "start_time": "2024-11-11T05:10:02.112Z"
   },
   {
    "duration": 951,
    "start_time": "2024-11-11T05:10:09.501Z"
   },
   {
    "duration": 7,
    "start_time": "2024-11-11T05:10:20.593Z"
   },
   {
    "duration": 18,
    "start_time": "2024-11-11T05:10:38.279Z"
   },
   {
    "duration": 9,
    "start_time": "2024-11-11T05:10:45.647Z"
   },
   {
    "duration": 3,
    "start_time": "2024-11-11T05:12:32.424Z"
   },
   {
    "duration": 5,
    "start_time": "2024-11-11T05:12:41.970Z"
   },
   {
    "duration": 237,
    "start_time": "2024-11-11T05:13:44.095Z"
   },
   {
    "duration": 422,
    "start_time": "2024-11-11T05:14:58.653Z"
   },
   {
    "duration": 177,
    "start_time": "2024-11-11T05:15:13.681Z"
   },
   {
    "duration": 105,
    "start_time": "2024-11-11T05:15:20.534Z"
   },
   {
    "duration": 2,
    "start_time": "2024-11-11T05:15:39.810Z"
   },
   {
    "duration": 4,
    "start_time": "2024-11-11T05:15:48.656Z"
   },
   {
    "duration": 61,
    "start_time": "2024-11-11T05:17:24.166Z"
   },
   {
    "duration": 57,
    "start_time": "2024-11-11T05:17:31.636Z"
   },
   {
    "duration": 957,
    "start_time": "2024-11-11T05:18:24.946Z"
   },
   {
    "duration": 7,
    "start_time": "2024-11-11T05:19:08.669Z"
   },
   {
    "duration": 47,
    "start_time": "2024-11-11T05:20:52.220Z"
   },
   {
    "duration": 19,
    "start_time": "2024-11-11T05:21:28.705Z"
   },
   {
    "duration": 39,
    "start_time": "2024-11-11T05:21:37.655Z"
   },
   {
    "duration": 28,
    "start_time": "2024-11-11T05:22:01.926Z"
   },
   {
    "duration": 8,
    "start_time": "2024-11-11T05:22:08.112Z"
   },
   {
    "duration": 10,
    "start_time": "2024-11-11T05:22:15.727Z"
   },
   {
    "duration": 28,
    "start_time": "2024-11-11T05:22:59.072Z"
   },
   {
    "duration": 12,
    "start_time": "2024-11-11T05:23:03.680Z"
   },
   {
    "duration": 40,
    "start_time": "2024-11-11T05:24:28.291Z"
   },
   {
    "duration": 126,
    "start_time": "2024-11-11T05:24:34.084Z"
   },
   {
    "duration": 116,
    "start_time": "2024-11-11T05:25:03.280Z"
   },
   {
    "duration": 112,
    "start_time": "2024-11-11T05:25:53.016Z"
   },
   {
    "duration": 41,
    "start_time": "2024-11-11T05:30:41.269Z"
   },
   {
    "duration": 11,
    "start_time": "2024-11-11T05:30:52.834Z"
   },
   {
    "duration": 40,
    "start_time": "2024-11-11T05:31:19.553Z"
   },
   {
    "duration": 29,
    "start_time": "2024-11-11T05:31:39.612Z"
   },
   {
    "duration": 28,
    "start_time": "2024-11-11T05:32:01.937Z"
   },
   {
    "duration": 185,
    "start_time": "2024-11-11T05:32:23.869Z"
   },
   {
    "duration": 173,
    "start_time": "2024-11-11T05:33:39.693Z"
   },
   {
    "duration": 189,
    "start_time": "2024-11-11T05:34:41.228Z"
   },
   {
    "duration": 256,
    "start_time": "2024-11-11T05:37:34.353Z"
   },
   {
    "duration": 9,
    "start_time": "2024-11-11T05:38:07.663Z"
   },
   {
    "duration": 175,
    "start_time": "2024-11-11T05:38:39.830Z"
   },
   {
    "duration": 169,
    "start_time": "2024-11-11T05:38:47.846Z"
   },
   {
    "duration": 62,
    "start_time": "2024-11-11T05:39:12.223Z"
   },
   {
    "duration": 172,
    "start_time": "2024-11-11T05:40:03.808Z"
   },
   {
    "duration": 183,
    "start_time": "2024-11-11T05:40:34.535Z"
   },
   {
    "duration": 4,
    "start_time": "2024-11-11T05:43:42.365Z"
   },
   {
    "duration": 18,
    "start_time": "2024-11-11T05:43:52.389Z"
   },
   {
    "duration": 39,
    "start_time": "2024-11-11T05:44:51.396Z"
   },
   {
    "duration": 49,
    "start_time": "2024-11-11T05:45:33.219Z"
   },
   {
    "duration": 46,
    "start_time": "2024-11-11T05:45:38.939Z"
   },
   {
    "duration": 39,
    "start_time": "2024-11-11T05:45:46.180Z"
   },
   {
    "duration": 42,
    "start_time": "2024-11-11T05:45:59.652Z"
   },
   {
    "duration": 426,
    "start_time": "2024-11-11T05:49:01.594Z"
   },
   {
    "duration": 920,
    "start_time": "2024-11-11T05:49:02.022Z"
   },
   {
    "duration": 17,
    "start_time": "2024-11-11T05:49:02.944Z"
   },
   {
    "duration": 13,
    "start_time": "2024-11-11T05:49:02.964Z"
   },
   {
    "duration": 10,
    "start_time": "2024-11-11T05:49:02.978Z"
   },
   {
    "duration": 31,
    "start_time": "2024-11-11T05:49:02.990Z"
   },
   {
    "duration": 26,
    "start_time": "2024-11-11T05:49:03.023Z"
   },
   {
    "duration": 113,
    "start_time": "2024-11-11T05:49:03.050Z"
   },
   {
    "duration": 94,
    "start_time": "2024-11-11T05:49:03.165Z"
   },
   {
    "duration": 54,
    "start_time": "2024-11-11T05:49:03.263Z"
   },
   {
    "duration": 189,
    "start_time": "2024-11-11T05:49:03.318Z"
   },
   {
    "duration": 89,
    "start_time": "2024-11-11T05:49:03.509Z"
   },
   {
    "duration": 21,
    "start_time": "2024-11-11T05:49:03.600Z"
   },
   {
    "duration": 6,
    "start_time": "2024-11-11T05:49:03.623Z"
   },
   {
    "duration": 30,
    "start_time": "2024-11-11T05:49:03.630Z"
   },
   {
    "duration": 13,
    "start_time": "2024-11-11T05:49:03.661Z"
   },
   {
    "duration": 4,
    "start_time": "2024-11-11T05:49:03.675Z"
   },
   {
    "duration": 6,
    "start_time": "2024-11-11T05:49:03.711Z"
   },
   {
    "duration": 4,
    "start_time": "2024-11-11T05:49:03.718Z"
   },
   {
    "duration": 6,
    "start_time": "2024-11-11T05:49:03.724Z"
   },
   {
    "duration": 789,
    "start_time": "2024-11-11T05:49:03.731Z"
   },
   {
    "duration": 830,
    "start_time": "2024-11-11T05:49:04.521Z"
   },
   {
    "duration": 23,
    "start_time": "2024-11-11T05:49:05.353Z"
   },
   {
    "duration": 9,
    "start_time": "2024-11-11T05:49:05.378Z"
   },
   {
    "duration": 29,
    "start_time": "2024-11-11T05:49:05.389Z"
   },
   {
    "duration": 6,
    "start_time": "2024-11-11T05:49:05.420Z"
   },
   {
    "duration": 9,
    "start_time": "2024-11-11T05:49:05.429Z"
   },
   {
    "duration": 17,
    "start_time": "2024-11-11T05:49:05.443Z"
   },
   {
    "duration": 69,
    "start_time": "2024-11-11T05:49:05.462Z"
   },
   {
    "duration": 37,
    "start_time": "2024-11-11T05:49:05.533Z"
   },
   {
    "duration": 7,
    "start_time": "2024-11-11T05:49:05.572Z"
   },
   {
    "duration": 35,
    "start_time": "2024-11-11T05:49:05.581Z"
   },
   {
    "duration": 57,
    "start_time": "2024-11-11T05:49:05.618Z"
   },
   {
    "duration": 36,
    "start_time": "2024-11-11T05:49:05.678Z"
   },
   {
    "duration": 12,
    "start_time": "2024-11-11T05:49:05.716Z"
   },
   {
    "duration": 4,
    "start_time": "2024-11-11T05:49:05.731Z"
   },
   {
    "duration": 25,
    "start_time": "2024-11-11T05:49:05.736Z"
   },
   {
    "duration": 7,
    "start_time": "2024-11-11T05:49:05.762Z"
   },
   {
    "duration": 5,
    "start_time": "2024-11-11T05:49:05.770Z"
   },
   {
    "duration": 85,
    "start_time": "2024-11-11T05:49:05.776Z"
   },
   {
    "duration": 215,
    "start_time": "2024-11-11T05:49:05.862Z"
   },
   {
    "duration": 0,
    "start_time": "2024-11-11T05:49:06.079Z"
   },
   {
    "duration": 0,
    "start_time": "2024-11-11T05:49:06.080Z"
   },
   {
    "duration": 0,
    "start_time": "2024-11-11T05:49:06.082Z"
   },
   {
    "duration": 0,
    "start_time": "2024-11-11T05:49:06.083Z"
   },
   {
    "duration": 0,
    "start_time": "2024-11-11T05:49:06.085Z"
   },
   {
    "duration": 0,
    "start_time": "2024-11-11T05:49:06.086Z"
   },
   {
    "duration": 0,
    "start_time": "2024-11-11T05:49:06.087Z"
   },
   {
    "duration": 0,
    "start_time": "2024-11-11T05:49:06.088Z"
   },
   {
    "duration": 0,
    "start_time": "2024-11-11T05:49:06.089Z"
   },
   {
    "duration": 0,
    "start_time": "2024-11-11T05:49:06.090Z"
   },
   {
    "duration": 0,
    "start_time": "2024-11-11T05:49:06.111Z"
   },
   {
    "duration": 0,
    "start_time": "2024-11-11T05:49:06.113Z"
   },
   {
    "duration": 0,
    "start_time": "2024-11-11T05:49:06.114Z"
   },
   {
    "duration": 24,
    "start_time": "2024-11-11T05:52:51.311Z"
   },
   {
    "duration": 59,
    "start_time": "2024-11-11T05:53:16.241Z"
   },
   {
    "duration": 181,
    "start_time": "2024-11-11T05:53:37.452Z"
   },
   {
    "duration": 111,
    "start_time": "2024-11-11T05:53:41.782Z"
   },
   {
    "duration": 40,
    "start_time": "2024-11-11T05:53:47.542Z"
   },
   {
    "duration": 459,
    "start_time": "2024-11-11T05:56:37.131Z"
   },
   {
    "duration": 905,
    "start_time": "2024-11-11T05:56:37.592Z"
   },
   {
    "duration": 22,
    "start_time": "2024-11-11T05:56:38.499Z"
   },
   {
    "duration": 13,
    "start_time": "2024-11-11T05:56:38.523Z"
   },
   {
    "duration": 10,
    "start_time": "2024-11-11T05:56:38.538Z"
   },
   {
    "duration": 9,
    "start_time": "2024-11-11T05:56:38.550Z"
   },
   {
    "duration": 55,
    "start_time": "2024-11-11T05:56:38.561Z"
   },
   {
    "duration": 92,
    "start_time": "2024-11-11T05:56:38.619Z"
   },
   {
    "duration": 85,
    "start_time": "2024-11-11T05:56:38.714Z"
   },
   {
    "duration": 47,
    "start_time": "2024-11-11T05:56:38.811Z"
   },
   {
    "duration": 196,
    "start_time": "2024-11-11T05:56:38.860Z"
   },
   {
    "duration": 96,
    "start_time": "2024-11-11T05:56:39.057Z"
   },
   {
    "duration": 12,
    "start_time": "2024-11-11T05:56:39.154Z"
   },
   {
    "duration": 5,
    "start_time": "2024-11-11T05:56:39.167Z"
   },
   {
    "duration": 50,
    "start_time": "2024-11-11T05:56:39.174Z"
   },
   {
    "duration": 14,
    "start_time": "2024-11-11T05:56:39.225Z"
   },
   {
    "duration": 4,
    "start_time": "2024-11-11T05:56:39.240Z"
   },
   {
    "duration": 5,
    "start_time": "2024-11-11T05:56:39.246Z"
   },
   {
    "duration": 4,
    "start_time": "2024-11-11T05:56:39.253Z"
   },
   {
    "duration": 6,
    "start_time": "2024-11-11T05:56:39.258Z"
   },
   {
    "duration": 831,
    "start_time": "2024-11-11T05:56:39.266Z"
   },
   {
    "duration": 801,
    "start_time": "2024-11-11T05:56:40.099Z"
   },
   {
    "duration": 28,
    "start_time": "2024-11-11T05:56:40.902Z"
   },
   {
    "duration": 9,
    "start_time": "2024-11-11T05:56:40.932Z"
   },
   {
    "duration": 8,
    "start_time": "2024-11-11T05:56:40.943Z"
   },
   {
    "duration": 6,
    "start_time": "2024-11-11T05:56:40.953Z"
   },
   {
    "duration": 9,
    "start_time": "2024-11-11T05:56:40.961Z"
   },
   {
    "duration": 48,
    "start_time": "2024-11-11T05:56:40.973Z"
   },
   {
    "duration": 45,
    "start_time": "2024-11-11T05:56:41.023Z"
   },
   {
    "duration": 55,
    "start_time": "2024-11-11T05:56:41.070Z"
   },
   {
    "duration": 8,
    "start_time": "2024-11-11T05:56:41.126Z"
   },
   {
    "duration": 11,
    "start_time": "2024-11-11T05:56:41.136Z"
   },
   {
    "duration": 75,
    "start_time": "2024-11-11T05:56:41.148Z"
   },
   {
    "duration": 24,
    "start_time": "2024-11-11T05:56:41.225Z"
   },
   {
    "duration": 11,
    "start_time": "2024-11-11T05:56:41.251Z"
   },
   {
    "duration": 6,
    "start_time": "2024-11-11T05:56:41.264Z"
   },
   {
    "duration": 55,
    "start_time": "2024-11-11T05:56:41.271Z"
   },
   {
    "duration": 6,
    "start_time": "2024-11-11T05:56:41.328Z"
   },
   {
    "duration": 5,
    "start_time": "2024-11-11T05:56:41.336Z"
   },
   {
    "duration": 77,
    "start_time": "2024-11-11T05:56:41.343Z"
   },
   {
    "duration": 72,
    "start_time": "2024-11-11T05:56:41.422Z"
   },
   {
    "duration": 199,
    "start_time": "2024-11-11T05:56:41.495Z"
   },
   {
    "duration": 120,
    "start_time": "2024-11-11T05:56:41.696Z"
   },
   {
    "duration": 39,
    "start_time": "2024-11-11T05:56:41.819Z"
   },
   {
    "duration": 251,
    "start_time": "2024-11-11T05:56:41.860Z"
   },
   {
    "duration": 6,
    "start_time": "2024-11-11T05:56:42.113Z"
   },
   {
    "duration": 133,
    "start_time": "2024-11-11T05:56:42.120Z"
   },
   {
    "duration": 116,
    "start_time": "2024-11-11T05:56:42.255Z"
   },
   {
    "duration": 60,
    "start_time": "2024-11-11T05:56:42.372Z"
   },
   {
    "duration": 13,
    "start_time": "2024-11-11T05:56:42.434Z"
   },
   {
    "duration": 219,
    "start_time": "2024-11-11T05:56:42.449Z"
   },
   {
    "duration": 719,
    "start_time": "2024-11-11T05:56:42.670Z"
   },
   {
    "duration": 189,
    "start_time": "2024-11-11T05:56:43.391Z"
   },
   {
    "duration": 6,
    "start_time": "2024-11-11T05:56:43.582Z"
   },
   {
    "duration": 314,
    "start_time": "2024-11-11T06:18:15.046Z"
   },
   {
    "duration": 325,
    "start_time": "2024-11-11T06:18:50.289Z"
   },
   {
    "duration": 168,
    "start_time": "2024-11-11T06:19:17.229Z"
   },
   {
    "duration": 437,
    "start_time": "2024-11-11T06:24:35.204Z"
   },
   {
    "duration": 1103,
    "start_time": "2024-11-11T06:24:35.642Z"
   },
   {
    "duration": 18,
    "start_time": "2024-11-11T06:24:36.747Z"
   },
   {
    "duration": 15,
    "start_time": "2024-11-11T06:24:36.768Z"
   },
   {
    "duration": 26,
    "start_time": "2024-11-11T06:24:36.785Z"
   },
   {
    "duration": 12,
    "start_time": "2024-11-11T06:24:36.812Z"
   },
   {
    "duration": 28,
    "start_time": "2024-11-11T06:24:36.826Z"
   },
   {
    "duration": 107,
    "start_time": "2024-11-11T06:24:36.857Z"
   },
   {
    "duration": 93,
    "start_time": "2024-11-11T06:24:36.966Z"
   },
   {
    "duration": 53,
    "start_time": "2024-11-11T06:24:37.064Z"
   },
   {
    "duration": 202,
    "start_time": "2024-11-11T06:24:37.119Z"
   },
   {
    "duration": 97,
    "start_time": "2024-11-11T06:24:37.323Z"
   },
   {
    "duration": 13,
    "start_time": "2024-11-11T06:24:37.421Z"
   },
   {
    "duration": 6,
    "start_time": "2024-11-11T06:24:37.436Z"
   },
   {
    "duration": 38,
    "start_time": "2024-11-11T06:24:37.445Z"
   },
   {
    "duration": 35,
    "start_time": "2024-11-11T06:24:37.485Z"
   },
   {
    "duration": 4,
    "start_time": "2024-11-11T06:24:37.521Z"
   },
   {
    "duration": 6,
    "start_time": "2024-11-11T06:24:37.527Z"
   },
   {
    "duration": 4,
    "start_time": "2024-11-11T06:24:37.534Z"
   },
   {
    "duration": 7,
    "start_time": "2024-11-11T06:24:37.539Z"
   },
   {
    "duration": 835,
    "start_time": "2024-11-11T06:24:37.547Z"
   },
   {
    "duration": 812,
    "start_time": "2024-11-11T06:24:38.383Z"
   },
   {
    "duration": 26,
    "start_time": "2024-11-11T06:24:39.197Z"
   },
   {
    "duration": 9,
    "start_time": "2024-11-11T06:24:39.225Z"
   },
   {
    "duration": 9,
    "start_time": "2024-11-11T06:24:39.236Z"
   },
   {
    "duration": 8,
    "start_time": "2024-11-11T06:24:39.247Z"
   },
   {
    "duration": 9,
    "start_time": "2024-11-11T06:24:39.256Z"
   },
   {
    "duration": 46,
    "start_time": "2024-11-11T06:24:39.269Z"
   },
   {
    "duration": 45,
    "start_time": "2024-11-11T06:24:39.317Z"
   },
   {
    "duration": 54,
    "start_time": "2024-11-11T06:24:39.363Z"
   },
   {
    "duration": 7,
    "start_time": "2024-11-11T06:24:39.419Z"
   },
   {
    "duration": 13,
    "start_time": "2024-11-11T06:24:39.428Z"
   },
   {
    "duration": 110,
    "start_time": "2024-11-11T06:24:39.443Z"
   },
   {
    "duration": 34,
    "start_time": "2024-11-11T06:24:39.557Z"
   },
   {
    "duration": 24,
    "start_time": "2024-11-11T06:24:39.593Z"
   },
   {
    "duration": 4,
    "start_time": "2024-11-11T06:24:39.620Z"
   },
   {
    "duration": 29,
    "start_time": "2024-11-11T06:24:39.625Z"
   },
   {
    "duration": 6,
    "start_time": "2024-11-11T06:24:39.656Z"
   },
   {
    "duration": 5,
    "start_time": "2024-11-11T06:24:39.664Z"
   },
   {
    "duration": 95,
    "start_time": "2024-11-11T06:24:39.670Z"
   },
   {
    "duration": 81,
    "start_time": "2024-11-11T06:24:39.768Z"
   },
   {
    "duration": 203,
    "start_time": "2024-11-11T06:24:39.850Z"
   },
   {
    "duration": 119,
    "start_time": "2024-11-11T06:24:40.055Z"
   },
   {
    "duration": 3,
    "start_time": "2024-11-11T06:24:40.176Z"
   },
   {
    "duration": 0,
    "start_time": "2024-11-11T06:24:40.181Z"
   },
   {
    "duration": 0,
    "start_time": "2024-11-11T06:24:40.183Z"
   },
   {
    "duration": 0,
    "start_time": "2024-11-11T06:24:40.184Z"
   },
   {
    "duration": 0,
    "start_time": "2024-11-11T06:24:40.186Z"
   },
   {
    "duration": 0,
    "start_time": "2024-11-11T06:24:40.187Z"
   },
   {
    "duration": 0,
    "start_time": "2024-11-11T06:24:40.188Z"
   },
   {
    "duration": 0,
    "start_time": "2024-11-11T06:24:40.189Z"
   },
   {
    "duration": 0,
    "start_time": "2024-11-11T06:24:40.212Z"
   },
   {
    "duration": 0,
    "start_time": "2024-11-11T06:24:40.214Z"
   },
   {
    "duration": 0,
    "start_time": "2024-11-11T06:24:40.215Z"
   },
   {
    "duration": 920,
    "start_time": "2024-11-11T06:49:08.476Z"
   },
   {
    "duration": 217,
    "start_time": "2024-11-11T06:49:12.655Z"
   },
   {
    "duration": 5,
    "start_time": "2024-11-11T06:49:15.768Z"
   },
   {
    "duration": 201,
    "start_time": "2024-11-11T06:50:33.824Z"
   },
   {
    "duration": 7,
    "start_time": "2024-11-11T06:50:53.688Z"
   },
   {
    "duration": 127,
    "start_time": "2024-11-11T06:51:05.688Z"
   },
   {
    "duration": 107,
    "start_time": "2024-11-11T06:52:36.597Z"
   },
   {
    "duration": 42,
    "start_time": "2024-11-11T06:52:46.484Z"
   },
   {
    "duration": 15,
    "start_time": "2024-11-11T06:53:47.768Z"
   },
   {
    "duration": 36,
    "start_time": "2024-11-11T06:56:14.765Z"
   },
   {
    "duration": 38,
    "start_time": "2024-11-11T06:56:30.734Z"
   },
   {
    "duration": 39,
    "start_time": "2024-11-11T06:58:34.744Z"
   },
   {
    "duration": 51,
    "start_time": "2024-11-11T06:58:48.173Z"
   },
   {
    "duration": 451,
    "start_time": "2024-11-11T07:01:14.947Z"
   },
   {
    "duration": 948,
    "start_time": "2024-11-11T07:01:15.400Z"
   },
   {
    "duration": 20,
    "start_time": "2024-11-11T07:01:16.350Z"
   },
   {
    "duration": 14,
    "start_time": "2024-11-11T07:01:16.373Z"
   },
   {
    "duration": 24,
    "start_time": "2024-11-11T07:01:16.389Z"
   },
   {
    "duration": 11,
    "start_time": "2024-11-11T07:01:16.415Z"
   },
   {
    "duration": 38,
    "start_time": "2024-11-11T07:01:16.427Z"
   },
   {
    "duration": 124,
    "start_time": "2024-11-11T07:01:16.467Z"
   },
   {
    "duration": 107,
    "start_time": "2024-11-11T07:01:16.593Z"
   },
   {
    "duration": 67,
    "start_time": "2024-11-11T07:01:16.704Z"
   },
   {
    "duration": 210,
    "start_time": "2024-11-11T07:01:16.774Z"
   },
   {
    "duration": 104,
    "start_time": "2024-11-11T07:01:16.986Z"
   },
   {
    "duration": 20,
    "start_time": "2024-11-11T07:01:17.092Z"
   },
   {
    "duration": 6,
    "start_time": "2024-11-11T07:01:17.113Z"
   },
   {
    "duration": 38,
    "start_time": "2024-11-11T07:01:17.121Z"
   },
   {
    "duration": 13,
    "start_time": "2024-11-11T07:01:17.161Z"
   },
   {
    "duration": 7,
    "start_time": "2024-11-11T07:01:17.175Z"
   },
   {
    "duration": 33,
    "start_time": "2024-11-11T07:01:17.183Z"
   },
   {
    "duration": 4,
    "start_time": "2024-11-11T07:01:17.218Z"
   },
   {
    "duration": 14,
    "start_time": "2024-11-11T07:01:17.224Z"
   },
   {
    "duration": 812,
    "start_time": "2024-11-11T07:01:17.240Z"
   },
   {
    "duration": 797,
    "start_time": "2024-11-11T07:01:18.054Z"
   },
   {
    "duration": 23,
    "start_time": "2024-11-11T07:01:18.853Z"
   },
   {
    "duration": 8,
    "start_time": "2024-11-11T07:01:18.878Z"
   },
   {
    "duration": 26,
    "start_time": "2024-11-11T07:01:18.889Z"
   },
   {
    "duration": 10,
    "start_time": "2024-11-11T07:01:18.917Z"
   },
   {
    "duration": 8,
    "start_time": "2024-11-11T07:01:18.929Z"
   },
   {
    "duration": 18,
    "start_time": "2024-11-11T07:01:18.941Z"
   },
   {
    "duration": 81,
    "start_time": "2024-11-11T07:01:18.961Z"
   },
   {
    "duration": 37,
    "start_time": "2024-11-11T07:01:19.045Z"
   },
   {
    "duration": 8,
    "start_time": "2024-11-11T07:01:19.084Z"
   },
   {
    "duration": 27,
    "start_time": "2024-11-11T07:01:19.094Z"
   },
   {
    "duration": 60,
    "start_time": "2024-11-11T07:01:19.123Z"
   },
   {
    "duration": 41,
    "start_time": "2024-11-11T07:01:19.184Z"
   },
   {
    "duration": 12,
    "start_time": "2024-11-11T07:01:19.227Z"
   },
   {
    "duration": 5,
    "start_time": "2024-11-11T07:01:19.242Z"
   },
   {
    "duration": 25,
    "start_time": "2024-11-11T07:01:19.249Z"
   },
   {
    "duration": 6,
    "start_time": "2024-11-11T07:01:19.275Z"
   },
   {
    "duration": 5,
    "start_time": "2024-11-11T07:01:19.311Z"
   },
   {
    "duration": 57,
    "start_time": "2024-11-11T07:01:19.317Z"
   },
   {
    "duration": 94,
    "start_time": "2024-11-11T07:01:19.375Z"
   },
   {
    "duration": 195,
    "start_time": "2024-11-11T07:01:19.471Z"
   },
   {
    "duration": 118,
    "start_time": "2024-11-11T07:01:19.668Z"
   },
   {
    "duration": 49,
    "start_time": "2024-11-11T07:01:19.788Z"
   },
   {
    "duration": 261,
    "start_time": "2024-11-11T07:01:19.839Z"
   },
   {
    "duration": 14,
    "start_time": "2024-11-11T07:01:20.102Z"
   },
   {
    "duration": 127,
    "start_time": "2024-11-11T07:01:20.119Z"
   },
   {
    "duration": 130,
    "start_time": "2024-11-11T07:01:20.248Z"
   },
   {
    "duration": 62,
    "start_time": "2024-11-11T07:01:20.380Z"
   },
   {
    "duration": 15,
    "start_time": "2024-11-11T07:01:20.444Z"
   },
   {
    "duration": 231,
    "start_time": "2024-11-11T07:01:20.461Z"
   },
   {
    "duration": 743,
    "start_time": "2024-11-11T07:01:20.694Z"
   },
   {
    "duration": 183,
    "start_time": "2024-11-11T07:01:21.438Z"
   },
   {
    "duration": 7,
    "start_time": "2024-11-11T07:01:21.623Z"
   },
   {
    "duration": 51,
    "start_time": "2024-11-11T07:01:38.739Z"
   },
   {
    "duration": 0,
    "start_time": "2024-11-11T07:05:15.393Z"
   },
   {
    "duration": 6,
    "start_time": "2024-11-11T07:06:06.321Z"
   },
   {
    "duration": 46,
    "start_time": "2024-11-11T07:06:27.179Z"
   },
   {
    "duration": 5,
    "start_time": "2024-11-11T07:06:54.279Z"
   },
   {
    "duration": 43,
    "start_time": "2024-11-11T07:07:01.719Z"
   },
   {
    "duration": 52,
    "start_time": "2024-11-11T07:07:17.951Z"
   },
   {
    "duration": 4,
    "start_time": "2024-11-11T07:07:22.449Z"
   },
   {
    "duration": 4,
    "start_time": "2024-11-11T07:07:41.849Z"
   },
   {
    "duration": 4,
    "start_time": "2024-11-11T07:07:50.700Z"
   },
   {
    "duration": 7557,
    "start_time": "2024-11-11T07:08:02.816Z"
   },
   {
    "duration": 44,
    "start_time": "2024-11-11T07:08:59.364Z"
   },
   {
    "duration": 41,
    "start_time": "2024-11-11T07:09:12.879Z"
   },
   {
    "duration": 40,
    "start_time": "2024-11-11T07:09:20.830Z"
   },
   {
    "duration": 52,
    "start_time": "2024-11-11T07:09:43.646Z"
   },
   {
    "duration": 354,
    "start_time": "2024-11-11T07:09:55.779Z"
   },
   {
    "duration": 399,
    "start_time": "2024-11-11T07:10:55.178Z"
   },
   {
    "duration": 397,
    "start_time": "2024-11-11T07:11:14.695Z"
   },
   {
    "duration": 360,
    "start_time": "2024-11-11T07:11:28.034Z"
   },
   {
    "duration": 412,
    "start_time": "2024-11-11T07:12:02.870Z"
   },
   {
    "duration": 48,
    "start_time": "2024-11-11T07:12:07.562Z"
   },
   {
    "duration": 46,
    "start_time": "2024-11-11T07:12:26.698Z"
   },
   {
    "duration": 397,
    "start_time": "2024-11-11T07:12:51.841Z"
   },
   {
    "duration": 392,
    "start_time": "2024-11-11T07:14:05.735Z"
   },
   {
    "duration": 170,
    "start_time": "2024-11-11T07:16:40.093Z"
   },
   {
    "duration": 451,
    "start_time": "2024-11-11T07:16:50.063Z"
   },
   {
    "duration": 1076,
    "start_time": "2024-11-11T07:16:50.516Z"
   },
   {
    "duration": 18,
    "start_time": "2024-11-11T07:16:51.594Z"
   },
   {
    "duration": 14,
    "start_time": "2024-11-11T07:16:51.615Z"
   },
   {
    "duration": 10,
    "start_time": "2024-11-11T07:16:51.631Z"
   },
   {
    "duration": 12,
    "start_time": "2024-11-11T07:16:51.643Z"
   },
   {
    "duration": 64,
    "start_time": "2024-11-11T07:16:51.656Z"
   },
   {
    "duration": 99,
    "start_time": "2024-11-11T07:16:51.722Z"
   },
   {
    "duration": 98,
    "start_time": "2024-11-11T07:16:51.823Z"
   },
   {
    "duration": 48,
    "start_time": "2024-11-11T07:16:51.925Z"
   },
   {
    "duration": 211,
    "start_time": "2024-11-11T07:16:51.975Z"
   },
   {
    "duration": 96,
    "start_time": "2024-11-11T07:16:52.188Z"
   },
   {
    "duration": 13,
    "start_time": "2024-11-11T07:16:52.286Z"
   },
   {
    "duration": 14,
    "start_time": "2024-11-11T07:16:52.301Z"
   },
   {
    "duration": 28,
    "start_time": "2024-11-11T07:16:52.316Z"
   },
   {
    "duration": 13,
    "start_time": "2024-11-11T07:16:52.346Z"
   },
   {
    "duration": 4,
    "start_time": "2024-11-11T07:16:52.360Z"
   },
   {
    "duration": 6,
    "start_time": "2024-11-11T07:16:52.365Z"
   },
   {
    "duration": 4,
    "start_time": "2024-11-11T07:16:52.372Z"
   },
   {
    "duration": 39,
    "start_time": "2024-11-11T07:16:52.377Z"
   },
   {
    "duration": 776,
    "start_time": "2024-11-11T07:16:52.417Z"
   },
   {
    "duration": 824,
    "start_time": "2024-11-11T07:16:53.197Z"
   },
   {
    "duration": 23,
    "start_time": "2024-11-11T07:16:54.024Z"
   },
   {
    "duration": 9,
    "start_time": "2024-11-11T07:16:54.049Z"
   },
   {
    "duration": 10,
    "start_time": "2024-11-11T07:16:54.059Z"
   },
   {
    "duration": 10,
    "start_time": "2024-11-11T07:16:54.072Z"
   },
   {
    "duration": 35,
    "start_time": "2024-11-11T07:16:54.085Z"
   },
   {
    "duration": 19,
    "start_time": "2024-11-11T07:16:54.125Z"
   },
   {
    "duration": 71,
    "start_time": "2024-11-11T07:16:54.145Z"
   },
   {
    "duration": 37,
    "start_time": "2024-11-11T07:16:54.219Z"
   },
   {
    "duration": 9,
    "start_time": "2024-11-11T07:16:54.258Z"
   },
   {
    "duration": 11,
    "start_time": "2024-11-11T07:16:54.270Z"
   },
   {
    "duration": 114,
    "start_time": "2024-11-11T07:16:54.284Z"
   },
   {
    "duration": 43,
    "start_time": "2024-11-11T07:16:54.400Z"
   },
   {
    "duration": 15,
    "start_time": "2024-11-11T07:16:54.444Z"
   },
   {
    "duration": 6,
    "start_time": "2024-11-11T07:16:54.462Z"
   },
   {
    "duration": 52,
    "start_time": "2024-11-11T07:16:54.469Z"
   },
   {
    "duration": 6,
    "start_time": "2024-11-11T07:16:54.522Z"
   },
   {
    "duration": 5,
    "start_time": "2024-11-11T07:16:54.530Z"
   },
   {
    "duration": 93,
    "start_time": "2024-11-11T07:16:54.537Z"
   },
   {
    "duration": 92,
    "start_time": "2024-11-11T07:16:54.632Z"
   },
   {
    "duration": 205,
    "start_time": "2024-11-11T07:16:54.726Z"
   },
   {
    "duration": 125,
    "start_time": "2024-11-11T07:16:54.933Z"
   },
   {
    "duration": 410,
    "start_time": "2024-11-11T07:16:55.060Z"
   },
   {
    "duration": 249,
    "start_time": "2024-11-11T07:16:55.473Z"
   },
   {
    "duration": 6,
    "start_time": "2024-11-11T07:16:55.724Z"
   },
   {
    "duration": 128,
    "start_time": "2024-11-11T07:16:55.732Z"
   },
   {
    "duration": 125,
    "start_time": "2024-11-11T07:16:55.862Z"
   },
   {
    "duration": 54,
    "start_time": "2024-11-11T07:16:55.989Z"
   },
   {
    "duration": 12,
    "start_time": "2024-11-11T07:16:56.045Z"
   },
   {
    "duration": 209,
    "start_time": "2024-11-11T07:16:56.059Z"
   },
   {
    "duration": 734,
    "start_time": "2024-11-11T07:16:56.270Z"
   },
   {
    "duration": 182,
    "start_time": "2024-11-11T07:16:57.006Z"
   },
   {
    "duration": 6,
    "start_time": "2024-11-11T07:16:57.190Z"
   },
   {
    "duration": 388,
    "start_time": "2024-11-11T07:18:16.097Z"
   },
   {
    "duration": 387,
    "start_time": "2024-11-11T07:18:52.692Z"
   },
   {
    "duration": 391,
    "start_time": "2024-11-11T07:19:13.577Z"
   },
   {
    "duration": 392,
    "start_time": "2024-11-11T07:19:25.265Z"
   },
   {
    "duration": 438,
    "start_time": "2024-11-11T07:19:44.360Z"
   },
   {
    "duration": 381,
    "start_time": "2024-11-11T07:24:08.857Z"
   },
   {
    "duration": 387,
    "start_time": "2024-11-11T07:24:51.806Z"
   },
   {
    "duration": 422,
    "start_time": "2024-11-11T07:26:04.054Z"
   },
   {
    "duration": 427,
    "start_time": "2024-11-11T07:26:12.349Z"
   },
   {
    "duration": 412,
    "start_time": "2024-11-11T07:26:23.880Z"
   },
   {
    "duration": 401,
    "start_time": "2024-11-11T07:26:31.748Z"
   },
   {
    "duration": 399,
    "start_time": "2024-11-11T07:30:02.254Z"
   },
   {
    "duration": 8,
    "start_time": "2024-11-11T07:35:46.019Z"
   },
   {
    "duration": 8,
    "start_time": "2024-11-11T07:38:37.658Z"
   },
   {
    "duration": 6,
    "start_time": "2024-11-11T07:38:51.358Z"
   },
   {
    "duration": 12,
    "start_time": "2024-11-11T07:38:59.767Z"
   },
   {
    "duration": 7,
    "start_time": "2024-11-11T07:40:23.055Z"
   },
   {
    "duration": 14,
    "start_time": "2024-11-11T07:40:33.909Z"
   },
   {
    "duration": 5843,
    "start_time": "2024-11-11T07:45:01.037Z"
   },
   {
    "duration": 130,
    "start_time": "2024-11-11T07:46:42.224Z"
   },
   {
    "duration": 94,
    "start_time": "2024-11-11T07:47:46.124Z"
   },
   {
    "duration": 15,
    "start_time": "2024-11-11T07:47:55.205Z"
   },
   {
    "duration": 98,
    "start_time": "2024-11-11T07:48:18.456Z"
   },
   {
    "duration": 11,
    "start_time": "2024-11-11T07:48:58.033Z"
   },
   {
    "duration": 7,
    "start_time": "2024-11-11T07:49:12.975Z"
   },
   {
    "duration": 8,
    "start_time": "2024-11-11T07:50:01.831Z"
   },
   {
    "duration": 11,
    "start_time": "2024-11-11T07:50:27.500Z"
   },
   {
    "duration": 17,
    "start_time": "2024-11-11T07:50:57.777Z"
   },
   {
    "duration": 156,
    "start_time": "2024-11-11T07:55:35.234Z"
   },
   {
    "duration": 36,
    "start_time": "2024-11-11T07:56:00.019Z"
   },
   {
    "duration": 15,
    "start_time": "2024-11-11T07:57:15.885Z"
   },
   {
    "duration": 11,
    "start_time": "2024-11-11T07:59:29.298Z"
   },
   {
    "duration": 8,
    "start_time": "2024-11-11T08:00:43.783Z"
   },
   {
    "duration": 9,
    "start_time": "2024-11-11T08:00:46.341Z"
   },
   {
    "duration": 6,
    "start_time": "2024-11-11T08:03:58.234Z"
   },
   {
    "duration": 447,
    "start_time": "2024-11-11T08:07:05.834Z"
   },
   {
    "duration": 1043,
    "start_time": "2024-11-11T08:07:06.283Z"
   },
   {
    "duration": 18,
    "start_time": "2024-11-11T08:07:07.327Z"
   },
   {
    "duration": 12,
    "start_time": "2024-11-11T08:07:07.348Z"
   },
   {
    "duration": 11,
    "start_time": "2024-11-11T08:07:07.361Z"
   },
   {
    "duration": 10,
    "start_time": "2024-11-11T08:07:07.374Z"
   },
   {
    "duration": 48,
    "start_time": "2024-11-11T08:07:07.386Z"
   },
   {
    "duration": 98,
    "start_time": "2024-11-11T08:07:07.436Z"
   },
   {
    "duration": 96,
    "start_time": "2024-11-11T08:07:07.536Z"
   },
   {
    "duration": 45,
    "start_time": "2024-11-11T08:07:07.635Z"
   },
   {
    "duration": 197,
    "start_time": "2024-11-11T08:07:07.682Z"
   },
   {
    "duration": 97,
    "start_time": "2024-11-11T08:07:07.881Z"
   },
   {
    "duration": 12,
    "start_time": "2024-11-11T08:07:07.980Z"
   },
   {
    "duration": 5,
    "start_time": "2024-11-11T08:07:07.994Z"
   },
   {
    "duration": 36,
    "start_time": "2024-11-11T08:07:08.012Z"
   },
   {
    "duration": 15,
    "start_time": "2024-11-11T08:07:08.050Z"
   },
   {
    "duration": 3,
    "start_time": "2024-11-11T08:07:08.067Z"
   },
   {
    "duration": 5,
    "start_time": "2024-11-11T08:07:08.072Z"
   },
   {
    "duration": 35,
    "start_time": "2024-11-11T08:07:08.079Z"
   },
   {
    "duration": 6,
    "start_time": "2024-11-11T08:07:08.115Z"
   },
   {
    "duration": 794,
    "start_time": "2024-11-11T08:07:08.123Z"
   },
   {
    "duration": 788,
    "start_time": "2024-11-11T08:07:08.919Z"
   },
   {
    "duration": 22,
    "start_time": "2024-11-11T08:07:09.713Z"
   },
   {
    "duration": 9,
    "start_time": "2024-11-11T08:07:09.737Z"
   },
   {
    "duration": 10,
    "start_time": "2024-11-11T08:07:09.747Z"
   },
   {
    "duration": 7,
    "start_time": "2024-11-11T08:07:09.759Z"
   },
   {
    "duration": 8,
    "start_time": "2024-11-11T08:07:09.768Z"
   },
   {
    "duration": 41,
    "start_time": "2024-11-11T08:07:09.781Z"
   },
   {
    "duration": 45,
    "start_time": "2024-11-11T08:07:09.823Z"
   },
   {
    "duration": 59,
    "start_time": "2024-11-11T08:07:09.869Z"
   },
   {
    "duration": 7,
    "start_time": "2024-11-11T08:07:09.929Z"
   },
   {
    "duration": 11,
    "start_time": "2024-11-11T08:07:09.938Z"
   },
   {
    "duration": 80,
    "start_time": "2024-11-11T08:07:09.951Z"
   },
   {
    "duration": 23,
    "start_time": "2024-11-11T08:07:10.033Z"
   },
   {
    "duration": 12,
    "start_time": "2024-11-11T08:07:10.057Z"
   },
   {
    "duration": 5,
    "start_time": "2024-11-11T08:07:10.070Z"
   },
   {
    "duration": 55,
    "start_time": "2024-11-11T08:07:10.076Z"
   },
   {
    "duration": 5,
    "start_time": "2024-11-11T08:07:10.133Z"
   },
   {
    "duration": 4,
    "start_time": "2024-11-11T08:07:10.140Z"
   },
   {
    "duration": 76,
    "start_time": "2024-11-11T08:07:10.146Z"
   },
   {
    "duration": 73,
    "start_time": "2024-11-11T08:07:10.224Z"
   },
   {
    "duration": 190,
    "start_time": "2024-11-11T08:07:10.311Z"
   },
   {
    "duration": 121,
    "start_time": "2024-11-11T08:07:10.503Z"
   },
   {
    "duration": 440,
    "start_time": "2024-11-11T08:07:10.625Z"
   },
   {
    "duration": 8,
    "start_time": "2024-11-11T08:07:11.067Z"
   },
   {
    "duration": 8,
    "start_time": "2024-11-11T08:07:11.077Z"
   },
   {
    "duration": 1,
    "start_time": "2024-11-11T08:09:28.464Z"
   },
   {
    "duration": 0,
    "start_time": "2024-11-11T08:09:28.466Z"
   },
   {
    "duration": 0,
    "start_time": "2024-11-11T08:09:28.467Z"
   },
   {
    "duration": 0,
    "start_time": "2024-11-11T08:09:28.468Z"
   },
   {
    "duration": 0,
    "start_time": "2024-11-11T08:09:28.469Z"
   },
   {
    "duration": 0,
    "start_time": "2024-11-11T08:09:28.470Z"
   },
   {
    "duration": 0,
    "start_time": "2024-11-11T08:09:28.471Z"
   },
   {
    "duration": 0,
    "start_time": "2024-11-11T08:09:28.472Z"
   },
   {
    "duration": 0,
    "start_time": "2024-11-11T08:09:28.473Z"
   },
   {
    "duration": 0,
    "start_time": "2024-11-11T08:09:28.474Z"
   },
   {
    "duration": 0,
    "start_time": "2024-11-11T08:09:28.476Z"
   },
   {
    "duration": 0,
    "start_time": "2024-11-11T08:09:28.511Z"
   },
   {
    "duration": 4,
    "start_time": "2024-11-11T08:09:42.923Z"
   },
   {
    "duration": 8,
    "start_time": "2024-11-11T08:09:54.513Z"
   },
   {
    "duration": 11,
    "start_time": "2024-11-11T08:11:45.218Z"
   },
   {
    "duration": 7,
    "start_time": "2024-11-11T08:12:41.641Z"
   },
   {
    "duration": 93,
    "start_time": "2024-11-11T08:15:39.180Z"
   },
   {
    "duration": 93,
    "start_time": "2024-11-11T08:19:10.348Z"
   },
   {
    "duration": 183,
    "start_time": "2024-11-11T08:24:39.237Z"
   },
   {
    "duration": 176,
    "start_time": "2024-11-11T08:25:38.273Z"
   },
   {
    "duration": 180,
    "start_time": "2024-11-11T08:25:46.908Z"
   },
   {
    "duration": 761,
    "start_time": "2024-11-11T08:26:44.823Z"
   },
   {
    "duration": 184,
    "start_time": "2024-11-11T08:27:08.673Z"
   },
   {
    "duration": 182,
    "start_time": "2024-11-11T08:28:55.566Z"
   },
   {
    "duration": 222,
    "start_time": "2024-11-11T08:29:22.353Z"
   },
   {
    "duration": 265,
    "start_time": "2024-11-11T08:29:32.725Z"
   },
   {
    "duration": 149,
    "start_time": "2024-11-11T08:29:40.094Z"
   },
   {
    "duration": 164,
    "start_time": "2024-11-11T08:29:47.898Z"
   },
   {
    "duration": 201,
    "start_time": "2024-11-11T08:29:58.974Z"
   },
   {
    "duration": 224,
    "start_time": "2024-11-11T08:30:07.106Z"
   },
   {
    "duration": 326,
    "start_time": "2024-11-11T08:30:15.541Z"
   },
   {
    "duration": 227,
    "start_time": "2024-11-11T08:30:27.993Z"
   },
   {
    "duration": 183,
    "start_time": "2024-11-11T08:30:33.584Z"
   },
   {
    "duration": 172,
    "start_time": "2024-11-11T08:30:44.318Z"
   },
   {
    "duration": 161,
    "start_time": "2024-11-11T08:30:50.641Z"
   },
   {
    "duration": 179,
    "start_time": "2024-11-11T08:30:56.807Z"
   },
   {
    "duration": 203,
    "start_time": "2024-11-11T08:31:03.771Z"
   },
   {
    "duration": 707,
    "start_time": "2024-11-11T08:37:51.516Z"
   },
   {
    "duration": 435,
    "start_time": "2024-11-11T08:39:40.112Z"
   },
   {
    "duration": 1071,
    "start_time": "2024-11-11T08:39:40.549Z"
   },
   {
    "duration": 19,
    "start_time": "2024-11-11T08:39:41.621Z"
   },
   {
    "duration": 13,
    "start_time": "2024-11-11T08:39:41.641Z"
   },
   {
    "duration": 10,
    "start_time": "2024-11-11T08:39:41.656Z"
   },
   {
    "duration": 11,
    "start_time": "2024-11-11T08:39:41.668Z"
   },
   {
    "duration": 55,
    "start_time": "2024-11-11T08:39:41.680Z"
   },
   {
    "duration": 101,
    "start_time": "2024-11-11T08:39:41.737Z"
   },
   {
    "duration": 107,
    "start_time": "2024-11-11T08:39:41.839Z"
   },
   {
    "duration": 49,
    "start_time": "2024-11-11T08:39:41.948Z"
   },
   {
    "duration": 200,
    "start_time": "2024-11-11T08:39:41.998Z"
   },
   {
    "duration": 98,
    "start_time": "2024-11-11T08:39:42.199Z"
   },
   {
    "duration": 21,
    "start_time": "2024-11-11T08:39:42.299Z"
   },
   {
    "duration": 6,
    "start_time": "2024-11-11T08:39:42.324Z"
   },
   {
    "duration": 27,
    "start_time": "2024-11-11T08:39:42.331Z"
   },
   {
    "duration": 13,
    "start_time": "2024-11-11T08:39:42.359Z"
   },
   {
    "duration": 3,
    "start_time": "2024-11-11T08:39:42.374Z"
   },
   {
    "duration": 34,
    "start_time": "2024-11-11T08:39:42.379Z"
   },
   {
    "duration": 4,
    "start_time": "2024-11-11T08:39:42.415Z"
   },
   {
    "duration": 6,
    "start_time": "2024-11-11T08:39:42.421Z"
   },
   {
    "duration": 773,
    "start_time": "2024-11-11T08:39:42.428Z"
   },
   {
    "duration": 775,
    "start_time": "2024-11-11T08:39:43.203Z"
   },
   {
    "duration": 32,
    "start_time": "2024-11-11T08:39:43.980Z"
   },
   {
    "duration": 8,
    "start_time": "2024-11-11T08:39:44.014Z"
   },
   {
    "duration": 9,
    "start_time": "2024-11-11T08:39:44.024Z"
   },
   {
    "duration": 7,
    "start_time": "2024-11-11T08:39:44.034Z"
   },
   {
    "duration": 8,
    "start_time": "2024-11-11T08:39:44.043Z"
   },
   {
    "duration": 19,
    "start_time": "2024-11-11T08:39:44.053Z"
   },
   {
    "duration": 79,
    "start_time": "2024-11-11T08:39:44.073Z"
   },
   {
    "duration": 37,
    "start_time": "2024-11-11T08:39:44.153Z"
   },
   {
    "duration": 24,
    "start_time": "2024-11-11T08:39:44.192Z"
   },
   {
    "duration": 11,
    "start_time": "2024-11-11T08:39:44.217Z"
   },
   {
    "duration": 57,
    "start_time": "2024-11-11T08:39:44.229Z"
   },
   {
    "duration": 44,
    "start_time": "2024-11-11T08:39:44.288Z"
   },
   {
    "duration": 12,
    "start_time": "2024-11-11T08:39:44.334Z"
   },
   {
    "duration": 4,
    "start_time": "2024-11-11T08:39:44.348Z"
   },
   {
    "duration": 24,
    "start_time": "2024-11-11T08:39:44.354Z"
   },
   {
    "duration": 35,
    "start_time": "2024-11-11T08:39:44.380Z"
   },
   {
    "duration": 4,
    "start_time": "2024-11-11T08:39:44.417Z"
   },
   {
    "duration": 56,
    "start_time": "2024-11-11T08:39:44.423Z"
   },
   {
    "duration": 98,
    "start_time": "2024-11-11T08:39:44.484Z"
   },
   {
    "duration": 210,
    "start_time": "2024-11-11T08:39:44.584Z"
   },
   {
    "duration": 124,
    "start_time": "2024-11-11T08:39:44.795Z"
   },
   {
    "duration": 440,
    "start_time": "2024-11-11T08:39:44.921Z"
   },
   {
    "duration": 9,
    "start_time": "2024-11-11T08:39:45.363Z"
   },
   {
    "duration": 9,
    "start_time": "2024-11-11T08:39:45.374Z"
   },
   {
    "duration": 211,
    "start_time": "2024-11-11T08:39:45.384Z"
   },
   {
    "duration": 654,
    "start_time": "2024-11-11T08:39:45.597Z"
   },
   {
    "duration": 248,
    "start_time": "2024-11-11T08:39:46.253Z"
   },
   {
    "duration": 10,
    "start_time": "2024-11-11T08:39:46.503Z"
   },
   {
    "duration": 131,
    "start_time": "2024-11-11T08:39:46.514Z"
   },
   {
    "duration": 118,
    "start_time": "2024-11-11T08:39:46.647Z"
   },
   {
    "duration": 55,
    "start_time": "2024-11-11T08:39:46.767Z"
   },
   {
    "duration": 13,
    "start_time": "2024-11-11T08:39:46.824Z"
   },
   {
    "duration": 202,
    "start_time": "2024-11-11T08:39:46.838Z"
   },
   {
    "duration": 807,
    "start_time": "2024-11-11T08:39:47.041Z"
   },
   {
    "duration": 201,
    "start_time": "2024-11-11T08:39:47.851Z"
   },
   {
    "duration": 4,
    "start_time": "2024-11-11T08:39:48.054Z"
   },
   {
    "duration": 57,
    "start_time": "2024-11-11T08:45:21.684Z"
   },
   {
    "duration": 8,
    "start_time": "2024-11-11T08:46:26.109Z"
   },
   {
    "duration": 14,
    "start_time": "2024-11-11T08:46:39.128Z"
   },
   {
    "duration": 52,
    "start_time": "2024-11-11T08:49:36.910Z"
   },
   {
    "duration": 523,
    "start_time": "2024-11-11T08:50:12.000Z"
   },
   {
    "duration": 81,
    "start_time": "2024-11-11T08:50:34.550Z"
   },
   {
    "duration": 595,
    "start_time": "2024-11-11T08:50:48.831Z"
   },
   {
    "duration": 76,
    "start_time": "2024-11-11T08:51:28.368Z"
   },
   {
    "duration": 53,
    "start_time": "2024-11-11T08:52:23.192Z"
   },
   {
    "duration": 76,
    "start_time": "2024-11-11T08:53:24.285Z"
   },
   {
    "duration": 654,
    "start_time": "2024-11-11T08:53:33.464Z"
   },
   {
    "duration": 240,
    "start_time": "2024-11-11T08:54:58.769Z"
   },
   {
    "duration": 484,
    "start_time": "2024-11-11T08:55:21.172Z"
   },
   {
    "duration": 3701,
    "start_time": "2024-11-11T08:56:07.541Z"
   },
   {
    "duration": 17,
    "start_time": "2024-11-11T08:56:36.355Z"
   },
   {
    "duration": 480,
    "start_time": "2024-11-11T08:57:40.357Z"
   },
   {
    "duration": 176,
    "start_time": "2024-11-11T08:57:54.277Z"
   },
   {
    "duration": 3481,
    "start_time": "2024-11-11T08:58:06.965Z"
   },
   {
    "duration": 16,
    "start_time": "2024-11-11T08:58:31.642Z"
   },
   {
    "duration": 17,
    "start_time": "2024-11-11T08:59:06.254Z"
   },
   {
    "duration": 53,
    "start_time": "2024-11-11T09:00:46.588Z"
   },
   {
    "duration": 53,
    "start_time": "2024-11-11T09:01:39.817Z"
   },
   {
    "duration": 13,
    "start_time": "2024-11-11T09:02:32.630Z"
   },
   {
    "duration": 255,
    "start_time": "2024-11-11T09:04:01.422Z"
   },
   {
    "duration": 1169,
    "start_time": "2024-11-11T09:04:36.426Z"
   },
   {
    "duration": 153,
    "start_time": "2024-11-11T09:05:06.895Z"
   },
   {
    "duration": 194,
    "start_time": "2024-11-11T09:06:56.091Z"
   },
   {
    "duration": 194,
    "start_time": "2024-11-11T09:10:52.126Z"
   },
   {
    "duration": 251,
    "start_time": "2024-11-11T09:12:15.660Z"
   },
   {
    "duration": 250,
    "start_time": "2024-11-11T09:12:26.379Z"
   },
   {
    "duration": 444,
    "start_time": "2024-11-11T09:13:09.534Z"
   },
   {
    "duration": 259,
    "start_time": "2024-11-11T09:13:15.980Z"
   },
   {
    "duration": 5,
    "start_time": "2024-11-11T09:14:07.788Z"
   },
   {
    "duration": 4,
    "start_time": "2024-11-11T09:14:26.123Z"
   },
   {
    "duration": 12,
    "start_time": "2024-11-11T09:14:33.590Z"
   },
   {
    "duration": 274,
    "start_time": "2024-11-11T09:14:43.625Z"
   },
   {
    "duration": 589,
    "start_time": "2024-11-11T09:15:01.324Z"
   },
   {
    "duration": 607,
    "start_time": "2024-11-11T09:15:54.353Z"
   },
   {
    "duration": 291,
    "start_time": "2024-11-11T09:16:04.335Z"
   },
   {
    "duration": 258,
    "start_time": "2024-11-11T09:16:19.605Z"
   },
   {
    "duration": 4544,
    "start_time": "2024-11-11T09:18:35.381Z"
   },
   {
    "duration": 197,
    "start_time": "2024-11-11T09:18:40.226Z"
   },
   {
    "duration": 5016,
    "start_time": "2024-11-11T09:19:24.932Z"
   },
   {
    "duration": 354,
    "start_time": "2024-11-11T09:19:47.051Z"
   },
   {
    "duration": 17,
    "start_time": "2024-11-11T09:21:15.695Z"
   },
   {
    "duration": 4,
    "start_time": "2024-11-11T09:21:31.053Z"
   },
   {
    "duration": 515,
    "start_time": "2024-11-11T09:21:43.360Z"
   },
   {
    "duration": 463,
    "start_time": "2024-11-11T09:22:15.169Z"
   },
   {
    "duration": 461,
    "start_time": "2024-11-11T09:22:22.511Z"
   },
   {
    "duration": 459,
    "start_time": "2024-11-11T09:23:02.114Z"
   },
   {
    "duration": 493,
    "start_time": "2024-11-11T09:23:32.661Z"
   },
   {
    "duration": 420,
    "start_time": "2024-11-11T09:23:53.795Z"
   },
   {
    "duration": 1085,
    "start_time": "2024-11-11T09:23:54.217Z"
   },
   {
    "duration": 18,
    "start_time": "2024-11-11T09:23:55.304Z"
   },
   {
    "duration": 13,
    "start_time": "2024-11-11T09:23:55.324Z"
   },
   {
    "duration": 11,
    "start_time": "2024-11-11T09:23:55.339Z"
   },
   {
    "duration": 10,
    "start_time": "2024-11-11T09:23:55.352Z"
   },
   {
    "duration": 61,
    "start_time": "2024-11-11T09:23:55.364Z"
   },
   {
    "duration": 104,
    "start_time": "2024-11-11T09:23:55.427Z"
   },
   {
    "duration": 93,
    "start_time": "2024-11-11T09:23:55.533Z"
   },
   {
    "duration": 47,
    "start_time": "2024-11-11T09:23:55.629Z"
   },
   {
    "duration": 212,
    "start_time": "2024-11-11T09:23:55.678Z"
   },
   {
    "duration": 95,
    "start_time": "2024-11-11T09:23:55.891Z"
   },
   {
    "duration": 12,
    "start_time": "2024-11-11T09:23:55.988Z"
   },
   {
    "duration": 14,
    "start_time": "2024-11-11T09:23:56.001Z"
   },
   {
    "duration": 27,
    "start_time": "2024-11-11T09:23:56.017Z"
   },
   {
    "duration": 13,
    "start_time": "2024-11-11T09:23:56.046Z"
   },
   {
    "duration": 4,
    "start_time": "2024-11-11T09:23:56.060Z"
   },
   {
    "duration": 6,
    "start_time": "2024-11-11T09:23:56.066Z"
   },
   {
    "duration": 3,
    "start_time": "2024-11-11T09:23:56.074Z"
   },
   {
    "duration": 6,
    "start_time": "2024-11-11T09:23:56.111Z"
   },
   {
    "duration": 798,
    "start_time": "2024-11-11T09:23:56.120Z"
   },
   {
    "duration": 826,
    "start_time": "2024-11-11T09:23:56.920Z"
   },
   {
    "duration": 24,
    "start_time": "2024-11-11T09:23:57.749Z"
   },
   {
    "duration": 9,
    "start_time": "2024-11-11T09:23:57.774Z"
   },
   {
    "duration": 29,
    "start_time": "2024-11-11T09:23:57.784Z"
   },
   {
    "duration": 8,
    "start_time": "2024-11-11T09:23:57.815Z"
   },
   {
    "duration": 9,
    "start_time": "2024-11-11T09:23:57.825Z"
   },
   {
    "duration": 18,
    "start_time": "2024-11-11T09:23:57.838Z"
   },
   {
    "duration": 71,
    "start_time": "2024-11-11T09:23:57.858Z"
   },
   {
    "duration": 37,
    "start_time": "2024-11-11T09:23:57.931Z"
   },
   {
    "duration": 7,
    "start_time": "2024-11-11T09:23:57.970Z"
   },
   {
    "duration": 33,
    "start_time": "2024-11-11T09:23:57.979Z"
   },
   {
    "duration": 71,
    "start_time": "2024-11-11T09:23:58.013Z"
   },
   {
    "duration": 41,
    "start_time": "2024-11-11T09:23:58.085Z"
   },
   {
    "duration": 12,
    "start_time": "2024-11-11T09:23:58.127Z"
   },
   {
    "duration": 4,
    "start_time": "2024-11-11T09:23:58.141Z"
   },
   {
    "duration": 28,
    "start_time": "2024-11-11T09:23:58.147Z"
   },
   {
    "duration": 7,
    "start_time": "2024-11-11T09:23:58.177Z"
   },
   {
    "duration": 5,
    "start_time": "2024-11-11T09:23:58.211Z"
   },
   {
    "duration": 57,
    "start_time": "2024-11-11T09:23:58.218Z"
   },
   {
    "duration": 98,
    "start_time": "2024-11-11T09:23:58.277Z"
   },
   {
    "duration": 196,
    "start_time": "2024-11-11T09:23:58.376Z"
   },
   {
    "duration": 123,
    "start_time": "2024-11-11T09:23:58.574Z"
   },
   {
    "duration": 438,
    "start_time": "2024-11-11T09:23:58.699Z"
   },
   {
    "duration": 9,
    "start_time": "2024-11-11T09:23:59.139Z"
   },
   {
    "duration": 9,
    "start_time": "2024-11-11T09:23:59.150Z"
   },
   {
    "duration": 211,
    "start_time": "2024-11-11T09:23:59.160Z"
   },
   {
    "duration": 649,
    "start_time": "2024-11-11T09:23:59.373Z"
   },
   {
    "duration": 545,
    "start_time": "2024-11-11T09:24:00.024Z"
   },
   {
    "duration": 727,
    "start_time": "2024-11-11T09:24:00.571Z"
   },
   {
    "duration": 0,
    "start_time": "2024-11-11T09:24:01.300Z"
   },
   {
    "duration": 0,
    "start_time": "2024-11-11T09:24:01.301Z"
   },
   {
    "duration": 0,
    "start_time": "2024-11-11T09:24:01.302Z"
   },
   {
    "duration": 0,
    "start_time": "2024-11-11T09:24:01.303Z"
   },
   {
    "duration": 0,
    "start_time": "2024-11-11T09:24:01.304Z"
   },
   {
    "duration": 0,
    "start_time": "2024-11-11T09:24:01.311Z"
   },
   {
    "duration": 0,
    "start_time": "2024-11-11T09:24:01.312Z"
   },
   {
    "duration": 0,
    "start_time": "2024-11-11T09:24:01.314Z"
   },
   {
    "duration": 0,
    "start_time": "2024-11-11T09:24:01.315Z"
   },
   {
    "duration": 0,
    "start_time": "2024-11-11T09:24:01.316Z"
   },
   {
    "duration": 455,
    "start_time": "2024-11-11T09:25:29.192Z"
   },
   {
    "duration": 443,
    "start_time": "2024-11-11T09:25:56.326Z"
   },
   {
    "duration": 164,
    "start_time": "2024-11-11T09:26:21.831Z"
   },
   {
    "duration": 5,
    "start_time": "2024-11-11T09:26:42.160Z"
   },
   {
    "duration": 240,
    "start_time": "2024-11-11T09:27:12.299Z"
   },
   {
    "duration": 12,
    "start_time": "2024-11-11T09:27:28.520Z"
   },
   {
    "duration": 161,
    "start_time": "2024-11-11T09:27:46.764Z"
   },
   {
    "duration": 188,
    "start_time": "2024-11-11T09:27:56.847Z"
   },
   {
    "duration": 17,
    "start_time": "2024-11-11T09:28:33.056Z"
   },
   {
    "duration": 4717,
    "start_time": "2024-11-11T09:29:08.590Z"
   },
   {
    "duration": 16,
    "start_time": "2024-11-11T09:29:27.791Z"
   },
   {
    "duration": 7,
    "start_time": "2024-11-11T09:30:21.388Z"
   },
   {
    "duration": 3,
    "start_time": "2024-11-11T09:30:35.941Z"
   },
   {
    "duration": 37,
    "start_time": "2024-11-11T09:30:50.884Z"
   },
   {
    "duration": 37,
    "start_time": "2024-11-11T09:31:15.043Z"
   },
   {
    "duration": 37,
    "start_time": "2024-11-11T09:32:01.681Z"
   },
   {
    "duration": 261,
    "start_time": "2024-11-11T09:32:14.145Z"
   },
   {
    "duration": 252,
    "start_time": "2024-11-11T09:34:39.010Z"
   },
   {
    "duration": 5,
    "start_time": "2024-11-11T09:34:55.126Z"
   },
   {
    "duration": 273,
    "start_time": "2024-11-11T09:35:24.557Z"
   },
   {
    "duration": 110,
    "start_time": "2024-11-11T09:36:16.492Z"
   },
   {
    "duration": 49,
    "start_time": "2024-11-11T09:36:21.209Z"
   },
   {
    "duration": 14,
    "start_time": "2024-11-11T09:36:25.697Z"
   },
   {
    "duration": 182,
    "start_time": "2024-11-11T09:36:29.644Z"
   },
   {
    "duration": 386,
    "start_time": "2024-11-11T09:37:48.053Z"
   },
   {
    "duration": 487,
    "start_time": "2024-11-11T09:40:29.680Z"
   },
   {
    "duration": 4586,
    "start_time": "2024-11-11T09:44:16.703Z"
   },
   {
    "duration": 4520,
    "start_time": "2024-11-11T09:44:41.092Z"
   },
   {
    "duration": 4466,
    "start_time": "2024-11-11T09:44:47.196Z"
   },
   {
    "duration": 4449,
    "start_time": "2024-11-11T09:45:02.465Z"
   },
   {
    "duration": 5055,
    "start_time": "2024-11-11T09:45:42.142Z"
   },
   {
    "duration": 372,
    "start_time": "2024-11-11T09:46:01.747Z"
   },
   {
    "duration": 54,
    "start_time": "2024-11-11T09:46:08.274Z"
   },
   {
    "duration": 4988,
    "start_time": "2024-11-11T09:46:49.611Z"
   },
   {
    "duration": 576,
    "start_time": "2024-11-11T09:47:28.575Z"
   },
   {
    "duration": 594,
    "start_time": "2024-11-11T09:47:46.240Z"
   },
   {
    "duration": 53,
    "start_time": "2024-11-11T09:50:47.035Z"
   },
   {
    "duration": 269,
    "start_time": "2024-11-11T09:51:03.692Z"
   },
   {
    "duration": 19,
    "start_time": "2024-11-11T09:53:06.535Z"
   },
   {
    "duration": 19,
    "start_time": "2024-11-11T09:53:22.064Z"
   },
   {
    "duration": 18,
    "start_time": "2024-11-11T09:54:20.597Z"
   },
   {
    "duration": 194,
    "start_time": "2024-11-11T09:54:55.306Z"
   },
   {
    "duration": 261,
    "start_time": "2024-11-11T09:58:48.332Z"
   },
   {
    "duration": 196,
    "start_time": "2024-11-11T09:58:54.260Z"
   },
   {
    "duration": 11,
    "start_time": "2024-11-11T13:16:58.354Z"
   },
   {
    "duration": 2462,
    "start_time": "2024-11-11T13:17:16.493Z"
   },
   {
    "duration": 1102,
    "start_time": "2024-11-11T13:17:18.957Z"
   },
   {
    "duration": 20,
    "start_time": "2024-11-11T13:17:20.060Z"
   },
   {
    "duration": 27,
    "start_time": "2024-11-11T13:17:20.082Z"
   },
   {
    "duration": 13,
    "start_time": "2024-11-11T13:17:20.112Z"
   },
   {
    "duration": 12,
    "start_time": "2024-11-11T13:17:20.127Z"
   },
   {
    "duration": 32,
    "start_time": "2024-11-11T13:17:20.140Z"
   },
   {
    "duration": 124,
    "start_time": "2024-11-11T13:17:20.174Z"
   },
   {
    "duration": 110,
    "start_time": "2024-11-11T13:17:20.300Z"
   },
   {
    "duration": 70,
    "start_time": "2024-11-11T13:17:20.411Z"
   },
   {
    "duration": 209,
    "start_time": "2024-11-11T13:17:20.483Z"
   },
   {
    "duration": 110,
    "start_time": "2024-11-11T13:17:20.694Z"
   },
   {
    "duration": 14,
    "start_time": "2024-11-11T13:17:20.809Z"
   },
   {
    "duration": 6,
    "start_time": "2024-11-11T13:17:20.827Z"
   },
   {
    "duration": 31,
    "start_time": "2024-11-11T13:17:20.835Z"
   },
   {
    "duration": 45,
    "start_time": "2024-11-11T13:17:20.868Z"
   },
   {
    "duration": 4,
    "start_time": "2024-11-11T13:17:20.916Z"
   },
   {
    "duration": 7,
    "start_time": "2024-11-11T13:17:20.921Z"
   },
   {
    "duration": 4,
    "start_time": "2024-11-11T13:17:20.929Z"
   },
   {
    "duration": 7,
    "start_time": "2024-11-11T13:17:20.935Z"
   },
   {
    "duration": 966,
    "start_time": "2024-11-11T13:17:20.944Z"
   },
   {
    "duration": 946,
    "start_time": "2024-11-11T13:17:21.912Z"
   },
   {
    "duration": 31,
    "start_time": "2024-11-11T13:17:22.860Z"
   },
   {
    "duration": 24,
    "start_time": "2024-11-11T13:17:22.893Z"
   },
   {
    "duration": 10,
    "start_time": "2024-11-11T13:17:22.919Z"
   },
   {
    "duration": 10,
    "start_time": "2024-11-11T13:17:22.931Z"
   },
   {
    "duration": 12,
    "start_time": "2024-11-11T13:17:22.944Z"
   },
   {
    "duration": 26,
    "start_time": "2024-11-11T13:17:22.958Z"
   },
   {
    "duration": 46,
    "start_time": "2024-11-11T13:17:23.010Z"
   },
   {
    "duration": 52,
    "start_time": "2024-11-11T13:17:23.058Z"
   },
   {
    "duration": 9,
    "start_time": "2024-11-11T13:17:23.113Z"
   },
   {
    "duration": 11,
    "start_time": "2024-11-11T13:17:23.124Z"
   },
   {
    "duration": 110,
    "start_time": "2024-11-11T13:17:23.137Z"
   },
   {
    "duration": 34,
    "start_time": "2024-11-11T13:17:23.250Z"
   },
   {
    "duration": 28,
    "start_time": "2024-11-11T13:17:23.286Z"
   },
   {
    "duration": 5,
    "start_time": "2024-11-11T13:17:23.317Z"
   },
   {
    "duration": 26,
    "start_time": "2024-11-11T13:17:23.324Z"
   },
   {
    "duration": 7,
    "start_time": "2024-11-11T13:17:23.353Z"
   },
   {
    "duration": 10,
    "start_time": "2024-11-11T13:17:23.361Z"
   },
   {
    "duration": 108,
    "start_time": "2024-11-11T13:17:23.373Z"
   },
   {
    "duration": 112,
    "start_time": "2024-11-11T13:17:23.486Z"
   },
   {
    "duration": 210,
    "start_time": "2024-11-11T13:17:23.600Z"
   },
   {
    "duration": 122,
    "start_time": "2024-11-11T13:17:23.812Z"
   },
   {
    "duration": 450,
    "start_time": "2024-11-11T13:17:23.936Z"
   },
   {
    "duration": 10,
    "start_time": "2024-11-11T13:17:24.388Z"
   },
   {
    "duration": 10,
    "start_time": "2024-11-11T13:17:24.400Z"
   },
   {
    "duration": 298,
    "start_time": "2024-11-11T13:17:24.413Z"
   },
   {
    "duration": 679,
    "start_time": "2024-11-11T13:17:24.713Z"
   },
   {
    "duration": 273,
    "start_time": "2024-11-11T13:17:25.395Z"
   },
   {
    "duration": 225,
    "start_time": "2024-11-11T13:17:25.670Z"
   },
   {
    "duration": 301,
    "start_time": "2024-11-11T13:17:25.900Z"
   },
   {
    "duration": 6,
    "start_time": "2024-11-11T13:17:26.203Z"
   },
   {
    "duration": 135,
    "start_time": "2024-11-11T13:17:26.211Z"
   },
   {
    "duration": 130,
    "start_time": "2024-11-11T13:17:26.348Z"
   },
   {
    "duration": 56,
    "start_time": "2024-11-11T13:17:26.480Z"
   },
   {
    "duration": 14,
    "start_time": "2024-11-11T13:17:26.539Z"
   },
   {
    "duration": 234,
    "start_time": "2024-11-11T13:17:26.554Z"
   },
   {
    "duration": 940,
    "start_time": "2024-11-11T13:17:26.790Z"
   },
   {
    "duration": 232,
    "start_time": "2024-11-11T13:17:27.733Z"
   },
   {
    "duration": 7,
    "start_time": "2024-11-11T13:17:27.967Z"
   },
   {
    "duration": 4,
    "start_time": "2024-11-11T13:18:33.902Z"
   },
   {
    "duration": 3,
    "start_time": "2024-11-11T13:29:12.338Z"
   },
   {
    "duration": 295,
    "start_time": "2024-11-11T13:34:11.315Z"
   },
   {
    "duration": 364,
    "start_time": "2024-11-11T13:34:20.578Z"
   },
   {
    "duration": 7,
    "start_time": "2024-11-11T13:34:23.278Z"
   },
   {
    "duration": 129,
    "start_time": "2024-11-11T13:34:24.649Z"
   },
   {
    "duration": 7,
    "start_time": "2024-11-11T13:34:43.005Z"
   },
   {
    "duration": 992,
    "start_time": "2024-11-11T13:34:56.947Z"
   },
   {
    "duration": 114,
    "start_time": "2024-11-11T13:35:03.965Z"
   },
   {
    "duration": 858,
    "start_time": "2024-11-11T13:35:30.101Z"
   },
   {
    "duration": 334,
    "start_time": "2024-11-11T13:35:39.345Z"
   },
   {
    "duration": 6,
    "start_time": "2024-11-11T13:35:41.137Z"
   },
   {
    "duration": 854,
    "start_time": "2024-11-11T13:35:42.885Z"
   },
   {
    "duration": 114,
    "start_time": "2024-11-11T13:36:10.743Z"
   },
   {
    "duration": 161,
    "start_time": "2024-11-12T02:49:28.147Z"
   },
   {
    "duration": 12,
    "start_time": "2024-11-12T02:49:37.112Z"
   },
   {
    "duration": 12,
    "start_time": "2024-11-12T02:51:01.362Z"
   },
   {
    "duration": 2163,
    "start_time": "2024-11-12T02:55:58.568Z"
   },
   {
    "duration": 1026,
    "start_time": "2024-11-12T02:56:00.733Z"
   },
   {
    "duration": 17,
    "start_time": "2024-11-12T02:56:01.761Z"
   },
   {
    "duration": 13,
    "start_time": "2024-11-12T02:56:01.780Z"
   },
   {
    "duration": 10,
    "start_time": "2024-11-12T02:56:01.795Z"
   },
   {
    "duration": 27,
    "start_time": "2024-11-12T02:56:01.806Z"
   },
   {
    "duration": 34,
    "start_time": "2024-11-12T02:56:01.835Z"
   },
   {
    "duration": 115,
    "start_time": "2024-11-12T02:56:01.871Z"
   },
   {
    "duration": 93,
    "start_time": "2024-11-12T02:56:01.987Z"
   },
   {
    "duration": 58,
    "start_time": "2024-11-12T02:56:02.085Z"
   },
   {
    "duration": 193,
    "start_time": "2024-11-12T02:56:02.145Z"
   },
   {
    "duration": 102,
    "start_time": "2024-11-12T02:56:02.340Z"
   },
   {
    "duration": 12,
    "start_time": "2024-11-12T02:56:02.443Z"
   },
   {
    "duration": 5,
    "start_time": "2024-11-12T02:56:02.456Z"
   },
   {
    "duration": 28,
    "start_time": "2024-11-12T02:56:02.462Z"
   },
   {
    "duration": 38,
    "start_time": "2024-11-12T02:56:02.491Z"
   },
   {
    "duration": 4,
    "start_time": "2024-11-12T02:56:02.530Z"
   },
   {
    "duration": 6,
    "start_time": "2024-11-12T02:56:02.536Z"
   },
   {
    "duration": 5,
    "start_time": "2024-11-12T02:56:02.543Z"
   },
   {
    "duration": 6,
    "start_time": "2024-11-12T02:56:02.549Z"
   },
   {
    "duration": 823,
    "start_time": "2024-11-12T02:56:02.557Z"
   },
   {
    "duration": 810,
    "start_time": "2024-11-12T02:56:03.382Z"
   },
   {
    "duration": 34,
    "start_time": "2024-11-12T02:56:04.195Z"
   },
   {
    "duration": 8,
    "start_time": "2024-11-12T02:56:04.231Z"
   },
   {
    "duration": 9,
    "start_time": "2024-11-12T02:56:04.241Z"
   },
   {
    "duration": 7,
    "start_time": "2024-11-12T02:56:04.252Z"
   },
   {
    "duration": 10,
    "start_time": "2024-11-12T02:56:04.260Z"
   },
   {
    "duration": 51,
    "start_time": "2024-11-12T02:56:04.274Z"
   },
   {
    "duration": 46,
    "start_time": "2024-11-12T02:56:04.327Z"
   },
   {
    "duration": 50,
    "start_time": "2024-11-12T02:56:04.375Z"
   },
   {
    "duration": 7,
    "start_time": "2024-11-12T02:56:04.427Z"
   },
   {
    "duration": 10,
    "start_time": "2024-11-12T02:56:04.436Z"
   },
   {
    "duration": 77,
    "start_time": "2024-11-12T02:56:04.448Z"
   },
   {
    "duration": 22,
    "start_time": "2024-11-12T02:56:04.527Z"
   },
   {
    "duration": 12,
    "start_time": "2024-11-12T02:56:04.551Z"
   },
   {
    "duration": 4,
    "start_time": "2024-11-12T02:56:04.565Z"
   },
   {
    "duration": 25,
    "start_time": "2024-11-12T02:56:04.571Z"
   },
   {
    "duration": 6,
    "start_time": "2024-11-12T02:56:04.625Z"
   },
   {
    "duration": 5,
    "start_time": "2024-11-12T02:56:04.633Z"
   },
   {
    "duration": 55,
    "start_time": "2024-11-12T02:56:04.639Z"
   },
   {
    "duration": 100,
    "start_time": "2024-11-12T02:56:04.696Z"
   },
   {
    "duration": 208,
    "start_time": "2024-11-12T02:56:04.798Z"
   },
   {
    "duration": 119,
    "start_time": "2024-11-12T02:56:05.008Z"
   },
   {
    "duration": 468,
    "start_time": "2024-11-12T02:56:05.129Z"
   },
   {
    "duration": 9,
    "start_time": "2024-11-12T02:56:05.599Z"
   },
   {
    "duration": 9,
    "start_time": "2024-11-12T02:56:05.610Z"
   },
   {
    "duration": 210,
    "start_time": "2024-11-12T02:56:05.624Z"
   },
   {
    "duration": 628,
    "start_time": "2024-11-12T02:56:05.836Z"
   },
   {
    "duration": 255,
    "start_time": "2024-11-12T02:56:06.466Z"
   },
   {
    "duration": 209,
    "start_time": "2024-11-12T02:56:06.724Z"
   },
   {
    "duration": 243,
    "start_time": "2024-11-12T02:56:06.934Z"
   },
   {
    "duration": 5,
    "start_time": "2024-11-12T02:56:07.179Z"
   },
   {
    "duration": 133,
    "start_time": "2024-11-12T02:56:07.186Z"
   },
   {
    "duration": 113,
    "start_time": "2024-11-12T02:56:07.323Z"
   },
   {
    "duration": 50,
    "start_time": "2024-11-12T02:56:07.438Z"
   },
   {
    "duration": 13,
    "start_time": "2024-11-12T02:56:07.490Z"
   },
   {
    "duration": 203,
    "start_time": "2024-11-12T02:56:07.508Z"
   },
   {
    "duration": 802,
    "start_time": "2024-11-12T02:56:07.713Z"
   },
   {
    "duration": 191,
    "start_time": "2024-11-12T02:56:08.516Z"
   },
   {
    "duration": 6,
    "start_time": "2024-11-12T02:56:08.708Z"
   },
   {
    "duration": 2325,
    "start_time": "2024-11-12T04:39:12.341Z"
   },
   {
    "duration": 1108,
    "start_time": "2024-11-12T04:39:14.803Z"
   },
   {
    "duration": 18,
    "start_time": "2024-11-12T04:39:18.294Z"
   },
   {
    "duration": 14,
    "start_time": "2024-11-12T04:39:22.468Z"
   },
   {
    "duration": 20,
    "start_time": "2024-11-12T04:39:29.146Z"
   },
   {
    "duration": 11,
    "start_time": "2024-11-12T04:39:34.764Z"
   },
   {
    "duration": 27,
    "start_time": "2024-11-12T04:40:01.409Z"
   },
   {
    "duration": 31,
    "start_time": "2024-11-12T04:42:02.125Z"
   },
   {
    "duration": 108,
    "start_time": "2024-11-12T04:42:27.375Z"
   },
   {
    "duration": 99,
    "start_time": "2024-11-12T04:42:30.226Z"
   },
   {
    "duration": 47,
    "start_time": "2024-11-12T04:42:47.471Z"
   },
   {
    "duration": 199,
    "start_time": "2024-11-12T04:43:06.141Z"
   },
   {
    "duration": 93,
    "start_time": "2024-11-12T04:43:12.267Z"
   },
   {
    "duration": 12,
    "start_time": "2024-11-12T04:43:35.313Z"
   },
   {
    "duration": 24,
    "start_time": "2024-11-12T04:43:37.642Z"
   },
   {
    "duration": 29,
    "start_time": "2024-11-12T04:43:40.064Z"
   },
   {
    "duration": 26,
    "start_time": "2024-11-12T04:43:43.128Z"
   },
   {
    "duration": 4,
    "start_time": "2024-11-12T04:43:48.681Z"
   },
   {
    "duration": 6,
    "start_time": "2024-11-12T04:43:51.771Z"
   },
   {
    "duration": 3,
    "start_time": "2024-11-12T04:43:56.407Z"
   },
   {
    "duration": 6,
    "start_time": "2024-11-12T04:43:58.822Z"
   },
   {
    "duration": 858,
    "start_time": "2024-11-12T04:44:04.659Z"
   },
   {
    "duration": 871,
    "start_time": "2024-11-12T04:44:07.933Z"
   },
   {
    "duration": 32,
    "start_time": "2024-11-12T04:44:21.207Z"
   },
   {
    "duration": 12,
    "start_time": "2024-11-12T04:44:28.562Z"
   },
   {
    "duration": 12,
    "start_time": "2024-11-12T04:45:33.877Z"
   },
   {
    "duration": 11,
    "start_time": "2024-11-12T04:45:38.676Z"
   },
   {
    "duration": 12,
    "start_time": "2024-11-12T04:45:47.268Z"
   },
   {
    "duration": 11,
    "start_time": "2024-11-12T04:45:53.521Z"
   },
   {
    "duration": 19,
    "start_time": "2024-11-12T04:45:57.692Z"
   },
   {
    "duration": 65,
    "start_time": "2024-11-12T04:46:04.559Z"
   },
   {
    "duration": 50,
    "start_time": "2024-11-12T04:46:08.813Z"
   },
   {
    "duration": 12,
    "start_time": "2024-11-12T04:46:17.763Z"
   },
   {
    "duration": 98,
    "start_time": "2024-11-12T04:46:54.625Z"
   },
   {
    "duration": 69,
    "start_time": "2024-11-12T04:48:34.664Z"
   },
   {
    "duration": 74,
    "start_time": "2024-11-12T04:48:41.151Z"
   },
   {
    "duration": 75,
    "start_time": "2024-11-12T04:48:49.521Z"
   },
   {
    "duration": 65,
    "start_time": "2024-11-12T04:48:57.758Z"
   },
   {
    "duration": 26,
    "start_time": "2024-11-12T04:49:11.793Z"
   },
   {
    "duration": 11,
    "start_time": "2024-11-12T04:50:16.188Z"
   },
   {
    "duration": 6,
    "start_time": "2024-11-12T05:01:19.255Z"
   },
   {
    "duration": 992,
    "start_time": "2024-11-12T05:01:20.896Z"
   },
   {
    "duration": 15,
    "start_time": "2024-11-12T05:01:23.197Z"
   },
   {
    "duration": 16,
    "start_time": "2024-11-12T05:01:25.297Z"
   },
   {
    "duration": 14,
    "start_time": "2024-11-12T05:01:30.175Z"
   },
   {
    "duration": 18,
    "start_time": "2024-11-12T05:01:32.332Z"
   },
   {
    "duration": 13,
    "start_time": "2024-11-12T05:01:34.898Z"
   },
   {
    "duration": 24,
    "start_time": "2024-11-12T05:01:39.095Z"
   },
   {
    "duration": 73,
    "start_time": "2024-11-12T05:01:46.085Z"
   },
   {
    "duration": 100,
    "start_time": "2024-11-12T05:01:49.198Z"
   },
   {
    "duration": 46,
    "start_time": "2024-11-12T05:01:54.199Z"
   },
   {
    "duration": 208,
    "start_time": "2024-11-12T05:01:59.297Z"
   },
   {
    "duration": 86,
    "start_time": "2024-11-12T05:02:03.983Z"
   },
   {
    "duration": 38,
    "start_time": "2024-11-12T05:02:12.732Z"
   },
   {
    "duration": 6,
    "start_time": "2024-11-12T05:02:16.211Z"
   },
   {
    "duration": 39,
    "start_time": "2024-11-12T05:02:18.715Z"
   },
   {
    "duration": 18,
    "start_time": "2024-11-12T05:02:22.694Z"
   },
   {
    "duration": 4,
    "start_time": "2024-11-12T05:02:27.116Z"
   },
   {
    "duration": 9,
    "start_time": "2024-11-12T05:02:29.670Z"
   },
   {
    "duration": 4,
    "start_time": "2024-11-12T05:02:32.779Z"
   },
   {
    "duration": 6,
    "start_time": "2024-11-12T05:02:34.983Z"
   },
   {
    "duration": 877,
    "start_time": "2024-11-12T05:02:39.798Z"
   },
   {
    "duration": 895,
    "start_time": "2024-11-12T05:02:42.991Z"
   },
   {
    "duration": 30,
    "start_time": "2024-11-12T05:02:50.104Z"
   },
   {
    "duration": 11,
    "start_time": "2024-11-12T05:02:53.925Z"
   },
   {
    "duration": 10,
    "start_time": "2024-11-12T05:02:58.395Z"
   },
   {
    "duration": 9,
    "start_time": "2024-11-12T05:03:02.378Z"
   },
   {
    "duration": 20,
    "start_time": "2024-11-12T05:03:07.241Z"
   },
   {
    "duration": 29,
    "start_time": "2024-11-12T05:03:10.064Z"
   },
   {
    "duration": 58,
    "start_time": "2024-11-12T05:03:14.536Z"
   },
   {
    "duration": 58,
    "start_time": "2024-11-12T05:03:18.504Z"
   },
   {
    "duration": 10,
    "start_time": "2024-11-12T05:03:21.405Z"
   },
   {
    "duration": 18,
    "start_time": "2024-11-12T05:03:24.657Z"
   },
   {
    "duration": 79,
    "start_time": "2024-11-12T05:03:32.511Z"
   },
   {
    "duration": 36,
    "start_time": "2024-11-12T05:03:35.765Z"
   },
   {
    "duration": 4,
    "start_time": "2024-11-12T05:18:08.189Z"
   },
   {
    "duration": 9,
    "start_time": "2024-11-12T05:22:06.364Z"
   },
   {
    "duration": 438,
    "start_time": "2024-11-12T05:26:13.835Z"
   },
   {
    "duration": 23,
    "start_time": "2024-11-12T05:29:18.907Z"
   },
   {
    "duration": 18,
    "start_time": "2024-11-12T05:31:11.275Z"
   },
   {
    "duration": 6,
    "start_time": "2024-11-12T05:31:25.301Z"
   },
   {
    "duration": 28,
    "start_time": "2024-11-12T05:34:03.238Z"
   },
   {
    "duration": 8,
    "start_time": "2024-11-12T05:34:22.228Z"
   },
   {
    "duration": 18,
    "start_time": "2024-11-12T05:36:12.815Z"
   },
   {
    "duration": 18,
    "start_time": "2024-11-12T05:36:22.663Z"
   },
   {
    "duration": 17,
    "start_time": "2024-11-12T05:36:31.789Z"
   },
   {
    "duration": 8,
    "start_time": "2024-11-12T05:36:37.716Z"
   },
   {
    "duration": 16,
    "start_time": "2024-11-12T05:36:45.220Z"
   },
   {
    "duration": 9,
    "start_time": "2024-11-12T05:37:12.909Z"
   },
   {
    "duration": 16,
    "start_time": "2024-11-12T05:37:23.320Z"
   },
   {
    "duration": 21,
    "start_time": "2024-11-12T05:37:28.659Z"
   },
   {
    "duration": 17,
    "start_time": "2024-11-12T05:37:32.024Z"
   },
   {
    "duration": 9,
    "start_time": "2024-11-12T05:37:39.482Z"
   },
   {
    "duration": 13,
    "start_time": "2024-11-12T05:49:42.624Z"
   },
   {
    "duration": 13,
    "start_time": "2024-11-12T05:49:53.255Z"
   },
   {
    "duration": 35,
    "start_time": "2024-11-12T05:49:59.848Z"
   },
   {
    "duration": 13,
    "start_time": "2024-11-12T05:50:06.341Z"
   },
   {
    "duration": 6,
    "start_time": "2024-11-12T05:50:12.767Z"
   },
   {
    "duration": 16,
    "start_time": "2024-11-12T05:50:46.684Z"
   },
   {
    "duration": 17,
    "start_time": "2024-11-12T05:50:55.551Z"
   },
   {
    "duration": 463,
    "start_time": "2024-11-12T05:59:06.429Z"
   },
   {
    "duration": 1058,
    "start_time": "2024-11-12T05:59:09.044Z"
   },
   {
    "duration": 20,
    "start_time": "2024-11-12T05:59:11.221Z"
   },
   {
    "duration": 14,
    "start_time": "2024-11-12T05:59:18.775Z"
   },
   {
    "duration": 12,
    "start_time": "2024-11-12T05:59:23.183Z"
   },
   {
    "duration": 20,
    "start_time": "2024-11-12T05:59:27.033Z"
   },
   {
    "duration": 27,
    "start_time": "2024-11-12T05:59:41.293Z"
   },
   {
    "duration": 113,
    "start_time": "2024-11-12T05:59:57.261Z"
   },
   {
    "duration": 105,
    "start_time": "2024-11-12T06:00:04.878Z"
   },
   {
    "duration": 57,
    "start_time": "2024-11-12T06:00:17.487Z"
   },
   {
    "duration": 215,
    "start_time": "2024-11-12T06:00:33.371Z"
   },
   {
    "duration": 109,
    "start_time": "2024-11-12T06:00:36.832Z"
   },
   {
    "duration": 28,
    "start_time": "2024-11-12T06:00:42.265Z"
   },
   {
    "duration": 11,
    "start_time": "2024-11-12T06:00:50.247Z"
   },
   {
    "duration": 67,
    "start_time": "2024-11-12T06:00:55.013Z"
   },
   {
    "duration": 19,
    "start_time": "2024-11-12T06:01:03.121Z"
   },
   {
    "duration": 4,
    "start_time": "2024-11-12T06:01:16.980Z"
   },
   {
    "duration": 8,
    "start_time": "2024-11-12T06:01:19.676Z"
   },
   {
    "duration": 5,
    "start_time": "2024-11-12T06:01:23.616Z"
   },
   {
    "duration": 14,
    "start_time": "2024-11-12T06:01:26.249Z"
   },
   {
    "duration": 997,
    "start_time": "2024-11-12T06:01:30.587Z"
   },
   {
    "duration": 1029,
    "start_time": "2024-11-12T06:01:34.657Z"
   },
   {
    "duration": 45,
    "start_time": "2024-11-12T06:01:43.050Z"
   },
   {
    "duration": 16,
    "start_time": "2024-11-12T06:01:47.664Z"
   },
   {
    "duration": 10,
    "start_time": "2024-11-12T06:02:04.923Z"
   },
   {
    "duration": 15,
    "start_time": "2024-11-12T06:02:12.059Z"
   },
   {
    "duration": 13,
    "start_time": "2024-11-12T06:02:17.771Z"
   },
   {
    "duration": 24,
    "start_time": "2024-11-12T06:02:23.393Z"
   },
   {
    "duration": 66,
    "start_time": "2024-11-12T06:02:33.220Z"
   },
   {
    "duration": 38,
    "start_time": "2024-11-12T06:02:41.088Z"
   },
   {
    "duration": 10,
    "start_time": "2024-11-12T06:02:52.489Z"
   },
   {
    "duration": 11,
    "start_time": "2024-11-12T06:02:55.792Z"
   },
   {
    "duration": 59,
    "start_time": "2024-11-12T06:03:05.573Z"
   },
   {
    "duration": 38,
    "start_time": "2024-11-12T06:03:11.851Z"
   },
   {
    "duration": 71,
    "start_time": "2024-11-12T06:05:51.855Z"
   },
   {
    "duration": 42,
    "start_time": "2024-11-12T06:06:05.551Z"
   },
   {
    "duration": 12,
    "start_time": "2024-11-12T06:06:57.026Z"
   },
   {
    "duration": 7,
    "start_time": "2024-11-12T06:07:38.038Z"
   },
   {
    "duration": 25,
    "start_time": "2024-11-12T06:08:24.987Z"
   },
   {
    "duration": 42,
    "start_time": "2024-11-12T06:08:47.917Z"
   },
   {
    "duration": 6,
    "start_time": "2024-11-12T06:09:50.932Z"
   },
   {
    "duration": 63,
    "start_time": "2024-11-12T06:10:50.004Z"
   },
   {
    "duration": 83,
    "start_time": "2024-11-12T06:12:05.583Z"
   },
   {
    "duration": 83,
    "start_time": "2024-11-12T06:12:23.524Z"
   },
   {
    "duration": 28,
    "start_time": "2024-11-12T06:13:06.076Z"
   },
   {
    "duration": 525,
    "start_time": "2024-11-12T06:13:41.193Z"
   },
   {
    "duration": 1079,
    "start_time": "2024-11-12T06:13:41.720Z"
   },
   {
    "duration": 21,
    "start_time": "2024-11-12T06:13:42.801Z"
   },
   {
    "duration": 17,
    "start_time": "2024-11-12T06:13:42.824Z"
   },
   {
    "duration": 33,
    "start_time": "2024-11-12T06:13:42.853Z"
   },
   {
    "duration": 11,
    "start_time": "2024-11-12T06:13:42.889Z"
   },
   {
    "duration": 26,
    "start_time": "2024-11-12T06:13:42.902Z"
   },
   {
    "duration": 109,
    "start_time": "2024-11-12T06:13:42.929Z"
   },
   {
    "duration": 126,
    "start_time": "2024-11-12T06:13:43.040Z"
   },
   {
    "duration": 53,
    "start_time": "2024-11-12T06:13:43.168Z"
   },
   {
    "duration": 202,
    "start_time": "2024-11-12T06:13:43.223Z"
   },
   {
    "duration": 140,
    "start_time": "2024-11-12T06:13:43.427Z"
   },
   {
    "duration": 13,
    "start_time": "2024-11-12T06:13:43.569Z"
   },
   {
    "duration": 5,
    "start_time": "2024-11-12T06:13:43.586Z"
   },
   {
    "duration": 29,
    "start_time": "2024-11-12T06:13:43.594Z"
   },
   {
    "duration": 42,
    "start_time": "2024-11-12T06:13:43.624Z"
   },
   {
    "duration": 7,
    "start_time": "2024-11-12T06:13:43.667Z"
   },
   {
    "duration": 11,
    "start_time": "2024-11-12T06:13:43.675Z"
   },
   {
    "duration": 3,
    "start_time": "2024-11-12T06:13:43.687Z"
   },
   {
    "duration": 6,
    "start_time": "2024-11-12T06:13:43.692Z"
   },
   {
    "duration": 982,
    "start_time": "2024-11-12T06:13:43.700Z"
   },
   {
    "duration": 987,
    "start_time": "2024-11-12T06:13:44.683Z"
   },
   {
    "duration": 36,
    "start_time": "2024-11-12T06:13:45.671Z"
   },
   {
    "duration": 9,
    "start_time": "2024-11-12T06:13:45.709Z"
   },
   {
    "duration": 10,
    "start_time": "2024-11-12T06:13:45.720Z"
   },
   {
    "duration": 39,
    "start_time": "2024-11-12T06:13:45.731Z"
   },
   {
    "duration": 16,
    "start_time": "2024-11-12T06:13:45.771Z"
   },
   {
    "duration": 18,
    "start_time": "2024-11-12T06:13:45.789Z"
   },
   {
    "duration": 50,
    "start_time": "2024-11-12T06:13:45.809Z"
   },
   {
    "duration": 44,
    "start_time": "2024-11-12T06:13:45.861Z"
   },
   {
    "duration": 9,
    "start_time": "2024-11-12T06:13:45.907Z"
   },
   {
    "duration": 12,
    "start_time": "2024-11-12T06:13:45.918Z"
   },
   {
    "duration": 85,
    "start_time": "2024-11-12T06:13:45.946Z"
   },
   {
    "duration": 53,
    "start_time": "2024-11-12T06:13:46.033Z"
   },
   {
    "duration": 12,
    "start_time": "2024-11-12T06:13:46.091Z"
   },
   {
    "duration": 4,
    "start_time": "2024-11-12T06:13:46.105Z"
   },
   {
    "duration": 26,
    "start_time": "2024-11-12T06:13:46.112Z"
   },
   {
    "duration": 27,
    "start_time": "2024-11-12T06:13:46.151Z"
   },
   {
    "duration": 109,
    "start_time": "2024-11-12T06:13:46.181Z"
   },
   {
    "duration": 104,
    "start_time": "2024-11-12T06:13:46.292Z"
   },
   {
    "duration": 235,
    "start_time": "2024-11-12T06:13:46.403Z"
   },
   {
    "duration": 133,
    "start_time": "2024-11-12T06:13:46.651Z"
   },
   {
    "duration": 481,
    "start_time": "2024-11-12T06:13:46.785Z"
   },
   {
    "duration": 20,
    "start_time": "2024-11-12T06:13:47.267Z"
   },
   {
    "duration": 10,
    "start_time": "2024-11-12T06:13:47.289Z"
   },
   {
    "duration": 261,
    "start_time": "2024-11-12T06:13:47.301Z"
   },
   {
    "duration": 728,
    "start_time": "2024-11-12T06:13:47.566Z"
   },
   {
    "duration": 308,
    "start_time": "2024-11-12T06:13:48.297Z"
   },
   {
    "duration": 252,
    "start_time": "2024-11-12T06:13:48.607Z"
   },
   {
    "duration": 331,
    "start_time": "2024-11-12T06:13:48.863Z"
   },
   {
    "duration": 6,
    "start_time": "2024-11-12T06:13:49.198Z"
   },
   {
    "duration": 119,
    "start_time": "2024-11-12T06:13:49.205Z"
   },
   {
    "duration": 152,
    "start_time": "2024-11-12T06:13:49.326Z"
   },
   {
    "duration": 51,
    "start_time": "2024-11-12T06:13:49.482Z"
   },
   {
    "duration": 14,
    "start_time": "2024-11-12T06:13:49.535Z"
   },
   {
    "duration": 204,
    "start_time": "2024-11-12T06:13:49.550Z"
   },
   {
    "duration": 949,
    "start_time": "2024-11-12T06:13:49.755Z"
   },
   {
    "duration": 221,
    "start_time": "2024-11-12T06:13:50.705Z"
   },
   {
    "duration": 33,
    "start_time": "2024-11-12T06:13:50.928Z"
   },
   {
    "duration": 97,
    "start_time": "2024-11-12T06:25:06.416Z"
   },
   {
    "duration": 458,
    "start_time": "2024-11-12T06:25:39.333Z"
   },
   {
    "duration": 1215,
    "start_time": "2024-11-12T06:25:39.793Z"
   },
   {
    "duration": 21,
    "start_time": "2024-11-12T06:25:41.009Z"
   },
   {
    "duration": 42,
    "start_time": "2024-11-12T06:25:41.032Z"
   },
   {
    "duration": 19,
    "start_time": "2024-11-12T06:25:41.091Z"
   },
   {
    "duration": 12,
    "start_time": "2024-11-12T06:25:41.112Z"
   },
   {
    "duration": 62,
    "start_time": "2024-11-12T06:25:41.126Z"
   },
   {
    "duration": 133,
    "start_time": "2024-11-12T06:25:41.199Z"
   },
   {
    "duration": 141,
    "start_time": "2024-11-12T06:25:41.335Z"
   },
   {
    "duration": 94,
    "start_time": "2024-11-12T06:25:41.492Z"
   },
   {
    "duration": 245,
    "start_time": "2024-11-12T06:25:41.587Z"
   },
   {
    "duration": 156,
    "start_time": "2024-11-12T06:25:41.834Z"
   },
   {
    "duration": 18,
    "start_time": "2024-11-12T06:25:41.992Z"
   },
   {
    "duration": 5,
    "start_time": "2024-11-12T06:25:42.012Z"
   },
   {
    "duration": 63,
    "start_time": "2024-11-12T06:25:42.019Z"
   },
   {
    "duration": 18,
    "start_time": "2024-11-12T06:25:42.095Z"
   },
   {
    "duration": 4,
    "start_time": "2024-11-12T06:25:42.115Z"
   },
   {
    "duration": 6,
    "start_time": "2024-11-12T06:25:42.121Z"
   },
   {
    "duration": 5,
    "start_time": "2024-11-12T06:25:42.128Z"
   },
   {
    "duration": 6,
    "start_time": "2024-11-12T06:25:42.135Z"
   },
   {
    "duration": 1178,
    "start_time": "2024-11-12T06:25:42.143Z"
   },
   {
    "duration": 1154,
    "start_time": "2024-11-12T06:25:43.324Z"
   },
   {
    "duration": 45,
    "start_time": "2024-11-12T06:25:44.480Z"
   },
   {
    "duration": 10,
    "start_time": "2024-11-12T06:25:44.527Z"
   },
   {
    "duration": 39,
    "start_time": "2024-11-12T06:25:44.543Z"
   },
   {
    "duration": 13,
    "start_time": "2024-11-12T06:25:44.585Z"
   },
   {
    "duration": 14,
    "start_time": "2024-11-12T06:25:44.600Z"
   },
   {
    "duration": 53,
    "start_time": "2024-11-12T06:25:44.619Z"
   },
   {
    "duration": 79,
    "start_time": "2024-11-12T06:25:44.674Z"
   },
   {
    "duration": 66,
    "start_time": "2024-11-12T06:25:44.755Z"
   },
   {
    "duration": 11,
    "start_time": "2024-11-12T06:25:44.823Z"
   },
   {
    "duration": 12,
    "start_time": "2024-11-12T06:25:44.836Z"
   },
   {
    "duration": 119,
    "start_time": "2024-11-12T06:25:44.851Z"
   },
   {
    "duration": 42,
    "start_time": "2024-11-12T06:25:44.971Z"
   },
   {
    "duration": 12,
    "start_time": "2024-11-12T06:25:45.015Z"
   },
   {
    "duration": 4,
    "start_time": "2024-11-12T06:25:45.029Z"
   },
   {
    "duration": 64,
    "start_time": "2024-11-12T06:25:45.035Z"
   },
   {
    "duration": 6,
    "start_time": "2024-11-12T06:25:45.101Z"
   },
   {
    "duration": 100,
    "start_time": "2024-11-12T06:25:45.109Z"
   },
   {
    "duration": 96,
    "start_time": "2024-11-12T06:25:45.213Z"
   },
   {
    "duration": 286,
    "start_time": "2024-11-12T06:25:45.312Z"
   },
   {
    "duration": 184,
    "start_time": "2024-11-12T06:25:45.606Z"
   },
   {
    "duration": 502,
    "start_time": "2024-11-12T06:25:45.792Z"
   },
   {
    "duration": 11,
    "start_time": "2024-11-12T06:25:46.296Z"
   },
   {
    "duration": 17,
    "start_time": "2024-11-12T06:25:46.309Z"
   },
   {
    "duration": 394,
    "start_time": "2024-11-12T06:25:46.328Z"
   },
   {
    "duration": 866,
    "start_time": "2024-11-12T06:25:46.724Z"
   },
   {
    "duration": 330,
    "start_time": "2024-11-12T06:25:47.596Z"
   },
   {
    "duration": 262,
    "start_time": "2024-11-12T06:25:47.928Z"
   },
   {
    "duration": 359,
    "start_time": "2024-11-12T06:25:48.195Z"
   },
   {
    "duration": 18,
    "start_time": "2024-11-12T06:25:48.557Z"
   },
   {
    "duration": 130,
    "start_time": "2024-11-12T06:25:48.584Z"
   },
   {
    "duration": 131,
    "start_time": "2024-11-12T06:25:48.716Z"
   },
   {
    "duration": 76,
    "start_time": "2024-11-12T06:25:48.849Z"
   },
   {
    "duration": 61,
    "start_time": "2024-11-12T06:25:48.927Z"
   },
   {
    "duration": 263,
    "start_time": "2024-11-12T06:25:48.990Z"
   },
   {
    "duration": 1079,
    "start_time": "2024-11-12T06:25:49.259Z"
   },
   {
    "duration": 296,
    "start_time": "2024-11-12T06:25:50.343Z"
   },
   {
    "duration": 14,
    "start_time": "2024-11-12T06:25:50.641Z"
   },
   {
    "duration": 953,
    "start_time": "2024-11-12T06:34:37.947Z"
   },
   {
    "duration": 179,
    "start_time": "2024-11-12T06:35:14.538Z"
   },
   {
    "duration": 184,
    "start_time": "2024-11-12T06:37:39.529Z"
   },
   {
    "duration": 193,
    "start_time": "2024-11-12T06:37:52.673Z"
   },
   {
    "duration": 195,
    "start_time": "2024-11-12T06:38:07.071Z"
   },
   {
    "duration": 188,
    "start_time": "2024-11-12T06:39:26.441Z"
   },
   {
    "duration": 209,
    "start_time": "2024-11-12T06:39:38.265Z"
   },
   {
    "duration": 215,
    "start_time": "2024-11-12T06:40:58.789Z"
   },
   {
    "duration": 276,
    "start_time": "2024-11-12T06:41:34.406Z"
   },
   {
    "duration": 275,
    "start_time": "2024-11-12T06:42:39.816Z"
   },
   {
    "duration": 196,
    "start_time": "2024-11-12T06:42:59.740Z"
   },
   {
    "duration": 328,
    "start_time": "2024-11-12T06:43:17.075Z"
   },
   {
    "duration": 215,
    "start_time": "2024-11-12T06:47:44.800Z"
   },
   {
    "duration": 11,
    "start_time": "2024-11-12T06:51:06.587Z"
   },
   {
    "duration": 15,
    "start_time": "2024-11-12T06:51:10.336Z"
   },
   {
    "duration": 26,
    "start_time": "2024-11-12T06:54:57.864Z"
   },
   {
    "duration": 39,
    "start_time": "2024-11-12T06:55:24.647Z"
   },
   {
    "duration": 21,
    "start_time": "2024-11-12T06:55:46.161Z"
   },
   {
    "duration": 11,
    "start_time": "2024-11-12T06:56:01.496Z"
   },
   {
    "duration": 11,
    "start_time": "2024-11-12T07:00:04.206Z"
   },
   {
    "duration": 179,
    "start_time": "2024-11-12T07:00:16.931Z"
   },
   {
    "duration": 200,
    "start_time": "2024-11-12T07:01:47.471Z"
   },
   {
    "duration": 242,
    "start_time": "2024-11-12T07:02:37.732Z"
   },
   {
    "duration": 184,
    "start_time": "2024-11-12T07:02:50.994Z"
   },
   {
    "duration": 230,
    "start_time": "2024-11-12T07:03:05.257Z"
   },
   {
    "duration": 212,
    "start_time": "2024-11-12T07:10:43.920Z"
   },
   {
    "duration": 600,
    "start_time": "2024-11-12T07:24:39.383Z"
   },
   {
    "duration": 618,
    "start_time": "2024-11-12T07:24:56.584Z"
   },
   {
    "duration": 405,
    "start_time": "2024-11-12T07:25:04.383Z"
   },
   {
    "duration": 217,
    "start_time": "2024-11-12T07:25:23.193Z"
   },
   {
    "duration": 261,
    "start_time": "2024-11-12T07:25:36.455Z"
   },
   {
    "duration": 159,
    "start_time": "2024-11-12T07:25:46.291Z"
   },
   {
    "duration": 197,
    "start_time": "2024-11-12T07:25:54.895Z"
   },
   {
    "duration": 209,
    "start_time": "2024-11-12T07:26:06.295Z"
   },
   {
    "duration": 229,
    "start_time": "2024-11-12T07:26:16.466Z"
   },
   {
    "duration": 223,
    "start_time": "2024-11-12T07:26:26.286Z"
   },
   {
    "duration": 1141,
    "start_time": "2024-11-12T07:29:21.641Z"
   },
   {
    "duration": 13,
    "start_time": "2024-11-12T07:30:25.898Z"
   },
   {
    "duration": 9,
    "start_time": "2024-11-12T07:35:44.987Z"
   },
   {
    "duration": 4,
    "start_time": "2024-11-12T07:36:01.492Z"
   },
   {
    "duration": 1009,
    "start_time": "2024-11-12T07:36:07.795Z"
   },
   {
    "duration": 1473,
    "start_time": "2024-11-12T07:37:55.040Z"
   },
   {
    "duration": 509,
    "start_time": "2024-11-12T07:45:28.003Z"
   },
   {
    "duration": 527,
    "start_time": "2024-11-12T07:47:40.282Z"
   },
   {
    "duration": 4,
    "start_time": "2024-11-12T07:53:14.995Z"
   },
   {
    "duration": 4,
    "start_time": "2024-11-12T07:53:24.189Z"
   },
   {
    "duration": 4,
    "start_time": "2024-11-12T07:53:33.981Z"
   },
   {
    "duration": 399,
    "start_time": "2024-11-12T07:53:50.193Z"
   },
   {
    "duration": 73,
    "start_time": "2024-11-12T07:54:40.713Z"
   },
   {
    "duration": 385,
    "start_time": "2024-11-12T07:54:44.616Z"
   },
   {
    "duration": 406,
    "start_time": "2024-11-12T07:56:30.914Z"
   },
   {
    "duration": 88,
    "start_time": "2024-11-12T07:56:35.082Z"
   },
   {
    "duration": 415,
    "start_time": "2024-11-12T07:56:38.155Z"
   },
   {
    "duration": 213,
    "start_time": "2024-11-12T08:01:04.768Z"
   },
   {
    "duration": 13,
    "start_time": "2024-11-12T08:01:24.307Z"
   },
   {
    "duration": 4,
    "start_time": "2024-11-12T08:04:45.231Z"
   },
   {
    "duration": 3,
    "start_time": "2024-11-12T08:05:23.674Z"
   },
   {
    "duration": 14,
    "start_time": "2024-11-12T08:05:36.775Z"
   },
   {
    "duration": 4,
    "start_time": "2024-11-12T08:05:51.006Z"
   },
   {
    "duration": 50,
    "start_time": "2024-11-12T08:06:07.933Z"
   },
   {
    "duration": 15,
    "start_time": "2024-11-12T08:06:59.067Z"
   },
   {
    "duration": 5,
    "start_time": "2024-11-12T08:07:06.941Z"
   },
   {
    "duration": 4,
    "start_time": "2024-11-12T08:07:51.077Z"
   },
   {
    "duration": 2,
    "start_time": "2024-11-12T08:08:02.820Z"
   },
   {
    "duration": 4,
    "start_time": "2024-11-12T08:08:18.614Z"
   },
   {
    "duration": 20,
    "start_time": "2024-11-12T08:10:23.138Z"
   },
   {
    "duration": 132,
    "start_time": "2024-11-12T08:10:45.670Z"
   },
   {
    "duration": 107,
    "start_time": "2024-11-12T08:11:17.077Z"
   },
   {
    "duration": 282,
    "start_time": "2024-11-12T08:14:28.589Z"
   },
   {
    "duration": 269,
    "start_time": "2024-11-12T08:14:57.861Z"
   },
   {
    "duration": 317,
    "start_time": "2024-11-12T08:15:22.401Z"
   },
   {
    "duration": 297,
    "start_time": "2024-11-12T08:15:43.451Z"
   },
   {
    "duration": 362,
    "start_time": "2024-11-12T08:19:04.741Z"
   },
   {
    "duration": 435,
    "start_time": "2024-11-12T08:20:27.102Z"
   },
   {
    "duration": 1063,
    "start_time": "2024-11-12T08:20:27.539Z"
   },
   {
    "duration": 42,
    "start_time": "2024-11-12T08:20:28.604Z"
   },
   {
    "duration": 33,
    "start_time": "2024-11-12T08:20:28.648Z"
   },
   {
    "duration": 10,
    "start_time": "2024-11-12T08:20:28.683Z"
   },
   {
    "duration": 11,
    "start_time": "2024-11-12T08:20:28.694Z"
   },
   {
    "duration": 27,
    "start_time": "2024-11-12T08:20:28.706Z"
   },
   {
    "duration": 106,
    "start_time": "2024-11-12T08:20:28.735Z"
   },
   {
    "duration": 116,
    "start_time": "2024-11-12T08:20:28.854Z"
   },
   {
    "duration": 47,
    "start_time": "2024-11-12T08:20:28.974Z"
   },
   {
    "duration": 208,
    "start_time": "2024-11-12T08:20:29.023Z"
   },
   {
    "duration": 122,
    "start_time": "2024-11-12T08:20:29.233Z"
   },
   {
    "duration": 22,
    "start_time": "2024-11-12T08:20:29.356Z"
   },
   {
    "duration": 8,
    "start_time": "2024-11-12T08:20:29.379Z"
   },
   {
    "duration": 28,
    "start_time": "2024-11-12T08:20:29.388Z"
   },
   {
    "duration": 14,
    "start_time": "2024-11-12T08:20:29.417Z"
   },
   {
    "duration": 20,
    "start_time": "2024-11-12T08:20:29.450Z"
   },
   {
    "duration": 6,
    "start_time": "2024-11-12T08:20:29.471Z"
   },
   {
    "duration": 3,
    "start_time": "2024-11-12T08:20:29.479Z"
   },
   {
    "duration": 6,
    "start_time": "2024-11-12T08:20:29.484Z"
   },
   {
    "duration": 831,
    "start_time": "2024-11-12T08:20:29.492Z"
   },
   {
    "duration": 912,
    "start_time": "2024-11-12T08:20:30.325Z"
   },
   {
    "duration": 42,
    "start_time": "2024-11-12T08:20:31.239Z"
   },
   {
    "duration": 9,
    "start_time": "2024-11-12T08:20:31.283Z"
   },
   {
    "duration": 9,
    "start_time": "2024-11-12T08:20:31.293Z"
   },
   {
    "duration": 7,
    "start_time": "2024-11-12T08:20:31.304Z"
   },
   {
    "duration": 9,
    "start_time": "2024-11-12T08:20:31.312Z"
   },
   {
    "duration": 47,
    "start_time": "2024-11-12T08:20:31.325Z"
   },
   {
    "duration": 51,
    "start_time": "2024-11-12T08:20:31.375Z"
   },
   {
    "duration": 51,
    "start_time": "2024-11-12T08:20:31.427Z"
   },
   {
    "duration": 8,
    "start_time": "2024-11-12T08:20:31.480Z"
   },
   {
    "duration": 10,
    "start_time": "2024-11-12T08:20:31.489Z"
   },
   {
    "duration": 86,
    "start_time": "2024-11-12T08:20:31.501Z"
   },
   {
    "duration": 23,
    "start_time": "2024-11-12T08:20:31.589Z"
   },
   {
    "duration": 11,
    "start_time": "2024-11-12T08:20:31.613Z"
   },
   {
    "duration": 18,
    "start_time": "2024-11-12T08:20:31.652Z"
   },
   {
    "duration": 25,
    "start_time": "2024-11-12T08:20:31.672Z"
   },
   {
    "duration": 5,
    "start_time": "2024-11-12T08:20:31.698Z"
   },
   {
    "duration": 110,
    "start_time": "2024-11-12T08:20:31.706Z"
   },
   {
    "duration": 76,
    "start_time": "2024-11-12T08:20:31.818Z"
   },
   {
    "duration": 213,
    "start_time": "2024-11-12T08:20:31.896Z"
   },
   {
    "duration": 127,
    "start_time": "2024-11-12T08:20:32.111Z"
   },
   {
    "duration": 177,
    "start_time": "2024-11-12T08:20:32.239Z"
   },
   {
    "duration": 9,
    "start_time": "2024-11-12T08:20:32.417Z"
   },
   {
    "duration": 24,
    "start_time": "2024-11-12T08:20:32.427Z"
   },
   {
    "duration": 220,
    "start_time": "2024-11-12T08:20:32.452Z"
   },
   {
    "duration": 197,
    "start_time": "2024-11-12T08:20:32.673Z"
   },
   {
    "duration": 708,
    "start_time": "2024-11-12T08:20:32.871Z"
   },
   {
    "duration": 289,
    "start_time": "2024-11-12T08:20:33.581Z"
   },
   {
    "duration": 219,
    "start_time": "2024-11-12T08:20:33.873Z"
   },
   {
    "duration": 282,
    "start_time": "2024-11-12T08:20:34.094Z"
   },
   {
    "duration": 5,
    "start_time": "2024-11-12T08:20:34.378Z"
   },
   {
    "duration": 1234,
    "start_time": "2024-11-12T08:20:34.384Z"
   },
   {
    "duration": 120,
    "start_time": "2024-11-12T08:20:35.620Z"
   },
   {
    "duration": 56,
    "start_time": "2024-11-12T08:20:35.743Z"
   },
   {
    "duration": 12,
    "start_time": "2024-11-12T08:20:35.801Z"
   },
   {
    "duration": 204,
    "start_time": "2024-11-12T08:20:35.814Z"
   },
   {
    "duration": 548,
    "start_time": "2024-11-12T08:20:36.020Z"
   },
   {
    "duration": 325,
    "start_time": "2024-11-12T08:20:36.570Z"
   },
   {
    "duration": 331,
    "start_time": "2024-11-12T08:20:36.898Z"
   },
   {
    "duration": 753,
    "start_time": "2024-11-12T08:20:37.231Z"
   },
   {
    "duration": 187,
    "start_time": "2024-11-12T08:20:37.986Z"
   },
   {
    "duration": 6,
    "start_time": "2024-11-12T08:20:38.174Z"
   },
   {
    "duration": 269,
    "start_time": "2024-11-12T08:21:55.001Z"
   },
   {
    "duration": 327,
    "start_time": "2024-11-12T08:22:03.867Z"
   },
   {
    "duration": 770,
    "start_time": "2024-11-12T08:23:39.405Z"
   },
   {
    "duration": 776,
    "start_time": "2024-11-12T08:23:59.082Z"
   },
   {
    "duration": 9,
    "start_time": "2024-11-12T08:26:14.348Z"
   },
   {
    "duration": 6,
    "start_time": "2024-11-12T08:26:18.283Z"
   },
   {
    "duration": 452,
    "start_time": "2024-11-12T08:31:28.239Z"
   },
   {
    "duration": 597,
    "start_time": "2024-11-12T08:36:46.310Z"
   },
   {
    "duration": 584,
    "start_time": "2024-11-12T08:37:15.539Z"
   },
   {
    "duration": 39,
    "start_time": "2024-11-12T08:39:44.498Z"
   },
   {
    "duration": 3,
    "start_time": "2024-11-12T08:42:46.767Z"
   },
   {
    "duration": 608,
    "start_time": "2024-11-12T08:43:29.308Z"
   },
   {
    "duration": 49,
    "start_time": "2024-11-12T08:43:47.419Z"
   },
   {
    "duration": 202,
    "start_time": "2024-11-12T08:44:18.764Z"
   },
   {
    "duration": 6,
    "start_time": "2024-11-12T08:52:14.401Z"
   },
   {
    "duration": 10,
    "start_time": "2024-11-12T08:52:32.052Z"
   },
   {
    "duration": 477,
    "start_time": "2024-11-12T08:52:54.920Z"
   },
   {
    "duration": 271,
    "start_time": "2024-11-12T08:52:59.901Z"
   },
   {
    "duration": 213,
    "start_time": "2024-11-12T08:53:06.287Z"
   },
   {
    "duration": 238,
    "start_time": "2024-11-12T08:53:17.866Z"
   },
   {
    "duration": 5,
    "start_time": "2024-11-12T08:53:22.330Z"
   },
   {
    "duration": 1152,
    "start_time": "2024-11-12T08:53:25.748Z"
   },
   {
    "duration": 551,
    "start_time": "2024-11-12T08:56:25.057Z"
   },
   {
    "duration": 57,
    "start_time": "2024-11-12T08:56:27.231Z"
   },
   {
    "duration": 221,
    "start_time": "2024-11-12T08:56:30.555Z"
   },
   {
    "duration": 427,
    "start_time": "2024-11-12T16:47:20.164Z"
   },
   {
    "duration": 1006,
    "start_time": "2024-11-12T16:47:20.592Z"
   },
   {
    "duration": 17,
    "start_time": "2024-11-12T16:47:21.600Z"
   },
   {
    "duration": 13,
    "start_time": "2024-11-12T16:47:21.619Z"
   },
   {
    "duration": 10,
    "start_time": "2024-11-12T16:47:21.634Z"
   },
   {
    "duration": 11,
    "start_time": "2024-11-12T16:47:21.645Z"
   },
   {
    "duration": 53,
    "start_time": "2024-11-12T16:47:21.657Z"
   },
   {
    "duration": 98,
    "start_time": "2024-11-12T16:47:21.711Z"
   },
   {
    "duration": 83,
    "start_time": "2024-11-12T16:47:21.811Z"
   },
   {
    "duration": 52,
    "start_time": "2024-11-12T16:47:21.898Z"
   },
   {
    "duration": 197,
    "start_time": "2024-11-12T16:47:21.952Z"
   },
   {
    "duration": 97,
    "start_time": "2024-11-12T16:47:22.151Z"
   },
   {
    "duration": 13,
    "start_time": "2024-11-12T16:47:22.250Z"
   },
   {
    "duration": 6,
    "start_time": "2024-11-12T16:47:22.264Z"
   },
   {
    "duration": 45,
    "start_time": "2024-11-12T16:47:22.271Z"
   },
   {
    "duration": 13,
    "start_time": "2024-11-12T16:47:22.317Z"
   },
   {
    "duration": 4,
    "start_time": "2024-11-12T16:47:22.331Z"
   },
   {
    "duration": 6,
    "start_time": "2024-11-12T16:47:22.336Z"
   },
   {
    "duration": 3,
    "start_time": "2024-11-12T16:47:22.343Z"
   },
   {
    "duration": 7,
    "start_time": "2024-11-12T16:47:22.348Z"
   },
   {
    "duration": 802,
    "start_time": "2024-11-12T16:47:22.356Z"
   },
   {
    "duration": 797,
    "start_time": "2024-11-12T16:47:23.160Z"
   },
   {
    "duration": 24,
    "start_time": "2024-11-12T16:47:23.958Z"
   },
   {
    "duration": 26,
    "start_time": "2024-11-12T16:47:23.984Z"
   },
   {
    "duration": 9,
    "start_time": "2024-11-12T16:47:24.011Z"
   },
   {
    "duration": 7,
    "start_time": "2024-11-12T16:47:24.021Z"
   },
   {
    "duration": 9,
    "start_time": "2024-11-12T16:47:24.029Z"
   },
   {
    "duration": 17,
    "start_time": "2024-11-12T16:47:24.042Z"
   },
   {
    "duration": 74,
    "start_time": "2024-11-12T16:47:24.061Z"
   },
   {
    "duration": 41,
    "start_time": "2024-11-12T16:47:24.137Z"
   },
   {
    "duration": 7,
    "start_time": "2024-11-12T16:47:24.179Z"
   },
   {
    "duration": 29,
    "start_time": "2024-11-12T16:47:24.188Z"
   },
   {
    "duration": 58,
    "start_time": "2024-11-12T16:47:24.218Z"
   },
   {
    "duration": 57,
    "start_time": "2024-11-12T16:47:24.278Z"
   },
   {
    "duration": 12,
    "start_time": "2024-11-12T16:47:24.338Z"
   },
   {
    "duration": 5,
    "start_time": "2024-11-12T16:47:24.351Z"
   },
   {
    "duration": 25,
    "start_time": "2024-11-12T16:47:24.357Z"
   },
   {
    "duration": 26,
    "start_time": "2024-11-12T16:47:24.384Z"
   },
   {
    "duration": 81,
    "start_time": "2024-11-12T16:47:24.411Z"
   },
   {
    "duration": 85,
    "start_time": "2024-11-12T16:47:24.494Z"
   },
   {
    "duration": 199,
    "start_time": "2024-11-12T16:47:24.581Z"
   },
   {
    "duration": 114,
    "start_time": "2024-11-12T16:47:24.781Z"
   },
   {
    "duration": 171,
    "start_time": "2024-11-12T16:47:24.896Z"
   },
   {
    "duration": 8,
    "start_time": "2024-11-12T16:47:25.069Z"
   },
   {
    "duration": 8,
    "start_time": "2024-11-12T16:47:25.079Z"
   },
   {
    "duration": 233,
    "start_time": "2024-11-12T16:47:25.089Z"
   },
   {
    "duration": 186,
    "start_time": "2024-11-12T16:47:25.324Z"
   },
   {
    "duration": 646,
    "start_time": "2024-11-12T16:47:25.512Z"
   },
   {
    "duration": 275,
    "start_time": "2024-11-12T16:47:26.160Z"
   },
   {
    "duration": 224,
    "start_time": "2024-11-12T16:47:26.437Z"
   },
   {
    "duration": 242,
    "start_time": "2024-11-12T16:47:26.663Z"
   },
   {
    "duration": 6,
    "start_time": "2024-11-12T16:47:26.906Z"
   },
   {
    "duration": 1222,
    "start_time": "2024-11-12T16:47:26.913Z"
   },
   {
    "duration": 116,
    "start_time": "2024-11-12T16:47:28.138Z"
   },
   {
    "duration": 56,
    "start_time": "2024-11-12T16:47:28.256Z"
   },
   {
    "duration": 12,
    "start_time": "2024-11-12T16:47:28.314Z"
   },
   {
    "duration": 199,
    "start_time": "2024-11-12T16:47:28.328Z"
   },
   {
    "duration": 492,
    "start_time": "2024-11-12T16:47:28.529Z"
   },
   {
    "duration": 316,
    "start_time": "2024-11-12T16:47:29.022Z"
   },
   {
    "duration": 319,
    "start_time": "2024-11-12T16:47:29.340Z"
   },
   {
    "duration": 759,
    "start_time": "2024-11-12T16:47:29.660Z"
   },
   {
    "duration": 177,
    "start_time": "2024-11-12T16:47:30.420Z"
   },
   {
    "duration": 5,
    "start_time": "2024-11-12T16:47:30.599Z"
   },
   {
    "duration": 515,
    "start_time": "2024-11-12T16:47:30.608Z"
   },
   {
    "duration": 40,
    "start_time": "2024-11-12T16:47:31.125Z"
   },
   {
    "duration": 205,
    "start_time": "2024-11-12T16:47:31.166Z"
   },
   {
    "duration": 831,
    "start_time": "2024-11-12T16:48:11.346Z"
   },
   {
    "duration": 1090,
    "start_time": "2024-11-12T16:48:24.536Z"
   },
   {
    "duration": 814,
    "start_time": "2024-11-12T16:51:04.738Z"
   },
   {
    "duration": 346,
    "start_time": "2024-11-12T16:53:17.035Z"
   },
   {
    "duration": 230,
    "start_time": "2024-11-12T16:54:40.668Z"
   },
   {
    "duration": 291,
    "start_time": "2024-11-12T16:57:39.034Z"
   },
   {
    "duration": 293,
    "start_time": "2024-11-12T16:57:56.586Z"
   },
   {
    "duration": 431,
    "start_time": "2024-11-12T16:58:11.908Z"
   },
   {
    "duration": 647,
    "start_time": "2024-11-12T16:58:37.174Z"
   },
   {
    "duration": 550,
    "start_time": "2024-11-12T16:58:48.859Z"
   },
   {
    "duration": 258,
    "start_time": "2024-11-12T16:58:57.489Z"
   },
   {
    "duration": 39,
    "start_time": "2024-11-12T17:08:26.781Z"
   },
   {
    "duration": 460,
    "start_time": "2024-11-12T17:08:32.532Z"
   },
   {
    "duration": 183,
    "start_time": "2024-11-12T18:45:19.700Z"
   },
   {
    "duration": 2223,
    "start_time": "2024-11-14T01:45:31.751Z"
   },
   {
    "duration": 1001,
    "start_time": "2024-11-14T01:45:33.977Z"
   },
   {
    "duration": 18,
    "start_time": "2024-11-14T01:45:34.980Z"
   },
   {
    "duration": 13,
    "start_time": "2024-11-14T01:45:35.000Z"
   },
   {
    "duration": 12,
    "start_time": "2024-11-14T01:45:35.015Z"
   },
   {
    "duration": 10,
    "start_time": "2024-11-14T01:45:35.029Z"
   },
   {
    "duration": 58,
    "start_time": "2024-11-14T01:45:35.041Z"
   },
   {
    "duration": 87,
    "start_time": "2024-11-14T01:45:35.101Z"
   },
   {
    "duration": 97,
    "start_time": "2024-11-14T01:45:35.190Z"
   },
   {
    "duration": 46,
    "start_time": "2024-11-14T01:45:35.288Z"
   },
   {
    "duration": 193,
    "start_time": "2024-11-14T01:45:35.336Z"
   },
   {
    "duration": 98,
    "start_time": "2024-11-14T01:45:35.531Z"
   },
   {
    "duration": 11,
    "start_time": "2024-11-14T01:45:35.631Z"
   },
   {
    "duration": 5,
    "start_time": "2024-11-14T01:45:35.646Z"
   },
   {
    "duration": 42,
    "start_time": "2024-11-14T01:45:35.653Z"
   },
   {
    "duration": 13,
    "start_time": "2024-11-14T01:45:35.696Z"
   },
   {
    "duration": 3,
    "start_time": "2024-11-14T01:45:35.711Z"
   },
   {
    "duration": 6,
    "start_time": "2024-11-14T01:45:35.717Z"
   },
   {
    "duration": 4,
    "start_time": "2024-11-14T01:45:35.724Z"
   },
   {
    "duration": 10,
    "start_time": "2024-11-14T01:45:35.730Z"
   },
   {
    "duration": 790,
    "start_time": "2024-11-14T01:45:35.742Z"
   },
   {
    "duration": 789,
    "start_time": "2024-11-14T01:45:36.534Z"
   },
   {
    "duration": 23,
    "start_time": "2024-11-14T01:45:37.325Z"
   },
   {
    "duration": 9,
    "start_time": "2024-11-14T01:45:37.349Z"
   },
   {
    "duration": 30,
    "start_time": "2024-11-14T01:45:37.360Z"
   },
   {
    "duration": 7,
    "start_time": "2024-11-14T01:45:37.391Z"
   },
   {
    "duration": 8,
    "start_time": "2024-11-14T01:45:37.401Z"
   },
   {
    "duration": 18,
    "start_time": "2024-11-14T01:45:37.411Z"
   },
   {
    "duration": 73,
    "start_time": "2024-11-14T01:45:37.430Z"
   },
   {
    "duration": 36,
    "start_time": "2024-11-14T01:45:37.505Z"
   },
   {
    "duration": 8,
    "start_time": "2024-11-14T01:45:37.542Z"
   },
   {
    "duration": 11,
    "start_time": "2024-11-14T01:45:37.551Z"
   },
   {
    "duration": 57,
    "start_time": "2024-11-14T01:45:37.586Z"
   },
   {
    "duration": 23,
    "start_time": "2024-11-14T01:45:37.645Z"
   },
   {
    "duration": 11,
    "start_time": "2024-11-14T01:45:37.688Z"
   },
   {
    "duration": 4,
    "start_time": "2024-11-14T01:45:37.701Z"
   },
   {
    "duration": 25,
    "start_time": "2024-11-14T01:45:37.707Z"
   },
   {
    "duration": 9,
    "start_time": "2024-11-14T01:45:37.734Z"
   },
   {
    "duration": 96,
    "start_time": "2024-11-14T01:45:37.744Z"
   },
   {
    "duration": 83,
    "start_time": "2024-11-14T01:45:37.842Z"
   },
   {
    "duration": 223,
    "start_time": "2024-11-14T01:45:37.930Z"
   },
   {
    "duration": 112,
    "start_time": "2024-11-14T01:45:38.155Z"
   },
   {
    "duration": 208,
    "start_time": "2024-11-14T01:45:38.269Z"
   },
   {
    "duration": 9,
    "start_time": "2024-11-14T01:45:38.486Z"
   },
   {
    "duration": 10,
    "start_time": "2024-11-14T01:45:38.496Z"
   },
   {
    "duration": 219,
    "start_time": "2024-11-14T01:45:38.507Z"
   },
   {
    "duration": 181,
    "start_time": "2024-11-14T01:45:38.727Z"
   },
   {
    "duration": 630,
    "start_time": "2024-11-14T01:45:38.910Z"
   },
   {
    "duration": 255,
    "start_time": "2024-11-14T01:45:39.542Z"
   },
   {
    "duration": 216,
    "start_time": "2024-11-14T01:45:39.799Z"
   },
   {
    "duration": 227,
    "start_time": "2024-11-14T01:45:40.017Z"
   },
   {
    "duration": 6,
    "start_time": "2024-11-14T01:45:40.246Z"
   },
   {
    "duration": 840,
    "start_time": "2024-11-14T01:45:40.254Z"
   },
   {
    "duration": 116,
    "start_time": "2024-11-14T01:45:41.096Z"
   },
   {
    "duration": 49,
    "start_time": "2024-11-14T01:45:41.214Z"
   },
   {
    "duration": 26,
    "start_time": "2024-11-14T01:45:41.265Z"
   },
   {
    "duration": 198,
    "start_time": "2024-11-14T01:45:41.293Z"
   },
   {
    "duration": 473,
    "start_time": "2024-11-14T01:45:41.493Z"
   },
   {
    "duration": 313,
    "start_time": "2024-11-14T01:45:41.968Z"
   },
   {
    "duration": 317,
    "start_time": "2024-11-14T01:45:42.283Z"
   },
   {
    "duration": 736,
    "start_time": "2024-11-14T01:45:42.602Z"
   },
   {
    "duration": 204,
    "start_time": "2024-11-14T01:45:43.340Z"
   },
   {
    "duration": 6,
    "start_time": "2024-11-14T01:45:43.546Z"
   },
   {
    "duration": 520,
    "start_time": "2024-11-14T01:45:43.554Z"
   },
   {
    "duration": 41,
    "start_time": "2024-11-14T01:45:44.076Z"
   },
   {
    "duration": 203,
    "start_time": "2024-11-14T01:45:44.119Z"
   },
   {
    "duration": 10,
    "start_time": "2024-11-14T01:47:59.305Z"
   },
   {
    "duration": 186,
    "start_time": "2024-11-14T01:48:52.560Z"
   },
   {
    "duration": 14,
    "start_time": "2024-11-14T01:49:32.899Z"
   },
   {
    "duration": 3,
    "start_time": "2024-11-14T01:52:35.705Z"
   },
   {
    "duration": 4,
    "start_time": "2024-11-14T01:52:47.491Z"
   },
   {
    "duration": 168,
    "start_time": "2024-11-14T01:53:49.727Z"
   },
   {
    "duration": 17,
    "start_time": "2024-11-14T01:54:03.936Z"
   },
   {
    "duration": 17,
    "start_time": "2024-11-14T01:54:27.108Z"
   },
   {
    "duration": 14,
    "start_time": "2024-11-14T01:54:44.915Z"
   },
   {
    "duration": 655,
    "start_time": "2024-11-14T01:58:42.913Z"
   },
   {
    "duration": 690,
    "start_time": "2024-11-14T01:58:50.277Z"
   },
   {
    "duration": 0,
    "start_time": "2024-11-14T02:06:05.697Z"
   },
   {
    "duration": 132,
    "start_time": "2024-11-14T02:06:06.637Z"
   },
   {
    "duration": 525,
    "start_time": "2024-11-14T02:08:01.494Z"
   },
   {
    "duration": 151,
    "start_time": "2024-11-14T02:08:11.145Z"
   },
   {
    "duration": 472,
    "start_time": "2024-11-14T02:08:55.316Z"
   },
   {
    "duration": 142,
    "start_time": "2024-11-14T02:09:05.286Z"
   },
   {
    "duration": 149,
    "start_time": "2024-11-14T02:09:12.996Z"
   },
   {
    "duration": 191,
    "start_time": "2024-11-14T02:09:22.162Z"
   },
   {
    "duration": 114,
    "start_time": "2024-11-14T02:09:32.976Z"
   },
   {
    "duration": 128,
    "start_time": "2024-11-14T02:09:41.850Z"
   },
   {
    "duration": 134,
    "start_time": "2024-11-14T02:09:47.555Z"
   },
   {
    "duration": 492,
    "start_time": "2024-11-14T02:10:19.822Z"
   },
   {
    "duration": 503,
    "start_time": "2024-11-14T02:11:39.971Z"
   },
   {
    "duration": 122,
    "start_time": "2024-11-14T02:12:08.388Z"
   },
   {
    "duration": 451,
    "start_time": "2024-11-14T02:16:41.967Z"
   },
   {
    "duration": 460,
    "start_time": "2024-11-14T02:16:48.643Z"
   },
   {
    "duration": 469,
    "start_time": "2024-11-14T02:17:30.618Z"
   },
   {
    "duration": 451,
    "start_time": "2024-11-14T02:17:44.944Z"
   },
   {
    "duration": 413,
    "start_time": "2024-11-14T02:56:55.175Z"
   },
   {
    "duration": 944,
    "start_time": "2024-11-14T02:56:55.591Z"
   },
   {
    "duration": 17,
    "start_time": "2024-11-14T02:56:56.536Z"
   },
   {
    "duration": 13,
    "start_time": "2024-11-14T02:56:56.556Z"
   },
   {
    "duration": 26,
    "start_time": "2024-11-14T02:56:56.571Z"
   },
   {
    "duration": 11,
    "start_time": "2024-11-14T02:56:56.598Z"
   },
   {
    "duration": 33,
    "start_time": "2024-11-14T02:56:56.611Z"
   },
   {
    "duration": 120,
    "start_time": "2024-11-14T02:56:56.646Z"
   },
   {
    "duration": 94,
    "start_time": "2024-11-14T02:56:56.768Z"
   },
   {
    "duration": 53,
    "start_time": "2024-11-14T02:56:56.866Z"
   },
   {
    "duration": 194,
    "start_time": "2024-11-14T02:56:56.921Z"
   },
   {
    "duration": 107,
    "start_time": "2024-11-14T02:56:57.118Z"
   },
   {
    "duration": 11,
    "start_time": "2024-11-14T02:56:57.227Z"
   },
   {
    "duration": 6,
    "start_time": "2024-11-14T02:56:57.240Z"
   },
   {
    "duration": 49,
    "start_time": "2024-11-14T02:56:57.247Z"
   },
   {
    "duration": 14,
    "start_time": "2024-11-14T02:56:57.298Z"
   },
   {
    "duration": 5,
    "start_time": "2024-11-14T02:56:57.314Z"
   },
   {
    "duration": 5,
    "start_time": "2024-11-14T02:56:57.320Z"
   },
   {
    "duration": 4,
    "start_time": "2024-11-14T02:56:57.327Z"
   },
   {
    "duration": 6,
    "start_time": "2024-11-14T02:56:57.333Z"
   },
   {
    "duration": 855,
    "start_time": "2024-11-14T02:56:57.340Z"
   },
   {
    "duration": 878,
    "start_time": "2024-11-14T02:56:58.197Z"
   },
   {
    "duration": 44,
    "start_time": "2024-11-14T02:56:59.076Z"
   },
   {
    "duration": 12,
    "start_time": "2024-11-14T02:56:59.122Z"
   },
   {
    "duration": 11,
    "start_time": "2024-11-14T02:56:59.137Z"
   },
   {
    "duration": 7,
    "start_time": "2024-11-14T02:56:59.150Z"
   },
   {
    "duration": 29,
    "start_time": "2024-11-14T02:56:59.158Z"
   },
   {
    "duration": 29,
    "start_time": "2024-11-14T02:56:59.196Z"
   },
   {
    "duration": 70,
    "start_time": "2024-11-14T02:56:59.227Z"
   },
   {
    "duration": 43,
    "start_time": "2024-11-14T02:56:59.300Z"
   },
   {
    "duration": 7,
    "start_time": "2024-11-14T02:56:59.345Z"
   },
   {
    "duration": 10,
    "start_time": "2024-11-14T02:56:59.354Z"
   },
   {
    "duration": 89,
    "start_time": "2024-11-14T02:56:59.366Z"
   },
   {
    "duration": 62,
    "start_time": "2024-11-14T02:56:59.457Z"
   },
   {
    "duration": 12,
    "start_time": "2024-11-14T02:56:59.521Z"
   },
   {
    "duration": 4,
    "start_time": "2024-11-14T02:56:59.535Z"
   },
   {
    "duration": 25,
    "start_time": "2024-11-14T02:56:59.541Z"
   },
   {
    "duration": 23,
    "start_time": "2024-11-14T02:56:59.568Z"
   },
   {
    "duration": 129,
    "start_time": "2024-11-14T02:56:59.593Z"
   },
   {
    "duration": 167,
    "start_time": "2024-11-14T02:56:59.723Z"
   },
   {
    "duration": 358,
    "start_time": "2024-11-14T02:56:59.892Z"
   },
   {
    "duration": 136,
    "start_time": "2024-11-14T02:57:00.252Z"
   },
   {
    "duration": 175,
    "start_time": "2024-11-14T02:57:00.390Z"
   },
   {
    "duration": 9,
    "start_time": "2024-11-14T02:57:00.566Z"
   },
   {
    "duration": 17,
    "start_time": "2024-11-14T02:57:00.577Z"
   },
   {
    "duration": 217,
    "start_time": "2024-11-14T02:57:00.596Z"
   },
   {
    "duration": 209,
    "start_time": "2024-11-14T02:57:00.815Z"
   },
   {
    "duration": 705,
    "start_time": "2024-11-14T02:57:01.026Z"
   },
   {
    "duration": 267,
    "start_time": "2024-11-14T02:57:01.733Z"
   },
   {
    "duration": 229,
    "start_time": "2024-11-14T02:57:02.002Z"
   },
   {
    "duration": 282,
    "start_time": "2024-11-14T02:57:02.232Z"
   },
   {
    "duration": 6,
    "start_time": "2024-11-14T02:57:02.517Z"
   },
   {
    "duration": 965,
    "start_time": "2024-11-14T02:57:02.524Z"
   },
   {
    "duration": 119,
    "start_time": "2024-11-14T02:57:03.491Z"
   },
   {
    "duration": 46,
    "start_time": "2024-11-14T02:57:03.612Z"
   },
   {
    "duration": 34,
    "start_time": "2024-11-14T02:57:03.660Z"
   },
   {
    "duration": 197,
    "start_time": "2024-11-14T02:57:03.696Z"
   },
   {
    "duration": 514,
    "start_time": "2024-11-14T02:57:03.895Z"
   },
   {
    "duration": 306,
    "start_time": "2024-11-14T02:57:04.411Z"
   },
   {
    "duration": 320,
    "start_time": "2024-11-14T02:57:04.719Z"
   },
   {
    "duration": 467,
    "start_time": "2024-11-14T02:57:05.041Z"
   },
   {
    "duration": 736,
    "start_time": "2024-11-14T02:57:05.510Z"
   },
   {
    "duration": 186,
    "start_time": "2024-11-14T02:57:06.247Z"
   },
   {
    "duration": 8,
    "start_time": "2024-11-14T02:57:06.434Z"
   },
   {
    "duration": 510,
    "start_time": "2024-11-14T02:57:06.445Z"
   },
   {
    "duration": 44,
    "start_time": "2024-11-14T02:57:06.957Z"
   },
   {
    "duration": 208,
    "start_time": "2024-11-14T02:57:07.002Z"
   },
   {
    "duration": 413,
    "start_time": "2024-11-14T03:01:20.866Z"
   },
   {
    "duration": 911,
    "start_time": "2024-11-14T03:01:21.286Z"
   },
   {
    "duration": 17,
    "start_time": "2024-11-14T03:01:22.199Z"
   },
   {
    "duration": 13,
    "start_time": "2024-11-14T03:01:22.218Z"
   },
   {
    "duration": 11,
    "start_time": "2024-11-14T03:01:22.233Z"
   },
   {
    "duration": 40,
    "start_time": "2024-11-14T03:01:22.246Z"
   },
   {
    "duration": 30,
    "start_time": "2024-11-14T03:01:22.288Z"
   },
   {
    "duration": 110,
    "start_time": "2024-11-14T03:01:22.321Z"
   },
   {
    "duration": 91,
    "start_time": "2024-11-14T03:01:22.433Z"
   },
   {
    "duration": 60,
    "start_time": "2024-11-14T03:01:22.526Z"
   },
   {
    "duration": 199,
    "start_time": "2024-11-14T03:01:22.588Z"
   },
   {
    "duration": 86,
    "start_time": "2024-11-14T03:01:22.789Z"
   },
   {
    "duration": 21,
    "start_time": "2024-11-14T03:01:22.877Z"
   },
   {
    "duration": 7,
    "start_time": "2024-11-14T03:01:22.902Z"
   },
   {
    "duration": 37,
    "start_time": "2024-11-14T03:01:22.912Z"
   },
   {
    "duration": 13,
    "start_time": "2024-11-14T03:01:22.951Z"
   },
   {
    "duration": 3,
    "start_time": "2024-11-14T03:01:22.987Z"
   },
   {
    "duration": 6,
    "start_time": "2024-11-14T03:01:22.992Z"
   },
   {
    "duration": 4,
    "start_time": "2024-11-14T03:01:22.999Z"
   },
   {
    "duration": 5,
    "start_time": "2024-11-14T03:01:23.005Z"
   },
   {
    "duration": 853,
    "start_time": "2024-11-14T03:01:23.012Z"
   },
   {
    "duration": 790,
    "start_time": "2024-11-14T03:01:23.867Z"
   },
   {
    "duration": 31,
    "start_time": "2024-11-14T03:01:24.659Z"
   },
   {
    "duration": 9,
    "start_time": "2024-11-14T03:01:24.691Z"
   },
   {
    "duration": 8,
    "start_time": "2024-11-14T03:01:24.702Z"
   },
   {
    "duration": 7,
    "start_time": "2024-11-14T03:01:24.711Z"
   },
   {
    "duration": 9,
    "start_time": "2024-11-14T03:01:24.720Z"
   },
   {
    "duration": 17,
    "start_time": "2024-11-14T03:01:24.730Z"
   },
   {
    "duration": 78,
    "start_time": "2024-11-14T03:01:24.749Z"
   },
   {
    "duration": 38,
    "start_time": "2024-11-14T03:01:24.829Z"
   },
   {
    "duration": 20,
    "start_time": "2024-11-14T03:01:24.868Z"
   },
   {
    "duration": 10,
    "start_time": "2024-11-14T03:01:24.889Z"
   },
   {
    "duration": 58,
    "start_time": "2024-11-14T03:01:24.901Z"
   },
   {
    "duration": 44,
    "start_time": "2024-11-14T03:01:24.960Z"
   },
   {
    "duration": 12,
    "start_time": "2024-11-14T03:01:25.006Z"
   },
   {
    "duration": 5,
    "start_time": "2024-11-14T03:01:25.019Z"
   },
   {
    "duration": 24,
    "start_time": "2024-11-14T03:01:25.026Z"
   },
   {
    "duration": 5,
    "start_time": "2024-11-14T03:01:25.052Z"
   },
   {
    "duration": 67,
    "start_time": "2024-11-14T03:01:25.086Z"
   },
   {
    "duration": 87,
    "start_time": "2024-11-14T03:01:25.155Z"
   },
   {
    "duration": 191,
    "start_time": "2024-11-14T03:01:25.247Z"
   },
   {
    "duration": 122,
    "start_time": "2024-11-14T03:01:25.440Z"
   },
   {
    "duration": 191,
    "start_time": "2024-11-14T03:01:25.564Z"
   },
   {
    "duration": 10,
    "start_time": "2024-11-14T03:01:25.757Z"
   },
   {
    "duration": 23,
    "start_time": "2024-11-14T03:01:25.769Z"
   },
   {
    "duration": 216,
    "start_time": "2024-11-14T03:01:25.794Z"
   },
   {
    "duration": 191,
    "start_time": "2024-11-14T03:01:26.012Z"
   },
   {
    "duration": 649,
    "start_time": "2024-11-14T03:01:26.205Z"
   },
   {
    "duration": 257,
    "start_time": "2024-11-14T03:01:26.856Z"
   },
   {
    "duration": 225,
    "start_time": "2024-11-14T03:01:27.114Z"
   },
   {
    "duration": 241,
    "start_time": "2024-11-14T03:01:27.341Z"
   },
   {
    "duration": 6,
    "start_time": "2024-11-14T03:01:27.583Z"
   },
   {
    "duration": 915,
    "start_time": "2024-11-14T03:01:27.591Z"
   },
   {
    "duration": 115,
    "start_time": "2024-11-14T03:01:28.508Z"
   },
   {
    "duration": 50,
    "start_time": "2024-11-14T03:01:28.625Z"
   },
   {
    "duration": 23,
    "start_time": "2024-11-14T03:01:28.677Z"
   },
   {
    "duration": 197,
    "start_time": "2024-11-14T03:01:28.702Z"
   },
   {
    "duration": 486,
    "start_time": "2024-11-14T03:01:28.900Z"
   },
   {
    "duration": 315,
    "start_time": "2024-11-14T03:01:29.388Z"
   },
   {
    "duration": 319,
    "start_time": "2024-11-14T03:01:29.705Z"
   },
   {
    "duration": 452,
    "start_time": "2024-11-14T03:01:30.026Z"
   },
   {
    "duration": 745,
    "start_time": "2024-11-14T03:01:30.480Z"
   },
   {
    "duration": 180,
    "start_time": "2024-11-14T03:01:31.227Z"
   },
   {
    "duration": 6,
    "start_time": "2024-11-14T03:01:31.409Z"
   },
   {
    "duration": 544,
    "start_time": "2024-11-14T03:01:31.418Z"
   },
   {
    "duration": 47,
    "start_time": "2024-11-14T03:01:31.964Z"
   },
   {
    "duration": 208,
    "start_time": "2024-11-14T03:01:32.012Z"
   },
   {
    "duration": 204,
    "start_time": "2024-11-14T03:05:00.736Z"
   },
   {
    "duration": 177,
    "start_time": "2024-11-14T03:05:51.483Z"
   },
   {
    "duration": 178,
    "start_time": "2024-11-14T03:06:16.790Z"
   },
   {
    "duration": 179,
    "start_time": "2024-11-14T03:07:15.062Z"
   },
   {
    "duration": 268,
    "start_time": "2024-11-14T03:11:15.584Z"
   },
   {
    "duration": 800,
    "start_time": "2024-11-14T03:13:52.183Z"
   },
   {
    "duration": 706,
    "start_time": "2024-11-14T03:16:36.172Z"
   },
   {
    "duration": 424,
    "start_time": "2024-11-14T03:17:07.431Z"
   },
   {
    "duration": 181,
    "start_time": "2024-11-14T03:17:15.803Z"
   },
   {
    "duration": 199,
    "start_time": "2024-11-14T03:20:58.508Z"
   },
   {
    "duration": 197,
    "start_time": "2024-11-14T03:21:57.143Z"
   },
   {
    "duration": 301,
    "start_time": "2024-11-14T03:22:15.366Z"
   },
   {
    "duration": 198,
    "start_time": "2024-11-14T03:22:27.241Z"
   },
   {
    "duration": 210,
    "start_time": "2024-11-14T03:25:56.799Z"
   },
   {
    "duration": 204,
    "start_time": "2024-11-14T03:27:06.471Z"
   },
   {
    "duration": 208,
    "start_time": "2024-11-14T03:27:14.531Z"
   },
   {
    "duration": 234,
    "start_time": "2024-11-14T03:27:32.645Z"
   },
   {
    "duration": 205,
    "start_time": "2024-11-14T03:29:56.177Z"
   },
   {
    "duration": 7,
    "start_time": "2024-11-14T17:06:31.751Z"
   },
   {
    "duration": 459,
    "start_time": "2024-11-14T17:06:39.902Z"
   },
   {
    "duration": 1062,
    "start_time": "2024-11-14T17:06:40.363Z"
   },
   {
    "duration": 17,
    "start_time": "2024-11-14T17:06:41.426Z"
   },
   {
    "duration": 14,
    "start_time": "2024-11-14T17:06:41.446Z"
   },
   {
    "duration": 27,
    "start_time": "2024-11-14T17:06:41.462Z"
   },
   {
    "duration": 10,
    "start_time": "2024-11-14T17:06:41.491Z"
   },
   {
    "duration": 25,
    "start_time": "2024-11-14T17:06:41.503Z"
   },
   {
    "duration": 106,
    "start_time": "2024-11-14T17:06:41.530Z"
   },
   {
    "duration": 92,
    "start_time": "2024-11-14T17:06:41.638Z"
   },
   {
    "duration": 53,
    "start_time": "2024-11-14T17:06:41.733Z"
   },
   {
    "duration": 185,
    "start_time": "2024-11-14T17:06:41.788Z"
   },
   {
    "duration": 97,
    "start_time": "2024-11-14T17:06:41.975Z"
   },
   {
    "duration": 20,
    "start_time": "2024-11-14T17:06:42.073Z"
   },
   {
    "duration": 5,
    "start_time": "2024-11-14T17:06:42.094Z"
   },
   {
    "duration": 27,
    "start_time": "2024-11-14T17:06:42.101Z"
   },
   {
    "duration": 13,
    "start_time": "2024-11-14T17:06:42.130Z"
   },
   {
    "duration": 4,
    "start_time": "2024-11-14T17:06:42.144Z"
   },
   {
    "duration": 5,
    "start_time": "2024-11-14T17:06:42.150Z"
   },
   {
    "duration": 4,
    "start_time": "2024-11-14T17:06:42.188Z"
   },
   {
    "duration": 5,
    "start_time": "2024-11-14T17:06:42.194Z"
   },
   {
    "duration": 769,
    "start_time": "2024-11-14T17:06:42.201Z"
   },
   {
    "duration": 838,
    "start_time": "2024-11-14T17:06:42.972Z"
   },
   {
    "duration": 23,
    "start_time": "2024-11-14T17:06:43.811Z"
   },
   {
    "duration": 10,
    "start_time": "2024-11-14T17:06:43.836Z"
   },
   {
    "duration": 9,
    "start_time": "2024-11-14T17:06:43.847Z"
   },
   {
    "duration": 33,
    "start_time": "2024-11-14T17:06:43.859Z"
   },
   {
    "duration": 10,
    "start_time": "2024-11-14T17:06:43.893Z"
   },
   {
    "duration": 20,
    "start_time": "2024-11-14T17:06:43.907Z"
   },
   {
    "duration": 70,
    "start_time": "2024-11-14T17:06:43.929Z"
   },
   {
    "duration": 37,
    "start_time": "2024-11-14T17:06:44.000Z"
   },
   {
    "duration": 8,
    "start_time": "2024-11-14T17:06:44.039Z"
   },
   {
    "duration": 10,
    "start_time": "2024-11-14T17:06:44.048Z"
   },
   {
    "duration": 80,
    "start_time": "2024-11-14T17:06:44.061Z"
   },
   {
    "duration": 47,
    "start_time": "2024-11-14T17:06:44.142Z"
   },
   {
    "duration": 12,
    "start_time": "2024-11-14T17:06:44.191Z"
   },
   {
    "duration": 4,
    "start_time": "2024-11-14T17:06:44.205Z"
   },
   {
    "duration": 24,
    "start_time": "2024-11-14T17:06:44.211Z"
   },
   {
    "duration": 6,
    "start_time": "2024-11-14T17:06:44.236Z"
   },
   {
    "duration": 107,
    "start_time": "2024-11-14T17:06:44.244Z"
   },
   {
    "duration": 78,
    "start_time": "2024-11-14T17:06:44.353Z"
   },
   {
    "duration": 194,
    "start_time": "2024-11-14T17:06:44.433Z"
   },
   {
    "duration": 118,
    "start_time": "2024-11-14T17:06:44.629Z"
   },
   {
    "duration": 173,
    "start_time": "2024-11-14T17:06:44.749Z"
   },
   {
    "duration": 10,
    "start_time": "2024-11-14T17:06:44.924Z"
   },
   {
    "duration": 9,
    "start_time": "2024-11-14T17:06:44.935Z"
   },
   {
    "duration": 230,
    "start_time": "2024-11-14T17:06:44.945Z"
   },
   {
    "duration": 211,
    "start_time": "2024-11-14T17:06:45.177Z"
   },
   {
    "duration": 630,
    "start_time": "2024-11-14T17:06:45.390Z"
   },
   {
    "duration": 264,
    "start_time": "2024-11-14T17:06:46.023Z"
   },
   {
    "duration": 203,
    "start_time": "2024-11-14T17:06:46.289Z"
   },
   {
    "duration": 239,
    "start_time": "2024-11-14T17:06:46.494Z"
   },
   {
    "duration": 5,
    "start_time": "2024-11-14T17:06:46.735Z"
   },
   {
    "duration": 904,
    "start_time": "2024-11-14T17:06:46.742Z"
   },
   {
    "duration": 117,
    "start_time": "2024-11-14T17:06:47.648Z"
   },
   {
    "duration": 54,
    "start_time": "2024-11-14T17:06:47.767Z"
   },
   {
    "duration": 12,
    "start_time": "2024-11-14T17:06:47.823Z"
   },
   {
    "duration": 200,
    "start_time": "2024-11-14T17:06:47.837Z"
   },
   {
    "duration": 480,
    "start_time": "2024-11-14T17:06:48.039Z"
   },
   {
    "duration": 310,
    "start_time": "2024-11-14T17:06:48.520Z"
   },
   {
    "duration": 317,
    "start_time": "2024-11-14T17:06:48.832Z"
   },
   {
    "duration": 448,
    "start_time": "2024-11-14T17:06:49.152Z"
   },
   {
    "duration": 722,
    "start_time": "2024-11-14T17:06:49.602Z"
   },
   {
    "duration": 174,
    "start_time": "2024-11-14T17:06:50.326Z"
   },
   {
    "duration": 5,
    "start_time": "2024-11-14T17:06:50.502Z"
   },
   {
    "duration": 612,
    "start_time": "2024-11-14T17:06:50.509Z"
   },
   {
    "duration": 38,
    "start_time": "2024-11-14T17:06:51.123Z"
   },
   {
    "duration": 208,
    "start_time": "2024-11-14T17:06:51.163Z"
   }
  ],
  "colab": {
   "provenance": []
  },
  "kernelspec": {
   "display_name": "Python 3 (ipykernel)",
   "language": "python",
   "name": "python3"
  },
  "language_info": {
   "codemirror_mode": {
    "name": "ipython",
    "version": 3
   },
   "file_extension": ".py",
   "mimetype": "text/x-python",
   "name": "python",
   "nbconvert_exporter": "python",
   "pygments_lexer": "ipython3",
   "version": "3.9.19"
  },
  "toc": {
   "base_numbering": 1,
   "nav_menu": {},
   "number_sections": true,
   "sideBar": true,
   "skip_h1_title": true,
   "title_cell": "Table of Contents",
   "title_sidebar": "Contents",
   "toc_cell": false,
   "toc_position": {},
   "toc_section_display": true,
   "toc_window_display": false
  },
  "vscode": {
   "interpreter": {
    "hash": "01a7be9ec63e704a62cefc5fe7a4756944464ee731be31632bdf42a4cb4688cf"
   }
  }
 },
 "nbformat": 4,
 "nbformat_minor": 5
}
