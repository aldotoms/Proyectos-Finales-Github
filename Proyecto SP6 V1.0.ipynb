{
 "cells": [
  {
   "cell_type": "markdown",
   "metadata": {},
   "source": [
    "# Proyecto integrado\n",
    "\n",
    "¡Enhorabuena! Has completado oficialmente la primera parte del curso en la plataforma interactiva. Llegó la hora de reunir todo lo que has aprendido hasta el momento en tu primer proyecto integrado, un estudio de caso analítico de la vida real.\n",
    "Este proyecto englobará todas las habilidades que has adquirido hasta ahora:\n",
    "\n",
    "Cuando finalices el proyecto envía tu trabajo al revisor de proyecto para su evaluación. Te dará su opinión en 48 horas. Utiliza los comentarios para realizar cambios y luego envía la nueva versión al revisor del proyecto.\n",
    "\n",
    "Puede que recibas aún más feedback en la nueva versión. Esto es totalmente normal. Es común pasar por varios ciclos de comentarios y revisiones.\n",
    "Tu proyecto se considerará completado una vez que el revisor del proyecto lo apruebe."
   ]
  },
  {
   "cell_type": "markdown",
   "metadata": {},
   "source": [
    "## Descripción del proyecto\n",
    "\n",
    "Trabajas para la tienda online Ice que vende videojuegos por todo el mundo. Las reseñas de usuarios y expertos, los géneros, las plataformas (por ejemplo, Xbox o PlayStation) y los datos históricos sobre las ventas de juegos están disponibles en fuentes abiertas. Tienes que identificar patrones que determinen si un juego tiene éxito o no. Esto te permitirá detectar proyectos prometedores y planificar campañas publicitarias.\n",
    "\n",
    "Delante de ti hay datos que se remontan a 2016. Imaginemos que es diciembre de 2016 y estás planeando una campaña para 2017.\n",
    "Lo importante es adquirir experiencia de trabajo con datos. Realmente no importa si estás pronosticando las ventas de 2017 en función de los datos de 2016 o las ventas de 2027 en función de los datos de 2026.\n",
    "\n",
    "El dataset contiene una columna \"rating\" que almacena la clasificación ESRB de cada juego. El Entertainment Software Rating Board (la Junta de clasificación de software de entretenimiento) evalúa el contenido de un juego y asigna una clasificación de edad como Adolescente o Adulto."
   ]
  },
  {
   "cell_type": "markdown",
   "metadata": {},
   "source": [
    "## Instrucciones para completar el proyecto\n",
    "\n",
    "# Paso 1. Abre el archivo de datos y estudia la información general \n",
    "\n",
    "Ruta de archivo: /datasets/games.csv . Descarga el dataset"
   ]
  },
  {
   "cell_type": "markdown",
   "metadata": {},
   "source": [
    "## 1.1 Inicialización <a id='kickoff'></a>"
   ]
  },
  {
   "cell_type": "code",
   "execution_count": 1,
   "metadata": {},
   "outputs": [],
   "source": [
    "# Cargar todas las librerías\n",
    "import pandas as pd\n",
    "import numpy as np\n",
    "# from matplotlib import pyplot as plt\n",
    "# from scipy import stats as st\n",
    "# import seaborn as sns\n",
    "# import math"
   ]
  },
  {
   "cell_type": "markdown",
   "metadata": {},
   "source": [
    "## 1.2 Cargar datos     <a id='dataload'></a>"
   ]
  },
  {
   "cell_type": "code",
   "execution_count": 2,
   "metadata": {},
   "outputs": [],
   "source": [
    "# Cargamos el archivo de datos en un DataFrame\n",
    "df_games = pd.read_csv(r'C:\\Users\\aldot\\OneDrive\\TripleTen_DS\\Sprint 6_Proyecto del Módulo 1\\Proyecto SP6\\games.csv')"
   ]
  },
  {
   "cell_type": "markdown",
   "metadata": {},
   "source": [
    "## 1.3 Revisar los datos <a id='data_preprocessing'></a>"
   ]
  },
  {
   "cell_type": "code",
   "execution_count": 3,
   "metadata": {},
   "outputs": [
    {
     "name": "stdout",
     "output_type": "stream",
     "text": [
      "<class 'pandas.core.frame.DataFrame'>\n",
      "RangeIndex: 16715 entries, 0 to 16714\n",
      "Data columns (total 11 columns):\n",
      " #   Column           Non-Null Count  Dtype  \n",
      "---  ------           --------------  -----  \n",
      " 0   Name             16713 non-null  object \n",
      " 1   Platform         16715 non-null  object \n",
      " 2   Year_of_Release  16446 non-null  float64\n",
      " 3   Genre            16713 non-null  object \n",
      " 4   NA_sales         16715 non-null  float64\n",
      " 5   EU_sales         16715 non-null  float64\n",
      " 6   JP_sales         16715 non-null  float64\n",
      " 7   Other_sales      16715 non-null  float64\n",
      " 8   Critic_Score     8137 non-null   float64\n",
      " 9   User_Score       10014 non-null  object \n",
      " 10  Rating           9949 non-null   object \n",
      "dtypes: float64(6), object(5)\n",
      "memory usage: 1.4+ MB\n",
      "       Year_of_Release      NA_sales      EU_sales      JP_sales  \\\n",
      "count     16446.000000  16715.000000  16715.000000  16715.000000   \n",
      "mean       2006.484616      0.263377      0.145060      0.077617   \n",
      "std           5.877050      0.813604      0.503339      0.308853   \n",
      "min        1980.000000      0.000000      0.000000      0.000000   \n",
      "25%        2003.000000      0.000000      0.000000      0.000000   \n",
      "50%        2007.000000      0.080000      0.020000      0.000000   \n",
      "75%        2010.000000      0.240000      0.110000      0.040000   \n",
      "max        2016.000000     41.360000     28.960000     10.220000   \n",
      "\n",
      "        Other_sales  Critic_Score  \n",
      "count  16715.000000   8137.000000  \n",
      "mean       0.047342     68.967679  \n",
      "std        0.186731     13.938165  \n",
      "min        0.000000     13.000000  \n",
      "25%        0.000000     60.000000  \n",
      "50%        0.010000     71.000000  \n",
      "75%        0.030000     79.000000  \n",
      "max       10.570000     98.000000  \n"
     ]
    }
   ],
   "source": [
    "# Imprimimos la información general/resumida sobre el DataFrame\n",
    "df_games.info()\n",
    "print(df_games.describe())"
   ]
  },
  {
   "cell_type": "code",
   "execution_count": 4,
   "metadata": {},
   "outputs": [
    {
     "data": {
      "text/html": [
       "<div>\n",
       "<style scoped>\n",
       "    .dataframe tbody tr th:only-of-type {\n",
       "        vertical-align: middle;\n",
       "    }\n",
       "\n",
       "    .dataframe tbody tr th {\n",
       "        vertical-align: top;\n",
       "    }\n",
       "\n",
       "    .dataframe thead th {\n",
       "        text-align: right;\n",
       "    }\n",
       "</style>\n",
       "<table border=\"1\" class=\"dataframe\">\n",
       "  <thead>\n",
       "    <tr style=\"text-align: right;\">\n",
       "      <th></th>\n",
       "      <th>Name</th>\n",
       "      <th>Platform</th>\n",
       "      <th>Year_of_Release</th>\n",
       "      <th>Genre</th>\n",
       "      <th>NA_sales</th>\n",
       "      <th>EU_sales</th>\n",
       "      <th>JP_sales</th>\n",
       "      <th>Other_sales</th>\n",
       "      <th>Critic_Score</th>\n",
       "      <th>User_Score</th>\n",
       "      <th>Rating</th>\n",
       "    </tr>\n",
       "  </thead>\n",
       "  <tbody>\n",
       "    <tr>\n",
       "      <th>0</th>\n",
       "      <td>Wii Sports</td>\n",
       "      <td>Wii</td>\n",
       "      <td>2006.0</td>\n",
       "      <td>Sports</td>\n",
       "      <td>41.36</td>\n",
       "      <td>28.96</td>\n",
       "      <td>3.77</td>\n",
       "      <td>8.45</td>\n",
       "      <td>76.0</td>\n",
       "      <td>8</td>\n",
       "      <td>E</td>\n",
       "    </tr>\n",
       "    <tr>\n",
       "      <th>1</th>\n",
       "      <td>Super Mario Bros.</td>\n",
       "      <td>NES</td>\n",
       "      <td>1985.0</td>\n",
       "      <td>Platform</td>\n",
       "      <td>29.08</td>\n",
       "      <td>3.58</td>\n",
       "      <td>6.81</td>\n",
       "      <td>0.77</td>\n",
       "      <td>NaN</td>\n",
       "      <td>NaN</td>\n",
       "      <td>NaN</td>\n",
       "    </tr>\n",
       "    <tr>\n",
       "      <th>2</th>\n",
       "      <td>Mario Kart Wii</td>\n",
       "      <td>Wii</td>\n",
       "      <td>2008.0</td>\n",
       "      <td>Racing</td>\n",
       "      <td>15.68</td>\n",
       "      <td>12.76</td>\n",
       "      <td>3.79</td>\n",
       "      <td>3.29</td>\n",
       "      <td>82.0</td>\n",
       "      <td>8.3</td>\n",
       "      <td>E</td>\n",
       "    </tr>\n",
       "    <tr>\n",
       "      <th>3</th>\n",
       "      <td>Wii Sports Resort</td>\n",
       "      <td>Wii</td>\n",
       "      <td>2009.0</td>\n",
       "      <td>Sports</td>\n",
       "      <td>15.61</td>\n",
       "      <td>10.93</td>\n",
       "      <td>3.28</td>\n",
       "      <td>2.95</td>\n",
       "      <td>80.0</td>\n",
       "      <td>8</td>\n",
       "      <td>E</td>\n",
       "    </tr>\n",
       "    <tr>\n",
       "      <th>4</th>\n",
       "      <td>Pokemon Red/Pokemon Blue</td>\n",
       "      <td>GB</td>\n",
       "      <td>1996.0</td>\n",
       "      <td>Role-Playing</td>\n",
       "      <td>11.27</td>\n",
       "      <td>8.89</td>\n",
       "      <td>10.22</td>\n",
       "      <td>1.00</td>\n",
       "      <td>NaN</td>\n",
       "      <td>NaN</td>\n",
       "      <td>NaN</td>\n",
       "    </tr>\n",
       "    <tr>\n",
       "      <th>5</th>\n",
       "      <td>Tetris</td>\n",
       "      <td>GB</td>\n",
       "      <td>1989.0</td>\n",
       "      <td>Puzzle</td>\n",
       "      <td>23.20</td>\n",
       "      <td>2.26</td>\n",
       "      <td>4.22</td>\n",
       "      <td>0.58</td>\n",
       "      <td>NaN</td>\n",
       "      <td>NaN</td>\n",
       "      <td>NaN</td>\n",
       "    </tr>\n",
       "    <tr>\n",
       "      <th>6</th>\n",
       "      <td>New Super Mario Bros.</td>\n",
       "      <td>DS</td>\n",
       "      <td>2006.0</td>\n",
       "      <td>Platform</td>\n",
       "      <td>11.28</td>\n",
       "      <td>9.14</td>\n",
       "      <td>6.50</td>\n",
       "      <td>2.88</td>\n",
       "      <td>89.0</td>\n",
       "      <td>8.5</td>\n",
       "      <td>E</td>\n",
       "    </tr>\n",
       "    <tr>\n",
       "      <th>7</th>\n",
       "      <td>Wii Play</td>\n",
       "      <td>Wii</td>\n",
       "      <td>2006.0</td>\n",
       "      <td>Misc</td>\n",
       "      <td>13.96</td>\n",
       "      <td>9.18</td>\n",
       "      <td>2.93</td>\n",
       "      <td>2.84</td>\n",
       "      <td>58.0</td>\n",
       "      <td>6.6</td>\n",
       "      <td>E</td>\n",
       "    </tr>\n",
       "    <tr>\n",
       "      <th>8</th>\n",
       "      <td>New Super Mario Bros. Wii</td>\n",
       "      <td>Wii</td>\n",
       "      <td>2009.0</td>\n",
       "      <td>Platform</td>\n",
       "      <td>14.44</td>\n",
       "      <td>6.94</td>\n",
       "      <td>4.70</td>\n",
       "      <td>2.24</td>\n",
       "      <td>87.0</td>\n",
       "      <td>8.4</td>\n",
       "      <td>E</td>\n",
       "    </tr>\n",
       "    <tr>\n",
       "      <th>9</th>\n",
       "      <td>Duck Hunt</td>\n",
       "      <td>NES</td>\n",
       "      <td>1984.0</td>\n",
       "      <td>Shooter</td>\n",
       "      <td>26.93</td>\n",
       "      <td>0.63</td>\n",
       "      <td>0.28</td>\n",
       "      <td>0.47</td>\n",
       "      <td>NaN</td>\n",
       "      <td>NaN</td>\n",
       "      <td>NaN</td>\n",
       "    </tr>\n",
       "  </tbody>\n",
       "</table>\n",
       "</div>"
      ],
      "text/plain": [
       "                        Name Platform  Year_of_Release         Genre  \\\n",
       "0                 Wii Sports      Wii           2006.0        Sports   \n",
       "1          Super Mario Bros.      NES           1985.0      Platform   \n",
       "2             Mario Kart Wii      Wii           2008.0        Racing   \n",
       "3          Wii Sports Resort      Wii           2009.0        Sports   \n",
       "4   Pokemon Red/Pokemon Blue       GB           1996.0  Role-Playing   \n",
       "5                     Tetris       GB           1989.0        Puzzle   \n",
       "6      New Super Mario Bros.       DS           2006.0      Platform   \n",
       "7                   Wii Play      Wii           2006.0          Misc   \n",
       "8  New Super Mario Bros. Wii      Wii           2009.0      Platform   \n",
       "9                  Duck Hunt      NES           1984.0       Shooter   \n",
       "\n",
       "   NA_sales  EU_sales  JP_sales  Other_sales  Critic_Score User_Score Rating  \n",
       "0     41.36     28.96      3.77         8.45          76.0          8      E  \n",
       "1     29.08      3.58      6.81         0.77           NaN        NaN    NaN  \n",
       "2     15.68     12.76      3.79         3.29          82.0        8.3      E  \n",
       "3     15.61     10.93      3.28         2.95          80.0          8      E  \n",
       "4     11.27      8.89     10.22         1.00           NaN        NaN    NaN  \n",
       "5     23.20      2.26      4.22         0.58           NaN        NaN    NaN  \n",
       "6     11.28      9.14      6.50         2.88          89.0        8.5      E  \n",
       "7     13.96      9.18      2.93         2.84          58.0        6.6      E  \n",
       "8     14.44      6.94      4.70         2.24          87.0        8.4      E  \n",
       "9     26.93      0.63      0.28         0.47           NaN        NaN    NaN  "
      ]
     },
     "execution_count": 4,
     "metadata": {},
     "output_type": "execute_result"
    }
   ],
   "source": [
    "# Imprimimos una muestra de los datos sobre los videojuegos\n",
    "df_games.head(10)"
   ]
  },
  {
   "cell_type": "markdown",
   "metadata": {},
   "source": [
    "El Dataframe contiene 11 columnas, las cuales contienen la siguiente información:\n",
    "\n",
    "- `'Name'`: título o nombre del videojuego;\n",
    "- `'Platform'`: plataforma o consola en la que fué lanzado originalmente;\n",
    "- `'Year_of_Release'`: año en el que fué lanzado;\n",
    "- `'Genre'`: género que clasifica al videojuego;\n",
    "- `'NA_sales'`: ventas en Norte América;\n",
    "- `'EU_sales'`: ventas sólo en Estados Unidos;\n",
    "- `'JP_sales'`: ventas en Japón;\n",
    "- `'Other_sales'`: ventas en otros países;\n",
    "- `'Critic_Score'`: puntaje de la crítica pública;\n",
    "- `'User_Score'`: puntaje del usuario;\n",
    "- `'Rating'`: rating o clasificación del videojuego.\n",
    "\n",
    "Podemos ver dos principales problemas con el estilo en los encabezados de la tabla:\n",
    "1. Los encabezados tienen la primer letra en mayúscula.\n",
    "2. Los nombres de las columnas no son muy descriptivos, falta claridad."
   ]
  },
  {
   "cell_type": "markdown",
   "metadata": {},
   "source": [
    "## 1.4 Descripción de los datos\n",
    "\n",
    "El dataframe llamado df_games contiene un total de 16,715 líneas o entradas y 10 columnas llamadas 1.- Plataforma, 2.- Año de Publicación, 3.- Genero, 4.- Ventas Norte América, 5.- Ventas EEUU, 6.- Ventas Japón, 7.- Ventas Otros Paises, 9.- Evaluación Crítica, 9.- Evaluación Usuario y 10.- Rating.\n",
    "\n",
    "Se tienen diferentes Dtypes entre ellos de tipo object y float64, valores descriptivos para los nombres de los videojuegos, la plataforma a la que pertenecen, el genero del juego; para la información de las ventas en los diferentes paises, la información es de tipo float64, lo que nos indica que son datos de recaudación de ventas, supondremos que son en USD $.\n",
    "\n",
    "De primera vista, se nota que los Dtypes se deben corregir para homologar la información; es decir, el Año de Publicación es de tipo float64 cuando debería ser objetct al ser descriptivo ya que no se harán operaciones aritmeticas con esta información. Otra columna que debe corregirse el Dtype es la Evaluación de la Crítica, actualmente es de tipo float64.\n",
    "\n",
    "4.- Buscar datos ausentes y duplicados, revisarlos para ver de qué manera solucionarlos.\n",
    "Se tendrán que buscar valores ausentes, de primera vista se nota que en las últimas tres columnas (Evaluación Crítica, Evaluación de Usuario y Rating) se tienen valores ausentes (NAN Not a number), tendrán que ser evaluados para sustituirlos. Así mismo, se tendrán que buscar valores duplicados y revisarlos para ver si no afectan al análisis o eliminarlos.\n",
    "\n",
    "Por lo que no hay algunos detalles que corregir en el Dataframe."
   ]
  },
  {
   "cell_type": "markdown",
   "metadata": {},
   "source": [
    "# Paso 2. Prepara los datos\n",
    "\n",
    "Reemplaza los nombres de las columnas (ponlos en minúsculas).\n",
    "Convierte los datos en los tipos necesarios.\n",
    "Describe las columnas en las que los tipos de datos han sido cambiados y explica por qué.\n",
    "Si es necesario, elige la manera de tratar los valores ausentes:\n",
    "Explica por qué rellenaste los valores ausentes como lo hiciste o por qué decidiste dejarlos en blanco.\n",
    "¿Por qué crees que los valores están ausentes? Brinda explicaciones posibles.\n",
    "Presta atención a la abreviatura TBD: significa \"to be determined\" (a determinar). Especifica cómo piensas manejar estos casos.\n",
    "Calcula las ventas totales (la suma de las ventas en todas las regiones) para cada juego y coloca estos valores en una columna separada."
   ]
  },
  {
   "cell_type": "markdown",
   "metadata": {},
   "source": [
    "## 2.1 Corregir datos <a id='fees_wrangling'></a>\n",
    "\n",
    "### Nombres de columnas\n",
    "Reemplaza los nombres de las columnas (ponlos en minúsculas)."
   ]
  },
  {
   "cell_type": "code",
   "execution_count": 5,
   "metadata": {},
   "outputs": [
    {
     "name": "stdout",
     "output_type": "stream",
     "text": [
      "Index(['Name', 'Platform', 'Year_of_Release', 'Genre', 'NA_sales', 'EU_sales',\n",
      "       'JP_sales', 'Other_sales', 'Critic_Score', 'User_Score', 'Rating'],\n",
      "      dtype='object')\n"
     ]
    }
   ],
   "source": [
    "# Vamos a modificar los nombres de las columnas para que cumplan con el Snake Case\n",
    "print(df_games.columns)"
   ]
  },
  {
   "cell_type": "code",
   "execution_count": 6,
   "metadata": {},
   "outputs": [
    {
     "name": "stdout",
     "output_type": "stream",
     "text": [
      "Index(['name', 'platform', 'year_of_release', 'genre', 'na_sales', 'eu_sales',\n",
      "       'jp_sales', 'other_sales', 'critic_score', 'user_score', 'rating'],\n",
      "      dtype='object')\n"
     ]
    }
   ],
   "source": [
    "# Bucle en los encabezados poniendo todo en minúsculas\n",
    "new_col_names = []\n",
    "\n",
    "for col in df_games.columns:\n",
    "    name_lowered = col.lower()\n",
    "    new_col_names.append(name_lowered)\n",
    "\n",
    "df_games.columns = new_col_names\n",
    "\n",
    "print(df_games.columns)"
   ]
  },
  {
   "cell_type": "markdown",
   "metadata": {},
   "source": [
    "Convierte los datos en los tipos necesarios."
   ]
  },
  {
   "cell_type": "code",
   "execution_count": 7,
   "metadata": {},
   "outputs": [
    {
     "name": "stdout",
     "output_type": "stream",
     "text": [
      "<class 'pandas.core.frame.DataFrame'>\n",
      "RangeIndex: 16715 entries, 0 to 16714\n",
      "Data columns (total 11 columns):\n",
      " #   Column           Non-Null Count  Dtype  \n",
      "---  ------           --------------  -----  \n",
      " 0   name             16713 non-null  object \n",
      " 1   platform         16715 non-null  object \n",
      " 2   year_of_release  16446 non-null  object \n",
      " 3   genre            16713 non-null  object \n",
      " 4   na_sales         16715 non-null  float64\n",
      " 5   eu_sales         16715 non-null  float64\n",
      " 6   jp_sales         16715 non-null  float64\n",
      " 7   other_sales      16715 non-null  float64\n",
      " 8   critic_score     8137 non-null   float64\n",
      " 9   user_score       7590 non-null   float64\n",
      " 10  rating           9949 non-null   object \n",
      "dtypes: float64(6), object(5)\n",
      "memory usage: 1.4+ MB\n"
     ]
    }
   ],
   "source": [
    "# Vamos a cambiar el Dtype en la columna de Año de Pubilcación\n",
    "df_games['year_of_release'] = df_games['year_of_release'].astype('object')\n",
    "df_games['user_score'] = pd.to_numeric(df_games['user_score'], errors='coerce')\n",
    "\n",
    "# Revisamos nuevamente los Dtypes\n",
    "df_games.info()"
   ]
  },
  {
   "cell_type": "markdown",
   "metadata": {},
   "source": [
    "Describe las columnas en las que los tipos de datos han sido cambiados y explica por qué."
   ]
  },
  {
   "cell_type": "markdown",
   "metadata": {},
   "source": [
    "- `'year_of_release'`: año en el que fué lanzado;   <- Se cambió el dtype de 'float64' a tipo 'object' debido a que es un dato descriptivo y no numérico.\n",
    "- `'user_score'`: puntaje del usuario;              <- Se cambió el dtype de 'object' a tipo 'float64' debido a que es un dato numérico."
   ]
  },
  {
   "cell_type": "markdown",
   "metadata": {},
   "source": [
    "### Valores ausentes y duplicados"
   ]
  },
  {
   "cell_type": "code",
   "execution_count": 8,
   "metadata": {},
   "outputs": [
    {
     "name": "stdout",
     "output_type": "stream",
     "text": [
      "Valores ausentes:  name                  2\n",
      "platform              0\n",
      "year_of_release     269\n",
      "genre                 2\n",
      "na_sales              0\n",
      "eu_sales              0\n",
      "jp_sales              0\n",
      "other_sales           0\n",
      "critic_score       8578\n",
      "user_score         9125\n",
      "rating             6766\n",
      "dtype: int64\n",
      "\n",
      "Valores duplicados:  0\n"
     ]
    }
   ],
   "source": [
    "# Buscamos si hay valores ausentes y/o duplicados\n",
    "print('Valores ausentes: ',df_games.isna().sum())      # Valores ausentes\n",
    "print()\n",
    "print('Valores duplicados: ', df_games.duplicated().sum()) # Verificamos si hay"
   ]
  },
  {
   "cell_type": "code",
   "execution_count": 9,
   "metadata": {},
   "outputs": [
    {
     "name": "stdout",
     "output_type": "stream",
     "text": [
      "0                           Wii Sports\n",
      "1                    Super Mario Bros.\n",
      "2                       Mario Kart Wii\n",
      "3                    Wii Sports Resort\n",
      "4             Pokemon Red/Pokemon Blue\n",
      "                     ...              \n",
      "16710    Samurai Warriors: Sanada Maru\n",
      "16711                 LMA Manager 2007\n",
      "16712          Haitaka no Psychedelica\n",
      "16713                 Spirits & Spells\n",
      "16714              Winning Post 8 2016\n",
      "Name: name, Length: 16715, dtype: object\n"
     ]
    }
   ],
   "source": [
    "# Rellenamos los nombres ausentes por la palabra \"unknown\"\n",
    "df_games['name'] = df_games['name'].fillna('unknown')\n",
    "print(df_games['name'])"
   ]
  },
  {
   "cell_type": "code",
   "execution_count": 10,
   "metadata": {},
   "outputs": [
    {
     "name": "stdout",
     "output_type": "stream",
     "text": [
      "0        2006.0\n",
      "1        1985.0\n",
      "2        2008.0\n",
      "3        2009.0\n",
      "4        1996.0\n",
      "          ...  \n",
      "16710    2016.0\n",
      "16711    2006.0\n",
      "16712    2016.0\n",
      "16713    2003.0\n",
      "16714    2016.0\n",
      "Name: year_of_release, Length: 16715, dtype: object\n"
     ]
    },
    {
     "name": "stderr",
     "output_type": "stream",
     "text": [
      "C:\\Users\\aldot\\AppData\\Local\\Temp\\ipykernel_11904\\2417253509.py:2: FutureWarning: Downcasting object dtype arrays on .fillna, .ffill, .bfill is deprecated and will change in a future version. Call result.infer_objects(copy=False) instead. To opt-in to the future behavior, set `pd.set_option('future.no_silent_downcasting', True)`\n",
      "  df_games['year_of_release'] = df_games['year_of_release'].fillna(0).astype('object')\n"
     ]
    }
   ],
   "source": [
    "# Rellenamos los valores ausentes en la columna de Año de publicación\n",
    "df_games['year_of_release'] = df_games['year_of_release'].fillna(0).astype('object')\n",
    "print(df_games['year_of_release'])"
   ]
  },
  {
   "cell_type": "code",
   "execution_count": 11,
   "metadata": {},
   "outputs": [
    {
     "name": "stdout",
     "output_type": "stream",
     "text": [
      "0              Sports\n",
      "1            Platform\n",
      "2              Racing\n",
      "3              Sports\n",
      "4        Role-Playing\n",
      "             ...     \n",
      "16710          Action\n",
      "16711          Sports\n",
      "16712       Adventure\n",
      "16713        Platform\n",
      "16714      Simulation\n",
      "Name: genre, Length: 16715, dtype: object\n"
     ]
    }
   ],
   "source": [
    "# Rellenamos los nombres ausentes por la palabra \"unknown\"\n",
    "df_games['genre'] = df_games['genre'].fillna('unknown')\n",
    "print(df_games['genre'])"
   ]
  },
  {
   "cell_type": "markdown",
   "metadata": {},
   "source": [
    "Si es necesario, elige la manera de tratar los valores ausentes:\n",
    "Explica por qué rellenaste los valores ausentes como lo hiciste o por qué decidiste dejarlos en blanco.\n",
    "¿Por qué crees que los valores están ausentes? Brinda explicaciones posibles."
   ]
  }
 ],
 "metadata": {
  "kernelspec": {
   "display_name": "Python 3",
   "language": "python",
   "name": "python3"
  },
  "language_info": {
   "codemirror_mode": {
    "name": "ipython",
    "version": 3
   },
   "file_extension": ".py",
   "mimetype": "text/x-python",
   "name": "python",
   "nbconvert_exporter": "python",
   "pygments_lexer": "ipython3",
   "version": "3.12.2"
  }
 },
 "nbformat": 4,
 "nbformat_minor": 2
}
