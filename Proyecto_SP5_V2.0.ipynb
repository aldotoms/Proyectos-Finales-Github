{
 "cells": [
  {
   "cell_type": "markdown",
   "metadata": {},
   "source": [
    "¡Hola, Tom!\n",
    "\n",
    "Mi nombre es Tonatiuh Cruz. Me complace revisar tu proyecto hoy.\n",
    "\n",
    "Al identificar cualquier error inicialmente, simplemente los destacaré. Te animo a localizar y abordar los problemas de forma independiente como parte de tu preparación para un rol como data-scientist. En un entorno profesional, tu líder de equipo seguiría un enfoque similar. Si encuentras la tarea desafiante, proporcionaré una pista más específica en la próxima iteración.\n",
    "\n",
    "Encontrarás mis comentarios a continuación - **por favor no los muevas, modifiques o elimines**.\n",
    "\n",
    "Puedes encontrar mis comentarios en cajas verdes, amarillas o rojas como esta:\n",
    "\n",
    "<div class=\"alert alert-block alert-success\">\n",
    "<b>Comentario del revisor</b> <a class=\"tocSkip\"></a>\n",
    "\n",
    "Éxito. Todo está hecho correctamente.\n",
    "</div>\n",
    "\n",
    "<div class=\"alert alert-block alert-warning\">\n",
    "<b>Comentario del revisor</b> <a class=\"tocSkip\"></a>\n",
    "\n",
    "Observaciones. Algunas recomendaciones.\n",
    "</div>\n",
    "\n",
    "<div class=\"alert alert-block alert-danger\">\n",
    "<b>Comentario del revisor</b> <a class=\"tocSkip\"></a>\n",
    "\n",
    "Necesita corrección. El bloque requiere algunas correcciones. El trabajo no puede ser aceptado con comentarios en rojo.\n",
    "</div>\n",
    "\n",
    "Puedes responderme utilizando esto:\n",
    "\n",
    "<div class=\"alert alert-block alert-info\">\n",
    "<b>Respuesta del estudiante</b> <a class=“tocSkip”></a>\n",
    "</div>"
   ]
  },
  {
   "cell_type": "markdown",
   "metadata": {},
   "source": [
    "<div class=\"alert alert-block alert-success\">\n",
    "<b>Resumen de la revisión 1</b> <a class=\"tocSkip\"></a>\n",
    "\n",
    "Hola Tom! Has hecho un excelente trabajo con el proyecto, cada vez más cercas de convertirte en un cientifica de datos. Realizaste la carga de bases, su análisis inicial, sus ajustes, un análisis de algunos variables conmplementado con gráficas y el desarrollo de las pruebas d ehipótesis. Solamente te dejo algunos comentarios para complementar el análisis. \n",
    "\n",
    "Sigue con el excelente trabajo!\n",
    "</div>"
   ]
  },
  {
   "cell_type": "markdown",
   "metadata": {},
   "source": [
    "<div class=\"alert alert-block alert-info\">\n",
    "<b>Respuesta del estudiante, Iteración 1</b> <a class=“tocSkip”></a>\n",
    "\n",
    "Hola Tionatiuh, muchas gracias por todos los comentarios, ya los he revisado y he seguido tus consejos al pié de la letra, me han ayudado a mejorar significativamente este proyecto del Sprint 5.\n",
    "</div>"
   ]
  },
  {
   "cell_type": "markdown",
   "metadata": {
    "id": "3rYiDeEH0q0f"
   },
   "source": [
    "# 1 ¿Cuál es la mejor tarifa?\n",
    "\n",
    "Trabajas como analista para el operador de telecomunicaciones Megaline. La empresa ofrece a sus clientes dos tarifas de prepago, Surf y Ultimate. El departamento comercial quiere saber cuál de las tarifas genera más ingresos para poder ajustar el presupuesto de publicidad.\n",
    "\n",
    "Vas a realizar un análisis preliminar de las tarifas basado en una selección de clientes relativamente pequeña. Tendrás los datos de 500 clientes de Megaline: quiénes son los clientes, de dónde son, qué tarifa usan, así como la cantidad de llamadas que hicieron y los mensajes de texto que enviaron en 2018. Tu trabajo es analizar el comportamiento de los clientes y determinar qué tarifa de prepago genera más ingresos."
   ]
  },
  {
   "cell_type": "markdown",
   "metadata": {},
   "source": [
    "# Contenido <a id='back'></a>\n",
    "\n",
    "* [Introducción](#intro)\n",
    "    * [Descripción de los datos](#data_review)\n",
    "    * [Diccionario de datos](#dictionary)\n",
    "    * [Plan de solucion](#plan)\n",
    "* [1  ¿Cuál es la mejor tarifa?](#plan)\n",
    "    * [1.1  Inicialización](#kickoff)\n",
    "    * [1.2  Cargar datos](#dataload)\n",
    "    * [1.3  Preparar los datos](#data_preprocessing)\n",
    "    * [1.4  Tarifas](#fees)\n",
    "    * [1.5  Corregir datos](#fess_wrangling)\n",
    "    * [1.6  Enriquecer los datos](#fees_processing)\n",
    "    * [1.7  Usuarios/as](#users)\n",
    "        * [1.7.1  Corregir los datos](#users_wrangling)\n",
    "        * [1.7.2  Enriquecer los datos](#users_processing)\n",
    "    * [1.8  Llamadas](#calls)\n",
    "        * [1.8.1  Corregir los datos](#calls_wrangling)\n",
    "        * [1.8.2  Enriquecer los datos](calls_processing)\n",
    "    * [1.9  Mensajes](#sms)\n",
    "        * [1.9.1  Corregir los datos](#sms__wrangling)\n",
    "        * [1.9.2  Enriquecer los datos](#calls_processing)\n",
    "    * [1.10  Internet](#data)\n",
    "        * [1.10.1  Corregir los datos](#data_wrnagling)\n",
    "        * [1.10.2  Enriquecer los datos](#data_processing)\n",
    "    * [1.11  Estudiar las condiciones de las tarifas](#fees_analisys)\n",
    "    * [1.12  Agregar datos por usuario](#data_adding)\n",
    "    * [1.13  Estudia el comportamiento de usuario](#user_consumption)\n",
    "        * [1.13.1  Llamadas](#calls_consumption)\n",
    "        * [1.13.2  Mensajes](#sms_consumption)\n",
    "        * [1.13.3  Internet](#data_consumption)\n",
    "    * [1.14  Ingreso](#incomes)\n",
    "    * [1.15  Prueba las hipótesis estadísticas](#hypothesis)\n",
    "* [1.16  Conclusión general](#end)"
   ]
  },
  {
   "cell_type": "markdown",
   "metadata": {},
   "source": [
    "# Introducción  <a id='intro'></a>\n",
    "\n",
    "La empresa operadora de Telecomunicaciones MEGALINE ofrece a sus clientes dos tarifas de prepago, Surf y Ultimate. Necesitamos saber cuál de los dos planes genera más ingresos para ajustar el presupuesto de publicidad, de acuerdo a los requerimientos del departamento comercial de la compañía.\n",
    "\n",
    "Vamos a realizar un análisis preliminar de las tarifas basado en una selección de clientes relativamente pequeña. Tendrás los datos de 500 clientes de Megaline: quiénes son los clientes, de dónde son, qué tarifa usan, así como la cantidad de llamadas que hicieron y los mensajes de texto que enviaron en 2018. Tu trabajo es analizar el comportamiento de los clientes y determinar qué tarifa de prepago genera más ingresos. Más adelante, encontrarás en las instrucciones del proyecto cuáles son exactamente los aspectos del comportamiento de los clientes que debes analizar. Determinar qué plan, en promedio, aporta más ingresos es una cuestión que se abordará mediante pruebas estadísticas. Más adelante encontrarás más información al respecto en la sección de instrucciones del proyecto.\n",
    "\n",
    "Descripción de las tarifas:\n",
    "\n",
    "Nota: Megaline redondea los segundos a minutos y los megabytes a gigabytes. Para las llamadas, cada llamada individual se redondea: incluso si la llamada duró solo un segundo, se contará como un minuto. Para el tráfico web, las sesiones web individuales no se redondean. En vez de esto, el total del mes se redondea hacia arriba. Si alguien usa 1025 megabytes este mes, se le cobrarán 2 gigabytes.\n",
    "\n",
    "A continuación, puedes ver una descripción de las tarifas:\n",
    "\n",
    "Surf\n",
    "\n",
    "1.\tPago mensual: $20 usd.\n",
    "2.\t500 minutos al mes, 50 SMS y 15 GB de datos.\n",
    "3.\tSi se exceden los límites del paquete:\n",
    "\n",
    "    o\t1 minuto: 3 centavos.\n",
    "\n",
    "    o\t1 SMS: 3 centavos.\n",
    "\n",
    "    o\t1 GB de datos: $10 usd.\n",
    "\n",
    "Ultimate\n",
    "\n",
    "1.\tPago mensual: $70 usd.\n",
    "2.\t3000 minutos al mes, 1000 SMS y 30 GB de datos.\n",
    "3.\tSi se exceden los límites del paquete:\n",
    "\n",
    "    o\t1 minuto: 1 centavo.\n",
    "\n",
    "    o\t1 SMS: 1 centavo.\n",
    "    \n",
    "    o\t1 GB de datos: $7 usd."
   ]
  },
  {
   "cell_type": "markdown",
   "metadata": {},
   "source": [
    "[Volver a Contenido](#back)"
   ]
  },
  {
   "cell_type": "markdown",
   "metadata": {
    "id": "VNddPNRQ0q0w"
   },
   "source": [
    "[Te proporcionamos algunos comentarios para orientarte mientras completas este proyecto. Pero debes asegurarte de eliminar todos los comentarios entre corchetes antes de entregar tu proyecto.]\n",
    "\n",
    "[Antes de sumergirte en el análisis de datos, explica por tu propia cuenta el propósito del proyecto y las acciones que planeas realizar.]\n",
    "\n",
    "[Ten en cuenta que estudiar, modificar y analizar datos es un proceso iterativo. Es normal volver a los pasos anteriores y corregirlos/ampliarlos para permitir nuevos pasos.]"
   ]
  },
  {
   "cell_type": "markdown",
   "metadata": {},
   "source": [
    "# Descripción de los datos <a id='data_review'></a>\n",
    "\n",
    "Para este trabajo se tienen los siguientes 5 archivos de datos (`/datasets/megaline_users.csv `, `/datasets/megaline_plans.csv `, `/datasets/megaline_calls.csv `, `/datasets/megaline_internet.csv ` y `/datasets/megaline_messages.csv `) los cuales se leeran con la librería Pandas de Python, utilizando el método de lectura de archivos separados por comas `pd.read_csv()` usando el parámetro sep=';' para leer los datos correctamente. \n",
    "De primer instancia, se verificará la información para cada uno de los DataFrames."
   ]
  },
  {
   "cell_type": "markdown",
   "metadata": {},
   "source": [
    "## Diccionario de datos <a id='dictionary'></a>\n",
    "\n",
    "Contamos con cinco Datasets en el conjunto de datos, usaremos todas para hacer el preprocesamiento de los datos y el análisis exploratorio de los datos.\n",
    "A continuación se muestra el diccionario de datos que enumeroa las columnas de cada uno de los Datasets y se describen los datos que contienen.\n",
    "\n",
    "- `megaline_users.csv`: cada fila corresponde a un usuario en la Compañia Megaline (datos sobre los usuarios).\n",
    "    - `'user_id'`: identificador único del usuario.\n",
    "    - `'first_name'`: nombre del usuario.\n",
    "    - `'last_name'`: apellido del usuario.\n",
    "    - `'age'`: edad del usuario (en años).\n",
    "    - `'reg_date'`: fecha de suscripción (dd, mm, aa).\n",
    "    - `'churn_date'`: la fecha en la que el usuario dejó de usar el servicio (si el valor es ausente, la tarifa se estaba usando cuando fue extraída esta base de datos).\n",
    "    - `'city'`: ciudad de residencia del usuario.\n",
    "    - `'plan'`: nombre de la tarifa ('surf' o 'ultimate')\n",
    "\n",
    "- `megaline_plans.csv `: cada fila corresponde a... (datos sobre las tarifas).\n",
    "    - `'plan_name'`: nombre de la tarifa.\n",
    "    - `'usd_monthly_fee'`: pago mensual en dólares estadounidenses.\n",
    "    - `'minutes_included'`: minutos incluidos al mes.\n",
    "    - `'messages_included'`: SMS incluidos al mes.\n",
    "    - `'mb_per_month_included'`: datos incluidos al mes (en megabytes).\n",
    "    - `'usd_per_minute'`: precio por minuto tras exceder los límites del paquete (por ejemplo, si el paquete incluye 100 minutos, el operador cobrará el minuto 101).\n",
    "    - `'usd_per_message'`: precio por SMS tras exceder los límites del paquete.\n",
    "    - `'usd_per_gb'`: precio por gigabyte de los datos extra tras exceder los límites del paquete (1 GB = 1024 megabytes).\n",
    "\n",
    "- `megaline_calls.csv`: cada fila corresponde a una llamada única que realizaron los clientes (datos sobre las llamadas).\n",
    "    - `'id'`: identificador único de la llamada.\n",
    "    - `'call_date'`: fecha de la llamada.\n",
    "    - `'duration'`: duración de la llamada (en minutos).\n",
    "    - `'user_id'`: el identificador del usuario que realiza la llamada.\n",
    "\n",
    "- `megaline_internet.csv`: cada fila corresponde a una consulta en internet que realizaron los clientes (datos sobre las sesiones web).\n",
    "    - `'id'`: identificador único de la sesión.\n",
    "    - `'mb_used'`: el volumen de datos gastados durante la sesión (en megabytes).\n",
    "    - `'session_date'`: fecha de la sesión web.\n",
    "    - `'user_id'`: identificador del usuario.\n",
    "\n",
    "- `megaline_messages.csv`: cada fila corresponde a un mensaje tipo sms que realizaron los clientes (datos sobre los SMS).\n",
    "    - `'id'`: identificador único del SMS.\n",
    "    - `'message_date'`: fecha del SMS.\n",
    "    - `'user_id'`: el identificador del usuario que manda el SMS."
   ]
  },
  {
   "cell_type": "markdown",
   "metadata": {},
   "source": [
    "[Volver a Contenido](#back)"
   ]
  },
  {
   "cell_type": "markdown",
   "metadata": {},
   "source": [
    "## Plan de solución <a id='plan1'></a>\n",
    "\n",
    "Descripción de los datos.\n",
    "\n",
    "Para iniciar con la revisión de todos los Datasets, vamos a importa las librerias de Pandas, Numpy y Stats de Scipy que nos serviran para crear un Dataframe por cada uno de los archivos csv.\n",
    "\n",
    "De esta manera será posible revisar la información contenida en cada archivo, realizando el Preprocesamiento de los datos; como corrección de los nombres de las columnas para cumplir con el formato SnakeCase; rellenar valores ausentes, y eliminar datos duplicados de ser necesario.\n",
    "\n",
    "Finalmente, realizaremos el Análisis de los datos, creando Hipótesis que nos ayuden a tomar buenas desiciones con la información qye tenemos."
   ]
  },
  {
   "cell_type": "markdown",
   "metadata": {
    "id": "MQi4IPy70q0y"
   },
   "source": [
    "## 1.1 Inicialización <a id='kickoff'></a>"
   ]
  },
  {
   "cell_type": "code",
   "execution_count": 21,
   "metadata": {
    "id": "MtYIuBxu0q0z"
   },
   "outputs": [],
   "source": [
    "# Cargar todas las librerías\n",
    "import pandas as pd\n",
    "import numpy as np\n",
    "from matplotlib import pyplot as plt\n",
    "from scipy import stats as st\n",
    "import seaborn as sns\n",
    "import math"
   ]
  },
  {
   "cell_type": "markdown",
   "metadata": {},
   "source": [
    "<div class=\"alert alert-block alert-warning\">\n",
    "<b>Comentario revisor</b> <a class=\"tocSkip\"></a>\n",
    "\n",
    "\n",
    "Recomiendo cargar la libreria math. De esta manera, puedes realizar redondeos con otros métodos. \n",
    "</div>"
   ]
  },
  {
   "cell_type": "markdown",
   "metadata": {},
   "source": [
    "<div class=\"alert alert-block alert-info\">\n",
    "<b>Respuesta del estudiante, Iteración 1</b> <a class=“tocSkip”></a>\n",
    "\n",
    "Listo Tionatiuh, ya he agregado y cargado la librería de math para el redondeo de las cifras más adelante, gracias.\n",
    "</div>"
   ]
  },
  {
   "cell_type": "markdown",
   "metadata": {
    "id": "4ysWWC5i0q00"
   },
   "source": [
    "## 1.2 Cargar datos     <a id='dataload'></a>"
   ]
  },
  {
   "cell_type": "code",
   "execution_count": 22,
   "metadata": {
    "id": "CCqPW7rS0q01"
   },
   "outputs": [],
   "source": [
    "# Carga los archivos de datos en diferentes DataFrames\n",
    "df_users = pd.read_csv(r'C:\\Users\\10147115\\Python Project Folder\\TripleTen_DS\\Sprint 5_Análisis estadístico de datos\\Proyecto SP5\\Datasets\\megaline_users.csv', sep=',')\n",
    "df_plans = pd.read_csv(r'C:\\Users\\10147115\\Python Project Folder\\TripleTen_DS\\Sprint 5_Análisis estadístico de datos\\Proyecto SP5\\Datasets\\megaline_plans.csv', sep=',')\n",
    "df_calls = pd.read_csv(r'C:\\Users\\10147115\\Python Project Folder\\TripleTen_DS\\Sprint 5_Análisis estadístico de datos\\Proyecto SP5\\Datasets\\megaline_calls.csv', sep=',')\n",
    "df_data = pd.read_csv(r'C:\\Users\\10147115\\Python Project Folder\\TripleTen_DS\\Sprint 5_Análisis estadístico de datos\\Proyecto SP5\\Datasets\\megaline_internet.csv', sep=',')\n",
    "df_sms = pd.read_csv(r'C:\\Users\\10147115\\Python Project Folder\\TripleTen_DS\\Sprint 5_Análisis estadístico de datos\\Proyecto SP5\\Datasets\\megaline_messages.csv', sep=',')"
   ]
  },
  {
   "cell_type": "markdown",
   "metadata": {
    "id": "69qqoJ3r0q01"
   },
   "source": [
    "## 1.3 Preparar los datos <a id='data_preprocessing'></a>"
   ]
  },
  {
   "cell_type": "markdown",
   "metadata": {
    "id": "vUuZw80S0q01"
   },
   "source": [
    "[Los datos para este proyecto se dividen en varias tablas. \n",
    "Explora cada una para tener una comprensión inicial de los datos. \n",
    "Si es necesario, haz las correcciones requeridas en cada tabla.]"
   ]
  },
  {
   "cell_type": "markdown",
   "metadata": {
    "id": "ohBhimvH0q01"
   },
   "source": [
    "## 1.4 Tarifas <a id='fees'></a>"
   ]
  },
  {
   "cell_type": "code",
   "execution_count": 23,
   "metadata": {
    "id": "GptqP3Q40q02"
   },
   "outputs": [
    {
     "name": "stdout",
     "output_type": "stream",
     "text": [
      "<class 'pandas.core.frame.DataFrame'>\n",
      "RangeIndex: 2 entries, 0 to 1\n",
      "Data columns (total 8 columns):\n",
      " #   Column                 Non-Null Count  Dtype  \n",
      "---  ------                 --------------  -----  \n",
      " 0   messages_included      2 non-null      int64  \n",
      " 1   mb_per_month_included  2 non-null      int64  \n",
      " 2   minutes_included       2 non-null      int64  \n",
      " 3   usd_monthly_pay        2 non-null      int64  \n",
      " 4   usd_per_gb             2 non-null      int64  \n",
      " 5   usd_per_message        2 non-null      float64\n",
      " 6   usd_per_minute         2 non-null      float64\n",
      " 7   plan_name              2 non-null      object \n",
      "dtypes: float64(2), int64(5), object(1)\n",
      "memory usage: 260.0+ bytes\n",
      "       messages_included  mb_per_month_included  minutes_included  \\\n",
      "count           2.000000               2.000000          2.000000   \n",
      "mean          525.000000           23040.000000       1750.000000   \n",
      "std           671.751442           10861.160159       1767.766953   \n",
      "min            50.000000           15360.000000        500.000000   \n",
      "25%           287.500000           19200.000000       1125.000000   \n",
      "50%           525.000000           23040.000000       1750.000000   \n",
      "75%           762.500000           26880.000000       2375.000000   \n",
      "max          1000.000000           30720.000000       3000.000000   \n",
      "\n",
      "       usd_monthly_pay  usd_per_gb  usd_per_message  usd_per_minute  \n",
      "count         2.000000     2.00000         2.000000        2.000000  \n",
      "mean         45.000000     8.50000         0.020000        0.020000  \n",
      "std          35.355339     2.12132         0.014142        0.014142  \n",
      "min          20.000000     7.00000         0.010000        0.010000  \n",
      "25%          32.500000     7.75000         0.015000        0.015000  \n",
      "50%          45.000000     8.50000         0.020000        0.020000  \n",
      "75%          57.500000     9.25000         0.025000        0.025000  \n",
      "max          70.000000    10.00000         0.030000        0.030000  \n"
     ]
    }
   ],
   "source": [
    "# Imprime la información general/resumida sobre el DataFrame de las tarifas\n",
    "df_plans.info()\n",
    "print(df_plans.describe())"
   ]
  },
  {
   "cell_type": "code",
   "execution_count": 24,
   "metadata": {
    "id": "64xzjwL70q02"
   },
   "outputs": [
    {
     "data": {
      "text/html": [
       "<div>\n",
       "<style scoped>\n",
       "    .dataframe tbody tr th:only-of-type {\n",
       "        vertical-align: middle;\n",
       "    }\n",
       "\n",
       "    .dataframe tbody tr th {\n",
       "        vertical-align: top;\n",
       "    }\n",
       "\n",
       "    .dataframe thead th {\n",
       "        text-align: right;\n",
       "    }\n",
       "</style>\n",
       "<table border=\"1\" class=\"dataframe\">\n",
       "  <thead>\n",
       "    <tr style=\"text-align: right;\">\n",
       "      <th></th>\n",
       "      <th>messages_included</th>\n",
       "      <th>mb_per_month_included</th>\n",
       "      <th>minutes_included</th>\n",
       "      <th>usd_monthly_pay</th>\n",
       "      <th>usd_per_gb</th>\n",
       "      <th>usd_per_message</th>\n",
       "      <th>usd_per_minute</th>\n",
       "      <th>plan_name</th>\n",
       "    </tr>\n",
       "  </thead>\n",
       "  <tbody>\n",
       "    <tr>\n",
       "      <th>0</th>\n",
       "      <td>50</td>\n",
       "      <td>15360</td>\n",
       "      <td>500</td>\n",
       "      <td>20</td>\n",
       "      <td>10</td>\n",
       "      <td>0.03</td>\n",
       "      <td>0.03</td>\n",
       "      <td>surf</td>\n",
       "    </tr>\n",
       "    <tr>\n",
       "      <th>1</th>\n",
       "      <td>1000</td>\n",
       "      <td>30720</td>\n",
       "      <td>3000</td>\n",
       "      <td>70</td>\n",
       "      <td>7</td>\n",
       "      <td>0.01</td>\n",
       "      <td>0.01</td>\n",
       "      <td>ultimate</td>\n",
       "    </tr>\n",
       "  </tbody>\n",
       "</table>\n",
       "</div>"
      ],
      "text/plain": [
       "   messages_included  mb_per_month_included  minutes_included  \\\n",
       "0                 50                  15360               500   \n",
       "1               1000                  30720              3000   \n",
       "\n",
       "   usd_monthly_pay  usd_per_gb  usd_per_message  usd_per_minute plan_name  \n",
       "0               20          10             0.03            0.03      surf  \n",
       "1               70           7             0.01            0.01  ultimate  "
      ]
     },
     "execution_count": 24,
     "metadata": {},
     "output_type": "execute_result"
    }
   ],
   "source": [
    "# Imprime una muestra de los datos para las tarifas\n",
    "df_plans.head()\n"
   ]
  },
  {
   "cell_type": "markdown",
   "metadata": {},
   "source": [
    "[Volver a Contenido](#back)"
   ]
  },
  {
   "cell_type": "markdown",
   "metadata": {
    "id": "mEc_3_hs0q02"
   },
   "source": [
    "## Descripción\n",
    "\n",
    "El dataframe de los planes contiene únicamente 2 filas y 8 columnas, con información sobre las tarifas que se ofrecen.\n",
    "\n",
    "La mayoría de los datos de las columnas son de tipo números enteros o integer (int64), hay dos columnas con información monetaria (usd) que son de tipo números fraccionarios o float (float64), y finalmente una columna con información de tipo cualitativa o descriptiva (object) que son los nombres de los planes.\n",
    "\n",
    "La información se ve bien pero podemos cambiar los tipos de datos en todas las columnas que contengan información monetaria en usd, para homologar todas las columnas con esta información.\n",
    "\n",
    "No se tienen datos eliminados ni ausentes, los nombres de los planes están en minusculas, los nombres de las columnas cumplen el formato snake case, nombres en minúsculas, separación con guiones bajos, sin espacios al principio ni al final.\n",
    "\n",
    "Por lo que no hay mucho que corregir en este primer dataframe revisado."
   ]
  },
  {
   "cell_type": "markdown",
   "metadata": {
    "id": "R3C05i1l0q03"
   },
   "source": [
    "## 1.5 Corregir datos <a id='fees_wrangling'></a>"
   ]
  },
  {
   "cell_type": "markdown",
   "metadata": {
    "id": "bIi8StZI0q03"
   },
   "source": [
    "[Corrige los problemas obvios con los datos basándote en las observaciones iniciales.]"
   ]
  },
  {
   "cell_type": "code",
   "execution_count": 25,
   "metadata": {
    "id": "Y7SVmjGn0q03"
   },
   "outputs": [
    {
     "name": "stdout",
     "output_type": "stream",
     "text": [
      "<class 'pandas.core.frame.DataFrame'>\n",
      "RangeIndex: 2 entries, 0 to 1\n",
      "Data columns (total 8 columns):\n",
      " #   Column                 Non-Null Count  Dtype  \n",
      "---  ------                 --------------  -----  \n",
      " 0   messages_included      2 non-null      int64  \n",
      " 1   mb_per_month_included  2 non-null      int64  \n",
      " 2   minutes_included       2 non-null      int64  \n",
      " 3   usd_monthly_pay        2 non-null      float64\n",
      " 4   usd_per_gb             2 non-null      float64\n",
      " 5   usd_per_message        2 non-null      float64\n",
      " 6   usd_per_minute         2 non-null      float64\n",
      " 7   plan_name              2 non-null      object \n",
      "dtypes: float64(4), int64(3), object(1)\n",
      "memory usage: 260.0+ bytes\n"
     ]
    }
   ],
   "source": [
    "# Vamos a cambiar los Dtypes en todas las columnas con información monetaria (usd) de int64 a float64:\n",
    "df_plans['usd_monthly_pay'] = df_plans['usd_monthly_pay'].astype('float64')\n",
    "df_plans['usd_per_gb'] = df_plans['usd_per_gb'].astype('float64')\n",
    "df_plans.info()"
   ]
  },
  {
   "cell_type": "markdown",
   "metadata": {},
   "source": [
    "[Volver a Contenido](#back)"
   ]
  },
  {
   "cell_type": "markdown",
   "metadata": {
    "id": "LJir7bml0q03"
   },
   "source": [
    "## 1.6 Enriquecer los datos <a id='fees_processing'></a>"
   ]
  },
  {
   "cell_type": "markdown",
   "metadata": {
    "id": "eqADpCfg0q04"
   },
   "source": [
    "[Agrega factores adicionales a los datos si crees que pudieran ser útiles.]"
   ]
  },
  {
   "cell_type": "code",
   "execution_count": 26,
   "metadata": {
    "id": "gfcIEuXV0q04"
   },
   "outputs": [
    {
     "data": {
      "text/html": [
       "<div>\n",
       "<style scoped>\n",
       "    .dataframe tbody tr th:only-of-type {\n",
       "        vertical-align: middle;\n",
       "    }\n",
       "\n",
       "    .dataframe tbody tr th {\n",
       "        vertical-align: top;\n",
       "    }\n",
       "\n",
       "    .dataframe thead th {\n",
       "        text-align: right;\n",
       "    }\n",
       "</style>\n",
       "<table border=\"1\" class=\"dataframe\">\n",
       "  <thead>\n",
       "    <tr style=\"text-align: right;\">\n",
       "      <th></th>\n",
       "      <th>sms_included</th>\n",
       "      <th>mb_per_month_included</th>\n",
       "      <th>gb_included</th>\n",
       "      <th>min_included</th>\n",
       "      <th>usd_monthly_fee</th>\n",
       "      <th>usd_per_gb</th>\n",
       "      <th>usd_per_sms</th>\n",
       "      <th>usd_per_minute</th>\n",
       "      <th>plan</th>\n",
       "    </tr>\n",
       "  </thead>\n",
       "  <tbody>\n",
       "    <tr>\n",
       "      <th>0</th>\n",
       "      <td>50</td>\n",
       "      <td>15360</td>\n",
       "      <td>15</td>\n",
       "      <td>500</td>\n",
       "      <td>20.0</td>\n",
       "      <td>10.0</td>\n",
       "      <td>0.03</td>\n",
       "      <td>0.03</td>\n",
       "      <td>surf</td>\n",
       "    </tr>\n",
       "    <tr>\n",
       "      <th>1</th>\n",
       "      <td>1000</td>\n",
       "      <td>30720</td>\n",
       "      <td>30</td>\n",
       "      <td>3000</td>\n",
       "      <td>70.0</td>\n",
       "      <td>7.0</td>\n",
       "      <td>0.01</td>\n",
       "      <td>0.01</td>\n",
       "      <td>ultimate</td>\n",
       "    </tr>\n",
       "  </tbody>\n",
       "</table>\n",
       "</div>"
      ],
      "text/plain": [
       "   sms_included  mb_per_month_included  gb_included  min_included  \\\n",
       "0            50                  15360           15           500   \n",
       "1          1000                  30720           30          3000   \n",
       "\n",
       "   usd_monthly_fee  usd_per_gb  usd_per_sms  usd_per_minute      plan  \n",
       "0             20.0        10.0         0.03            0.03      surf  \n",
       "1             70.0         7.0         0.01            0.01  ultimate  "
      ]
     },
     "execution_count": 26,
     "metadata": {},
     "output_type": "execute_result"
    }
   ],
   "source": [
    "# Agregamos una columna que contenga el los Mb (Megabytes) incluídos en Gb (Gigabytes)\n",
    "gb_included = (df_plans['mb_per_month_included'] / 1024).astype('int64')\n",
    "df_plans.insert(2, 'gb_included', gb_included)\n",
    "\n",
    "# renombramos las columnas con nombres más descriptivos y para mantener la uniformidad\n",
    "df_plans.columns = ['sms_included', 'mb_per_month_included', 'gb_included', 'min_included', 'usd_monthly_fee', 'usd_per_gb', 'usd_per_sms', 'usd_per_minute','plan']\n",
    "df_plans"
   ]
  },
  {
   "cell_type": "markdown",
   "metadata": {},
   "source": [
    "\n",
    "<div class=\"alert alert-block alert-success\">\n",
    "<b>Comentario del revisor</b> <a class=\"tocSkip\"></a>\n",
    "\n",
    "Muy buen trabajo!! Es correcto considerar que 1024 megabytes son 1 gigabytes.\n",
    "    \n",
    "</div>"
   ]
  },
  {
   "cell_type": "markdown",
   "metadata": {},
   "source": [
    "[Volver a Contenido](#back)"
   ]
  },
  {
   "cell_type": "markdown",
   "metadata": {
    "id": "1n2X6WXf0q04"
   },
   "source": [
    "## 1.7 Usuarios/as <a id='users'></a>"
   ]
  },
  {
   "cell_type": "code",
   "execution_count": 27,
   "metadata": {
    "id": "2NgjWFqx0q05"
   },
   "outputs": [
    {
     "name": "stdout",
     "output_type": "stream",
     "text": [
      "<class 'pandas.core.frame.DataFrame'>\n",
      "RangeIndex: 500 entries, 0 to 499\n",
      "Data columns (total 8 columns):\n",
      " #   Column      Non-Null Count  Dtype \n",
      "---  ------      --------------  ----- \n",
      " 0   user_id     500 non-null    int64 \n",
      " 1   first_name  500 non-null    object\n",
      " 2   last_name   500 non-null    object\n",
      " 3   age         500 non-null    int64 \n",
      " 4   city        500 non-null    object\n",
      " 5   reg_date    500 non-null    object\n",
      " 6   plan        500 non-null    object\n",
      " 7   churn_date  34 non-null     object\n",
      "dtypes: int64(2), object(6)\n",
      "memory usage: 31.4+ KB\n",
      "           user_id         age\n",
      "count   500.000000  500.000000\n",
      "mean   1249.500000   45.486000\n",
      "std     144.481833   16.972269\n",
      "min    1000.000000   18.000000\n",
      "25%    1124.750000   30.000000\n",
      "50%    1249.500000   46.000000\n",
      "75%    1374.250000   61.000000\n",
      "max    1499.000000   75.000000\n"
     ]
    }
   ],
   "source": [
    "# Imprime la información general/resumida sobre el DataFrame de usuarios\n",
    "df_users.info()\n",
    "print(df_users.describe())"
   ]
  },
  {
   "cell_type": "code",
   "execution_count": 28,
   "metadata": {
    "id": "1IN1L9uh0q05"
   },
   "outputs": [
    {
     "data": {
      "text/html": [
       "<div>\n",
       "<style scoped>\n",
       "    .dataframe tbody tr th:only-of-type {\n",
       "        vertical-align: middle;\n",
       "    }\n",
       "\n",
       "    .dataframe tbody tr th {\n",
       "        vertical-align: top;\n",
       "    }\n",
       "\n",
       "    .dataframe thead th {\n",
       "        text-align: right;\n",
       "    }\n",
       "</style>\n",
       "<table border=\"1\" class=\"dataframe\">\n",
       "  <thead>\n",
       "    <tr style=\"text-align: right;\">\n",
       "      <th></th>\n",
       "      <th>user_id</th>\n",
       "      <th>first_name</th>\n",
       "      <th>last_name</th>\n",
       "      <th>age</th>\n",
       "      <th>city</th>\n",
       "      <th>reg_date</th>\n",
       "      <th>plan</th>\n",
       "      <th>churn_date</th>\n",
       "    </tr>\n",
       "  </thead>\n",
       "  <tbody>\n",
       "    <tr>\n",
       "      <th>192</th>\n",
       "      <td>1192</td>\n",
       "      <td>Korey</td>\n",
       "      <td>Goodwin</td>\n",
       "      <td>36</td>\n",
       "      <td>Buffalo-Cheektowaga, NY MSA</td>\n",
       "      <td>2018-10-02</td>\n",
       "      <td>surf</td>\n",
       "      <td>NaN</td>\n",
       "    </tr>\n",
       "    <tr>\n",
       "      <th>467</th>\n",
       "      <td>1467</td>\n",
       "      <td>Nickolas</td>\n",
       "      <td>Deleon</td>\n",
       "      <td>64</td>\n",
       "      <td>Atlanta-Sandy Springs-Roswell, GA MSA</td>\n",
       "      <td>2018-01-31</td>\n",
       "      <td>ultimate</td>\n",
       "      <td>2018-11-18</td>\n",
       "    </tr>\n",
       "    <tr>\n",
       "      <th>442</th>\n",
       "      <td>1442</td>\n",
       "      <td>Terrell</td>\n",
       "      <td>Caldwell</td>\n",
       "      <td>66</td>\n",
       "      <td>New York-Newark-Jersey City, NY-NJ-PA MSA</td>\n",
       "      <td>2018-05-25</td>\n",
       "      <td>ultimate</td>\n",
       "      <td>NaN</td>\n",
       "    </tr>\n",
       "    <tr>\n",
       "      <th>471</th>\n",
       "      <td>1471</td>\n",
       "      <td>Britni</td>\n",
       "      <td>Mitchell</td>\n",
       "      <td>59</td>\n",
       "      <td>Richmond, VA MSA</td>\n",
       "      <td>2018-10-13</td>\n",
       "      <td>surf</td>\n",
       "      <td>NaN</td>\n",
       "    </tr>\n",
       "    <tr>\n",
       "      <th>45</th>\n",
       "      <td>1045</td>\n",
       "      <td>Barney</td>\n",
       "      <td>Ortega</td>\n",
       "      <td>20</td>\n",
       "      <td>New York-Newark-Jersey City, NY-NJ-PA MSA</td>\n",
       "      <td>2018-10-15</td>\n",
       "      <td>surf</td>\n",
       "      <td>NaN</td>\n",
       "    </tr>\n",
       "  </tbody>\n",
       "</table>\n",
       "</div>"
      ],
      "text/plain": [
       "     user_id first_name last_name  age  \\\n",
       "192     1192      Korey   Goodwin   36   \n",
       "467     1467   Nickolas    Deleon   64   \n",
       "442     1442    Terrell  Caldwell   66   \n",
       "471     1471     Britni  Mitchell   59   \n",
       "45      1045     Barney    Ortega   20   \n",
       "\n",
       "                                          city    reg_date      plan  \\\n",
       "192                Buffalo-Cheektowaga, NY MSA  2018-10-02      surf   \n",
       "467      Atlanta-Sandy Springs-Roswell, GA MSA  2018-01-31  ultimate   \n",
       "442  New York-Newark-Jersey City, NY-NJ-PA MSA  2018-05-25  ultimate   \n",
       "471                           Richmond, VA MSA  2018-10-13      surf   \n",
       "45   New York-Newark-Jersey City, NY-NJ-PA MSA  2018-10-15      surf   \n",
       "\n",
       "     churn_date  \n",
       "192         NaN  \n",
       "467  2018-11-18  \n",
       "442         NaN  \n",
       "471         NaN  \n",
       "45          NaN  "
      ]
     },
     "execution_count": 28,
     "metadata": {},
     "output_type": "execute_result"
    }
   ],
   "source": [
    "# Imprime una muestra de datos para usuarios\n",
    "df_users.sample(5)"
   ]
  },
  {
   "cell_type": "markdown",
   "metadata": {
    "id": "dCZoUq4f0q06"
   },
   "source": [
    "En el dataframe de usuarios, podemos ver 8 columnas con diferentes datos, como 'user_id', 'first_name', 'last_name', 'age', 'city', 'reg_date', 'plan', 'churn_date'.\n",
    "\n",
    "Al revisar los Dtypes podemos ver eu la columna con fecha de registro 'reg_date' y la columna 'churn_date', son de tipo object; lo cual no es lo más correcto y debe ser corregido a tipo de fecha y con formato de fecha.\n",
    "\n",
    "También en la última columna llamada 'churn_date' solo tenemos 34 registros y los demás son valores ausentes, lo cual debe corregirse para evitar problemas en el análisis posterios, estos podrían sustituirse con un valor cero o desconocido (unknown).\n",
    "\n",
    "La muestra a analizar es de 500 usuarios."
   ]
  },
  {
   "cell_type": "markdown",
   "metadata": {
    "id": "BX5FQh_I0q06"
   },
   "source": [
    "### 1.7.1 Corregir los datos <a id='users_wrangling'></a>"
   ]
  },
  {
   "cell_type": "markdown",
   "metadata": {
    "id": "8OdKMwJv0q06"
   },
   "source": [
    "Es necesario cambiar el formato de las columnas con fechas, para esto utilizaremos un método de Pandas llamado to_datetime.\n",
    "\n",
    "Tanto la columna llamada 'reg_date' como la columna 'churn_date' se modificará su formato.\n",
    "\n",
    "Rellenar los valores ausentes en la columna 'churn_date' con el nombre 'unknown'.\n",
    "\n",
    "Renombraremos las columnas con nombres más descriptivos."
   ]
  },
  {
   "cell_type": "code",
   "execution_count": 29,
   "metadata": {
    "id": "yUqX-K0C0q07"
   },
   "outputs": [
    {
     "name": "stdout",
     "output_type": "stream",
     "text": [
      "<class 'pandas.core.frame.DataFrame'>\n",
      "RangeIndex: 500 entries, 0 to 499\n",
      "Data columns (total 8 columns):\n",
      " #   Column      Non-Null Count  Dtype         \n",
      "---  ------      --------------  -----         \n",
      " 0   user_id     500 non-null    int64         \n",
      " 1   first_name  500 non-null    object        \n",
      " 2   last_name   500 non-null    object        \n",
      " 3   user_age    500 non-null    int64         \n",
      " 4   user_city   500 non-null    object        \n",
      " 5   reg_date    500 non-null    datetime64[ns]\n",
      " 6   plan        500 non-null    object        \n",
      " 7   churn_date  500 non-null    object        \n",
      "dtypes: datetime64[ns](1), int64(2), object(5)\n",
      "memory usage: 31.4+ KB\n"
     ]
    },
    {
     "name": "stderr",
     "output_type": "stream",
     "text": [
      "C:\\Users\\10147115\\AppData\\Local\\Temp\\ipykernel_7408\\3118405040.py:2: UserWarning: The argument 'infer_datetime_format' is deprecated and will be removed in a future version. A strict version of it is now the default, see https://pandas.pydata.org/pdeps/0004-consistent-to-datetime-parsing.html. You can safely remove this argument.\n",
      "  df_users['reg_date'] = pd.to_datetime(df_users['reg_date'], infer_datetime_format=True)\n",
      "C:\\Users\\10147115\\AppData\\Local\\Temp\\ipykernel_7408\\3118405040.py:3: UserWarning: The argument 'infer_datetime_format' is deprecated and will be removed in a future version. A strict version of it is now the default, see https://pandas.pydata.org/pdeps/0004-consistent-to-datetime-parsing.html. You can safely remove this argument.\n",
      "  df_users['churn_date'] = pd.to_datetime(df_users['churn_date'], infer_datetime_format=True)\n"
     ]
    },
    {
     "data": {
      "text/html": [
       "<div>\n",
       "<style scoped>\n",
       "    .dataframe tbody tr th:only-of-type {\n",
       "        vertical-align: middle;\n",
       "    }\n",
       "\n",
       "    .dataframe tbody tr th {\n",
       "        vertical-align: top;\n",
       "    }\n",
       "\n",
       "    .dataframe thead th {\n",
       "        text-align: right;\n",
       "    }\n",
       "</style>\n",
       "<table border=\"1\" class=\"dataframe\">\n",
       "  <thead>\n",
       "    <tr style=\"text-align: right;\">\n",
       "      <th></th>\n",
       "      <th>user_id</th>\n",
       "      <th>first_name</th>\n",
       "      <th>last_name</th>\n",
       "      <th>user_age</th>\n",
       "      <th>user_city</th>\n",
       "      <th>reg_date</th>\n",
       "      <th>plan</th>\n",
       "      <th>churn_date</th>\n",
       "    </tr>\n",
       "  </thead>\n",
       "  <tbody>\n",
       "    <tr>\n",
       "      <th>0</th>\n",
       "      <td>1000</td>\n",
       "      <td>Anamaria</td>\n",
       "      <td>Bauer</td>\n",
       "      <td>45</td>\n",
       "      <td>Atlanta-Sandy Springs-Roswell, GA MSA</td>\n",
       "      <td>2018-12-24</td>\n",
       "      <td>ultimate</td>\n",
       "      <td>Unknown</td>\n",
       "    </tr>\n",
       "    <tr>\n",
       "      <th>1</th>\n",
       "      <td>1001</td>\n",
       "      <td>Mickey</td>\n",
       "      <td>Wilkerson</td>\n",
       "      <td>28</td>\n",
       "      <td>Seattle-Tacoma-Bellevue, WA MSA</td>\n",
       "      <td>2018-08-13</td>\n",
       "      <td>surf</td>\n",
       "      <td>Unknown</td>\n",
       "    </tr>\n",
       "    <tr>\n",
       "      <th>2</th>\n",
       "      <td>1002</td>\n",
       "      <td>Carlee</td>\n",
       "      <td>Hoffman</td>\n",
       "      <td>36</td>\n",
       "      <td>Las Vegas-Henderson-Paradise, NV MSA</td>\n",
       "      <td>2018-10-21</td>\n",
       "      <td>surf</td>\n",
       "      <td>Unknown</td>\n",
       "    </tr>\n",
       "    <tr>\n",
       "      <th>3</th>\n",
       "      <td>1003</td>\n",
       "      <td>Reynaldo</td>\n",
       "      <td>Jenkins</td>\n",
       "      <td>52</td>\n",
       "      <td>Tulsa, OK MSA</td>\n",
       "      <td>2018-01-28</td>\n",
       "      <td>surf</td>\n",
       "      <td>Unknown</td>\n",
       "    </tr>\n",
       "    <tr>\n",
       "      <th>4</th>\n",
       "      <td>1004</td>\n",
       "      <td>Leonila</td>\n",
       "      <td>Thompson</td>\n",
       "      <td>40</td>\n",
       "      <td>Seattle-Tacoma-Bellevue, WA MSA</td>\n",
       "      <td>2018-05-23</td>\n",
       "      <td>surf</td>\n",
       "      <td>Unknown</td>\n",
       "    </tr>\n",
       "    <tr>\n",
       "      <th>...</th>\n",
       "      <td>...</td>\n",
       "      <td>...</td>\n",
       "      <td>...</td>\n",
       "      <td>...</td>\n",
       "      <td>...</td>\n",
       "      <td>...</td>\n",
       "      <td>...</td>\n",
       "      <td>...</td>\n",
       "    </tr>\n",
       "    <tr>\n",
       "      <th>495</th>\n",
       "      <td>1495</td>\n",
       "      <td>Fidel</td>\n",
       "      <td>Sharpe</td>\n",
       "      <td>67</td>\n",
       "      <td>New York-Newark-Jersey City, NY-NJ-PA MSA</td>\n",
       "      <td>2018-09-04</td>\n",
       "      <td>surf</td>\n",
       "      <td>Unknown</td>\n",
       "    </tr>\n",
       "    <tr>\n",
       "      <th>496</th>\n",
       "      <td>1496</td>\n",
       "      <td>Ariel</td>\n",
       "      <td>Shepherd</td>\n",
       "      <td>49</td>\n",
       "      <td>New Orleans-Metairie, LA MSA</td>\n",
       "      <td>2018-02-20</td>\n",
       "      <td>surf</td>\n",
       "      <td>Unknown</td>\n",
       "    </tr>\n",
       "    <tr>\n",
       "      <th>497</th>\n",
       "      <td>1497</td>\n",
       "      <td>Donte</td>\n",
       "      <td>Barrera</td>\n",
       "      <td>49</td>\n",
       "      <td>Los Angeles-Long Beach-Anaheim, CA MSA</td>\n",
       "      <td>2018-12-10</td>\n",
       "      <td>ultimate</td>\n",
       "      <td>Unknown</td>\n",
       "    </tr>\n",
       "    <tr>\n",
       "      <th>498</th>\n",
       "      <td>1498</td>\n",
       "      <td>Scot</td>\n",
       "      <td>Williamson</td>\n",
       "      <td>51</td>\n",
       "      <td>New York-Newark-Jersey City, NY-NJ-PA MSA</td>\n",
       "      <td>2018-02-04</td>\n",
       "      <td>surf</td>\n",
       "      <td>Unknown</td>\n",
       "    </tr>\n",
       "    <tr>\n",
       "      <th>499</th>\n",
       "      <td>1499</td>\n",
       "      <td>Shena</td>\n",
       "      <td>Dickson</td>\n",
       "      <td>37</td>\n",
       "      <td>Orlando-Kissimmee-Sanford, FL MSA</td>\n",
       "      <td>2018-05-06</td>\n",
       "      <td>surf</td>\n",
       "      <td>Unknown</td>\n",
       "    </tr>\n",
       "  </tbody>\n",
       "</table>\n",
       "<p>500 rows × 8 columns</p>\n",
       "</div>"
      ],
      "text/plain": [
       "     user_id first_name   last_name  user_age  \\\n",
       "0       1000   Anamaria       Bauer        45   \n",
       "1       1001     Mickey   Wilkerson        28   \n",
       "2       1002     Carlee     Hoffman        36   \n",
       "3       1003   Reynaldo     Jenkins        52   \n",
       "4       1004    Leonila    Thompson        40   \n",
       "..       ...        ...         ...       ...   \n",
       "495     1495      Fidel      Sharpe        67   \n",
       "496     1496      Ariel    Shepherd        49   \n",
       "497     1497      Donte     Barrera        49   \n",
       "498     1498       Scot  Williamson        51   \n",
       "499     1499      Shena     Dickson        37   \n",
       "\n",
       "                                     user_city   reg_date      plan churn_date  \n",
       "0        Atlanta-Sandy Springs-Roswell, GA MSA 2018-12-24  ultimate    Unknown  \n",
       "1              Seattle-Tacoma-Bellevue, WA MSA 2018-08-13      surf    Unknown  \n",
       "2         Las Vegas-Henderson-Paradise, NV MSA 2018-10-21      surf    Unknown  \n",
       "3                                Tulsa, OK MSA 2018-01-28      surf    Unknown  \n",
       "4              Seattle-Tacoma-Bellevue, WA MSA 2018-05-23      surf    Unknown  \n",
       "..                                         ...        ...       ...        ...  \n",
       "495  New York-Newark-Jersey City, NY-NJ-PA MSA 2018-09-04      surf    Unknown  \n",
       "496               New Orleans-Metairie, LA MSA 2018-02-20      surf    Unknown  \n",
       "497     Los Angeles-Long Beach-Anaheim, CA MSA 2018-12-10  ultimate    Unknown  \n",
       "498  New York-Newark-Jersey City, NY-NJ-PA MSA 2018-02-04      surf    Unknown  \n",
       "499          Orlando-Kissimmee-Sanford, FL MSA 2018-05-06      surf    Unknown  \n",
       "\n",
       "[500 rows x 8 columns]"
      ]
     },
     "execution_count": 29,
     "metadata": {},
     "output_type": "execute_result"
    }
   ],
   "source": [
    "# cambiamos el formato a fecha en las columnas 'reg_date' y 'churn_date'\n",
    "df_users['reg_date'] = pd.to_datetime(df_users['reg_date'], infer_datetime_format=True)\n",
    "df_users['churn_date'] = pd.to_datetime(df_users['churn_date'], infer_datetime_format=True)\n",
    "\n",
    "df_users['churn_date'] = df_users['churn_date'].fillna('Unknown')   # Rellenamos los valores ausentes\n",
    "df_users.columns = ['user_id', 'first_name', 'last_name', 'user_age', 'user_city', 'reg_date', 'plan', 'churn_date']   # renombramos las columnas más descriptivas\n",
    "\n",
    "df_users.info()     # verificamos la información general y los Dtypes de las columnas\n",
    "df_users"
   ]
  },
  {
   "cell_type": "markdown",
   "metadata": {
    "id": "ycwuARJp0q07"
   },
   "source": [
    "### 1.7.2 Enriquecer los datos <a id='users_processing'></a>"
   ]
  },
  {
   "cell_type": "markdown",
   "metadata": {
    "id": "96NIh4CJ0q08"
   },
   "source": [
    "Al tener una columna con la Fecha de Registro, podemos dividirla para extraer el mes y el año y agregarlos en nuevas columnas cada valor.\n",
    "Esta información separada, nos podría ser útil para algun análisis más adelante."
   ]
  },
  {
   "cell_type": "code",
   "execution_count": 30,
   "metadata": {
    "id": "iq0AaBS90q08"
   },
   "outputs": [
    {
     "data": {
      "text/html": [
       "<div>\n",
       "<style scoped>\n",
       "    .dataframe tbody tr th:only-of-type {\n",
       "        vertical-align: middle;\n",
       "    }\n",
       "\n",
       "    .dataframe tbody tr th {\n",
       "        vertical-align: top;\n",
       "    }\n",
       "\n",
       "    .dataframe thead th {\n",
       "        text-align: right;\n",
       "    }\n",
       "</style>\n",
       "<table border=\"1\" class=\"dataframe\">\n",
       "  <thead>\n",
       "    <tr style=\"text-align: right;\">\n",
       "      <th></th>\n",
       "      <th>user_id</th>\n",
       "      <th>first_name</th>\n",
       "      <th>last_name</th>\n",
       "      <th>user_age</th>\n",
       "      <th>user_city</th>\n",
       "      <th>reg_date</th>\n",
       "      <th>reg_month</th>\n",
       "      <th>plan</th>\n",
       "      <th>churn_date</th>\n",
       "    </tr>\n",
       "  </thead>\n",
       "  <tbody>\n",
       "    <tr>\n",
       "      <th>0</th>\n",
       "      <td>1000</td>\n",
       "      <td>Anamaria</td>\n",
       "      <td>Bauer</td>\n",
       "      <td>45</td>\n",
       "      <td>Atlanta-Sandy Springs-Roswell, GA MSA</td>\n",
       "      <td>2018-12-24</td>\n",
       "      <td>12</td>\n",
       "      <td>ultimate</td>\n",
       "      <td>Unknown</td>\n",
       "    </tr>\n",
       "    <tr>\n",
       "      <th>1</th>\n",
       "      <td>1001</td>\n",
       "      <td>Mickey</td>\n",
       "      <td>Wilkerson</td>\n",
       "      <td>28</td>\n",
       "      <td>Seattle-Tacoma-Bellevue, WA MSA</td>\n",
       "      <td>2018-08-13</td>\n",
       "      <td>8</td>\n",
       "      <td>surf</td>\n",
       "      <td>Unknown</td>\n",
       "    </tr>\n",
       "    <tr>\n",
       "      <th>2</th>\n",
       "      <td>1002</td>\n",
       "      <td>Carlee</td>\n",
       "      <td>Hoffman</td>\n",
       "      <td>36</td>\n",
       "      <td>Las Vegas-Henderson-Paradise, NV MSA</td>\n",
       "      <td>2018-10-21</td>\n",
       "      <td>10</td>\n",
       "      <td>surf</td>\n",
       "      <td>Unknown</td>\n",
       "    </tr>\n",
       "    <tr>\n",
       "      <th>3</th>\n",
       "      <td>1003</td>\n",
       "      <td>Reynaldo</td>\n",
       "      <td>Jenkins</td>\n",
       "      <td>52</td>\n",
       "      <td>Tulsa, OK MSA</td>\n",
       "      <td>2018-01-28</td>\n",
       "      <td>1</td>\n",
       "      <td>surf</td>\n",
       "      <td>Unknown</td>\n",
       "    </tr>\n",
       "    <tr>\n",
       "      <th>4</th>\n",
       "      <td>1004</td>\n",
       "      <td>Leonila</td>\n",
       "      <td>Thompson</td>\n",
       "      <td>40</td>\n",
       "      <td>Seattle-Tacoma-Bellevue, WA MSA</td>\n",
       "      <td>2018-05-23</td>\n",
       "      <td>5</td>\n",
       "      <td>surf</td>\n",
       "      <td>Unknown</td>\n",
       "    </tr>\n",
       "    <tr>\n",
       "      <th>...</th>\n",
       "      <td>...</td>\n",
       "      <td>...</td>\n",
       "      <td>...</td>\n",
       "      <td>...</td>\n",
       "      <td>...</td>\n",
       "      <td>...</td>\n",
       "      <td>...</td>\n",
       "      <td>...</td>\n",
       "      <td>...</td>\n",
       "    </tr>\n",
       "    <tr>\n",
       "      <th>495</th>\n",
       "      <td>1495</td>\n",
       "      <td>Fidel</td>\n",
       "      <td>Sharpe</td>\n",
       "      <td>67</td>\n",
       "      <td>New York-Newark-Jersey City, NY-NJ-PA MSA</td>\n",
       "      <td>2018-09-04</td>\n",
       "      <td>9</td>\n",
       "      <td>surf</td>\n",
       "      <td>Unknown</td>\n",
       "    </tr>\n",
       "    <tr>\n",
       "      <th>496</th>\n",
       "      <td>1496</td>\n",
       "      <td>Ariel</td>\n",
       "      <td>Shepherd</td>\n",
       "      <td>49</td>\n",
       "      <td>New Orleans-Metairie, LA MSA</td>\n",
       "      <td>2018-02-20</td>\n",
       "      <td>2</td>\n",
       "      <td>surf</td>\n",
       "      <td>Unknown</td>\n",
       "    </tr>\n",
       "    <tr>\n",
       "      <th>497</th>\n",
       "      <td>1497</td>\n",
       "      <td>Donte</td>\n",
       "      <td>Barrera</td>\n",
       "      <td>49</td>\n",
       "      <td>Los Angeles-Long Beach-Anaheim, CA MSA</td>\n",
       "      <td>2018-12-10</td>\n",
       "      <td>12</td>\n",
       "      <td>ultimate</td>\n",
       "      <td>Unknown</td>\n",
       "    </tr>\n",
       "    <tr>\n",
       "      <th>498</th>\n",
       "      <td>1498</td>\n",
       "      <td>Scot</td>\n",
       "      <td>Williamson</td>\n",
       "      <td>51</td>\n",
       "      <td>New York-Newark-Jersey City, NY-NJ-PA MSA</td>\n",
       "      <td>2018-02-04</td>\n",
       "      <td>2</td>\n",
       "      <td>surf</td>\n",
       "      <td>Unknown</td>\n",
       "    </tr>\n",
       "    <tr>\n",
       "      <th>499</th>\n",
       "      <td>1499</td>\n",
       "      <td>Shena</td>\n",
       "      <td>Dickson</td>\n",
       "      <td>37</td>\n",
       "      <td>Orlando-Kissimmee-Sanford, FL MSA</td>\n",
       "      <td>2018-05-06</td>\n",
       "      <td>5</td>\n",
       "      <td>surf</td>\n",
       "      <td>Unknown</td>\n",
       "    </tr>\n",
       "  </tbody>\n",
       "</table>\n",
       "<p>500 rows × 9 columns</p>\n",
       "</div>"
      ],
      "text/plain": [
       "     user_id first_name   last_name  user_age  \\\n",
       "0       1000   Anamaria       Bauer        45   \n",
       "1       1001     Mickey   Wilkerson        28   \n",
       "2       1002     Carlee     Hoffman        36   \n",
       "3       1003   Reynaldo     Jenkins        52   \n",
       "4       1004    Leonila    Thompson        40   \n",
       "..       ...        ...         ...       ...   \n",
       "495     1495      Fidel      Sharpe        67   \n",
       "496     1496      Ariel    Shepherd        49   \n",
       "497     1497      Donte     Barrera        49   \n",
       "498     1498       Scot  Williamson        51   \n",
       "499     1499      Shena     Dickson        37   \n",
       "\n",
       "                                     user_city   reg_date  reg_month  \\\n",
       "0        Atlanta-Sandy Springs-Roswell, GA MSA 2018-12-24         12   \n",
       "1              Seattle-Tacoma-Bellevue, WA MSA 2018-08-13          8   \n",
       "2         Las Vegas-Henderson-Paradise, NV MSA 2018-10-21         10   \n",
       "3                                Tulsa, OK MSA 2018-01-28          1   \n",
       "4              Seattle-Tacoma-Bellevue, WA MSA 2018-05-23          5   \n",
       "..                                         ...        ...        ...   \n",
       "495  New York-Newark-Jersey City, NY-NJ-PA MSA 2018-09-04          9   \n",
       "496               New Orleans-Metairie, LA MSA 2018-02-20          2   \n",
       "497     Los Angeles-Long Beach-Anaheim, CA MSA 2018-12-10         12   \n",
       "498  New York-Newark-Jersey City, NY-NJ-PA MSA 2018-02-04          2   \n",
       "499          Orlando-Kissimmee-Sanford, FL MSA 2018-05-06          5   \n",
       "\n",
       "         plan churn_date  \n",
       "0    ultimate    Unknown  \n",
       "1        surf    Unknown  \n",
       "2        surf    Unknown  \n",
       "3        surf    Unknown  \n",
       "4        surf    Unknown  \n",
       "..        ...        ...  \n",
       "495      surf    Unknown  \n",
       "496      surf    Unknown  \n",
       "497  ultimate    Unknown  \n",
       "498      surf    Unknown  \n",
       "499      surf    Unknown  \n",
       "\n",
       "[500 rows x 9 columns]"
      ]
     },
     "execution_count": 30,
     "metadata": {},
     "output_type": "execute_result"
    }
   ],
   "source": [
    "# Separaremos los meses de la fecha de registro\n",
    "reg_month = df_users['reg_date'].dt.month\n",
    "df_users.insert(6, 'reg_month', reg_month)   # agregamos una columna con el mes de registro\n",
    "\n",
    "df_users    # imrpimimos el nuevo datafram"
   ]
  },
  {
   "cell_type": "markdown",
   "metadata": {},
   "source": [
    "[Volver a Contenido](#back)"
   ]
  },
  {
   "cell_type": "markdown",
   "metadata": {
    "id": "o7MeKCid0q08"
   },
   "source": [
    "## 1.8 Llamadas <a id='calls'></a>"
   ]
  },
  {
   "cell_type": "code",
   "execution_count": 31,
   "metadata": {
    "id": "6dDlnoDm0q08"
   },
   "outputs": [
    {
     "name": "stdout",
     "output_type": "stream",
     "text": [
      "<class 'pandas.core.frame.DataFrame'>\n",
      "RangeIndex: 137735 entries, 0 to 137734\n",
      "Data columns (total 4 columns):\n",
      " #   Column     Non-Null Count   Dtype  \n",
      "---  ------     --------------   -----  \n",
      " 0   id         137735 non-null  object \n",
      " 1   user_id    137735 non-null  int64  \n",
      " 2   call_date  137735 non-null  object \n",
      " 3   duration   137735 non-null  float64\n",
      "dtypes: float64(1), int64(1), object(2)\n",
      "memory usage: 4.2+ MB\n"
     ]
    }
   ],
   "source": [
    "# Imprime la información general/resumida sobre el DataFrame de las llamadas\n",
    "df_calls.info()"
   ]
  },
  {
   "cell_type": "code",
   "execution_count": 32,
   "metadata": {
    "id": "kuh1vlNB0q09"
   },
   "outputs": [
    {
     "data": {
      "text/html": [
       "<div>\n",
       "<style scoped>\n",
       "    .dataframe tbody tr th:only-of-type {\n",
       "        vertical-align: middle;\n",
       "    }\n",
       "\n",
       "    .dataframe tbody tr th {\n",
       "        vertical-align: top;\n",
       "    }\n",
       "\n",
       "    .dataframe thead th {\n",
       "        text-align: right;\n",
       "    }\n",
       "</style>\n",
       "<table border=\"1\" class=\"dataframe\">\n",
       "  <thead>\n",
       "    <tr style=\"text-align: right;\">\n",
       "      <th></th>\n",
       "      <th>id</th>\n",
       "      <th>user_id</th>\n",
       "      <th>call_date</th>\n",
       "      <th>duration</th>\n",
       "    </tr>\n",
       "  </thead>\n",
       "  <tbody>\n",
       "    <tr>\n",
       "      <th>50568</th>\n",
       "      <td>1182_157</td>\n",
       "      <td>1182</td>\n",
       "      <td>2018-09-06</td>\n",
       "      <td>5.74</td>\n",
       "    </tr>\n",
       "    <tr>\n",
       "      <th>56041</th>\n",
       "      <td>1201_139</td>\n",
       "      <td>1201</td>\n",
       "      <td>2018-07-29</td>\n",
       "      <td>6.15</td>\n",
       "    </tr>\n",
       "    <tr>\n",
       "      <th>22256</th>\n",
       "      <td>1082_225</td>\n",
       "      <td>1082</td>\n",
       "      <td>2018-07-15</td>\n",
       "      <td>10.84</td>\n",
       "    </tr>\n",
       "    <tr>\n",
       "      <th>9899</th>\n",
       "      <td>1044_173</td>\n",
       "      <td>1044</td>\n",
       "      <td>2018-12-22</td>\n",
       "      <td>6.17</td>\n",
       "    </tr>\n",
       "    <tr>\n",
       "      <th>1003</th>\n",
       "      <td>1007_24</td>\n",
       "      <td>1007</td>\n",
       "      <td>2018-10-29</td>\n",
       "      <td>4.66</td>\n",
       "    </tr>\n",
       "  </tbody>\n",
       "</table>\n",
       "</div>"
      ],
      "text/plain": [
       "             id  user_id   call_date  duration\n",
       "50568  1182_157     1182  2018-09-06      5.74\n",
       "56041  1201_139     1201  2018-07-29      6.15\n",
       "22256  1082_225     1082  2018-07-15     10.84\n",
       "9899   1044_173     1044  2018-12-22      6.17\n",
       "1003    1007_24     1007  2018-10-29      4.66"
      ]
     },
     "execution_count": 32,
     "metadata": {},
     "output_type": "execute_result"
    }
   ],
   "source": [
    "# Imprime una muestra de datos para las llamadas\n",
    "df_calls.sample(5)"
   ]
  },
  {
   "cell_type": "markdown",
   "metadata": {
    "id": "DOAxYJSx0q09"
   },
   "source": [
    "En el dataframe de llamadas, tenemos únicamente 4 columnas: 'id', 'user_id', 'call_date' y 'duration'.\n",
    "\n",
    "Revisando los Dtypes podemos notar que la información de la columna 'call_date' está como un 'object' lo cual no es correcto, tendremos que corregir este formato. al igual que la duración de las llamadas está en minutos.\n",
    "\n",
    "Se tiene un registro de 137,735 llamadas, sin datos ausentes o nulos."
   ]
  },
  {
   "cell_type": "markdown",
   "metadata": {
    "id": "S7hzxmbX0q0-"
   },
   "source": [
    "### 1.8.1 Corregir los datos <a id='calls_wrangling'></a>"
   ]
  },
  {
   "cell_type": "markdown",
   "metadata": {
    "id": "YxWyAjD20q0-"
   },
   "source": [
    "Vamos a cambiar el Dtype de la columna 'call_date' para convertirlo en formato de fecha.\n",
    "\n",
    "También actualizaremos el nombre de las columnas.\n",
    "\n",
    "Vamos a redondear la duración de las llamadas para efectos prácticos."
   ]
  },
  {
   "cell_type": "code",
   "execution_count": 33,
   "metadata": {
    "id": "S2r8xA4f0q0-"
   },
   "outputs": [
    {
     "name": "stdout",
     "output_type": "stream",
     "text": [
      "<class 'pandas.core.frame.DataFrame'>\n",
      "RangeIndex: 137735 entries, 0 to 137734\n",
      "Data columns (total 4 columns):\n",
      " #   Column        Non-Null Count   Dtype         \n",
      "---  ------        --------------   -----         \n",
      " 0   call_id       137735 non-null  object        \n",
      " 1   user_id       137735 non-null  int64         \n",
      " 2   call_date     137735 non-null  datetime64[ns]\n",
      " 3   duration_min  137735 non-null  float64       \n",
      "dtypes: datetime64[ns](1), float64(1), int64(1), object(1)\n",
      "memory usage: 4.2+ MB\n"
     ]
    },
    {
     "name": "stderr",
     "output_type": "stream",
     "text": [
      "C:\\Users\\10147115\\AppData\\Local\\Temp\\ipykernel_7408\\3572108234.py:1: UserWarning: The argument 'infer_datetime_format' is deprecated and will be removed in a future version. A strict version of it is now the default, see https://pandas.pydata.org/pdeps/0004-consistent-to-datetime-parsing.html. You can safely remove this argument.\n",
      "  df_calls['call_date'] = pd.to_datetime(df_calls['call_date'], infer_datetime_format=True)       # cambiamos el formato a fecha en la columna de 'call_date'\n"
     ]
    },
    {
     "data": {
      "text/html": [
       "<div>\n",
       "<style scoped>\n",
       "    .dataframe tbody tr th:only-of-type {\n",
       "        vertical-align: middle;\n",
       "    }\n",
       "\n",
       "    .dataframe tbody tr th {\n",
       "        vertical-align: top;\n",
       "    }\n",
       "\n",
       "    .dataframe thead th {\n",
       "        text-align: right;\n",
       "    }\n",
       "</style>\n",
       "<table border=\"1\" class=\"dataframe\">\n",
       "  <thead>\n",
       "    <tr style=\"text-align: right;\">\n",
       "      <th></th>\n",
       "      <th>call_id</th>\n",
       "      <th>user_id</th>\n",
       "      <th>call_date</th>\n",
       "      <th>duration_min</th>\n",
       "    </tr>\n",
       "  </thead>\n",
       "  <tbody>\n",
       "    <tr>\n",
       "      <th>0</th>\n",
       "      <td>1000_93</td>\n",
       "      <td>1000</td>\n",
       "      <td>2018-12-27</td>\n",
       "      <td>8.52</td>\n",
       "    </tr>\n",
       "    <tr>\n",
       "      <th>1</th>\n",
       "      <td>1000_145</td>\n",
       "      <td>1000</td>\n",
       "      <td>2018-12-27</td>\n",
       "      <td>13.66</td>\n",
       "    </tr>\n",
       "    <tr>\n",
       "      <th>2</th>\n",
       "      <td>1000_247</td>\n",
       "      <td>1000</td>\n",
       "      <td>2018-12-27</td>\n",
       "      <td>14.48</td>\n",
       "    </tr>\n",
       "    <tr>\n",
       "      <th>3</th>\n",
       "      <td>1000_309</td>\n",
       "      <td>1000</td>\n",
       "      <td>2018-12-28</td>\n",
       "      <td>5.76</td>\n",
       "    </tr>\n",
       "    <tr>\n",
       "      <th>4</th>\n",
       "      <td>1000_380</td>\n",
       "      <td>1000</td>\n",
       "      <td>2018-12-30</td>\n",
       "      <td>4.22</td>\n",
       "    </tr>\n",
       "    <tr>\n",
       "      <th>...</th>\n",
       "      <td>...</td>\n",
       "      <td>...</td>\n",
       "      <td>...</td>\n",
       "      <td>...</td>\n",
       "    </tr>\n",
       "    <tr>\n",
       "      <th>137730</th>\n",
       "      <td>1499_199</td>\n",
       "      <td>1499</td>\n",
       "      <td>2018-11-21</td>\n",
       "      <td>8.72</td>\n",
       "    </tr>\n",
       "    <tr>\n",
       "      <th>137731</th>\n",
       "      <td>1499_200</td>\n",
       "      <td>1499</td>\n",
       "      <td>2018-10-20</td>\n",
       "      <td>10.89</td>\n",
       "    </tr>\n",
       "    <tr>\n",
       "      <th>137732</th>\n",
       "      <td>1499_201</td>\n",
       "      <td>1499</td>\n",
       "      <td>2018-09-21</td>\n",
       "      <td>8.12</td>\n",
       "    </tr>\n",
       "    <tr>\n",
       "      <th>137733</th>\n",
       "      <td>1499_202</td>\n",
       "      <td>1499</td>\n",
       "      <td>2018-10-10</td>\n",
       "      <td>0.37</td>\n",
       "    </tr>\n",
       "    <tr>\n",
       "      <th>137734</th>\n",
       "      <td>1499_203</td>\n",
       "      <td>1499</td>\n",
       "      <td>2018-12-29</td>\n",
       "      <td>13.86</td>\n",
       "    </tr>\n",
       "  </tbody>\n",
       "</table>\n",
       "<p>137735 rows × 4 columns</p>\n",
       "</div>"
      ],
      "text/plain": [
       "         call_id  user_id  call_date  duration_min\n",
       "0        1000_93     1000 2018-12-27          8.52\n",
       "1       1000_145     1000 2018-12-27         13.66\n",
       "2       1000_247     1000 2018-12-27         14.48\n",
       "3       1000_309     1000 2018-12-28          5.76\n",
       "4       1000_380     1000 2018-12-30          4.22\n",
       "...          ...      ...        ...           ...\n",
       "137730  1499_199     1499 2018-11-21          8.72\n",
       "137731  1499_200     1499 2018-10-20         10.89\n",
       "137732  1499_201     1499 2018-09-21          8.12\n",
       "137733  1499_202     1499 2018-10-10          0.37\n",
       "137734  1499_203     1499 2018-12-29         13.86\n",
       "\n",
       "[137735 rows x 4 columns]"
      ]
     },
     "execution_count": 33,
     "metadata": {},
     "output_type": "execute_result"
    }
   ],
   "source": [
    "df_calls['call_date'] = pd.to_datetime(df_calls['call_date'], infer_datetime_format=True)       # cambiamos el formato a fecha en la columna de 'call_date'\n",
    "df_calls.columns = ['call_id', 'user_id', 'call_date', 'duration_min']      # Renombramos las columnas para mejor entendimiento\n",
    "df_calls.info()    # revisamos la información general nuevamente\n",
    "df_calls"
   ]
  },
  {
   "cell_type": "code",
   "execution_count": null,
   "metadata": {},
   "outputs": [],
   "source": [
    "# Redondeamos hacia arriba la duración de las llamadas\n",
    "df_calls['duration_min'] = np.array(df_calls['duration_min'])\n",
    "df_calls['duration_min'] = np.ceil(df_calls['duration_min'])\n",
    "df_calls"
   ]
  },
  {
   "cell_type": "markdown",
   "metadata": {
    "id": "KrMgTrlG0q0_"
   },
   "source": [
    "### 1.8.2 Enriquecer los datos <a id='calls_processing'></a>"
   ]
  },
  {
   "cell_type": "markdown",
   "metadata": {
    "id": "a9MbmEvE0q0_"
   },
   "source": [
    "En este dataframe de llamadas podemos hacer varias cosas para enriquecer la información.\n",
    "\n",
    "Primeramente vamos a separar el mes de la fecha de cada llamada.\n",
    "\n",
    "Seguido de separar la duración en minutos y segundos."
   ]
  },
  {
   "cell_type": "code",
   "execution_count": null,
   "metadata": {
    "id": "iZ1avpA_0q0_"
   },
   "outputs": [],
   "source": [
    "# Separaremos los meses de la fecha de la llamada\n",
    "call_month = df_calls['call_date'].dt.month\n",
    "df_calls.insert(3, 'month', call_month)   # agregamos una columna con el mes de registro\n",
    "\n",
    "# Vamos a convertir los minutos en segundos\n",
    "# df_calls['duration_sec'] = df_calls['duration'] * 60\n",
    "# df_calls.columns = ['call_id', 'user_id', 'call_date', 'call_month', 'duration_min', 'duration_sec']\n",
    "\n",
    "df_calls    # imrpimimos el nuevo datafram"
   ]
  },
  {
   "cell_type": "code",
   "execution_count": null,
   "metadata": {},
   "outputs": [],
   "source": [
    "# Buscamos llamadas que tengan de cero (0) minutos de duración\n",
    "df_calls[df_calls['duration_min'] == 0]"
   ]
  },
  {
   "cell_type": "code",
   "execution_count": null,
   "metadata": {},
   "outputs": [],
   "source": [
    "# Filtramos un nuevo Dataframe que contenga llamadas con duración mayor a cero (0)\n",
    "df_calls = df_calls[df_calls['duration_min'] > 0]\n",
    "df_calls.info()\n",
    "df_calls"
   ]
  },
  {
   "cell_type": "markdown",
   "metadata": {},
   "source": [
    "<div class=\"alert alert-block alert-warning\">\n",
    "<b>Comentario Revisor</b> <a class=\"tocSkip\"></a>\n",
    "\n",
    "Qué podríamos decir hasta el momento de las llamadas que tienen una duración de 0?\n",
    "</div>"
   ]
  },
  {
   "cell_type": "markdown",
   "metadata": {},
   "source": [
    "<div class=\"alert alert-block alert-info\">\n",
    "<b>Respuesta del , Iteración 1</b> <a class=“tocSkip”></a>\n",
    "\n",
    "Tionatiuh, he redondeado hacia arriba la duración de las llamadas con el método ceil de math, para no tener decimales.\n",
    "\n",
    "No creo que fuese necesaria agregar una columna con la duración de las llamadas en segundos, por lo que la comente con #.\n",
    "\n",
    "Finalmente, he filtrado el dataframe de llamadas dejando sólamente registros con duración mayores que cero.\n",
    "</div>"
   ]
  },
  {
   "cell_type": "markdown",
   "metadata": {},
   "source": [
    "[Volver a Contenido](#back)"
   ]
  },
  {
   "cell_type": "markdown",
   "metadata": {
    "id": "mOUZSi180q0_"
   },
   "source": [
    "## 1.9 Mensajes <a id='sms'></a>"
   ]
  },
  {
   "cell_type": "code",
   "execution_count": null,
   "metadata": {
    "id": "R-bYJpdV0q1A"
   },
   "outputs": [],
   "source": [
    "# Imprime la información general/resumida sobre el DataFrame de los mensajes\n",
    "df_sms.info()"
   ]
  },
  {
   "cell_type": "code",
   "execution_count": null,
   "metadata": {
    "id": "mCEl2iGE0q1A"
   },
   "outputs": [],
   "source": [
    "# Imprime una muestra de datos para los mensajes\n",
    "df_sms.sample(5)"
   ]
  },
  {
   "cell_type": "markdown",
   "metadata": {
    "id": "04xDj7KH0q1A"
   },
   "source": [
    "En el dataframde de mensajes tipo \"sms\" tenemos 3 columnas que se llaman 'id', 'user_id' y 'message_date'.\n",
    "\n",
    "Las columnas tienen Dtype object, int64 y objet, lo cual no es lo correcto al tener un dato de fecha como objeto, este debe ser corregido.\n",
    "\n",
    "Se tiene un total de 76, 051 mensajes registrados, sin valores nulos."
   ]
  },
  {
   "cell_type": "markdown",
   "metadata": {
    "id": "Sprfak900q1B"
   },
   "source": [
    "### 1.9.1 Corregir los datos <a id='sms_wrangling'></a>"
   ]
  },
  {
   "cell_type": "markdown",
   "metadata": {
    "id": "eGw7d9j10q1B"
   },
   "source": [
    "Vamos a cambiar el Dtype de la columna 'message_date' para convertirlo en formato de fecha.\n",
    "\n",
    "Actualisaremos el nombre de las columnas para mejor identificación del id."
   ]
  },
  {
   "cell_type": "code",
   "execution_count": null,
   "metadata": {
    "id": "vsllvkoa0q1B"
   },
   "outputs": [],
   "source": [
    "df_sms['message_date'] = pd.to_datetime(df_sms['message_date'], infer_datetime_format=True)       # cambiamos el formato a fecha en la columna de 'message_date'\n",
    "df_sms.columns = ['sms_id', 'user_id', 'message_date']\n",
    "df_sms. info()    # revisamos la información general nuevamente"
   ]
  },
  {
   "cell_type": "markdown",
   "metadata": {
    "id": "HvLid7iD0q1B"
   },
   "source": [
    "### 1.9.2 Enriquecer los datos <a id='sms_processing'></a>"
   ]
  },
  {
   "cell_type": "markdown",
   "metadata": {
    "id": "8nhPFKIe0q1C"
   },
   "source": [
    "En este dataframe de mensajes podemos separar el mes de la fecha de cada mensaje."
   ]
  },
  {
   "cell_type": "code",
   "execution_count": null,
   "metadata": {
    "id": "zYEXZac10q1C"
   },
   "outputs": [],
   "source": [
    "df_sms['month'] = df_sms['message_date'].dt.month   # agregamos una columna con el mes de registro\n",
    "df_sms  # revisamos el nuevo dataframe"
   ]
  },
  {
   "cell_type": "markdown",
   "metadata": {},
   "source": [
    "[Volver a Contenido](#back)"
   ]
  },
  {
   "cell_type": "markdown",
   "metadata": {
    "id": "bStkaxn40q1C"
   },
   "source": [
    "## 1.10 Internet <a id='data'></a>"
   ]
  },
  {
   "cell_type": "code",
   "execution_count": null,
   "metadata": {
    "id": "e-Uz5qyn0q1C"
   },
   "outputs": [],
   "source": [
    "# Imprime la información general/resumida sobre el DataFrame de internet\n",
    "df_data.info()"
   ]
  },
  {
   "cell_type": "code",
   "execution_count": null,
   "metadata": {
    "id": "9r3x_XLw0q1C"
   },
   "outputs": [],
   "source": [
    "# Imprime una muestra de datos para el tráfico de internet\n",
    "df_data.sample(5)"
   ]
  },
  {
   "cell_type": "markdown",
   "metadata": {
    "id": "EzOG5ik30q1D"
   },
   "source": [
    "El dataframe de data sobre internet, se pueden notar 4 columnas principales llamadas 'id', 'user_id', 'session_date' y 'mb_user'.\n",
    "\n",
    "Las columnas tienen un Dtype de 'object', 'int64', 'object' y 'float64' respectivamente para cada una, al igual que en los otros dataframes, es conveniente corregir el Dtype para la informacion que contenga fechas.\n",
    "\n",
    "El total de registros de consultas en internet, es de 104,825 líneas de las cuales no hay valores ausentes."
   ]
  },
  {
   "cell_type": "markdown",
   "metadata": {
    "id": "yA0tkPFg0q1D"
   },
   "source": [
    "### 1.10.1 Corregir los datos <a id='data_wrangling'></a>"
   ]
  },
  {
   "cell_type": "markdown",
   "metadata": {
    "id": "zlZMuIEK0q1D"
   },
   "source": [
    "Vamos a cambiar el Dtype de la columna 'session_date' para convertirlo en formato de fecha.\n",
    "\n",
    "Actualisaremos el nombre de las columnas para mejor identificación del id."
   ]
  },
  {
   "cell_type": "code",
   "execution_count": null,
   "metadata": {
    "id": "zVeanzdd0q1E"
   },
   "outputs": [],
   "source": [
    "df_data['session_date'] = pd.to_datetime(df_data['session_date'], infer_datetime_format=True)       # cambiamos el formato a fecha en la columna de 'message_date'\n",
    "df_data.columns = ['data_id', 'user_id', 'session_date', 'mb_used']     # Renombramos las columnas\n",
    "df_data.info()    # revisamos la información general nuevamente\n",
    "df_data"
   ]
  },
  {
   "cell_type": "markdown",
   "metadata": {},
   "source": [
    "<div class=\"alert alert-block alert-warning\">\n",
    "<b>Comentario revisor</b> <a class=\"tocSkip\"></a>\n",
    "\n",
    "\n",
    "Te recomiendo solamente comentar que cuando agrupemos los datos vamos a tener que redondear hacia arriba lo valores de la transformación de mbegabyter a gigabyte, para este ejercicio debemos hacer el redondeo superior dado que se cobra el costo extra en cuanto se pasa de los límites.Por lo que es necesario hacer la transformación de mb a gb y después hacer el redondeo.  \n",
    "</div>"
   ]
  },
  {
   "cell_type": "markdown",
   "metadata": {},
   "source": [
    "<div class=\"alert alert-block alert-info\">\n",
    "<b>Respuesta del , Iteración 1</b> <a class=“tocSkip”></a>\n",
    "\n",
    "Tionatiuh, he agregado una columna donde se converten los megabytes a gigabytes; así como también, he redondeado hacia arriba ambos valores.\n",
    "</div>"
   ]
  },
  {
   "cell_type": "markdown",
   "metadata": {
    "id": "e8_mLF4a0q1E"
   },
   "source": [
    "### 1.10.2 Enriquecer los datos <a id='data_processing'></a>"
   ]
  },
  {
   "cell_type": "markdown",
   "metadata": {
    "id": "xhNdn2tE0q1E"
   },
   "source": [
    "1.- Vamos a separar el mes y el año de la fecha de cada consulta en internet.\n",
    "\n",
    "2.- Redondearemos hacia arriba los megabytes usados.\n",
    "\n",
    "3.- Convertiremos los megabytes a gigabytes."
   ]
  },
  {
   "cell_type": "code",
   "execution_count": null,
   "metadata": {
    "id": "ESiYPIEK0q1E"
   },
   "outputs": [],
   "source": [
    "# Separaremos los meses y los años de la fecha de la llamada\n",
    "data_month = df_data['session_date'].dt.month\n",
    "df_data.insert(3, 'month', data_month)   # agregamos una columna con el mes de la consulta\n",
    "\n",
    "# Convertimos los megabytes a gigabytes y los agregamos en otra columna\n",
    "data_gigas = df_data['mb_used'] / 1024\n",
    "df_data.insert(5, 'gb_used', data_gigas)\n",
    "\n",
    "df_data.sample(5)      # imprimimos 5 líneas aleatorias del dataframe para ver cómo quedó"
   ]
  },
  {
   "cell_type": "code",
   "execution_count": null,
   "metadata": {},
   "outputs": [],
   "source": [
    "# Redondeamos hacia arriba los megabytes usados\n",
    "df_data['mb_used'] = np.array(df_data['mb_used'])\n",
    "df_data['mb_used'] = np.ceil(df_data['mb_used'])\n",
    "\n",
    "# Redondeamos hacia arriba los gigabytes usados\n",
    "df_data['gb_used'] = np.array(df_data['gb_used'])\n",
    "df_data['gb_used'] = np.ceil(df_data['gb_used'])\n",
    "\n",
    "df_data"
   ]
  },
  {
   "cell_type": "markdown",
   "metadata": {},
   "source": [
    "[Volver a Contenido](#back)"
   ]
  },
  {
   "cell_type": "markdown",
   "metadata": {
    "id": "3UA2cqIW0q1E"
   },
   "source": [
    "## 1.11 Estudiar las condiciones de las tarifas <a id='fees_analisys'></a>"
   ]
  },
  {
   "cell_type": "markdown",
   "metadata": {
    "id": "T86Sqltq0q1F"
   },
   "source": [
    "[Es sumamente importante entender cómo funcionan las tarifas, cómo se les cobra a los usuarios en función de su plan de suscripción. Así que te sugerimos imprimir la información de la tarifa para ver una vez más sus condiciones.]"
   ]
  },
  {
   "cell_type": "markdown",
   "metadata": {
    "id": "i409op8p0q1F"
   },
   "source": [
    "### Imprime las condiciones de la tarifa y asegúrate de que te quedan claras\n",
    "Descripción de las tarifas:\n",
    "\n",
    "Nota: Megaline redondea los segundos a minutos y los megabytes a gigabytes. Para las llamadas, cada llamada individual se redondea: incluso si la llamada duró solo un segundo, se contará como un minuto. Para el tráfico web, las sesiones web individuales no se redondean. En vez de esto, el total del mes se redondea hacia arriba. Si alguien usa 1025 megabytes este mes, se le cobrarán 2 gigabytes.\n",
    "\n",
    "A continuación, puedes ver una descripción de las tarifas:\n",
    "\n",
    "Surf\n",
    "\n",
    "1.\tPago mensual: $20 usd.\n",
    "2.\t500 minutos al mes, 50 SMS y 15 GB de datos.\n",
    "3.\tSi se exceden los límites del paquete:\n",
    "\n",
    "    o\t1 minuto: 3 centavos.\n",
    "\n",
    "    o\t1 SMS: 3 centavos.\n",
    "\n",
    "    o\t1 GB de datos: $10 usd.\n",
    "\n",
    "Ultimate\n",
    "\n",
    "1.\tPago mensual: $70 usd.\n",
    "2.\t3000 minutos al mes, 1000 SMS y 30 GB de datos.\n",
    "3.\tSi se exceden los límites del paquete:\n",
    "\n",
    "    o\t1 minuto: 1 centavo.\n",
    "\n",
    "    o\t1 SMS: 1 centavo.\n",
    "    \n",
    "    o\t1 GB de datos: $7 usd."
   ]
  },
  {
   "cell_type": "markdown",
   "metadata": {},
   "source": [
    "[Volver a Contenido](#back)"
   ]
  },
  {
   "cell_type": "markdown",
   "metadata": {
    "id": "hMR1tP5d0q1F"
   },
   "source": [
    "## 1.12 Agregar datos por usuario <a id='data_adding'></a>\n",
    "\n",
    "[Ahora que los datos están limpios, agrega los datos por usuario y por periodo para que solo haya un registro por usuario y por periodo. Esto facilitará mucho el análisis posterior.]"
   ]
  },
  {
   "cell_type": "code",
   "execution_count": null,
   "metadata": {
    "id": "A332cedB0q1G"
   },
   "outputs": [],
   "source": [
    "# Calcula el número de llamadas hechas por cada usuario al mes. Guarda el resultado.\n",
    "month_user_calls = df_calls.groupby(['user_id', 'month'])['call_id'].count()\n",
    "month_user_calls.info()\n",
    "month_user_calls"
   ]
  },
  {
   "cell_type": "markdown",
   "metadata": {},
   "source": [
    "\n",
    "<div class=\"alert alert-block alert-warning\">\n",
    "\n",
    "<b>Comentario revisor</b> <a class=\"tocSkip\"></a>\n",
    "\n",
    "Si bien es correcta la forma de agrupar para sacar la duración de las llamadas por cada ususario, para proximas ocasiones puedes hacer uso de la siguiente forma:\n",
    "    \n",
    "    pivot_calls = calls.pivot_table(index=['user_id', 'month'],\n",
    "                                values=['duration'],\n",
    "                                aggfunc=['sum','count']).reset_index()\n",
    "\n",
    "</div>"
   ]
  },
  {
   "cell_type": "code",
   "execution_count": null,
   "metadata": {
    "id": "aw2cmuql0q1G"
   },
   "outputs": [],
   "source": [
    "# Calcula la cantidad de minutos usados por cada usuario al mes. Guarda el resultado.\n",
    "month_user_minutes = df_calls.groupby(['user_id', 'month'])['duration_min'].sum()\n",
    "month_user_minutes.info()\n",
    "month_user_minutes"
   ]
  },
  {
   "cell_type": "code",
   "execution_count": null,
   "metadata": {
    "id": "CcQvNHn60q1G"
   },
   "outputs": [],
   "source": [
    "# Calcula el número de mensajes enviados por cada usuario al mes. Guarda el resultado.\n",
    "month_user_sms = df_sms.groupby(['user_id', 'month'])['sms_id'].count()\n",
    "month_user_sms.info()\n",
    "month_user_sms"
   ]
  },
  {
   "cell_type": "code",
   "execution_count": null,
   "metadata": {
    "id": "H1AqN2eG0q1H"
   },
   "outputs": [],
   "source": [
    "# Calcula el volumen del tráfico de Internet usado por cada usuario al mes. Guarda el resultado.\n",
    "month_user_data = df_data.groupby(['user_id', 'month'])['gb_used'].sum()\n",
    "month_user_data.info()\n",
    "month_user_data"
   ]
  },
  {
   "cell_type": "markdown",
   "metadata": {
    "id": "VDfYXnj80q1H"
   },
   "source": [
    "[Junta los datos agregados en un DataFrame para que haya un registro que represente lo que consumió un usuario único en un mes determinado.]"
   ]
  },
  {
   "cell_type": "code",
   "execution_count": null,
   "metadata": {
    "id": "FW99ykyf0q1H"
   },
   "outputs": [],
   "source": [
    "# Fusiona los datos de llamadas, minutos, mensajes e Internet con base en user_id y month\n",
    "tripleplay = pd.concat([month_user_calls, month_user_minutes, month_user_sms, month_user_data], axis=1).reset_index()\n",
    "tripleplay.columns = ['user_id', 'month', 'calls', 'mins', 'sms', 'gb']    # Actualizamos los nombres de las columnas para mejor entendimiento\n",
    "\n",
    "# Reemplazamos los n[umeros por los nombres de los meses\n",
    "months = {1:'jan', 2:'feb', 3:'mar', 4:'apr', 5:'may', 6:'jun', 7:'jul', 8:'aug', 9:'sep', 10:'oct', 11:'nov', 12:'dec'}\n",
    "tripleplay['month'] = tripleplay['month'].replace(months)\n",
    "\n",
    "# Modificamos los Dtypes para corregirlos\n",
    "tripleplay['user_id'] = tripleplay['user_id'].astype('object')\n",
    "# tripleplay['calls'] = tripleplay['calls'].astype('int64')\n",
    "# tripleplay['minutes'] = tripleplay['minutes'].astype('int64')\n",
    "# tripleplay['sms'] = tripleplay['sms'].astype('int64')\n",
    "# tripleplay['gb'] = tripleplay['gb'].astype('int64')\n",
    "\n",
    "# Rellenamos valores ausentes con cero (0)\n",
    "tripleplay = tripleplay.fillna(0)\n",
    "\n",
    "tripleplay.info()   # Imprimimos información general y el nuevo dataframe\n",
    "tripleplay"
   ]
  },
  {
   "cell_type": "code",
   "execution_count": null,
   "metadata": {
    "id": "0dNOXHag0q1H"
   },
   "outputs": [],
   "source": [
    "# Añade la información de la tarifa\n",
    "tripleplay_plan = tripleplay.merge(df_users, on='user_id')    # combinamos los dataframes de 'all_services' con 'df_users' por el número de id\n",
    "tripleplay_plan.drop(['first_name', 'last_name', 'user_age', 'user_city', 'reg_date', 'reg_month', 'churn_date'], axis='columns', inplace=True)   # Eliminamos las columnas inecesarias\n",
    "tripleplay_fee = tripleplay_plan.merge(df_plans, on='plan')    # combinamos el nuevo dataframe con 'df_plans' para agregar la información de las tarifas\n",
    "tripleplay_fee.info()\n",
    "tripleplay_fee.head()  # imprimimos una muestra de 10 lineas para revisar"
   ]
  },
  {
   "cell_type": "markdown",
   "metadata": {},
   "source": [
    "<div class=\"alert alert-block alert-success\">\n",
    "<b>Comentario del revisor</b> <a class=\"tocSkip\"></a>\n",
    "\n",
    "Muy buen trabajo!! el merge es correcto para unir todas las bases trabajadas.\n",
    "    \n",
    "</div>"
   ]
  },
  {
   "cell_type": "markdown",
   "metadata": {
    "id": "1IwGo4wg0q1I"
   },
   "source": [
    "[Calcula los ingresos mensuales por usuario (resta el límite del paquete gratuito del número total de llamadas, mensajes de texto y datos; multiplica el resultado por el valor del plan de llamadas; añade la tarifa mensual en función del plan de llamadas). Nota: Dadas las condiciones del plan, ¡esto podría no ser tan trivial como un par de líneas! Así que no pasa nada si dedicas algo de tiempo a ello.]"
   ]
  },
  {
   "cell_type": "markdown",
   "metadata": {},
   "source": [
    "<div class=\"alert alert-block alert-info\">\n",
    "<b>Respuesta del , Iteración 1</b> <a class=“tocSkip”></a>\n",
    "\n",
    "Tionatiuh, para el ejercicio de calcular los ingresos mensuales por usuario, he creado algunas funciones con ayuda en el co-learning.\n",
    "Estoy seguro que la información ahora es correcta, aparte de que se han redondeado las cifras como me lo habías solicitado.\n",
    "Favor de revisar y hacerme saber cualquier detalle.\n",
    "Gracias!\n",
    "</div>"
   ]
  },
  {
   "cell_type": "code",
   "execution_count": null,
   "metadata": {},
   "outputs": [],
   "source": [
    "# Echamos de nuevo un vistazo al Dataframe de tarifas por plan\n",
    "df_plans"
   ]
  },
  {
   "cell_type": "code",
   "execution_count": null,
   "metadata": {},
   "outputs": [],
   "source": [
    "# Definimos todos los datos de ambos planes 'surf' y 'ultimate' en variables\n",
    "\n",
    "surf_charge = 20\n",
    "min_surf = 500\n",
    "sms_surf = 50\n",
    "gb_surf = 15\n",
    "cost_call_surf = 0.03\n",
    "cost_sms_surf = 0.03\n",
    "cost_gb_surf = 10\n",
    "\n",
    "ultimate_charge = 70\n",
    "min_ultimate = 3000\n",
    "sms_ultimate = 1000\n",
    "gb_ultimate = 30\n",
    "cost_call_ultimate = 0.01\n",
    "cost_sms_ultimate = 0.01\n",
    "cost_gb_ultimate = 7"
   ]
  },
  {
   "cell_type": "code",
   "execution_count": null,
   "metadata": {},
   "outputs": [],
   "source": [
    "# Función para calcular los minutos extra en las llamadas por usuario\n",
    "\n",
    "def extra_calls (row):\n",
    "    plan = row['plan']\n",
    "    min_used = row['mins']\n",
    "    \n",
    "    if plan == 'surf':\n",
    "        if min_used > min_surf:\n",
    "            extra_mins = min_used - min_surf\n",
    "        else:\n",
    "            extra_mins = 0\n",
    "    \n",
    "    if plan == 'ultimate':\n",
    "        if min_used > min_ultimate:\n",
    "            extra_mins = min_used - min_ultimate\n",
    "        else:\n",
    "            extra_mins = 0\n",
    "            \n",
    "    return extra_mins"
   ]
  },
  {
   "cell_type": "code",
   "execution_count": null,
   "metadata": {},
   "outputs": [],
   "source": [
    "tripleplay_fee.apply(extra_calls, axis=1)   # Probamos la función para calcular los minutos extra, llamada 'extra_calls'"
   ]
  },
  {
   "cell_type": "code",
   "execution_count": null,
   "metadata": {},
   "outputs": [],
   "source": [
    "# Función para calcular los mensajes extra enviados por usuario\n",
    "\n",
    "def extra_messages (row):\n",
    "    plan = row['plan']\n",
    "    sms_sent = row['sms']\n",
    "    \n",
    "    if plan == 'surf':\n",
    "        if sms_sent > sms_surf:\n",
    "            extra_sms = sms_sent - sms_surf\n",
    "        else:\n",
    "            extra_sms = 0\n",
    "    \n",
    "    if plan == 'ultimate':\n",
    "        if sms_sent > sms_ultimate:\n",
    "            extra_sms = sms_sent - sms_ultimate\n",
    "        else:\n",
    "            extra_sms = 0\n",
    "    \n",
    "    return extra_sms"
   ]
  },
  {
   "cell_type": "code",
   "execution_count": null,
   "metadata": {},
   "outputs": [],
   "source": [
    "tripleplay_fee.apply(extra_messages, axis=1)   # Probamos la función para calcular los mensajes extra enviados, llamada 'extra_sms'"
   ]
  },
  {
   "cell_type": "code",
   "execution_count": null,
   "metadata": {},
   "outputs": [],
   "source": [
    "# Función para calcular los gigabytes extra consumidos por usuario\n",
    "\n",
    "def extra_data (row):\n",
    "    plan = row['plan']\n",
    "    data_used = row['gb']\n",
    "    \n",
    "    if plan == 'surf':\n",
    "        if data_used > gb_surf:\n",
    "            extra_gb = data_used - gb_surf\n",
    "        else:\n",
    "            extra_gb =0\n",
    "            \n",
    "    if plan == 'ultimate':\n",
    "        if data_used > gb_ultimate:\n",
    "            extra_gb = data_used - gb_ultimate\n",
    "        else:\n",
    "            extra_gb = 0\n",
    "    \n",
    "    return extra_gb"
   ]
  },
  {
   "cell_type": "code",
   "execution_count": null,
   "metadata": {},
   "outputs": [],
   "source": [
    "tripleplay_fee.apply(extra_data, axis=1)   # Probamos la función para calcular los gigabytes extra consumidos, llamada 'extra_gb'"
   ]
  },
  {
   "cell_type": "markdown",
   "metadata": {},
   "source": [
    "Ahora que tenemos las funciones para calcular los servicios extra de acuerdo a las tarifas de los dos planes, vamos a crean un nuevo dataframe con 3 columnas extras para cada excedente de minutos (mins), mensajes (sms) y gigabytes (gb)."
   ]
  },
  {
   "cell_type": "code",
   "execution_count": null,
   "metadata": {},
   "outputs": [],
   "source": [
    "tripleplay_fee['extra_min'] = tripleplay_fee.apply(extra_calls, axis=1)         # Creamos una columna con los minutos extra\n",
    "tripleplay_fee['extra_sms'] = tripleplay_fee.apply(extra_messages, axis=1)      # Creamos una columna con los mensajes extra\n",
    "tripleplay_fee['extra_gb'] = tripleplay_fee.apply(extra_data, axis=1)           # Creamos una columna con los gigas extra\n",
    "\n",
    "tripleplay_extra = tripleplay_fee       # Renombramos el Dataframe y revisamos su nueva información\n",
    "tripleplay_extra.info()\n",
    "tripleplay_extra.sample(10)"
   ]
  },
  {
   "cell_type": "markdown",
   "metadata": {},
   "source": [
    "Ahora calcularemos la ganancia sumando el costo del plan más el costo de los servicios extra que se cobran aparte de de la tarifa de los planes."
   ]
  },
  {
   "cell_type": "code",
   "execution_count": null,
   "metadata": {},
   "outputs": [],
   "source": [
    "# Esta función calcula el monto del cargo extra y suma los costos para obtener la ganancia total.\n",
    "\n",
    "def month_charge (row):\n",
    "    plan = row['plan']\n",
    "    extra_min = row['extra_min']\n",
    "    extra_sms = row['extra_sms']\n",
    "    extra_gb = row['extra_gb']\n",
    "    \n",
    "    if plan == 'surf':\n",
    "        revenue = surf_charge + ((extra_min * cost_call_surf) + (extra_sms * cost_sms_surf) + (extra_gb * cost_gb_surf))\n",
    "    else:\n",
    "        revenue = ultimate_charge + ((extra_min * cost_call_ultimate) + (extra_sms * cost_sms_ultimate) + (extra_gb * cost_gb_ultimate))\n",
    "        \n",
    "    return revenue"
   ]
  },
  {
   "cell_type": "code",
   "execution_count": null,
   "metadata": {},
   "outputs": [],
   "source": [
    "# Creamos una nueva columna que contenga la ganancia total y aplicamos la función de 'month_charge'\n",
    "\n",
    "tripleplay_extra['month_revenue'] = tripleplay_extra.apply(month_charge, axis=1)\n",
    "tripleplay_extra.info()\n",
    "tripleplay_extra.sample(10)"
   ]
  },
  {
   "cell_type": "markdown",
   "metadata": {},
   "source": [
    "[Volver a Contenido](#back)"
   ]
  },
  {
   "cell_type": "markdown",
   "metadata": {},
   "source": [
    "<div class=\"alert alert-block alert-danger\">\n",
    "<b>Comentario revisor</b> <a class=\"tocSkip\"></a>\n",
    "\n",
    "\n",
    "Recuerda que para este punto, es necesario que ya tengamos los valores redondeados de la duración de las llamadas y redondear la transformación de megabytes a gigabytes. Esto cobra importancia dado que estamos calculando por cuanto se paso cada usuario, entonces el no redondear puede alterar este valor.\n",
    "</div>"
   ]
  },
  {
   "cell_type": "markdown",
   "metadata": {},
   "source": [
    "<div class=\"alert alert-block alert-info\">\n",
    "<b>Respuesta del , Iteración 1</b> <a class=“tocSkip”></a>\n",
    "\n",
    "Tionatiuh, anteriormente ya he redondeado hacia arriba todos las cifras, por lo que no debería alterar los resultados; favor de revisar.\n",
    "Gracias.\n",
    "</div>"
   ]
  },
  {
   "cell_type": "markdown",
   "metadata": {
    "id": "-jtyHzJb0q1I"
   },
   "source": [
    "## 1.13 Estudia el comportamiento de usuario <a id='user_consumption'></a>"
   ]
  },
  {
   "cell_type": "markdown",
   "metadata": {
    "id": "AxU3Y0N70q1J"
   },
   "source": [
    "[Calcula algunas estadísticas descriptivas para los datos agregados y fusionados que nos sean útiles y que muestren un panorama general captado por los datos. Dibuja gráficos útiles para facilitar la comprensión. Dado que la tarea principal es comparar las tarifas y decidir cuál es más rentable, las estadísticas y gráficas deben calcularse por tarifa.]\n",
    "\n",
    "[En los comentarios hallarás pistas relevantes para las llamadas, pero no las hay para los mensajes e Internet. Sin embargo, el principio del estudio estadístico que se aplica para ellos es el mismo que para las llamadas.]"
   ]
  },
  {
   "cell_type": "markdown",
   "metadata": {
    "id": "vtW4CJEe0q1J"
   },
   "source": [
    "### 1.13.1 Llamadas <a id='calls_consumption'></a>"
   ]
  },
  {
   "cell_type": "code",
   "execution_count": null,
   "metadata": {
    "id": "Jf5v5--k0q1J"
   },
   "outputs": [],
   "source": [
    "# Compara la duración promedio de llamadas por cada plan y por cada mes. \n",
    "calls_mean = tripleplay_extra.groupby(['month', 'plan'])['calls'].mean().unstack().reset_index()\n",
    "calls_mean"
   ]
  },
  {
   "cell_type": "code",
   "execution_count": null,
   "metadata": {},
   "outputs": [],
   "source": [
    "# Traza un gráfico de barras para visualizarla.\n",
    "calls_mean.plot(kind='bar', x='month', xlabel='Mes', ylabel='Llamadas Promedio', title='Llamadas Surf vs Ultimate')"
   ]
  },
  {
   "cell_type": "code",
   "execution_count": null,
   "metadata": {
    "id": "QoLqW1S_0q1J"
   },
   "outputs": [],
   "source": [
    "# Compara el número de minutos mensuales que necesitan los usuarios de cada plan. Traza un histograma.\n",
    "minutes_plan = tripleplay_extra.groupby('plan')['mins'].plot(kind='hist', bins=20, alpha=0.7, title='Cantidad de Minutos', legend=True)"
   ]
  },
  {
   "cell_type": "markdown",
   "metadata": {
    "id": "bLS9T8OH0q1K"
   },
   "source": [
    "[Calcula la media y la variable de la duración de las llamadas para averiguar si los usuarios de los distintos planes se comportan de forma diferente al realizar sus llamadas.]"
   ]
  },
  {
   "cell_type": "code",
   "execution_count": null,
   "metadata": {
    "id": "oSndbAnt0q1K"
   },
   "outputs": [],
   "source": [
    "# Calcula la media y la varianza de la duración mensual de llamadas.\n",
    "median_calls = tripleplay_extra.groupby(['month'])['calls'].mean().reset_index()\n",
    "variace_calls = tripleplay_extra.groupby(['month'])['calls'].var().reset_index()\n",
    "\n",
    "# Renombramos las columnas\n",
    "median_calls.columns = ['month', 'mean']\n",
    "variace_calls.columns = ['month', 'variance']\n",
    "\n",
    "# Imprimimos la media y la varianza\n",
    "print(median_calls)\n",
    "print()\n",
    "print(variace_calls)"
   ]
  },
  {
   "cell_type": "code",
   "execution_count": null,
   "metadata": {
    "id": "nZzoRUKc0q1K"
   },
   "outputs": [],
   "source": [
    "# Traza un diagrama de caja para visualizar la distribución de la duración mensual de llamadas\n",
    "sns.boxplot(calls_mean)\n"
   ]
  },
  {
   "cell_type": "markdown",
   "metadata": {
    "id": "r627zBO50q1K"
   },
   "source": [
    "[Elabora las conclusiones sobre el comportamiento de los usuarios con respecto a las llamadas. ¿Su comportamiento varía en función del plan?]"
   ]
  },
  {
   "cell_type": "markdown",
   "metadata": {},
   "source": [
    "[Volver a Contenido](#back)"
   ]
  },
  {
   "cell_type": "markdown",
   "metadata": {
    "id": "8idKy8Wh0q1L"
   },
   "source": [
    "### 1.13.2 Mensajes <a id='sms_consumption'></a>"
   ]
  },
  {
   "cell_type": "code",
   "execution_count": null,
   "metadata": {
    "id": "NXLxiTit0q1L"
   },
   "outputs": [],
   "source": [
    "# Comprara el número de mensajes que tienden a enviar cada mes los usuarios de cada plan\n",
    "sms_messages = tripleplay_extra.groupby(['month', 'plan'])['sms'].sum().unstack().reset_index()\n",
    "sms_messages\n"
   ]
  },
  {
   "cell_type": "code",
   "execution_count": null,
   "metadata": {},
   "outputs": [],
   "source": [
    "# Traza un gráfico de barras para visualizarlo.\n",
    "sms_messages.plot(kind='bar', x='month', xlabel='Mes', ylabel='Llamadas Promedio', title='Mensajes Surf vs Ultimate')"
   ]
  },
  {
   "cell_type": "code",
   "execution_count": null,
   "metadata": {
    "id": "GRI_R7xF0q1L"
   },
   "outputs": [],
   "source": [
    "# Compara el número de mensajes mensuales que necesitan los usuarios de cada plan. Traza un histograma.\n",
    "sms_messages = tripleplay_extra.groupby('plan')['sms'].plot(kind='hist', bins=20, alpha=0.7, title='Cantidad de Mensajes', legend=True)"
   ]
  },
  {
   "cell_type": "code",
   "execution_count": null,
   "metadata": {},
   "outputs": [],
   "source": [
    "# Calcula la media y la varianza de la duración mensual de llamadas.\n",
    "median_sms = tripleplay_extra.groupby(['month'])['sms'].mean().reset_index()\n",
    "variace_sms = tripleplay_extra.groupby(['month'])['sms'].var().reset_index()\n",
    "\n",
    "# Renombramos las columnas\n",
    "median_sms.columns = ['month', 'mean']\n",
    "variace_sms.columns = ['month', 'variance']\n",
    "\n",
    "# Imprimimos la media y la varianza\n",
    "print(median_sms)\n",
    "print()\n",
    "print(variace_sms)"
   ]
  },
  {
   "cell_type": "code",
   "execution_count": null,
   "metadata": {
    "id": "dtFwCGAp0q1M"
   },
   "outputs": [],
   "source": [
    "# Traza un diagrama de caja para visualizar la distribución de la cantidad mensual de mensajes\n",
    "sns.boxplot(sms_messages)"
   ]
  },
  {
   "cell_type": "markdown",
   "metadata": {
    "id": "390SSL480q1M"
   },
   "source": [
    "[Elabora las conclusiones sobre el comportamiento de los usuarios con respecto a los mensajes. ¿Su comportamiento varía en función del plan?]"
   ]
  },
  {
   "cell_type": "markdown",
   "metadata": {},
   "source": [
    "[Volver a Contenido](#back)"
   ]
  },
  {
   "cell_type": "markdown",
   "metadata": {
    "id": "42YSypXz0q1M"
   },
   "source": [
    "### 1.13.3 Internet <a id='data_consumption'></a>"
   ]
  },
  {
   "cell_type": "code",
   "execution_count": null,
   "metadata": {
    "id": "lSuKPtjh0q1M"
   },
   "outputs": [],
   "source": [
    "# Compara la cantidad de tráfico de Internet consumido por usuarios por plan\n",
    "internet_traffic = tripleplay_extra.groupby(['month', 'plan'])['gb'].sum().unstack().reset_index()\n",
    "internet_traffic"
   ]
  },
  {
   "cell_type": "code",
   "execution_count": null,
   "metadata": {
    "id": "wnh8jYXi0q1N"
   },
   "outputs": [],
   "source": [
    "# Traza un gráfico de barras para visualizarlo.\n",
    "internet_traffic.plot(kind='bar', x='month', xlabel='Mes', ylabel='Gigabytes', title='Gigabytes Surf vs Ultimate')"
   ]
  },
  {
   "cell_type": "code",
   "execution_count": null,
   "metadata": {
    "id": "5VlyJ9ry0q1N"
   },
   "outputs": [],
   "source": [
    "# Compara el número de megabytes mensuales que necesitan los usuarios de cada plan. Traza un histograma.\n",
    "internet_traffic = tripleplay_extra.groupby('plan')['gb'].plot(kind='hist', bins=20, alpha=0.7, title='Cantidad de Gigabytes', legend=True)"
   ]
  },
  {
   "cell_type": "code",
   "execution_count": null,
   "metadata": {},
   "outputs": [],
   "source": [
    "# Calcula la media y la varianza de la duración mensual de llamadas.\n",
    "median_gb = tripleplay_extra.groupby(['month'])['gb'].mean().reset_index()\n",
    "variace_gb = tripleplay_extra.groupby(['month'])['gb'].var().reset_index()\n",
    "\n",
    "# Renombramos las columnas\n",
    "median_gb.columns = ['month', 'mean']\n",
    "variace_gb.columns = ['month', 'variance']\n",
    "\n",
    "# Imprimimos la media y la varianza\n",
    "print(median_gb)\n",
    "print()\n",
    "print(variace_gb)"
   ]
  },
  {
   "cell_type": "code",
   "execution_count": null,
   "metadata": {},
   "outputs": [],
   "source": [
    "# Traza un diagrama de caja para visualizar la distribución de la cantidad mensual de tráfico de internet\n",
    "sns.boxplot(internet_traffic)"
   ]
  },
  {
   "cell_type": "markdown",
   "metadata": {
    "id": "UN9zwuMP0q1N"
   },
   "source": [
    "[Elabora las conclusiones sobre cómo los usuarios tienden a consumir el tráfico de Internet. ¿Su comportamiento varía en función del plan?]"
   ]
  },
  {
   "cell_type": "markdown",
   "metadata": {},
   "source": [
    "<div class=\"alert alert-block alert-success\">\n",
    "<b>Comentario revisor</b> <a class=\"tocSkip\"></a>\n",
    "\n",
    " Muy buena prática la de usar distintos tipos de gráficas identificar algunos hallazgos y llegar a conclusiones. En este caso las gráficas de box-plots nos ayudan a identificar outiers que pueden sesgar nuestros resultados, especificamente las pruebas de hipótesis. Es por ello que con estás gráficas puedes complementar el análisis eliminando los valores atipicos. \n",
    "</div>"
   ]
  },
  {
   "cell_type": "markdown",
   "metadata": {},
   "source": [
    "[Volver a Contenido](#back)"
   ]
  },
  {
   "cell_type": "markdown",
   "metadata": {
    "id": "tCijq3260q1N"
   },
   "source": [
    "## 1.14 Ingreso <a id='incomes'></a>"
   ]
  },
  {
   "cell_type": "markdown",
   "metadata": {
    "id": "9nq5IAcy0q1O"
   },
   "source": [
    "[Del mismo modo que has estudiado el comportamiento de los usuarios, describe estadísticamente los ingresos de los planes.]"
   ]
  },
  {
   "cell_type": "markdown",
   "metadata": {
    "id": "tz-dq_V00q1O"
   },
   "source": [
    "<div class=\"alert alert-block alert-danger\">\n",
    "<b>Comentario revisor</b> <a class=\"tocSkip\"></a>\n",
    "\n",
    "Hola, Tom! Has realizado une excelente trabajo con el proyecto. Ya solamente es necesario dearrollar el análisis de la variable ingreso y las pruebas de hipótesis. Recuerda que cualquier pregunta me la puedes dejar para respodnerla"
   ]
  },
  {
   "cell_type": "code",
   "execution_count": null,
   "metadata": {
    "id": "0Y1v8ZUz0q1P"
   },
   "outputs": [],
   "source": []
  },
  {
   "cell_type": "code",
   "execution_count": null,
   "metadata": {
    "id": "bYmwxyVh0q1P"
   },
   "outputs": [],
   "source": []
  },
  {
   "cell_type": "markdown",
   "metadata": {
    "id": "KAFidcXZ0q1P"
   },
   "source": [
    "[Elabora las conclusiones sobre cómo difiere el ingreso entre los planes.]"
   ]
  },
  {
   "cell_type": "markdown",
   "metadata": {},
   "source": [
    "[Volver a Contenido](#back)"
   ]
  },
  {
   "cell_type": "markdown",
   "metadata": {
    "id": "ajJ7VKeI0q1Q"
   },
   "source": [
    "## 1.15 Prueba las hipótesis estadísticas <a id='hypotesis'></a>"
   ]
  },
  {
   "cell_type": "markdown",
   "metadata": {
    "id": "AdXAZ-yL0q1Q"
   },
   "source": [
    "[Prueba la hipótesis de que son diferentes los ingresos promedio procedentes de los usuarios de los planes de llamada Ultimate y Surf.]"
   ]
  },
  {
   "cell_type": "markdown",
   "metadata": {
    "id": "IQwa_hsh0q1Q"
   },
   "source": [
    "[Elabora las hipótesis nula y alternativa, escoge la prueba estadística, determina el valor alfa.]"
   ]
  },
  {
   "cell_type": "code",
   "execution_count": null,
   "metadata": {
    "id": "nFoPNlPq0q1R"
   },
   "outputs": [],
   "source": [
    "# Prueba las hipótesis\n",
    "\n"
   ]
  },
  {
   "cell_type": "markdown",
   "metadata": {
    "id": "tCcAruM60q1R"
   },
   "source": [
    "[Prueba la hipótesis de que el ingreso promedio de los usuarios del área NY-NJ es diferente al de los usuarios de otras regiones.]"
   ]
  },
  {
   "cell_type": "markdown",
   "metadata": {
    "id": "LsBgitqj0q1R"
   },
   "source": [
    "[Elabora las hipótesis nula y alternativa, escoge la prueba estadística, determina el valor alfa.]"
   ]
  },
  {
   "cell_type": "code",
   "execution_count": null,
   "metadata": {
    "id": "Cqcj7wrZ0q1S"
   },
   "outputs": [],
   "source": [
    "# Prueba las hipótesis\n",
    "\n"
   ]
  },
  {
   "cell_type": "markdown",
   "metadata": {},
   "source": [
    "[Volver a Contenido](#back)"
   ]
  },
  {
   "cell_type": "markdown",
   "metadata": {
    "id": "bbTR8UQO0q1T"
   },
   "source": [
    "## Conclusión general <a id='end'></a>\n",
    "\n",
    "[En esta sección final, enumera tus conclusiones importantes. Asegúrate de que estas abarquen todas las decisiones (suposiciones) importantes que adoptaste y que determinaron la forma elegida para procesar y analizar los datos.]"
   ]
  }
 ],
 "metadata": {
  "ExecuteTimeLog": [
   {
    "duration": 828,
    "start_time": "2021-11-16T09:21:11.304Z"
   },
   {
    "duration": 893,
    "start_time": "2021-11-16T09:21:17.728Z"
   },
   {
    "duration": 1150,
    "start_time": "2021-11-16T09:21:29.568Z"
   },
   {
    "duration": 3,
    "start_time": "2021-11-16T09:24:14.495Z"
   },
   {
    "duration": 120,
    "start_time": "2021-11-16T09:24:46.630Z"
   },
   {
    "duration": 3,
    "start_time": "2021-11-16T09:28:27.882Z"
   },
   {
    "duration": 4,
    "start_time": "2021-11-16T09:29:54.281Z"
   },
   {
    "duration": 3,
    "start_time": "2021-11-16T09:30:45.936Z"
   },
   {
    "duration": 4,
    "start_time": "2021-11-16T09:31:06.300Z"
   },
   {
    "duration": 113,
    "start_time": "2021-11-16T09:31:37.208Z"
   },
   {
    "duration": 143,
    "start_time": "2021-11-16T09:31:48.656Z"
   },
   {
    "duration": 98,
    "start_time": "2021-11-16T09:31:55.678Z"
   },
   {
    "duration": 3,
    "start_time": "2021-11-16T09:32:08.535Z"
   },
   {
    "duration": 111,
    "start_time": "2021-11-16T09:32:10.120Z"
   },
   {
    "duration": 3,
    "start_time": "2021-11-16T09:32:15.732Z"
   },
   {
    "duration": 4,
    "start_time": "2021-11-16T09:32:29.423Z"
   },
   {
    "duration": 3,
    "start_time": "2021-11-16T10:03:03.074Z"
   },
   {
    "duration": 3,
    "start_time": "2021-11-16T10:10:01.288Z"
   },
   {
    "duration": 3,
    "start_time": "2021-11-16T10:10:46.923Z"
   },
   {
    "duration": 121,
    "start_time": "2021-11-16T10:37:46.494Z"
   },
   {
    "duration": 125,
    "start_time": "2021-11-16T10:38:20.632Z"
   },
   {
    "duration": 112,
    "start_time": "2021-11-16T10:46:53.001Z"
   },
   {
    "duration": 110,
    "start_time": "2021-11-16T10:48:25.775Z"
   },
   {
    "duration": 3,
    "start_time": "2021-11-16T10:50:18.720Z"
   },
   {
    "duration": 4,
    "start_time": "2021-11-16T10:50:37.649Z"
   },
   {
    "duration": 2,
    "start_time": "2021-11-16T10:50:51.884Z"
   },
   {
    "duration": 3,
    "start_time": "2021-11-16T10:51:56.237Z"
   },
   {
    "duration": 101,
    "start_time": "2021-11-16T10:53:13.791Z"
   },
   {
    "duration": 3,
    "start_time": "2021-11-16T10:55:59.186Z"
   },
   {
    "duration": 3,
    "start_time": "2021-11-16T10:56:10.751Z"
   },
   {
    "duration": 3,
    "start_time": "2021-11-16T10:56:49.038Z"
   },
   {
    "duration": 3,
    "start_time": "2021-11-16T10:56:49.174Z"
   },
   {
    "duration": 4,
    "start_time": "2021-11-16T10:56:49.414Z"
   },
   {
    "duration": 3,
    "start_time": "2021-11-16T10:56:49.680Z"
   },
   {
    "duration": 3,
    "start_time": "2021-11-16T10:56:50.370Z"
   },
   {
    "duration": 114,
    "start_time": "2021-11-16T10:59:34.518Z"
   },
   {
    "duration": 3,
    "start_time": "2021-11-16T11:01:41.201Z"
   },
   {
    "duration": 116,
    "start_time": "2021-11-16T11:01:48.754Z"
   },
   {
    "duration": 3,
    "start_time": "2021-11-16T11:02:16.685Z"
   },
   {
    "duration": 3,
    "start_time": "2021-11-16T11:02:19.479Z"
   },
   {
    "duration": 3,
    "start_time": "2021-11-16T11:02:47.067Z"
   },
   {
    "duration": 3,
    "start_time": "2021-11-16T11:02:49.353Z"
   },
   {
    "duration": 3,
    "start_time": "2021-11-16T11:03:07.835Z"
   },
   {
    "duration": 3,
    "start_time": "2021-11-16T11:03:07.953Z"
   },
   {
    "duration": 112,
    "start_time": "2021-11-16T11:07:52.072Z"
   },
   {
    "duration": 187,
    "start_time": "2021-11-16T11:09:23.468Z"
   },
   {
    "duration": 4,
    "start_time": "2021-11-16T11:10:01.455Z"
   },
   {
    "duration": 3,
    "start_time": "2021-11-16T11:10:05.069Z"
   },
   {
    "duration": 4,
    "start_time": "2021-11-16T11:10:13.376Z"
   },
   {
    "duration": 3,
    "start_time": "2021-11-16T11:10:14.434Z"
   },
   {
    "duration": 3,
    "start_time": "2021-11-16T11:10:22.853Z"
   },
   {
    "duration": 4,
    "start_time": "2021-11-16T11:27:29.279Z"
   },
   {
    "duration": 4,
    "start_time": "2021-11-16T11:29:08.919Z"
   },
   {
    "duration": 118,
    "start_time": "2021-11-16T11:29:46.703Z"
   },
   {
    "duration": 437,
    "start_time": "2021-11-16T11:36:02.181Z"
   },
   {
    "duration": 157,
    "start_time": "2021-11-16T11:36:14.388Z"
   },
   {
    "duration": 207,
    "start_time": "2021-11-16T11:47:15.898Z"
   },
   {
    "duration": 3,
    "start_time": "2021-11-16T11:53:52.092Z"
   },
   {
    "duration": 3,
    "start_time": "2021-11-16T11:53:52.236Z"
   },
   {
    "duration": 3,
    "start_time": "2021-11-16T11:59:12.005Z"
   },
   {
    "duration": 112,
    "start_time": "2021-11-16T12:00:33.446Z"
   },
   {
    "duration": 3,
    "start_time": "2021-11-16T12:02:14.453Z"
   },
   {
    "duration": 3,
    "start_time": "2021-11-16T12:02:39.512Z"
   },
   {
    "duration": 106,
    "start_time": "2021-11-16T12:03:03.460Z"
   },
   {
    "duration": 3,
    "start_time": "2021-11-17T20:37:21.139Z"
   },
   {
    "duration": 3,
    "start_time": "2021-11-17T20:37:22.229Z"
   },
   {
    "duration": 3,
    "start_time": "2021-11-17T20:38:38.806Z"
   },
   {
    "duration": 3,
    "start_time": "2021-11-17T20:38:41.958Z"
   },
   {
    "duration": 3,
    "start_time": "2021-11-17T20:43:46.551Z"
   },
   {
    "duration": 4,
    "start_time": "2021-11-17T20:58:21.835Z"
   },
   {
    "duration": 3,
    "start_time": "2021-11-17T20:59:21.872Z"
   },
   {
    "duration": 4,
    "start_time": "2021-11-17T20:59:45.352Z"
   },
   {
    "duration": 4,
    "start_time": "2021-11-17T20:59:49.646Z"
   },
   {
    "duration": 159,
    "start_time": "2021-11-17T21:02:26.949Z"
   },
   {
    "duration": 3,
    "start_time": "2021-11-17T21:03:53.461Z"
   },
   {
    "duration": 3,
    "start_time": "2021-11-17T21:03:53.694Z"
   },
   {
    "duration": 3,
    "start_time": "2021-11-17T21:05:28.145Z"
   },
   {
    "duration": 116,
    "start_time": "2021-11-17T21:05:57.787Z"
   },
   {
    "duration": 3,
    "start_time": "2021-11-17T21:06:37.993Z"
   },
   {
    "duration": 3,
    "start_time": "2021-11-17T21:06:38.261Z"
   },
   {
    "duration": 3,
    "start_time": "2021-11-17T21:11:54.358Z"
   },
   {
    "duration": 3,
    "start_time": "2021-11-17T21:12:43.846Z"
   },
   {
    "duration": 4,
    "start_time": "2021-11-17T21:13:08.773Z"
   },
   {
    "duration": 3,
    "start_time": "2021-11-17T21:14:44.441Z"
   },
   {
    "duration": 3,
    "start_time": "2021-11-17T21:15:42.059Z"
   },
   {
    "duration": 4,
    "start_time": "2021-11-17T21:15:51.995Z"
   },
   {
    "duration": 3,
    "start_time": "2021-11-17T21:15:53.923Z"
   },
   {
    "duration": 3,
    "start_time": "2021-11-17T21:15:55.282Z"
   },
   {
    "duration": 3,
    "start_time": "2021-11-17T21:16:28.492Z"
   },
   {
    "duration": 3,
    "start_time": "2021-11-17T21:16:32.603Z"
   },
   {
    "duration": 3,
    "start_time": "2021-11-17T21:17:06.941Z"
   },
   {
    "duration": 98,
    "start_time": "2021-11-17T21:18:05.733Z"
   },
   {
    "duration": 4,
    "start_time": "2021-11-17T21:21:35.255Z"
   },
   {
    "duration": 3,
    "start_time": "2021-11-17T21:21:37.804Z"
   },
   {
    "duration": 4,
    "start_time": "2021-11-17T21:23:06.071Z"
   },
   {
    "duration": 3,
    "start_time": "2021-11-17T21:23:24.799Z"
   },
   {
    "duration": 3,
    "start_time": "2021-11-17T21:23:32.591Z"
   },
   {
    "duration": 98,
    "start_time": "2021-11-17T21:28:31.559Z"
   },
   {
    "duration": 3,
    "start_time": "2021-11-17T21:28:45.448Z"
   },
   {
    "duration": 3,
    "start_time": "2021-11-17T21:29:17.303Z"
   },
   {
    "duration": 3,
    "start_time": "2021-11-17T21:29:29.617Z"
   },
   {
    "duration": 3,
    "start_time": "2021-11-17T21:29:32.681Z"
   },
   {
    "duration": 3,
    "start_time": "2021-11-17T21:36:11.474Z"
   },
   {
    "duration": 3,
    "start_time": "2021-11-17T21:36:14.791Z"
   },
   {
    "duration": 3,
    "start_time": "2021-11-17T21:36:53.943Z"
   },
   {
    "duration": 3,
    "start_time": "2021-11-17T21:36:56.165Z"
   },
   {
    "duration": 4,
    "start_time": "2021-11-17T21:37:16.590Z"
   },
   {
    "duration": 3,
    "start_time": "2021-11-17T21:37:22.702Z"
   },
   {
    "duration": 4,
    "start_time": "2021-11-17T21:38:03.479Z"
   },
   {
    "duration": 3,
    "start_time": "2021-11-17T21:38:08.601Z"
   },
   {
    "duration": 3,
    "start_time": "2021-11-17T21:38:12.928Z"
   },
   {
    "duration": 3,
    "start_time": "2021-11-17T21:38:48.896Z"
   },
   {
    "duration": 2,
    "start_time": "2021-11-17T21:38:49.171Z"
   },
   {
    "duration": 4,
    "start_time": "2021-11-17T21:39:57.889Z"
   },
   {
    "duration": 3,
    "start_time": "2021-11-17T21:39:58.057Z"
   },
   {
    "duration": 3,
    "start_time": "2021-11-17T21:41:20.108Z"
   },
   {
    "duration": 3,
    "start_time": "2021-11-17T21:41:20.629Z"
   },
   {
    "duration": 3,
    "start_time": "2021-11-17T21:42:49.136Z"
   },
   {
    "duration": 3,
    "start_time": "2021-11-17T21:43:15.137Z"
   },
   {
    "duration": 4,
    "start_time": "2021-11-17T21:43:16.766Z"
   },
   {
    "duration": 4,
    "start_time": "2021-11-17T21:43:31.711Z"
   },
   {
    "duration": 3,
    "start_time": "2021-11-17T21:43:36.312Z"
   },
   {
    "duration": 4,
    "start_time": "2021-11-17T21:45:08.825Z"
   },
   {
    "duration": 4,
    "start_time": "2021-11-17T21:45:10.119Z"
   },
   {
    "duration": 4,
    "start_time": "2021-11-17T21:45:13.748Z"
   },
   {
    "duration": 3,
    "start_time": "2021-11-17T21:45:22.219Z"
   },
   {
    "duration": 3,
    "start_time": "2021-11-17T21:45:33.412Z"
   },
   {
    "duration": 2,
    "start_time": "2021-11-17T21:46:01.885Z"
   },
   {
    "duration": 3,
    "start_time": "2021-11-17T21:46:03.628Z"
   },
   {
    "duration": 107,
    "start_time": "2021-11-17T21:47:32.512Z"
   },
   {
    "duration": 103,
    "start_time": "2021-11-17T21:50:36.243Z"
   },
   {
    "duration": 3,
    "start_time": "2021-11-18T06:28:31.440Z"
   },
   {
    "duration": 3,
    "start_time": "2021-11-18T06:29:00.168Z"
   },
   {
    "duration": 3,
    "start_time": "2021-11-18T06:31:27.008Z"
   },
   {
    "duration": 2,
    "start_time": "2021-11-18T06:35:34.288Z"
   },
   {
    "duration": 2,
    "start_time": "2021-11-18T06:38:04.527Z"
   }
  ],
  "colab": {
   "provenance": []
  },
  "kernelspec": {
   "display_name": "Python 3",
   "language": "python",
   "name": "python3"
  },
  "language_info": {
   "codemirror_mode": {
    "name": "ipython",
    "version": 3
   },
   "file_extension": ".py",
   "mimetype": "text/x-python",
   "name": "python",
   "nbconvert_exporter": "python",
   "pygments_lexer": "ipython3",
   "version": "3.11.9"
  },
  "toc": {
   "base_numbering": 1,
   "nav_menu": {},
   "number_sections": true,
   "sideBar": true,
   "skip_h1_title": false,
   "title_cell": "Table of Contents",
   "title_sidebar": "Contents",
   "toc_cell": false,
   "toc_position": {},
   "toc_section_display": true,
   "toc_window_display": true
  }
 },
 "nbformat": 4,
 "nbformat_minor": 1
}
