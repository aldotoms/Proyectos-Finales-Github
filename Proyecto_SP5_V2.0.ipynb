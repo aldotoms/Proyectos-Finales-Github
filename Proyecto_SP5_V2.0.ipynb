{
 "cells": [
  {
   "cell_type": "markdown",
   "metadata": {},
   "source": [
    "¡Hola, Tom!\n",
    "\n",
    "Mi nombre es Tonatiuh Cruz. Me complace revisar tu proyecto hoy.\n",
    "\n",
    "Al identificar cualquier error inicialmente, simplemente los destacaré. Te animo a localizar y abordar los problemas de forma independiente como parte de tu preparación para un rol como data-scientist. En un entorno profesional, tu líder de equipo seguiría un enfoque similar. Si encuentras la tarea desafiante, proporcionaré una pista más específica en la próxima iteración.\n",
    "\n",
    "Encontrarás mis comentarios a continuación - **por favor no los muevas, modifiques o elimines**.\n",
    "\n",
    "Puedes encontrar mis comentarios en cajas verdes, amarillas o rojas como esta:\n",
    "\n",
    "<div class=\"alert alert-block alert-success\">\n",
    "<b>Comentario del revisor</b> <a class=\"tocSkip\"></a>\n",
    "\n",
    "Éxito. Todo está hecho correctamente.\n",
    "</div>\n",
    "\n",
    "<div class=\"alert alert-block alert-warning\">\n",
    "<b>Comentario del revisor</b> <a class=\"tocSkip\"></a>\n",
    "\n",
    "Observaciones. Algunas recomendaciones.\n",
    "</div>\n",
    "\n",
    "<div class=\"alert alert-block alert-danger\">\n",
    "<b>Comentario del revisor</b> <a class=\"tocSkip\"></a>\n",
    "\n",
    "Necesita corrección. El bloque requiere algunas correcciones. El trabajo no puede ser aceptado con comentarios en rojo.\n",
    "</div>\n",
    "\n",
    "Puedes responderme utilizando esto:\n",
    "\n",
    "<div class=\"alert alert-block alert-info\">\n",
    "<b>Respuesta del estudiante</b> <a class=“tocSkip”></a>\n",
    "</div>"
   ]
  },
  {
   "cell_type": "markdown",
   "metadata": {},
   "source": [
    "<div class=\"alert alert-block alert-success\">\n",
    "<b>Resumen de la revisión 1</b> <a class=\"tocSkip\"></a>\n",
    "\n",
    "Hola Tom! Has hecho un excelente trabajo con el proyecto, cada vez más cercas de convertirte en un cientifica de datos. Realizaste la carga de bases, su análisis inicial, sus ajustes, un análisis de algunos variables conmplementado con gráficas y el desarrollo de las pruebas d ehipótesis. Solamente te dejo algunos comentarios para complementar el análisis. \n",
    "\n",
    "Sigue con el excelente trabajo!\n",
    "</div>"
   ]
  },
  {
   "cell_type": "markdown",
   "metadata": {},
   "source": [
    "<div class=\"alert alert-block alert-info\">\n",
    "<b>Respuesta del estudiante, Iteración 1</b> <a class=“tocSkip”></a>\n",
    "\n",
    "Hola Tionatiuh, muchas gracias por todos los comentarios, ya los he revisado y he seguido tus consejos al pié de la letra, me han ayudado a mejorar significativamente este proyecto del Sprint 5.\n",
    "</div>"
   ]
  },
  {
   "cell_type": "markdown",
   "metadata": {
    "id": "3rYiDeEH0q0f"
   },
   "source": [
    "# 1 ¿Cuál es la mejor tarifa?\n",
    "\n",
    "Trabajas como analista para el operador de telecomunicaciones Megaline. La empresa ofrece a sus clientes dos tarifas de prepago, Surf y Ultimate. El departamento comercial quiere saber cuál de las tarifas genera más ingresos para poder ajustar el presupuesto de publicidad.\n",
    "\n",
    "Vas a realizar un análisis preliminar de las tarifas basado en una selección de clientes relativamente pequeña. Tendrás los datos de 500 clientes de Megaline: quiénes son los clientes, de dónde son, qué tarifa usan, así como la cantidad de llamadas que hicieron y los mensajes de texto que enviaron en 2018. Tu trabajo es analizar el comportamiento de los clientes y determinar qué tarifa de prepago genera más ingresos."
   ]
  },
  {
   "cell_type": "markdown",
   "metadata": {},
   "source": [
    "# Contenido <a id='back'></a>\n",
    "\n",
    "* [Introducción](#intro)\n",
    "    * [Descripción de los datos](#data_review)\n",
    "    * [Diccionario de datos](#dictionary)\n",
    "    * [Plan de solucion](#plan)\n",
    "* [1  ¿Cuál es la mejor tarifa?](#plan)\n",
    "    * [1.1  Inicialización](#kickoff)\n",
    "    * [1.2  Cargar datos](#dataload)\n",
    "    * [1.3  Preparar los datos](#data_preprocessing)\n",
    "    * [1.4  Tarifas](#fees)\n",
    "    * [1.5  Corregir datos](#fess_wrangling)\n",
    "    * [1.6  Enriquecer los datos](#fees_processing)\n",
    "    * [1.7  Usuarios/as](#users)\n",
    "        * [1.7.1  Corregir los datos](#users_wrangling)\n",
    "        * [1.7.2  Enriquecer los datos](#users_processing)\n",
    "    * [1.8  Llamadas](#calls)\n",
    "        * [1.8.1  Corregir los datos](#calls_wrangling)\n",
    "        * [1.8.2  Enriquecer los datos](calls_processing)\n",
    "    * [1.9  Mensajes](#sms)\n",
    "        * [1.9.1  Corregir los datos](#sms__wrangling)\n",
    "        * [1.9.2  Enriquecer los datos](#calls_processing)\n",
    "    * [1.10  Internet](#data)\n",
    "        * [1.10.1  Corregir los datos](#data_wrnagling)\n",
    "        * [1.10.2  Enriquecer los datos](#data_processing)\n",
    "    * [1.11  Estudiar las condiciones de las tarifas](#fees_analisys)\n",
    "    * [1.12  Agregar datos por usuario](#data_adding)\n",
    "    * [1.13  Estudia el comportamiento de usuario](#user_consumption)\n",
    "        * [1.13.1  Llamadas](#calls_consumption)\n",
    "        * [1.13.2  Mensajes](#sms_consumption)\n",
    "        * [1.13.3  Internet](#data_consumption)\n",
    "    * [1.14  Ingreso](#incomes)\n",
    "    * [1.15  Prueba las hipótesis estadísticas](#hypothesis)\n",
    "* [1.16  Conclusión general](#end)"
   ]
  },
  {
   "cell_type": "markdown",
   "metadata": {},
   "source": [
    "# Introducción  <a id='intro'></a>\n",
    "\n",
    "La empresa operadora de Telecomunicaciones MEGALINE ofrece a sus clientes dos tarifas de prepago, Surf y Ultimate. Necesitamos saber cuál de los dos planes genera más ingresos para ajustar el presupuesto de publicidad, de acuerdo a los requerimientos del departamento comercial de la compañía.\n",
    "\n",
    "Vamos a realizar un análisis preliminar de las tarifas basado en una selección de clientes relativamente pequeña. Tendrás los datos de 500 clientes de Megaline: quiénes son los clientes, de dónde son, qué tarifa usan, así como la cantidad de llamadas que hicieron y los mensajes de texto que enviaron en 2018. Tu trabajo es analizar el comportamiento de los clientes y determinar qué tarifa de prepago genera más ingresos. Más adelante, encontrarás en las instrucciones del proyecto cuáles son exactamente los aspectos del comportamiento de los clientes que debes analizar. Determinar qué plan, en promedio, aporta más ingresos es una cuestión que se abordará mediante pruebas estadísticas. Más adelante encontrarás más información al respecto en la sección de instrucciones del proyecto.\n",
    "\n",
    "Descripción de las tarifas:\n",
    "\n",
    "Nota: Megaline redondea los segundos a minutos y los megabytes a gigabytes. Para las llamadas, cada llamada individual se redondea: incluso si la llamada duró solo un segundo, se contará como un minuto. Para el tráfico web, las sesiones web individuales no se redondean. En vez de esto, el total del mes se redondea hacia arriba. Si alguien usa 1025 megabytes este mes, se le cobrarán 2 gigabytes.\n",
    "\n",
    "A continuación, puedes ver una descripción de las tarifas:\n",
    "\n",
    "Surf\n",
    "\n",
    "1.\tPago mensual: $20 usd.\n",
    "2.\t500 minutos al mes, 50 SMS y 15 GB de datos.\n",
    "3.\tSi se exceden los límites del paquete:\n",
    "\n",
    "    o\t1 minuto: 3 centavos.\n",
    "\n",
    "    o\t1 SMS: 3 centavos.\n",
    "\n",
    "    o\t1 GB de datos: $10 usd.\n",
    "\n",
    "Ultimate\n",
    "\n",
    "1.\tPago mensual: $70 usd.\n",
    "2.\t3000 minutos al mes, 1000 SMS y 30 GB de datos.\n",
    "3.\tSi se exceden los límites del paquete:\n",
    "\n",
    "    o\t1 minuto: 1 centavo.\n",
    "\n",
    "    o\t1 SMS: 1 centavo.\n",
    "    \n",
    "    o\t1 GB de datos: $7 usd."
   ]
  },
  {
   "cell_type": "markdown",
   "metadata": {},
   "source": [
    "[Volver a Contenido](#back)"
   ]
  },
  {
   "cell_type": "markdown",
   "metadata": {
    "id": "VNddPNRQ0q0w"
   },
   "source": [
    "[Te proporcionamos algunos comentarios para orientarte mientras completas este proyecto. Pero debes asegurarte de eliminar todos los comentarios entre corchetes antes de entregar tu proyecto.]\n",
    "\n",
    "[Antes de sumergirte en el análisis de datos, explica por tu propia cuenta el propósito del proyecto y las acciones que planeas realizar.]\n",
    "\n",
    "[Ten en cuenta que estudiar, modificar y analizar datos es un proceso iterativo. Es normal volver a los pasos anteriores y corregirlos/ampliarlos para permitir nuevos pasos.]"
   ]
  },
  {
   "cell_type": "markdown",
   "metadata": {},
   "source": [
    "# Descripción de los datos <a id='data_review'></a>\n",
    "\n",
    "Para este trabajo se tienen los siguientes 5 archivos de datos (`/datasets/megaline_users.csv `, `/datasets/megaline_plans.csv `, `/datasets/megaline_calls.csv `, `/datasets/megaline_internet.csv ` y `/datasets/megaline_messages.csv `) los cuales se leeran con la librería Pandas de Python, utilizando el método de lectura de archivos separados por comas `pd.read_csv()` usando el parámetro sep=';' para leer los datos correctamente. \n",
    "De primer instancia, se verificará la información para cada uno de los DataFrames."
   ]
  },
  {
   "cell_type": "markdown",
   "metadata": {},
   "source": [
    "## Diccionario de datos <a id='dictionary'></a>\n",
    "\n",
    "Contamos con cinco Datasets en el conjunto de datos, usaremos todas para hacer el preprocesamiento de los datos y el análisis exploratorio de los datos.\n",
    "A continuación se muestra el diccionario de datos que enumeroa las columnas de cada uno de los Datasets y se describen los datos que contienen.\n",
    "\n",
    "- `megaline_users.csv`: cada fila corresponde a un usuario en la Compañia Megaline (datos sobre los usuarios).\n",
    "    - `'user_id'`: identificador único del usuario.\n",
    "    - `'first_name'`: nombre del usuario.\n",
    "    - `'last_name'`: apellido del usuario.\n",
    "    - `'age'`: edad del usuario (en años).\n",
    "    - `'reg_date'`: fecha de suscripción (dd, mm, aa).\n",
    "    - `'churn_date'`: la fecha en la que el usuario dejó de usar el servicio (si el valor es ausente, la tarifa se estaba usando cuando fue extraída esta base de datos).\n",
    "    - `'city'`: ciudad de residencia del usuario.\n",
    "    - `'plan'`: nombre de la tarifa ('surf' o 'ultimate')\n",
    "\n",
    "- `megaline_plans.csv `: cada fila corresponde a... (datos sobre las tarifas).\n",
    "    - `'plan_name'`: nombre de la tarifa.\n",
    "    - `'usd_monthly_fee'`: pago mensual en dólares estadounidenses.\n",
    "    - `'minutes_included'`: minutos incluidos al mes.\n",
    "    - `'messages_included'`: SMS incluidos al mes.\n",
    "    - `'mb_per_month_included'`: datos incluidos al mes (en megabytes).\n",
    "    - `'usd_per_minute'`: precio por minuto tras exceder los límites del paquete (por ejemplo, si el paquete incluye 100 minutos, el operador cobrará el minuto 101).\n",
    "    - `'usd_per_message'`: precio por SMS tras exceder los límites del paquete.\n",
    "    - `'usd_per_gb'`: precio por gigabyte de los datos extra tras exceder los límites del paquete (1 GB = 1024 megabytes).\n",
    "\n",
    "- `megaline_calls.csv`: cada fila corresponde a una llamada única que realizaron los clientes (datos sobre las llamadas).\n",
    "    - `'id'`: identificador único de la llamada.\n",
    "    - `'call_date'`: fecha de la llamada.\n",
    "    - `'duration'`: duración de la llamada (en minutos).\n",
    "    - `'user_id'`: el identificador del usuario que realiza la llamada.\n",
    "\n",
    "- `megaline_internet.csv`: cada fila corresponde a una consulta en internet que realizaron los clientes (datos sobre las sesiones web).\n",
    "    - `'id'`: identificador único de la sesión.\n",
    "    - `'mb_used'`: el volumen de datos gastados durante la sesión (en megabytes).\n",
    "    - `'session_date'`: fecha de la sesión web.\n",
    "    - `'user_id'`: identificador del usuario.\n",
    "\n",
    "- `megaline_messages.csv`: cada fila corresponde a un mensaje tipo sms que realizaron los clientes (datos sobre los SMS).\n",
    "    - `'id'`: identificador único del SMS.\n",
    "    - `'message_date'`: fecha del SMS.\n",
    "    - `'user_id'`: el identificador del usuario que manda el SMS."
   ]
  },
  {
   "cell_type": "markdown",
   "metadata": {},
   "source": [
    "[Volver a Contenido](#back)"
   ]
  },
  {
   "cell_type": "markdown",
   "metadata": {},
   "source": [
    "## Plan de solución <a id='plan1'></a>\n",
    "\n",
    "Descripción de los datos.\n",
    "\n",
    "Para iniciar con la revisión de todos los Datasets, vamos a importa las librerias de Pandas, Numpy y Stats de Scipy que nos serviran para crear un Dataframe por cada uno de los archivos csv.\n",
    "\n",
    "De esta manera será posible revisar la información contenida en cada archivo, realizando el Preprocesamiento de los datos; como corrección de los nombres de las columnas para cumplir con el formato SnakeCase; rellenar valores ausentes, y eliminar datos duplicados de ser necesario.\n",
    "\n",
    "Finalmente, realizaremos el Análisis de los datos, creando Hipótesis que nos ayuden a tomar buenas desiciones con la información qye tenemos."
   ]
  },
  {
   "cell_type": "markdown",
   "metadata": {
    "id": "MQi4IPy70q0y"
   },
   "source": [
    "## 1.1 Inicialización <a id='kickoff'></a>"
   ]
  },
  {
   "cell_type": "code",
   "execution_count": 21,
   "metadata": {
    "id": "MtYIuBxu0q0z"
   },
   "outputs": [],
   "source": [
    "# Cargar todas las librerías\n",
    "import pandas as pd\n",
    "import numpy as np\n",
    "from matplotlib import pyplot as plt\n",
    "from scipy import stats as st\n",
    "import seaborn as sns\n",
    "import seaborn as sns\n",
    "import math"
   ]
  },
  {
   "cell_type": "markdown",
   "metadata": {},
   "source": [
    "<div class=\"alert alert-block alert-warning\">\n",
    "<b>Comentario revisor</b> <a class=\"tocSkip\"></a>\n",
    "\n",
    "\n",
    "Recomiendo cargar la libreria math. De esta manera, puedes realizar redondeos con otros métodos. \n",
    "</div>"
   ]
  },
  {
   "cell_type": "markdown",
   "metadata": {},
   "source": [
    "<div class=\"alert alert-block alert-info\">\n",
    "<b>Respuesta del estudiante, Iteración 1</b> <a class=“tocSkip”></a>\n",
    "\n",
    "Listo Tionatiuh, ya he agregado y cargado la librería de math para el redondeo de las cifras más adelante, gracias.\n",
    "</div>"
   ]
  },
  {
   "cell_type": "markdown",
   "metadata": {
    "id": "4ysWWC5i0q00"
   },
   "source": [
    "## 1.2 Cargar datos     <a id='dataload'></a>"
   ]
  },
  {
   "cell_type": "code",
   "execution_count": 22,
   "metadata": {
    "id": "CCqPW7rS0q01"
   },
   "outputs": [],
   "source": [
    "# Carga los archivos de datos en diferentes DataFrames\n",
    "df_users = pd.read_csv(r'C:\\Users\\10147115\\Python Project Folder\\TripleTen_DS\\Sprint 5_Análisis estadístico de datos\\Proyecto SP5\\Datasets\\megaline_users.csv', sep=',')\n",
    "df_plans = pd.read_csv(r'C:\\Users\\10147115\\Python Project Folder\\TripleTen_DS\\Sprint 5_Análisis estadístico de datos\\Proyecto SP5\\Datasets\\megaline_plans.csv', sep=',')\n",
    "df_calls = pd.read_csv(r'C:\\Users\\10147115\\Python Project Folder\\TripleTen_DS\\Sprint 5_Análisis estadístico de datos\\Proyecto SP5\\Datasets\\megaline_calls.csv', sep=',')\n",
    "df_data = pd.read_csv(r'C:\\Users\\10147115\\Python Project Folder\\TripleTen_DS\\Sprint 5_Análisis estadístico de datos\\Proyecto SP5\\Datasets\\megaline_internet.csv', sep=',')\n",
    "df_sms = pd.read_csv(r'C:\\Users\\10147115\\Python Project Folder\\TripleTen_DS\\Sprint 5_Análisis estadístico de datos\\Proyecto SP5\\Datasets\\megaline_messages.csv', sep=',')"
   ]
  },
  {
   "cell_type": "markdown",
   "metadata": {
    "id": "69qqoJ3r0q01"
   },
   "source": [
    "## 1.3 Preparar los datos <a id='data_preprocessing'></a>"
   ]
  },
  {
   "cell_type": "markdown",
   "metadata": {
    "id": "vUuZw80S0q01"
   },
   "source": [
    "[Los datos para este proyecto se dividen en varias tablas. \n",
    "Explora cada una para tener una comprensión inicial de los datos. \n",
    "Si es necesario, haz las correcciones requeridas en cada tabla.]"
   ]
  },
  {
   "cell_type": "markdown",
   "metadata": {
    "id": "ohBhimvH0q01"
   },
   "source": [
    "## 1.4 Tarifas <a id='fees'></a>"
   ]
  },
  {
   "cell_type": "code",
   "execution_count": 23,
   "metadata": {
    "id": "GptqP3Q40q02"
   },
   "outputs": [
    {
     "name": "stdout",
     "output_type": "stream",
     "text": [
      "<class 'pandas.core.frame.DataFrame'>\n",
      "RangeIndex: 2 entries, 0 to 1\n",
      "Data columns (total 8 columns):\n",
      " #   Column                 Non-Null Count  Dtype  \n",
      "---  ------                 --------------  -----  \n",
      " 0   messages_included      2 non-null      int64  \n",
      " 1   mb_per_month_included  2 non-null      int64  \n",
      " 2   minutes_included       2 non-null      int64  \n",
      " 3   usd_monthly_pay        2 non-null      int64  \n",
      " 4   usd_per_gb             2 non-null      int64  \n",
      " 5   usd_per_message        2 non-null      float64\n",
      " 6   usd_per_minute         2 non-null      float64\n",
      " 7   plan_name              2 non-null      object \n",
      "dtypes: float64(2), int64(5), object(1)\n",
      "memory usage: 260.0+ bytes\n",
      "       messages_included  mb_per_month_included  minutes_included  \\\n",
      "count           2.000000               2.000000          2.000000   \n",
      "mean          525.000000           23040.000000       1750.000000   \n",
      "std           671.751442           10861.160159       1767.766953   \n",
      "min            50.000000           15360.000000        500.000000   \n",
      "25%           287.500000           19200.000000       1125.000000   \n",
      "50%           525.000000           23040.000000       1750.000000   \n",
      "75%           762.500000           26880.000000       2375.000000   \n",
      "max          1000.000000           30720.000000       3000.000000   \n",
      "\n",
      "       usd_monthly_pay  usd_per_gb  usd_per_message  usd_per_minute  \n",
      "count         2.000000     2.00000         2.000000        2.000000  \n",
      "mean         45.000000     8.50000         0.020000        0.020000  \n",
      "std          35.355339     2.12132         0.014142        0.014142  \n",
      "min          20.000000     7.00000         0.010000        0.010000  \n",
      "25%          32.500000     7.75000         0.015000        0.015000  \n",
      "50%          45.000000     8.50000         0.020000        0.020000  \n",
      "75%          57.500000     9.25000         0.025000        0.025000  \n",
      "max          70.000000    10.00000         0.030000        0.030000  \n"
     ]
    }
   ],
   "source": [
    "# Imprime la información general/resumida sobre el DataFrame de las tarifas\n",
    "df_plans.info()\n",
    "print(df_plans.describe())"
   ]
  },
  {
   "cell_type": "code",
   "execution_count": 24,
   "metadata": {
    "id": "64xzjwL70q02"
   },
   "outputs": [
    {
     "data": {
      "text/html": [
       "<div>\n",
       "<style scoped>\n",
       "    .dataframe tbody tr th:only-of-type {\n",
       "        vertical-align: middle;\n",
       "    }\n",
       "\n",
       "    .dataframe tbody tr th {\n",
       "        vertical-align: top;\n",
       "    }\n",
       "\n",
       "    .dataframe thead th {\n",
       "        text-align: right;\n",
       "    }\n",
       "</style>\n",
       "<table border=\"1\" class=\"dataframe\">\n",
       "  <thead>\n",
       "    <tr style=\"text-align: right;\">\n",
       "      <th></th>\n",
       "      <th>messages_included</th>\n",
       "      <th>mb_per_month_included</th>\n",
       "      <th>minutes_included</th>\n",
       "      <th>usd_monthly_pay</th>\n",
       "      <th>usd_per_gb</th>\n",
       "      <th>usd_per_message</th>\n",
       "      <th>usd_per_minute</th>\n",
       "      <th>plan_name</th>\n",
       "    </tr>\n",
       "  </thead>\n",
       "  <tbody>\n",
       "    <tr>\n",
       "      <th>0</th>\n",
       "      <td>50</td>\n",
       "      <td>15360</td>\n",
       "      <td>500</td>\n",
       "      <td>20</td>\n",
       "      <td>10</td>\n",
       "      <td>0.03</td>\n",
       "      <td>0.03</td>\n",
       "      <td>surf</td>\n",
       "    </tr>\n",
       "    <tr>\n",
       "      <th>1</th>\n",
       "      <td>1000</td>\n",
       "      <td>30720</td>\n",
       "      <td>3000</td>\n",
       "      <td>70</td>\n",
       "      <td>7</td>\n",
       "      <td>0.01</td>\n",
       "      <td>0.01</td>\n",
       "      <td>ultimate</td>\n",
       "    </tr>\n",
       "  </tbody>\n",
       "</table>\n",
       "</div>"
      ],
      "text/plain": [
       "   messages_included  mb_per_month_included  minutes_included  \\\n",
       "0                 50                  15360               500   \n",
       "1               1000                  30720              3000   \n",
       "\n",
       "   usd_monthly_pay  usd_per_gb  usd_per_message  usd_per_minute plan_name  \n",
       "0               20          10             0.03            0.03      surf  \n",
       "1               70           7             0.01            0.01  ultimate  "
      ]
     },
     "execution_count": 24,
     "metadata": {},
     "output_type": "execute_result"
    }
   ],
   "source": [
    "# Imprime una muestra de los datos para las tarifas\n",
    "df_plans.head()\n"
   ]
  },
  {
   "cell_type": "markdown",
   "metadata": {},
   "source": [
    "[Volver a Contenido](#back)"
   ]
  },
  {
   "cell_type": "markdown",
   "metadata": {
    "id": "mEc_3_hs0q02"
   },
   "source": [
    "## Descripción\n",
    "\n",
    "El dataframe de los planes contiene únicamente 2 filas y 8 columnas, con información sobre las tarifas que se ofrecen.\n",
    "\n",
    "La mayoría de los datos de las columnas son de tipo números enteros o integer (int64), hay dos columnas con información monetaria (usd) que son de tipo números fraccionarios o float (float64), y finalmente una columna con información de tipo cualitativa o descriptiva (object) que son los nombres de los planes.\n",
    "\n",
    "La información se ve bien pero podemos cambiar los tipos de datos en todas las columnas que contengan información monetaria en usd, para homologar todas las columnas con esta información.\n",
    "\n",
    "No se tienen datos eliminados ni ausentes, los nombres de los planes están en minusculas, los nombres de las columnas cumplen el formato snake case, nombres en minúsculas, separación con guiones bajos, sin espacios al principio ni al final.\n",
    "\n",
    "Por lo que no hay mucho que corregir en este primer dataframe revisado."
   ]
  },
  {
   "cell_type": "markdown",
   "metadata": {
    "id": "R3C05i1l0q03"
   },
   "source": [
    "## 1.5 Corregir datos <a id='fees_wrangling'></a>"
   ]
  },
  {
   "cell_type": "markdown",
   "metadata": {
    "id": "bIi8StZI0q03"
   },
   "source": [
    "[Corrige los problemas obvios con los datos basándote en las observaciones iniciales.]"
   ]
  },
  {
   "cell_type": "code",
   "execution_count": 25,
   "metadata": {
    "id": "Y7SVmjGn0q03"
   },
   "outputs": [
    {
     "name": "stdout",
     "output_type": "stream",
     "text": [
      "<class 'pandas.core.frame.DataFrame'>\n",
      "RangeIndex: 2 entries, 0 to 1\n",
      "Data columns (total 8 columns):\n",
      " #   Column                 Non-Null Count  Dtype  \n",
      "---  ------                 --------------  -----  \n",
      " 0   messages_included      2 non-null      int64  \n",
      " 1   mb_per_month_included  2 non-null      int64  \n",
      " 2   minutes_included       2 non-null      int64  \n",
      " 3   usd_monthly_pay        2 non-null      float64\n",
      " 4   usd_per_gb             2 non-null      float64\n",
      " 5   usd_per_message        2 non-null      float64\n",
      " 6   usd_per_minute         2 non-null      float64\n",
      " 7   plan_name              2 non-null      object \n",
      "dtypes: float64(4), int64(3), object(1)\n",
      "memory usage: 260.0+ bytes\n"
     ]
    }
   ],
   "source": [
    "# Vamos a cambiar los Dtypes en todas las columnas con información monetaria (usd) de int64 a float64:\n",
    "df_plans['usd_monthly_pay'] = df_plans['usd_monthly_pay'].astype('float64')\n",
    "df_plans['usd_per_gb'] = df_plans['usd_per_gb'].astype('float64')\n",
    "df_plans.info()"
   ]
  },
  {
   "cell_type": "markdown",
   "metadata": {},
   "source": [
    "[Volver a Contenido](#back)"
   ]
  },
  {
   "cell_type": "markdown",
   "metadata": {
    "id": "LJir7bml0q03"
   },
   "source": [
    "## 1.6 Enriquecer los datos <a id='fees_processing'></a>"
   ]
  },
  {
   "cell_type": "markdown",
   "metadata": {
    "id": "eqADpCfg0q04"
   },
   "source": [
    "[Agrega factores adicionales a los datos si crees que pudieran ser útiles.]"
   ]
  },
  {
   "cell_type": "code",
   "execution_count": 26,
   "metadata": {
    "id": "gfcIEuXV0q04"
   },
   "outputs": [
    {
     "data": {
      "text/html": [
       "<div>\n",
       "<style scoped>\n",
       "    .dataframe tbody tr th:only-of-type {\n",
       "        vertical-align: middle;\n",
       "    }\n",
       "\n",
       "    .dataframe tbody tr th {\n",
       "        vertical-align: top;\n",
       "    }\n",
       "\n",
       "    .dataframe thead th {\n",
       "        text-align: right;\n",
       "    }\n",
       "</style>\n",
       "<table border=\"1\" class=\"dataframe\">\n",
       "  <thead>\n",
       "    <tr style=\"text-align: right;\">\n",
       "      <th></th>\n",
       "      <th>sms_included</th>\n",
       "      <th>mb_per_month_included</th>\n",
       "      <th>gb_included</th>\n",
       "      <th>min_included</th>\n",
       "      <th>usd_monthly_fee</th>\n",
       "      <th>usd_per_gb</th>\n",
       "      <th>usd_per_sms</th>\n",
       "      <th>usd_per_minute</th>\n",
       "      <th>plan</th>\n",
       "    </tr>\n",
       "  </thead>\n",
       "  <tbody>\n",
       "    <tr>\n",
       "      <th>0</th>\n",
       "      <td>50</td>\n",
       "      <td>15360</td>\n",
       "      <td>15</td>\n",
       "      <td>500</td>\n",
       "      <td>20.0</td>\n",
       "      <td>10.0</td>\n",
       "      <td>0.03</td>\n",
       "      <td>0.03</td>\n",
       "      <td>surf</td>\n",
       "    </tr>\n",
       "    <tr>\n",
       "      <th>1</th>\n",
       "      <td>1000</td>\n",
       "      <td>30720</td>\n",
       "      <td>30</td>\n",
       "      <td>3000</td>\n",
       "      <td>70.0</td>\n",
       "      <td>7.0</td>\n",
       "      <td>0.01</td>\n",
       "      <td>0.01</td>\n",
       "      <td>ultimate</td>\n",
       "    </tr>\n",
       "  </tbody>\n",
       "</table>\n",
       "</div>"
      ],
      "text/plain": [
       "   sms_included  mb_per_month_included  gb_included  min_included  \\\n",
       "0            50                  15360           15           500   \n",
       "1          1000                  30720           30          3000   \n",
       "\n",
       "   usd_monthly_fee  usd_per_gb  usd_per_sms  usd_per_minute      plan  \n",
       "0             20.0        10.0         0.03            0.03      surf  \n",
       "1             70.0         7.0         0.01            0.01  ultimate  "
      ]
     },
     "execution_count": 26,
     "metadata": {},
     "output_type": "execute_result"
    }
   ],
   "source": [
    "# Agregamos una columna que contenga el los Mb (Megabytes) incluídos en Gb (Gigabytes)\n",
    "gb_included = (df_plans['mb_per_month_included'] / 1024).astype('int64')\n",
    "df_plans.insert(2, 'gb_included', gb_included)\n",
    "\n",
    "# renombramos las columnas con nombres más descriptivos y para mantener la uniformidad\n",
    "df_plans.columns = ['sms_included', 'mb_per_month_included', 'gb_included', 'min_included', 'usd_monthly_fee', 'usd_per_gb', 'usd_per_sms', 'usd_per_minute','plan']\n",
    "df_plans"
   ]
  },
  {
   "cell_type": "markdown",
   "metadata": {},
   "source": [
    "\n",
    "<div class=\"alert alert-block alert-success\">\n",
    "<b>Comentario del revisor</b> <a class=\"tocSkip\"></a>\n",
    "\n",
    "Muy buen trabajo!! Es correcto considerar que 1024 megabytes son 1 gigabytes.\n",
    "    \n",
    "</div>"
   ]
  },
  {
   "cell_type": "markdown",
   "metadata": {},
   "source": [
    "[Volver a Contenido](#back)"
   ]
  },
  {
   "cell_type": "markdown",
   "metadata": {
    "id": "1n2X6WXf0q04"
   },
   "source": [
    "## 1.7 Usuarios/as <a id='users'></a>"
   ]
  },
  {
   "cell_type": "code",
   "execution_count": 27,
   "metadata": {
    "id": "2NgjWFqx0q05"
   },
   "outputs": [
    {
     "name": "stdout",
     "output_type": "stream",
     "text": [
      "<class 'pandas.core.frame.DataFrame'>\n",
      "RangeIndex: 500 entries, 0 to 499\n",
      "Data columns (total 8 columns):\n",
      " #   Column      Non-Null Count  Dtype \n",
      "---  ------      --------------  ----- \n",
      " 0   user_id     500 non-null    int64 \n",
      " 1   first_name  500 non-null    object\n",
      " 2   last_name   500 non-null    object\n",
      " 3   age         500 non-null    int64 \n",
      " 4   city        500 non-null    object\n",
      " 5   reg_date    500 non-null    object\n",
      " 6   plan        500 non-null    object\n",
      " 7   churn_date  34 non-null     object\n",
      "dtypes: int64(2), object(6)\n",
      "memory usage: 31.4+ KB\n",
      "           user_id         age\n",
      "count   500.000000  500.000000\n",
      "mean   1249.500000   45.486000\n",
      "std     144.481833   16.972269\n",
      "min    1000.000000   18.000000\n",
      "25%    1124.750000   30.000000\n",
      "50%    1249.500000   46.000000\n",
      "75%    1374.250000   61.000000\n",
      "max    1499.000000   75.000000\n"
     ]
    }
   ],
   "source": [
    "# Imprime la información general/resumida sobre el DataFrame de usuarios\n",
    "df_users.info()\n",
    "print(df_users.describe())"
   ]
  },
  {
   "cell_type": "code",
   "execution_count": 28,
   "metadata": {
    "id": "1IN1L9uh0q05"
   },
   "outputs": [
    {
     "data": {
      "text/html": [
       "<div>\n",
       "<style scoped>\n",
       "    .dataframe tbody tr th:only-of-type {\n",
       "        vertical-align: middle;\n",
       "    }\n",
       "\n",
       "    .dataframe tbody tr th {\n",
       "        vertical-align: top;\n",
       "    }\n",
       "\n",
       "    .dataframe thead th {\n",
       "        text-align: right;\n",
       "    }\n",
       "</style>\n",
       "<table border=\"1\" class=\"dataframe\">\n",
       "  <thead>\n",
       "    <tr style=\"text-align: right;\">\n",
       "      <th></th>\n",
       "      <th>user_id</th>\n",
       "      <th>first_name</th>\n",
       "      <th>last_name</th>\n",
       "      <th>age</th>\n",
       "      <th>city</th>\n",
       "      <th>reg_date</th>\n",
       "      <th>plan</th>\n",
       "      <th>churn_date</th>\n",
       "    </tr>\n",
       "  </thead>\n",
       "  <tbody>\n",
       "    <tr>\n",
       "      <th>192</th>\n",
       "      <td>1192</td>\n",
       "      <td>Korey</td>\n",
       "      <td>Goodwin</td>\n",
       "      <td>36</td>\n",
       "      <td>Buffalo-Cheektowaga, NY MSA</td>\n",
       "      <td>2018-10-02</td>\n",
       "      <td>surf</td>\n",
       "      <td>NaN</td>\n",
       "    </tr>\n",
       "    <tr>\n",
       "      <th>467</th>\n",
       "      <td>1467</td>\n",
       "      <td>Nickolas</td>\n",
       "      <td>Deleon</td>\n",
       "      <td>64</td>\n",
       "      <td>Atlanta-Sandy Springs-Roswell, GA MSA</td>\n",
       "      <td>2018-01-31</td>\n",
       "      <td>ultimate</td>\n",
       "      <td>2018-11-18</td>\n",
       "    </tr>\n",
       "    <tr>\n",
       "      <th>442</th>\n",
       "      <td>1442</td>\n",
       "      <td>Terrell</td>\n",
       "      <td>Caldwell</td>\n",
       "      <td>66</td>\n",
       "      <td>New York-Newark-Jersey City, NY-NJ-PA MSA</td>\n",
       "      <td>2018-05-25</td>\n",
       "      <td>ultimate</td>\n",
       "      <td>NaN</td>\n",
       "    </tr>\n",
       "    <tr>\n",
       "      <th>471</th>\n",
       "      <td>1471</td>\n",
       "      <td>Britni</td>\n",
       "      <td>Mitchell</td>\n",
       "      <td>59</td>\n",
       "      <td>Richmond, VA MSA</td>\n",
       "      <td>2018-10-13</td>\n",
       "      <td>surf</td>\n",
       "      <td>NaN</td>\n",
       "    </tr>\n",
       "    <tr>\n",
       "      <th>45</th>\n",
       "      <td>1045</td>\n",
       "      <td>Barney</td>\n",
       "      <td>Ortega</td>\n",
       "      <td>20</td>\n",
       "      <td>New York-Newark-Jersey City, NY-NJ-PA MSA</td>\n",
       "      <td>2018-10-15</td>\n",
       "      <td>surf</td>\n",
       "      <td>NaN</td>\n",
       "    </tr>\n",
       "  </tbody>\n",
       "</table>\n",
       "</div>"
      ],
      "text/plain": [
       "     user_id first_name last_name  age  \\\n",
       "192     1192      Korey   Goodwin   36   \n",
       "467     1467   Nickolas    Deleon   64   \n",
       "442     1442    Terrell  Caldwell   66   \n",
       "471     1471     Britni  Mitchell   59   \n",
       "45      1045     Barney    Ortega   20   \n",
       "\n",
       "                                          city    reg_date      plan  \\\n",
       "192                Buffalo-Cheektowaga, NY MSA  2018-10-02      surf   \n",
       "467      Atlanta-Sandy Springs-Roswell, GA MSA  2018-01-31  ultimate   \n",
       "442  New York-Newark-Jersey City, NY-NJ-PA MSA  2018-05-25  ultimate   \n",
       "471                           Richmond, VA MSA  2018-10-13      surf   \n",
       "45   New York-Newark-Jersey City, NY-NJ-PA MSA  2018-10-15      surf   \n",
       "\n",
       "     churn_date  \n",
       "192         NaN  \n",
       "467  2018-11-18  \n",
       "442         NaN  \n",
       "471         NaN  \n",
       "45          NaN  "
      ]
     },
     "execution_count": 28,
     "metadata": {},
     "output_type": "execute_result"
    }
   ],
   "source": [
    "# Imprime una muestra de datos para usuarios\n",
    "df_users.sample(5)"
   ]
  },
  {
   "cell_type": "markdown",
   "metadata": {
    "id": "dCZoUq4f0q06"
   },
   "source": [
    "En el dataframe de usuarios, podemos ver 8 columnas con diferentes datos, como 'user_id', 'first_name', 'last_name', 'age', 'city', 'reg_date', 'plan', 'churn_date'.\n",
    "\n",
    "Al revisar los Dtypes podemos ver eu la columna con fecha de registro 'reg_date' y la columna 'churn_date', son de tipo object; lo cual no es lo más correcto y debe ser corregido a tipo de fecha y con formato de fecha.\n",
    "\n",
    "También en la última columna llamada 'churn_date' solo tenemos 34 registros y los demás son valores ausentes, lo cual debe corregirse para evitar problemas en el análisis posterios, estos podrían sustituirse con un valor cero o desconocido (unknown).\n",
    "\n",
    "La muestra a analizar es de 500 usuarios."
   ]
  },
  {
   "cell_type": "markdown",
   "metadata": {
    "id": "BX5FQh_I0q06"
   },
   "source": [
    "### 1.7.1 Corregir los datos <a id='users_wrangling'></a>"
   ]
  },
  {
   "cell_type": "markdown",
   "metadata": {
    "id": "8OdKMwJv0q06"
   },
   "source": [
    "Es necesario cambiar el formato de las columnas con fechas, para esto utilizaremos un método de Pandas llamado to_datetime.\n",
    "\n",
    "Tanto la columna llamada 'reg_date' como la columna 'churn_date' se modificará su formato.\n",
    "\n",
    "Rellenar los valores ausentes en la columna 'churn_date' con el nombre 'unknown'.\n",
    "\n",
    "Renombraremos las columnas con nombres más descriptivos."
   ]
  },
  {
   "cell_type": "code",
   "execution_count": 29,
   "metadata": {
    "id": "yUqX-K0C0q07"
   },
   "outputs": [
    {
     "name": "stdout",
     "output_type": "stream",
     "text": [
      "<class 'pandas.core.frame.DataFrame'>\n",
      "RangeIndex: 500 entries, 0 to 499\n",
      "Data columns (total 8 columns):\n",
      " #   Column      Non-Null Count  Dtype         \n",
      "---  ------      --------------  -----         \n",
      " 0   user_id     500 non-null    int64         \n",
      " 1   first_name  500 non-null    object        \n",
      " 2   last_name   500 non-null    object        \n",
      " 3   user_age    500 non-null    int64         \n",
      " 4   user_city   500 non-null    object        \n",
      " 5   reg_date    500 non-null    datetime64[ns]\n",
      " 6   plan        500 non-null    object        \n",
      " 7   churn_date  500 non-null    object        \n",
      "dtypes: datetime64[ns](1), int64(2), object(5)\n",
      "memory usage: 31.4+ KB\n"
     ]
    },
    {
     "name": "stderr",
     "output_type": "stream",
     "text": [
      "C:\\Users\\10147115\\AppData\\Local\\Temp\\ipykernel_7408\\3118405040.py:2: UserWarning: The argument 'infer_datetime_format' is deprecated and will be removed in a future version. A strict version of it is now the default, see https://pandas.pydata.org/pdeps/0004-consistent-to-datetime-parsing.html. You can safely remove this argument.\n",
      "  df_users['reg_date'] = pd.to_datetime(df_users['reg_date'], infer_datetime_format=True)\n",
      "C:\\Users\\10147115\\AppData\\Local\\Temp\\ipykernel_7408\\3118405040.py:3: UserWarning: The argument 'infer_datetime_format' is deprecated and will be removed in a future version. A strict version of it is now the default, see https://pandas.pydata.org/pdeps/0004-consistent-to-datetime-parsing.html. You can safely remove this argument.\n",
      "  df_users['churn_date'] = pd.to_datetime(df_users['churn_date'], infer_datetime_format=True)\n"
     ]
    },
    {
     "data": {
      "text/html": [
       "<div>\n",
       "<style scoped>\n",
       "    .dataframe tbody tr th:only-of-type {\n",
       "        vertical-align: middle;\n",
       "    }\n",
       "\n",
       "    .dataframe tbody tr th {\n",
       "        vertical-align: top;\n",
       "    }\n",
       "\n",
       "    .dataframe thead th {\n",
       "        text-align: right;\n",
       "    }\n",
       "</style>\n",
       "<table border=\"1\" class=\"dataframe\">\n",
       "  <thead>\n",
       "    <tr style=\"text-align: right;\">\n",
       "      <th></th>\n",
       "      <th>user_id</th>\n",
       "      <th>first_name</th>\n",
       "      <th>last_name</th>\n",
       "      <th>user_age</th>\n",
       "      <th>user_city</th>\n",
       "      <th>reg_date</th>\n",
       "      <th>plan</th>\n",
       "      <th>churn_date</th>\n",
       "    </tr>\n",
       "  </thead>\n",
       "  <tbody>\n",
       "    <tr>\n",
       "      <th>0</th>\n",
       "      <td>1000</td>\n",
       "      <td>Anamaria</td>\n",
       "      <td>Bauer</td>\n",
       "      <td>45</td>\n",
       "      <td>Atlanta-Sandy Springs-Roswell, GA MSA</td>\n",
       "      <td>2018-12-24</td>\n",
       "      <td>ultimate</td>\n",
       "      <td>Unknown</td>\n",
       "    </tr>\n",
       "    <tr>\n",
       "      <th>1</th>\n",
       "      <td>1001</td>\n",
       "      <td>Mickey</td>\n",
       "      <td>Wilkerson</td>\n",
       "      <td>28</td>\n",
       "      <td>Seattle-Tacoma-Bellevue, WA MSA</td>\n",
       "      <td>2018-08-13</td>\n",
       "      <td>surf</td>\n",
       "      <td>Unknown</td>\n",
       "    </tr>\n",
       "    <tr>\n",
       "      <th>2</th>\n",
       "      <td>1002</td>\n",
       "      <td>Carlee</td>\n",
       "      <td>Hoffman</td>\n",
       "      <td>36</td>\n",
       "      <td>Las Vegas-Henderson-Paradise, NV MSA</td>\n",
       "      <td>2018-10-21</td>\n",
       "      <td>surf</td>\n",
       "      <td>Unknown</td>\n",
       "    </tr>\n",
       "    <tr>\n",
       "      <th>3</th>\n",
       "      <td>1003</td>\n",
       "      <td>Reynaldo</td>\n",
       "      <td>Jenkins</td>\n",
       "      <td>52</td>\n",
       "      <td>Tulsa, OK MSA</td>\n",
       "      <td>2018-01-28</td>\n",
       "      <td>surf</td>\n",
       "      <td>Unknown</td>\n",
       "    </tr>\n",
       "    <tr>\n",
       "      <th>4</th>\n",
       "      <td>1004</td>\n",
       "      <td>Leonila</td>\n",
       "      <td>Thompson</td>\n",
       "      <td>40</td>\n",
       "      <td>Seattle-Tacoma-Bellevue, WA MSA</td>\n",
       "      <td>2018-05-23</td>\n",
       "      <td>surf</td>\n",
       "      <td>Unknown</td>\n",
       "    </tr>\n",
       "    <tr>\n",
       "      <th>...</th>\n",
       "      <td>...</td>\n",
       "      <td>...</td>\n",
       "      <td>...</td>\n",
       "      <td>...</td>\n",
       "      <td>...</td>\n",
       "      <td>...</td>\n",
       "      <td>...</td>\n",
       "      <td>...</td>\n",
       "    </tr>\n",
       "    <tr>\n",
       "      <th>495</th>\n",
       "      <td>1495</td>\n",
       "      <td>Fidel</td>\n",
       "      <td>Sharpe</td>\n",
       "      <td>67</td>\n",
       "      <td>New York-Newark-Jersey City, NY-NJ-PA MSA</td>\n",
       "      <td>2018-09-04</td>\n",
       "      <td>surf</td>\n",
       "      <td>Unknown</td>\n",
       "    </tr>\n",
       "    <tr>\n",
       "      <th>496</th>\n",
       "      <td>1496</td>\n",
       "      <td>Ariel</td>\n",
       "      <td>Shepherd</td>\n",
       "      <td>49</td>\n",
       "      <td>New Orleans-Metairie, LA MSA</td>\n",
       "      <td>2018-02-20</td>\n",
       "      <td>surf</td>\n",
       "      <td>Unknown</td>\n",
       "    </tr>\n",
       "    <tr>\n",
       "      <th>497</th>\n",
       "      <td>1497</td>\n",
       "      <td>Donte</td>\n",
       "      <td>Barrera</td>\n",
       "      <td>49</td>\n",
       "      <td>Los Angeles-Long Beach-Anaheim, CA MSA</td>\n",
       "      <td>2018-12-10</td>\n",
       "      <td>ultimate</td>\n",
       "      <td>Unknown</td>\n",
       "    </tr>\n",
       "    <tr>\n",
       "      <th>498</th>\n",
       "      <td>1498</td>\n",
       "      <td>Scot</td>\n",
       "      <td>Williamson</td>\n",
       "      <td>51</td>\n",
       "      <td>New York-Newark-Jersey City, NY-NJ-PA MSA</td>\n",
       "      <td>2018-02-04</td>\n",
       "      <td>surf</td>\n",
       "      <td>Unknown</td>\n",
       "    </tr>\n",
       "    <tr>\n",
       "      <th>499</th>\n",
       "      <td>1499</td>\n",
       "      <td>Shena</td>\n",
       "      <td>Dickson</td>\n",
       "      <td>37</td>\n",
       "      <td>Orlando-Kissimmee-Sanford, FL MSA</td>\n",
       "      <td>2018-05-06</td>\n",
       "      <td>surf</td>\n",
       "      <td>Unknown</td>\n",
       "    </tr>\n",
       "  </tbody>\n",
       "</table>\n",
       "<p>500 rows × 8 columns</p>\n",
       "</div>"
      ],
      "text/plain": [
       "     user_id first_name   last_name  user_age  \\\n",
       "0       1000   Anamaria       Bauer        45   \n",
       "1       1001     Mickey   Wilkerson        28   \n",
       "2       1002     Carlee     Hoffman        36   \n",
       "3       1003   Reynaldo     Jenkins        52   \n",
       "4       1004    Leonila    Thompson        40   \n",
       "..       ...        ...         ...       ...   \n",
       "495     1495      Fidel      Sharpe        67   \n",
       "496     1496      Ariel    Shepherd        49   \n",
       "497     1497      Donte     Barrera        49   \n",
       "498     1498       Scot  Williamson        51   \n",
       "499     1499      Shena     Dickson        37   \n",
       "\n",
       "                                     user_city   reg_date      plan churn_date  \n",
       "0        Atlanta-Sandy Springs-Roswell, GA MSA 2018-12-24  ultimate    Unknown  \n",
       "1              Seattle-Tacoma-Bellevue, WA MSA 2018-08-13      surf    Unknown  \n",
       "2         Las Vegas-Henderson-Paradise, NV MSA 2018-10-21      surf    Unknown  \n",
       "3                                Tulsa, OK MSA 2018-01-28      surf    Unknown  \n",
       "4              Seattle-Tacoma-Bellevue, WA MSA 2018-05-23      surf    Unknown  \n",
       "..                                         ...        ...       ...        ...  \n",
       "495  New York-Newark-Jersey City, NY-NJ-PA MSA 2018-09-04      surf    Unknown  \n",
       "496               New Orleans-Metairie, LA MSA 2018-02-20      surf    Unknown  \n",
       "497     Los Angeles-Long Beach-Anaheim, CA MSA 2018-12-10  ultimate    Unknown  \n",
       "498  New York-Newark-Jersey City, NY-NJ-PA MSA 2018-02-04      surf    Unknown  \n",
       "499          Orlando-Kissimmee-Sanford, FL MSA 2018-05-06      surf    Unknown  \n",
       "\n",
       "[500 rows x 8 columns]"
      ]
     },
     "execution_count": 29,
     "metadata": {},
     "output_type": "execute_result"
    }
   ],
   "source": [
    "# cambiamos el formato a fecha en las columnas 'reg_date' y 'churn_date'\n",
    "df_users['reg_date'] = pd.to_datetime(df_users['reg_date'], infer_datetime_format=True)\n",
    "df_users['churn_date'] = pd.to_datetime(df_users['churn_date'], infer_datetime_format=True)\n",
    "\n",
    "df_users['churn_date'] = df_users['churn_date'].fillna('Unknown')   # Rellenamos los valores ausentes\n",
    "df_users.columns = ['user_id', 'first_name', 'last_name', 'user_age', 'user_city', 'reg_date', 'plan', 'churn_date']   # renombramos las columnas más descriptivas\n",
    "\n",
    "df_users.info()     # verificamos la información general y los Dtypes de las columnas\n",
    "df_users"
   ]
  },
  {
   "cell_type": "markdown",
   "metadata": {
    "id": "ycwuARJp0q07"
   },
   "source": [
    "### 1.7.2 Enriquecer los datos <a id='users_processing'></a>"
   ]
  },
  {
   "cell_type": "markdown",
   "metadata": {
    "id": "96NIh4CJ0q08"
   },
   "source": [
    "Al tener una columna con la Fecha de Registro, podemos dividirla para extraer el mes y el año y agregarlos en nuevas columnas cada valor.\n",
    "Esta información separada, nos podría ser útil para algun análisis más adelante."
   ]
  },
  {
   "cell_type": "code",
   "execution_count": 30,
   "metadata": {
    "id": "iq0AaBS90q08"
   },
   "outputs": [
    {
     "data": {
      "text/html": [
       "<div>\n",
       "<style scoped>\n",
       "    .dataframe tbody tr th:only-of-type {\n",
       "        vertical-align: middle;\n",
       "    }\n",
       "\n",
       "    .dataframe tbody tr th {\n",
       "        vertical-align: top;\n",
       "    }\n",
       "\n",
       "    .dataframe thead th {\n",
       "        text-align: right;\n",
       "    }\n",
       "</style>\n",
       "<table border=\"1\" class=\"dataframe\">\n",
       "  <thead>\n",
       "    <tr style=\"text-align: right;\">\n",
       "      <th></th>\n",
       "      <th>user_id</th>\n",
       "      <th>first_name</th>\n",
       "      <th>last_name</th>\n",
       "      <th>user_age</th>\n",
       "      <th>user_city</th>\n",
       "      <th>reg_date</th>\n",
       "      <th>reg_month</th>\n",
       "      <th>plan</th>\n",
       "      <th>churn_date</th>\n",
       "    </tr>\n",
       "  </thead>\n",
       "  <tbody>\n",
       "    <tr>\n",
       "      <th>0</th>\n",
       "      <td>1000</td>\n",
       "      <td>Anamaria</td>\n",
       "      <td>Bauer</td>\n",
       "      <td>45</td>\n",
       "      <td>Atlanta-Sandy Springs-Roswell, GA MSA</td>\n",
       "      <td>2018-12-24</td>\n",
       "      <td>12</td>\n",
       "      <td>ultimate</td>\n",
       "      <td>Unknown</td>\n",
       "    </tr>\n",
       "    <tr>\n",
       "      <th>1</th>\n",
       "      <td>1001</td>\n",
       "      <td>Mickey</td>\n",
       "      <td>Wilkerson</td>\n",
       "      <td>28</td>\n",
       "      <td>Seattle-Tacoma-Bellevue, WA MSA</td>\n",
       "      <td>2018-08-13</td>\n",
       "      <td>8</td>\n",
       "      <td>surf</td>\n",
       "      <td>Unknown</td>\n",
       "    </tr>\n",
       "    <tr>\n",
       "      <th>2</th>\n",
       "      <td>1002</td>\n",
       "      <td>Carlee</td>\n",
       "      <td>Hoffman</td>\n",
       "      <td>36</td>\n",
       "      <td>Las Vegas-Henderson-Paradise, NV MSA</td>\n",
       "      <td>2018-10-21</td>\n",
       "      <td>10</td>\n",
       "      <td>surf</td>\n",
       "      <td>Unknown</td>\n",
       "    </tr>\n",
       "    <tr>\n",
       "      <th>3</th>\n",
       "      <td>1003</td>\n",
       "      <td>Reynaldo</td>\n",
       "      <td>Jenkins</td>\n",
       "      <td>52</td>\n",
       "      <td>Tulsa, OK MSA</td>\n",
       "      <td>2018-01-28</td>\n",
       "      <td>1</td>\n",
       "      <td>surf</td>\n",
       "      <td>Unknown</td>\n",
       "    </tr>\n",
       "    <tr>\n",
       "      <th>4</th>\n",
       "      <td>1004</td>\n",
       "      <td>Leonila</td>\n",
       "      <td>Thompson</td>\n",
       "      <td>40</td>\n",
       "      <td>Seattle-Tacoma-Bellevue, WA MSA</td>\n",
       "      <td>2018-05-23</td>\n",
       "      <td>5</td>\n",
       "      <td>surf</td>\n",
       "      <td>Unknown</td>\n",
       "    </tr>\n",
       "    <tr>\n",
       "      <th>...</th>\n",
       "      <td>...</td>\n",
       "      <td>...</td>\n",
       "      <td>...</td>\n",
       "      <td>...</td>\n",
       "      <td>...</td>\n",
       "      <td>...</td>\n",
       "      <td>...</td>\n",
       "      <td>...</td>\n",
       "      <td>...</td>\n",
       "    </tr>\n",
       "    <tr>\n",
       "      <th>495</th>\n",
       "      <td>1495</td>\n",
       "      <td>Fidel</td>\n",
       "      <td>Sharpe</td>\n",
       "      <td>67</td>\n",
       "      <td>New York-Newark-Jersey City, NY-NJ-PA MSA</td>\n",
       "      <td>2018-09-04</td>\n",
       "      <td>9</td>\n",
       "      <td>surf</td>\n",
       "      <td>Unknown</td>\n",
       "    </tr>\n",
       "    <tr>\n",
       "      <th>496</th>\n",
       "      <td>1496</td>\n",
       "      <td>Ariel</td>\n",
       "      <td>Shepherd</td>\n",
       "      <td>49</td>\n",
       "      <td>New Orleans-Metairie, LA MSA</td>\n",
       "      <td>2018-02-20</td>\n",
       "      <td>2</td>\n",
       "      <td>surf</td>\n",
       "      <td>Unknown</td>\n",
       "    </tr>\n",
       "    <tr>\n",
       "      <th>497</th>\n",
       "      <td>1497</td>\n",
       "      <td>Donte</td>\n",
       "      <td>Barrera</td>\n",
       "      <td>49</td>\n",
       "      <td>Los Angeles-Long Beach-Anaheim, CA MSA</td>\n",
       "      <td>2018-12-10</td>\n",
       "      <td>12</td>\n",
       "      <td>ultimate</td>\n",
       "      <td>Unknown</td>\n",
       "    </tr>\n",
       "    <tr>\n",
       "      <th>498</th>\n",
       "      <td>1498</td>\n",
       "      <td>Scot</td>\n",
       "      <td>Williamson</td>\n",
       "      <td>51</td>\n",
       "      <td>New York-Newark-Jersey City, NY-NJ-PA MSA</td>\n",
       "      <td>2018-02-04</td>\n",
       "      <td>2</td>\n",
       "      <td>surf</td>\n",
       "      <td>Unknown</td>\n",
       "    </tr>\n",
       "    <tr>\n",
       "      <th>499</th>\n",
       "      <td>1499</td>\n",
       "      <td>Shena</td>\n",
       "      <td>Dickson</td>\n",
       "      <td>37</td>\n",
       "      <td>Orlando-Kissimmee-Sanford, FL MSA</td>\n",
       "      <td>2018-05-06</td>\n",
       "      <td>5</td>\n",
       "      <td>surf</td>\n",
       "      <td>Unknown</td>\n",
       "    </tr>\n",
       "  </tbody>\n",
       "</table>\n",
       "<p>500 rows × 9 columns</p>\n",
       "</div>"
      ],
      "text/plain": [
       "     user_id first_name   last_name  user_age  \\\n",
       "0       1000   Anamaria       Bauer        45   \n",
       "1       1001     Mickey   Wilkerson        28   \n",
       "2       1002     Carlee     Hoffman        36   \n",
       "3       1003   Reynaldo     Jenkins        52   \n",
       "4       1004    Leonila    Thompson        40   \n",
       "..       ...        ...         ...       ...   \n",
       "495     1495      Fidel      Sharpe        67   \n",
       "496     1496      Ariel    Shepherd        49   \n",
       "497     1497      Donte     Barrera        49   \n",
       "498     1498       Scot  Williamson        51   \n",
       "499     1499      Shena     Dickson        37   \n",
       "\n",
       "                                     user_city   reg_date  reg_month  \\\n",
       "0        Atlanta-Sandy Springs-Roswell, GA MSA 2018-12-24         12   \n",
       "1              Seattle-Tacoma-Bellevue, WA MSA 2018-08-13          8   \n",
       "2         Las Vegas-Henderson-Paradise, NV MSA 2018-10-21         10   \n",
       "3                                Tulsa, OK MSA 2018-01-28          1   \n",
       "4              Seattle-Tacoma-Bellevue, WA MSA 2018-05-23          5   \n",
       "..                                         ...        ...        ...   \n",
       "495  New York-Newark-Jersey City, NY-NJ-PA MSA 2018-09-04          9   \n",
       "496               New Orleans-Metairie, LA MSA 2018-02-20          2   \n",
       "497     Los Angeles-Long Beach-Anaheim, CA MSA 2018-12-10         12   \n",
       "498  New York-Newark-Jersey City, NY-NJ-PA MSA 2018-02-04          2   \n",
       "499          Orlando-Kissimmee-Sanford, FL MSA 2018-05-06          5   \n",
       "\n",
       "         plan churn_date  \n",
       "0    ultimate    Unknown  \n",
       "1        surf    Unknown  \n",
       "2        surf    Unknown  \n",
       "3        surf    Unknown  \n",
       "4        surf    Unknown  \n",
       "..        ...        ...  \n",
       "495      surf    Unknown  \n",
       "496      surf    Unknown  \n",
       "497  ultimate    Unknown  \n",
       "498      surf    Unknown  \n",
       "499      surf    Unknown  \n",
       "\n",
       "[500 rows x 9 columns]"
      ]
     },
     "execution_count": 30,
     "metadata": {},
     "output_type": "execute_result"
    }
   ],
   "source": [
    "# Separaremos los meses de la fecha de registro\n",
    "reg_month = df_users['reg_date'].dt.month\n",
    "df_users.insert(6, 'reg_month', reg_month)   # agregamos una columna con el mes de registro\n",
    "\n",
    "df_users    # imrpimimos el nuevo datafram"
   ]
  },
  {
   "cell_type": "markdown",
   "metadata": {},
   "source": [
    "[Volver a Contenido](#back)"
   ]
  },
  {
   "cell_type": "markdown",
   "metadata": {
    "id": "o7MeKCid0q08"
   },
   "source": [
    "## 1.8 Llamadas <a id='calls'></a>"
   ]
  },
  {
   "cell_type": "code",
   "execution_count": 31,
   "metadata": {
    "id": "6dDlnoDm0q08"
   },
   "outputs": [
    {
     "name": "stdout",
     "output_type": "stream",
     "text": [
      "<class 'pandas.core.frame.DataFrame'>\n",
      "RangeIndex: 137735 entries, 0 to 137734\n",
      "Data columns (total 4 columns):\n",
      " #   Column     Non-Null Count   Dtype  \n",
      "---  ------     --------------   -----  \n",
      " 0   id         137735 non-null  object \n",
      " 1   user_id    137735 non-null  int64  \n",
      " 2   call_date  137735 non-null  object \n",
      " 3   duration   137735 non-null  float64\n",
      "dtypes: float64(1), int64(1), object(2)\n",
      "memory usage: 4.2+ MB\n"
     ]
    }
   ],
   "source": [
    "# Imprime la información general/resumida sobre el DataFrame de las llamadas\n",
    "df_calls.info()"
   ]
  },
  {
   "cell_type": "code",
   "execution_count": 32,
   "metadata": {
    "id": "kuh1vlNB0q09"
   },
   "outputs": [
    {
     "data": {
      "text/html": [
       "<div>\n",
       "<style scoped>\n",
       "    .dataframe tbody tr th:only-of-type {\n",
       "        vertical-align: middle;\n",
       "    }\n",
       "\n",
       "    .dataframe tbody tr th {\n",
       "        vertical-align: top;\n",
       "    }\n",
       "\n",
       "    .dataframe thead th {\n",
       "        text-align: right;\n",
       "    }\n",
       "</style>\n",
       "<table border=\"1\" class=\"dataframe\">\n",
       "  <thead>\n",
       "    <tr style=\"text-align: right;\">\n",
       "      <th></th>\n",
       "      <th>id</th>\n",
       "      <th>user_id</th>\n",
       "      <th>call_date</th>\n",
       "      <th>duration</th>\n",
       "    </tr>\n",
       "  </thead>\n",
       "  <tbody>\n",
       "    <tr>\n",
       "      <th>50568</th>\n",
       "      <td>1182_157</td>\n",
       "      <td>1182</td>\n",
       "      <td>2018-09-06</td>\n",
       "      <td>5.74</td>\n",
       "    </tr>\n",
       "    <tr>\n",
       "      <th>56041</th>\n",
       "      <td>1201_139</td>\n",
       "      <td>1201</td>\n",
       "      <td>2018-07-29</td>\n",
       "      <td>6.15</td>\n",
       "    </tr>\n",
       "    <tr>\n",
       "      <th>22256</th>\n",
       "      <td>1082_225</td>\n",
       "      <td>1082</td>\n",
       "      <td>2018-07-15</td>\n",
       "      <td>10.84</td>\n",
       "    </tr>\n",
       "    <tr>\n",
       "      <th>9899</th>\n",
       "      <td>1044_173</td>\n",
       "      <td>1044</td>\n",
       "      <td>2018-12-22</td>\n",
       "      <td>6.17</td>\n",
       "    </tr>\n",
       "    <tr>\n",
       "      <th>1003</th>\n",
       "      <td>1007_24</td>\n",
       "      <td>1007</td>\n",
       "      <td>2018-10-29</td>\n",
       "      <td>4.66</td>\n",
       "    </tr>\n",
       "  </tbody>\n",
       "</table>\n",
       "</div>"
      ],
      "text/plain": [
       "             id  user_id   call_date  duration\n",
       "50568  1182_157     1182  2018-09-06      5.74\n",
       "56041  1201_139     1201  2018-07-29      6.15\n",
       "22256  1082_225     1082  2018-07-15     10.84\n",
       "9899   1044_173     1044  2018-12-22      6.17\n",
       "1003    1007_24     1007  2018-10-29      4.66"
      ]
     },
     "execution_count": 32,
     "metadata": {},
     "output_type": "execute_result"
    }
   ],
   "source": [
    "# Imprime una muestra de datos para las llamadas\n",
    "df_calls.sample(5)"
   ]
  },
  {
   "cell_type": "markdown",
   "metadata": {
    "id": "DOAxYJSx0q09"
   },
   "source": [
    "En el dataframe de llamadas, tenemos únicamente 4 columnas: 'id', 'user_id', 'call_date' y 'duration'.\n",
    "\n",
    "Revisando los Dtypes podemos notar que la información de la columna 'call_date' está como un 'object' lo cual no es correcto, tendremos que corregir este formato. al igual que la duración de las llamadas está en minutos.\n",
    "\n",
    "Se tiene un registro de 137,735 llamadas, sin datos ausentes o nulos."
   ]
  },
  {
   "cell_type": "markdown",
   "metadata": {
    "id": "S7hzxmbX0q0-"
   },
   "source": [
    "### 1.8.1 Corregir los datos <a id='calls_wrangling'></a>"
   ]
  },
  {
   "cell_type": "markdown",
   "metadata": {
    "id": "YxWyAjD20q0-"
   },
   "source": [
    "Vamos a cambiar el Dtype de la columna 'call_date' para convertirlo en formato de fecha.\n",
    "\n",
    "También actualizaremos el nombre de las columnas.\n",
    "\n",
    "Vamos a redondear la duración de las llamadas para efectos prácticos."
   ]
  },
  {
   "cell_type": "code",
   "execution_count": 33,
   "metadata": {
    "id": "S2r8xA4f0q0-"
   },
   "outputs": [
    {
     "name": "stdout",
     "output_type": "stream",
     "text": [
      "<class 'pandas.core.frame.DataFrame'>\n",
      "RangeIndex: 137735 entries, 0 to 137734\n",
      "Data columns (total 4 columns):\n",
      " #   Column        Non-Null Count   Dtype         \n",
      "---  ------        --------------   -----         \n",
      " 0   call_id       137735 non-null  object        \n",
      " 1   user_id       137735 non-null  int64         \n",
      " 2   call_date     137735 non-null  datetime64[ns]\n",
      " 3   duration_min  137735 non-null  float64       \n",
      "dtypes: datetime64[ns](1), float64(1), int64(1), object(1)\n",
      "memory usage: 4.2+ MB\n"
     ]
    },
    {
     "name": "stderr",
     "output_type": "stream",
     "text": [
      "C:\\Users\\10147115\\AppData\\Local\\Temp\\ipykernel_7408\\3572108234.py:1: UserWarning: The argument 'infer_datetime_format' is deprecated and will be removed in a future version. A strict version of it is now the default, see https://pandas.pydata.org/pdeps/0004-consistent-to-datetime-parsing.html. You can safely remove this argument.\n",
      "  df_calls['call_date'] = pd.to_datetime(df_calls['call_date'], infer_datetime_format=True)       # cambiamos el formato a fecha en la columna de 'call_date'\n"
     ]
    },
    {
     "data": {
      "text/html": [
       "<div>\n",
       "<style scoped>\n",
       "    .dataframe tbody tr th:only-of-type {\n",
       "        vertical-align: middle;\n",
       "    }\n",
       "\n",
       "    .dataframe tbody tr th {\n",
       "        vertical-align: top;\n",
       "    }\n",
       "\n",
       "    .dataframe thead th {\n",
       "        text-align: right;\n",
       "    }\n",
       "</style>\n",
       "<table border=\"1\" class=\"dataframe\">\n",
       "  <thead>\n",
       "    <tr style=\"text-align: right;\">\n",
       "      <th></th>\n",
       "      <th>call_id</th>\n",
       "      <th>user_id</th>\n",
       "      <th>call_date</th>\n",
       "      <th>duration_min</th>\n",
       "    </tr>\n",
       "  </thead>\n",
       "  <tbody>\n",
       "    <tr>\n",
       "      <th>0</th>\n",
       "      <td>1000_93</td>\n",
       "      <td>1000</td>\n",
       "      <td>2018-12-27</td>\n",
       "      <td>8.52</td>\n",
       "    </tr>\n",
       "    <tr>\n",
       "      <th>1</th>\n",
       "      <td>1000_145</td>\n",
       "      <td>1000</td>\n",
       "      <td>2018-12-27</td>\n",
       "      <td>13.66</td>\n",
       "    </tr>\n",
       "    <tr>\n",
       "      <th>2</th>\n",
       "      <td>1000_247</td>\n",
       "      <td>1000</td>\n",
       "      <td>2018-12-27</td>\n",
       "      <td>14.48</td>\n",
       "    </tr>\n",
       "    <tr>\n",
       "      <th>3</th>\n",
       "      <td>1000_309</td>\n",
       "      <td>1000</td>\n",
       "      <td>2018-12-28</td>\n",
       "      <td>5.76</td>\n",
       "    </tr>\n",
       "    <tr>\n",
       "      <th>4</th>\n",
       "      <td>1000_380</td>\n",
       "      <td>1000</td>\n",
       "      <td>2018-12-30</td>\n",
       "      <td>4.22</td>\n",
       "    </tr>\n",
       "    <tr>\n",
       "      <th>...</th>\n",
       "      <td>...</td>\n",
       "      <td>...</td>\n",
       "      <td>...</td>\n",
       "      <td>...</td>\n",
       "    </tr>\n",
       "    <tr>\n",
       "      <th>137730</th>\n",
       "      <td>1499_199</td>\n",
       "      <td>1499</td>\n",
       "      <td>2018-11-21</td>\n",
       "      <td>8.72</td>\n",
       "    </tr>\n",
       "    <tr>\n",
       "      <th>137731</th>\n",
       "      <td>1499_200</td>\n",
       "      <td>1499</td>\n",
       "      <td>2018-10-20</td>\n",
       "      <td>10.89</td>\n",
       "    </tr>\n",
       "    <tr>\n",
       "      <th>137732</th>\n",
       "      <td>1499_201</td>\n",
       "      <td>1499</td>\n",
       "      <td>2018-09-21</td>\n",
       "      <td>8.12</td>\n",
       "    </tr>\n",
       "    <tr>\n",
       "      <th>137733</th>\n",
       "      <td>1499_202</td>\n",
       "      <td>1499</td>\n",
       "      <td>2018-10-10</td>\n",
       "      <td>0.37</td>\n",
       "    </tr>\n",
       "    <tr>\n",
       "      <th>137734</th>\n",
       "      <td>1499_203</td>\n",
       "      <td>1499</td>\n",
       "      <td>2018-12-29</td>\n",
       "      <td>13.86</td>\n",
       "    </tr>\n",
       "  </tbody>\n",
       "</table>\n",
       "<p>137735 rows × 4 columns</p>\n",
       "</div>"
      ],
      "text/plain": [
       "         call_id  user_id  call_date  duration_min\n",
       "0        1000_93     1000 2018-12-27          8.52\n",
       "1       1000_145     1000 2018-12-27         13.66\n",
       "2       1000_247     1000 2018-12-27         14.48\n",
       "3       1000_309     1000 2018-12-28          5.76\n",
       "4       1000_380     1000 2018-12-30          4.22\n",
       "...          ...      ...        ...           ...\n",
       "137730  1499_199     1499 2018-11-21          8.72\n",
       "137731  1499_200     1499 2018-10-20         10.89\n",
       "137732  1499_201     1499 2018-09-21          8.12\n",
       "137733  1499_202     1499 2018-10-10          0.37\n",
       "137734  1499_203     1499 2018-12-29         13.86\n",
       "\n",
       "[137735 rows x 4 columns]"
      ]
     },
     "execution_count": 33,
     "metadata": {},
     "output_type": "execute_result"
    }
   ],
   "source": [
    "df_calls['call_date'] = pd.to_datetime(df_calls['call_date'], infer_datetime_format=True)       # cambiamos el formato a fecha en la columna de 'call_date'\n",
    "df_calls.columns = ['call_id', 'user_id', 'call_date', 'duration_min']      # Renombramos las columnas para mejor entendimiento\n",
    "df_calls.info()    # revisamos la información general nuevamente\n",
    "df_calls"
   ]
  },
  {
   "cell_type": "code",
   "execution_count": null,
   "metadata": {},
   "outputs": [],
   "source": [
    "# Redondeamos hacia arriba la duración de las llamadas\n",
    "df_calls['duration_min'] = np.array(df_calls['duration_min'])\n",
    "df_calls['duration_min'] = np.ceil(df_calls['duration_min'])\n",
    "df_calls"
   ]
  },
  {
   "cell_type": "markdown",
   "metadata": {
    "id": "KrMgTrlG0q0_"
   },
   "source": [
    "### 1.8.2 Enriquecer los datos <a id='calls_processing'></a>"
   ]
  },
  {
   "cell_type": "markdown",
   "metadata": {
    "id": "a9MbmEvE0q0_"
   },
   "source": [
    "En este dataframe de llamadas podemos hacer varias cosas para enriquecer la información.\n",
    "\n",
    "Primeramente vamos a separar el mes de la fecha de cada llamada.\n",
    "\n",
    "Seguido de separar la duración en minutos y segundos."
   ]
  },
  {
   "cell_type": "code",
   "execution_count": null,
   "metadata": {
    "id": "iZ1avpA_0q0_"
   },
   "outputs": [],
   "source": [
    "# Separaremos los meses de la fecha de la llamada\n",
    "call_month = df_calls['call_date'].dt.month\n",
    "df_calls.insert(3, 'month', call_month)   # agregamos una columna con el mes de registro\n",
    "df_calls.insert(3, 'month', call_month)   # agregamos una columna con el mes de registro\n",
    "\n",
    "# Vamos a convertir los minutos en segundos\n",
    "# df_calls['duration_sec'] = df_calls['duration'] * 60\n",
    "# df_calls.columns = ['call_id', 'user_id', 'call_date', 'call_month', 'duration_min', 'duration_sec']\n",
    "\n",
    "df_calls    # imrpimimos el nuevo datafram"
   ]
  },
  {
   "cell_type": "code",
   "execution_count": null,
   "metadata": {},
   "outputs": [],
   "source": [
    "# Buscamos llamadas que tengan de cero (0) minutos de duración\n",
    "df_calls[df_calls['duration_min'] == 0]"
   ]
  },
  {
   "cell_type": "code",
   "execution_count": null,
   "metadata": {},
   "outputs": [],
   "source": [
    "# Filtramos un nuevo Dataframe que contenga llamadas con duración mayor a cero (0)\n",
    "df_calls = df_calls[df_calls['duration_min'] > 0]\n",
    "df_calls.info()\n",
    "df_calls"
   ]
  },
  {
   "cell_type": "markdown",
   "metadata": {},
   "source": [
    "<div class=\"alert alert-block alert-warning\">\n",
    "<b>Comentario Revisor</b> <a class=\"tocSkip\"></a>\n",
    "\n",
    "Qué podríamos decir hasta el momento de las llamadas que tienen una duración de 0?\n",
    "</div>"
   ]
  },
  {
   "cell_type": "markdown",
   "metadata": {},
   "source": [
    "<div class=\"alert alert-block alert-info\">\n",
    "<b>Respuesta del , Iteración 1</b> <a class=“tocSkip”></a>\n",
    "\n",
    "Tionatiuh, he redondeado hacia arriba la duración de las llamadas con el método ceil de math, para no tener decimales.\n",
    "\n",
    "No creo que fuese necesaria agregar una columna con la duración de las llamadas en segundos, por lo que la comente con #.\n",
    "\n",
    "Finalmente, he filtrado el dataframe de llamadas dejando sólamente registros con duración mayores que cero.\n",
    "</div>"
   ]
  },
  {
   "cell_type": "markdown",
   "metadata": {},
   "source": [
    "[Volver a Contenido](#back)"
   ]
  },
  {
   "cell_type": "markdown",
   "metadata": {
    "id": "mOUZSi180q0_"
   },
   "source": [
    "## 1.9 Mensajes <a id='sms'></a>"
   ]
  },
  {
   "cell_type": "code",
   "execution_count": null,
   "metadata": {
    "id": "R-bYJpdV0q1A"
   },
   "outputs": [],
   "source": [
    "# Imprime la información general/resumida sobre el DataFrame de los mensajes\n",
    "df_sms.info()"
   ]
  },
  {
   "cell_type": "code",
   "execution_count": null,
   "metadata": {
    "id": "mCEl2iGE0q1A"
   },
   "outputs": [],
   "source": [
    "# Imprime una muestra de datos para los mensajes\n",
    "df_sms.sample(5)"
   ]
  },
  {
   "cell_type": "markdown",
   "metadata": {
    "id": "04xDj7KH0q1A"
   },
   "source": [
    "En el dataframde de mensajes tipo \"sms\" tenemos 3 columnas que se llaman 'id', 'user_id' y 'message_date'.\n",
    "\n",
    "Las columnas tienen Dtype object, int64 y objet, lo cual no es lo correcto al tener un dato de fecha como objeto, este debe ser corregido.\n",
    "\n",
    "Se tiene un total de 76, 051 mensajes registrados, sin valores nulos."
   ]
  },
  {
   "cell_type": "markdown",
   "metadata": {
    "id": "Sprfak900q1B"
   },
   "source": [
    "### 1.9.1 Corregir los datos <a id='sms_wrangling'></a>"
   ]
  },
  {
   "cell_type": "markdown",
   "metadata": {
    "id": "eGw7d9j10q1B"
   },
   "source": [
    "Vamos a cambiar el Dtype de la columna 'message_date' para convertirlo en formato de fecha.\n",
    "\n",
    "Actualisaremos el nombre de las columnas para mejor identificación del id."
   ]
  },
  {
   "cell_type": "code",
   "execution_count": null,
   "metadata": {
    "id": "vsllvkoa0q1B"
   },
   "outputs": [],
   "source": [
    "df_sms['message_date'] = pd.to_datetime(df_sms['message_date'], infer_datetime_format=True)       # cambiamos el formato a fecha en la columna de 'message_date'\n",
    "df_sms.columns = ['sms_id', 'user_id', 'message_date']\n",
    "df_sms. info()    # revisamos la información general nuevamente"
   ]
  },
  {
   "cell_type": "markdown",
   "metadata": {
    "id": "HvLid7iD0q1B"
   },
   "source": [
    "### 1.9.2 Enriquecer los datos <a id='sms_processing'></a>"
   ]
  },
  {
   "cell_type": "markdown",
   "metadata": {
    "id": "8nhPFKIe0q1C"
   },
   "source": [
    "En este dataframe de mensajes podemos separar el mes de la fecha de cada mensaje."
   ]
  },
  {
   "cell_type": "code",
   "execution_count": null,
   "metadata": {
    "id": "zYEXZac10q1C"
   },
   "outputs": [],
   "source": [
    "df_sms['month'] = df_sms['message_date'].dt.month   # agregamos una columna con el mes de registro\n",
    "df_sms['month'] = df_sms['message_date'].dt.month   # agregamos una columna con el mes de registro\n",
    "df_sms  # revisamos el nuevo dataframe"
   ]
  },
  {
   "cell_type": "markdown",
   "metadata": {},
   "source": [
    "[Volver a Contenido](#back)"
   ]
  },
  {
   "cell_type": "markdown",
   "metadata": {
    "id": "bStkaxn40q1C"
   },
   "source": [
    "## 1.10 Internet <a id='data'></a>"
   ]
  },
  {
   "cell_type": "code",
   "execution_count": null,
   "metadata": {
    "id": "e-Uz5qyn0q1C"
   },
   "outputs": [],
   "source": [
    "# Imprime la información general/resumida sobre el DataFrame de internet\n",
    "df_data.info()"
   ]
  },
  {
   "cell_type": "code",
   "execution_count": null,
   "metadata": {
    "id": "9r3x_XLw0q1C"
   },
   "outputs": [],
   "source": [
    "# Imprime una muestra de datos para el tráfico de internet\n",
    "df_data.sample(5)"
   ]
  },
  {
   "cell_type": "markdown",
   "metadata": {
    "id": "EzOG5ik30q1D"
   },
   "source": [
    "El dataframe de data sobre internet, se pueden notar 4 columnas principales llamadas 'id', 'user_id', 'session_date' y 'mb_user'.\n",
    "\n",
    "Las columnas tienen un Dtype de 'object', 'int64', 'object' y 'float64' respectivamente para cada una, al igual que en los otros dataframes, es conveniente corregir el Dtype para la informacion que contenga fechas.\n",
    "\n",
    "El total de registros de consultas en internet, es de 104,825 líneas de las cuales no hay valores ausentes."
   ]
  },
  {
   "cell_type": "markdown",
   "metadata": {
    "id": "yA0tkPFg0q1D"
   },
   "source": [
    "### 1.10.1 Corregir los datos <a id='data_wrangling'></a>"
   ]
  },
  {
   "cell_type": "markdown",
   "metadata": {
    "id": "zlZMuIEK0q1D"
   },
   "source": [
    "Vamos a cambiar el Dtype de la columna 'session_date' para convertirlo en formato de fecha.\n",
    "\n",
    "Actualisaremos el nombre de las columnas para mejor identificación del id."
   ]
  },
  {
   "cell_type": "code",
   "execution_count": null,
   "metadata": {
    "id": "zVeanzdd0q1E"
   },
   "outputs": [],
   "source": [
    "df_data['session_date'] = pd.to_datetime(df_data['session_date'], infer_datetime_format=True)       # cambiamos el formato a fecha en la columna de 'message_date'\n",
    "df_data.columns = ['data_id', 'user_id', 'session_date', 'mb_used']     # Renombramos las columnas\n",
    "df_data.info()    # revisamos la información general nuevamente\n",
    "df_data"
   ]
  },
  {
   "cell_type": "markdown",
   "metadata": {},
   "source": [
    "<div class=\"alert alert-block alert-warning\">\n",
    "<b>Comentario revisor</b> <a class=\"tocSkip\"></a>\n",
    "\n",
    "\n",
    "Te recomiendo solamente comentar que cuando agrupemos los datos vamos a tener que redondear hacia arriba lo valores de la transformación de mbegabyter a gigabyte, para este ejercicio debemos hacer el redondeo superior dado que se cobra el costo extra en cuanto se pasa de los límites.Por lo que es necesario hacer la transformación de mb a gb y después hacer el redondeo.  \n",
    "</div>"
   ]
  },
  {
   "cell_type": "markdown",
   "metadata": {},
   "source": [
    "<div class=\"alert alert-block alert-info\">\n",
    "<b>Respuesta del , Iteración 1</b> <a class=“tocSkip”></a>\n",
    "\n",
    "Tionatiuh, he agregado una columna donde se converten los megabytes a gigabytes; así como también, he redondeado hacia arriba ambos valores.\n",
    "</div>"
   ]
  },
  {
   "cell_type": "markdown",
   "metadata": {
    "id": "e8_mLF4a0q1E"
   },
   "source": [
    "### 1.10.2 Enriquecer los datos <a id='data_processing'></a>"
   ]
  },
  {
   "cell_type": "markdown",
   "metadata": {
    "id": "xhNdn2tE0q1E"
   },
   "source": [
    "1.- Vamos a separar el mes y el año de la fecha de cada consulta en internet.\n",
    "\n",
    "2.- Redondearemos hacia arriba los megabytes usados.\n",
    "\n",
    "3.- Convertiremos los megabytes a gigabytes."
   ]
  },
  {
   "cell_type": "code",
   "execution_count": null,
   "metadata": {
    "id": "ESiYPIEK0q1E"
   },
   "outputs": [],
   "source": [
    "# Separaremos los meses y los años de la fecha de la llamada\n",
    "data_month = df_data['session_date'].dt.month\n",
    "df_data.insert(3, 'month', data_month)   # agregamos una columna con el mes de la consulta\n",
    "df_data.insert(3, 'month', data_month)   # agregamos una columna con el mes de la consulta\n",
    "\n",
    "# Convertimos los megabytes a gigabytes y los agregamos en otra columna\n",
    "data_gigas = df_data['mb_used'] / 1024\n",
    "df_data.insert(5, 'gb_used', data_gigas)\n",
    "\n",
    "df_data.sample(5)      # imprimimos 5 líneas aleatorias del dataframe para ver cómo quedó"
   ]
  },
  {
   "cell_type": "code",
   "execution_count": null,
   "metadata": {},
   "outputs": [],
   "source": [
    "# Redondeamos hacia arriba los megabytes usados\n",
    "df_data['mb_used'] = np.array(df_data['mb_used'])\n",
    "df_data['mb_used'] = np.ceil(df_data['mb_used'])\n",
    "\n",
    "# Redondeamos hacia arriba los gigabytes usados\n",
    "df_data['gb_used'] = np.array(df_data['gb_used'])\n",
    "df_data['gb_used'] = np.ceil(df_data['gb_used'])\n",
    "\n",
    "df_data"
   ]
  },
  {
   "cell_type": "markdown",
   "metadata": {},
   "source": [
    "[Volver a Contenido](#back)"
   ]
  },
  {
   "cell_type": "markdown",
   "metadata": {
    "id": "3UA2cqIW0q1E"
   },
   "source": [
    "## 1.11 Estudiar las condiciones de las tarifas <a id='fees_analisys'></a>"
   ]
  },
  {
   "cell_type": "markdown",
   "metadata": {
    "id": "T86Sqltq0q1F"
   },
   "source": [
    "[Es sumamente importante entender cómo funcionan las tarifas, cómo se les cobra a los usuarios en función de su plan de suscripción. Así que te sugerimos imprimir la información de la tarifa para ver una vez más sus condiciones.]"
   ]
  },
  {
   "cell_type": "markdown",
   "metadata": {
    "id": "i409op8p0q1F"
   },
   "source": [
    "### Imprime las condiciones de la tarifa y asegúrate de que te quedan claras\n",
    "Descripción de las tarifas:\n",
    "\n",
    "Nota: Megaline redondea los segundos a minutos y los megabytes a gigabytes. Para las llamadas, cada llamada individual se redondea: incluso si la llamada duró solo un segundo, se contará como un minuto. Para el tráfico web, las sesiones web individuales no se redondean. En vez de esto, el total del mes se redondea hacia arriba. Si alguien usa 1025 megabytes este mes, se le cobrarán 2 gigabytes.\n",
    "\n",
    "A continuación, puedes ver una descripción de las tarifas:\n",
    "\n",
    "Surf\n",
    "\n",
    "1.\tPago mensual: $20 usd.\n",
    "2.\t500 minutos al mes, 50 SMS y 15 GB de datos.\n",
    "3.\tSi se exceden los límites del paquete:\n",
    "\n",
    "    o\t1 minuto: 3 centavos.\n",
    "\n",
    "    o\t1 SMS: 3 centavos.\n",
    "\n",
    "    o\t1 GB de datos: $10 usd.\n",
    "\n",
    "Ultimate\n",
    "\n",
    "1.\tPago mensual: $70 usd.\n",
    "2.\t3000 minutos al mes, 1000 SMS y 30 GB de datos.\n",
    "3.\tSi se exceden los límites del paquete:\n",
    "\n",
    "    o\t1 minuto: 1 centavo.\n",
    "\n",
    "    o\t1 SMS: 1 centavo.\n",
    "    \n",
    "    o\t1 GB de datos: $7 usd."
   ]
  },
  {
   "cell_type": "markdown",
   "metadata": {},
   "source": [
    "[Volver a Contenido](#back)"
   ]
  },
  {
   "cell_type": "markdown",
   "metadata": {
    "id": "hMR1tP5d0q1F"
   },
   "source": [
    "## 1.12 Agregar datos por usuario <a id='data_adding'></a>\n",
    "\n",
    "[Ahora que los datos están limpios, agrega los datos por usuario y por periodo para que solo haya un registro por usuario y por periodo. Esto facilitará mucho el análisis posterior.]"
   ]
  },
  {
   "cell_type": "code",
   "execution_count": null,
   "metadata": {
    "id": "A332cedB0q1G"
   },
   "outputs": [],
   "source": [
    "# Calcula el número de llamadas hechas por cada usuario al mes. Guarda el resultado.\n",
    "month_user_calls = df_calls.groupby(['user_id', 'month'])['call_id'].count()\n",
    "month_user_calls = df_calls.groupby(['user_id', 'month'])['call_id'].count()\n",
    "month_user_calls.info()\n",
    "month_user_calls"
   ]
  },
  {
   "cell_type": "markdown",
   "metadata": {},
   "source": [
    "\n",
    "<div class=\"alert alert-block alert-warning\">\n",
    "\n",
    "<b>Comentario revisor</b> <a class=\"tocSkip\"></a>\n",
    "\n",
    "Si bien es correcta la forma de agrupar para sacar la duración de las llamadas por cada ususario, para proximas ocasiones puedes hacer uso de la siguiente forma:\n",
    "    \n",
    "    pivot_calls = calls.pivot_table(index=['user_id', 'month'],\n",
    "                                values=['duration'],\n",
    "                                aggfunc=['sum','count']).reset_index()\n",
    "\n",
    "</div>"
   ]
  },
  {
   "cell_type": "code",
   "execution_count": null,
   "metadata": {
    "id": "aw2cmuql0q1G"
   },
   "outputs": [],
   "source": [
    "# Calcula la cantidad de minutos usados por cada usuario al mes. Guarda el resultado.\n",
    "month_user_minutes = df_calls.groupby(['user_id', 'month'])['duration_min'].sum()\n",
    "month_user_minutes = df_calls.groupby(['user_id', 'month'])['duration_min'].sum()\n",
    "month_user_minutes.info()\n",
    "month_user_minutes"
   ]
  },
  {
   "cell_type": "code",
   "execution_count": null,
   "metadata": {
    "id": "CcQvNHn60q1G"
   },
   "outputs": [],
   "source": [
    "# Calcula el número de mensajes enviados por cada usuario al mes. Guarda el resultado.\n",
    "month_user_sms = df_sms.groupby(['user_id', 'month'])['sms_id'].count()\n",
    "month_user_sms = df_sms.groupby(['user_id', 'month'])['sms_id'].count()\n",
    "month_user_sms.info()\n",
    "month_user_sms"
   ]
  },
  {
   "cell_type": "code",
   "execution_count": null,
   "metadata": {
    "id": "H1AqN2eG0q1H"
   },
   "outputs": [],
   "source": [
    "# Calcula el volumen del tráfico de Internet usado por cada usuario al mes. Guarda el resultado.\n",
    "month_user_data = df_data.groupby(['user_id', 'month'])['gb_used'].sum()\n",
    "month_user_data = df_data.groupby(['user_id', 'month'])['gb_used'].sum()\n",
    "month_user_data.info()\n",
    "month_user_data"
   ]
  },
  {
   "cell_type": "markdown",
   "metadata": {
    "id": "VDfYXnj80q1H"
   },
   "source": [
    "[Junta los datos agregados en un DataFrame para que haya un registro que represente lo que consumió un usuario único en un mes determinado.]"
   ]
  },
  {
   "cell_type": "code",
   "execution_count": null,
   "metadata": {
    "id": "FW99ykyf0q1H"
   },
   "outputs": [],
   "source": [
    "# Fusiona los datos de llamadas, minutos, mensajes e Internet con base en user_id y month\n",
    "tripleplay = pd.concat([month_user_calls, month_user_minutes, month_user_sms, month_user_data], axis=1).reset_index()\n",
    "tripleplay.columns = ['user_id', 'month', 'calls', 'mins', 'sms', 'gb']    # Actualizamos los nombres de las columnas para mejor entendimiento\n",
    "\n",
    "# Reemplazamos los n[umeros por los nombres de los meses\n",
    "months = {1:'jan', 2:'feb', 3:'mar', 4:'apr', 5:'may', 6:'jun', 7:'jul', 8:'aug', 9:'sep', 10:'oct', 11:'nov', 12:'dec'}\n",
    "tripleplay['month'] = tripleplay['month'].replace(months)\n",
    "\n",
    "# Modificamos los Dtypes para corregirlos\n",
    "tripleplay['user_id'] = tripleplay['user_id'].astype('object')\n",
    "# tripleplay['calls'] = tripleplay['calls'].astype('int64')\n",
    "# tripleplay['minutes'] = tripleplay['minutes'].astype('int64')\n",
    "# tripleplay['sms'] = tripleplay['sms'].astype('int64')\n",
    "# tripleplay['gb'] = tripleplay['gb'].astype('int64')\n",
    "\n",
    "# Rellenamos valores ausentes con cero (0)\n",
    "tripleplay = tripleplay.fillna(0)\n",
    "\n",
    "tripleplay.info()   # Imprimimos información general y el nuevo dataframe\n",
    "tripleplay"
   ]
  },
  {
   "cell_type": "code",
   "execution_count": null,
   "metadata": {
    "id": "0dNOXHag0q1H"
   },
   "outputs": [],
   "source": [
    "# Añade la información de la tarifa\n",
    "tripleplay_plan = tripleplay.merge(df_users, on='user_id')    # combinamos los dataframes de 'all_services' con 'df_users' por el número de id\n",
    "tripleplay_plan.drop(['first_name', 'last_name', 'user_age', 'user_city', 'reg_date', 'reg_month', 'churn_date'], axis='columns', inplace=True)   # Eliminamos las columnas inecesarias\n",
    "tripleplay_fee = tripleplay_plan.merge(df_plans, on='plan')    # combinamos el nuevo dataframe con 'df_plans' para agregar la información de las tarifas\n",
    "tripleplay_fee.info()\n",
    "tripleplay_fee.head()  # imprimimos una muestra de 10 lineas para revisar"
   ]
  },
  {
   "cell_type": "markdown",
   "metadata": {},
   "source": [
    "<div class=\"alert alert-block alert-success\">\n",
    "<b>Comentario del revisor</b> <a class=\"tocSkip\"></a>\n",
    "\n",
    "Muy buen trabajo!! el merge es correcto para unir todas las bases trabajadas.\n",
    "    \n",
    "</div>"
   ]
  },
  {
   "cell_type": "markdown",
   "metadata": {
    "id": "1IwGo4wg0q1I"
   },
   "source": [
    "[Calcula los ingresos mensuales por usuario (resta el límite del paquete gratuito del número total de llamadas, mensajes de texto y datos; multiplica el resultado por el valor del plan de llamadas; añade la tarifa mensual en función del plan de llamadas). Nota: Dadas las condiciones del plan, ¡esto podría no ser tan trivial como un par de líneas! Así que no pasa nada si dedicas algo de tiempo a ello.]"
   ]
  },
  {
   "cell_type": "markdown",
   "metadata": {},
   "source": [
    "<div class=\"alert alert-block alert-info\">\n",
    "<b>Respuesta del , Iteración 1</b> <a class=“tocSkip”></a>\n",
    "\n",
    "Tionatiuh, para el ejercicio de calcular los ingresos mensuales por usuario, he creado algunas funciones con ayuda en el co-learning.\n",
    "Estoy seguro que la información ahora es correcta, aparte de que se han redondeado las cifras como me lo habías solicitado.\n",
    "Favor de revisar y hacerme saber cualquier detalle.\n",
    "Gracias!\n",
    "</div>"
   ]
  },
  {
   "cell_type": "code",
   "execution_count": null,
   "metadata": {},
   "outputs": [],
   "source": [
    "# Echamos de nuevo un vistazo al Dataframe de tarifas por plan\n",
    "df_plans"
   ]
  },
  {
   "cell_type": "code",
   "execution_count": null,
   "metadata": {},
   "outputs": [],
   "source": [
    "# Definimos todos los datos de ambos planes 'surf' y 'ultimate' en variables\n",
    "\n",
    "surf_charge = 20\n",
    "min_surf = 500\n",
    "sms_surf = 50\n",
    "gb_surf = 15\n",
    "cost_call_surf = 0.03\n",
    "cost_sms_surf = 0.03\n",
    "cost_gb_surf = 10\n",
    "\n",
    "ultimate_charge = 70\n",
    "min_ultimate = 3000\n",
    "sms_ultimate = 1000\n",
    "gb_ultimate = 30\n",
    "cost_call_ultimate = 0.01\n",
    "cost_sms_ultimate = 0.01\n",
    "cost_gb_ultimate = 7"
   ]
  },
  {
   "cell_type": "code",
   "execution_count": null,
   "metadata": {},
   "outputs": [],
   "source": [
    "# Función para calcular los minutos extra en las llamadas por usuario\n",
    "\n",
    "def extra_calls (row):\n",
    "    plan = row['plan']\n",
    "    min_used = row['mins']\n",
    "    \n",
    "    if plan == 'surf':\n",
    "        if min_used > min_surf:\n",
    "            extra_mins = min_used - min_surf\n",
    "        else:\n",
    "            extra_mins = 0\n",
    "    \n",
    "    if plan == 'ultimate':\n",
    "        if min_used > min_ultimate:\n",
    "            extra_mins = min_used - min_ultimate\n",
    "        else:\n",
    "            extra_mins = 0\n",
    "            \n",
    "    return extra_mins"
   ]
  },
  {
   "cell_type": "code",
   "execution_count": null,
   "metadata": {},
   "outputs": [],
   "source": [
    "tripleplay_fee.apply(extra_calls, axis=1)   # Probamos la función para calcular los minutos extra, llamada 'extra_calls'"
   ]
  },
  {
   "cell_type": "code",
   "execution_count": null,
   "metadata": {},
   "outputs": [],
   "source": [
    "# Función para calcular los mensajes extra enviados por usuario\n",
    "\n",
    "def extra_messages (row):\n",
    "    plan = row['plan']\n",
    "    sms_sent = row['sms']\n",
    "    \n",
    "    if plan == 'surf':\n",
    "        if sms_sent > sms_surf:\n",
    "            extra_sms = sms_sent - sms_surf\n",
    "        else:\n",
    "            extra_sms = 0\n",
    "    \n",
    "    if plan == 'ultimate':\n",
    "        if sms_sent > sms_ultimate:\n",
    "            extra_sms = sms_sent - sms_ultimate\n",
    "        else:\n",
    "            extra_sms = 0\n",
    "    \n",
    "    return extra_sms"
   ]
  },
  {
   "cell_type": "code",
   "execution_count": null,
   "metadata": {},
   "outputs": [],
   "source": [
    "tripleplay_fee.apply(extra_messages, axis=1)   # Probamos la función para calcular los mensajes extra enviados, llamada 'extra_sms'"
   ]
  },
  {
   "cell_type": "code",
   "execution_count": null,
   "metadata": {},
   "outputs": [],
   "source": [
    "# Función para calcular los gigabytes extra consumidos por usuario\n",
    "\n",
    "def extra_data (row):\n",
    "    plan = row['plan']\n",
    "    data_used = row['gb']\n",
    "    \n",
    "    if plan == 'surf':\n",
    "        if data_used > gb_surf:\n",
    "            extra_gb = data_used - gb_surf\n",
    "        else:\n",
    "            extra_gb =0\n",
    "            \n",
    "    if plan == 'ultimate':\n",
    "        if data_used > gb_ultimate:\n",
    "            extra_gb = data_used - gb_ultimate\n",
    "        else:\n",
    "            extra_gb = 0\n",
    "    \n",
    "    return extra_gb"
   ]
  },
  {
   "cell_type": "code",
   "execution_count": null,
   "metadata": {},
   "outputs": [],
   "source": [
    "tripleplay_fee.apply(extra_data, axis=1)   # Probamos la función para calcular los gigabytes extra consumidos, llamada 'extra_gb'"
   ]
  },
  {
   "cell_type": "markdown",
   "metadata": {},
   "source": [
    "Ahora que tenemos las funciones para calcular los servicios extra de acuerdo a las tarifas de los dos planes, vamos a crean un nuevo dataframe con 3 columnas extras para cada excedente de minutos (mins), mensajes (sms) y gigabytes (gb)."
   ]
  },
  {
   "cell_type": "code",
   "execution_count": 96,
   "metadata": {},
   "outputs": [],
   "source": [
    "tripleplay_fee['extra_min'] = tripleplay_fee.apply(extra_calls, axis=1)         # Creamos una columna con los minutos extra\n",
    "tripleplay_fee['extra_sms'] = tripleplay_fee.apply(extra_messages, axis=1)      # Creamos una columna con los mensajes extra\n",
    "tripleplay_fee['extra_gb'] = tripleplay_fee.apply(extra_data, axis=1)           # Creamos una columna con los gigas extra\n",
    "\n",
    "tripleplay_extra = tripleplay_fee       # Renombramos el Dataframe y revisamos su nueva información\n",
    "tripleplay_extra.info()\n",
    "tripleplay_extra.sample(10)"
   ]
  },
  {
   "cell_type": "markdown",
   "metadata": {},
   "source": [
    "Ahora calcularemos la ganancia sumando el costo del plan más el costo de los servicios extra que se cobran aparte de de la tarifa de los planes."
   ]
  },
  {
   "cell_type": "code",
   "execution_count": null,
   "metadata": {},
   "outputs": [],
   "source": [
    "# Esta función calcula el monto del cargo extra y suma los costos para obtener la ganancia total.\n",
    "\n",
    "def month_charge (row):\n",
    "    plan = row['plan']\n",
    "    extra_min = row['extra_min']\n",
    "    extra_sms = row['extra_sms']\n",
    "    extra_gb = row['extra_gb']\n",
    "    \n",
    "    if plan == 'surf':\n",
    "        revenue = surf_charge + ((extra_min * cost_call_surf) + (extra_sms * cost_sms_surf) + (extra_gb * cost_gb_surf))\n",
    "    else:\n",
    "        revenue = ultimate_charge + ((extra_min * cost_call_ultimate) + (extra_sms * cost_sms_ultimate) + (extra_gb * cost_gb_ultimate))\n",
    "        \n",
    "    return revenue"
   ]
  },
  {
   "cell_type": "code",
   "execution_count": null,
   "metadata": {},
   "outputs": [],
   "source": [
    "# Creamos una nueva columna que contenga la ganancia total y aplicamos la función de 'month_charge'\n",
    "\n",
    "tripleplay_extra['month_revenue'] = tripleplay_extra.apply(month_charge, axis=1)\n",
    "tripleplay_extra.info()\n",
    "tripleplay_extra.sample(10)"
   ]
  },
  {
   "cell_type": "markdown",
   "metadata": {},
   "source": [
    "[Volver a Contenido](#back)"
   ]
  },
  {
   "cell_type": "markdown",
   "metadata": {},
   "source": [
    "<div class=\"alert alert-block alert-danger\">\n",
    "<b>Comentario revisor</b> <a class=\"tocSkip\"></a>\n",
    "\n",
    "\n",
    "Recuerda que para este punto, es necesario que ya tengamos los valores redondeados de la duración de las llamadas y redondear la transformación de megabytes a gigabytes. Esto cobra importancia dado que estamos calculando por cuanto se paso cada usuario, entonces el no redondear puede alterar este valor.\n",
    "</div>"
   ]
  },
  {
   "cell_type": "markdown",
   "metadata": {},
   "source": [
    "<div class=\"alert alert-block alert-info\">\n",
    "<b>Respuesta del , Iteración 1</b> <a class=“tocSkip”></a>\n",
    "\n",
    "Tionatiuh, anteriormente ya he redondeado hacia arriba todos las cifras, por lo que no debería alterar los resultados; favor de revisar.\n",
    "Gracias.\n",
    "</div>"
   ]
  },
  {
   "cell_type": "markdown",
   "metadata": {
    "id": "-jtyHzJb0q1I"
   },
   "source": [
    "## 1.13 Estudia el comportamiento de usuario <a id='user_consumption'></a>"
   ]
  },
  {
   "cell_type": "markdown",
   "metadata": {
    "id": "AxU3Y0N70q1J"
   },
   "source": [
    "[Calcula algunas estadísticas descriptivas para los datos agregados y fusionados que nos sean útiles y que muestren un panorama general captado por los datos. Dibuja gráficos útiles para facilitar la comprensión. Dado que la tarea principal es comparar las tarifas y decidir cuál es más rentable, las estadísticas y gráficas deben calcularse por tarifa.]\n",
    "\n",
    "[En los comentarios hallarás pistas relevantes para las llamadas, pero no las hay para los mensajes e Internet. Sin embargo, el principio del estudio estadístico que se aplica para ellos es el mismo que para las llamadas.]"
   ]
  },
  {
   "cell_type": "markdown",
   "metadata": {
    "id": "vtW4CJEe0q1J"
   },
   "source": [
    "### 1.13.1 Llamadas <a id='calls_consumption'></a>"
   ]
  },
  {
   "cell_type": "code",
   "execution_count": null,
   "metadata": {
    "id": "Jf5v5--k0q1J"
   },
   "outputs": [],
   "source": [
    "# Compara la duración promedio de llamadas por cada plan y por cada mes. \n",
    "calls_mean = tripleplay_extra.groupby(['month', 'plan'])['calls'].mean().unstack().reset_index()\n",
    "calls_mean"
   ]
  },
  {
   "cell_type": "code",
   "execution_count": 100,
   "metadata": {},
   "outputs": [
    {
     "data": {
      "text/plain": [
       "<Axes: title={'center': 'Llamadas Surf vs Ultimate'}, xlabel='Mes', ylabel='Llamadas Promedio'>"
      ]
     },
     "execution_count": 100,
     "metadata": {},
     "output_type": "execute_result"
    },
    {
     "data": {
      "image/png": "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",
      "text/plain": [
       "<Figure size 640x480 with 1 Axes>"
      ]
     },
     "metadata": {},
     "output_type": "display_data"
    }
   ],
   "source": [
    "# Traza un gráfico de barras para visualizarla.\n",
    "calls_mean.plot(kind='bar', x='month', xlabel='Mes', ylabel='Llamadas Promedio', title='Llamadas Surf vs Ultimate')"
   ]
  },
  {
   "cell_type": "code",
   "execution_count": 101,
   "metadata": {
    "id": "QoLqW1S_0q1J"
   },
   "outputs": [
    {
     "data": {
      "image/png": "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",
      "text/plain": [
       "<Figure size 640x480 with 1 Axes>"
      ]
     },
     "metadata": {},
     "output_type": "display_data"
    }
   ],
   "source": [
    "# Compara el número de minutos mensuales que necesitan los usuarios de cada plan. Traza un histograma.\n",
    "minutes_plan = tripleplay_extra.groupby('plan')['mins'].plot(kind='hist', bins=20, alpha=0.7, title='Cantidad de Minutos', legend=True)"
    "minutes_plan = tripleplay_extra.groupby('plan')['mins'].plot(kind='hist', bins=20, alpha=0.7, title='Cantidad de Minutos', legend=True)"
   ]
  },
  {
   "cell_type": "markdown",
   "metadata": {
    "id": "bLS9T8OH0q1K"
   },
   "source": [
    "[Calcula la media y la variable de la duración de las llamadas para averiguar si los usuarios de los distintos planes se comportan de forma diferente al realizar sus llamadas.]"
   ]
  },
  {
   "cell_type": "code",
   "execution_count": 102,
   "metadata": {
    "id": "oSndbAnt0q1K"
   },
   "outputs": [
    {
     "name": "stdout",
     "output_type": "stream",
     "text": [
      "   month       mean\n",
      "0    apr  39.507042\n",
      "1    aug  46.729614\n",
      "2    dec  52.592751\n",
      "3    feb  39.312500\n",
      "4    jan  22.166667\n",
      "5    jul  49.827778\n",
      "6    jun  46.222222\n",
      "7    mar  37.428571\n",
      "8    may  45.066038\n",
      "9    nov  48.460976\n",
      "10   oct  49.332362\n",
      "11   sep  47.421429\n",
      "\n",
      "   month    variance\n",
      "0    apr  570.482093\n",
      "1    aug  664.637783\n",
      "2    dec  760.391486\n",
      "3    feb  783.829167\n",
      "4    jan  168.966667\n",
      "5    jul  791.115425\n",
      "6    jun  546.901321\n",
      "7    mar  645.193277\n",
      "8    may  693.071788\n",
      "9    nov  663.212410\n",
      "10   oct  664.023716\n",
      "11   sep  613.714235\n"
     ]
    }
   ],
   "source": [
    "# Calcula la media y la varianza de la duración mensual de llamadas.\n",
    "median_calls = tripleplay_extra.groupby(['month'])['calls'].mean().reset_index()\n",
    "variace_calls = tripleplay_extra.groupby(['month'])['calls'].var().reset_index()\n",
    "median_calls = tripleplay_extra.groupby(['month'])['calls'].mean().reset_index()\n",
    "variace_calls = tripleplay_extra.groupby(['month'])['calls'].var().reset_index()\n",
    "\n",
    "# Renombramos las columnas\n",
    "median_calls.columns = ['month', 'mean']\n",
    "variace_calls.columns = ['month', 'variance']\n",
    "\n",
    "# Imprimimos la media y la varianza\n",
    "print(median_calls)\n",
    "print()\n",
    "print(variace_calls)"
   ]
  },
  {
   "cell_type": "code",
   "execution_count": 103,
   "metadata": {
    "id": "nZzoRUKc0q1K"
   },
   "outputs": [
    {
     "data": {
      "text/plain": [
       "<Axes: xlabel='plan'>"
      ]
     },
     "execution_count": 103,
     "metadata": {},
     "output_type": "execute_result"
    },
    {
     "data": {
      "image/png": "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",
      "text/plain": [
       "<Figure size 640x480 with 1 Axes>"
      ]
     },
     "metadata": {},
     "output_type": "display_data"
    }
   ],
   "source": [
    "# Traza un diagrama de caja para visualizar la distribución de la duración mensual de llamadas\n",
    "sns.boxplot(calls_mean)\n"
   ]
  },
  {
   "cell_type": "markdown",
   "metadata": {
    "id": "r627zBO50q1K"
   },
   "source": [
    "[Elabora las conclusiones sobre el comportamiento de los usuarios con respecto a las llamadas. ¿Su comportamiento varía en función del plan?]"
   ]
  },
  {
   "cell_type": "markdown",
   "metadata": {},
   "source": [
    "[Volver a Contenido](#back)"
   ]
  },
  {
   "cell_type": "markdown",
   "metadata": {
    "id": "8idKy8Wh0q1L"
   },
   "source": [
    "### 1.13.2 Mensajes <a id='sms_consumption'></a>"
   ]
  },
  {
   "cell_type": "code",
   "execution_count": 104,
   "metadata": {
    "id": "NXLxiTit0q1L"
   },
   "outputs": [
    {
     "data": {
      "text/html": [
       "<div>\n",
       "<style scoped>\n",
       "    .dataframe tbody tr th:only-of-type {\n",
       "        vertical-align: middle;\n",
       "    }\n",
       "\n",
       "    .dataframe tbody tr th {\n",
       "        vertical-align: top;\n",
       "    }\n",
       "\n",
       "    .dataframe thead th {\n",
       "        text-align: right;\n",
       "    }\n",
       "</style>\n",
       "<table border=\"1\" class=\"dataframe\">\n",
       "  <thead>\n",
       "    <tr style=\"text-align: right;\">\n",
       "      <th>plan</th>\n",
       "      <th>month</th>\n",
       "      <th>surf</th>\n",
       "      <th>ultimate</th>\n",
       "    </tr>\n",
       "  </thead>\n",
       "  <tbody>\n",
       "    <tr>\n",
       "      <th>0</th>\n",
       "      <td>apr</td>\n",
       "      <td>870.0</td>\n",
       "      <td>463.0</td>\n",
       "    </tr>\n",
       "    <tr>\n",
       "      <th>1</th>\n",
       "      <td>aug</td>\n",
       "      <td>4662.0</td>\n",
       "      <td>2732.0</td>\n",
       "    </tr>\n",
       "    <tr>\n",
       "      <th>2</th>\n",
       "      <td>dec</td>\n",
       "      <td>12275.0</td>\n",
       "      <td>6796.0</td>\n",
       "    </tr>\n",
       "    <tr>\n",
       "      <th>3</th>\n",
       "      <td>feb</td>\n",
       "      <td>108.0</td>\n",
       "      <td>151.0</td>\n",
       "    </tr>\n",
       "    <tr>\n",
       "      <th>4</th>\n",
       "      <td>jan</td>\n",
       "      <td>21.0</td>\n",
       "      <td>62.0</td>\n",
       "    </tr>\n",
       "    <tr>\n",
       "      <th>5</th>\n",
       "      <td>jul</td>\n",
       "      <td>3271.0</td>\n",
       "      <td>1937.0</td>\n",
       "    </tr>\n",
       "    <tr>\n",
       "      <th>6</th>\n",
       "      <td>jun</td>\n",
       "      <td>2454.0</td>\n",
       "      <td>1379.0</td>\n",
       "    </tr>\n",
       "    <tr>\n",
       "      <th>7</th>\n",
       "      <td>mar</td>\n",
       "      <td>351.0</td>\n",
       "      <td>243.0</td>\n",
       "    </tr>\n",
       "    <tr>\n",
       "      <th>8</th>\n",
       "      <td>may</td>\n",
       "      <td>1849.0</td>\n",
       "      <td>931.0</td>\n",
       "    </tr>\n",
       "    <tr>\n",
       "      <th>9</th>\n",
       "      <td>nov</td>\n",
       "      <td>9165.0</td>\n",
       "      <td>4903.0</td>\n",
       "    </tr>\n",
       "    <tr>\n",
       "      <th>10</th>\n",
       "      <td>oct</td>\n",
       "      <td>8020.0</td>\n",
       "      <td>4181.0</td>\n",
       "    </tr>\n",
       "    <tr>\n",
       "      <th>11</th>\n",
       "      <td>sep</td>\n",
       "      <td>5968.0</td>\n",
       "      <td>3259.0</td>\n",
       "    </tr>\n",
       "  </tbody>\n",
       "</table>\n",
       "</div>"
      ],
      "text/plain": [
       "plan month     surf  ultimate\n",
       "0      apr    870.0     463.0\n",
       "1      aug   4662.0    2732.0\n",
       "2      dec  12275.0    6796.0\n",
       "3      feb    108.0     151.0\n",
       "4      jan     21.0      62.0\n",
       "5      jul   3271.0    1937.0\n",
       "6      jun   2454.0    1379.0\n",
       "7      mar    351.0     243.0\n",
       "8      may   1849.0     931.0\n",
       "9      nov   9165.0    4903.0\n",
       "10     oct   8020.0    4181.0\n",
       "11     sep   5968.0    3259.0"
      ]
     },
     "execution_count": 104,
     "metadata": {},
     "output_type": "execute_result"
    }
   ],
   "source": [
    "# Comprara el número de mensajes que tienden a enviar cada mes los usuarios de cada plan\n",
    "sms_messages = tripleplay_extra.groupby(['month', 'plan'])['sms'].sum().unstack().reset_index()\n",
    "sms_messages = tripleplay_extra.groupby(['month', 'plan'])['sms'].sum().unstack().reset_index()\n",
    "sms_messages\n"
   ]
  },
  {
   "cell_type": "code",
   "execution_count": 106,
   "metadata": {},
   "outputs": [
    {
     "data": {
      "text/plain": [
       "<Axes: title={'center': 'Mensajes Surf vs Ultimate'}, xlabel='Mes', ylabel='Mensajes Promedio'>"
      ]
     },
     "execution_count": 106,
     "metadata": {},
     "output_type": "execute_result"
    },
    {
     "data": {
      "image/png": "iVBORw0KGgoAAAANSUhEUgAAAk0AAAHXCAYAAACh727gAAAAOXRFWHRTb2Z0d2FyZQBNYXRwbG90bGliIHZlcnNpb24zLjkuMiwgaHR0cHM6Ly9tYXRwbG90bGliLm9yZy8hTgPZAAAACXBIWXMAAA9hAAAPYQGoP6dpAABg1klEQVR4nO3dd1QUV/8G8GfpK2WRLoqAJSgGSzQqFmxErLG9KnYQNSrYSzRRgiX2XiKvJpYYu1FjiShqFHvBjl1RTAQ0KiCi1Pv7wx/zugF11izsos/nnD2HvXN39tllgS937txRCCEEiIiIiOitDHQdgIiIiKgoYNFEREREJAOLJiIiIiIZWDQRERERycCiiYiIiEgGFk1EREREMrBoIiIiIpKBRRMRERGRDCyaiIiIiGRg0UREWrdy5UooFArcvXtX11EK1OrVq1GhQgUYGxvD2tpa13Fk0+T7c/DgQSgUChw8eLDAcxHpOxZNRDqU+8dLoVDgyJEjebYLIeDi4gKFQoFWrVrpIGHRcuTIETRv3hwlS5aEmZkZSpcujdatW2Pt2rVaf65r164hICAAZcuWxbJly7B06VKtP4dcDRs2xKeffprvtr///hsKhQJhYWFv3ccPP/yAlStXaj/cv3DlyhWEhYV98MU3FR0smoj0gJmZWb5/2A8dOoQ///wTpqamOkj1/nr06IEXL17A1dW10J5z06ZN8PHxQWJiIoYMGYKFCxeie/fuePr0KZYtW6b15zt48CBycnIwf/58BAQEoFOnTlp/jsL0pqLJx8cHL168gI+PT6FnunLlCiZMmMCiifSGka4DEBHQokULbNq0CQsWLICR0f9+LNeuXYvq1avj77//1mE6zRkaGsLQ0LBQnzMsLAyenp44ceIETExM1LY9fPhQa8/z/PlzmJubS/ssSofl3oeBgQHMzMx0HYNIL3CkiUgPdOnSBY8fP0ZkZKTUlpGRgc2bN6Nr1675PiYnJwfz5s1DpUqVYGZmBkdHR3z11Vd4+vSpWj83Nze0atUKR44cQc2aNWFmZoYyZcrg559/VuuXmZmJCRMmoHz58jAzM4OtrS3q1aunlunixYsICAhAmTJlYGZmBicnJ/Tu3RuPHz9W29eb5szs3r0b9evXh7m5OSwtLdGyZUvExMSo9UlISEBgYCBKlSoFU1NTlChRAm3atHnnaMPt27fx+eef5ymYAMDBwUH6+k1zdO7evQuFQqE22hIQEAALCwvcvn0bLVq0gKWlJbp16wY3Nzd89913AAB7e/u3Hv6aNWsWFAoF7t27l2fb2LFjYWJiIn3Pbt68iQ4dOsDJyQlmZmYoVaoU/P39kZyc/NbX/m+5ubkhJiYGhw4dkg4XN2zYEED+71fu4cCLFy+iQYMGKFasGMqVK4fNmzcDeDVCWqtWLSiVSnh4eGDfvn1qz3fv3j0MHDgQHh4eUCqVsLW1RceOHdW+xytXrkTHjh0BAI0aNZJyvZ5DzueJSJtYNBHpATc3N3h7e2PdunVS2+7du5GcnAx/f/98H/PVV19h1KhRqFu3LubPn4/AwECsWbMGfn5+yMzMVOt769Yt/Oc//8EXX3yB2bNno3jx4ggICFD7AxMWFoYJEyagUaNGWLRoEb799luULl0aZ8+elfpERkbizp07CAwMxMKFC+Hv74/169ejRYsWEEK89TWuXr0aLVu2hIWFBaZPn47x48fjypUrqFevntofyw4dOmDr1q0IDAzEDz/8gMGDB+PZs2eIi4t76/5dXV2xf/9+/Pnnn2/tp6msrCz4+fnBwcEBs2bNQocOHTBv3jy0a9cOALBkyRKsXr0a7du3z/fxnTp1gkKhwMaNG/Ns27hxI5o2bYrixYsjIyMDfn5+OHHiBAYNGoTFixejX79+uHPnDpKSkrT6mv5p3rx5KFWqFCpUqIDVq1dj9erV+Pbbb9/6mKdPn6JVq1aoVasWZsyYAVNTU/j7+2PDhg3w9/dHixYtMG3aNDx//hz/+c9/8OzZM+mxp0+fxrFjx+Dv748FCxagf//+2L9/Pxo2bIi0tDQArw4LDh48GADwzTffSLkqVqwIQP7niUirBBHpzIoVKwQAcfr0abFo0SJhaWkp0tLShBBCdOzYUTRq1EgIIYSrq6to2bKl9LjDhw8LAGLNmjVq+4uIiMjT7urqKgCIqKgoqe3hw4fC1NRUjBgxQmqrUqWK2nPkJzfb69atW5dn/7mvKzY2VgghxLNnz4S1tbXo27ev2mMTEhKESqWS2p8+fSoAiJkzZ741R35++uknAUCYmJiIRo0aifHjx4vDhw+L7OxstX5//PGHACD++OMPtfbY2FgBQKxYsUJq69WrlwAgxowZk+f5vvvuOwFAPHr06J3ZvL29RfXq1dXaTp06JQCIn3/+WQghxLlz5wQAsWnTJpmv+H8aNGggKlWqlO+2R48eCQDiu+++k9r++f0RQohKlSqJBg0a5Hl8fu9XgwYNBACxdu1aqe3atWsCgDAwMBAnTpyQ2vfs2ZPnfc3vc3T8+HG190MIITZt2pTv90ru54lI2zjSRKQnOnXqhBcvXmDnzp149uwZdu7c+cZDc5s2bYJKpcIXX3yBv//+W7pVr14dFhYW+OOPP9T6e3p6on79+tJ9e3t7eHh44M6dO1KbtbU1YmJicPPmzTdmVCqV0tcvX77E33//jdq1awOA2ojUP0VGRiIpKQldunRRy2toaIhatWpJeZVKJUxMTHDw4ME8hxnfpXfv3oiIiEDDhg1x5MgRTJo0CfXr10f58uVx7Ngxjfb1TwMGDPhXj+/cuTOio6Nx+/ZtqW3Dhg0wNTVFmzZtAAAqlQoAsGfPHmm0RZ9ZWFiojYJ6eHjA2toaFStWRK1ataT23K9f/6y9/jnKzMzE48ePUa5cOVhbW7/1c5RL7ueJSNtYNBHpCXt7e/j6+mLt2rXYsmULsrOz8Z///Cffvjdv3kRycjIcHBxgb2+vdktNTc0z8bl06dJ59lG8eHG1wmTixIlISkrCJ598Ai8vL4waNQoXL15Ue8yTJ08wZMgQODo6QqlUwt7eHu7u7gDw1nk3uYVY48aN8+Tdu3evlNfU1BTTp0/H7t274ejoCB8fH8yYMQMJCQky3kHAz88Pe/bsQVJSEqKiohAcHIx79+6hVatW7z0Z3MjICKVKlXqvx+bq2LEjDAwMsGHDBgCvlpLYtGkTmjdvDisrKwCAu7s7hg8fjh9//BF2dnbw8/PD4sWLtTafSaFQaGU/uUqVKpVnnyqVCi4uLnnaAKh91l68eIHQ0FC4uLjA1NQUdnZ2sLe3R1JSkqzXK/fzRKRtPHuOSI907doVffv2RUJCApo3b/7GM7NycnLg4OCANWvW5Lvd3t5e7f6bzmQTr81D8vHxwe3bt/Hbb79h7969+PHHHzF37lyEh4ejT58+AF6Nhh07dgyjRo1C1apVYWFhgZycHDRr1gw5OTlvfF2521avXg0nJ6c8218/Y3Do0KFo3bo1tm3bhj179mD8+PGYOnUqDhw4gGrVqr3xOV5XrFgx1K9fH/Xr14ednR0mTJiA3bt3o1evXm8sHrKzs/NtNzU1hYHBv/v/0tnZGfXr18fGjRvxzTff4MSJE4iLi8P06dPV+s2ePRsBAQHS92Dw4MGYOnUqTpw48dbCzczMDC9evMh3W+6olbbPgHvTZ0rOZ23QoEFYsWIFhg4dCm9vb6hUKigUCvj7+7/1c5RLk88TkTbxk0WkR9q1a4evvvoKJ06ckEYl8lO2bFns27cPdevWVTvU8W/Z2NggMDAQgYGBSE1NhY+PD8LCwtCnTx88ffoU+/fvx4QJExAaGio95m2H817PC7w6i83X11dW/xEjRmDEiBG4efMmqlatitmzZ+OXX37R+DXVqFEDABAfHw/g1QgbgDyTq/M7u02bOnfujIEDB+L69evYsGEDihUrhtatW+fp5+XlBS8vL4wbNw7Hjh1D3bp1ER4ejsmTJ79x366urjhw4ABevHiR5/Nw/fp1qc/baHsk6m02b96MXr16Yfbs2VLby5cv83xP3pRJ088Tkbbw8ByRHrGwsMCSJUsQFhaW7x/UXJ06dUJ2djYmTZqUZ1tWVtZ7nW31z2UDLCwsUK5cOaSnpwP43wiC+MdZcvPmzXvnvv38/GBlZYUpU6bkObMPAB49egTg1ajIy5cv1baVLVsWlpaWUo432b9/f77tv//+O4BXc26AV8WDoaEhoqKi1Pr98MMP73wd/0aHDh1gaGiIdevWYdOmTWjVqhXMzc2l7SkpKcjKylJ7jJeXFwwMDN752lu0aIHMzEz897//VWvPycnBkiVLYGJigiZNmrx1H+bm5gV+ll4uQ0PDPJ+jhQsX5hnty31//plL7ueJSNs40kSkZ3r16vXOPg0aNMBXX32FqVOn4vz582jatCmMjY1x8+ZNbNq0CfPnz3/jfKg38fT0RMOGDVG9enXY2NjgzJkz2Lx5M0JCQgAAVlZW0hyjzMxMlCxZEnv37kVsbOw7921lZYUlS5agR48e+Oyzz+Dv7w97e3vExcVh165dqFu3LhYtWoQbN26gSZMm6NSpEzw9PWFkZIStW7ciMTHxjUsv5GrTpg3c3d3RunVrlC1bFs+fP8e+ffuwY8cOfP7551IRqlKp0LFjRyxcuBAKhQJly5bFzp07C3wejIODAxo1aoQ5c+bg2bNn6Ny5s9r2AwcOICQkBB07dsQnn3yCrKwsrF69GoaGhujQocNb9926dWs0bdoUw4YNw6lTp1CnTh2kpaVh+/btOHr0KCZPnpznkO0/Va9eHUuWLMHkyZNRrlw5ODg4oHHjxv/6deenVatWWL16NVQqFTw9PXH8+HHs27cPtra2av2qVq0KQ0NDTJ8+HcnJyTA1NUXjxo3h4OAg6/NEpHU6PXeP6CP3+pIDb/PPJQdyLV26VFSvXl0olUphaWkpvLy8xOjRo8WDBw/e+dgGDRqonWI+efJkUbNmTWFtbS2USqWoUKGC+P7770VGRobU588//xTt2rUT1tbWQqVSiY4dO4oHDx7IOqVdiFenr/v5+QmVSiXMzMxE2bJlRUBAgDhz5owQQoi///5bBAcHiwoVKghzc3OhUqlErVq1xMaNG9/6/gjxaukDf39/UbZsWaFUKoWZmZnw9PQU3377rUhJSVHr++jRI9GhQwdRrFgxUbx4cfHVV1+Jy5cv57vkgLm5eb7Pp8mSA7mWLVsmAAhLS0vx4sULtW137twRvXv3FmXLlhVmZmbCxsZGNGrUSOzbt0/Wvl++fCnCwsJEhQoVhKmpqTA3Nxe1a9cWv/zyS56++X1/EhISRMuWLYWlpaUAIH023rTkQH5LHLzpswZABAcHS/efPn0qAgMDhZ2dnbCwsBB+fn7i2rVrwtXVVfTq1UvtscuWLRNlypQRhoaGeXK86/NEpG0KId6xIh0RkYZ++ukn9OnTB/fv3//XZ54REekLzmkiIq2Lj4+HQqGAjY2NrqMQEWkN5zQRkdYkJiZi8+bNCA8Ph7e3N4oVK6brSEREWsORJiLSmqtXr2LUqFEoV66c2oVviYg+BJzTRERERCQDR5qIiIiIZGDRRERERCQDJ4JrSU5ODh48eABLS8tCvRwBERERvT8hBJ49ewZnZ+d3XmeSRZOWPHjwIM/VvYmIiKhokLOuHIsmLbG0tATw6k23srLScRoiIiKSIyUlBS4uLtLf8bdh0aQluYfkrKysWDQREREVMXKm1nAiOBEREZEMLJqIiIiIZGDRRERERCQD5zQRERG9JyEEsrKykJ2dreso9AaGhoYwMjLSynJALJqIiIjeQ0ZGBuLj45GWlqbrKPQOxYoVQ4kSJWBiYvKv9sOiiYiISEM5OTmIjY2FoaEhnJ2dYWJiwoWN9ZAQAhkZGXj06BFiY2NRvnz5dy5g+TYsmoiIiDSUkZGBnJwcuLi4oFixYrqOQ2+hVCphbGyMe/fuISMjA2ZmZu+9L04EJyIiek//ZtSCCo+2vk/8bhMRERHJwKKJiIiISAYWTURERB8hNzc3zJs3T9cxihQWTUREREQysGgiIiIikoFFExER0QeoYcOGCAkJQUhICFQqFezs7DB+/HgIIfLtP2fOHHh5ecHc3BwuLi4YOHAgUlNTpe0rV66EtbU19uzZg4oVK8LCwgLNmjVDfHx8Yb0kneM6TVSkuY3ZJavf3WktCzgJEZH+WbVqFYKCgnDq1CmcOXMG/fr1Q+nSpdG3b988fQ0MDLBgwQK4u7vjzp07GDhwIEaPHo0ffvhB6pOWloZZs2Zh9erVMDAwQPfu3TFy5EisWbOmMF+WzrBoIiIi+kC5uLhg7ty5UCgU8PDwwKVLlzB37tx8i6ahQ4dKX7u5uWHy5Mno37+/WtGUmZmJ8PBwlC1bFgAQEhKCiRMnFvjr0Bc8PEdERPSBql27ttrlXby9vXHz5s18LzC8b98+NGnSBCVLloSlpSV69OiBx48fq11br1ixYlLBBAAlSpTAw4cPC/ZF6BEWTURERB+5u3fvolWrVqhcuTJ+/fVXREdHY/HixQBeXTIml7GxsdrjFArFG+dIfYh0WjRFRUWhdevWcHZ2hkKhwLZt26RtmZmZ+Prrr6VJac7OzujZsycePHigto8nT56gW7dusLKygrW1NYKCgtQmrgHAxYsXUb9+fZiZmcHFxQUzZszIk2XTpk2oUKECzMzM4OXlhd9//71AXjMREVFhOXnypNr9EydOoHz58jA0NFRrj46ORk5ODmbPno3atWvjk08+yfP3lnRcND1//hxVqlSRqtnXpaWl4ezZsxg/fjzOnj2LLVu24Pr16/jyyy/V+nXr1g0xMTGIjIzEzp07ERUVhX79+knbU1JS0LRpU7i6uiI6OhozZ85EWFgYli5dKvU5duwYunTpgqCgIJw7dw5t27ZF27Ztcfny5YJ78URERAUsLi4Ow4cPx/Xr17Fu3TosXLgQQ4YMydOvXLlyyMzMxMKFC3Hnzh2sXr0a4eHhOkis33Q6Ebx58+Zo3rx5vttUKhUiIyPV2hYtWoSaNWsiLi4OpUuXxtWrVxEREYHTp0+jRo0aAICFCxeiRYsWmDVrFpydnbFmzRpkZGRg+fLlMDExQaVKlXD+/HnMmTNHKq7mz5+PZs2aYdSoUQCASZMmITIyEosWLeKHhoiIiqyePXvixYsXqFmzJgwNDTFkyBC1gYVcVapUwZw5czB9+nSMHTsWPj4+mDp1Knr27KmD1PqrSM1pSk5OhkKhgLW1NQDg+PHjsLa2lgomAPD19YWBgYE0JHn8+HH4+PjAxMRE6uPn54fr16/j6dOnUh9fX1+15/Lz88Px48ffmCU9PR0pKSlqNyIiIn1ibGyMJUuWIDk5GU+ePMH3338vTQy/e/eu2hlzw4YNw4MHD5CWloaIiAj06NEDQgjpb25AQACSkpLU9t+2bVvOadJHL1++xNdff40uXbrAysoKAJCQkAAHBwe1fkZGRrCxsUFCQoLUx9HRUa1P7v139cndnp+pU6dCpVJJNxcXl3/3AomIiEivFYmiKTMzE506dYIQAkuWLNF1HADA2LFjkZycLN3u37+v60hERERUgPR+ccvcgunevXs4cOCANMoEAE5OTnnWh8jKysKTJ0/g5OQk9UlMTFTrk3v/XX1yt+fH1NQUpqam7//CiIiICtDBgwd1HeGDo9cjTbkF082bN7Fv3z7Y2tqqbff29kZSUhKio6OltgMHDiAnJwe1atWS+kRFRSEzM1PqExkZCQ8PDxQvXlzqs3//frV9R0ZGwtvbu6BeGhERERUxOi2aUlNTcf78eZw/fx4AEBsbi/PnzyMuLg6ZmZn4z3/+gzNnzmDNmjXIzs5GQkICEhISpIW2KlasiGbNmqFv3744deoUjh49ipCQEPj7+8PZ2RkA0LVrV5iYmCAoKAgxMTHYsGED5s+fj+HDh0s5hgwZgoiICMyePRvXrl1DWFgYzpw5g5CQkEJ/T4iIiEg/6bRoOnPmDKpVq4Zq1aoBAIYPH45q1aohNDQUf/31F7Zv344///wTVatWRYkSJaTbsWPHpH2sWbMGFSpUQJMmTdCiRQvUq1dPbQ0mlUqFvXv3IjY2FtWrV8eIESMQGhqqdsplnTp1sHbtWixduhRVqlTB5s2bsW3bNnz66aeF92YQERGRXlOIj+lcwQKUkpIClUqF5ORktXlXVLDcxuyS1e/utJYFnISIPiYvX75EbGws3N3dYWZmpus49A5v+35p8vdbr+c0EREREekLFk1EREREMuj9kgNERERFidxpA9qgL1MPrl27hoCAAJw/fx4VKlSQTvD60LBoIiIion/lu+++g7m5Oa5fvw4LCwtdxykwPDxHRERE7yV3CaDbt2+jXr16cHV1zbOm4oeERRMREdFHZPPmzfDy8oJSqYStrS18fX3x/PlzNGzYUO0CvsCrC/IGBARI993c3DBp0iT07NkTVlZW6NevHxQKBaKjozFx4kQoFAqEhYUV6uspTCyaiIiIPhLx8fHo0qULevfujatXr+LgwYNo3749NFl9aNasWahSpQrOnTuH8ePHIz4+HpUqVcKIESMQHx+PkSNHFuAr0C3OaSIiIvpIxMfHIysrC+3bt4erqysAwMvLS6N9NG7cGCNGjFBrMzIygoWFxVuv2foh4EgTERHRR6JKlSpo0qQJvLy80LFjRyxbtgxPnz7VaB81atQooHT6j0UTERHRR8LQ0BCRkZHYvXs3PD09sXDhQnh4eCA2NhYGBgZ5DtO9frH7XObm5oUVV++waCIiIvqIKBQK1K1bFxMmTMC5c+dgYmKCrVu3wt7eHvHx8VK/7OxsXL58WYdJ9Q/nNBEREX0kTp48if3796Np06ZwcHDAyZMn8ejRI1SsWBHm5uYYPnw4du3ahbJly2LOnDlISkrSdWS9wqKJiIhIi/Rlle78WFlZISoqCvPmzUNKSgpcXV0xe/ZsNG/eHJmZmbhw4QJ69uwJIyMjDBs2DI0aNdJ1ZL3CoomIiOgjUbFiRUREROS7zdjYGD/88AN++OGHNz7+7t27+bZ/qJdN+SfOaSIiIiKSgUUTERERkQwsmoiIiIhkYNFEREREJAOLJiIiIiIZWDQRERERycCiiYiIiEgGFk1EREREMrBoIiIiIpKBK4ITERFpU5iqEJ8rWeu7VCgU2Lp1K9q2bfvGPgEBAUhKSsK2bdu0/vz6jCNNRERElK+7d+9CoVDkuUzK/PnzsXLlygJ//oCAgLcWb4WNI01ERESkEZWqEEfT9AhHmoiIiD4ibm5umDdvnlpb1apVERYWlqevu7s7AKBatWpQKBRo2LAhgLwjQA0bNsSgQYMwdOhQFC9eHI6Ojli2bBmeP3+OwMBAWFpaoly5cti9e7f0mOzsbAQFBcHd3R1KpRIeHh6YP3++tD0sLAyrVq3Cb7/9BoVCAYVCgYMHDwIA7t+/j06dOsHa2ho2NjZo06bNGy8mrE0smoiIiChfp06dAgDs27cP8fHx2LJlyxv7rlq1CnZ2djh16hQGDRqEAQMGoGPHjqhTpw7Onj2Lpk2bokePHkhLSwMA5OTkoFSpUti0aROuXLmC0NBQfPPNN9i4cSMAYOTIkejUqROaNWuG+Ph4xMfHo06dOsjMzISfnx8sLS1x+PBhHD16FBYWFmjWrBkyMjIK9P1g0URERET5sre3BwDY2trCyckJNjY2b+xbpUoVjBs3DuXLl8fYsWNhZmYGOzs79O3bF+XLl0doaCgeP36MixcvAgCMjY0xYcIE1KhRA+7u7ujWrRsCAwOlosnCwgJKpRKmpqZwcnKCk5MTTExMsGHDBuTk5ODHH3+El5cXKlasiBUrViAuLk4aiSoonNNERERE/1rlypWlrw0NDWFrawsvLy+pzdHREQDw8OFDqW3x4sVYvnw54uLi8OLFC2RkZKBq1apvfZ4LFy7g1q1bsLS0VGt/+fIlbt++rYVX8mYsmoiIiD4iBgYGEEKotWVmZv7r/RobG6vdVygUam0KhQLAq8NyALB+/XqMHDkSs2fPhre3NywtLTFz5kycPHnyrc+TmpqK6tWrY82aNXm25Y6MFRQWTURERB8Re3t7xMfHS/dTUlIQGxubb18TExMAryZta9vRo0dRp04dDBw4UGr750iRiYlJnuf+7LPPsGHDBjg4OMDKykrrud6Gc5qIiIg+Io0bN8bq1atx+PBhXLp0Cb169YKhoWG+fR0cHKBUKhEREYHExEQkJ2tvMc3y5cvjzJkz2LNnD27cuIHx48fj9OnTan3c3Nxw8eJFXL9+HX///TcyMzPRrVs32NnZoU2bNjh8+DBiY2Nx8OBBDB48GH/++afW8uWHI01ERETaVACrdGvT2LFjERsbi1atWkGlUmHSpElvHGkyMjLCggULMHHiRISGhqJ+/fpam2z91Vdf4dy5c+jcuTMUCgW6dOmCgQMHqi1L0LdvXxw8eBA1atRAamoq/vjjDzRs2BBRUVH4+uuv0b59ezx79gwlS5ZEkyZNCnzkSSH+eWCT3ktKSgpUKhWSk5MLfbjwY+Y2ZpesfnentSzgJET0MXn58iViY2Ph7u4OMzMzXcehd3jb90uTv988PEdEREQkA4smIiIiIhlYNBERERHJwKKJiIiISAYWTURERO+J51IVDdr6PrFoIiIi0lDuSte5F58l/Zb7ffrnquWa4jpNREREGjI0NIS1tbV0HbVixYpJlwkh/SGEQFpaGh4+fAhra+s3LuIpF4smIiKi9+Dk5ARA/QK0pJ+sra2l79e/waKJiIjoPSgUCpQoUQIODg5aueAtFQxjY+N/PcKUi0UTERHRv2BoaKi1P8qk3zgRnIiIiEgGFk1EREREMui0aIqKikLr1q3h7OwMhUKBbdu2qW0XQiA0NBQlSpSAUqmEr68vbt68qdbnyZMn6NatG6ysrGBtbY2goCCkpqaq9bl48SLq168PMzMzuLi4YMaMGXmybNq0CRUqVICZmRm8vLzw+++/a/31EhERUdGl06Lp+fPnqFKlChYvXpzv9hkzZmDBggUIDw/HyZMnYW5uDj8/P7x8+VLq061bN8TExCAyMhI7d+5EVFQU+vXrJ21PSUlB06ZN4erqiujoaMycORNhYWFYunSp1OfYsWPo0qULgoKCcO7cObRt2xZt27bF5cuXC+7FExERUZGiEHqynKlCocDWrVvRtm1bAK9GmZydnTFixAiMHDkSAJCcnAxHR0esXLkS/v7+uHr1Kjw9PXH69GnUqFEDABAREYEWLVrgzz//hLOzM5YsWYJvv/0WCQkJMDExAQCMGTMG27Ztw7Vr1wAAnTt3xvPnz7Fz504pT+3atVG1alWEh4fLyp+SkgKVSoXk5GRYWVlp622hd3Abs0tWv7vTWhZwEiIiKoo0+futt3OaYmNjkZCQAF9fX6lNpVKhVq1aOH78OADg+PHjsLa2lgomAPD19YWBgQFOnjwp9fHx8ZEKJgDw8/PD9evX8fTpU6nP68+T2yf3efKTnp6OlJQUtRsRERF9uPS2aEpISAAAODo6qrU7OjpK2xISEuDg4KC23cjICDY2Nmp98tvH68/xpj652/MzdepUqFQq6ebi4qLpSyQiIqIiRG+LJn03duxYJCcnS7f79+/rOhIREREVIL0tmnKXO09MTFRrT0xMlLY5OTnlWb4+KysLT548UeuT3z5ef4439XnbkuumpqawsrJSuxEREdGHS2+LJnd3dzg5OWH//v1SW0pKCk6ePAlvb28AgLe3N5KSkhAdHS31OXDgAHJyclCrVi2pT1RUlNoS95GRkfDw8EDx4sWlPq8/T26f3OchIiIi0mnRlJqaivPnz+P8+fMAXk3+Pn/+POLi4qBQKDB06FBMnjwZ27dvx6VLl9CzZ084OztLZ9hVrFgRzZo1Q9++fXHq1CkcPXoUISEh8Pf3h7OzMwCga9euMDExQVBQEGJiYrBhwwbMnz8fw4cPl3IMGTIEERERmD17Nq5du4awsDCcOXMGISEhhf2WEBERkZ7S6bXnzpw5g0aNGkn3cwuZXr16YeXKlRg9ejSeP3+Ofv36ISkpCfXq1UNERATMzMykx6xZswYhISFo0qQJDAwM0KFDByxYsEDarlKpsHfvXgQHB6N69eqws7NDaGio2lpOderUwdq1azFu3Dh88803KF++PLZt24ZPP/20EN4FIiIiKgr0Zp2moo7rNOkG12kiIqJ/44NYp4mIiIhIn7BoIiIiIpKBRRMRERGRDCyaiIiIiGRg0UREREQkA4smIiIiIhlYNBERERHJwKKJiIiISAYWTUREREQysGgiIiIikoFFExEREZEMLJqIiIiIZGDRRERERCQDiyYiIiIiGVg0EREREcnAoomIiIhIBhZNRERERDIY6ToAERFRUeU2ZpfsvnentSzAJFQYONJEREREJAOLJiIiIiIZWDQRERERycCiiYiIiEgGFk1EREREMrBoIiIiIpKBRRMRERGRDCyaiIiIiGRg0UREREQkA4smIiIiIhlYNBERERHJ8F7XnsvOzsa2bdtw9epVAEClSpXw5ZdfwtDQUKvhiIiIiPSFxkXTrVu30LJlS/z555/w8PAAAEydOhUuLi7YtWsXypYtq/WQRERERLqm8eG5wYMHo0yZMrh//z7Onj2Ls2fPIi4uDu7u7hg8eHBBZCQiIiLSOY1Hmg4dOoQTJ07AxsZGarO1tcW0adNQt25drYYjIiIi0hcajzSZmpri2bNnedpTU1NhYmKilVBERERE+kbjoqlVq1bo168fTp48CSEEhBA4ceIE+vfvjy+//LIgMhIRERHpnMZF04IFC1C2bFl4e3vDzMwMZmZmqFu3LsqVK4f58+cXREYiIiIindN4TpO1tTV+++033Lx5E9euXQMAVKxYEeXKldN6OCIiIiJ98V7rNAFA+fLlUb58eW1mISIiItJbsoqm4cOHY9KkSTA3N8fw4cPf2nfOnDlaCUZERESkT2QVTefOnUNmZqb09ZsoFArtpCIiIiLSM7KKpj/++CPfr4mIiIg+FrxgLxEREZEMskaa2rdvL3uHW7Zsee8wRERERPpK1kiTSqWSblZWVti/fz/OnDkjbY+Ojsb+/fuhUqkKLCgRERGRLskaaVqxYoX09ddff41OnTohPDwchoaGAIDs7GwMHDgQVlZWBZOSiIiISMc0ntO0fPlyjBw5UiqYAMDQ0BDDhw/H8uXLtRqOiIiISF9oXDRlZWVJK4G/7tq1a8jJydFKqFzZ2dkYP3483N3doVQqUbZsWUyaNAlCCKmPEAKhoaEoUaIElEolfH19cfPmTbX9PHnyBN26dYOVlRWsra0RFBSE1NRUtT4XL15E/fr1YWZmBhcXF8yYMUOrr4WIiIiKNo1XBA8MDERQUBBu376NmjVrAgBOnjyJadOmITAwUKvhpk+fjiVLlmDVqlWoVKkSzpw5g8DAQKhUKgwePBgAMGPGDCxYsACrVq2Cu7s7xo8fDz8/P1y5cgVmZmYAgG7duiE+Ph6RkZHIzMxEYGAg+vXrh7Vr1wIAUlJS0LRpU/j6+iI8PByXLl1C7969YW1tjX79+mn1NREREVHRpHHRNGvWLDg5OWH27NmIj48HAJQoUQKjRo3CiBEjtBru2LFjaNOmDVq2bAkAcHNzw7p163Dq1CkAr0aZ5s2bh3HjxqFNmzYAgJ9//hmOjo7Ytm0b/P39cfXqVUREROD06dOoUaMGAGDhwoVo0aIFZs2aBWdnZ6xZswYZGRlYvnw5TExMUKlSJZw/fx5z5sxh0UREREQA3qNoMjAwwOjRozF69GikpKQAQIFNAK9Tpw6WLl2KGzdu4JNPPsGFCxdw5MgR6VItsbGxSEhIgK+vr/QYlUqFWrVq4fjx4/D398fx48dhbW0tFUwA4OvrCwMDA5w8eRLt2rXD8ePH4ePjAxMTE6mPn58fpk+fjqdPn6J48eJ5sqWnpyM9PV26n/teEBER6Ru3Mbtk9bs7rWUBJyna3mtxy6ysLOzbtw/r1q2TLp3y4MGDPPOE/q0xY8bA398fFSpUgLGxMapVq4ahQ4eiW7duAICEhAQAgKOjo9rjHB0dpW0JCQlwcHBQ225kZAQbGxu1Pvnt4/Xn+KepU6eqLcXg4uLyL18tERER6TONR5ru3buHZs2aIS4uDunp6fjiiy9gaWmJ6dOnIz09HeHh4VoLt3HjRqxZswZr166VDpkNHToUzs7O6NWrl9ae532MHTtW7eLFKSkpLJyIiIg+YBoXTUOGDEGNGjVw4cIF2NraSu3t2rVD3759tRpu1KhR0mgTAHh5eeHevXuYOnUqevXqBScnJwBAYmIiSpQoIT0uMTERVatWBQA4OTnh4cOHavvNysrCkydPpMc7OTkhMTFRrU/u/dw+/2RqagpTU9N//yKJiIioSND48Nzhw4cxbtw4tfk/wKtJ2n/99ZfWggFAWloaDAzUIxoaGkpLG7i7u8PJyQn79++XtqekpODkyZPw9vYGAHh7eyMpKQnR0dFSnwMHDiAnJwe1atWS+kRFRSEzM1PqExkZCQ8Pj3znMxEREdHHR+OiKScnB9nZ2Xna//zzT1haWmolVK7WrVvj+++/x65du3D37l1s3boVc+bMQbt27QAACoUCQ4cOxeTJk7F9+3ZcunQJPXv2hLOzM9q2bQsAqFixIpo1a4a+ffvi1KlTOHr0KEJCQuDv7w9nZ2cAQNeuXWFiYoKgoCDExMRgw4YNmD9/vtrhNyIiIvq4aXx4rmnTppg3bx6WLl0K4FXhkpqaiu+++w4tWrTQariFCxdi/PjxGDhwIB4+fAhnZ2d89dVXCA0NlfqMHj0az58/R79+/ZCUlIR69eohIiJCWqMJANasWYOQkBA0adIEBgYG6NChAxYsWCBtV6lU2Lt3L4KDg1G9enXY2dkhNDSUyw0QERGRRCFeX15bhj///BN+fn4QQuDmzZuoUaMGbt68CTs7O0RFReU5U+1jkZKSApVKheTkZF6DrxDxNFoi0iW5v4MA3f4e4u/KN9Pk77fGI02lSpXChQsXsH79ely8eBGpqakICgpCt27doFQq3zs0ERERkT7TuGgCXq1z1L17d21nISIiItJb71U0PXjwAEeOHMHDhw/zXKQ395pwRERERB8SjYumlStX4quvvoKJiQlsbW2lFcGBV5PCWTQRERHRh0jjomn8+PEIDQ3F2LFj86yhRERERPSh0rjqSUtLg7+/PwsmIiIi+qhoXPkEBQVh06ZNBZGFiIiISG9pfHhu6tSpaNWqFSIiIuDl5QVjY2O17XPmzNFaOCIiIiJ98V5F0549e+Dh4QEAeSaCExEREX2INC6aZs+ejeXLlyMgIKAA4hARERHpJ43nNJmamqJu3boFkYWIiIhIb2lcNA0ZMgQLFy4siCxEREREekvjw3OnTp3CgQMHsHPnTlSqVCnPRPAtW7ZoLRwRERGRvtC4aLK2tkb79u0LIgsRERGR3tK4aFqxYkVB5CAiIiLSa+91wV4AePToEa5fvw4A8PDwgL29vdZCEREREekbjSeCP3/+HL1790aJEiXg4+MDHx8fODs7IygoCGlpaQWRkYiIiEjnNC6ahg8fjkOHDmHHjh1ISkpCUlISfvvtNxw6dAgjRowoiIxEREREOqfx4blff/0VmzdvRsOGDaW2Fi1aQKlUolOnTliyZIk28xERERHpBY1HmtLS0uDo6Jin3cHBgYfniIiI6IOlcdHk7e2N7777Di9fvpTaXrx4gQkTJsDb21ur4YiIiIj0hcaH5+bNm4dmzZqhVKlSqFKlCgDgwoULMDMzw549e7QekIiIiEgfaFw0eXl54ebNm1izZg2uXbsGAOjSpQu6desGpVKp9YBERERE+kCjoikzMxMVKlTAzp070bdv34LKRERERKR3NJrTZGxsrDaXiYiIiOhjofFE8ODgYEyfPh1ZWVkFkYeIiIhIL2k8p+n06dPYv38/9u7dCy8vL5ibm6tt37Jli9bCEREREekLjYsma2trdOjQoSCyEBWcMJUGfZMLLgcRERVZGhdNK1asKIgcRERERHpN9pymnJwcTJ8+HXXr1sXnn3+OMWPG4MWLFwWZjYiIiEhvyC6avv/+e3zzzTewsLBAyZIlMX/+fAQHBxdkNiIiIiK9Ibto+vnnn/HDDz9gz5492LZtG3bs2IE1a9YgJyenIPMRERER6QXZRVNcXBxatGgh3ff19YVCocCDBw8KJBgRERGRPpFdNGVlZcHMzEytzdjYGJmZmVoPRURERKRvZJ89J4RAQEAATE1NpbaXL1+if//+ams1cZ0mIiIi+hDJLpp69eqVp6179+5aDUNERESkr2QXTVyfiYiIiD5mGl97joiIiOhjxKKJiIiISAYWTUREREQysGgiIiIikoFFExEREZEMGhdNq1atwq5du6T7o0ePhrW1NerUqYN79+5pNRwRERGRvtC4aJoyZQqUSiUA4Pjx41i8eDFmzJgBOzs7DBs2TOsBiYiIiPSB7HWact2/fx/lypUDAGzbtg0dOnRAv379ULduXTRs2FDb+YiIiIj0gsYjTRYWFnj8+DEAYO/evfjiiy8AAGZmZnjx4oV20xERERHpCY2Lpi+++AJ9+vRBnz59cOPGDbRo0QIAEBMTAzc3N23nw19//YXu3bvD1tYWSqUSXl5eOHPmjLRdCIHQ0FCUKFECSqUSvr6+uHnzpto+njx5gm7dusHKygrW1tYICgpCamqqWp+LFy+ifv36MDMzg4uLC2bMmKH110JERERFl8ZF0+LFi+Ht7Y1Hjx7h119/ha2tLQAgOjoaXbp00Wq4p0+fom7dujA2Nsbu3btx5coVzJ49G8WLF5f6zJgxAwsWLEB4eDhOnjwJc3Nz+Pn54eXLl1Kfbt26ISYmBpGRkdi5cyeioqLQr18/aXtKSgqaNm0KV1dXREdHY+bMmQgLC8PSpUu1+nqIiIio6NJ4TpO1tTUWLVqUp33ChAlaCfS66dOnw8XFRe26d+7u7tLXQgjMmzcP48aNQ5s2bQAAP//8MxwdHbFt2zb4+/vj6tWriIiIwOnTp1GjRg0AwMKFC9GiRQvMmjULzs7OWLNmDTIyMrB8+XKYmJigUqVKOH/+PObMmaNWXBEREdHH673WaTp8+DC6d++OOnXq4K+//gIArF69GkeOHNFquO3bt6NGjRro2LEjHBwcUK1aNSxbtkzaHhsbi4SEBPj6+kptKpUKtWrVwvHjxwG8OsPP2tpaKpgAwNfXFwYGBjh58qTUx8fHByYmJlIfPz8/XL9+HU+fPs03W3p6OlJSUtRuRERE9OHSuGj69ddf4efnB6VSibNnzyI9PR0AkJycjClTpmg13J07d7BkyRKUL18ee/bswYABAzB48GCsWrUKAJCQkAAAcHR0VHuco6OjtC0hIQEODg5q242MjGBjY6PWJ799vP4c/zR16lSoVCrp5uLi8i9fLREREekzjQ/PTZ48GeHh4ejZsyfWr18vtdetWxeTJ0/WaricnBzUqFFDKsaqVauGy5cvIzw8HL169dLqc2lq7NixGD58uHQ/JSWFhRMREdF7chuz692dANyd1rKAk7yZxiNN169fh4+PT552lUqFpKQkbWSSlChRAp6enmptFStWRFxcHADAyckJAJCYmKjWJzExUdrm5OSEhw8fqm3PysrCkydP1Prkt4/Xn+OfTE1NYWVlpXYjIiKiD5fGRZOTkxNu3bqVp/3IkSMoU6aMVkLlqlu3Lq5fv67WduPGDbi6ugJ4NSncyckJ+/fvl7anpKTg5MmT8Pb2BgB4e3sjKSkJ0dHRUp8DBw4gJycHtWrVkvpERUUhMzNT6hMZGQkPDw+1M/WIiIjo46Vx0dS3b18MGTIEJ0+ehEKhwIMHD7BmzRqMHDkSAwYM0Gq4YcOG4cSJE5gyZQpu3bqFtWvXYunSpQgODgYAKBQKDB06FJMnT8b27dtx6dIl9OzZE87Ozmjbti2AVyNTzZo1Q9++fXHq1CkcPXoUISEh8Pf3h7OzMwCga9euMDExQVBQEGJiYrBhwwbMnz9f7fAbERERfdw0ntM0ZswY5OTkoEmTJkhLS4OPjw9MTU0xcuRIDBo0SKvhPv/8c2zduhVjx47FxIkT4e7ujnnz5qFbt25Sn9GjR+P58+fo168fkpKSUK9ePURERMDMzEzqs2bNGoSEhKBJkyYwMDBAhw4dsGDBAmm7SqXC3r17ERwcjOrVq8POzg6hoaFcboCIiIgkCiGEeJ8HZmRk4NatW0hNTYWnpycsLCy0na1ISUlJgUqlQnJyMuc3FSLZEwfNusrfaVjye6Yhoo+N3N9BgG4nMBeFSda6yqjJ32+NR5pymZiY5JmkTURERPShklU0tW/fHitXroSVlRXat2//1r4WFhaoVKkS+vfvD5VKpZWQRERERLomq2hSqVRQKBTS12+Tnp6O8PBwHD16FNu3b//3CYmIiIj0gKyi6fVrv73+9ZtcuXIFn3/++funIiIiItIz73XtuXfx8PDAsWPHCmLXRERERDrxXhPBz5w5g40bNyIuLg4ZGRlq27Zs2QJDQ0NUqVJFKwGJiIiI9IHGI03r169HnTp1cPXqVWzduhWZmZmIiYnBgQMHOPGbiIiIPlgaF01TpkzB3LlzsWPHDpiYmGD+/Pm4du0aOnXqhNKlSxdERiIiIiKd07houn37Nlq2fLWwlImJCZ4/fw6FQoFhw4Zh6dKlWg9IREREpA80LpqKFy+OZ8+eAQBKliyJy5cvAwCSkpKQlpam3XREREREekLjieA+Pj6IjIyEl5cXOnbsiCFDhuDAgQOIjIxEkyZNCiIjERERkc5pXDQtWrQIL1++BAB8++23MDY2xrFjx9ChQweMGzdO6wGJiIiI9IHGRZONjY30tYGBAcaMGaPVQERERET6SOM5TWfPnsWlS5ek+7/99hvatm2Lb775Js+aTUREREQfCo2Lpq+++go3btwAANy5cwedO3dGsWLFsGnTJowePVrrAYmIiIj0gcZF040bN1C1alUAwKZNm9CgQQOsXbsWK1euxK+//qrtfERERER6QeOiSQiBnJwcAMC+ffvQokULAICLiwv+/vtv7aYjIiIi0hMaF001atTA5MmTsXr1ahw6dEha6DI2NhaOjo5aD0hERESkDzQumubNm4ezZ88iJCQE3377LcqVKwcA2Lx5M+rUqaP1gERERET6QOMlBypXrqx29lyumTNnwtDQUCuhiIiIiPSNxkVTroyMDDx8+FCa35SLF+0lIiKiD5HGRdONGzcQFBSEY8eOqbULIaBQKJCdna21cERERET6QuOiKTAwEEZGRti5cydKlCgBhUJRELmIiIiI9IrGRdP58+cRHR2NChUqFEQeIiIiIr2k8dlznp6eXI+JiIiIPjoajzRNnz4do0ePxpQpU+Dl5QVjY2O17VZWVloLR0RE9MEIU8nsl1ywOei9aVw0+fr6AgCaNGmi1s6J4ERERPQh07ho+uOPPwoiBxEREZFe07hoatCgQUHkICIiItJrGk8EB4DDhw+je/fuqFOnDv766y8AwOrVq3HkyBGthiMiIiLSFxoXTb/++iv8/PygVCpx9uxZpKenAwCSk5MxZcoUrQckIiIi0gcaF02TJ09GeHg4li1bpnbmXN26dXH27FmthiMiIiLSFxrPabp+/Tp8fHzytKtUKiQlJWkjE+kJtzG7ZPW7O61lASchIiLSPY1HmpycnHDr1q087UeOHEGZMmW0EoqIiIhI32hcNPXt2xdDhgzByZMnoVAo8ODBA6xZswYjR47EgAEDCiIjERERkc5pfHhuzJgxyMnJQZMmTZCWlgYfHx+Ymppi5MiRGDRoUEFkJCIiItI5jYsmhUKBb7/9FqNGjcKtW7eQmpoKT09PWFhYFEQ+IiIiIr2gcdGUy8TEBJ6entrMQkRERKS3ZBdNvXv3ltVv+fLl7x2GiIiISF/JLppWrlwJV1dXVKtWDUKIgsxEREREpHdkF00DBgzAunXrEBsbi8DAQHTv3h02NjYFmY2IiIhIb8hecmDx4sWIj4/H6NGjsWPHDri4uKBTp07Ys2cPR56IiIjog6fROk2mpqbo0qULIiMjceXKFVSqVAkDBw6Em5sbUlNTCyojERERkc5pvLil9EADAygUCgghkJ2drc1MRERERHpHo6IpPT0d69atwxdffIFPPvkEly5dwqJFixAXF8d1moiIiOiDJnsi+MCBA7F+/Xq4uLigd+/eWLduHezs7AoyGxERERWmMJXMfskFm0NPyS6awsPDUbp0aZQpUwaHDh3CoUOH8u23ZcsWrYUjIiIi0heyD8/17NkTjRo1grW1NVQq1RtvBWnatGlQKBQYOnSo1Pby5UsEBwfD1tYWFhYW6NChAxITE9UeFxcXh5YtW6JYsWJwcHDAqFGjkJWVpdbn4MGD+Oyzz2Bqaopy5cph5cqVBfpaiIiIqGjRaHFLXTp9+jT++9//onLlymrtw4YNw65du7Bp0yaoVCqEhISgffv2OHr0KAAgOzsbLVu2hJOTE44dO4b4+Hj07NkTxsbGmDJlCgAgNjYWLVu2RP/+/bFmzRrs378fffr0QYkSJeDn51for5WIiIj0z3ufPVeYUlNT0a1bNyxbtgzFixeX2pOTk/HTTz9hzpw5aNy4MapXr44VK1bg2LFjOHHiBABg7969uHLlCn755RdUrVoVzZs3x6RJk7B48WJkZGQAeHXo0d3dHbNnz0bFihUREhKC//znP5g7d65OXi8RERHpnyJRNAUHB6Nly5bw9fVVa4+OjkZmZqZae4UKFVC6dGkcP34cAHD8+HF4eXnB0dFR6uPn54eUlBTExMRIff65bz8/P2kf+UlPT0dKSorajYiIiD5csg/P6cr69etx9uxZnD59Os+2hIQEmJiYwNraWq3d0dERCQkJUp/XC6bc7bnb3tYnJSUFL168gFKpzPPcU6dOxYQJE977dREREVHRotcjTffv38eQIUOwZs0amJmZ6TqOmrFjxyI5OVm63b9/X9eRiIiIqADpddEUHR2Nhw8f4rPPPoORkRGMjIxw6NAhLFiwAEZGRnB0dERGRgaSkpLUHpeYmAgnJycAgJOTU56z6XLvv6uPlZVVvqNMwKtLylhZWandiIiI6MOl10VTkyZNcOnSJZw/f1661ahRA926dZO+NjY2xv79+6XHXL9+HXFxcfD29gYAeHt749KlS3j48KHUJzIyElZWVvD09JT6vL6P3D65+yAiIiLS6zlNlpaW+PTTT9XazM3NYWtrK7UHBQVh+PDhsLGxgZWVFQYNGgRvb2/Url0bANC0aVN4enqiR48emDFjBhISEjBu3DgEBwfD1NQUANC/f38sWrQIo0ePRu/evXHgwAFs3LgRu3btKtwXTERERHpLr4smOebOnQsDAwN06NAB6enp8PPzww8//CBtNzQ0xM6dOzFgwAB4e3vD3NwcvXr1wsSJE6U+7u7u2LVrF4YNG4b58+ejVKlS+PHHH7lGExEREUmKXNF08OBBtftmZmZYvHgxFi9e/MbHuLq64vfff3/rfhs2bIhz585pIyIRERF9gPR6ThMRERGRvmDRRERERCQDiyYiIiIiGVg0EREREcnAoomIiIhIBhZNRERERDKwaCIiIiKSgUUTERERkQwsmoiIiIhkYNFEREREJAOLJiIiIiIZWDQRERERycCiiYiIiEgGFk1EREREMhjpOgARkVxuY3bJ6nd3WssCTkJEOhOm0qBvslafmiNNRERERDKwaCIiIiKSgUUTERERkQwsmoiIiIhkYNFEREREJAOLJiIiIiIZWDQRERERycCiiYiIiEgGFk1EREREMrBoIiIiIpKBRRMRERGRDCyaiIiIiGRg0UREREQkA4smIiIiIhmMdB2APgBhKpn9kgs2BxERUQHiSBMRERGRDCyaiIiIiGRg0UREREQkA4smIiIiIhlYNBERERHJwKKJiIiISAYWTUREREQycJ0mIiItchuzS3bfu9NaFmASItI2jjQRERERycCiiYiIiEgGFk1EREREMrBoIiIiIpKBRRMRERGRDCyaiIiIiGRg0UREREQkA4smIiIiIhn0umiaOnUqPv/8c1haWsLBwQFt27bF9evX1fq8fPkSwcHBsLW1hYWFBTp06IDExES1PnFxcWjZsiWKFSsGBwcHjBo1CllZWWp9Dh48iM8++wympqYoV64cVq5cWdAvj4iIiIoQvS6aDh06hODgYJw4cQKRkZHIzMxE06ZN8fz5c6nPsGHDsGPHDmzatAmHDh3CgwcP0L59e2l7dnY2WrZsiYyMDBw7dgyrVq3CypUrERoaKvWJjY1Fy5Yt0ahRI5w/fx5Dhw5Fnz59sGfPnkJ9vURERKS/9PoyKhEREWr3V65cCQcHB0RHR8PHxwfJycn46aefsHbtWjRu3BgAsGLFClSsWBEnTpxA7dq1sXfvXly5cgX79u2Do6MjqlatikmTJuHrr79GWFgYTExMEB4eDnd3d8yePRsAULFiRRw5cgRz586Fn59fob9uIiIi0j96PdL0T8nJyQAAGxsbAEB0dDQyMzPh6+sr9alQoQJKly6N48ePAwCOHz8OLy8vODo6Sn38/PyQkpKCmJgYqc/r+8jtk7uP/KSnpyMlJUXtRkRERB+uIlM05eTkYOjQoahbty4+/fRTAEBCQgJMTExgbW2t1tfR0REJCQlSn9cLptztudve1iclJQUvXrzIN8/UqVOhUqmkm4uLy79+jURERKS/ikzRFBwcjMuXL2P9+vW6jgIAGDt2LJKTk6Xb/fv3dR2JiIiICpBez2nKFRISgp07dyIqKgqlSpWS2p2cnJCRkYGkpCS10abExEQ4OTlJfU6dOqW2v9yz617v888z7hITE2FlZQWlUplvJlNTU5iamv7r10ZEBSBMpUHf5ILLQUQfFL0eaRJCICQkBFu3bsWBAwfg7u6utr169eowNjbG/v37pbbr168jLi4O3t7eAABvb29cunQJDx8+lPpERkbCysoKnp6eUp/X95HbJ3cfRERERHo90hQcHIy1a9fit99+g6WlpTQHSaVSQalUQqVSISgoCMOHD4eNjQ2srKwwaNAgeHt7o3bt2gCApk2bwtPTEz169MCMGTOQkJCAcePGITg4WBop6t+/PxYtWoTRo0ejd+/eOHDgADZu3Ihdu3bp7LUTEX3s3MbI+x18d1rLAk5C9IpejzQtWbIEycnJaNiwIUqUKCHdNmzYIPWZO3cuWrVqhQ4dOsDHxwdOTk7YsmWLtN3Q0BA7d+6EoaEhvL290b17d/Ts2RMTJ06U+ri7u2PXrl2IjIxElSpVMHv2bPz4449cboCIiIgkej3SJIR4Zx8zMzMsXrwYixcvfmMfV1dX/P7772/dT8OGDXHu3DmNMxIREdHHQa9HmoiIiIj0BYsmIiIiIhlYNBERERHJwKKJiIiISAYWTUREREQysGgiIiIikoFFExEREZEMLJqIiIiIZGDRRERERCQDiyYiIiIiGVg0EREREcmg19eeIyL6oIWpZPZLLtgcRCQLR5qIiIiIZGDRRERERCQDiyYiIiIiGVg0EREREcnAoomIiIhIBhZNRERERDKwaCIiIiKSgUUTERERkQwsmoiIiIhkYNFEREREJAOLJiIiIiIZWDQRERERycAL9hIRUdEm98LHAC9+TP8KiyYdcBuzS3bfu9NaFmASIiIikouH54iIiIhkYNFEREREJAOLJiIiIiIZWDQRERERycCiiYiIiEgGFk1EREREMrBoIiIiIpKBRRMRERGRDCyaiIiIiGRg0UREREQkA4smIiIiIhl47Tl9J/dClLwIJRERUYHiSBMRERGRDCyaiIiIiGTg4Tkioo+Q25hdsvrdndaygJMQFR0caSIiIiKSgUUTERERkQw8PEdERG/GM3iJJBxpIiIiIpKBRRMRERGRDDw89w+LFy/GzJkzkZCQgCpVqmDhwoWoWbOmrmPRx4KHQoiI9BaLptds2LABw4cPR3h4OGrVqoV58+bBz88P169fh4ODg67jUREl99RuALhrVoBBiIjoX+HhudfMmTMHffv2RWBgIDw9PREeHo5ixYph+fLluo5GREREOsaRpv+XkZGB6OhojB07VmozMDCAr68vjh8/nqd/eno60tPTpfvJya8Ol6SkpLzzuXLS02TnSlEImR3f/byakpvzg8oIaD1nUfl+yza1lLx+Y//U+lPz+609/PnWDn6/tUdX3+/cv9tCyNivICGEEH/99ZcAII4dO6bWPmrUKFGzZs08/b/77jsBgDfeeOONN954+wBu9+/ff2etwJGm9zR27FgMHz5cup+Tk4MnT57A1tYWCoVCK8+RkpICFxcX3L9/H1ZWVlrZp7Yxo/YUhZzMqD1FISczak9RyPmxZhRC4NmzZ3B2dn5nXxZN/8/Ozg6GhoZITExUa09MTISTk1Oe/qampjA1NVVrs7a2LpBsVlZWevsBzsWM2lMUcjKj9hSFnMyoPUUh58eYUaVSyerHieD/z8TEBNWrV8f+/fultpycHOzfvx/e3t46TEZERET6gCNNrxk+fDh69eqFGjVqoGbNmpg3bx6eP3+OwMBAXUcjIiIiHWPR9JrOnTvj0aNHCA0NRUJCAqpWrYqIiAg4OjrqJI+pqSm+++67PIcB9Qkzak9RyMmM2lMUcjKj9hSFnMz4bgoh5JxjR0RERPRx45wmIiIiIhlYNBERERHJwKKJiIiISAYWTUREREQysGgiIiIikoFLDuiR7OxsHD16FJUrVy6w1cWJNJWTk4Nbt27h4cOHyMnJUdvm4+Ojk0zbt2+X3ffLL78swCSaSUpKwqlTp/J9L3v27KmjVPQxi4qKQp06dWBkpF4OZGVl4dixYzr7GddXXHJAz5iZmeHq1atwd3fXdZQiLTk5GdnZ2bCxsVFrf/LkCYyMjPTmEgHZ2dnYunUrrl69CgCoWLEi2rZtm+cXmK6cOHECXbt2xb179/JcAVyhUCA7O1snuQwM5A2S6zLjP+3YsQPdunVDamoqrKys1K5RqVAo8OTJEx2mo4+VoaEh4uPj4eDgoNb++PFjODg46M3Pz9OnT/HTTz+p/a7s3bt3nt/xBY2H5/TMp59+ijt37ug6xlsVL14cNjY2eW62trYoWbIkGjRogBUrVug0o7+/P9avX5+nfePGjfD399dBorxiYmLwySefoFevXti6dSu2bt2KgIAAlC9fHpcvX9Z1PABA//79UaNGDVy+fBlPnjzB06dPpZsu/8jn5OTIuunLL3wAGDFiBHr37o3U1FQkJSXpzXv5uszMTJQtW1b6w6TPGjRogJ9//hkvXrzQdZQ3KleuHMLCwnDjxg1dR3kjIUS+F5l//PgxzM3NdZAor6ioKLi7u2PBggXSz8zChQvh7u6OqKioQs3CkSY9ExERgbFjx2LSpEmoXr16ng+tPoyQzJ07F99//z2aN2+OmjVrAgBOnTqFiIgIDBs2DLGxsVi9ejUWLlyIvn376iSjjY0Njh49iooVK6q1X7t2DXXr1sXjx491kut13t7esLe3x6pVq1C8eHEAr/6bCggIwKNHj3Ds2DEdJwTMzc1x4cIFlCtXTtdRijxzc3NcunQJZcqU0XWUtypZsiT27duX52dH3wwdOhRr165Feno6OnXqhKCgINSuXVvXsdTMnTsXa9euxdmzZ/HZZ5+he/fu6Ny5c74XgS9s7du3BwD89ttvaNasmdoK29nZ2bh48SI8PDwQERGhq4gSLy8veHt7Y8mSJTA0NATwKuPAgQNx7NgxXLp0qdCysGjSM68fdni9+s/9b0Af/nPu0KEDvvjiC/Tv31+t/b///S/27t2LX3/9FQsXLsTSpUsL9cP8OnNzc5w4cQJeXl5q7ZcuXUKtWrWQlpamk1yvUyqVOHPmDCpVqqTWfvnyZXz++ed68R9048aNMXr0aDRr1kzXUd5o4sSJb90eGhpaSEnern379vD390enTp10HeWtpkyZghs3buDHH3/Um8PEb5KVlYXt27dj1apV2L17N8qVK4fevXujR48eOrv8VX5u3LiBNWvWYN26dYiNjUWjRo3QvXt3nc5jy72m6qpVq9CpUycolUppm4mJCdzc3NC3b1/Y2dnpKqJEqVTi/Pnz8PDwUGu/fv06qlatWqi/K1k06ZlDhw69dXuDBg0KKcmbWVhY4Pz583lGH27duoWqVasiNTUVt2/fRuXKlfH8+XOdZGzUqBE+/fRTLFy4UK09ODgYFy9exOHDh3WS63VVqlTB3Llz0bhxY7X2AwcOYMiQITorOF+3detWjBs3DqNGjYKXlxeMjY3VtleuXFlHyf6nWrVqavczMzMRGxsLIyMjlC1bFmfPntVRMnU//fQTJk6ciMDAwHzfS32ZsN6uXTvs378fFhYW8PLyyjPavWXLFh0le7uHDx9i6dKl+P7775GdnY0WLVpg8ODBeX6+dO3EiRMYMGAALl68qBf/BE+YMAGjRo1CsWLFdB3ljerWrYtRo0ahbdu2au3btm3DtGnTcOLEiULLot//RnyE9KEoehcbGxvs2LEDw4YNU2vfsWOHNCnv+fPnsLS01EU8AMDkyZPh6+uLCxcuoEmTJgCA/fv34/Tp09i7d6/OcqWkpEhfT506FYMHD0ZYWJh0WOHEiROYOHEipk+frquIajp06AAA6N27t9SmUCj0auTz3LlzedpSUlIQEBCAdu3a6SBR/nIPVec3MqYv7yUAWFtbS9/3ouLUqVNYsWIF1q9fDwcHBwQEBOCvv/5Cq1atMHDgQMyaNUvXEXHq1CmsXbsWGzZsQEpKCjp27KjrSABenbX5119/oXz58mrtN2/ehLGxMdzc3HQT7DWDBw/GkCFDcOvWLbXflYsXL8a0adNw8eJFqW9B/yPHkSY99M+zBDw9PREYGFjoZwm8ybJlyzBgwAC0aNFCmtN0+vRp/P777wgPD0dQUBBmz56NU6dOYcOGDTrLef78ecyYMQMXLlyAUqlE5cqVMXbs2Dy/HAqTgYFBnsOuwP8Oxb5+Xx/+iN67d++t211dXQspieYuXbqE1q1b4+7du7qOQgXg4cOHWL16NVasWIGbN2+idevW6NOnD/z8/KSfpyNHjqBZs2ZITU3VScZ/HpZr3LgxunXrhvbt28PCwkInmf6pQYMG6N27N3r16qXW/ssvv+DHH3/EwYMHdRPsNe86W7Yw/5Fj0aRnoqKi0Lp1a6hUKtSoUQMAEB0djaSkJOzYsUNv1sw4evQoFi1ahOvXrwMAPDw8MGjQINSpU0fHyfTbuw6/vq4ojDrqsyNHjqB169Z4+vSprqNQATAxMUHZsmXRu3dvBAQEwN7ePk+flJQUtGnTBn/88YcOEr76Y//555+ja9eu8Pf316t5VrmsrKxw9uzZfKdb1KhRA0lJSboJ9pp3/fP2uoL+R45Fk57Rp7MEirrbt29jxYoVuHPnDubNmwcHBwfs3r0bpUuXzjP5mt7uypUriIuLQ0ZGhlq7PszDWbBggdp9IQTi4+OxevVqNGjQAGvXrtVRMnVFZcI6AGzevBkbN27M93uuL3PEDh8+jPr16+s6xlvdvHlTpyPbcqhUKhw8eDDP3MDo6Gg0bNgQz54901Ey/cSiSc/o01kCbxIXF/fW7aVLly6kJG926NAhNG/eHHXr1kVUVBSuXr2KMmXKYNq0aThz5gw2b96s64gAXv3i/+9//4s7d+5g06ZNKFmyJFavXg13d3fUq1dP1/Fw584dtGvXDpcuXZKGwIH/HU7Uh0OI/1wI1sDAAPb29mjcuDHGjh2r07l1rysqE9YXLFiAb7/9FgEBAVi6dCkCAwNx+/ZtnD59GsHBwfj+++91HbHIiY6OVptu8dlnn+k40f+0bt0aSqUS69atU/tHvXPnznj+/Dl2796t44SvrF69GuHh4YiNjcXx48fh6uqKefPmwd3dHW3atCm8IIL0Sp06dcTWrVvztG/dulXUqlWr8APlQ6FQCAMDgzfe9EHt2rXF7NmzhRBCWFhYiNu3bwshhDh58qQoWbKkLqNJNm/eLJRKpejTp48wNTWVMi5cuFA0b95cx+leadWqlWjTpo149OiRsLCwEFeuXBGHDx8WNWvWFFFRUbqOV+QlJyeLdu3aiZ9//lnXUSQeHh5i7dq1Qgj1n53x48eL4OBgXUbLY9OmTaJjx46iVq1aolq1amo3fZCYmCgaNmwoFAqFKF68uChevLhQKBSicePG4uHDh7qOJ4QQIiYmRtja2oqyZcuKgIAAERAQIMqWLSvs7e3FpUuXdB1PCCHEDz/8IOzs7MTkyZOFUqmUPpMrVqwQDRs2LNQsLJr0zPr160Xp0qXFzJkzxeHDh8Xhw4fFzJkzhZubm1i/fr24cOGCdNOV8+fPq91Onz4tli5dKipUqCB+/fVXneV6nbm5ubhz544QQv0Xf2xsrDA1NdVlNEnVqlXFqlWrhBDqGc+ePSscHR11GU1ia2srfdasrKzEtWvXhBBC7N+/X1StWlVnudq1ayeSk5Olr99269Gjh5g2bZpISkrSWd63uXjxonB1ddV1DIlSqRR3794VQghhb28vzp8/L4QQ4saNG8LGxkaX0dTMnz9fWFhYiJCQEGFiYiK++uor4evrK1Qqlfjmm290HU8IIUSnTp1EjRo1xJUrV6S2mJgYUaNGDeHv76/DZOr++usv8c0334gWLVqIDh06iAkTJojHjx/rOpakYsWK0mDC678rL126JGxtbQs1C5cc0DNdunQBAIwePTrfbfpwuneVKlXytNWoUQPOzs6YOXOmtNKsLllbWyM+Pj7PoZtz586hZMmSOkql7vr16/lO7FepVHox+RJ4NUyfe3jLzs4ODx48gIeHB1xdXaWTAHRBpVJJhwhVKtVb+6anpyM8PBxHjx7V6EK/hSU5ORnJycm6jiFxcnLCkydP4OrqitKlS+PEiROoUqUKYmNj81x/UJd++OEHLF26FF26dMHKlSsxevRolClTBqGhoXpzWZqIiIg8q6t7enpi8eLFaNq0qQ6TqStWrBhsbGxQokQJAK/W4ss9VKcPYmNj8xzeBgBTU9NCXwuQRZOeiY2N1XWE9+bh4YHTp0/rOgaAV9ee+/rrr7Fp0yYoFArk5OTg6NGjGDlypN5cTd7JyQm3bt3Ksw7KkSNH9OZSG59++ikuXLgAd3d31KpVCzNmzICJiQmWLl2q04yvX9tQznUOr1y5gs8//7wgI73T2yasN2/eXEep8mrcuDG2b9+OatWqITAwEMOGDcPmzZtx5swZvfiHKFdcXJx0tq5SqZQmLPfo0QO1a9fGokWLdBkPwKtrJP5zEVMAMDY2Rk5Ojg4S5XXmzBn4+flBqVRKS8jMnTsXU6ZMwd69e/Vi/pW7uzvOnz+f58y4iIiIwr/cT6GOa5FsMTExYvfu3eK3336Tbtu3b9d1LCHEq3kYr9+SkpLE1atXRefOnUWVKlV0HU8IIUR6erro06ePMDIyEgqFQhgbGwuFQiG6d+8usrKydB1PCCHElClThKenpzhx4oSwtLQUhw8fFr/88ouwt7cXCxYs0HU8IYQQERER0iHXGzduCA8PD6FQKISdnZ3Yt2+fjtPJl5WVJR1m0hU3Nze1W5kyZUStWrXE2LFjRUpKik6zvS47O1tkZmZK99evXy8GDRokFixYIDIyMnSYTJ27u7s4e/asEEKI6tWri/DwcCGEEHv27BHFixfXZTTJl19+KXx8fMRff/0ltf3555+iQYMGom3btjpM9j/16tUTAQEBat/zzMxM0atXL1G/fn0dJvufZcuWiZIlS4r169cLc3NzsW7dOjF58mTp68LEoknP3L59W1SuXFmabK1QKNQmXuuD/CaCKxQKUbp0aXHs2DFdx1MTFxcndu3aJTZs2CBu3Lih6zjiwoULIjs7W7qf+4Of+302MzMT48aN02HCd3v8+LHIycnRdQwqQC9evBAnT54UO3bs0Mt/3IQQIigoSISFhQkhhFi0aJFQKpXC19dXWFtbi969e+s43StxcXGiatWqwtjYWJQpU0aUKVNGGBkZiWrVqon79+/rOp4QQggzMzNx9erVPO0xMTFCqVTqIFH+fvnlF1GuXDnpd2WpUqXEjz/+WOg5uOSAnmndujUMDQ3x448/wt3dHSdPnsSTJ08wYsQIzJo1Sy/WJfnnAo25p3iXK1dOpxf4HD58uOy+c+bMKcAkb2ZoaIj4+Hg4ODigTJkyOH36NCwtLXHr1i2kpqbC09NT5ysFt2/fHitXroSVldU7D8dYWFigUqVK6N+//zvnFn2MiuJ7GRERgR49euDx48d5tunLSvXAq0NfOTk50u+cDRs24OjRoyhfvjz69++f72ExXRBCYP/+/dKSAxUrVoSvr6+OU/2Po6MjVq9enWeO1Z49e9CzZ08kJibqKNn/vHjxAkIIFCtWDGlpabh8+TKOHj0KT09P+Pn5FWoWzmnSM8ePH8eBAwdgZ2cHAwMDGBoaol69etJ1yvK7zlZhy12p+vUFD58+fYobN24A0N2Ch/98b86ePYusrCxpzasbN27A0NAQ1atX10U8AK8mqMfGxsLBwQF3795FTk4OTExM4OnpqbNM//QhTbLWtaL4Xg4aNAidOnVCaGioXq5gncvAwAAZGRk4e/YsHj58CKVSKRUjERERaN26tY4TvnLgwAEcOHAADx8+RE5ODs6dOyctuLp8+XIdpwM6d+6MoKAgzJo1S5ojdvToUYwaNUo6MUnX2rRpg/bt26N///7IyMjAl19+CWNjY/z999+YM2cOBgwYUHhhCn1si97K2tpaOlW+TJky4sCBA0IIIW7duqU3Q6W3b98WVapU0etDiLNnzxatW7cWT548kdqePHki2rRpI2bNmqWzXH379hWmpqbCzc1NGBgYiNKlSwt3d/d8b0VFTEyMKFasmK5jfBD04b20tLQUt27d0mkGOXbv3i3s7Oyk3z+v3/Tl91BYWJgwMDAQNWvWFG3atBFt27ZVu+mD9PR0MXjwYGFiYiL9Djc1NRVDhw4VL1++1HU8IcSrpU8uX74shHg1v6ly5coiOztbbNy4UVSoUKFQs/DwnJ6pX78+RowYgbZt26Jr1654+vQpxo0bh6VLlyI6OhqXL1/WdcQicQixZMmS2Lt3b57LpVy+fBlNmzbFgwcPdJTs1X/Bt27dwuDBgzFx4sQ3rlg9ZMiQQk72frKzs3H58uV8l6IgzejDe9m7d2/UrVsXQUFBOssgR/ny5dG0aVO9HhErUaIEZsyYgR49eug6yjulpaXh9u3bAICyZcuiWLFiOk70P8WKFcO1a9dQunRpdOrUCZUqVcJ3332H+/fvw8PDA2lpaYWWhYfn9My4ceOkdScmTpyIVq1aoX79+rC1tcWGDRt0nO6VonAIMSUlBY8ePcrT/ujRI51fS6lZs2YAXl1aYciQIXpzmY/3ZWhoyIJJS/ThvVy0aBE6duyIw4cPw8vLK8/coMGDB+sombrExEQMHz5cbwsmAMjIyCgyFzEvVqwYvLy8dB0jX+XKlcO2bdvQrl077NmzB8OGDQMAPHz4EFZWVoWahSNNRcCTJ09QvHhxaW6ErhUvXhxnz56Fu7s7ypYtix9//BGNGjXC7du34eXlVahV/5v07NkThw8fxuzZs6W1R06ePIlRo0ahfv36WLVqlY4TEumnn376Cf3794eZmRlsbW3Vfu8oFArcuXNHh+n+pyiMiH399dewsLDA+PHjdR2lSNu8eTO6du2K7OxsNGnSBHv37gUATJ06FVFRUYV6fTwWTaSxonAIMS0tDSNHjsTy5cuRmZkJADAyMkJQUBBmzpwJc3NzHSck0k9OTk4YPHgwxowZAwMDA13HeaO0tDR07NgR9vb2ejsiNmTIEPz888+oXLkyKleunCejrs7iLYoSEhIQHx+PKlWqSJ/LU6dOwcrKChUqVCi0HCyaSGN79uzB8+fP0b59e9y6dQutWrXCjRs3pEOIjRs31nVEyfPnz9WO07NYIno7GxsbnD59GmXLltV1lLcqCiNijRo1euM2hUKBAwcOFGIa0gYWTaQV+nYIkYjez7Bhw2Bvb49vvvlG11HeqqiMiNGHhRPBSStsbGx0HYGItCA7OxszZszAnj179PqQUkZGBjp37syCiQoVR5qIiEhSVA4pFZURMfqwsGgiIqIiZ/Dgwfj5559RpUoVvR4Row8LiyYiIipyisqIGH1YWDQRERERycAZdEREREQysGgiIiIikoFFExEREZEMLJqIiIiIZGDRRERERCQDiyYi+igFBARAoVCgf//+ebYFBwdDoVAgICCg8IMRkd5i0UREHy0XFxesX78eL168kNpevnyJtWvXonTp0jpMRkT6iEUTEX20PvvsM7i4uGDLli1S25YtW1C6dGlUq1ZNasvJycHUqVPh7u4OpVKJKlWqYPPmzdL2p0+folu3brC3t4dSqUT58uWxYsWKQn0tRFTwWDQR0Uetd+/eagXO8uXLERgYqNZn6tSp+PnnnxEeHo6YmBgMGzYM3bt3x6FDhwAA48ePx5UrV7B7925cvXoVS5YsgZ2dXaG+DiIqeFwRnIg+SgEBAUhKSsKyZcvg4uKC69evAwAqVKiA+/fvo0+fPrC2tsZ///tf2NjYYN++ffD29pYe36dPH6SlpWHt2rX48ssvYWdnh+XLl+vq5RBRITDSdQAiIl2yt7dHy5YtsXLlSggh0LJlS7VRolu3biEtLQ1ffPGF2uMyMjKkQ3gDBgxAhw4dcPbsWTRt2hRt27ZFnTp1CvV1EFHBY9FERB+93r17IyQkBACwePFitW2pqakAgF27dqFkyZJq20xNTQEAzZs3x7179/D7778jMjISTZo0QXBwMGbNmlUI6YmosLBoIqKPXrNmzZCRkQGFQgE/Pz+1bZ6enjA1NUVcXBwaNGjwxn3Y29ujV69e6NWrF+rXr49Ro0axaCL6wLBoIqKPnqGhIa5evSp9/TpLS0uMHDkSw4YNQ05ODurVq4fk5GQcPXoUVlZW6NWrF0JDQ1G9enVUqlQJ6enp2LlzJypWrKiLl0JEBYhFExERACsrqzdumzRpEuzt7TF16lTcuXMH1tbW+Oyzz/DNN98AAExMTDB27FjcvXsXSqUS9evXx/r16wsrOhEVEp49R0RERCQD12kiIiIikoFFExEREZEMLJqIiIiIZGDRRERERCQDiyYiIiIiGVg0EREREcnAoomIiIhIBhZNRERERDKwaCIiIiKSgUUTERERkQwsmoiIiIhk+D+oywYI4CVI6wAAAABJRU5ErkJggg==",
      "text/plain": [
       "<Figure size 640x480 with 1 Axes>"
      ]
     },
     "metadata": {},
     "output_type": "display_data"
    }
   ],
   "source": [
    "# Traza un gráfico de barras para visualizarlo.\n",
    "sms_messages.plot(kind='bar', x='month', xlabel='Mes', ylabel='Mensajes Promedio', title='Mensajes Surf vs Ultimate')"
   ]
  },
  {
   "cell_type": "code",
   "execution_count": 107,
   "metadata": {
    "id": "GRI_R7xF0q1L"
   },
   "outputs": [
    {
     "data": {
      "image/png": "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",
      "text/plain": [
       "<Figure size 640x480 with 1 Axes>"
      ]
     },
     "metadata": {},
     "output_type": "display_data"
    }
   ],
   "source": [
    "# Compara el número de mensajes mensuales que necesitan los usuarios de cada plan. Traza un histograma.\n",
    "sms_messages = tripleplay_extra.groupby('plan')['sms'].plot(kind='hist', bins=20, alpha=0.7, title='Cantidad de Mensajes', legend=True)"
    "sms_messages = tripleplay_extra.groupby('plan')['sms'].plot(kind='hist', bins=20, alpha=0.7, title='Cantidad de Mensajes', legend=True)"
   ]
  },
  {
   "cell_type": "code",
   "execution_count": 108,
   "metadata": {},
   "outputs": [
    {
     "name": "stdout",
     "output_type": "stream",
     "text": [
      "   month       mean\n",
      "0    apr  18.774648\n",
      "1    aug  31.733906\n",
      "2    dec  40.663113\n",
      "3    feb  16.187500\n",
      "4    jan  13.833333\n",
      "5    jul  28.933333\n",
      "6    jun  26.618056\n",
      "7    mar  16.971429\n",
      "8    may  26.226415\n",
      "9    nov  34.312195\n",
      "10   oct  35.571429\n",
      "11   sep  32.953571\n",
      "\n",
      "   month     variance\n",
      "0    apr   511.148491\n",
      "1    aug  1095.446130\n",
      "2    dec  1493.270880\n",
      "3    feb   421.229167\n",
      "4    jan   238.966667\n",
      "5    jul   938.051397\n",
      "6    jun   893.706245\n",
      "7    mar   441.734454\n",
      "8    may   972.291105\n",
      "9    nov  1122.582003\n",
      "10   oct  1261.771930\n",
      "11   sep  1025.442281\n"
     ]
    }
   ],
   "source": [
    "# Calcula la media y la varianza de la duración mensual de llamadas.\n",
    "median_sms = tripleplay_extra.groupby(['month'])['sms'].mean().reset_index()\n",
    "variace_sms = tripleplay_extra.groupby(['month'])['sms'].var().reset_index()\n",
    "median_sms = tripleplay_extra.groupby(['month'])['sms'].mean().reset_index()\n",
    "variace_sms = tripleplay_extra.groupby(['month'])['sms'].var().reset_index()\n",
    "\n",
    "# Renombramos las columnas\n",
    "median_sms.columns = ['month', 'mean']\n",
    "variace_sms.columns = ['month', 'variance']\n",
    "\n",
    "# Imprimimos la media y la varianza\n",
    "print(median_sms)\n",
    "print()\n",
    "print(variace_sms)"
   ]
  },
  {
   "cell_type": "code",
   "execution_count": null,
   "metadata": {
    "id": "dtFwCGAp0q1M"
   },
   "outputs": [],
   "source": [
    "# Traza un diagrama de caja para visualizar la distribución de la cantidad mensual de mensajes\n",
    "sns.boxplot(sms_messages)"
   ]
  },
  {
   "cell_type": "markdown",
   "metadata": {
    "id": "390SSL480q1M"
   },
   "source": [
    "[Elabora las conclusiones sobre el comportamiento de los usuarios con respecto a los mensajes. ¿Su comportamiento varía en función del plan?]"
   ]
  },
  {
   "cell_type": "markdown",
   "metadata": {},
   "source": [
    "[Volver a Contenido](#back)"
   ]
  },
  {
   "cell_type": "markdown",
   "metadata": {
    "id": "42YSypXz0q1M"
   },
   "source": [
    "### 1.13.3 Internet <a id='data_consumption'></a>"
   ]
  },
  {
   "cell_type": "code",
   "execution_count": 111,
   "metadata": {
    "id": "lSuKPtjh0q1M"
   },
   "outputs": [
    {
     "data": {
      "text/html": [
       "<div>\n",
       "<style scoped>\n",
       "    .dataframe tbody tr th:only-of-type {\n",
       "        vertical-align: middle;\n",
       "    }\n",
       "\n",
       "    .dataframe tbody tr th {\n",
       "        vertical-align: top;\n",
       "    }\n",
       "\n",
       "    .dataframe thead th {\n",
       "        text-align: right;\n",
       "    }\n",
       "</style>\n",
       "<table border=\"1\" class=\"dataframe\">\n",
       "  <thead>\n",
       "    <tr style=\"text-align: right;\">\n",
       "      <th>plan</th>\n",
       "      <th>month</th>\n",
       "      <th>surf</th>\n",
       "      <th>ultimate</th>\n",
       "    </tr>\n",
       "  </thead>\n",
       "  <tbody>\n",
       "    <tr>\n",
       "      <th>0</th>\n",
       "      <td>apr</td>\n",
       "      <td>1444.0</td>\n",
       "      <td>807.0</td>\n",
       "    </tr>\n",
       "    <tr>\n",
       "      <th>1</th>\n",
       "      <td>aug</td>\n",
       "      <td>6525.0</td>\n",
       "      <td>3026.0</td>\n",
       "    </tr>\n",
       "    <tr>\n",
       "      <th>2</th>\n",
       "      <td>dec</td>\n",
       "      <td>13976.0</td>\n",
       "      <td>6701.0</td>\n",
       "    </tr>\n",
       "    <tr>\n",
       "      <th>3</th>\n",
       "      <td>feb</td>\n",
       "      <td>270.0</td>\n",
       "      <td>278.0</td>\n",
       "    </tr>\n",
       "    <tr>\n",
       "      <th>4</th>\n",
       "      <td>jan</td>\n",
       "      <td>28.0</td>\n",
       "      <td>61.0</td>\n",
       "    </tr>\n",
       "    <tr>\n",
       "      <th>5</th>\n",
       "      <td>jul</td>\n",
       "      <td>4872.0</td>\n",
       "      <td>2339.0</td>\n",
       "    </tr>\n",
       "    <tr>\n",
       "      <th>6</th>\n",
       "      <td>jun</td>\n",
       "      <td>3639.0</td>\n",
       "      <td>1685.0</td>\n",
       "    </tr>\n",
       "    <tr>\n",
       "      <th>7</th>\n",
       "      <td>mar</td>\n",
       "      <td>719.0</td>\n",
       "      <td>483.0</td>\n",
       "    </tr>\n",
       "    <tr>\n",
       "      <th>8</th>\n",
       "      <td>may</td>\n",
       "      <td>2606.0</td>\n",
       "      <td>1140.0</td>\n",
       "    </tr>\n",
       "    <tr>\n",
       "      <th>9</th>\n",
       "      <td>nov</td>\n",
       "      <td>11308.0</td>\n",
       "      <td>5173.0</td>\n",
       "    </tr>\n",
       "    <tr>\n",
       "      <th>10</th>\n",
       "      <td>oct</td>\n",
       "      <td>9951.0</td>\n",
       "      <td>4405.0</td>\n",
       "    </tr>\n",
       "    <tr>\n",
       "      <th>11</th>\n",
       "      <td>sep</td>\n",
       "      <td>7803.0</td>\n",
       "      <td>3480.0</td>\n",
       "    </tr>\n",
       "  </tbody>\n",
       "</table>\n",
       "</div>"
      ],
      "text/plain": [
       "plan month     surf  ultimate\n",
       "0      apr   1444.0     807.0\n",
       "1      aug   6525.0    3026.0\n",
       "2      dec  13976.0    6701.0\n",
       "3      feb    270.0     278.0\n",
       "4      jan     28.0      61.0\n",
       "5      jul   4872.0    2339.0\n",
       "6      jun   3639.0    1685.0\n",
       "7      mar    719.0     483.0\n",
       "8      may   2606.0    1140.0\n",
       "9      nov  11308.0    5173.0\n",
       "10     oct   9951.0    4405.0\n",
       "11     sep   7803.0    3480.0"
      ]
     },
     "execution_count": 111,
     "metadata": {},
     "output_type": "execute_result"
    }
   ],
   "source": [
    "# Compara la cantidad de tráfico de Internet consumido por usuarios por plan\n",
    "internet_traffic = tripleplay_extra.groupby(['month', 'plan'])['gb'].sum().unstack().reset_index()\n",
    "internet_traffic = tripleplay_extra.groupby(['month', 'plan'])['gb'].sum().unstack().reset_index()\n",
    "internet_traffic"
   ]
  },
  {
   "cell_type": "code",
   "execution_count": 112,
   "metadata": {
    "id": "wnh8jYXi0q1N"
   },
   "outputs": [
    {
     "data": {
      "text/plain": [
       "<Axes: title={'center': 'Gigabytes Surf vs Ultimate'}, xlabel='Mes', ylabel='Gigabytes'>"
      ]
     },
     "execution_count": 112,
     "metadata": {},
     "output_type": "execute_result"
    },
    {
     "data": {
      "image/png": "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",
      "text/plain": [
       "<Figure size 640x480 with 1 Axes>"
      ]
     },
     "metadata": {},
     "output_type": "display_data"
    }
   ],
   "source": [
    "# Traza un gráfico de barras para visualizarlo.\n",
    "internet_traffic.plot(kind='bar', x='month', xlabel='Mes', ylabel='Gigabytes', title='Gigabytes Surf vs Ultimate')"
    "internet_traffic.plot(kind='bar', x='month', xlabel='Mes', ylabel='Gigabytes', title='Gigabytes Surf vs Ultimate')"
   ]
  },
  {
   "cell_type": "code",
   "execution_count": 113,
   "metadata": {
    "id": "5VlyJ9ry0q1N"
   },
   "outputs": [
    {
     "data": {
      "image/png": "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",
      "text/plain": [
       "<Figure size 640x480 with 1 Axes>"
      ]
     },
     "metadata": {},
     "output_type": "display_data"
    }
   ],
   "source": [
    "# Compara el número de megabytes mensuales que necesitan los usuarios de cada plan. Traza un histograma.\n",
    "internet_traffic = tripleplay_extra.groupby('plan')['gb'].plot(kind='hist', bins=20, alpha=0.7, title='Cantidad de Gigabytes', legend=True)"
    "internet_traffic = tripleplay_extra.groupby('plan')['gb'].plot(kind='hist', bins=20, alpha=0.7, title='Cantidad de Gigabytes', legend=True)"
   ]
  },
  {
   "cell_type": "code",
   "execution_count": 114,
   "metadata": {},
   "outputs": [
    {
     "name": "stdout",
     "output_type": "stream",
     "text": [
      "   month       mean\n",
      "0    apr  31.704225\n",
      "1    aug  40.991416\n",
      "2    dec  44.087420\n",
      "3    feb  34.250000\n",
      "4    jan  14.833333\n",
      "5    jul  40.061111\n",
      "6    jun  36.972222\n",
      "7    mar  34.342857\n",
      "8    may  35.339623\n",
      "9    nov  40.197561\n",
      "10   oct  41.854227\n",
      "11   sep  40.296429\n",
      "\n",
      "   month    variance\n",
      "0    apr  363.439839\n",
      "1    aug  333.413719\n",
      "2    dec  320.695333\n",
      "3    feb  297.000000\n",
      "4    jan   61.366667\n",
      "5    jul  310.940379\n",
      "6    jun  264.628594\n",
      "7    mar  456.467227\n",
      "8    may  300.912129\n",
      "9    nov  277.596571\n",
      "10   oct  279.440677\n",
      "11   sep  240.553392\n"
     ]
    }
   ],
   "source": [
    "# Calcula la media y la varianza de la duración mensual de llamadas.\n",
    "median_gb = tripleplay_extra.groupby(['month'])['gb'].mean().reset_index()\n",
    "variace_gb = tripleplay_extra.groupby(['month'])['gb'].var().reset_index()\n",
    "\n",
    "# Renombramos las columnas\n",
    "median_gb.columns = ['month', 'mean']\n",
    "variace_gb.columns = ['month', 'variance']\n",
    "\n",
    "# Imprimimos la media y la varianza\n",
    "print(median_gb)\n",
    "print()\n",
    "print(variace_gb)"
   ]
  },
  {
   "cell_type": "code",
   "execution_count": null,
   "metadata": {},
   "outputs": [],
   "source": [
    "# Traza un diagrama de caja para visualizar la distribución de la cantidad mensual de tráfico de internet\n",
    "sns.boxplot(internet_traffic)"
   ]
  },
  {
   "cell_type": "markdown",
   "metadata": {
    "id": "UN9zwuMP0q1N"
   },
   "source": [
    "[Elabora las conclusiones sobre cómo los usuarios tienden a consumir el tráfico de Internet. ¿Su comportamiento varía en función del plan?]"
   ]
  },
  {
   "cell_type": "markdown",
   "metadata": {},
   "source": [
    "<div class=\"alert alert-block alert-success\">\n",
    "<b>Comentario revisor</b> <a class=\"tocSkip\"></a>\n",
    "\n",
    " Muy buena prática la de usar distintos tipos de gráficas identificar algunos hallazgos y llegar a conclusiones. En este caso las gráficas de box-plots nos ayudan a identificar outiers que pueden sesgar nuestros resultados, especificamente las pruebas de hipótesis. Es por ello que con estás gráficas puedes complementar el análisis eliminando los valores atipicos. \n",
    "</div>"
   ]
  },
  {
   "cell_type": "markdown",
   "metadata": {},
   "source": [
    "[Volver a Contenido](#back)"
   ]
  },
  {
   "cell_type": "markdown",
   "metadata": {
    "id": "tCijq3260q1N"
   },
   "source": [
    "## 1.14 Ingreso <a id='incomes'></a>"
   ]
  },
  {
   "cell_type": "markdown",
   "metadata": {
    "id": "9nq5IAcy0q1O"
   },
   "source": [
    "[Del mismo modo que has estudiado el comportamiento de los usuarios, describe estadísticamente los ingresos de los planes.]"
   ]
  },
  {
   "cell_type": "markdown",
   "metadata": {
    "id": "tz-dq_V00q1O"
   },
   "source": [
    "<div class=\"alert alert-block alert-danger\">\n",
    "<b>Comentario revisor</b> <a class=\"tocSkip\"></a>\n",
    "\n",
    "Hola, Tom! Has realizado une excelente trabajo con el proyecto. Ya solamente es necesario dearrollar el análisis de la variable ingreso y las pruebas de hipótesis. Recuerda que cualquier pregunta me la puedes dejar para respodnerla"
   ]
  },
  {
   "cell_type": "code",
   "execution_count": null,
   "metadata": {
    "id": "0Y1v8ZUz0q1P"
   },
   "outputs": [],
   "source": []
  },
  {
   "cell_type": "code",
   "execution_count": null,
   "metadata": {
    "id": "bYmwxyVh0q1P"
   },
   "outputs": [],
   "source": []
  },
  {
   "cell_type": "markdown",
   "metadata": {
    "id": "KAFidcXZ0q1P"
   },
   "source": [
    "[Elabora las conclusiones sobre cómo difiere el ingreso entre los planes.]"
   ]
  },
  {
   "cell_type": "markdown",
   "metadata": {},
   "source": [
    "[Volver a Contenido](#back)"
   ]
  },
  {
   "cell_type": "markdown",
   "metadata": {
    "id": "ajJ7VKeI0q1Q"
   },
   "source": [
    "## 1.15 Prueba las hipótesis estadísticas <a id='hypotesis'></a>"
   ]
  },
  {
   "cell_type": "markdown",
   "metadata": {
    "id": "AdXAZ-yL0q1Q"
   },
   "source": [
    "[Prueba la hipótesis de que son diferentes los ingresos promedio procedentes de los usuarios de los planes de llamada Ultimate y Surf.]"
   ]
  },
  {
   "cell_type": "markdown",
   "metadata": {
    "id": "IQwa_hsh0q1Q"
   },
   "source": [
    "[Elabora las hipótesis nula y alternativa, escoge la prueba estadística, determina el valor alfa.]"
   ]
  },
  {
   "cell_type": "code",
   "execution_count": null,
   "metadata": {
    "id": "nFoPNlPq0q1R"
   },
   "outputs": [],
   "source": [
    "# Prueba las hipótesis\n",
    "\n"
   ]
  },
  {
   "cell_type": "markdown",
   "metadata": {
    "id": "tCcAruM60q1R"
   },
   "source": [
    "[Prueba la hipótesis de que el ingreso promedio de los usuarios del área NY-NJ es diferente al de los usuarios de otras regiones.]"
   ]
  },
  {
   "cell_type": "markdown",
   "metadata": {
    "id": "LsBgitqj0q1R"
   },
   "source": [
    "[Elabora las hipótesis nula y alternativa, escoge la prueba estadística, determina el valor alfa.]"
   ]
  },
  {
   "cell_type": "code",
   "execution_count": null,
   "metadata": {
    "id": "Cqcj7wrZ0q1S"
   },
   "outputs": [],
   "source": [
    "# Prueba las hipótesis\n",
    "\n"
   ]
  },
  {
   "cell_type": "markdown",
   "metadata": {},
   "source": [
    "[Volver a Contenido](#back)"
   ]
  },
  {
   "cell_type": "markdown",
   "metadata": {
    "id": "bbTR8UQO0q1T"
   },
   "source": [
    "## Conclusión general <a id='end'></a>\n",
    "\n",
    "[En esta sección final, enumera tus conclusiones importantes. Asegúrate de que estas abarquen todas las decisiones (suposiciones) importantes que adoptaste y que determinaron la forma elegida para procesar y analizar los datos.]"
   ]
  }
 ],
 "metadata": {
  "ExecuteTimeLog": [
   {
    "duration": 828,
    "start_time": "2021-11-16T09:21:11.304Z"
   },
   {
    "duration": 893,
    "start_time": "2021-11-16T09:21:17.728Z"
   },
   {
    "duration": 1150,
    "start_time": "2021-11-16T09:21:29.568Z"
   },
   {
    "duration": 3,
    "start_time": "2021-11-16T09:24:14.495Z"
   },
   {
    "duration": 120,
    "start_time": "2021-11-16T09:24:46.630Z"
   },
   {
    "duration": 3,
    "start_time": "2021-11-16T09:28:27.882Z"
   },
   {
    "duration": 4,
    "start_time": "2021-11-16T09:29:54.281Z"
   },
   {
    "duration": 3,
    "start_time": "2021-11-16T09:30:45.936Z"
   },
   {
    "duration": 4,
    "start_time": "2021-11-16T09:31:06.300Z"
   },
   {
    "duration": 113,
    "start_time": "2021-11-16T09:31:37.208Z"
   },
   {
    "duration": 143,
    "start_time": "2021-11-16T09:31:48.656Z"
   },
   {
    "duration": 98,
    "start_time": "2021-11-16T09:31:55.678Z"
   },
   {
    "duration": 3,
    "start_time": "2021-11-16T09:32:08.535Z"
   },
   {
    "duration": 111,
    "start_time": "2021-11-16T09:32:10.120Z"
   },
   {
    "duration": 3,
    "start_time": "2021-11-16T09:32:15.732Z"
   },
   {
    "duration": 4,
    "start_time": "2021-11-16T09:32:29.423Z"
   },
   {
    "duration": 3,
    "start_time": "2021-11-16T10:03:03.074Z"
   },
   {
    "duration": 3,
    "start_time": "2021-11-16T10:10:01.288Z"
   },
   {
    "duration": 3,
    "start_time": "2021-11-16T10:10:46.923Z"
   },
   {
    "duration": 121,
    "start_time": "2021-11-16T10:37:46.494Z"
   },
   {
    "duration": 125,
    "start_time": "2021-11-16T10:38:20.632Z"
   },
   {
    "duration": 112,
    "start_time": "2021-11-16T10:46:53.001Z"
   },
   {
    "duration": 110,
    "start_time": "2021-11-16T10:48:25.775Z"
   },
   {
    "duration": 3,
    "start_time": "2021-11-16T10:50:18.720Z"
   },
   {
    "duration": 4,
    "start_time": "2021-11-16T10:50:37.649Z"
   },
   {
    "duration": 2,
    "start_time": "2021-11-16T10:50:51.884Z"
   },
   {
    "duration": 3,
    "start_time": "2021-11-16T10:51:56.237Z"
   },
   {
    "duration": 101,
    "start_time": "2021-11-16T10:53:13.791Z"
   },
   {
    "duration": 3,
    "start_time": "2021-11-16T10:55:59.186Z"
   },
   {
    "duration": 3,
    "start_time": "2021-11-16T10:56:10.751Z"
   },
   {
    "duration": 3,
    "start_time": "2021-11-16T10:56:49.038Z"
   },
   {
    "duration": 3,
    "start_time": "2021-11-16T10:56:49.174Z"
   },
   {
    "duration": 4,
    "start_time": "2021-11-16T10:56:49.414Z"
   },
   {
    "duration": 3,
    "start_time": "2021-11-16T10:56:49.680Z"
   },
   {
    "duration": 3,
    "start_time": "2021-11-16T10:56:50.370Z"
   },
   {
    "duration": 114,
    "start_time": "2021-11-16T10:59:34.518Z"
   },
   {
    "duration": 3,
    "start_time": "2021-11-16T11:01:41.201Z"
   },
   {
    "duration": 116,
    "start_time": "2021-11-16T11:01:48.754Z"
   },
   {
    "duration": 3,
    "start_time": "2021-11-16T11:02:16.685Z"
   },
   {
    "duration": 3,
    "start_time": "2021-11-16T11:02:19.479Z"
   },
   {
    "duration": 3,
    "start_time": "2021-11-16T11:02:47.067Z"
   },
   {
    "duration": 3,
    "start_time": "2021-11-16T11:02:49.353Z"
   },
   {
    "duration": 3,
    "start_time": "2021-11-16T11:03:07.835Z"
   },
   {
    "duration": 3,
    "start_time": "2021-11-16T11:03:07.953Z"
   },
   {
    "duration": 112,
    "start_time": "2021-11-16T11:07:52.072Z"
   },
   {
    "duration": 187,
    "start_time": "2021-11-16T11:09:23.468Z"
   },
   {
    "duration": 4,
    "start_time": "2021-11-16T11:10:01.455Z"
   },
   {
    "duration": 3,
    "start_time": "2021-11-16T11:10:05.069Z"
   },
   {
    "duration": 4,
    "start_time": "2021-11-16T11:10:13.376Z"
   },
   {
    "duration": 3,
    "start_time": "2021-11-16T11:10:14.434Z"
   },
   {
    "duration": 3,
    "start_time": "2021-11-16T11:10:22.853Z"
   },
   {
    "duration": 4,
    "start_time": "2021-11-16T11:27:29.279Z"
   },
   {
    "duration": 4,
    "start_time": "2021-11-16T11:29:08.919Z"
   },
   {
    "duration": 118,
    "start_time": "2021-11-16T11:29:46.703Z"
   },
   {
    "duration": 437,
    "start_time": "2021-11-16T11:36:02.181Z"
   },
   {
    "duration": 157,
    "start_time": "2021-11-16T11:36:14.388Z"
   },
   {
    "duration": 207,
    "start_time": "2021-11-16T11:47:15.898Z"
   },
   {
    "duration": 3,
    "start_time": "2021-11-16T11:53:52.092Z"
   },
   {
    "duration": 3,
    "start_time": "2021-11-16T11:53:52.236Z"
   },
   {
    "duration": 3,
    "start_time": "2021-11-16T11:59:12.005Z"
   },
   {
    "duration": 112,
    "start_time": "2021-11-16T12:00:33.446Z"
   },
   {
    "duration": 3,
    "start_time": "2021-11-16T12:02:14.453Z"
   },
   {
    "duration": 3,
    "start_time": "2021-11-16T12:02:39.512Z"
   },
   {
    "duration": 106,
    "start_time": "2021-11-16T12:03:03.460Z"
   },
   {
    "duration": 3,
    "start_time": "2021-11-17T20:37:21.139Z"
   },
   {
    "duration": 3,
    "start_time": "2021-11-17T20:37:22.229Z"
   },
   {
    "duration": 3,
    "start_time": "2021-11-17T20:38:38.806Z"
   },
   {
    "duration": 3,
    "start_time": "2021-11-17T20:38:41.958Z"
   },
   {
    "duration": 3,
    "start_time": "2021-11-17T20:43:46.551Z"
   },
   {
    "duration": 4,
    "start_time": "2021-11-17T20:58:21.835Z"
   },
   {
    "duration": 3,
    "start_time": "2021-11-17T20:59:21.872Z"
   },
   {
    "duration": 4,
    "start_time": "2021-11-17T20:59:45.352Z"
   },
   {
    "duration": 4,
    "start_time": "2021-11-17T20:59:49.646Z"
   },
   {
    "duration": 159,
    "start_time": "2021-11-17T21:02:26.949Z"
   },
   {
    "duration": 3,
    "start_time": "2021-11-17T21:03:53.461Z"
   },
   {
    "duration": 3,
    "start_time": "2021-11-17T21:03:53.694Z"
   },
   {
    "duration": 3,
    "start_time": "2021-11-17T21:05:28.145Z"
   },
   {
    "duration": 116,
    "start_time": "2021-11-17T21:05:57.787Z"
   },
   {
    "duration": 3,
    "start_time": "2021-11-17T21:06:37.993Z"
   },
   {
    "duration": 3,
    "start_time": "2021-11-17T21:06:38.261Z"
   },
   {
    "duration": 3,
    "start_time": "2021-11-17T21:11:54.358Z"
   },
   {
    "duration": 3,
    "start_time": "2021-11-17T21:12:43.846Z"
   },
   {
    "duration": 4,
    "start_time": "2021-11-17T21:13:08.773Z"
   },
   {
    "duration": 3,
    "start_time": "2021-11-17T21:14:44.441Z"
   },
   {
    "duration": 3,
    "start_time": "2021-11-17T21:15:42.059Z"
   },
   {
    "duration": 4,
    "start_time": "2021-11-17T21:15:51.995Z"
   },
   {
    "duration": 3,
    "start_time": "2021-11-17T21:15:53.923Z"
   },
   {
    "duration": 3,
    "start_time": "2021-11-17T21:15:55.282Z"
   },
   {
    "duration": 3,
    "start_time": "2021-11-17T21:16:28.492Z"
   },
   {
    "duration": 3,
    "start_time": "2021-11-17T21:16:32.603Z"
   },
   {
    "duration": 3,
    "start_time": "2021-11-17T21:17:06.941Z"
   },
   {
    "duration": 98,
    "start_time": "2021-11-17T21:18:05.733Z"
   },
   {
    "duration": 4,
    "start_time": "2021-11-17T21:21:35.255Z"
   },
   {
    "duration": 3,
    "start_time": "2021-11-17T21:21:37.804Z"
   },
   {
    "duration": 4,
    "start_time": "2021-11-17T21:23:06.071Z"
   },
   {
    "duration": 3,
    "start_time": "2021-11-17T21:23:24.799Z"
   },
   {
    "duration": 3,
    "start_time": "2021-11-17T21:23:32.591Z"
   },
   {
    "duration": 98,
    "start_time": "2021-11-17T21:28:31.559Z"
   },
   {
    "duration": 3,
    "start_time": "2021-11-17T21:28:45.448Z"
   },
   {
    "duration": 3,
    "start_time": "2021-11-17T21:29:17.303Z"
   },
   {
    "duration": 3,
    "start_time": "2021-11-17T21:29:29.617Z"
   },
   {
    "duration": 3,
    "start_time": "2021-11-17T21:29:32.681Z"
   },
   {
    "duration": 3,
    "start_time": "2021-11-17T21:36:11.474Z"
   },
   {
    "duration": 3,
    "start_time": "2021-11-17T21:36:14.791Z"
   },
   {
    "duration": 3,
    "start_time": "2021-11-17T21:36:53.943Z"
   },
   {
    "duration": 3,
    "start_time": "2021-11-17T21:36:56.165Z"
   },
   {
    "duration": 4,
    "start_time": "2021-11-17T21:37:16.590Z"
   },
   {
    "duration": 3,
    "start_time": "2021-11-17T21:37:22.702Z"
   },
   {
    "duration": 4,
    "start_time": "2021-11-17T21:38:03.479Z"
   },
   {
    "duration": 3,
    "start_time": "2021-11-17T21:38:08.601Z"
   },
   {
    "duration": 3,
    "start_time": "2021-11-17T21:38:12.928Z"
   },
   {
    "duration": 3,
    "start_time": "2021-11-17T21:38:48.896Z"
   },
   {
    "duration": 2,
    "start_time": "2021-11-17T21:38:49.171Z"
   },
   {
    "duration": 4,
    "start_time": "2021-11-17T21:39:57.889Z"
   },
   {
    "duration": 3,
    "start_time": "2021-11-17T21:39:58.057Z"
   },
   {
    "duration": 3,
    "start_time": "2021-11-17T21:41:20.108Z"
   },
   {
    "duration": 3,
    "start_time": "2021-11-17T21:41:20.629Z"
   },
   {
    "duration": 3,
    "start_time": "2021-11-17T21:42:49.136Z"
   },
   {
    "duration": 3,
    "start_time": "2021-11-17T21:43:15.137Z"
   },
   {
    "duration": 4,
    "start_time": "2021-11-17T21:43:16.766Z"
   },
   {
    "duration": 4,
    "start_time": "2021-11-17T21:43:31.711Z"
   },
   {
    "duration": 3,
    "start_time": "2021-11-17T21:43:36.312Z"
   },
   {
    "duration": 4,
    "start_time": "2021-11-17T21:45:08.825Z"
   },
   {
    "duration": 4,
    "start_time": "2021-11-17T21:45:10.119Z"
   },
   {
    "duration": 4,
    "start_time": "2021-11-17T21:45:13.748Z"
   },
   {
    "duration": 3,
    "start_time": "2021-11-17T21:45:22.219Z"
   },
   {
    "duration": 3,
    "start_time": "2021-11-17T21:45:33.412Z"
   },
   {
    "duration": 2,
    "start_time": "2021-11-17T21:46:01.885Z"
   },
   {
    "duration": 3,
    "start_time": "2021-11-17T21:46:03.628Z"
   },
   {
    "duration": 107,
    "start_time": "2021-11-17T21:47:32.512Z"
   },
   {
    "duration": 103,
    "start_time": "2021-11-17T21:50:36.243Z"
   },
   {
    "duration": 3,
    "start_time": "2021-11-18T06:28:31.440Z"
   },
   {
    "duration": 3,
    "start_time": "2021-11-18T06:29:00.168Z"
   },
   {
    "duration": 3,
    "start_time": "2021-11-18T06:31:27.008Z"
   },
   {
    "duration": 2,
    "start_time": "2021-11-18T06:35:34.288Z"
   },
   {
    "duration": 2,
    "start_time": "2021-11-18T06:38:04.527Z"
   }
  ],
  "colab": {
   "provenance": []
  },
  "kernelspec": {
   "display_name": "Python 3",
   "language": "python",
   "name": "python3"
  },
  "language_info": {
   "codemirror_mode": {
    "name": "ipython",
    "version": 3
   },
   "file_extension": ".py",
   "mimetype": "text/x-python",
   "name": "python",
   "nbconvert_exporter": "python",
   "pygments_lexer": "ipython3",
   "version": "3.11.9"
  },
  "toc": {
   "base_numbering": 1,
   "nav_menu": {},
   "number_sections": true,
   "sideBar": true,
   "skip_h1_title": false,
   "title_cell": "Table of Contents",
   "title_sidebar": "Contents",
   "toc_cell": false,
   "toc_position": {},
   "toc_section_display": true,
   "toc_window_display": true
  }
 },
 "nbformat": 4,
 "nbformat_minor": 1
}
